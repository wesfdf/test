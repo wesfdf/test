{
  "cells": [
    {
      "cell_type": "markdown",
      "source": [
        "##Vorlage für Lauritz"
      ],
      "metadata": {
        "id": "dwGjITgPNFC8"
      }
    },
    {
      "cell_type": "code",
      "source": [
        "print(\"Hallo Lauritz\")"
      ],
      "metadata": {
        "id": "l7tZcLv3NKOb",
        "outputId": "f2e0c5bc-170b-48ba-b240-802a8774d442",
        "colab": {
          "base_uri": "https://localhost:8080/"
        }
      },
      "execution_count": 1,
      "outputs": [
        {
          "output_type": "stream",
          "name": "stdout",
          "text": [
            "Hallo Lauritz\n"
          ]
        }
      ]
    },
    {
      "cell_type": "markdown",
      "source": [
        "#Crawlen der Website"
      ],
      "metadata": {
        "id": "JKzNtVruVxM4"
      }
    },
    {
      "cell_type": "code",
      "source": [
        "import requests\n",
        "from bs4 import BeautifulSoup"
      ],
      "metadata": {
        "id": "dLivr-tCNQ1h"
      },
      "execution_count": 2,
      "outputs": []
    },
    {
      "cell_type": "code",
      "source": [
        "import sys\n",
        "import numpy as np\n",
        "sys.setrecursionlimit(1000000)"
      ],
      "metadata": {
        "id": "mhE83IhZN_dy"
      },
      "execution_count": 37,
      "outputs": []
    },
    {
      "cell_type": "code",
      "source": [
        "plainText0 = str(BeautifulSoup(requests.get(\"https://www.gruenderland.bayern/rest/stmwiaddress-address/startups/\").text, 'html.parser'))"
      ],
      "metadata": {
        "id": "EIhuvhuHNQsh"
      },
      "execution_count": 32,
      "outputs": []
    },
    {
      "cell_type": "code",
      "source": [
        "plainText=plainText0\n",
        "Firmen=[]\n",
        "while True:\n",
        "  strm3=\"\\\"name\\\":\\\"\"\n",
        "  i3ma = int(plainText.find(strm3))\n",
        "  strm4 = \"\\\",\\\"\"\n",
        "  i3mb = int(plainText[i3ma:].find(strm4))\n",
        "  if (i3ma ==-1 or i3mb==-1):\n",
        "    break\n",
        "  Firmen=np.append(Firmen,plainText[i3ma+len(strm3):i3ma+i3mb])\n",
        "  plainText=plainText[i3ma+len(strm3):]"
      ],
      "metadata": {
        "id": "Ayfs9veTOncq"
      },
      "execution_count": 39,
      "outputs": []
    },
    {
      "cell_type": "markdown",
      "source": [
        "#Vergleich mit alter Liste:"
      ],
      "metadata": {
        "id": "G8JnVIZwS7OW"
      }
    },
    {
      "cell_type": "code",
      "source": [
        "FirmenAlt=Firmen[:-10]"
      ],
      "metadata": {
        "id": "NrmriD8QS6W9"
      },
      "execution_count": 53,
      "outputs": []
    },
    {
      "cell_type": "code",
      "source": [
        "Neu=set(Firmen).difference(set(FirmenAlt))\n",
        "L1=len(Neu)"
      ],
      "metadata": {
        "id": "afyoVDuVUFX_"
      },
      "execution_count": 59,
      "outputs": []
    },
    {
      "cell_type": "code",
      "source": [
        "Neu2=set(FirmenAlt).difference(set(Firmen))\n",
        "if Neu2==set():\n",
        "  L2=0\n",
        "  Neu2=[]"
      ],
      "metadata": {
        "id": "86qyNyodUJcX"
      },
      "execution_count": 58,
      "outputs": []
    },
    {
      "cell_type": "code",
      "source": [
        "print(\"Es gibt \"+str(L1)+\" neue Einträge in der Datenbank: \"+str(Neu))\n",
        "print(str(L2)+\" Einträge sind aus der Datenbank verschwunden: \"+str(Neu2))"
      ],
      "metadata": {
        "id": "ZYO3ojkjUjJA",
        "outputId": "36ba39f3-a6ea-4a1b-97cc-6ade6bf199c2",
        "colab": {
          "base_uri": "https://localhost:8080/"
        }
      },
      "execution_count": 62,
      "outputs": [
        {
          "output_type": "stream",
          "name": "stdout",
          "text": [
            "Es gibt 10 neue Einträge in der Datenbank: {'Microist GmbH', 'FALTBAR Vertriebs GmbH', 'ing+', 'DIE BIOBUDE', 'Pixergy', 'datavi', 'Achtbit Media GmbH', 'ecoro GmbH', 'immerVR GmbH', 'BuyRegio'}\n",
            "0 Einträge sind aus der Datenbank verschwunden: []\n"
          ]
        }
      ]
    }
  ],
  "metadata": {
    "colab": {
      "collapsed_sections": [],
      "name": "Willkommen bei Colaboratory",
      "provenance": []
    },
    "kernelspec": {
      "display_name": "Python 3",
      "name": "python3"
    }
  },
  "nbformat": 4,
  "nbformat_minor": 0
}