{
  "cells": [
    {
      "cell_type": "markdown",
      "source": [
        "##Vorlage für Lauritz"
      ],
      "metadata": {
        "id": "dwGjITgPNFC8"
      }
    },
    {
      "cell_type": "code",
      "source": [
        "print(\"Hallo Lauritz\")"
      ],
      "metadata": {
        "id": "l7tZcLv3NKOb",
        "outputId": "bccfa9f7-d738-40e3-a069-cca8ec8b17c5",
        "colab": {
          "base_uri": "https://localhost:8080/"
        }
      },
      "execution_count": 1,
      "outputs": [
        {
          "output_type": "stream",
          "name": "stdout",
          "text": [
            "Hallo Lauritz\n"
          ]
        }
      ]
    },
    {
      "cell_type": "markdown",
      "source": [
        "#Crawlen der Website\n",
        "##Gründerland"
      ],
      "metadata": {
        "id": "JKzNtVruVxM4"
      }
    },
    {
      "cell_type": "code",
      "source": [
        "import requests\n",
        "from bs4 import BeautifulSoup"
      ],
      "metadata": {
        "id": "dLivr-tCNQ1h"
      },
      "execution_count": 2,
      "outputs": []
    },
    {
      "cell_type": "code",
      "source": [
        "import sys\n",
        "import numpy as np\n",
        "sys.setrecursionlimit(1000000)"
      ],
      "metadata": {
        "id": "mhE83IhZN_dy"
      },
      "execution_count": 3,
      "outputs": []
    },
    {
      "cell_type": "code",
      "source": [
        "plainText0 = str(BeautifulSoup(requests.get(\"https://www.gruenderland.bayern/rest/stmwiaddress-address/startups/\").text, 'html.parser'))"
      ],
      "metadata": {
        "id": "EIhuvhuHNQsh"
      },
      "execution_count": 4,
      "outputs": []
    },
    {
      "cell_type": "code",
      "source": [
        "plainText=plainText0\n",
        "Firmen=[]\n",
        "while True:\n",
        "  strm3=\"\\\"name\\\":\\\"\"\n",
        "  i3ma = int(plainText.find(strm3))\n",
        "  strm4 = \"\\\",\\\"\"\n",
        "  i3mb = int(plainText[i3ma:].find(strm4))\n",
        "  if (i3ma ==-1 or i3mb==-1):\n",
        "    break\n",
        "  Firmen=np.append(Firmen,plainText[i3ma+len(strm3):i3ma+i3mb])\n",
        "  plainText=plainText[i3ma+len(strm3):]"
      ],
      "metadata": {
        "id": "Ayfs9veTOncq"
      },
      "execution_count": 5,
      "outputs": []
    },
    {
      "cell_type": "markdown",
      "source": [
        "##Speicherung der Firmennamen in .txt"
      ],
      "metadata": {
        "id": "Jk5iKrz9P_-K"
      }
    },
    {
      "cell_type": "code",
      "source": [
        "import datetime\n",
        "today = datetime.date.today()\n",
        "np.savetxt('GruenderLand_Liste_'+str(today.year)+'_'+str(today.month)+'_'+str(today.day)+'.txt', Firmen, delimiter='  ', header='string', comments='', fmt='%s')"
      ],
      "metadata": {
        "id": "mx-iLcHxQGGT"
      },
      "execution_count": 16,
      "outputs": []
    },
    {
      "cell_type": "markdown",
      "source": [
        "##Vergleich mit alter Liste:\n",
        "\n",
        "FirmenAlt könnte aus einem Text-file geladen werden.\n",
        "\n",
        "Hier ein Beispiel wie man zwei Listen mit Firmennamen vergleichet:"
      ],
      "metadata": {
        "id": "G8JnVIZwS7OW"
      }
    },
    {
      "cell_type": "code",
      "source": [
        "FirmenAlt=Firmen[:-10]"
      ],
      "metadata": {
        "id": "NrmriD8QS6W9"
      },
      "execution_count": 6,
      "outputs": []
    },
    {
      "cell_type": "code",
      "source": [
        "Neu=set(Firmen).difference(set(FirmenAlt))\n",
        "L1=len(Neu)"
      ],
      "metadata": {
        "id": "afyoVDuVUFX_"
      },
      "execution_count": 7,
      "outputs": []
    },
    {
      "cell_type": "code",
      "source": [
        "Neu2=set(FirmenAlt).difference(set(Firmen))\n",
        "if Neu2==set():\n",
        "  L2=0\n",
        "  Neu2=[]"
      ],
      "metadata": {
        "id": "86qyNyodUJcX"
      },
      "execution_count": 8,
      "outputs": []
    },
    {
      "cell_type": "code",
      "source": [
        "print(\"Es gibt \"+str(L1)+\" neue Einträge in der Datenbank: \"+str(Neu))\n",
        "print(str(L2)+\" Einträge sind aus der Datenbank verschwunden: \"+str(Neu2))"
      ],
      "metadata": {
        "id": "ZYO3ojkjUjJA",
        "outputId": "1c5f0635-3654-49ad-fa5e-53008018b1eb",
        "colab": {
          "base_uri": "https://localhost:8080/"
        }
      },
      "execution_count": 9,
      "outputs": [
        {
          "output_type": "stream",
          "name": "stdout",
          "text": [
            "Es gibt 10 neue Einträge in der Datenbank: {'ing+', 'Microist GmbH', 'ecoro GmbH', 'Pixergy', 'InsiderPie', 'immerVR GmbH', 'BuyRegio', 'FALTBAR Vertriebs GmbH', 'DIE BIOBUDE', 'Retury GmbH'}\n",
            "0 Einträge sind aus der Datenbank verschwunden: []\n"
          ]
        }
      ]
    },
    {
      "cell_type": "markdown",
      "source": [
        "##Direkt aus Quellcode\n",
        "###Berlin-StartUps.net"
      ],
      "metadata": {
        "id": "-n7mowaUgmPJ"
      }
    },
    {
      "cell_type": "code",
      "source": [
        "from bs4 import BeautifulSoup\n",
        "import requests\n",
        "\n",
        "URL = 'https://www.berlin-startups.net/datenbank/'\n",
        "website = requests.get(URL)\n",
        "soup = BeautifulSoup(website.content, 'html.parser')\n",
        "print(soup.shape)\n",
        "print(type(soup))"
      ],
      "metadata": {
        "colab": {
          "base_uri": "https://localhost:8080/"
        },
        "id": "rAKXZiI4gplK",
        "outputId": "bedf5300-7855-40eb-ece9-9f24fd4153e7"
      },
      "execution_count": 17,
      "outputs": [
        {
          "output_type": "stream",
          "name": "stdout",
          "text": [
            "None\n",
            "<class 'bs4.BeautifulSoup'>\n"
          ]
        }
      ]
    },
    {
      "cell_type": "code",
      "source": [
        "mydivs = soup.find_all(\"a\", {\"class\": \"rank-math-link\"})\n",
        "Firmen2=[]\n",
        "for i in mydivs:\n",
        "  Firmen2.append(i.text)"
      ],
      "metadata": {
        "id": "r_qMsFJlm7wr"
      },
      "execution_count": 22,
      "outputs": []
    },
    {
      "cell_type": "code",
      "source": [
        "np.savetxt('BerlinStartUps_Liste_'+str(today.year)+'_'+str(today.month)+'_'+str(today.day)+'.txt', Firmen2, delimiter='  ', header='string', comments='', fmt='%s')"
      ],
      "metadata": {
        "id": "Irmei8FvSotN"
      },
      "execution_count": 23,
      "outputs": []
    }
  ],
  "metadata": {
    "colab": {
      "collapsed_sections": [],
      "name": "Willkommen bei Colaboratory",
      "provenance": []
    },
    "kernelspec": {
      "display_name": "Python 3",
      "name": "python3"
    }
  },
  "nbformat": 4,
  "nbformat_minor": 0
}