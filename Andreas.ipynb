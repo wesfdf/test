{
  "cells": [
    {
      "cell_type": "markdown",
      "metadata": {
        "id": "view-in-github",
        "colab_type": "text"
      },
      "source": [
        "<a href=\"https://colab.research.google.com/github/wesfdf/test/blob/main/Andreas.ipynb\" target=\"_parent\"><img src=\"https://colab.research.google.com/assets/colab-badge.svg\" alt=\"Open In Colab\"/></a>"
      ]
    },
    {
      "cell_type": "markdown",
      "source": [
        "##Einführung für Andreas CORDIS Crawler\n",
        "Das ist ein Jupyter Notebook. Der Datein-Typ ist ein .ipynb"
      ],
      "metadata": {
        "id": "JppFd3EmV1ar"
      }
    },
    {
      "cell_type": "code",
      "source": [
        "print(\"Hallo Andreas\")"
      ],
      "metadata": {
        "id": "dtcuWKw8V1Jz"
      },
      "execution_count": null,
      "outputs": []
    },
    {
      "cell_type": "markdown",
      "source": [
        "#Crawler\n",
        "Einfache Algorithmen um an Informationen auf den Websiten zu kommen. Für den Zugriff auf die Informationen wird die Firmen ID und die Projekt IDs benötigt.\n",
        "#PowerPoint\n",
        "Um die erhaltenen Daten in einer Powerpoint darzustellen bietet es sich an eine Vorlage oder template zu verwenden.\n",
        "#Neuron network\n",
        "Für: Analyse der \n",
        "\n",
        "In Zusammenarbeit mit Herrn Thomas Pürner habe ich mir folgende vortrainierte Netzwerke angeschaut:\n",
        "- NLP's\n",
        "- Keyword Extraction\n",
        "- Zusammenfasser\n",
        "- LDA\n",
        "- pytesseract\n",
        "\n",
        "Die vortrainierten Pakete haben einige Probleme und erziehlen nicht die gewünschten Ergebnisse\n",
        "- semi-supervised LDA (angefangen)\n",
        "https://www.freecodecamp.org/news/how-we-changed-unsupervised-lda-to-semi-supervised-guidedlda-e36a95f3a164/\n",
        "\n",
        "\n",
        "\n",
        "\n"
      ],
      "metadata": {
        "id": "C3JKxoMeWm8b"
      }
    },
    {
      "cell_type": "markdown",
      "source": [
        "#Crawler"
      ],
      "metadata": {
        "id": "VXIOYhTUZhZ6"
      }
    },
    {
      "cell_type": "markdown",
      "source": [
        "Firma:\n",
        "[BSH HAUSGERATE GMBH](https://ec.europa.eu/info/funding-tenders/opportunities/portal/screen/how-to-participate/org-details/953573536;searchKeyword=bsh;isOrganisation=true;isPerson=true;topics=;programmes=;organisationType=;country=;city=;professionalProfile=;hasPartnerSearch=false;type=ORGANISATION,PERSON;orderBy=;sortQuery=)\n",
        "\n",
        "3 Projekte:\n",
        "\n",
        "- [DETforDRF](https://cordis.europa.eu/project/id/622478)\n",
        "- [UV-Marking](https://cordis.europa.eu/project/id/314630)\n",
        "- [InterConnect](https://cordis.europa.eu/project/id/857237)"
      ],
      "metadata": {
        "id": "-byolFMkaCKy"
      }
    },
    {
      "cell_type": "markdown",
      "source": [
        "Basics am Beispiel des Projekts: DETforDRE"
      ],
      "metadata": {
        "id": "flqLmfk-e1Vd"
      }
    },
    {
      "cell_type": "code",
      "source": [
        "import requests\n",
        "from bs4 import BeautifulSoup"
      ],
      "metadata": {
        "id": "GkHgtUxjbdsI"
      },
      "execution_count": null,
      "outputs": []
    },
    {
      "cell_type": "code",
      "source": [
        "Firmen_ID=953573536#BSH1\n",
        "Firmen_Name=\"BSH HAUSGERATE GMBH\"\n",
        "RB_ID=[622478,314630,857237]"
      ],
      "metadata": {
        "id": "rpjC9ZVKZWB6"
      },
      "execution_count": null,
      "outputs": []
    },
    {
      "cell_type": "code",
      "source": [
        "plain_text_DETforDRF = str(BeautifulSoup(requests.get(\"https://cordis.europa.eu/api/details?contenttype=project&rcn=\"+str(RB_ID[0])+\"&lang=en&paramType=id\").text, 'html.parser'))"
      ],
      "metadata": {
        "id": "gaBSyxk3a-mx"
      },
      "execution_count": null,
      "outputs": []
    },
    {
      "cell_type": "code",
      "source": [
        "strm3=\"framework\\\":\\\"\"\n",
        "i3ma = int(plain_text_DETforDRF.find(strm3))\n",
        "i3mb = plain_text_DETforDRF.find(\"\\\",\\\"language\")\n",
        "print(\"Das Framework ist: \", plain_text_DETforDRF[i3ma+len(strm3):i3mb])"
      ],
      "metadata": {
        "colab": {
          "base_uri": "https://localhost:8080/"
        },
        "id": "aZk0dAmNcOGC",
        "outputId": "25ebc6b8-8bda-40ec-e0f1-094eb97779ac"
      },
      "execution_count": null,
      "outputs": [
        {
          "output_type": "stream",
          "name": "stdout",
          "text": [
            "Das Framework ist:  FP7\n"
          ]
        }
      ]
    },
    {
      "cell_type": "markdown",
      "source": [
        "##Powerpoint"
      ],
      "metadata": {
        "id": "YntBZ3MFIai4"
      }
    },
    {
      "cell_type": "markdown",
      "source": [
        "ohne Vorlage (mit template):"
      ],
      "metadata": {
        "id": "VfnYWJxhLGkP"
      }
    },
    {
      "cell_type": "code",
      "source": [
        "prs = Presentation()\n",
        "bullet_slide_layout = prs.slide_layouts[1]\n",
        "\n",
        "slide = prs.slides.add_slide(bullet_slide_layout)\n",
        "shapes = slide.shapes\n",
        "\n",
        "title_shape = shapes.title\n",
        "body_shape = shapes.placeholders[1]\n",
        "\n",
        "title_shape.text = 'Adding a Bullet Slide'\n",
        "\n",
        "tf = body_shape.text_frame\n",
        "tf.text = 'Find the bullet slide layout'\n",
        "\n",
        "p = tf.add_paragraph()\n",
        "p.text = 'Use _TextFrame.text for first bullet'\n",
        "p.level = 1\n",
        "\n",
        "p = tf.add_paragraph()\n",
        "p.text = 'Use _TextFrame.add_paragraph() for subsequent bullets'\n",
        "p.level = 2\n",
        "\n",
        "prs.save('test.pptx')"
      ],
      "metadata": {
        "id": "x9YsDN5ZIeZf"
      },
      "execution_count": null,
      "outputs": []
    },
    {
      "cell_type": "markdown",
      "source": [
        "Mit Vorlage:"
      ],
      "metadata": {
        "id": "T05XMX81JI5G"
      }
    },
    {
      "cell_type": "code",
      "source": [
        "prs  = Presentation('/content/test.pptx')\n",
        "\n",
        "for shape in prs.slides[0].shapes:\n",
        "  if shape.has_text_frame:\n",
        "    if \"Adding a Bullet Slide\" in shape.text:\n",
        "      shape.text_frame.text=\"TEST\"\n",
        "    if \"Find the bullet slide layout\" in shape.text:\n",
        "      shape.text_frame.paragraphs[0].runs[0].text=\"TEST1\"\n",
        "\n",
        "prs.save('test1.pptx')"
      ],
      "metadata": {
        "id": "yjjzNo-NJlmK"
      },
      "execution_count": null,
      "outputs": []
    },
    {
      "cell_type": "markdown",
      "source": [
        "##Neuron Network"
      ],
      "metadata": {
        "id": "yRG5JKkcLZ9x"
      }
    },
    {
      "cell_type": "markdown",
      "source": [
        "siehe für LDA zB: [LINK](https://github.com/kapadias/mediumposts/blob/master/natural_language_processing/topic_modeling/notebooks/Introduction%20to%20Topic%20Modeling.ipynb)\n",
        "\n",
        "Für andere Pakete siehe E-Mail mit Thomas Pürner; bzw. die von ihm vorgeschlagenen Pakete lassen sich online finden (NLP/...)"
      ],
      "metadata": {
        "id": "6f4jb6HaL7KC"
      }
    }
  ],
  "metadata": {
    "colab": {
      "collapsed_sections": [],
      "name": "Willkommen bei Colaboratory",
      "provenance": [],
      "include_colab_link": true
    },
    "kernelspec": {
      "display_name": "Python 3",
      "name": "python3"
    }
  },
  "nbformat": 4,
  "nbformat_minor": 0
}