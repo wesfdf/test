{
  "cells": [
    {
      "cell_type": "markdown",
      "metadata": {
        "id": "view-in-github",
        "colab_type": "text"
      },
      "source": [
        "<a href=\"https://colab.research.google.com/github/wesfdf/test/blob/main/Andreas.ipynb\" target=\"_parent\"><img src=\"https://colab.research.google.com/assets/colab-badge.svg\" alt=\"Open In Colab\"/></a>"
      ]
    },
    {
      "cell_type": "markdown",
      "source": [
        "##Einführung für Andreas CORDIS Crawler\n",
        "Das ist ein Jupyter Notebook. Der Datein-Typ ist ein .ipynb"
      ],
      "metadata": {
        "id": "JppFd3EmV1ar"
      }
    },
    {
      "cell_type": "code",
      "source": [
        "print(\"Hallo Andreas\")"
      ],
      "metadata": {
        "id": "dtcuWKw8V1Jz"
      },
      "execution_count": null,
      "outputs": []
    },
    {
      "cell_type": "markdown",
      "source": [
        "#Crawler\n",
        "Einfache Algorithmen um an Informationen auf den Websiten zu kommen. Für den Zugriff auf die Informationen wird die Firmen ID und die Projekt IDs benötigt.\n",
        "#PowerPoint\n",
        "Um die erhaltenen Daten in einer Powerpoint darzustellen bietet es sich an eine Vorlage oder template zu verwenden.\n",
        "#Neuron network\n",
        "In Zusammenarbeit mit Herrn Thomas Pürner habe ich mir folgende vortrainierte Netzwerke angeschaut:\n",
        "- NLP's\n",
        "- Keyword Extraction\n",
        "- Zusammenfasser\n",
        "- LDA\n",
        "\n",
        "Die vortrainierten Pakete haben einige Probleme\n",
        "- semi-supervised LDA (angefangen)\n",
        "\n"
      ],
      "metadata": {
        "id": "C3JKxoMeWm8b"
      }
    },
    {
      "cell_type": "markdown",
      "source": [
        "#Crawler"
      ],
      "metadata": {
        "id": "VXIOYhTUZhZ6"
      }
    },
    {
      "cell_type": "markdown",
      "source": [
        "Firma:\n",
        "[BSH HAUSGERATE GMBH](https://ec.europa.eu/info/funding-tenders/opportunities/portal/screen/how-to-participate/org-details/953573536;searchKeyword=bsh;isOrganisation=true;isPerson=true;topics=;programmes=;organisationType=;country=;city=;professionalProfile=;hasPartnerSearch=false;type=ORGANISATION,PERSON;orderBy=;sortQuery=)\n",
        "\n",
        "3 Projekte:\n",
        "\n",
        "- [DETforDRF](https://cordis.europa.eu/project/id/622478)\n",
        "- [UV-Marking](https://cordis.europa.eu/project/id/314630)\n",
        "- [InterConnect](https://cordis.europa.eu/project/id/857237)"
      ],
      "metadata": {
        "id": "-byolFMkaCKy"
      }
    },
    {
      "cell_type": "markdown",
      "source": [
        "Basics am Beispiel des Projekts: DETforDRE"
      ],
      "metadata": {
        "id": "flqLmfk-e1Vd"
      }
    },
    {
      "cell_type": "code",
      "source": [
        "import requests\n",
        "from bs4 import BeautifulSoup"
      ],
      "metadata": {
        "id": "GkHgtUxjbdsI"
      },
      "execution_count": 8,
      "outputs": []
    },
    {
      "cell_type": "code",
      "source": [
        "Firmen_ID=953573536#BSH1\n",
        "Firmen_Name=\"BSH HAUSGERATE GMBH\"\n",
        "RB_ID=[622478,314630,857237]"
      ],
      "metadata": {
        "id": "rpjC9ZVKZWB6"
      },
      "execution_count": 1,
      "outputs": []
    },
    {
      "cell_type": "code",
      "source": [
        "plain_text_DETforDRF = str(BeautifulSoup(requests.get(\"https://cordis.europa.eu/api/details?contenttype=project&rcn=\"+str(RB_ID[0])+\"&lang=en&paramType=id\").text, 'html.parser'))"
      ],
      "metadata": {
        "id": "gaBSyxk3a-mx"
      },
      "execution_count": 21,
      "outputs": []
    },
    {
      "cell_type": "code",
      "source": [
        "strm3=\"framework\\\":\\\"\"\n",
        "i3ma = int(plain_text_DETforDRF.find(strm3))\n",
        "i3mb = plain_text_DETforDRF.find(\"\\\",\\\"language\")\n",
        "print(\"Das Framework ist: \", plain_text_DETforDRF[i3ma+len(strm3):i3mb])"
      ],
      "metadata": {
        "colab": {
          "base_uri": "https://localhost:8080/"
        },
        "id": "aZk0dAmNcOGC",
        "outputId": "25ebc6b8-8bda-40ec-e0f1-094eb97779ac"
      },
      "execution_count": 26,
      "outputs": [
        {
          "output_type": "stream",
          "name": "stdout",
          "text": [
            "Das Framework ist:  FP7\n"
          ]
        }
      ]
    }
  ],
  "metadata": {
    "colab": {
      "collapsed_sections": [],
      "name": "Willkommen bei Colaboratory",
      "provenance": [],
      "include_colab_link": true
    },
    "kernelspec": {
      "display_name": "Python 3",
      "name": "python3"
    }
  },
  "nbformat": 4,
  "nbformat_minor": 0
}