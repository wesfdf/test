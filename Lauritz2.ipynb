{
  "cells": [
    {
      "cell_type": "markdown",
      "source": [
        "##Vorlage für Lauritz"
      ],
      "metadata": {
        "id": "dwGjITgPNFC8"
      }
    },
    {
      "cell_type": "code",
      "source": [
        "print(\"Hallo Lauritz\")"
      ],
      "metadata": {
        "id": "l7tZcLv3NKOb",
        "outputId": "f2e0c5bc-170b-48ba-b240-802a8774d442",
        "colab": {
          "base_uri": "https://localhost:8080/"
        }
      },
      "execution_count": null,
      "outputs": [
        {
          "output_type": "stream",
          "name": "stdout",
          "text": [
            "Hallo Lauritz\n"
          ]
        }
      ]
    },
    {
      "cell_type": "markdown",
      "source": [
        "#Crawlen der Website"
      ],
      "metadata": {
        "id": "JKzNtVruVxM4"
      }
    },
    {
      "cell_type": "code",
      "source": [
        "import requests\n",
        "from bs4 import BeautifulSoup"
      ],
      "metadata": {
        "id": "dLivr-tCNQ1h"
      },
      "execution_count": null,
      "outputs": []
    },
    {
      "cell_type": "code",
      "source": [
        "import sys\n",
        "import numpy as np\n",
        "sys.setrecursionlimit(1000000)"
      ],
      "metadata": {
        "id": "mhE83IhZN_dy"
      },
      "execution_count": null,
      "outputs": []
    },
    {
      "cell_type": "code",
      "source": [
        "plainText0 = str(BeautifulSoup(requests.get(\"https://www.gruenderland.bayern/rest/stmwiaddress-address/startups/\").text, 'html.parser'))"
      ],
      "metadata": {
        "id": "EIhuvhuHNQsh"
      },
      "execution_count": null,
      "outputs": []
    },
    {
      "cell_type": "code",
      "source": [
        "plainText=plainText0\n",
        "Firmen=[]\n",
        "while True:\n",
        "  strm3=\"\\\"name\\\":\\\"\"\n",
        "  i3ma = int(plainText.find(strm3))\n",
        "  strm4 = \"\\\",\\\"\"\n",
        "  i3mb = int(plainText[i3ma:].find(strm4))\n",
        "  if (i3ma ==-1 or i3mb==-1):\n",
        "    break\n",
        "  Firmen=np.append(Firmen,plainText[i3ma+len(strm3):i3ma+i3mb])\n",
        "  plainText=plainText[i3ma+len(strm3):]"
      ],
      "metadata": {
        "id": "Ayfs9veTOncq"
      },
      "execution_count": null,
      "outputs": []
    },
    {
      "cell_type": "markdown",
      "source": [
        "#Vergleich mit alter Liste:"
      ],
      "metadata": {
        "id": "G8JnVIZwS7OW"
      }
    },
    {
      "cell_type": "code",
      "source": [
        "FirmenAlt=Firmen[:-10]"
      ],
      "metadata": {
        "id": "NrmriD8QS6W9"
      },
      "execution_count": null,
      "outputs": []
    },
    {
      "cell_type": "code",
      "source": [
        "Neu=set(Firmen).difference(set(FirmenAlt))\n",
        "L1=len(Neu)"
      ],
      "metadata": {
        "id": "afyoVDuVUFX_"
      },
      "execution_count": null,
      "outputs": []
    },
    {
      "cell_type": "code",
      "source": [
        "Neu2=set(FirmenAlt).difference(set(Firmen))\n",
        "if Neu2==set():\n",
        "  L2=0\n",
        "  Neu2=[]"
      ],
      "metadata": {
        "id": "86qyNyodUJcX"
      },
      "execution_count": null,
      "outputs": []
    },
    {
      "cell_type": "code",
      "source": [
        "print(\"Es gibt \"+str(L1)+\" neue Einträge in der Datenbank: \"+str(Neu))\n",
        "print(str(L2)+\" Einträge sind aus der Datenbank verschwunden: \"+str(Neu2))"
      ],
      "metadata": {
        "id": "ZYO3ojkjUjJA",
        "outputId": "36ba39f3-a6ea-4a1b-97cc-6ade6bf199c2",
        "colab": {
          "base_uri": "https://localhost:8080/"
        }
      },
      "execution_count": null,
      "outputs": [
        {
          "output_type": "stream",
          "name": "stdout",
          "text": [
            "Es gibt 10 neue Einträge in der Datenbank: {'Microist GmbH', 'FALTBAR Vertriebs GmbH', 'ing+', 'DIE BIOBUDE', 'Pixergy', 'datavi', 'Achtbit Media GmbH', 'ecoro GmbH', 'immerVR GmbH', 'BuyRegio'}\n",
            "0 Einträge sind aus der Datenbank verschwunden: []\n"
          ]
        }
      ]
    },
    {
      "cell_type": "markdown",
      "source": [
        "##Direkt aus Quellcode\n",
        "###Berlin-StartUps.net"
      ],
      "metadata": {
        "id": "-n7mowaUgmPJ"
      }
    },
    {
      "cell_type": "code",
      "source": [
        "from bs4 import BeautifulSoup\n",
        "import requests\n",
        "\n",
        "URL = 'https://www.berlin-startups.net/datenbank/'\n",
        "website = requests.get(URL)\n",
        "soup = BeautifulSoup(website.content, 'html.parser')\n",
        "print(soup.shape)\n",
        "print(type(soup))"
      ],
      "metadata": {
        "id": "rAKXZiI4gplK",
        "outputId": "d865a5e1-77d3-4b43-d94d-f8f64c659fa9",
        "colab": {
          "base_uri": "https://localhost:8080/"
        }
      },
      "execution_count": 2,
      "outputs": [
        {
          "output_type": "stream",
          "name": "stdout",
          "text": [
            "None\n",
            "<class 'bs4.BeautifulSoup'>\n"
          ]
        }
      ]
    },
    {
      "cell_type": "code",
      "source": [
        "mydivs = soup.find_all(\"a\", {\"class\": \"rank-math-link\"})\n",
        "liste3=[]\n",
        "for i in mydivs:\n",
        "  liste3.append(i.text)\n",
        "print(liste3)"
      ],
      "metadata": {
        "id": "r_qMsFJlm7wr",
        "outputId": "13e7a1fc-39fa-46dc-dfb0-ac7165248de3",
        "colab": {
          "base_uri": "https://localhost:8080/"
        }
      },
      "execution_count": 57,
      "outputs": [
        {
          "output_type": "stream",
          "name": "stdout",
          "text": [
            "['3dvisionlabs', 'aboDeinauto', 'Agicap', 'ampere.cloud', 'AssistMe', 'banbutsu', 'beeskin', 'Beazy', 'Ben Fleet Services', 'bonify', 'BRIGHT', 'byrd', 'Cabin Experience', 'call-a-midwife', 'CAYA', 'CLOUS', 'CoachHub', 'deineStudienfinanzierung', 'DiscoEat', 'ELEMENT Insurance', 'Emmora', 'Enote', 'Enpal', 'ENWAY', 'ERA zero', 'everlean', 'expertlead', 'Fensterblick', 'Fernarzt.com', 'Finiata', 'Flower Power', 'Forto', 'frufree', 'Gastampel', 'Green Fusion', 'Grover', 'Habyt', 'Industrial Analytics', 'Insec2Eat', 'Joyce Real Estate', 'kawaloo', 'Kinderheldin', 'KlickOwn', 'Kornwerk', 'KptnCook', 'Kry', 'lawpilots', 'lialo.com', 'Lition Energie', 'LiveEO', 'metr', 'Myos', 'Native Foods', 'Nia Health', 'openHandwerk', 'ONOMOTION', 'OUTFITTERY', 'PayFit', 'peaq', 'PAIR Finance', 'Pinaks', 'Plantclub', 'PlusDental', 'ProjectTogether', 'reachtag', 'RENTIVATE', 'Sanity Group', 'Salfy', 'Scaling Spaces', 'Sendinblue', 'Simplifa', 'SnapSurprise', 'Solaga', 'sPERANTO', 'SpiceNerds', 'SPRK', 'StackFuel', 'Storebox', 't7berlin', 'The Base', 'The Embassies', 'The Stryze Group', 'Tomorrow’s Education', 'Too Good To Go', 'Trade Republic', 'TripLegend', 'Uplink', 'Vaha', 'Vimcar', 'VINYA', 'Wildcorn Snacks', 'Wolt', 'Xibit', 'Yolife', 'zinsbaustein.de', 'Apinima', 'Campeleon', 'In Harmony', 'Dashfactory', 'Dogorama', 'FlyNex', 'memoresa', 'Wundercurves\\xa0', 'craftdrive', 'Feelbelt', 'Hypatos', 'PERFACCT', 'SQC-QualityCert', 'LAWIO', 'hepster', 'LIVIN’ROLL', 'NMS Prime', 'Early Green', 'Flexvelop', 'OHNE Coffee', 'B.TEALY']\n"
          ]
        }
      ]
    },
    {
      "cell_type": "markdown",
      "source": [
        "###startups.nrw"
      ],
      "metadata": {
        "id": "wiBuqgy-r-7a"
      }
    },
    {
      "cell_type": "code",
      "source": [
        "URL = 'https://startups.nrw/institutions/startups/'\n",
        "website = requests.get(URL)\n",
        "soup = BeautifulSoup(website.content, 'html.parser')\n",
        "print(soup.shape)\n",
        "print(type(soup))"
      ],
      "metadata": {
        "id": "THuUf8EAsDUj",
        "outputId": "f3714543-8a87-4a94-a532-359c0610c422",
        "colab": {
          "base_uri": "https://localhost:8080/"
        }
      },
      "execution_count": 58,
      "outputs": [
        {
          "output_type": "stream",
          "name": "stdout",
          "text": [
            "None\n",
            "<class 'bs4.BeautifulSoup'>\n"
          ]
        }
      ]
    },
    {
      "cell_type": "code",
      "source": [
        "print(soup)"
      ],
      "metadata": {
        "id": "wxyng51YuCvy",
        "outputId": "ce929890-70c1-4cae-8559-9b404aeb0cc8",
        "colab": {
          "base_uri": "https://localhost:8080/"
        }
      },
      "execution_count": 71,
      "outputs": [
        {
          "output_type": "stream",
          "name": "stdout",
          "text": [
            "<!DOCTYPE doctype html>\n",
            "<html><head><meta charset=\"utf-8\"/><meta content=\"width=device-width,initial-scale=1,shrink-to-fit=no,maximum-scale=1\" name=\"viewport\"/><meta content=\"#ffffff\" name=\"theme-color\"/><meta content=\"#ffffff\" name=\"msapplication-TileColor\"/><meta content=\"#ffffff\" name=\"theme-color\"/><script>if(window.location.href.indexOf(\"//innoloft.com\")>-1&&0===window.location.pathname.indexOf(\"/public\")){var pathAfterPublic=window.location.href.split(\"/public\")[1];window.location.href=\"https://www.innoloft.com/public/\"+pathAfterPublic}</script><script src=\"/js/polyfills.js\"></script><link href=\"https://fonts.innoloft.com/01_icon-inno-font/style.css\" rel=\"stylesheet\"/><link href=\"https://fonts.googleapis.com/css?family=Open+Sans:300,400,600&amp;display=swap\" rel=\"stylesheet\"/><title></title><script defer=\"defer\" src=\"/static/js/main.68bb8e08.js\"></script><link href=\"/static/css/main.04b6544d.css\" rel=\"stylesheet\"/></head><body><noscript>You need to enable JavaScript to run this app.</noscript><div class=\"bubble-iframe-container\"></div><div id=\"root\"></div></body></html>\n"
          ]
        }
      ]
    },
    {
      "cell_type": "code",
      "source": [
        "print(soup.find(\"Akoni\"))"
      ],
      "metadata": {
        "id": "mrrxwB0-tv1c",
        "outputId": "41f8a9fb-7ed2-4b64-ef8f-dcab27238bdd",
        "colab": {
          "base_uri": "https://localhost:8080/"
        }
      },
      "execution_count": 69,
      "outputs": [
        {
          "output_type": "stream",
          "name": "stdout",
          "text": [
            "None\n"
          ]
        }
      ]
    },
    {
      "cell_type": "code",
      "source": [
        "mydivs = soup.find_all(\"div\", {\"class\": \"CardDefaultContent__title\"})\n",
        "print(mydivs)\n",
        "liste3=[]\n",
        "for i in mydivs:\n",
        "  liste3.append(i.text)\n",
        "print(liste3)"
      ],
      "metadata": {
        "id": "daCX0l9psakT",
        "outputId": "46629813-a957-498c-bcbe-274b97b4cb1d",
        "colab": {
          "base_uri": "https://localhost:8080/"
        }
      },
      "execution_count": 65,
      "outputs": [
        {
          "output_type": "stream",
          "name": "stdout",
          "text": [
            "[]\n",
            "[]\n"
          ]
        }
      ]
    }
  ],
  "metadata": {
    "colab": {
      "collapsed_sections": [],
      "name": "Willkommen bei Colaboratory",
      "provenance": []
    },
    "kernelspec": {
      "display_name": "Python 3",
      "name": "python3"
    }
  },
  "nbformat": 4,
  "nbformat_minor": 0
}