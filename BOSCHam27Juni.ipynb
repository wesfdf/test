{
  "cells": [
    {
      "cell_type": "markdown",
      "metadata": {
        "id": "view-in-github",
        "colab_type": "text"
      },
      "source": [
        "<a href=\"https://colab.research.google.com/github/wesfdf/test/blob/main/BOSCHam27Juni.ipynb\" target=\"_parent\"><img src=\"https://colab.research.google.com/assets/colab-badge.svg\" alt=\"Open In Colab\"/></a>"
      ]
    },
    {
      "cell_type": "code",
      "source": [
        "!pip install python-pptx\n",
        "!pip install cairosvg"
      ],
      "metadata": {
        "id": "nTfR_SzYL_du",
        "outputId": "1d58ff41-04a3-4807-afc8-326b9ca24588",
        "colab": {
          "base_uri": "https://localhost:8080/"
        }
      },
      "execution_count": 1,
      "outputs": [
        {
          "output_type": "stream",
          "name": "stdout",
          "text": [
            "Looking in indexes: https://pypi.org/simple, https://us-python.pkg.dev/colab-wheels/public/simple/\n",
            "Collecting python-pptx\n",
            "  Downloading python-pptx-0.6.21.tar.gz (10.1 MB)\n",
            "\u001b[K     |████████████████████████████████| 10.1 MB 5.1 MB/s \n",
            "\u001b[?25hRequirement already satisfied: lxml>=3.1.0 in /usr/local/lib/python3.7/dist-packages (from python-pptx) (4.2.6)\n",
            "Requirement already satisfied: Pillow>=3.3.2 in /usr/local/lib/python3.7/dist-packages (from python-pptx) (7.1.2)\n",
            "Collecting XlsxWriter>=0.5.7\n",
            "  Downloading XlsxWriter-3.0.3-py3-none-any.whl (149 kB)\n",
            "\u001b[K     |████████████████████████████████| 149 kB 44.2 MB/s \n",
            "\u001b[?25hBuilding wheels for collected packages: python-pptx\n",
            "  Building wheel for python-pptx (setup.py) ... \u001b[?25l\u001b[?25hdone\n",
            "  Created wheel for python-pptx: filename=python_pptx-0.6.21-py3-none-any.whl size=470951 sha256=0e4a84e7af54e17f11b7bee3ae27b0c625d8fe953a2769f208932761cf6da7f6\n",
            "  Stored in directory: /root/.cache/pip/wheels/a7/ab/f4/52560d0d4bd4055e9261c6df6e51c7b56c2b23cca3dee811a3\n",
            "Successfully built python-pptx\n",
            "Installing collected packages: XlsxWriter, python-pptx\n",
            "Successfully installed XlsxWriter-3.0.3 python-pptx-0.6.21\n",
            "Looking in indexes: https://pypi.org/simple, https://us-python.pkg.dev/colab-wheels/public/simple/\n",
            "Collecting cairosvg\n",
            "  Downloading CairoSVG-2.5.2-py3-none-any.whl (45 kB)\n",
            "\u001b[K     |████████████████████████████████| 45 kB 1.9 MB/s \n",
            "\u001b[?25hCollecting cssselect2\n",
            "  Downloading cssselect2-0.6.0-py3-none-any.whl (15 kB)\n",
            "Collecting cairocffi\n",
            "  Downloading cairocffi-1.3.0.tar.gz (88 kB)\n",
            "\u001b[K     |████████████████████████████████| 88 kB 4.3 MB/s \n",
            "\u001b[?25hRequirement already satisfied: pillow in /usr/local/lib/python3.7/dist-packages (from cairosvg) (7.1.2)\n",
            "Requirement already satisfied: defusedxml in /usr/local/lib/python3.7/dist-packages (from cairosvg) (0.7.1)\n",
            "Requirement already satisfied: tinycss2 in /usr/local/lib/python3.7/dist-packages (from cairosvg) (1.1.1)\n",
            "Requirement already satisfied: cffi>=1.1.0 in /usr/local/lib/python3.7/dist-packages (from cairocffi->cairosvg) (1.15.0)\n",
            "Requirement already satisfied: pycparser in /usr/local/lib/python3.7/dist-packages (from cffi>=1.1.0->cairocffi->cairosvg) (2.21)\n",
            "Requirement already satisfied: webencodings in /usr/local/lib/python3.7/dist-packages (from cssselect2->cairosvg) (0.5.1)\n",
            "Building wheels for collected packages: cairocffi\n",
            "  Building wheel for cairocffi (setup.py) ... \u001b[?25l\u001b[?25hdone\n",
            "  Created wheel for cairocffi: filename=cairocffi-1.3.0-py3-none-any.whl size=89668 sha256=6aa9e7290d08dbd0886e5a30d459a047dd26c38a4f83a3d13721529c06de08c3\n",
            "  Stored in directory: /root/.cache/pip/wheels/4e/ca/e1/5c8a9692a27f639a07c949044bec943f26c81cd53d3805319f\n",
            "Successfully built cairocffi\n",
            "Installing collected packages: cssselect2, cairocffi, cairosvg\n",
            "Successfully installed cairocffi-1.3.0 cairosvg-2.5.2 cssselect2-0.6.0\n"
          ]
        }
      ]
    },
    {
      "cell_type": "code",
      "source": [
        "from pptx import Presentation\n",
        "prs  = Presentation('/content/Vorlage.pptx')\n",
        "slide = prs.slides.add_slide(prs.slide_layouts[5])\n",
        "#----------------------- Eleganter über templates!?\n",
        "for s_ in slide.placeholders:\n",
        "    print('ID = {0:d}, Shape name is \\\n",
        "          \"{1:s}\"'.format(s_.placeholder_format.idx,s_.name))"
      ],
      "metadata": {
        "id": "DnRcjbguMFWT",
        "outputId": "639d7da3-8d3e-4ec2-9f02-422a69f5c258",
        "colab": {
          "base_uri": "https://localhost:8080/"
        }
      },
      "execution_count": 88,
      "outputs": [
        {
          "output_type": "stream",
          "name": "stdout",
          "text": [
            "ID = 0, Shape name is           \"Title 3\"\n",
            "ID = 1, Shape name is           \"Subtitle 4\"\n",
            "ID = 12, Shape name is           \"Text Placeholder 1\"\n",
            "ID = 13, Shape name is           \"Text Placeholder 2\"\n",
            "ID = 16, Shape name is           \"Text Placeholder 5\"\n"
          ]
        }
      ]
    },
    {
      "cell_type": "code",
      "source": [
        "import cairosvg\n",
        "!curl -o logo.svg https://upload.wikimedia.org/wikipedia/commons/1/16/Bosch-logo.svg #\"https://de.wikipedia.org/wiki/Robert_Bosch_GmbH#/media/Datei:Bosch-logo.svg\" #https://colab.research.google.com/img/colab_favicon_256px.png\n",
        "cairosvg.svg2png(\n",
        "    url=\"https://upload.wikimedia.org/wikipedia/commons/1/16/Bosch-logo.svg\", write_to=\"logo.png\")\n",
        "from google.colab import files as FILE\n",
        "import os\n",
        "import requests\n",
        "from PIL import Image\n",
        "\n",
        "img_data = requests.get(\"https://images.praxisvita.de/augenkrankheiten-sehschwaechen-simulation-beispielbild-katzenbaby,id=3acaf604,b=praxisvita,w=700,rm=sk.webp\").content\n",
        "with open('kat.webp', 'wb') as handler:\n",
        "    handler.write(img_data)\n",
        "\n",
        "img_data = requests.get(\"https://www.designtagebuch.de/wp-content/uploads/mediathek//2019/01/bosch-markenzeichen-1100x825.jpg\").content\n",
        "with open('Bosch.jpg', 'wb') as handler:\n",
        "    handler.write(img_data)\n",
        "\n",
        "img_data = requests.get(\"https://www.designtagebuch.de/wp-content/uploads/mediathek//2019/01/bosch-markenzeichen.jpg\").content\n",
        "with open('Bosch1.jpg', 'wb') as handler:\n",
        "    handler.write(img_data)\n",
        "\n",
        "img_data = requests.get(\"https://www.bosch-diy.com/images/unternehmenslogo-teaser-bosch-diy--c7d43c71b44d4e6998b6a60dd827df60.png?imgWidth=800&scale=1\").content\n",
        "with open('Bosch2.jpg', 'wb') as handler:\n",
        "    handler.write(img_data)\n",
        "\n",
        "image = Image.open('kat.webp')\n",
        "image = image.convert('RGB')\n",
        "image.save('kat.png', 'png')\n",
        "    #handler.save('converting-from-webp-to-png-format.png', 'png')"
      ],
      "metadata": {
        "id": "LhHVdj-QMTMG",
        "outputId": "0c70b228-e4cf-40dd-f8bf-49011bcffa16",
        "colab": {
          "base_uri": "https://localhost:8080/"
        }
      },
      "execution_count": 44,
      "outputs": [
        {
          "output_type": "stream",
          "name": "stdout",
          "text": [
            "  % Total    % Received % Xferd  Average Speed   Time    Time     Time  Current\n",
            "                                 Dload  Upload   Total   Spent    Left  Speed\n",
            "\r  0     0    0     0    0     0      0      0 --:--:-- --:--:-- --:--:--     0\r  0     0    0     0    0     0      0      0 --:--:-- --:--:-- --:--:--     0\r100  3383  100  3383    0     0  19554      0 --:--:-- --:--:-- --:--:-- 19442\n"
          ]
        }
      ]
    },
    {
      "cell_type": "code",
      "source": [
        "from bs4 import BeautifulSoup\n",
        "\n",
        "URL = 'https://de.wikipedia.org/wiki/Robert_Bosch_GmbH'\n",
        "website = requests.get(URL)\n",
        "soup = BeautifulSoup(website.content, 'html.parser')\n",
        "print(soup.shape)\n",
        "print(type(soup))"
      ],
      "metadata": {
        "id": "6MBLMEYBM1Cv",
        "outputId": "20d460f3-b841-4ab3-8c89-820ad9b92f7f",
        "colab": {
          "base_uri": "https://localhost:8080/"
        }
      },
      "execution_count": 45,
      "outputs": [
        {
          "output_type": "stream",
          "name": "stdout",
          "text": [
            "None\n",
            "<class 'bs4.BeautifulSoup'>\n"
          ]
        }
      ]
    },
    {
      "cell_type": "markdown",
      "source": [
        "https://www.crummy.com/software/BeautifulSoup/bs4/doc/#the-string-argument\n"
      ],
      "metadata": {
        "id": "mZbqnueMOB_y"
      }
    },
    {
      "cell_type": "code",
      "source": [
        "import re\n",
        "a0 = soup.find(\"h1\")\n",
        "a = soup.find(\"a\", text=\"Sitz\")\n",
        "a1 = soup.find(\"a\", text=\"Mitarbeiterzahl\")\n",
        "a2 = soup.find(\"a\", text=\"Umsatz\")\n",
        "#a3 = soup\n",
        "#print(a)\n",
        "#print(type(a))\n",
        "\n",
        "b0 = a0.get_text()\n",
        "b = a.find_next(\"a\")\n",
        "b1 = a1.find_next(\"td\")\n",
        "b2 = a2.find_next(\"td\")\n",
        "print(b0)\n",
        "\n",
        "c = b.get(\"title\")\n",
        "c1 = b1.get_text()\n",
        "c2 = b2.get_text()\n",
        "\n",
        "d1 = re.findall(r'\\(.*?\\)', c1)\n",
        "d1a = c1.split()[0]\n",
        "d2 = re.findall(r'\\(.*?\\)', c2)\n",
        "d2a = c2.split()[0]\n",
        "print(d1a)\n",
        "print(d2a)\n",
        "\n",
        "e1 = d1[0].strip(\"()\")\n",
        "e2 = d2[0].strip(\"()\")\n",
        "if e1 != e2:\n",
        "  print(\"Problem\")\n",
        "else:\n",
        "  print(\"Goo!\")\n",
        "print(e1)"
      ],
      "metadata": {
        "id": "Fx_8PMFPODWc",
        "outputId": "9a4835a4-b5bb-42fa-e0f7-33d5bfaa41eb",
        "colab": {
          "base_uri": "https://localhost:8080/"
        }
      },
      "execution_count": 46,
      "outputs": [
        {
          "output_type": "stream",
          "name": "stdout",
          "text": [
            "Robert Bosch GmbH\n",
            "401.300\n",
            "78,8\n",
            "Goo!\n",
            "2021\n"
          ]
        }
      ]
    },
    {
      "cell_type": "markdown",
      "source": [
        "https://www.youtube.com/watch?v=3fcKKZMFbyA"
      ],
      "metadata": {
        "id": "6zqe6R3pOJaZ"
      }
    },
    {
      "cell_type": "code",
      "source": [
        " #BeautifulSoup(requests.get(strIN).text, from_encoding=\"iso-8859-8\")"
      ],
      "metadata": {
        "id": "fu2MG_FAb2tu"
      },
      "execution_count": null,
      "outputs": []
    },
    {
      "cell_type": "code",
      "source": [
        "#BeautifulSoup(requests.get(compile(strIN)).text              , from_encoding=\"iso-8859-8\""
      ],
      "metadata": {
        "id": "SA1CeZn8ZNyX"
      },
      "execution_count": null,
      "outputs": []
    },
    {
      "cell_type": "code",
      "source": [
        "import requests\n",
        "import numpy as np\n",
        "\n",
        "'''\n",
        "Firmen_ID=936847438#Lion Smart GMBH\n",
        "RB_ID=[821226, 713771]\n",
        "Firmen_ID=986260693#Lithium Balance AS\n",
        "RB_ID=[266090,774392,963574,606071,608784,609127,731249,809095,731155]\n",
        "\n",
        "\n",
        "Firmen_ID=953573536#BSH1\n",
        "RB_ID=[\t622478,314630,857237]\n",
        "Firmen_ID=911360494#BSH2\n",
        "RB_ID=[958448]\n",
        "Firmen_ID=996491962#BSH3\n",
        "RB_ID=[\t603993,\t232287,\t314630,\t675063,\t825132,\t687613,\t876659,\t720897,\t654963,\t232100]\n",
        "Firmen_ID=896458190#BSH4\n",
        "RB_ID=[101006220]\n",
        "'''\n",
        "Firmen_ID=999908787#Robert Bosch\n",
        "RB_ID=[692466, 101007237, 101007229, 653531, 318529, 285224, 645145]#Projekte von Bosch die interessant sind\n",
        "\n",
        "r2 = requests.get(\"https://ec.europa.eu/info/funding-tenders/opportunities/api/orgProfile/data.json?pic=\" + str(Firmen_ID) + \"&refreshIamUser=true\")#Firma\n",
        "#Get the ID From Firma-Website\n",
        "r=[]\n",
        "SOUP=[]\n",
        "for i in RB_ID:\n",
        "  strIN=\"https://cordis.europa.eu/api/details?contenttype=project&rcn=\"+str(i)+\"&lang=en&paramType=id\"\n",
        "  SOUP=np.append(SOUP, BeautifulSoup(requests.get(strIN).text, 'html.parser'))\n",
        "\n",
        "#print(SOUP)\n",
        "r4 = requests.get(\"https://ec.europa.eu/info/funding-tenders/opportunities/api/orgProfile/publicProjects.json?pic=\" + str(Firmen_ID) + \"&refreshIamUser=true\")#PublicProjects\n",
        "r3 = requests.get(\"https://cordis.europa.eu/api/details?contenttype=project&rcn=101007229&lang=en&paramType=id\")#Projekt 1 of 7 of 158 Projects\n",
        "soup2 = BeautifulSoup(r2.text, 'html.parser')\n",
        "soup3 = BeautifulSoup(r3.text, 'html.parser')\n",
        "soup4 = BeautifulSoup(r4.text, 'html.parser')"
      ],
      "metadata": {
        "id": "AdZbB1pOOVz6"
      },
      "execution_count": 47,
      "outputs": []
    },
    {
      "cell_type": "code",
      "source": [
        "strm3=\"acronym\\\":\\\"\"\n",
        "\n",
        "mT = []\n",
        "for i in SOUP:\n",
        "  i3ma = i.find(strm3)\n",
        "  i3mb = i.find(\"\\\",\\\"startDate\")\n",
        "  mT = np.append(mT, i[i3ma+len(strm3):i3mb].encode('unicode-escape').replace(b'\\\\\\\\', b'\\\\').decode('unicode-escape'))\n",
        "print(mT)"
      ],
      "metadata": {
        "colab": {
          "base_uri": "https://localhost:8080/"
        },
        "id": "hBB3FBfO__O6",
        "outputId": "cdfdde9c-23f4-48b0-fa9b-90348bb16d7c"
      },
      "execution_count": 48,
      "outputs": [
        {
          "output_type": "stream",
          "name": "stdout",
          "text": [
            "['SemI40' 'TRANSFORM' 'YESvGaN' 'FIVEVB' 'PowerSwipe' 'SuperLIB'\n",
            " 'HAPPINESS']\n"
          ]
        }
      ]
    },
    {
      "cell_type": "code",
      "source": [
        "strm31a=\"ROBERT BOSCH GMBH\"\n",
        "#strm31a=\"Lithium Balance AS\"#\"Lion Smart GMBH and Lithium Balance AS\"\n",
        "#,\"nonEcContribution\n",
        "strm31b=\"netEcContribution\\\":\"\n",
        "\n",
        "mT1 = []\n",
        "for i in SOUP:\n",
        "  i3ma1a = i.find(strm31a)\n",
        "  i=i[i3ma1a:]\n",
        "  i3ma1b = i.find(strm31b)\n",
        "  i3mb1 = i.find(\",\\\"nonEcContribution\")\n",
        "  mT1 = np.append(mT1, i[i3ma1b+len(strm31b):i3mb1].encode('unicode-escape').replace(b'\\\\\\\\', b'\\\\').decode('unicode-escape'))\n",
        "print(\"netEcContribution: \", mT1)"
      ],
      "metadata": {
        "colab": {
          "base_uri": "https://localhost:8080/"
        },
        "id": "TIhxfrIqA2Cj",
        "outputId": "ec28f633-b164-4c85-a3d0-53392ebab0e2"
      },
      "execution_count": 51,
      "outputs": [
        {
          "output_type": "stream",
          "name": "stdout",
          "text": [
            "netEcContribution:  ['450399.19' '3789023' '611629.06' 'null' 'null' 'null' '522580']\n"
          ]
        }
      ]
    },
    {
      "cell_type": "code",
      "source": [
        "strm32a=\"ROBERT BOSCH GMBH\"\n",
        "#,\"nonEcContribution\n",
        "strm32b=\"nonEcContribution\\\":\"\n",
        "\n",
        "mT2 = []\n",
        "for i in SOUP:\n",
        "  i3ma2a = i.find(strm32a)\n",
        "  i=i[i3ma2a:]\n",
        "  i3ma2b = i.find(strm32b)\n",
        "  i3mb2 = i.find(\",\\\"formula\")\n",
        "  mT2 = np.append(mT2, i[i3ma2b+len(strm32b):i3mb2].encode('unicode-escape').replace(b'\\\\\\\\', b'\\\\').decode('unicode-escape'))\n",
        "print(\"nonEcContribution: \", mT2)"
      ],
      "metadata": {
        "colab": {
          "base_uri": "https://localhost:8080/"
        },
        "id": "-sNvFAo4Dx8d",
        "outputId": "1b36df23-d177-4126-bf06-4f607aa02b1a"
      },
      "execution_count": 52,
      "outputs": [
        {
          "output_type": "stream",
          "name": "stdout",
          "text": [
            "nonEcContribution:  ['2552262.06' '15156092' '1834887.19' 'null' 'null' 'null' '0']\n"
          ]
        }
      ]
    },
    {
      "cell_type": "code",
      "source": [
        "strqy3=\"title\\\":\\\"\"\n",
        "\n",
        "qyT = []\n",
        "for i in SOUP:\n",
        "  i3qya = i.find(strqy3)\n",
        "  i3qyb = i.find(\"\\\",\\\"acronym\")\n",
        "  qyT = np.append(qyT, i[i3qya+len(strqy3):i3qyb].encode('unicode-escape').replace(b'\\\\\\\\', b'\\\\').decode('unicode-escape'))\n",
        "print(qyT)"
      ],
      "metadata": {
        "colab": {
          "base_uri": "https://localhost:8080/"
        },
        "id": "-8icysshR7jA",
        "outputId": "f053b78d-202d-455e-a0f7-9c608d5b68af"
      },
      "execution_count": 53,
      "outputs": [
        {
          "output_type": "stream",
          "name": "stdout",
          "text": [
            "['Power Semiconductor and Electronics Manufacturing 4.0'\n",
            " 'Trusted European SiC Value Chain for a greener Economy'\n",
            " 'Vertical GaN on Silicon: Wide Band Gap Power at Silicon Cost'\n",
            " 'Five Volt Lithium Ion Batteries with Silicon Anodes produced for Next Generation Electric Vehicles'\n",
            " 'POWER SoC With Integrated PassivEs'\n",
            " 'Smart Battery Control System based on a Charge-equalization Circuit for an advanced Dual-Cell Battery for Electric Vehicles'\n",
            " 'Haptic Printed and Patterned Interfaces for Sensitive Surface']\n"
          ]
        }
      ]
    },
    {
      "cell_type": "code",
      "source": [
        "strqy3=\"objective\\\":\\\"\"\n",
        "\n",
        "qy = []\n",
        "#qyS = 0.0\n",
        "for i in SOUP:\n",
        "  i3qya = i.find(strqy3)\n",
        "  i3qyb = i.find(\"\\\",\\\"topics\")\n",
        "  qy = np.append(qy, i[i3qya+len(strqy3):i3qyb].encode('unicode-escape').replace(b'\\\\\\\\', b'\\\\').decode('unicode-escape'))\n",
        "  #qy = np.append(qy, i[i3qya+len(strqy3):i3qyb].replace(\"\\\\u003Cbr\\\\/\\\\u003E\", \"\\\\n \").replace(\"\\\\u201d\", \"\\\"\").replace(\"\\\\u201c\", \"\\\"\").replace(\"\\\\u2019\", \"\\'\").replace(\"\\\\u003E\", \"\\'\").replace(\"\\\\u2018\",\"\\'\").replace(\"\\\\u0022\", \"'\"))\n",
        "  #qyS += float(i[i3qya+len(strqy3):i3qyb])\n",
        "\n",
        "#print(qy)\n",
        "#str(qy[0]).find(\"\\\\u201c\")\n",
        "#print(unicodedata.normalize('NFKD', qy[0]).encode('ascii', 'replace').decode())\n",
        "#print(str(qy[0]).decode())\n",
        "#print(json.loads(str(qy[0])))"
      ],
      "metadata": {
        "colab": {
          "base_uri": "https://localhost:8080/"
        },
        "id": "uOWRP3vXslPn",
        "outputId": "2d208367-bcc6-4656-9ab5-1fb1ae0fe584"
      },
      "execution_count": 54,
      "outputs": [
        {
          "output_type": "stream",
          "name": "stderr",
          "text": [
            "/usr/local/lib/python3.7/dist-packages/ipykernel_launcher.py:8: DeprecationWarning: invalid escape sequence '\\/'\n",
            "  \n"
          ]
        }
      ]
    },
    {
      "cell_type": "code",
      "source": [
        "str3=\"ecContribution\\\":\"\n",
        "\n",
        "w = []\n",
        "wS = 0.0\n",
        "for i in SOUP:\n",
        "  i3a = i.find(str3)\n",
        "  i3b = i.find(\",\\\"totalCost\")\n",
        "  w = np.append(w, i[i3a+len(str3):i3b])\n",
        "  wS += float(i[i3a+len(str3):i3b])\n",
        "print(w)\n",
        "ggg = round(wS/1000000.0,1)\n",
        "print(round(wS/1000000.0,1))"
      ],
      "metadata": {
        "id": "xF2wqU7uPm8t",
        "outputId": "52ddb377-651f-419e-d203-802cbee2e087",
        "colab": {
          "base_uri": "https://localhost:8080/"
        }
      },
      "execution_count": 55,
      "outputs": [
        {
          "output_type": "stream",
          "name": "stdout",
          "text": [
            "['12227386.14' '20736450.93' '7797661.5' '5673272.5' '3295000' '4005872'\n",
            " '3774006']\n",
            "57.5\n"
          ]
        }
      ]
    },
    {
      "cell_type": "code",
      "source": [
        "import time\n",
        "from datetime import datetime, timedelta\n",
        "\n",
        "str3a=\"startDateCode\\\":\\\"\"\n",
        "str3b=\"endDateCode\\\":\\\"\"\n",
        "\n",
        "datesa = []\n",
        "datesb = []\n",
        "#dateA = []\n",
        "\n",
        "dictt = []\n",
        "\n",
        "wS = 0.0\n",
        "for i in SOUP:\n",
        "  i3aa = i.find(str3a)\n",
        "  i3ab = i.find(\"\\\",\\\"endDate\")\n",
        "  datea = datetime.strptime(i[i3aa+len(str3a):i3ab], \"%Y-%m-%d\").strftime('%Y-%m-%d')\n",
        "  dictt = np.append(dictt, datetime.strptime(i[i3aa+len(str3a):i3ab], \"%Y-%m-%d\").strftime('%Y'))\n",
        "  i3ba = i.find(str3b)\n",
        "  i3bb = i.find(\"\\\",\\\"website\")\n",
        "  dateb = datetime.strptime(i[i3ba+len(str3b):i3bb], \"%Y-%m-%d\").strftime('%Y-%m-%d')\n",
        "  datesa = np.append(datesa, [datea])\n",
        "  datesb = np.append(datesb, [dateb])\n",
        "  \n",
        "  print(datea, dateb)\n",
        "\n",
        "Nulla=datesa[0]\n",
        "Nullb=datesb[0]\n",
        "for i in datesa:\n",
        "  if (i<Nulla):\n",
        "    Nulla = i\n",
        "for i in datesb:\n",
        "  if (i>Nullb):\n",
        "    Nullb = i\n",
        "\n",
        "print(\"von: \", Nulla, Nullb)\n",
        "\n",
        "NullaE=datesa[0]\n",
        "for i in datesa:\n",
        "  if (i>NullaE):\n",
        "    NullaE = i\n",
        "\n",
        "gg = datetime.strptime(NullaE, \"%Y-%m-%d\").strftime('%Y')\n",
        "print(gg)\n",
        "print(str(gg))\n",
        "print(\"Letztes: \", datetime.strptime(NullaE, \"%Y-%m-%d\").strftime('%Y'))\n"
      ],
      "metadata": {
        "id": "G5C8X4RXPsJc",
        "outputId": "8060542a-942a-49ad-9d15-ef639021c96a",
        "colab": {
          "base_uri": "https://localhost:8080/"
        }
      },
      "execution_count": 56,
      "outputs": [
        {
          "output_type": "stream",
          "name": "stdout",
          "text": [
            "2016-05-01 2019-04-30\n",
            "2021-05-01 2024-04-30\n",
            "2021-05-01 2024-04-30\n",
            "2015-05-01 2018-04-30\n",
            "2012-10-01 2016-03-31\n",
            "2011-05-01 2014-10-31\n",
            "2015-01-01 2017-12-31\n",
            "von:  2011-05-01 2024-04-30\n",
            "2021\n",
            "2021\n",
            "Letztes:  2021\n"
          ]
        }
      ]
    },
    {
      "cell_type": "code",
      "source": [
        "#my_dict = {i:dictt.count(i) for i in dictt}\n",
        "unique, counts = np.unique(dictt, return_counts=True)\n",
        "dictt2 = dict(zip(unique, counts))"
      ],
      "metadata": {
        "id": "VG9r0Mu9P2nM"
      },
      "execution_count": 57,
      "outputs": []
    },
    {
      "cell_type": "code",
      "source": [
        "strS4a = \"title\\\":\\\"\"\n",
        "strS4b = \"\\\",\\\"acronym\"\n",
        "strS4aq = \"ecContribution\\\":\"\n",
        "strS4bq = \",\\\"totalCost\"\n",
        "strS4aw = \"totalCost\\\":\"\n",
        "strS4bw = \",\\\"contentCreationDate\"\n",
        "dataS4 = []\n",
        "dataS4q = []\n",
        "dataS4w = []\n",
        "dataS4e = []\n",
        "for i in SOUP:\n",
        "  i3ca = i.find(strS4a)\n",
        "  i3cb = i.find(strS4b)\n",
        "  dataS4 = np.append(dataS4, i[i3ca+len(strS4a):i3cb])\n",
        "  i3ca = i.find(strS4aq)\n",
        "  i3cb = i.find(strS4bq)\n",
        "  dataS4q = np.append(dataS4q, i[i3ca+len(strS4aq):i3cb])\n",
        "  i3ca = i.find(strS4aw)\n",
        "  i3cb = i.find(strS4bw)\n",
        "  dataS4w = np.append(dataS4w, i[i3ca+len(strS4aw):i3cb])\n",
        "  a = i.count(\"netEcContribution\")\n",
        "  print(a)\n",
        "  dataS4e = np.append(dataS4e, a-1)\n",
        "print(dataS4)\n",
        "print(dataS4q)\n",
        "print(dataS4w)\n",
        "print(dataS4e)"
      ],
      "metadata": {
        "id": "jPlVQVYuYmE2",
        "outputId": "9b52c4bb-ccdf-4d4c-c8fe-0a97b3c6e3a0",
        "colab": {
          "base_uri": "https://localhost:8080/"
        }
      },
      "execution_count": 58,
      "outputs": [
        {
          "output_type": "stream",
          "name": "stdout",
          "text": [
            "37\n",
            "36\n",
            "28\n",
            "10\n",
            "9\n",
            "10\n",
            "10\n",
            "['Power Semiconductor and Electronics Manufacturing 4.0'\n",
            " 'Trusted European SiC Value Chain for a greener Economy'\n",
            " 'Vertical GaN on Silicon: Wide Band Gap Power at Silicon Cost'\n",
            " 'Five Volt Lithium Ion Batteries with Silicon Anodes produced for Next Generation Electric Vehicles'\n",
            " 'POWER SoC With Integrated PassivEs'\n",
            " 'Smart Battery Control System based on a Charge-equalization Circuit for an advanced Dual-Cell Battery for Electric Vehicles'\n",
            " 'Haptic Printed and Patterned Interfaces for Sensitive Surface']\n",
            "['12227386.14' '20736450.93' '7797661.5' '5673272.5' '3295000' '4005872'\n",
            " '3774006']\n",
            "['61919643.75' '89087499.26' '26998506.26' '5927428.75' '5123890'\n",
            " '6548215' '3774006']\n",
            "[36. 35. 27.  9.  8.  9.  9.]\n"
          ]
        }
      ]
    },
    {
      "cell_type": "code",
      "source": [
        "PaStrA = \"\\\",\\\"address\"\n",
        "PaStrB = \"name\\\":\\\"\"\n",
        "Parti = []\n",
        "for i in SOUP:\n",
        "  ii = i\n",
        "  counter = 0\n",
        "  while True:\n",
        "    i3caa = ii.find(PaStrA)\n",
        "    if i3caa == -1:\n",
        "      break\n",
        "    dstr00 = ii[:i3caa]\n",
        "    i3cba = dstr00.rfind(PaStrB)\n",
        "    #print(ii[i3cba+len(PaStrB):i3caa])\n",
        "    #if counter != 0:\n",
        "    blllqq = ii[i3cba+len(PaStrB):i3caa].replace(\"\\\\u0026\", \"&\").replace(\"\\\\u0027\", \"\\'\")#'\n",
        "    Parti = np.append(Parti, blllqq)\n",
        "    ii = ii[i3caa+200:]\n",
        "    counter += 1\n",
        "  \n",
        "PartiSet = list(set(Parti))\n",
        "print(len(Parti))\n",
        "print(len(PartiSet))\n",
        "  #i3ca = i.find(PaStrA)\n",
        "  #ii = i[i3ca-200:]\n",
        "  #i3cb = ii.find(PaStrB)\n",
        "  #print(i[i3ca:])\n",
        "  #Parti = np.append(Parti, ii[i3ca-200+i3cb+len(PaStrB):i3ca])\n",
        "\n",
        "#print(Parti)"
      ],
      "metadata": {
        "id": "CyqwlCVsUicf",
        "outputId": "c26cf3a7-520d-4da6-c572-eefb5344f6ac",
        "colab": {
          "base_uri": "https://localhost:8080/"
        }
      },
      "execution_count": 59,
      "outputs": [
        {
          "output_type": "stream",
          "name": "stdout",
          "text": [
            "140\n",
            "114\n"
          ]
        }
      ]
    },
    {
      "cell_type": "code",
      "source": [
        "from collections import Counter\n",
        "numbers = Parti\n",
        "\n",
        "counts = dict(Counter(numbers))\n",
        "duplicates = {key:value for key, value in counts.items() if value > 1}\n",
        "\n",
        "print(duplicates)\n",
        "Partix = dict(sorted(duplicates.items(), key=lambda item: item[1], reverse=True))\n",
        "print(Partix)\n",
        "print(len(Partix))\n",
        "\n",
        "\n",
        "numbers2 = Parti\n",
        "counts2 = dict(Counter(numbers))\n",
        "duplicates2 = {key:value for key, value in counts2.items() if value > 0}\n",
        "Partix2 = dict(sorted(counts.items(), key=lambda item: item[1], reverse=True))\n",
        "print(Partix2)\n",
        "print(len(Partix2))"
      ],
      "metadata": {
        "id": "GhHspKgGgfk8",
        "outputId": "0ab68b52-8d62-4bec-dac0-e81ad39ee1d1",
        "colab": {
          "base_uri": "https://localhost:8080/"
        }
      },
      "execution_count": 60,
      "outputs": [
        {
          "output_type": "stream",
          "name": "stdout",
          "text": [
            "{'INFINEON TECHNOLOGIES AUSTRIA  AG': 2, 'AVL LIST GMBH': 3, 'VIRTUAL VEHICLE RESEARCH GMBH': 2, 'MATERIALS CENTER LEOBEN FORSCHUNG GMBH': 2, 'INFINEON TECHNOLOGIES AG': 2, 'SEMIKRON ELEKTRONIK GMBH & CO. KG': 2, 'ROBERT BOSCH GMBH': 7, 'ION BEAM SERVICES': 2, 'FRAUNHOFER GESELLSCHAFT ZUR FORDERUNG DER ANGEWANDTEN FORSCHUNG EV': 4, 'COMMISSARIAT A L ENERGIE ATOMIQUE ET AUX ENERGIES ALTERNATIVES': 2, 'AIXTRON SE': 2, 'EV GROUP E. THALLNER GMBH': 2, 'CONSORZIO NAZIONALE INTERUNIVERSITARIO PER LA NANOELETTRONICA': 2, 'UNIVERSITA DEGLI STUDI DI MODENA E REGGIO EMILIA': 2, 'CENTRE NATIONAL DE LA RECHERCHE SCIENTIFIQUE CNRS': 2, 'UNIVERSITE DE LILLE': 2, 'ARKEMA FRANCE SA': 2, 'VRIJE UNIVERSITEIT BRUSSEL': 2}\n",
            "{'ROBERT BOSCH GMBH': 7, 'FRAUNHOFER GESELLSCHAFT ZUR FORDERUNG DER ANGEWANDTEN FORSCHUNG EV': 4, 'AVL LIST GMBH': 3, 'INFINEON TECHNOLOGIES AUSTRIA  AG': 2, 'VIRTUAL VEHICLE RESEARCH GMBH': 2, 'MATERIALS CENTER LEOBEN FORSCHUNG GMBH': 2, 'INFINEON TECHNOLOGIES AG': 2, 'SEMIKRON ELEKTRONIK GMBH & CO. KG': 2, 'ION BEAM SERVICES': 2, 'COMMISSARIAT A L ENERGIE ATOMIQUE ET AUX ENERGIES ALTERNATIVES': 2, 'AIXTRON SE': 2, 'EV GROUP E. THALLNER GMBH': 2, 'CONSORZIO NAZIONALE INTERUNIVERSITARIO PER LA NANOELETTRONICA': 2, 'UNIVERSITA DEGLI STUDI DI MODENA E REGGIO EMILIA': 2, 'CENTRE NATIONAL DE LA RECHERCHE SCIENTIFIQUE CNRS': 2, 'UNIVERSITE DE LILLE': 2, 'ARKEMA FRANCE SA': 2, 'VRIJE UNIVERSITEIT BRUSSEL': 2}\n",
            "18\n",
            "{'ROBERT BOSCH GMBH': 7, 'FRAUNHOFER GESELLSCHAFT ZUR FORDERUNG DER ANGEWANDTEN FORSCHUNG EV': 4, 'AVL LIST GMBH': 3, 'INFINEON TECHNOLOGIES AUSTRIA  AG': 2, 'VIRTUAL VEHICLE RESEARCH GMBH': 2, 'MATERIALS CENTER LEOBEN FORSCHUNG GMBH': 2, 'INFINEON TECHNOLOGIES AG': 2, 'SEMIKRON ELEKTRONIK GMBH & CO. KG': 2, 'ION BEAM SERVICES': 2, 'COMMISSARIAT A L ENERGIE ATOMIQUE ET AUX ENERGIES ALTERNATIVES': 2, 'AIXTRON SE': 2, 'EV GROUP E. THALLNER GMBH': 2, 'CONSORZIO NAZIONALE INTERUNIVERSITARIO PER LA NANOELETTRONICA': 2, 'UNIVERSITA DEGLI STUDI DI MODENA E REGGIO EMILIA': 2, 'CENTRE NATIONAL DE LA RECHERCHE SCIENTIFIQUE CNRS': 2, 'UNIVERSITE DE LILLE': 2, 'ARKEMA FRANCE SA': 2, 'VRIJE UNIVERSITEIT BRUSSEL': 2, 'KAI KOMPETENZZENTRUM AUTOMOBIL - UND INDUSTRIEELEKTRONIK GMBH': 1, 'KNOW-CENTER GMBH RESEARCH CENTER FOR DATA-DRIVEN BUSINESS & BIG DATA ANALYTICS': 1, 'INFINEON TECHNOLOGIES IT-SERVICES GMBH': 1, 'AT & S AUSTRIA TECHNOLOGIE & SYSTEMTECHNIK AKTIENGESELLSCHAFT': 1, 'FRAUNHOFER AUSTRIA RESEARCH GMBH': 1, 'TECHNISCHE UNIVERSITAET WIEN': 1, 'PLANSEE SE': 1, 'UNIVERSITAET KLAGENFURT': 1, 'AIT AUSTRIAN INSTITUTE OF TECHNOLOGY GMBH': 1, 'FACHHOCHSCHULE BURGENLAND GMBH': 1, 'INFINEON TECHNOLOGIES DRESDEN GMBH& CO KG': 1, 'INSTITUT FUER AUTOMATION UND KOMMUNIKATION E.V. MAGDEBURG': 1, 'TECHNISCHE UNIVERSITAET DRESDEN': 1, 'SYSTEMA SYSTEMENTWICKLUNG DIPL INF.MANFRED AUSTEN GMBH': 1, 'PLASMETREX GMBH': 1, 'ZNT ZENTREN FUR NEUE TECHNOLOGIEN GMBH': 1, 'FABMATICS GMBH': 1, 'METRALABS GMBH NEUE TECHNOLOGIEN UND SYSTEME': 1, 'HOCHSCHULE MITTWEIDA (FH)': 1, 'ELMOS SEMICONDUCTOR SE': 1, 'UNIVERSITA DEGLI STUDI DI PAVIA': 1, 'L.P.E. SPA': 1, 'CRITICAL MANUFACTURING SA': 1, 'ATEP - AMKOR TECHNOLOGY PORTUGAL SA': 1, 'INSTITUTO DE TELECOMUNICACOES': 1, 'UNIVERSIDADE DE AVEIRO': 1, 'SCHILLER AUTOMATISIERUNGSTECHNIK GMBH': 1, 'POLITECNICO DI MILANO': 1, 'SOITEC SA': 1, 'STMICROELECTRONICS SRL': 1, 'STMICROELECTRONICS SILICON CARBIDE AB': 1, 'TECHNISCHE UNIVERSITAET CHEMNITZ': 1, 'VALEO SIEMENS E AUTOMOTIVE FRANCESAS': 1, 'CENTROTHERM INTERNATIONAL AG': 1, 'FORSCHUNGS- UND ENTWICKLUNGSZENTRUM FACHHOCHSCHULE KIEL GMBH': 1, 'NOVASIC SA': 1, 'DANFOSS SILICON POWER GMBH': 1, \"SAINT-GOBAIN CENTRE DE RECHERCHES ET D'ETUDES EUROPEEN\": 1, 'MERSEN FRANCE GENNEVILLIERS SAS': 1, 'HOCHSCHULE HAMM-LIPPSTADT': 1, 'TECHNISCHE UNIVERSITAT KAISERSLAUTERN': 1, 'HIGH PERFORMANCE ENGINEERING SOCIETA A RESPONSABILITA LIMITATA': 1, 'ALMA MATER STUDIORUM - UNIVERSITA DI BOLOGNA': 1, 'CENTRALE LILLE INSTITUT': 1, 'LASERTEC USA INC': 1, 'INSTITUT MIKROELEKTRONICKYCH APLIKACI SRO': 1, 'VYSOKE UCENI TECHNICKE V BRNE': 1, 'LINKOPINGS UNIVERSITET': 1, 'SOITEC LAB': 1, 'SURAGUS GMBH': 1, 'SAINT-GOBAIN INDUSTRIEKERAMIK RODENTAL GMBH': 1, 'NANO-JOIN GMBH': 1, 'TPLUS ENGINEERING GMBH': 1, 'ISLE STEUERUNGSTECHNIK UND LEISTUNGSELEKTRONIK GMBH': 1, 'UNIVERSIDAD DE SEVILLA': 1, 'PREMO S.A.U.': 1, 'FERDINAND-BRAUN-INSTITUT GGMBH LEIBNIZ- INSTITUT FUR HOCHSTFREQUENZTECNIK': 1, 'SOITEC BELGIUM NV': 1, 'FINEPOWER GMBH': 1, 'HEXAGEM AB': 1, 'LUNDS UNIVERSITET': 1, 'X-FAB Dresden GmbH & Co. KG': 1, 'X-FAB GLOBAL SERVICES GMBH': 1, 'X-FAB SEMICONDUCTOR FOUNDRIES GMBH': 1, 'X-FAB MEMS FOUNDRY GmbH': 1, 'SMART INDUCTION CONVERTER TECHNOLOGIES SL': 1, 'UNIVERSITAT DE VALENCIA': 1, 'NANOWIRED GMBH': 1, 'UNIVERSITEIT GENT': 1, 'SILTRONIC AG': 1, 'AUREL SPA': 1, 'UNIVERSITA DEGLI STUDI DI PADOVA': 1, 'RAW POWER SRL': 1, 'STMICROELECTRONICS (TOURS) SAS': 1, '3M DEUTSCHLAND GMBH': 1, 'UMICORE': 1, 'ZENTRUM FUR SONNENENERGIE- UND WASSERSTOFF-FORSCHUNG BADEN-WURTTEMBERG': 1, 'BAYERISCHE MOTOREN WERKE AKTIENGESELLSCHAFT': 1, 'JRC -JOINT RESEARCH CENTRE- EUROPEAN COMMISSION': 1, 'UNIVERSITY COLLEGE CORK -  NATIONAL UNIVERSITY OF IRELAND, CORK': 1, 'UNIVERSIDAD POLITECNICA DE MADRID': 1, 'MURATA INTEGRATED PASSIVE SOLUTIONS': 1, 'UNIVERSITE LYON 1 CLAUDE BERNARD': 1, 'INSTITUT NATIONAL DES SCIENCES APPLIQUEES DE LYON': 1, 'K & S GMBH PROJEKTMANAGEMENT': 1, 'EUROPEAN BATTERIES OY': 1, 'VALEO EQUIPEMENTS ELECTRIQUES MOTEUR SAS': 1, 'IFP Energies nouvelles': 1, 'CENTRO RICERCHE FIAT SCPA': 1, 'VOLVO TECHNOLOGY AB': 1, 'UNIVERSITY OF GLASGOW': 1, 'INSTITUT NATIONAL DE RECHERCHE EN INFORMATIQUE ET AUTOMATIQUE': 1, 'ISD LYSEIS OLOKRIROMENON SYSTIMATONANONYMOS ETAIREIA': 1, 'WALTER PAK SL': 1, 'SYMBIOSE': 1, 'FUNDACION GAIKER': 1}\n",
            "114\n"
          ]
        }
      ]
    },
    {
      "cell_type": "code",
      "source": [
        "str3c = \"participants\\\":[\"\n",
        "\n",
        "datac = []\n",
        "for i in SOUP:\n",
        "  i3ca = i.find(str3c)\n",
        "  i3cb = i.find(\"],\\\"partners\")\n",
        "  datac = np.append(datac, i[i3ca+len(str3c):i3cb])\n",
        "\n",
        "print(datac)\n",
        "\n",
        "cou = 0\n",
        "cou = 0\n",
        "for i in datac:\n",
        "  cou += i.count(\"country\")\n",
        "\n",
        "print(cou)\n",
        "\n",
        "str3ca = \"country\\\":{\\\"name\\\":\\\"\"\n",
        "\n",
        "dataca = []\n",
        "for i in SOUP:\n",
        "  while True:\n",
        "    i3caa = i.find(str3ca)\n",
        "    i3cba = i.find(\"\\\",\\\"isoCode\")\n",
        "    #print(\"a: \", i3caa, \"b: \", i3cba)\n",
        "    #print(i3caa)\n",
        "    if i3caa == -1:\n",
        "      break\n",
        "    #print(i3caa)\n",
        "    #print(i[i3caa+len(str3ca):i3cba])\n",
        "    dataca = np.append(dataca, i[i3caa+len(str3ca):i3cba])\n",
        "    i = i[i3caa+len(str3ca)+25:]\n",
        "    \n",
        "    #print(i3cba)\n",
        "    #print(i)\n",
        "print(dataca)\n",
        "print(len(set(dataca)))\n",
        "\n",
        "str3cb = \"framework\\\":\\\"\"\n",
        "\n",
        "datacb = []\n",
        "for i in SOUP:\n",
        "  i3cab = i.find(str3cb)\n",
        "  i3cbb = i.find(\"\\\",\\\"language\")\n",
        "  datacb = np.append(datacb, i[i3cab+len(str3cb):i3cbb])\n",
        "\n",
        "print(list(set(datacb)))\n",
        "print(len(set(datacb)))"
      ],
      "metadata": {
        "id": "RXJ9O1n-P7LL",
        "outputId": "5342e788-6463-4413-dbb8-276c86030dd7",
        "colab": {
          "base_uri": "https://localhost:8080/"
        }
      },
      "execution_count": 61,
      "outputs": [
        {
          "output_type": "stream",
          "name": "stdout",
          "text": [
            "['{\"name\":\"KAI KOMPETENZZENTRUM AUTOMOBIL - UND INDUSTRIEELEKTRONIK GMBH\",\"address\":{\"street\":\"EUROPASTRASSE 8\",\"city\":\"VILLACH ST MAGDALEN\",\"postalCode\":\"9524\"},\"country\":{\"name\":\"Austria\",\"isoCode\":\"AT\",\"euCode\":\"AT\"},\"terminated\":false,\"order\":2,\"activityType\":\"Private for-profit entities (excluding Higher or Secondary Education Establishments)\",\"contribution\":93559.5,\"netEcContribution\":93559.5,\"nonEcContribution\":530170.5,\"formula\":\"participant: 623730 - 93559.5 - 0\",\"website\":\"www.k-ai.at\",\"email\":\"\",\"type\":\"participant\",\"contacts\":[],\"organizationId\":\"952872226\",\"rcn\":\"2498702\",\"active\":true,\"sme\":false,\"regions\":\"S\\\\u00fcd\\\\u00f6sterreich|K\\\\u00e4rnten|Klagenfurt-Villach\"},{\"name\":\"KNOW-CENTER GMBH RESEARCH CENTER FOR DATA-DRIVEN BUSINESS \\\\u0026 BIG DATA ANALYTICS\",\"address\":{\"street\":\"INFFELDGASSE 13\\\\/6\",\"city\":\"GRAZ\",\"postalCode\":\"8010\"},\"country\":{\"name\":\"Austria\",\"isoCode\":\"AT\",\"euCode\":\"AT\"},\"terminated\":false,\"order\":3,\"activityType\":\"Research Organisations\",\"contribution\":405000,\"netEcContribution\":405000,\"nonEcContribution\":607500,\"formula\":\"participant: 1012500 - 405000 - 0\",\"website\":\"www.know-center.at\",\"email\":\"\",\"type\":\"participant\",\"contacts\":[],\"organizationId\":\"997997111\",\"rcn\":\"1911623\",\"active\":true,\"sme\":true,\"regions\":\"S\\\\u00fcd\\\\u00f6sterreich|Steiermark|Graz\"},{\"name\":\"INFINEON TECHNOLOGIES IT-SERVICES GMBH\",\"address\":{\"street\":\"LAKESIDE 5\",\"city\":\"KLAGENFURT\",\"postalCode\":\"9020\"},\"country\":{\"name\":\"Austria\",\"isoCode\":\"AT\",\"euCode\":\"AT\"},\"terminated\":false,\"order\":4,\"activityType\":\"Private for-profit entities (excluding Higher or Secondary Education Establishments)\",\"contribution\":261105,\"netEcContribution\":261105,\"nonEcContribution\":1479595,\"formula\":\"participant: 1740700 - 261105 - 0\",\"website\":\"\",\"email\":\"\",\"type\":\"participant\",\"contacts\":[],\"organizationId\":\"999704796\",\"rcn\":\"2498969\",\"active\":true,\"sme\":false,\"regions\":\"S\\\\u00fcd\\\\u00f6sterreich|K\\\\u00e4rnten|Klagenfurt-Villach\"},{\"name\":\"AT \\\\u0026 S AUSTRIA TECHNOLOGIE \\\\u0026 SYSTEMTECHNIK AKTIENGESELLSCHAFT\",\"address\":{\"street\":\"FABRIKSGASSE 13\",\"city\":\"LEOBEN\",\"postalCode\":\"8700\"},\"country\":{\"name\":\"Austria\",\"isoCode\":\"AT\",\"euCode\":\"AT\"},\"terminated\":false,\"order\":5,\"activityType\":\"Private for-profit entities (excluding Higher or Secondary Education Establishments)\",\"contribution\":309099.38,\"netEcContribution\":309099.38,\"nonEcContribution\":1751563.12,\"formula\":\"participant: 2060662.5 - 309099.38 - 0\",\"website\":\"\",\"email\":\"\",\"type\":\"participant\",\"contacts\":[],\"organizationId\":\"999571615\",\"rcn\":\"1916655\",\"active\":true,\"sme\":false,\"regions\":\"S\\\\u00fcd\\\\u00f6sterreich|Steiermark|\\\\u00d6stliche Obersteiermark\"},{\"name\":\"FRAUNHOFER AUSTRIA RESEARCH GMBH\",\"address\":{\"street\":\"THERESIANUMGASSE   7\",\"city\":\"WIEN\",\"postalCode\":\"1040\"},\"country\":{\"name\":\"Austria\",\"isoCode\":\"AT\",\"euCode\":\"AT\"},\"terminated\":false,\"order\":6,\"activityType\":\"Research Organisations\",\"contribution\":222635,\"netEcContribution\":222635,\"nonEcContribution\":333952.5,\"formula\":\"participant: 556587.5 - 222635 - 0\",\"website\":\"\",\"email\":\"\",\"type\":\"participant\",\"contacts\":[],\"organizationId\":\"990373881\",\"rcn\":\"2532306\",\"active\":true,\"sme\":false,\"regions\":\"Wien|Wien\"},{\"name\":\"TECHNISCHE UNIVERSITAET WIEN\",\"address\":{\"street\":\"KARLSPLATZ 13\",\"city\":\"WIEN\",\"postalCode\":\"1040\"},\"country\":{\"name\":\"Austria\",\"isoCode\":\"AT\",\"euCode\":\"AT\"},\"terminated\":false,\"order\":7,\"activityType\":\"Higher or Secondary Education Establishments\",\"contribution\":365712,\"netEcContribution\":365712,\"nonEcContribution\":548568,\"formula\":\"participant: 914280 - 365712 - 0\",\"website\":\"http:\\\\/\\\\/www.tuwien.ac.at\",\"email\":\"\",\"type\":\"participant\",\"contacts\":[],\"organizationId\":\"999979888\",\"rcn\":\"1908489\",\"active\":true,\"sme\":false,\"regions\":\"Wien|Wien\"},{\"name\":\"PLANSEE SE\",\"address\":{\"street\":\"METALLWERK PLANSEE STRASSE 71\",\"city\":\"REUTTE\",\"postalCode\":\"6600\"},\"country\":{\"name\":\"Austria\",\"isoCode\":\"AT\",\"euCode\":\"AT\"},\"terminated\":false,\"order\":8,\"activityType\":\"Private for-profit entities (excluding Higher or Secondary Education Establishments)\",\"contribution\":185915.63,\"netEcContribution\":185915.63,\"nonEcContribution\":1053521.87,\"formula\":\"participant: 1239437.5 - 185915.63 - 0\",\"website\":\"www.plansee.com\",\"email\":\"\",\"type\":\"participant\",\"contacts\":[],\"organizationId\":\"999488389\",\"rcn\":\"2123608\",\"active\":true,\"sme\":false,\"regions\":\"West\\\\u00f6sterreich|Tirol|Au\\\\u00dferfern\"},{\"name\":\"AVL LIST GMBH\",\"address\":{\"street\":\"HANS-LIST-PLATZ 1\",\"city\":\"GRAZ\",\"postalCode\":\"8020\"},\"country\":{\"name\":\"Austria\",\"isoCode\":\"AT\",\"euCode\":\"AT\"},\"terminated\":false,\"order\":9,\"activityType\":\"Private for-profit entities (excluding Higher or Secondary Education Establishments)\",\"contribution\":283862.06,\"netEcContribution\":283862.06,\"nonEcContribution\":1608551.69,\"formula\":\"participant: 1892413.75 - 283862.06 - 0\",\"website\":\"http:\\\\/\\\\/www.avl.com\",\"email\":\"\",\"type\":\"participant\",\"contacts\":[],\"organizationId\":\"999952243\",\"rcn\":\"1905904\",\"active\":true,\"sme\":false,\"regions\":\"S\\\\u00fcd\\\\u00f6sterreich|Steiermark|Graz\"},{\"name\":\"UNIVERSITAET KLAGENFURT\",\"address\":{\"street\":\"UNIVERSITAETSSTRASSE 65-67\",\"city\":\"KLAGENFURT\",\"postalCode\":\"9020\"},\"country\":{\"name\":\"Austria\",\"isoCode\":\"AT\",\"euCode\":\"AT\"},\"terminated\":false,\"order\":10,\"activityType\":\"Higher or Secondary Education Establishments\",\"contribution\":201172.5,\"netEcContribution\":201172.5,\"nonEcContribution\":301758.75,\"formula\":\"participant: 502931.25 - 201172.5 - 0\",\"website\":\"http:\\\\/\\\\/www.uni-klu.ac.at\",\"email\":\"\",\"type\":\"participant\",\"contacts\":[],\"organizationId\":\"999836813\",\"rcn\":\"1907998\",\"active\":true,\"sme\":false,\"regions\":\"S\\\\u00fcd\\\\u00f6sterreich|K\\\\u00e4rnten|Klagenfurt-Villach\"},{\"name\":\"VIRTUAL VEHICLE RESEARCH GMBH\",\"address\":{\"street\":\"INFFELDGASSE 21 A\",\"city\":\"GRAZ\",\"postalCode\":\"8010\"},\"country\":{\"name\":\"Austria\",\"isoCode\":\"AT\",\"euCode\":\"AT\"},\"terminated\":false,\"order\":11,\"activityType\":\"Research Organisations\",\"contribution\":318834.5,\"netEcContribution\":318834.5,\"nonEcContribution\":478251.75,\"formula\":\"participant: 797086.25 - 318834.5 - 0\",\"website\":\"http:\\\\/\\\\/www.virtuellesfahrzeug.at\",\"email\":\"\",\"type\":\"participant\",\"contacts\":[],\"organizationId\":\"997885852\",\"rcn\":\"1914567\",\"active\":true,\"sme\":true,\"regions\":\"S\\\\u00fcd\\\\u00f6sterreich|Steiermark|Graz\"},{\"name\":\"AIT AUSTRIAN INSTITUTE OF TECHNOLOGY GMBH\",\"address\":{\"street\":\"GIEFINGGASSE 4\",\"city\":\"WIEN\",\"postalCode\":\"1210\"},\"country\":{\"name\":\"Austria\",\"isoCode\":\"AT\",\"euCode\":\"AT\"},\"terminated\":false,\"order\":12,\"activityType\":\"Research Organisations\",\"contribution\":482126,\"netEcContribution\":482126,\"nonEcContribution\":723189,\"formula\":\"participant: 1205315 - 482126 - 0\",\"website\":\"http:\\\\/\\\\/www.ait.ac.at\\\\/\",\"email\":\"\",\"type\":\"participant\",\"contacts\":[],\"organizationId\":\"999584128\",\"rcn\":\"1905899\",\"active\":true,\"sme\":false,\"regions\":\"Wien|Wien\"},{\"name\":\"FACHHOCHSCHULE BURGENLAND GMBH\",\"address\":{\"street\":\"CAMPUS 1\",\"city\":\"EISENSTADT\",\"postalCode\":\"7000\"},\"country\":{\"name\":\"Austria\",\"isoCode\":\"AT\",\"euCode\":\"AT\"},\"terminated\":false,\"order\":13,\"activityType\":\"Higher or Secondary Education Establishments\",\"contribution\":175701,\"netEcContribution\":175701,\"nonEcContribution\":263551.5,\"formula\":\"participant: 439252.5 - 175701 - 0\",\"website\":\"\",\"email\":\"\",\"type\":\"participant\",\"contacts\":[],\"organizationId\":\"949240934\",\"rcn\":\"2532313\",\"active\":true,\"sme\":false,\"regions\":\"Burgenland|Nordburgenland\"},{\"name\":\"MATERIALS CENTER LEOBEN FORSCHUNG GMBH\",\"address\":{\"street\":\"ROSEGGERSTRASSE 12\",\"city\":\"LEOBEN\",\"postalCode\":\"8700\"},\"country\":{\"name\":\"Austria\",\"isoCode\":\"AT\",\"euCode\":\"AT\"},\"terminated\":false,\"order\":14,\"activityType\":\"Research Organisations\",\"contribution\":135650,\"netEcContribution\":135650,\"nonEcContribution\":203475,\"formula\":\"participant: 339125 - 135650 - 0\",\"website\":\"www.mcl.at\",\"email\":\"\",\"type\":\"participant\",\"contacts\":[],\"organizationId\":\"998806867\",\"rcn\":\"1917562\",\"active\":true,\"sme\":true,\"regions\":\"S\\\\u00fcd\\\\u00f6sterreich|Steiermark|\\\\u00d6stliche Obersteiermark\"},{\"name\":\"INFINEON TECHNOLOGIES DRESDEN GMBH\\\\u0026 CO KG\",\"address\":{\"street\":\"KONIGSBRUCKER STRASSE 180\",\"city\":\"DRESDEN\",\"postalCode\":\"01099\"},\"country\":{\"name\":\"Germany\",\"isoCode\":\"DE\",\"euCode\":\"DE\"},\"terminated\":false,\"order\":15,\"activityType\":\"Private for-profit entities (excluding Higher or Secondary Education Establishments)\",\"contribution\":1244362.5,\"netEcContribution\":1244362.5,\"nonEcContribution\":7051387.5,\"formula\":\"participant: 8295750 - 1244362.5 - 0\",\"website\":\"www.infineon.com\",\"email\":\"\",\"type\":\"participant\",\"contacts\":[],\"organizationId\":\"996701288\",\"rcn\":\"2498505\",\"active\":true,\"sme\":false,\"regions\":\"Sachsen|Dresden|Dresden, Kreisfreie Stadt\"},{\"name\":\"INFINEON TECHNOLOGIES AG\",\"address\":{\"street\":\"AM CAMPEON 1-15\",\"city\":\"NEUBIBERG\",\"postalCode\":\"85579\"},\"country\":{\"name\":\"Germany\",\"isoCode\":\"DE\",\"euCode\":\"DE\"},\"terminated\":false,\"order\":16,\"activityType\":\"Private for-profit entities (excluding Higher or Secondary Education Establishments)\",\"contribution\":1738467,\"netEcContribution\":1738467,\"nonEcContribution\":9851313,\"formula\":\"participant: 11589780 - 1738467 - 0\",\"website\":\"http:\\\\/\\\\/www.infineon.com\",\"email\":\"\",\"type\":\"participant\",\"contacts\":[],\"organizationId\":\"999978918\",\"rcn\":\"1914982\",\"active\":true,\"sme\":false,\"regions\":\"Bayern|Oberbayern|M\\\\u00fcnchen, Landkreis\"},{\"name\":\"INSTITUT FUER AUTOMATION UND KOMMUNIKATION E.V. MAGDEBURG\",\"address\":{\"street\":\"WERNER HEISENBERG STRASSE 1\",\"city\":\"MAGDEBURG\",\"postalCode\":\"39106\"},\"country\":{\"name\":\"Germany\",\"isoCode\":\"DE\",\"euCode\":\"DE\"},\"terminated\":false,\"order\":17,\"activityType\":\"Research Organisations\",\"contribution\":157218,\"netEcContribution\":157218,\"nonEcContribution\":235827,\"formula\":\"participant: 393045 - 157218 - 0\",\"website\":\"\",\"email\":\"\",\"type\":\"participant\",\"contacts\":[],\"organizationId\":\"999570548\",\"rcn\":\"1951641\",\"active\":true,\"sme\":false,\"regions\":\"Sachsen-Anhalt|Sachsen-Anhalt|Magdeburg, Kreisfreie Stadt\"},{\"name\":\"SEMIKRON ELEKTRONIK GMBH \\\\u0026 CO. KG\",\"address\":{\"street\":\"SIGMUNDSTRASSE 200\",\"city\":\"NURNBERG\",\"postalCode\":\"90431\"},\"country\":{\"name\":\"Germany\",\"isoCode\":\"DE\",\"euCode\":\"DE\"},\"terminated\":false,\"order\":18,\"activityType\":\"Private for-profit entities (excluding Higher or Secondary Education Establishments)\",\"contribution\":598837.5,\"netEcContribution\":598837.5,\"nonEcContribution\":3393412.5,\"formula\":\"participant: 3992250 - 598837.5 - 0\",\"website\":\"www.Semikron.com\",\"email\":\"\",\"type\":\"participant\",\"contacts\":[],\"organizationId\":\"969164346\",\"rcn\":\"1924845\",\"active\":true,\"sme\":false,\"regions\":\"Bayern|Mittelfranken|N\\\\u00fcrnberg, Kreisfreie Stadt\"},{\"name\":\"TECHNISCHE UNIVERSITAET DRESDEN\",\"address\":{\"street\":\"HELMHOLTZSTRASSE 10\",\"city\":\"DRESDEN\",\"postalCode\":\"01069\"},\"country\":{\"name\":\"Germany\",\"isoCode\":\"DE\",\"euCode\":\"DE\"},\"terminated\":false,\"order\":19,\"activityType\":\"Higher or Secondary Education Establishments\",\"contribution\":382501,\"netEcContribution\":382501,\"nonEcContribution\":573751.5,\"formula\":\"participant: 956252.5 - 382501 - 0\",\"website\":\"http:\\\\/\\\\/tu-dresden.de\",\"email\":\"\",\"type\":\"participant\",\"contacts\":[],\"organizationId\":\"999897729\",\"rcn\":\"1905682\",\"active\":true,\"sme\":false,\"regions\":\"Sachsen|Dresden|Dresden, Kreisfreie Stadt\"},{\"name\":\"ROBERT BOSCH GMBH\",\"address\":{\"street\":\"ROBERT-BOSCH-PLATZ 1\",\"city\":\"GERLINGEN-SCHILLERHOEHE\",\"postalCode\":\"70839\"},\"country\":{\"name\":\"Germany\",\"isoCode\":\"DE\",\"euCode\":\"DE\"},\"terminated\":false,\"order\":20,\"activityType\":\"Private for-profit entities (excluding Higher or Secondary Education Establishments)\",\"contribution\":450399.19,\"netEcContribution\":450399.19,\"nonEcContribution\":2552262.06,\"formula\":\"participant: 3002661.25 - 450399.19 - 0\",\"website\":\"http:\\\\/\\\\/www.bosch.com\",\"email\":\"\",\"type\":\"participant\",\"contacts\":[],\"organizationId\":\"999908787\",\"rcn\":\"1913203\",\"active\":true,\"sme\":false,\"regions\":\"Baden-W\\\\u00fcrttemberg|Stuttgart|Ludwigsburg\"},{\"name\":\"SYSTEMA SYSTEMENTWICKLUNG DIPL INF.MANFRED AUSTEN GMBH\",\"address\":{\"street\":\"MANFRED VON ARDENNE RING 6\",\"city\":\"DRESDEN\",\"postalCode\":\"01099\"},\"country\":{\"name\":\"Germany\",\"isoCode\":\"DE\",\"euCode\":\"DE\"},\"terminated\":false,\"order\":21,\"activityType\":\"Private for-profit entities (excluding Higher or Secondary Education Establishments)\",\"contribution\":231250,\"netEcContribution\":231250,\"nonEcContribution\":693750,\"formula\":\"participant: 925000 - 231250 - 0\",\"website\":\"www.systemagmbh.de\",\"email\":\"\",\"type\":\"participant\",\"contacts\":[],\"organizationId\":\"950353912\",\"rcn\":\"2498959\",\"active\":true,\"sme\":true,\"regions\":\"Sachsen|Dresden|Dresden, Kreisfreie Stadt\"},{\"name\":\"PLASMETREX GMBH\",\"address\":{\"street\":\"Schwarzschildstrasse  3\",\"city\":\"BERLIN\",\"postalCode\":\"12489\"},\"country\":{\"name\":\"Germany\",\"isoCode\":\"DE\",\"euCode\":\"DE\"},\"terminated\":false,\"order\":22,\"activityType\":\"Private for-profit entities (excluding Higher or Secondary Education Establishments)\",\"contribution\":55000,\"netEcContribution\":55000,\"nonEcContribution\":165000,\"formula\":\"participant: 220000 - 55000 - 0\",\"website\":\"\",\"email\":\"\",\"type\":\"participant\",\"contacts\":[],\"organizationId\":\"965888171\",\"rcn\":\"2532322\",\"active\":true,\"sme\":true,\"regions\":\"Berlin|Berlin|Berlin\"},{\"name\":\"ZNT ZENTREN FUR NEUE TECHNOLOGIEN GMBH\",\"address\":{\"street\":\"LENA-CHRIST-STRASSE 2\",\"city\":\"GRUNWALD\",\"postalCode\":\"82031\"},\"country\":{\"name\":\"Germany\",\"isoCode\":\"DE\",\"euCode\":\"DE\"},\"terminated\":false,\"order\":23,\"activityType\":\"Private for-profit entities (excluding Higher or Secondary Education Establishments)\",\"contribution\":131582.5,\"netEcContribution\":131582.5,\"nonEcContribution\":394747.5,\"formula\":\"participant: 526330 - 131582.5 - 0\",\"website\":\"\",\"email\":\"\",\"type\":\"participant\",\"contacts\":[],\"organizationId\":\"928177966\",\"rcn\":\"2532323\",\"active\":true,\"sme\":true,\"regions\":\"Bayern|Oberbayern|M\\\\u00fcnchen, Landkreis\"},{\"name\":\"FABMATICS GMBH\",\"address\":{\"street\":\"ZUR STEINHOEHE 1\",\"city\":\"DRESDEN\",\"postalCode\":\"01109\"},\"country\":{\"name\":\"Germany\",\"isoCode\":\"DE\",\"euCode\":\"DE\"},\"terminated\":false,\"order\":24,\"activityType\":\"Private for-profit entities (excluding Higher or Secondary Education Establishments)\",\"contribution\":275000,\"netEcContribution\":275000,\"nonEcContribution\":825000,\"formula\":\"participant: 1100000 - 275000 - 0\",\"website\":\"www.hap-dresden.de; www.hap.eu\",\"email\":\"\",\"type\":\"participant\",\"contacts\":[],\"organizationId\":\"986627935\",\"rcn\":\"2498040\",\"active\":true,\"sme\":true,\"regions\":\"Sachsen|Dresden|Dresden, Kreisfreie Stadt\"},{\"name\":\"METRALABS GMBH NEUE TECHNOLOGIEN UND SYSTEME\",\"address\":{\"street\":\"WEIMARER STRASSE 28\",\"city\":\"ILMENAU\",\"postalCode\":\"98693\"},\"country\":{\"name\":\"Germany\",\"isoCode\":\"DE\",\"euCode\":\"DE\"},\"terminated\":false,\"order\":25,\"activityType\":\"Private for-profit entities (excluding Higher or Secondary Education Establishments)\",\"contribution\":118612.5,\"netEcContribution\":118612.5,\"nonEcContribution\":355837.5,\"formula\":\"participant: 474450 - 118612.5 - 0\",\"website\":\"\",\"email\":\"\",\"type\":\"participant\",\"contacts\":[],\"organizationId\":\"999673077\",\"rcn\":\"2532325\",\"active\":true,\"sme\":true,\"regions\":\"Th\\\\u00fcringen|Th\\\\u00fcringen|Ilm-Kreis\"},{\"name\":\"HOCHSCHULE MITTWEIDA (FH)\",\"address\":{\"street\":\"TECHNIKUMPLATZ 17\",\"city\":\"MITTWEIDA\",\"postalCode\":\"09648\"},\"country\":{\"name\":\"Germany\",\"isoCode\":\"DE\",\"euCode\":\"DE\"},\"terminated\":false,\"order\":26,\"activityType\":\"Higher or Secondary Education Establishments\",\"contribution\":108014,\"netEcContribution\":108014,\"nonEcContribution\":162021,\"formula\":\"participant: 270035 - 108014 - 0\",\"website\":\"www.htwm.de\",\"email\":\"\",\"type\":\"participant\",\"contacts\":[],\"organizationId\":\"998994853\",\"rcn\":\"1974602\",\"active\":true,\"sme\":false,\"regions\":\"Sachsen|Chemnitz|Mittelsachsen\"},{\"name\":\"ELMOS SEMICONDUCTOR SE\",\"address\":{\"street\":\"HEINRICH HERTZ STRASSE 1\",\"city\":\"DORTMUND\",\"postalCode\":\"44227\"},\"country\":{\"name\":\"Germany\",\"isoCode\":\"DE\",\"euCode\":\"DE\"},\"terminated\":false,\"order\":27,\"activityType\":\"Private for-profit entities (excluding Higher or Secondary Education Establishments)\",\"contribution\":464948.44,\"netEcContribution\":464948.44,\"nonEcContribution\":2634707.81,\"formula\":\"participant: 3099656.25 - 464948.44 - 0\",\"website\":\"www.elmos.eu\",\"email\":\"\",\"type\":\"participant\",\"contacts\":[],\"organizationId\":\"996486045\",\"rcn\":\"2118823\",\"active\":true,\"sme\":false,\"regions\":\"Nordrhein-Westfalen|Arnsberg|Dortmund, Kreisfreie Stadt\"},{\"name\":\"UNIVERSITA DEGLI STUDI DI PAVIA\",\"address\":{\"street\":\"STRADA NUOVA  65\",\"city\":\"PAVIA\",\"postalCode\":\"27100\"},\"country\":{\"name\":\"Italy\",\"isoCode\":\"IT\",\"euCode\":\"IT\"},\"terminated\":false,\"order\":28,\"activityType\":\"Higher or Secondary Education Establishments\",\"contribution\":169999.5,\"netEcContribution\":169999.5,\"nonEcContribution\":254999.25,\"formula\":\"participant: 424998.75 - 169999.5 - 0\",\"website\":\"http:\\\\/\\\\/www.unipv.eu\",\"email\":\"\",\"type\":\"participant\",\"contacts\":[],\"organizationId\":\"999893752\",\"rcn\":\"1906518\",\"active\":true,\"sme\":false,\"regions\":\"Nord-Ovest|Lombardia|Pavia\"},{\"name\":\"L.P.E. SPA\",\"address\":{\"street\":\"VIA DEI GIOVI 7\",\"city\":\"BARANZATE MILANO\",\"postalCode\":\"20021\"},\"country\":{\"name\":\"Italy\",\"isoCode\":\"IT\",\"euCode\":\"IT\"},\"terminated\":false,\"order\":29,\"activityType\":\"Private for-profit entities (excluding Higher or Secondary Education Establishments)\",\"contribution\":110781.25,\"netEcContribution\":110781.25,\"nonEcContribution\":332343.75,\"formula\":\"participant: 443125 - 110781.25 - 0\",\"website\":\"www.lpe-epi.com\",\"email\":\"\",\"type\":\"participant\",\"contacts\":[],\"organizationId\":\"958976339\",\"rcn\":\"2498510\",\"active\":true,\"sme\":true,\"regions\":\"Nord-Ovest|Lombardia|Monza e della Brianza\"},{\"name\":\"ION BEAM SERVICES\",\"address\":{\"street\":\"RUE GASTON IMBERT PROLONGEE\",\"city\":\"ROUSSET\",\"postalCode\":\"13790\"},\"country\":{\"name\":\"France\",\"isoCode\":\"FR\",\"euCode\":\"FR\"},\"terminated\":false,\"order\":30,\"activityType\":\"Private for-profit entities (excluding Higher or Secondary Education Establishments)\",\"contribution\":480727.5,\"netEcContribution\":480727.5,\"nonEcContribution\":1442182.5,\"formula\":\"participant: 1922910 - 480727.5 - 0\",\"website\":\"www.ion-beam-services.com\",\"email\":\"\",\"type\":\"participant\",\"contacts\":[],\"organizationId\":\"985764441\",\"rcn\":\"2408676\",\"active\":true,\"sme\":true,\"regions\":\"Provence-Alpes-C\\\\u00f4te d\\\\u2019Azur|Provence-Alpes-C\\\\u00f4te d\\\\u2019Azur|Bouches-du-Rh\\\\u00f4ne\"},{\"name\":\"CRITICAL MANUFACTURING SA\",\"address\":{\"street\":\"RUA ENG FREDERICO ULRICH 2650\",\"city\":\"MOREIRA DA MAIA PORTO\",\"postalCode\":\"4470-605\"},\"country\":{\"name\":\"Portugal\",\"isoCode\":\"PT\",\"euCode\":\"PT\"},\"terminated\":false,\"order\":31,\"activityType\":\"Private for-profit entities (excluding Higher or Secondary Education Establishments)\",\"contribution\":74375,\"netEcContribution\":74375,\"nonEcContribution\":223125,\"formula\":\"participant: 297500 - 74375 - 0\",\"website\":\"http:\\\\/\\\\/www.criticalmanufacturing.com\",\"email\":\"\",\"type\":\"participant\",\"contacts\":[],\"organizationId\":\"985598280\",\"rcn\":\"1966873\",\"active\":true,\"sme\":true,\"regions\":\"\"},{\"name\":\"ATEP - AMKOR TECHNOLOGY PORTUGAL SA\",\"address\":{\"street\":\"AVENIDA 1 DE MAIO 801\",\"city\":\"MINDELO VILA DO CONDE\",\"postalCode\":\"4485 629\"},\"country\":{\"name\":\"Portugal\",\"isoCode\":\"PT\",\"euCode\":\"PT\"},\"terminated\":false,\"order\":32,\"activityType\":\"Private for-profit entities (excluding Higher or Secondary Education Establishments)\",\"contribution\":83437.5,\"netEcContribution\":83437.5,\"nonEcContribution\":472812.5,\"formula\":\"participant: 556250 - 83437.5 - 0\",\"website\":\"http:\\\\/\\\\/www.nanium.com\",\"email\":\"\",\"type\":\"participant\",\"contacts\":[],\"organizationId\":\"969746443\",\"rcn\":\"1916652\",\"active\":true,\"sme\":false,\"regions\":\"\"},{\"name\":\"INSTITUTO DE TELECOMUNICACOES\",\"address\":{\"street\":\"CAMPUS UNIVERSITARIO DE SANTIAGO UNIVERSIDADE DE AVEIRO\",\"city\":\"GLORIA E VERA CRUZ\",\"postalCode\":\"3810 193\"},\"country\":{\"name\":\"Portugal\",\"isoCode\":\"PT\",\"euCode\":\"PT\"},\"terminated\":false,\"order\":33,\"activityType\":\"Research Organisations\",\"contribution\":119750,\"netEcContribution\":119750,\"nonEcContribution\":179625,\"formula\":\"participant: 299375 - 119750 - 0\",\"website\":\"http:\\\\/\\\\/www.it.pt\",\"email\":\"\",\"type\":\"participant\",\"contacts\":[],\"organizationId\":\"999580248\",\"rcn\":\"1925575\",\"active\":true,\"sme\":false,\"regions\":\"\"},{\"name\":\"UNIVERSIDADE DE AVEIRO\",\"address\":{\"street\":\"CAMPUS UNIVERSIT\\\\u00c1RIO DE SANTIAGO\",\"city\":\"AVEIRO\",\"postalCode\":\"3810-193\"},\"country\":{\"name\":\"Portugal\",\"isoCode\":\"PT\",\"euCode\":\"PT\"},\"terminated\":false,\"order\":34,\"activityType\":\"Higher or Secondary Education Establishments\",\"contribution\":113750,\"netEcContribution\":113750,\"nonEcContribution\":170625,\"formula\":\"participant: 284375 - 113750 - 0\",\"website\":\"http:\\\\/\\\\/www.ua.pt\",\"email\":\"\",\"type\":\"participant\",\"contacts\":[],\"organizationId\":\"999865331\",\"rcn\":\"1908401\",\"active\":true,\"sme\":false,\"regions\":\"Continente|Centro (PT)|Regi\\\\u00e3o de Aveiro\"},{\"name\":\"FRAUNHOFER GESELLSCHAFT ZUR FORDERUNG DER ANGEWANDTEN FORSCHUNG EV\",\"address\":{\"street\":\"HANSASTRASSE 27C\",\"city\":\"MUNCHEN\",\"postalCode\":\"80686\"},\"country\":{\"name\":\"Germany\",\"isoCode\":\"DE\",\"euCode\":\"DE\"},\"terminated\":false,\"order\":35,\"activityType\":\"Research Organisations\",\"contribution\":138460,\"netEcContribution\":138460,\"nonEcContribution\":207690,\"formula\":\"participant: 346150 - 138460 - 0\",\"website\":\"http:\\\\/\\\\/www.fraunhofer.de\",\"email\":\"\",\"type\":\"participant\",\"contacts\":[],\"organizationId\":\"999984059\",\"rcn\":\"1905912\",\"active\":true,\"sme\":false,\"regions\":\"Bayern|Oberbayern|M\\\\u00fcnchen, Kreisfreie Stadt\"},{\"name\":\"SCHILLER AUTOMATISIERUNGSTECHNIK GMBH\",\"address\":{\"street\":\"DONAU GEWERBEPARK 30\",\"city\":\"OSTERHOFEN\",\"postalCode\":\"94486\"},\"country\":{\"name\":\"Germany\",\"isoCode\":\"DE\",\"euCode\":\"DE\"},\"terminated\":false,\"order\":36,\"activityType\":\"Private for-profit entities (excluding Higher or Secondary Education Establishments)\",\"contribution\":205314.69,\"netEcContribution\":205314.69,\"nonEcContribution\":615944.06,\"formula\":\"participant: 821258.75 - 205314.69 - 0\",\"website\":\"\",\"email\":\"\",\"type\":\"participant\",\"contacts\":[],\"organizationId\":\"926156777\",\"rcn\":\"2532336\",\"active\":true,\"sme\":true,\"regions\":\"Bayern|Niederbayern|Deggendorf\"},{\"name\":\"POLITECNICO DI MILANO\",\"address\":{\"street\":\"PIAZZA LEONARDO DA VINCI 32\",\"city\":\"MILANO\",\"postalCode\":\"20133\"},\"country\":{\"name\":\"Italy\",\"isoCode\":\"IT\",\"euCode\":\"IT\"},\"terminated\":false,\"order\":37,\"activityType\":\"Higher or Secondary Education Establishments\",\"contribution\":129688,\"netEcContribution\":129688,\"nonEcContribution\":194532,\"formula\":\"participant: 324220 - 129688 - 0\",\"website\":\"http:\\\\/\\\\/www.polimi.it\",\"email\":\"\",\"type\":\"participant\",\"contacts\":[],\"organizationId\":\"999879881\",\"rcn\":\"1905660\",\"active\":true,\"sme\":false,\"regions\":\"Nord-Ovest|Lombardia|Milano\"}'\n",
            " '{\"name\":\"SOITEC SA\",\"address\":{\"street\":\"CHEMIN DES FRANQUES - PARC TECHNOLOGIQUE DES FONTAINES\",\"city\":\"BERNIN\",\"postalCode\":\"38190\"},\"country\":{\"name\":\"France\",\"isoCode\":\"FR\",\"euCode\":\"FR\"},\"terminated\":false,\"order\":2,\"activityType\":\"Private for-profit entities (excluding Higher or Secondary Education Establishments)\",\"contribution\":1787218,\"netEcContribution\":1787218,\"nonEcContribution\":7148872,\"formula\":\"participant: 8936090 - 1787218 - 0\",\"website\":\"www.soitec.com\",\"email\":\"\",\"type\":\"participant\",\"contacts\":[],\"organizationId\":\"990360010\",\"rcn\":\"2385863\",\"active\":true,\"sme\":false,\"regions\":\"Auvergne-Rh\\\\u00f4ne-Alpes|Rh\\\\u00f4ne-Alpes|Is\\\\u00e8re\"},{\"name\":\"COMMISSARIAT A L ENERGIE ATOMIQUE ET AUX ENERGIES ALTERNATIVES\",\"address\":{\"street\":\"RUE LEBLANC  25\",\"city\":\"PARIS 15\",\"postalCode\":\"75015\"},\"country\":{\"name\":\"France\",\"isoCode\":\"FR\",\"euCode\":\"FR\"},\"terminated\":false,\"order\":3,\"activityType\":\"Research Organisations\",\"contribution\":3675778.75,\"netEcContribution\":3675778.75,\"nonEcContribution\":6826446.25,\"formula\":\"participant: 10502225 - 3675778.75 - 0\",\"website\":\"www.cea.fr\",\"email\":\"\",\"type\":\"participant\",\"contacts\":[],\"organizationId\":\"999992401\",\"rcn\":\"1905694\",\"active\":true,\"sme\":false,\"regions\":\"Ile-de-France|Ile-de-France|Paris\"},{\"name\":\"STMICROELECTRONICS SRL\",\"address\":{\"street\":\"VIA C.OLIVETTI   2\",\"city\":\"AGRATE BRIANZA\",\"postalCode\":\"20864\"},\"country\":{\"name\":\"Italy\",\"isoCode\":\"IT\",\"euCode\":\"IT\"},\"terminated\":false,\"order\":4,\"activityType\":\"Private for-profit entities (excluding Higher or Secondary Education Establishments)\",\"contribution\":594135,\"netEcContribution\":594135,\"nonEcContribution\":2376540,\"formula\":\"participant: 2970675 - 594135 - 0\",\"website\":\"http:\\\\/\\\\/www.st.com\",\"email\":\"\",\"type\":\"participant\",\"contacts\":[],\"organizationId\":\"999977657\",\"rcn\":\"1918921\",\"active\":true,\"sme\":false,\"regions\":\"Nord-Ovest|Lombardia|Monza e della Brianza\"},{\"name\":\"STMICROELECTRONICS SILICON CARBIDE AB\",\"address\":{\"street\":\"PO BOX 734\",\"city\":\"NORKOPING\",\"postalCode\":\"601 16\"},\"country\":{\"name\":\"Sweden\",\"isoCode\":\"SE\",\"euCode\":\"SE\"},\"terminated\":false,\"order\":5,\"activityType\":\"Private for-profit entities (excluding Higher or Secondary Education Establishments)\",\"contribution\":1130000,\"netEcContribution\":1130000,\"nonEcContribution\":4520000,\"formula\":\"participant: 5650000 - 1130000 - 0\",\"website\":\"www.norstel.com\",\"email\":\"\",\"type\":\"participant\",\"contacts\":[],\"organizationId\":\"997456336\",\"rcn\":\"2202510\",\"active\":true,\"sme\":false,\"regions\":\"\\\\u00d6stra Sverige|\\\\u00d6stra Mellansverige|\\\\u00d6sterg\\\\u00f6tlands l\\\\u00e4n\"},{\"name\":\"SEMIKRON ELEKTRONIK GMBH \\\\u0026 CO. KG\",\"address\":{\"street\":\"SIGMUNDSTRASSE 200\",\"city\":\"NURNBERG\",\"postalCode\":\"90431\"},\"country\":{\"name\":\"Germany\",\"isoCode\":\"DE\",\"euCode\":\"DE\"},\"terminated\":false,\"order\":6,\"activityType\":\"Private for-profit entities (excluding Higher or Secondary Education Establishments)\",\"contribution\":557939.25,\"netEcContribution\":557939.25,\"nonEcContribution\":2231757,\"formula\":\"participant: 2789696.25 - 557939.25 - 0\",\"website\":\"www.Semikron.com\",\"email\":\"\",\"type\":\"participant\",\"contacts\":[],\"organizationId\":\"969164346\",\"rcn\":\"1924845\",\"active\":true,\"sme\":false,\"regions\":\"Bayern|Mittelfranken|N\\\\u00fcrnberg, Kreisfreie Stadt\"},{\"name\":\"FRAUNHOFER GESELLSCHAFT ZUR FORDERUNG DER ANGEWANDTEN FORSCHUNG EV\",\"address\":{\"street\":\"HANSASTRASSE 27C\",\"city\":\"MUNCHEN\",\"postalCode\":\"80686\"},\"country\":{\"name\":\"Germany\",\"isoCode\":\"DE\",\"euCode\":\"DE\"},\"terminated\":false,\"order\":8,\"activityType\":\"Research Organisations\",\"contribution\":378549.94,\"netEcContribution\":378549.94,\"nonEcContribution\":703021.31,\"formula\":\"participant: 1081571.25 - 378549.94 - 0\",\"website\":\"http:\\\\/\\\\/www.fraunhofer.de\",\"email\":\"\",\"type\":\"participant\",\"contacts\":[],\"organizationId\":\"999984059\",\"rcn\":\"1905912\",\"active\":true,\"sme\":false,\"regions\":\"Bayern|Oberbayern|M\\\\u00fcnchen, Kreisfreie Stadt\"},{\"name\":\"TECHNISCHE UNIVERSITAET CHEMNITZ\",\"address\":{\"street\":\"STRASSE DER NATIONEN 62\",\"city\":\"CHEMNITZ\",\"postalCode\":\"09111\"},\"country\":{\"name\":\"Germany\",\"isoCode\":\"DE\",\"euCode\":\"DE\"},\"terminated\":false,\"order\":9,\"activityType\":\"Higher or Secondary Education Establishments\",\"contribution\":491029.88,\"netEcContribution\":491029.88,\"nonEcContribution\":911912.62,\"formula\":\"participant: 1402942.5 - 491029.88 - 0\",\"website\":\"http:\\\\/\\\\/www.tu-chemnitz.de\",\"email\":\"\",\"type\":\"participant\",\"contacts\":[],\"organizationId\":\"999877844\",\"rcn\":\"1915930\",\"active\":true,\"sme\":false,\"regions\":\"Sachsen|Chemnitz|Chemnitz\"},{\"name\":\"VALEO SIEMENS E AUTOMOTIVE FRANCESAS\",\"address\":{\"street\":\"14 AVENUE DES BEGUNIES\",\"city\":\"CERGY\",\"postalCode\":\"95800\"},\"country\":{\"name\":\"France\",\"isoCode\":\"FR\",\"euCode\":\"FR\"},\"terminated\":false,\"order\":10,\"activityType\":\"Private for-profit entities (excluding Higher or Secondary Education Establishments)\",\"contribution\":888966.6,\"netEcContribution\":888966.6,\"nonEcContribution\":3555866.4,\"formula\":\"participant: 4444833 - 888966.6 - 0\",\"website\":\"\",\"email\":\"\",\"type\":\"participant\",\"contacts\":[],\"organizationId\":\"912513436\",\"rcn\":\"1970161\",\"active\":true,\"sme\":false,\"regions\":\"Ile-de-France|Ile-de-France|Val-d\\\\u2019Oise\"},{\"name\":\"AIXTRON SE\",\"address\":{\"street\":\"DORNKAULSTRASSE 2\",\"city\":\"HERZOGENRATH\",\"postalCode\":\"52134\"},\"country\":{\"name\":\"Germany\",\"isoCode\":\"DE\",\"euCode\":\"DE\"},\"terminated\":false,\"order\":11,\"activityType\":\"Private for-profit entities (excluding Higher or Secondary Education Establishments)\",\"contribution\":955500,\"netEcContribution\":955500,\"nonEcContribution\":3822000,\"formula\":\"participant: 4777500 - 955500 - 0\",\"website\":\"http:\\\\/\\\\/www.aixtron.com\",\"email\":\"\",\"type\":\"participant\",\"contacts\":[],\"organizationId\":\"966782414\",\"rcn\":\"1905894\",\"active\":true,\"sme\":false,\"regions\":\"Nordrhein-Westfalen|K\\\\u00f6ln|St\\\\u00e4dteregion Aachen\"},{\"name\":\"CENTROTHERM INTERNATIONAL AG\",\"address\":{\"street\":\"WURTTEMBERGER STRASSE 31\",\"city\":\"BLAUBEUREN\",\"postalCode\":\"89143\"},\"country\":{\"name\":\"Germany\",\"isoCode\":\"DE\",\"euCode\":\"DE\"},\"terminated\":false,\"order\":12,\"activityType\":\"Private for-profit entities (excluding Higher or Secondary Education Establishments)\",\"contribution\":203675,\"netEcContribution\":203675,\"nonEcContribution\":814700,\"formula\":\"participant: 1018375 - 203675 - 0\",\"website\":\"\",\"email\":\"\",\"type\":\"participant\",\"contacts\":[],\"organizationId\":\"912136591\",\"rcn\":\"1948300\",\"active\":true,\"sme\":false,\"regions\":\"Baden-W\\\\u00fcrttemberg|T\\\\u00fcbingen|Alb-Donau-Kreis\"},{\"name\":\"EV GROUP E. THALLNER GMBH\",\"address\":{\"street\":\"DI ERICH THALLNER STRASSE 1\",\"city\":\"ST FLORIAN AM INN\",\"postalCode\":\"4782\"},\"country\":{\"name\":\"Austria\",\"isoCode\":\"AT\",\"euCode\":\"AT\"},\"terminated\":false,\"order\":13,\"activityType\":\"Private for-profit entities (excluding Higher or Secondary Education Establishments)\",\"contribution\":389285,\"netEcContribution\":389285,\"nonEcContribution\":1557140,\"formula\":\"participant: 1946425 - 389285 - 0\",\"website\":\"www.evgroup.com\",\"email\":\"\",\"type\":\"participant\",\"contacts\":[],\"organizationId\":\"999611676\",\"rcn\":\"1917368\",\"active\":true,\"sme\":false,\"regions\":\"West\\\\u00f6sterreich|Ober\\\\u00f6sterreich|Innviertel\"},{\"name\":\"FORSCHUNGS- UND ENTWICKLUNGSZENTRUM FACHHOCHSCHULE KIEL GMBH\",\"address\":{\"street\":\"SCHWENTINESTRASSE 24\",\"city\":\"KIEL\",\"postalCode\":\"24149\"},\"country\":{\"name\":\"Germany\",\"isoCode\":\"DE\",\"euCode\":\"DE\"},\"terminated\":false,\"order\":14,\"activityType\":\"Other\",\"contribution\":309581.56,\"netEcContribution\":309581.56,\"nonEcContribution\":574937.19,\"formula\":\"participant: 884518.75 - 309581.56 - 0\",\"website\":\"\",\"email\":\"\",\"type\":\"participant\",\"contacts\":[],\"organizationId\":\"983446432\",\"rcn\":\"1960594\",\"active\":true,\"sme\":false,\"regions\":\"Schleswig-Holstein|Schleswig-Holstein|Kiel, Kreisfreie Stadt\"},{\"name\":\"NOVASIC SA\",\"address\":{\"street\":\"SAVOIE TECHNOLAC ARCHE BAT 4 ALLE DU LAC D AIGUEBELETTE 17\",\"city\":\"LE BOURGET DU LAC\",\"postalCode\":\"73375\"},\"country\":{\"name\":\"France\",\"isoCode\":\"FR\",\"euCode\":\"FR\"},\"terminated\":false,\"order\":15,\"activityType\":\"Private for-profit entities (excluding Higher or Secondary Education Establishments)\",\"contribution\":474805.63,\"netEcContribution\":474805.63,\"nonEcContribution\":1424416.87,\"formula\":\"participant: 1899222.5 - 474805.63 - 0\",\"website\":\"www.novasic.com\",\"email\":\"\",\"type\":\"participant\",\"contacts\":[],\"organizationId\":\"983480188\",\"rcn\":\"1972595\",\"active\":true,\"sme\":true,\"regions\":\"Auvergne-Rh\\\\u00f4ne-Alpes|Rh\\\\u00f4ne-Alpes|Savoie\"},{\"name\":\"DANFOSS SILICON POWER GMBH\",\"address\":{\"street\":\"HUSUMER STRASSE 251\",\"city\":\"FLENSBURG\",\"postalCode\":\"24941\"},\"country\":{\"name\":\"Germany\",\"isoCode\":\"DE\",\"euCode\":\"DE\"},\"terminated\":false,\"order\":16,\"activityType\":\"Private for-profit entities (excluding Higher or Secondary Education Establishments)\",\"contribution\":167875,\"netEcContribution\":167875,\"nonEcContribution\":675250,\"formula\":\"participant: 843125 - 167875 - 0\",\"website\":\"\",\"email\":\"\",\"type\":\"participant\",\"contacts\":[],\"organizationId\":\"909171010\",\"rcn\":\"1970282\",\"active\":true,\"sme\":false,\"regions\":\"Schleswig-Holstein|Schleswig-Holstein|Flensburg, Kreisfreie Stadt\"},{\"name\":\"SAINT-GOBAIN CENTRE DE RECHERCHES ET D\\\\u0027ETUDES EUROPEEN\",\"address\":{\"street\":\"12 PLACE DE L\\\\u0027IRIS TOUR SAINT-GOBAIN\",\"city\":\"COURBEVOIE\",\"postalCode\":\"92400\"},\"country\":{\"name\":\"France\",\"isoCode\":\"FR\",\"euCode\":\"FR\"},\"terminated\":false,\"order\":17,\"activityType\":\"Private for-profit entities (excluding Higher or Secondary Education Establishments)\",\"contribution\":257257.5,\"netEcContribution\":257257.5,\"nonEcContribution\":1029030,\"formula\":\"participant: 1286287.5 - 257257.5 - 0\",\"website\":\"\",\"email\":\"\",\"type\":\"participant\",\"contacts\":[],\"organizationId\":\"996254021\",\"rcn\":\"1924168\",\"active\":true,\"sme\":false,\"regions\":\"Ile-de-France|Ile-de-France|Hauts-de-Seine \"},{\"name\":\"MERSEN FRANCE GENNEVILLIERS SAS\",\"address\":{\"street\":\"RUE JEAN JAURES 41\",\"city\":\"GENNEVILLIERS\",\"postalCode\":\"92230\"},\"country\":{\"name\":\"France\",\"isoCode\":\"FR\",\"euCode\":\"FR\"},\"terminated\":false,\"order\":18,\"activityType\":\"Private for-profit entities (excluding Higher or Secondary Education Establishments)\",\"contribution\":259350,\"netEcContribution\":259350,\"nonEcContribution\":1037400,\"formula\":\"participant: 1296750 - 259350 - 0\",\"website\":\"\",\"email\":\"\",\"type\":\"participant\",\"contacts\":[],\"organizationId\":\"894668249\",\"rcn\":\"1970283\",\"active\":true,\"sme\":false,\"regions\":\"Ile-de-France|Ile-de-France|Hauts-de-Seine \"},{\"name\":\"HOCHSCHULE HAMM-LIPPSTADT\",\"address\":{\"street\":\"MARKER ALLEE 76-78\",\"city\":\"HAMM\",\"postalCode\":\"59063\"},\"country\":{\"name\":\"Germany\",\"isoCode\":\"DE\",\"euCode\":\"DE\"},\"terminated\":false,\"order\":19,\"activityType\":\"Higher or Secondary Education Establishments\",\"contribution\":109812.5,\"netEcContribution\":109812.5,\"nonEcContribution\":203937.5,\"formula\":\"participant: 313750 - 109812.5 - 0\",\"website\":\"\",\"email\":\"\",\"type\":\"participant\",\"contacts\":[],\"organizationId\":\"950939889\",\"rcn\":\"2961571\",\"active\":true,\"sme\":false,\"regions\":\"Nordrhein-Westfalen|Arnsberg|Hamm, Kreisfreie Stadt\"},{\"name\":\"TECHNISCHE UNIVERSITAT KAISERSLAUTERN\",\"address\":{\"street\":\"GOTTLIEB DAIMLER STRASSE\",\"city\":\"KAISERSLAUTERN\",\"postalCode\":\"67663\"},\"country\":{\"name\":\"Germany\",\"isoCode\":\"DE\",\"euCode\":\"DE\"},\"terminated\":false,\"order\":20,\"activityType\":\"Higher or Secondary Education Establishments\",\"contribution\":187250,\"netEcContribution\":187250,\"nonEcContribution\":347750,\"formula\":\"participant: 535000 - 187250 - 0\",\"website\":\"http:\\\\/\\\\/www.uni-kl.de\",\"email\":\"\",\"type\":\"participant\",\"contacts\":[],\"organizationId\":\"999885895\",\"rcn\":\"1908295\",\"active\":true,\"sme\":false,\"regions\":\"Rheinland-Pfalz|Rheinhessen-Pfalz|Kaiserslautern, Kreisfreie Stadt\"},{\"name\":\"HIGH PERFORMANCE ENGINEERING SOCIETA A RESPONSABILITA LIMITATA\",\"address\":{\"street\":\"VIA RAIMONDO DALLA COSTA 620\",\"city\":\"MODENA MO\",\"postalCode\":\"41122\"},\"country\":{\"name\":\"Italy\",\"isoCode\":\"IT\",\"euCode\":\"IT\"},\"terminated\":false,\"order\":21,\"activityType\":\"Private for-profit entities (excluding Higher or Secondary Education Establishments)\",\"contribution\":300382.5,\"netEcContribution\":300382.5,\"nonEcContribution\":1201530,\"formula\":\"participant: 1501912.5 - 300382.5 - 0\",\"website\":\"\",\"email\":\"\",\"type\":\"participant\",\"contacts\":[],\"organizationId\":\"921886061\",\"rcn\":\"1962937\",\"active\":true,\"sme\":false,\"regions\":\"Nord-Est|Emilia-Romagna|Modena\"},{\"name\":\"CONSORZIO NAZIONALE INTERUNIVERSITARIO PER LA NANOELETTRONICA\",\"address\":{\"street\":\"VIA TOFFANO 2\",\"city\":\"BOLOGNA\",\"postalCode\":\"40125\"},\"country\":{\"name\":\"Italy\",\"isoCode\":\"IT\",\"euCode\":\"IT\"},\"terminated\":false,\"order\":22,\"activityType\":\"Research Organisations\",\"contribution\":455000,\"netEcContribution\":0.44,\"nonEcContribution\":0.81,\"formula\":\"participant: 1300000.01 - 0.44 - 1299998.76\",\"website\":\"\",\"email\":\"\",\"type\":\"participant\",\"contacts\":[],\"organizationId\":\"999659885\",\"rcn\":\"2406048\",\"active\":true,\"sme\":false,\"regions\":\"Nord-Est|Emilia-Romagna|Bologna\"},{\"name\":\"ALMA MATER STUDIORUM - UNIVERSITA DI BOLOGNA\",\"address\":{\"street\":\"VIA ZAMBONI 33\",\"city\":\"BOLOGNA\",\"postalCode\":\"40126\"},\"country\":{\"name\":\"Italy\",\"isoCode\":\"IT\",\"euCode\":\"IT\"},\"terminated\":false,\"order\":22,\"activityType\":\"Higher or Secondary Education Establishments\",\"contribution\":0,\"netEcContribution\":314999.78,\"nonEcContribution\":584999.6,\"formula\":\"thirdParty: 899999.38 - 314999.78\",\"website\":\"http:\\\\/\\\\/www.unibo.it\",\"email\":\"\",\"type\":\"thirdParty\",\"contacts\":[],\"organizationId\":\"999993953\",\"rcn\":\"1905805\",\"active\":true,\"sme\":false,\"regions\":\"Nord-Est|Emilia-Romagna|Bologna\"},{\"name\":\"UNIVERSITA DEGLI STUDI DI MODENA E REGGIO EMILIA\",\"address\":{\"street\":\"VIA UNIVERSITA 4\",\"city\":\"MODENA\",\"postalCode\":\"41121\"},\"country\":{\"name\":\"Italy\",\"isoCode\":\"IT\",\"euCode\":\"IT\"},\"terminated\":false,\"order\":22,\"activityType\":\"Higher or Secondary Education Establishments\",\"contribution\":0,\"netEcContribution\":139999.78,\"nonEcContribution\":259999.6,\"formula\":\"thirdParty: 399999.38 - 139999.78\",\"website\":\"http:\\\\/\\\\/www.unimore.it\",\"email\":\"\",\"type\":\"thirdParty\",\"contacts\":[],\"organizationId\":\"999840887\",\"rcn\":\"1906199\",\"active\":true,\"sme\":false,\"regions\":\"Nord-Est|Emilia-Romagna|Modena\"},{\"name\":\"CENTRALE LILLE INSTITUT\",\"address\":{\"street\":\"CITE SCIENTIFIQUE, BOULEVARD PAUL LANGEVIN\",\"city\":\"VILLENEUVE D ASCQ CEDEX\",\"postalCode\":\"59651\"},\"country\":{\"name\":\"France\",\"isoCode\":\"FR\",\"euCode\":\"FR\"},\"terminated\":false,\"order\":23,\"activityType\":\"Higher or Secondary Education Establishments\",\"contribution\":194162.5,\"netEcContribution\":194162.5,\"nonEcContribution\":360587.5,\"formula\":\"participant: 554750 - 194162.5 - 0\",\"website\":\"www.ec-lille.fr\",\"email\":\"\",\"type\":\"participant\",\"contacts\":[],\"organizationId\":\"999878038\",\"rcn\":\"1906590\",\"active\":true,\"sme\":false,\"regions\":\"Hauts-de-France|Nord-Pas de Calais|Nord\"},{\"name\":\"LASERTEC USA INC\",\"address\":{\"street\":\"2107 NORTH FIRST STREET SUITE 210\",\"city\":\"SAN JOSE\",\"postalCode\":\"95131\"},\"country\":{\"name\":\"United States\",\"isoCode\":\"US\",\"euCode\":\"US\"},\"terminated\":false,\"order\":24,\"activityType\":\"Private for-profit entities (excluding Higher or Secondary Education Establishments)\",\"contribution\":0,\"netEcContribution\":0,\"nonEcContribution\":0,\"formula\":\"participant: 0 - 0 - 0\",\"website\":\"\",\"email\":\"\",\"type\":\"participant\",\"contacts\":[],\"organizationId\":\"891434754\",\"rcn\":\"1970284\",\"active\":true,\"sme\":false,\"regions\":\"\"},{\"name\":\"INSTITUT MIKROELEKTRONICKYCH APLIKACI SRO\",\"address\":{\"street\":\"NA VALENTINCE 1003\\\\/1 SMICHOV\",\"city\":\"PRAHA 5\",\"postalCode\":\"150 00\"},\"country\":{\"name\":\"Czechia\",\"isoCode\":\"CZ\",\"euCode\":\"CZ\"},\"terminated\":false,\"order\":25,\"activityType\":\"Private for-profit entities (excluding Higher or Secondary Education Establishments)\",\"contribution\":71250,\"netEcContribution\":71250,\"nonEcContribution\":285000,\"formula\":\"participant: 356250 - 71250 - 0\",\"website\":\"www.ima.cz\",\"email\":\"\",\"type\":\"participant\",\"contacts\":[],\"organizationId\":\"999697424\",\"rcn\":\"1922059\",\"active\":true,\"sme\":false,\"regions\":\"Praha|Hlavn\\\\u00ed m\\\\u011bsto Praha\"},{\"name\":\"VYSOKE UCENI TECHNICKE V BRNE\",\"address\":{\"street\":\"ANTONINSKA 548\\\\/1\",\"city\":\"BRNO STRED\",\"postalCode\":\"601 90\"},\"country\":{\"name\":\"Czechia\",\"isoCode\":\"CZ\",\"euCode\":\"CZ\"},\"terminated\":false,\"order\":26,\"activityType\":\"Higher or Secondary Education Establishments\",\"contribution\":155312.5,\"netEcContribution\":155312.5,\"nonEcContribution\":288437.5,\"formula\":\"participant: 443750 - 155312.5 - 0\",\"website\":\"http:\\\\/\\\\/www.vutbr.cz\",\"email\":\"\",\"type\":\"participant\",\"contacts\":[],\"organizationId\":\"999873091\",\"rcn\":\"1911219\",\"active\":true,\"sme\":false,\"regions\":\"Jihov\\\\u00fdchod|Jihomoravsk\\\\u00fd kraj\"},{\"name\":\"LINKOPINGS UNIVERSITET\",\"address\":{\"street\":\"CAMPUS VALLA\",\"city\":\"LINKOPING\",\"postalCode\":\"581 83\"},\"country\":{\"name\":\"Sweden\",\"isoCode\":\"SE\",\"euCode\":\"SE\"},\"terminated\":false,\"order\":27,\"activityType\":\"Higher or Secondary Education Establishments\",\"contribution\":254625,\"netEcContribution\":254625,\"nonEcContribution\":472875,\"formula\":\"participant: 727500 - 254625 - 0\",\"website\":\"http:\\\\/\\\\/www.liu.se\",\"email\":\"\",\"type\":\"participant\",\"contacts\":[],\"organizationId\":\"999852236\",\"rcn\":\"1949125\",\"active\":true,\"sme\":false,\"regions\":\"\\\\u00d6stra Sverige|\\\\u00d6stra Mellansverige|\\\\u00d6sterg\\\\u00f6tlands l\\\\u00e4n\"},{\"name\":\"SOITEC LAB\",\"address\":{\"street\":\"CHEMIN DES FRANQUES PARC TECHNOLOGI\",\"city\":\"BERNIN\",\"postalCode\":\"38190\"},\"country\":{\"name\":\"France\",\"isoCode\":\"FR\",\"euCode\":\"FR\"},\"terminated\":false,\"order\":28,\"activityType\":\"Private for-profit entities (excluding Higher or Secondary Education Establishments)\",\"contribution\":1709845.75,\"netEcContribution\":1709845.75,\"nonEcContribution\":6839383,\"formula\":\"participant: 8549228.75 - 1709845.75 - 0\",\"website\":\"\",\"email\":\"\",\"type\":\"participant\",\"contacts\":[],\"organizationId\":\"894622853\",\"rcn\":\"1970285\",\"active\":true,\"sme\":false,\"regions\":\"Auvergne-Rh\\\\u00f4ne-Alpes|Rh\\\\u00f4ne-Alpes|Is\\\\u00e8re\"},{\"name\":\"SURAGUS GMBH\",\"address\":{\"street\":\"MARIA-REICHE-STRASSE 1\",\"city\":\"DRESDEN\",\"postalCode\":\"01109\"},\"country\":{\"name\":\"Germany\",\"isoCode\":\"DE\",\"euCode\":\"DE\"},\"terminated\":false,\"order\":29,\"activityType\":\"Private for-profit entities (excluding Higher or Secondary Education Establishments)\",\"contribution\":318125,\"netEcContribution\":318125,\"nonEcContribution\":954375,\"formula\":\"participant: 1272500 - 318125 - 0\",\"website\":\"www.suragus.com\",\"email\":\"\",\"type\":\"participant\",\"contacts\":[],\"organizationId\":\"952674637\",\"rcn\":\"1950167\",\"active\":true,\"sme\":true,\"regions\":\"Sachsen|Dresden|Dresden, Kreisfreie Stadt\"},{\"name\":\"SAINT-GOBAIN INDUSTRIEKERAMIK RODENTAL GMBH\",\"address\":{\"street\":\"OESLAUER STRASSE 35\",\"city\":\"ROEDENTAL\",\"postalCode\":\"96472\"},\"country\":{\"name\":\"Germany\",\"isoCode\":\"DE\",\"euCode\":\"DE\"},\"terminated\":false,\"order\":30,\"activityType\":\"Private for-profit entities (excluding Higher or Secondary Education Establishments)\",\"contribution\":237046,\"netEcContribution\":237046,\"nonEcContribution\":948184,\"formula\":\"participant: 1185230 - 237046 - 0\",\"website\":\"\",\"email\":\"\",\"type\":\"participant\",\"contacts\":[],\"organizationId\":\"918910101\",\"rcn\":\"1970286\",\"active\":true,\"sme\":false,\"regions\":\"Bayern|Oberfranken|Coburg, Landkreis\"},{\"name\":\"NANO-JOIN GMBH\",\"address\":{\"street\":\"RUDOWER CHAUSSEE 29\",\"city\":\"BERLIN\",\"postalCode\":\"12489\"},\"country\":{\"name\":\"Germany\",\"isoCode\":\"DE\",\"euCode\":\"DE\"},\"terminated\":false,\"order\":31,\"activityType\":\"Private for-profit entities (excluding Higher or Secondary Education Establishments)\",\"contribution\":47812.5,\"netEcContribution\":47812.5,\"nonEcContribution\":143437.5,\"formula\":\"participant: 191250 - 47812.5 - 0\",\"website\":\"\",\"email\":\"\",\"type\":\"participant\",\"contacts\":[],\"organizationId\":\"911471365\",\"rcn\":\"1970287\",\"active\":true,\"sme\":true,\"regions\":\"Berlin|Berlin|Berlin\"},{\"name\":\"TPLUS ENGINEERING GMBH\",\"address\":{\"street\":\"STEINBEISSTRASSE 25\",\"city\":\"LEINFELDEN-ECHTERDINGEN\",\"postalCode\":\"70771\"},\"country\":{\"name\":\"Germany\",\"isoCode\":\"DE\",\"euCode\":\"DE\"},\"terminated\":false,\"order\":32,\"activityType\":\"Private for-profit entities (excluding Higher or Secondary Education Establishments)\",\"contribution\":148920.63,\"netEcContribution\":148920.63,\"nonEcContribution\":446761.87,\"formula\":\"participant: 595682.5 - 148920.63 - 0\",\"website\":\"\",\"email\":\"\",\"type\":\"participant\",\"contacts\":[],\"organizationId\":\"924403890\",\"rcn\":\"1970288\",\"active\":true,\"sme\":true,\"regions\":\"Baden-W\\\\u00fcrttemberg|Stuttgart|Esslingen\"},{\"name\":\"ISLE STEUERUNGSTECHNIK UND LEISTUNGSELEKTRONIK GMBH\",\"address\":{\"street\":\"WERNER-VON-SIEMENS-STRASSE 16\",\"city\":\"ILMENAU\",\"postalCode\":\"98693\"},\"country\":{\"name\":\"Germany\",\"isoCode\":\"DE\",\"euCode\":\"DE\"},\"terminated\":false,\"order\":33,\"activityType\":\"Private for-profit entities (excluding Higher or Secondary Education Establishments)\",\"contribution\":83710.94,\"netEcContribution\":83710.94,\"nonEcContribution\":251132.81,\"formula\":\"participant: 334843.75 - 83710.94 - 0\",\"website\":\"\",\"email\":\"\",\"type\":\"participant\",\"contacts\":[],\"organizationId\":\"894342426\",\"rcn\":\"1970289\",\"active\":true,\"sme\":true,\"regions\":\"Th\\\\u00fcringen|Th\\\\u00fcringen|Ilm-Kreis\"},{\"name\":\"UNIVERSIDAD DE SEVILLA\",\"address\":{\"street\":\"CALLE S. FERNANDO 4\",\"city\":\"SEVILLA\",\"postalCode\":\"41004\"},\"country\":{\"name\":\"Spain\",\"isoCode\":\"ES\",\"euCode\":\"ES\"},\"terminated\":false,\"order\":34,\"activityType\":\"Higher or Secondary Education Establishments\",\"contribution\":100625,\"netEcContribution\":100625,\"nonEcContribution\":186875,\"formula\":\"participant: 287500 - 100625 - 0\",\"website\":\"http:\\\\/\\\\/www.us.es\",\"email\":\"\",\"type\":\"participant\",\"contacts\":[],\"organizationId\":\"999862518\",\"rcn\":\"1908659\",\"active\":true,\"sme\":false,\"regions\":\"Andaluc\\\\u00eda|Sevilla\"},{\"name\":\"PREMO S.A.U.\",\"address\":{\"street\":\"CALLE SEVERO OCHOA 47\",\"city\":\"MALAGA\",\"postalCode\":\"29590\"},\"country\":{\"name\":\"Spain\",\"isoCode\":\"ES\",\"euCode\":\"ES\"},\"terminated\":false,\"order\":35,\"activityType\":\"Private for-profit entities (excluding Higher or Secondary Education Establishments)\",\"contribution\":52600,\"netEcContribution\":52600,\"nonEcContribution\":210400,\"formula\":\"participant: 263000 - 52600 - 0\",\"website\":\"\",\"email\":\"\",\"type\":\"participant\",\"contacts\":[],\"organizationId\":\"896909725\",\"rcn\":\"1966165\",\"active\":true,\"sme\":false,\"regions\":\"Andaluc\\\\u00eda|M\\\\u00e1laga\"}'\n",
            " '{\"name\":\"AIXTRON SE\",\"address\":{\"street\":\"DORNKAULSTRASSE 2\",\"city\":\"HERZOGENRATH\",\"postalCode\":\"52134\"},\"country\":{\"name\":\"Germany\",\"isoCode\":\"DE\",\"euCode\":\"DE\"},\"terminated\":false,\"order\":2,\"activityType\":\"Private for-profit entities (excluding Higher or Secondary Education Establishments)\",\"contribution\":968750,\"netEcContribution\":968750,\"nonEcContribution\":2906250,\"formula\":\"participant: 3875000 - 968750 - 0\",\"website\":\"http:\\\\/\\\\/www.aixtron.com\",\"email\":\"\",\"type\":\"participant\",\"contacts\":[],\"organizationId\":\"966782414\",\"rcn\":\"1905894\",\"active\":true,\"sme\":false,\"regions\":\"Nordrhein-Westfalen|K\\\\u00f6ln|St\\\\u00e4dteregion Aachen\"},{\"name\":\"FERDINAND-BRAUN-INSTITUT GGMBH LEIBNIZ- INSTITUT FUR HOCHSTFREQUENZTECNIK\",\"address\":{\"street\":\"GUSTAV-KIRCHHOFF-STRASSE 4\",\"city\":\"BERLIN\",\"postalCode\":\"12489\"},\"country\":{\"name\":\"Germany\",\"isoCode\":\"DE\",\"euCode\":\"DE\"},\"terminated\":false,\"order\":3,\"activityType\":\"Research Organisations\",\"contribution\":477317.75,\"netEcContribution\":477317.75,\"nonEcContribution\":886447.25,\"formula\":\"participant: 1363765 - 477317.75 - 0\",\"website\":\"\",\"email\":\"\",\"type\":\"participant\",\"contacts\":[],\"organizationId\":\"891893855\",\"rcn\":\"1970147\",\"active\":true,\"sme\":false,\"regions\":\"Berlin|Berlin|Berlin\"},{\"name\":\"CENTRE NATIONAL DE LA RECHERCHE SCIENTIFIQUE CNRS\",\"address\":{\"street\":\"RUE MICHEL ANGE 3\",\"city\":\"PARIS\",\"postalCode\":\"75794\"},\"country\":{\"name\":\"France\",\"isoCode\":\"FR\",\"euCode\":\"FR\"},\"terminated\":false,\"order\":4,\"activityType\":\"Research Organisations\",\"contribution\":277703.13,\"netEcContribution\":260216.25,\"nonEcContribution\":483258.75,\"formula\":\"participant: 793437.5 - 260216.25 - 49962.5\",\"website\":\"http:\\\\/\\\\/www.cnrs.fr\",\"email\":\"\",\"type\":\"participant\",\"contacts\":[],\"organizationId\":\"999997930\",\"rcn\":\"1905572\",\"active\":true,\"sme\":false,\"regions\":\"Ile-de-France|Ile-de-France|Paris\"},{\"name\":\"UNIVERSITE DE LILLE\",\"address\":{\"street\":\"42 RUE PAUL DUEZ\",\"city\":\"LILLE\",\"postalCode\":\"59000\"},\"country\":{\"name\":\"France\",\"isoCode\":\"FR\",\"euCode\":\"FR\"},\"terminated\":false,\"order\":4,\"activityType\":\"Higher or Secondary Education Establishments\",\"contribution\":0,\"netEcContribution\":17486.88,\"nonEcContribution\":32475.62,\"formula\":\"thirdParty: 49962.5 - 17486.88\",\"website\":\"\",\"email\":\"\",\"type\":\"thirdParty\",\"contacts\":[],\"organizationId\":\"888146648\",\"rcn\":\"1973617\",\"active\":true,\"sme\":false,\"regions\":\"Hauts-de-France|Nord-Pas de Calais|Nord\"},{\"name\":\"SOITEC BELGIUM NV\",\"address\":{\"street\":\"KEMPISCHE STEENWEG 293\",\"city\":\"HASSELT\",\"postalCode\":\"3500\"},\"country\":{\"name\":\"Belgium\",\"isoCode\":\"BE\",\"euCode\":\"BE\"},\"terminated\":false,\"order\":5,\"activityType\":\"Private for-profit entities (excluding Higher or Secondary Education Establishments)\",\"contribution\":375937.5,\"netEcContribution\":375937.5,\"nonEcContribution\":1127812.5,\"formula\":\"participant: 1503750 - 375937.5 - 0\",\"website\":\"www.epigan.com\",\"email\":\"\",\"type\":\"participant\",\"contacts\":[],\"organizationId\":\"954412586\",\"rcn\":\"2498645\",\"active\":true,\"sme\":true,\"regions\":\"Vlaams Gewest|Prov. Limburg (BE)|Arr. Hasselt\"},{\"name\":\"FRAUNHOFER GESELLSCHAFT ZUR FORDERUNG DER ANGEWANDTEN FORSCHUNG EV\",\"address\":{\"street\":\"HANSASTRASSE 27C\",\"city\":\"MUNCHEN\",\"postalCode\":\"80686\"},\"country\":{\"name\":\"Germany\",\"isoCode\":\"DE\",\"euCode\":\"DE\"},\"terminated\":false,\"order\":6,\"activityType\":\"Research Organisations\",\"contribution\":692030.06,\"netEcContribution\":692030.06,\"nonEcContribution\":1285198.69,\"formula\":\"participant: 1977228.75 - 692030.06 - 0\",\"website\":\"http:\\\\/\\\\/www.fraunhofer.de\",\"email\":\"\",\"type\":\"participant\",\"contacts\":[],\"organizationId\":\"999984059\",\"rcn\":\"1905912\",\"active\":true,\"sme\":false,\"regions\":\"Bayern|Oberbayern|M\\\\u00fcnchen, Kreisfreie Stadt\"},{\"name\":\"FINEPOWER GMBH\",\"address\":{\"street\":\"CARL ZEISS RING 21\",\"city\":\"ISMANING\",\"postalCode\":\"85737\"},\"country\":{\"name\":\"Germany\",\"isoCode\":\"DE\",\"euCode\":\"DE\"},\"terminated\":false,\"order\":7,\"activityType\":\"Private for-profit entities (excluding Higher or Secondary Education Establishments)\",\"contribution\":109506.75,\"netEcContribution\":109506.75,\"nonEcContribution\":255515.75,\"formula\":\"participant: 365022.5 - 109506.75 - 0\",\"website\":\"\",\"email\":\"\",\"type\":\"participant\",\"contacts\":[],\"organizationId\":\"945954089\",\"rcn\":\"2426257\",\"active\":true,\"sme\":true,\"regions\":\"Bayern|Oberbayern|M\\\\u00fcnchen, Landkreis\"},{\"name\":\"EV GROUP E. THALLNER GMBH\",\"address\":{\"street\":\"DI ERICH THALLNER STRASSE 1\",\"city\":\"ST FLORIAN AM INN\",\"postalCode\":\"4782\"},\"country\":{\"name\":\"Austria\",\"isoCode\":\"AT\",\"euCode\":\"AT\"},\"terminated\":false,\"order\":8,\"activityType\":\"Private for-profit entities (excluding Higher or Secondary Education Establishments)\",\"contribution\":299225,\"netEcContribution\":299225,\"nonEcContribution\":897675,\"formula\":\"participant: 1196900 - 299225 - 0\",\"website\":\"www.evgroup.com\",\"email\":\"\",\"type\":\"participant\",\"contacts\":[],\"organizationId\":\"999611676\",\"rcn\":\"1917368\",\"active\":true,\"sme\":false,\"regions\":\"West\\\\u00f6sterreich|Ober\\\\u00f6sterreich|Innviertel\"},{\"name\":\"ION BEAM SERVICES\",\"address\":{\"street\":\"RUE GASTON IMBERT PROLONGEE\",\"city\":\"ROUSSET\",\"postalCode\":\"13790\"},\"country\":{\"name\":\"France\",\"isoCode\":\"FR\",\"euCode\":\"FR\"},\"terminated\":false,\"order\":9,\"activityType\":\"Private for-profit entities (excluding Higher or Secondary Education Establishments)\",\"contribution\":1180387.5,\"netEcContribution\":1180387.5,\"nonEcContribution\":2754237.5,\"formula\":\"participant: 3934625 - 1180387.5 - 0\",\"website\":\"www.ion-beam-services.com\",\"email\":\"\",\"type\":\"participant\",\"contacts\":[],\"organizationId\":\"985764441\",\"rcn\":\"2408676\",\"active\":true,\"sme\":true,\"regions\":\"Provence-Alpes-C\\\\u00f4te d\\\\u2019Azur|Provence-Alpes-C\\\\u00f4te d\\\\u2019Azur|Bouches-du-Rh\\\\u00f4ne\"},{\"name\":\"HEXAGEM AB\",\"address\":{\"street\":\"IDEON ALFA 3 SCHEELEVAGEN 15\",\"city\":\"LUND\",\"postalCode\":\"223 63\"},\"country\":{\"name\":\"Sweden\",\"isoCode\":\"SE\",\"euCode\":\"SE\"},\"terminated\":false,\"order\":10,\"activityType\":\"Private for-profit entities (excluding Higher or Secondary Education Establishments)\",\"contribution\":296662.5,\"netEcContribution\":296662.5,\"nonEcContribution\":692212.5,\"formula\":\"participant: 988875 - 296662.5 - 0\",\"website\":\"\",\"email\":\"\",\"type\":\"participant\",\"contacts\":[],\"organizationId\":\"905399553\",\"rcn\":\"1956071\",\"active\":true,\"sme\":true,\"regions\":\"S\\\\u00f6dra Sverige|Sydsverige|Sk\\\\u00e5ne l\\\\u00e4n\"},{\"name\":\"LUNDS UNIVERSITET\",\"address\":{\"street\":\"Paradisgatan  5c\",\"city\":\"LUND\",\"postalCode\":\"22100\"},\"country\":{\"name\":\"Sweden\",\"isoCode\":\"SE\",\"euCode\":\"SE\"},\"terminated\":false,\"order\":11,\"activityType\":\"Higher or Secondary Education Establishments\",\"contribution\":196875,\"netEcContribution\":196875,\"nonEcContribution\":365625,\"formula\":\"participant: 562500 - 196875 - 0\",\"website\":\"http:\\\\/\\\\/www.lu.se\",\"email\":\"\",\"type\":\"participant\",\"contacts\":[],\"organizationId\":\"999901318\",\"rcn\":\"1949701\",\"active\":true,\"sme\":false,\"regions\":\"S\\\\u00f6dra Sverige|Sydsverige|Sk\\\\u00e5ne l\\\\u00e4n\"},{\"name\":\"X-FAB Dresden GmbH \\\\u0026 Co. KG\",\"address\":{\"street\":\"GRENZSTRASSE 28\",\"city\":\"DRESDEN\",\"postalCode\":\"01109\"},\"country\":{\"name\":\"Germany\",\"isoCode\":\"DE\",\"euCode\":\"DE\"},\"terminated\":false,\"order\":12,\"activityType\":\"Private for-profit entities (excluding Higher or Secondary Education Establishments)\",\"contribution\":300484,\"netEcContribution\":300484,\"nonEcContribution\":901453.5,\"formula\":\"participant: 1201937.5 - 300484 - 0\",\"website\":\"\",\"email\":\"\",\"type\":\"participant\",\"contacts\":[],\"organizationId\":\"967310482\",\"rcn\":\"2426277\",\"active\":true,\"sme\":false,\"regions\":\"Sachsen|Dresden|Dresden, Kreisfreie Stadt\"},{\"name\":\"X-FAB GLOBAL SERVICES GMBH\",\"address\":{\"street\":\"HAARBERGSTRASSE 67\",\"city\":\"ERFURT\",\"postalCode\":\"99097\"},\"country\":{\"name\":\"Germany\",\"isoCode\":\"DE\",\"euCode\":\"DE\"},\"terminated\":false,\"order\":13,\"activityType\":\"Private for-profit entities (excluding Higher or Secondary Education Establishments)\",\"contribution\":214430,\"netEcContribution\":170992.5,\"nonEcContribution\":512977.5,\"formula\":\"participant: 857720 - 170992.5 - 173750\",\"website\":\"\",\"email\":\"\",\"type\":\"participant\",\"contacts\":[],\"organizationId\":\"894393933\",\"rcn\":\"1970177\",\"active\":true,\"sme\":false,\"regions\":\"Th\\\\u00fcringen|Th\\\\u00fcringen|Erfurt, Kreisfreie Stadt\"},{\"name\":\"X-FAB SEMICONDUCTOR FOUNDRIES GMBH\",\"address\":{\"street\":\"HAARBERGSTRASSE 67\",\"city\":\"ERFURT\",\"postalCode\":\"99097\"},\"country\":{\"name\":\"Germany\",\"isoCode\":\"DE\",\"euCode\":\"DE\"},\"terminated\":true,\"order\":13,\"activityType\":\"Private for-profit entities (excluding Higher or Secondary Education Establishments)\",\"contribution\":0,\"netEcContribution\":0,\"nonEcContribution\":0,\"formula\":\"thirdParty: 0 - 0\",\"website\":\"www.xfab.com\",\"email\":\"\",\"type\":\"thirdParty\",\"contacts\":[],\"organizationId\":\"999437949\",\"rcn\":\"2118820\",\"active\":true,\"sme\":false,\"regions\":\"Th\\\\u00fcringen|Th\\\\u00fcringen|Erfurt, Kreisfreie Stadt\"},{\"name\":\"X-FAB MEMS FOUNDRY GmbH\",\"address\":{\"street\":\"HAARBERGSTRASSE 67\",\"city\":\"ERFURT\",\"postalCode\":\"99097\"},\"country\":{\"name\":\"Germany\",\"isoCode\":\"DE\",\"euCode\":\"DE\"},\"terminated\":false,\"order\":13,\"activityType\":\"Private for-profit entities (excluding Higher or Secondary Education Establishments)\",\"contribution\":0,\"netEcContribution\":43437.5,\"nonEcContribution\":130312.5,\"formula\":\"thirdParty: 173750 - 43437.5\",\"website\":\"\",\"email\":\"\",\"type\":\"thirdParty\",\"contacts\":[],\"organizationId\":\"940657501\",\"rcn\":\"2428503\",\"active\":true,\"sme\":false,\"regions\":\"Th\\\\u00fcringen|Th\\\\u00fcringen|Erfurt, Kreisfreie Stadt\"},{\"name\":\"SMART INDUCTION CONVERTER TECHNOLOGIES SL\",\"address\":{\"street\":\"CALLE CATEDRATICO AGUSTIN ESCARDINO 9\",\"city\":\"PATERNA\",\"postalCode\":\"46980\"},\"country\":{\"name\":\"Spain\",\"isoCode\":\"ES\",\"euCode\":\"ES\"},\"terminated\":false,\"order\":14,\"activityType\":\"Private for-profit entities (excluding Higher or Secondary Education Establishments)\",\"contribution\":301312.5,\"netEcContribution\":301312.5,\"nonEcContribution\":703062.5,\"formula\":\"participant: 1004375 - 301312.5 - 0\",\"website\":\"\",\"email\":\"\",\"type\":\"participant\",\"contacts\":[],\"organizationId\":\"894588321\",\"rcn\":\"1970180\",\"active\":true,\"sme\":true,\"regions\":\"Este|Comunitat Valenciana |Valencia\\\\/Val\\\\u00e8ncia\"},{\"name\":\"UNIVERSITAT DE VALENCIA\",\"address\":{\"street\":\"AVENIDA BLASCO IBANEZ  13\",\"city\":\"VALENCIA\",\"postalCode\":\"46010\"},\"country\":{\"name\":\"Spain\",\"isoCode\":\"ES\",\"euCode\":\"ES\"},\"terminated\":false,\"order\":15,\"activityType\":\"Higher or Secondary Education Establishments\",\"contribution\":154000,\"netEcContribution\":154000,\"nonEcContribution\":286000,\"formula\":\"participant: 440000 - 154000 - 0\",\"website\":\"http:\\\\/\\\\/www.uv.es\",\"email\":\"\",\"type\":\"participant\",\"contacts\":[],\"organizationId\":\"999953019\",\"rcn\":\"1909973\",\"active\":true,\"sme\":false,\"regions\":\"Este|Comunitat Valenciana |Valencia\\\\/Val\\\\u00e8ncia\"},{\"name\":\"NANOWIRED GMBH\",\"address\":{\"street\":\"EMANUEL-MERCK-STRASSE 99\",\"city\":\"GERNSHEIM\",\"postalCode\":\"64579\"},\"country\":{\"name\":\"Germany\",\"isoCode\":\"DE\",\"euCode\":\"DE\"},\"terminated\":false,\"order\":16,\"activityType\":\"Private for-profit entities (excluding Higher or Secondary Education Establishments)\",\"contribution\":168750,\"netEcContribution\":168750,\"nonEcContribution\":393750,\"formula\":\"participant: 562500 - 168750 - 0\",\"website\":\"\",\"email\":\"\",\"type\":\"participant\",\"contacts\":[],\"organizationId\":\"911589414\",\"rcn\":\"3146612\",\"active\":true,\"sme\":true,\"regions\":\"Darmstadt|Gro\\\\u00df-Gerau\"},{\"name\":\"UNIVERSITEIT GENT\",\"address\":{\"street\":\"SINT PIETERSNIEUWSTRAAT 25\",\"city\":\"GENT\",\"postalCode\":\"9000\"},\"country\":{\"name\":\"Belgium\",\"isoCode\":\"BE\",\"euCode\":\"BE\"},\"terminated\":false,\"order\":17,\"activityType\":\"Higher or Secondary Education Establishments\",\"contribution\":165709.69,\"netEcContribution\":165709.69,\"nonEcContribution\":307746.56,\"formula\":\"participant: 473456.25 - 165709.69 - 0\",\"website\":\"http:\\\\/\\\\/www.ugent.be\",\"email\":\"\",\"type\":\"participant\",\"contacts\":[],\"organizationId\":\"999986096\",\"rcn\":\"1906194\",\"active\":true,\"sme\":false,\"regions\":\"Vlaams Gewest|Prov. Oost-Vlaanderen|Arr. Gent\"},{\"name\":\"MATERIALS CENTER LEOBEN FORSCHUNG GMBH\",\"address\":{\"street\":\"ROSEGGERSTRASSE 12\",\"city\":\"LEOBEN\",\"postalCode\":\"8700\"},\"country\":{\"name\":\"Austria\",\"isoCode\":\"AT\",\"euCode\":\"AT\"},\"terminated\":false,\"order\":18,\"activityType\":\"Research Organisations\",\"contribution\":186948.56,\"netEcContribution\":186948.56,\"nonEcContribution\":347190.19,\"formula\":\"participant: 534138.75 - 186948.56 - 0\",\"website\":\"www.mcl.at\",\"email\":\"\",\"type\":\"participant\",\"contacts\":[],\"organizationId\":\"998806867\",\"rcn\":\"1917562\",\"active\":true,\"sme\":false,\"regions\":\"S\\\\u00fcd\\\\u00f6sterreich|Steiermark|\\\\u00d6stliche Obersteiermark\"},{\"name\":\"SILTRONIC AG\",\"address\":{\"street\":\"EINSTEINSTRASSE 172\",\"city\":\"MUNCHEN\",\"postalCode\":\"81677\"},\"country\":{\"name\":\"Germany\",\"isoCode\":\"DE\",\"euCode\":\"DE\"},\"terminated\":false,\"order\":19,\"activityType\":\"Private for-profit entities (excluding Higher or Secondary Education Establishments)\",\"contribution\":322815,\"netEcContribution\":322815,\"nonEcContribution\":968445,\"formula\":\"participant: 1291260 - 322815 - 0\",\"website\":\"www.siltronic.com\",\"email\":\"\",\"type\":\"participant\",\"contacts\":[],\"organizationId\":\"990648003\",\"rcn\":\"2498028\",\"active\":true,\"sme\":false,\"regions\":\"Bayern|Oberbayern|M\\\\u00fcnchen, Kreisfreie Stadt\"},{\"name\":\"AUREL SPA\",\"address\":{\"street\":\"VIA FORO DEI TIGLI 4\",\"city\":\"MODIGLIANA FO\",\"postalCode\":\"47015\"},\"country\":{\"name\":\"Italy\",\"isoCode\":\"IT\",\"euCode\":\"IT\"},\"terminated\":false,\"order\":20,\"activityType\":\"Private for-profit entities (excluding Higher or Secondary Education Establishments)\",\"contribution\":129375,\"netEcContribution\":129375,\"nonEcContribution\":301875,\"formula\":\"participant: 431250 - 129375 - 0\",\"website\":\"\",\"email\":\"\",\"type\":\"participant\",\"contacts\":[],\"organizationId\":\"966574446\",\"rcn\":\"1924452\",\"active\":true,\"sme\":true,\"regions\":\"Nord-Est|Emilia-Romagna|Forl\\\\u00ec-Cesena\"},{\"name\":\"CONSORZIO NAZIONALE INTERUNIVERSITARIO PER LA NANOELETTRONICA\",\"address\":{\"street\":\"VIA TOFFANO 2\",\"city\":\"BOLOGNA\",\"postalCode\":\"40125\"},\"country\":{\"name\":\"Italy\",\"isoCode\":\"IT\",\"euCode\":\"IT\"},\"terminated\":false,\"order\":21,\"activityType\":\"Research Organisations\",\"contribution\":225312.5,\"netEcContribution\":0.44,\"nonEcContribution\":0.81,\"formula\":\"participant: 643750.01 - 0.44 - 643748.76\",\"website\":\"\",\"email\":\"\",\"type\":\"participant\",\"contacts\":[],\"organizationId\":\"999659885\",\"rcn\":\"2406048\",\"active\":true,\"sme\":false,\"regions\":\"Nord-Est|Emilia-Romagna|Bologna\"},{\"name\":\"UNIVERSITA DEGLI STUDI DI PADOVA\",\"address\":{\"street\":\"VIA 8 FEBBRAIO 2\",\"city\":\"PADOVA\",\"postalCode\":\"35122\"},\"country\":{\"name\":\"Italy\",\"isoCode\":\"IT\",\"euCode\":\"IT\"},\"terminated\":false,\"order\":21,\"activityType\":\"Higher or Secondary Education Establishments\",\"contribution\":0,\"netEcContribution\":113749.78,\"nonEcContribution\":211249.6,\"formula\":\"thirdParty: 324999.38 - 113749.78\",\"website\":\"http:\\\\/\\\\/www.unipd.it\",\"email\":\"\",\"type\":\"thirdParty\",\"contacts\":[],\"organizationId\":\"999995602\",\"rcn\":\"1905774\",\"active\":true,\"sme\":false,\"regions\":\"Nord-Est|Veneto|Padova\"},{\"name\":\"UNIVERSITA DEGLI STUDI DI MODENA E REGGIO EMILIA\",\"address\":{\"street\":\"VIA UNIVERSITA 4\",\"city\":\"MODENA\",\"postalCode\":\"41121\"},\"country\":{\"name\":\"Italy\",\"isoCode\":\"IT\",\"euCode\":\"IT\"},\"terminated\":false,\"order\":21,\"activityType\":\"Higher or Secondary Education Establishments\",\"contribution\":0,\"netEcContribution\":111562.28,\"nonEcContribution\":207187.1,\"formula\":\"thirdParty: 318749.38 - 111562.28\",\"website\":\"http:\\\\/\\\\/www.unimore.it\",\"email\":\"\",\"type\":\"thirdParty\",\"contacts\":[],\"organizationId\":\"999840887\",\"rcn\":\"1906199\",\"active\":true,\"sme\":false,\"regions\":\"Nord-Est|Emilia-Romagna|Modena\"},{\"name\":\"RAW POWER SRL\",\"address\":{\"street\":\"VIA FRATELLI CERVI 80\",\"city\":\"REGGIO EMILIA\",\"postalCode\":\"42124\"},\"country\":{\"name\":\"Italy\",\"isoCode\":\"IT\",\"euCode\":\"IT\"},\"terminated\":false,\"order\":22,\"activityType\":\"Private for-profit entities (excluding Higher or Secondary Education Establishments)\",\"contribution\":142500,\"netEcContribution\":142500,\"nonEcContribution\":332500,\"formula\":\"participant: 475000 - 142500 - 0\",\"website\":\"www.rawpowergroup.it\",\"email\":\"\",\"type\":\"participant\",\"contacts\":[],\"organizationId\":\"941503632\",\"rcn\":\"2217445\",\"active\":true,\"sme\":true,\"regions\":\"Nord-Est|Emilia-Romagna|Reggio nell\\\\u2019Emilia\"},{\"name\":\"STMICROELECTRONICS (TOURS) SAS\",\"address\":{\"street\":\"10 RUE THALES DE MILET\",\"city\":\"TOURS\",\"postalCode\":\"37100\"},\"country\":{\"name\":\"France\",\"isoCode\":\"FR\",\"euCode\":\"FR\"},\"terminated\":false,\"order\":23,\"activityType\":\"Private for-profit entities (excluding Higher or Secondary Education Establishments)\",\"contribution\":0,\"netEcContribution\":0,\"nonEcContribution\":75498.75,\"formula\":\"participant: 75498.75 - 0 - 0\",\"website\":\"\",\"email\":\"\",\"type\":\"participant\",\"contacts\":[],\"organizationId\":\"999650379\",\"rcn\":\"2498112\",\"active\":true,\"sme\":false,\"regions\":\"Centre \\\\u2014 Val de Loire|Centre \\\\u2014 Val de Loire|Indre-et-Loire\"}'\n",
            " '{\"name\":\"3M DEUTSCHLAND GMBH\",\"address\":{\"street\":\"CARL SCHURZ STRASSE 1\",\"city\":\"NEUSS\",\"postalCode\":\"41460\"},\"country\":{\"name\":\"Germany\",\"isoCode\":\"DE\",\"euCode\":\"DE\"},\"terminated\":false,\"order\":2,\"activityType\":\"Private for-profit entities (excluding Higher or Secondary Education Establishments)\",\"contribution\":691250,\"netEcContribution\":null,\"nonEcContribution\":null,\"formula\":\"participant: \",\"website\":\"\",\"email\":\"\",\"type\":\"participant\",\"contacts\":[],\"organizationId\":\"989823115\",\"rcn\":\"2506725\",\"active\":true,\"sme\":false,\"regions\":\"Baden-W\\\\u00fcrttemberg|Stuttgart|Stuttgart, Stadtkreis\"},{\"name\":\"ARKEMA FRANCE SA\",\"address\":{\"street\":\"RUE ESTIENNE D ORVES\",\"city\":\"COLOMBES\",\"postalCode\":\"92700\"},\"country\":{\"name\":\"France\",\"isoCode\":\"FR\",\"euCode\":\"FR\"},\"terminated\":false,\"order\":3,\"activityType\":\"Private for-profit entities (excluding Higher or Secondary Education Establishments)\",\"contribution\":706000,\"netEcContribution\":null,\"nonEcContribution\":null,\"formula\":\"participant: \",\"website\":\"http:\\\\/\\\\/www.arkema.com\",\"email\":\"\",\"type\":\"participant\",\"contacts\":[],\"organizationId\":\"998371046\",\"rcn\":\"1907303\",\"active\":true,\"sme\":false,\"regions\":\"Ile-de-France|Ile-de-France|Hauts-de-Seine \"},{\"name\":\"ROBERT BOSCH GMBH\",\"address\":{\"street\":\"ROBERT-BOSCH-PLATZ 1\",\"city\":\"GERLINGEN-SCHILLERHOEHE\",\"postalCode\":\"70839\"},\"country\":{\"name\":\"Germany\",\"isoCode\":\"DE\",\"euCode\":\"DE\"},\"terminated\":false,\"order\":4,\"activityType\":\"Private for-profit entities (excluding Higher or Secondary Education Establishments)\",\"contribution\":287500,\"netEcContribution\":null,\"nonEcContribution\":null,\"formula\":\"participant: \",\"website\":\"http:\\\\/\\\\/www.bosch.com\",\"email\":\"\",\"type\":\"participant\",\"contacts\":[],\"organizationId\":\"999908787\",\"rcn\":\"1913203\",\"active\":true,\"sme\":false,\"regions\":\"Baden-W\\\\u00fcrttemberg|Stuttgart|Ludwigsburg\"},{\"name\":\"UMICORE\",\"address\":{\"street\":\"RUE DU MARAIS 31\",\"city\":\"BRUXELLES\",\"postalCode\":\"1000\"},\"country\":{\"name\":\"Belgium\",\"isoCode\":\"BE\",\"euCode\":\"BE\"},\"terminated\":false,\"order\":5,\"activityType\":\"Private for-profit entities (excluding Higher or Secondary Education Establishments)\",\"contribution\":635500,\"netEcContribution\":null,\"nonEcContribution\":null,\"formula\":\"participant: \",\"website\":\"\",\"email\":\"\",\"type\":\"participant\",\"contacts\":[],\"organizationId\":\"999893461\",\"rcn\":\"1906667\",\"active\":true,\"sme\":false,\"regions\":\"R\\\\u00e9gion de Bruxelles-Capitale\\\\/Brussels Hoofdstedelijk Gewest|R\\\\u00e9gion de Bruxelles-Capitale\\\\/ Brussels Hoofdstedelijk Gewest|Arr. de Bruxelles-Capitale\\\\/Arr. Brussel-Hoofdstad\"},{\"name\":\"VIRTUAL VEHICLE RESEARCH GMBH\",\"address\":{\"street\":\"INFFELDGASSE 21 A\",\"city\":\"GRAZ\",\"postalCode\":\"8010\"},\"country\":{\"name\":\"Austria\",\"isoCode\":\"AT\",\"euCode\":\"AT\"},\"terminated\":false,\"order\":6,\"activityType\":\"Research Organisations\",\"contribution\":413750,\"netEcContribution\":null,\"nonEcContribution\":null,\"formula\":\"participant: \",\"website\":\"http:\\\\/\\\\/www.virtuellesfahrzeug.at\",\"email\":\"\",\"type\":\"participant\",\"contacts\":[],\"organizationId\":\"997885852\",\"rcn\":\"1914567\",\"active\":true,\"sme\":false,\"regions\":\"S\\\\u00fcd\\\\u00f6sterreich|Steiermark|Graz\"},{\"name\":\"VRIJE UNIVERSITEIT BRUSSEL\",\"address\":{\"street\":\"PLEINLAAN 2\",\"city\":\"BRUSSEL\",\"postalCode\":\"1050\"},\"country\":{\"name\":\"Belgium\",\"isoCode\":\"BE\",\"euCode\":\"BE\"},\"terminated\":false,\"order\":7,\"activityType\":\"Higher or Secondary Education Establishments\",\"contribution\":637500,\"netEcContribution\":null,\"nonEcContribution\":null,\"formula\":\"participant: \",\"website\":\"http:\\\\/\\\\/www.vub.ac.be\",\"email\":\"\",\"type\":\"participant\",\"contacts\":[],\"organizationId\":\"999902094\",\"rcn\":\"1906222\",\"active\":true,\"sme\":false,\"regions\":\"R\\\\u00e9gion de Bruxelles-Capitale\\\\/Brussels Hoofdstedelijk Gewest|R\\\\u00e9gion de Bruxelles-Capitale\\\\/ Brussels Hoofdstedelijk Gewest|Arr. de Bruxelles-Capitale\\\\/Arr. Brussel-Hoofdstad\"},{\"name\":\"ZENTRUM FUR SONNENENERGIE- UND WASSERSTOFF-FORSCHUNG BADEN-WURTTEMBERG\",\"address\":{\"street\":\"MEITNERSTRASSE 1\",\"city\":\"STUTTGART\",\"postalCode\":\"70563\"},\"country\":{\"name\":\"Germany\",\"isoCode\":\"DE\",\"euCode\":\"DE\"},\"terminated\":false,\"order\":8,\"activityType\":\"Research Organisations\",\"contribution\":1503710,\"netEcContribution\":null,\"nonEcContribution\":null,\"formula\":\"participant: \",\"website\":\"http:\\\\/\\\\/www.zsw-bw.de\",\"email\":\"\",\"type\":\"participant\",\"contacts\":[],\"organizationId\":\"999517101\",\"rcn\":\"1906668\",\"active\":true,\"sme\":false,\"regions\":\"Baden-W\\\\u00fcrttemberg|Stuttgart|Stuttgart, Stadtkreis\"},{\"name\":\"BAYERISCHE MOTOREN WERKE AKTIENGESELLSCHAFT\",\"address\":{\"street\":\"PETUELRING 130\",\"city\":\"MUNCHEN\",\"postalCode\":\"80809\"},\"country\":{\"name\":\"Germany\",\"isoCode\":\"DE\",\"euCode\":\"DE\"},\"terminated\":false,\"order\":9,\"activityType\":\"Private for-profit entities (excluding Higher or Secondary Education Establishments)\",\"contribution\":383750,\"netEcContribution\":null,\"nonEcContribution\":null,\"formula\":\"participant: \",\"website\":\"\",\"email\":\"\",\"type\":\"participant\",\"contacts\":[],\"organizationId\":\"999437852\",\"rcn\":\"1905900\",\"active\":true,\"sme\":false,\"regions\":\"Bayern|Oberbayern|M\\\\u00fcnchen, Kreisfreie Stadt\"},{\"name\":\"JRC -JOINT RESEARCH CENTRE- EUROPEAN COMMISSION\",\"address\":{\"street\":\"Rue de la Loi 200\",\"city\":\"BRUSSELS\",\"postalCode\":\"1049\"},\"country\":{\"name\":\"Belgium\",\"isoCode\":\"BE\",\"euCode\":\"BE\"},\"terminated\":false,\"order\":10,\"activityType\":\"Research Organisations\",\"contribution\":0,\"netEcContribution\":null,\"nonEcContribution\":null,\"formula\":\"participant: \",\"website\":\"http:\\\\/\\\\/www.jrc.ec.europa.eu\",\"email\":\"\",\"type\":\"participant\",\"contacts\":[],\"organizationId\":\"999992304\",\"rcn\":\"1905798\",\"active\":true,\"sme\":false,\"regions\":\"R\\\\u00e9gion de Bruxelles-Capitale\\\\/Brussels Hoofdstedelijk Gewest|R\\\\u00e9gion de Bruxelles-Capitale\\\\/ Brussels Hoofdstedelijk Gewest|Arr. de Bruxelles-Capitale\\\\/Arr. Brussel-Hoofdstad\"}'\n",
            " '{\"name\":\"INFINEON TECHNOLOGIES AUSTRIA  AG\",\"address\":{\"street\":\"SIEMENSSTRASSE  2\",\"city\":\"VILLACH\",\"postalCode\":\"9500\"},\"country\":{\"name\":\"Austria\",\"isoCode\":\"AT\",\"euCode\":\"AT\"},\"terminated\":false,\"order\":2,\"activityType\":\"Private for-profit entities (excluding Higher or Secondary Education Establishments)\",\"contribution\":505772,\"netEcContribution\":null,\"nonEcContribution\":null,\"formula\":\"participant: \",\"website\":\"http:\\\\/\\\\/www.infineon.com\\\\/austria\",\"email\":\"wrFmnjLGsqiv3MXg5hnhu+g2jcC0+QEwLLEmEhaMPLldxVWIqX+75brlXeU\\\\/EkfL\",\"type\":\"participant\",\"contacts\":[{\"position\":\"relatedContact\",\"title\":\"Mrs.\",\"name\":\"Marlis Stifter-Lindner\",\"phone\":\"+43517772984\",\"email\":\"wrFmnjLGsqiv3MXg5hnhu+g2jcC0+QEwLLEmEhaMPLldxVWIqX+75brlXeU\\\\/EkfL\",\"fax\":\"+43424230202984\"}],\"organizationId\":\"999705087\",\"rcn\":\"1918908\",\"active\":true,\"sme\":false,\"regions\":\"S\\\\u00fcd\\\\u00f6sterreich|K\\\\u00e4rnten|Klagenfurt-Villach\"},{\"name\":\"ROBERT BOSCH GMBH\",\"address\":{\"street\":\"ROBERT-BOSCH-PLATZ 1\",\"city\":\"GERLINGEN-SCHILLERHOEHE\",\"postalCode\":\"70839\"},\"country\":{\"name\":\"Germany\",\"isoCode\":\"DE\",\"euCode\":\"DE\"},\"terminated\":false,\"order\":3,\"activityType\":\"Private for-profit entities (excluding Higher or Secondary Education Establishments)\",\"contribution\":210878,\"netEcContribution\":null,\"nonEcContribution\":null,\"formula\":\"participant: \",\"website\":\"http:\\\\/\\\\/www.bosch.com\",\"email\":\"GOB0F\\\\/mNYKGcUi0iCwH5Ha2OORNjpmyIH1QZAv1PL\\\\/s=\",\"type\":\"participant\",\"contacts\":[{\"position\":\"relatedContact\",\"title\":\"Mr.\",\"name\":\"Heiko Jung\",\"phone\":\"+49 30 32788506\",\"email\":\"GOB0F\\\\/mNYKGcUi0iCwH5Ha2OORNjpmyIH1QZAv1PL\\\\/s=\",\"fax\":\"+49 30 32788 224\"}],\"organizationId\":\"999908787\",\"rcn\":\"1913203\",\"active\":true,\"sme\":false,\"regions\":\"Baden-W\\\\u00fcrttemberg|Stuttgart|Ludwigsburg\"},{\"name\":\"INFINEON TECHNOLOGIES AG\",\"address\":{\"street\":\"AM CAMPEON 1-15\",\"city\":\"NEUBIBERG\",\"postalCode\":\"85579\"},\"country\":{\"name\":\"Germany\",\"isoCode\":\"DE\",\"euCode\":\"DE\"},\"terminated\":false,\"order\":4,\"activityType\":\"Private for-profit entities (excluding Higher or Secondary Education Establishments)\",\"contribution\":494625,\"netEcContribution\":null,\"nonEcContribution\":null,\"formula\":\"participant: \",\"website\":\"http:\\\\/\\\\/www.infineon.com\",\"email\":\"hciZzA0U2trBMQoP\\\\/Gfi1oKkTdq9nlvKUa57XeAvZ8xWkJhNEw1pCSDkgJgltPoG\",\"type\":\"participant\",\"contacts\":[{\"position\":\"relatedContact\",\"title\":\"Mrs.\",\"name\":\"Mingxia Wu-Lutzenberger\",\"phone\":\"+498923420713\",\"email\":\"hciZzA0U2trBMQoP\\\\/Gfi1oKkTdq9nlvKUa57XeAvZ8xWkJhNEw1pCSDkgJgltPoG\",\"fax\":\"\"}],\"organizationId\":\"999978918\",\"rcn\":\"1914982\",\"active\":true,\"sme\":false,\"regions\":\"Bayern|Oberbayern|M\\\\u00fcnchen, Landkreis\"},{\"name\":\"UNIVERSIDAD POLITECNICA DE MADRID\",\"address\":{\"street\":\"CALLE RAMIRO DE MAEZTU 7 EDIFICIO RECTORADO\",\"city\":\"MADRID\",\"postalCode\":\"28040\"},\"country\":{\"name\":\"Spain\",\"isoCode\":\"ES\",\"euCode\":\"ES\"},\"terminated\":false,\"order\":5,\"activityType\":\"Higher or Secondary Education Establishments\",\"contribution\":384892,\"netEcContribution\":null,\"nonEcContribution\":null,\"formula\":\"participant: \",\"website\":\"http:\\\\/\\\\/www.upm.es\",\"email\":\"BCjfg02qrmcsnmsgKIyABHn5UgCxEJg4v934wBn36ROY2boho8TMh3BBBY+bZPR8\",\"type\":\"participant\",\"contacts\":[{\"position\":\"relatedContact\",\"title\":\"Prof.\",\"name\":\"GONZALO LEON\",\"phone\":\"+34913366048\",\"email\":\"BCjfg02qrmcsnmsgKIyABHn5UgCxEJg4v934wBn36ROY2boho8TMh3BBBY+bZPR8\",\"fax\":\"+34913365974\"}],\"organizationId\":\"999974844\",\"rcn\":\"1905672\",\"active\":true,\"sme\":false,\"regions\":\"Comunidad de Madrid|Comunidad de Madrid|Madrid\"},{\"name\":\"MURATA INTEGRATED PASSIVE SOLUTIONS\",\"address\":{\"street\":\"2 RUE DE LA GIRAFE\",\"city\":\"CAEN\",\"postalCode\":\"14000\"},\"country\":{\"name\":\"France\",\"isoCode\":\"FR\",\"euCode\":\"FR\"},\"terminated\":false,\"order\":6,\"activityType\":\"Private for-profit entities (excluding Higher or Secondary Education Establishments)\",\"contribution\":341968,\"netEcContribution\":null,\"nonEcContribution\":null,\"formula\":\"participant: \",\"website\":\"www.ipdia.com\",\"email\":\"cNoRMXz+sEOEW0b1xlCKgYKO6Z4NdksMhaqUeWlCp58=\",\"type\":\"participant\",\"contacts\":[{\"position\":\"relatedContact\",\"title\":\"Mrs.\",\"name\":\"Charlotte JENNEQUIN\",\"phone\":\"+33 760726492\",\"email\":\"cNoRMXz+sEOEW0b1xlCKgYKO6Z4NdksMhaqUeWlCp58=\",\"fax\":\"\"}],\"organizationId\":\"990606002\",\"rcn\":\"2205913\",\"active\":true,\"sme\":false,\"regions\":\"Normandie|Basse-Normandie |Calvados \"},{\"name\":\"UNIVERSITE LYON 1 CLAUDE BERNARD\",\"address\":{\"street\":\"BOULEVARD DU 11 NOVEMBRE 1918 NUM43\",\"city\":\"VILLEURBANNE CEDEX\",\"postalCode\":\"69622\"},\"country\":{\"name\":\"France\",\"isoCode\":\"FR\",\"euCode\":\"FR\"},\"terminated\":false,\"order\":7,\"activityType\":\"Higher or Secondary Education Establishments\",\"contribution\":305453,\"netEcContribution\":null,\"nonEcContribution\":null,\"formula\":\"participant: \",\"website\":\"http:\\\\/\\\\/www.univ-Iyon1.fr\",\"email\":\"HcDJZx+CoowqqR1+AOEizio10hfzA8qtmWNKF1Kg+04=\",\"type\":\"participant\",\"contacts\":[{\"position\":\"relatedContact\",\"title\":\"Dr.\",\"name\":\"Javier OLAIZ\",\"phone\":\"+33472697600\",\"email\":\"HcDJZx+CoowqqR1+AOEizio10hfzA8qtmWNKF1Kg+04=\",\"fax\":\"\"}],\"organizationId\":\"999902579\",\"rcn\":\"1907071\",\"active\":true,\"sme\":false,\"regions\":\"Auvergne-Rh\\\\u00f4ne-Alpes|Rh\\\\u00f4ne-Alpes|Rh\\\\u00f4ne\"},{\"name\":\"INSTITUT NATIONAL DES SCIENCES APPLIQUEES DE LYON\",\"address\":{\"street\":\"20 AVENUE ALBERT EINSTEIN\",\"city\":\"VILLEURBANNE CEDEX\",\"postalCode\":\"69621\"},\"country\":{\"name\":\"France\",\"isoCode\":\"FR\",\"euCode\":\"FR\"},\"terminated\":false,\"order\":8,\"activityType\":\"Higher or Secondary Education Establishments\",\"contribution\":73127,\"netEcContribution\":null,\"nonEcContribution\":null,\"formula\":\"participant: \",\"website\":\"http:\\\\/\\\\/www.insa-lyon.fr\",\"email\":\"QPhR+ElHWxe\\\\/2hfLQq53gbSXkEt\\\\/gQG1\\\\/ablC4od58E=\",\"type\":\"participant\",\"contacts\":[{\"position\":\"relatedContact\",\"title\":\"Ms.\",\"name\":\"Francoise Martin\",\"phone\":\"+33 472 437 983\",\"email\":\"QPhR+ElHWxe\\\\/2hfLQq53gbSXkEt\\\\/gQG1\\\\/ablC4od58E=\",\"fax\":\"\"}],\"organizationId\":\"999886089\",\"rcn\":\"1905852\",\"active\":true,\"sme\":false,\"regions\":\"Auvergne-Rh\\\\u00f4ne-Alpes|Rh\\\\u00f4ne-Alpes|Rh\\\\u00f4ne\"},{\"name\":\"CENTRE NATIONAL DE LA RECHERCHE SCIENTIFIQUE CNRS\",\"address\":{\"street\":\"RUE MICHEL ANGE 3\",\"city\":\"PARIS\",\"postalCode\":\"75794\"},\"country\":{\"name\":\"France\",\"isoCode\":\"FR\",\"euCode\":\"FR\"},\"terminated\":false,\"order\":9,\"activityType\":\"Research Organisations\",\"contribution\":12954,\"netEcContribution\":null,\"nonEcContribution\":null,\"formula\":\"participant: \",\"website\":\"http:\\\\/\\\\/www.cnrs.fr\",\"email\":\"etGyrl7I3cqfujPKHaj9lOw3BoJSPzrC5xTeibsrfxw=\",\"type\":\"participant\",\"contacts\":[{\"position\":\"relatedContact\",\"title\":\"Ms.\",\"name\":\"Pascaline Toutois\",\"phone\":\"+33 4 72 44 56 41\",\"email\":\"etGyrl7I3cqfujPKHaj9lOw3BoJSPzrC5xTeibsrfxw=\",\"fax\":\"\"}],\"organizationId\":\"999997930\",\"rcn\":\"1905572\",\"active\":true,\"sme\":false,\"regions\":\"Ile-de-France|Ile-de-France|Paris\"}'\n",
            " '{\"name\":\"VRIJE UNIVERSITEIT BRUSSEL\",\"address\":{\"street\":\"PLEINLAAN 2\",\"city\":\"BRUSSEL\",\"postalCode\":\"1050\"},\"country\":{\"name\":\"Belgium\",\"isoCode\":\"BE\",\"euCode\":\"BE\"},\"terminated\":false,\"order\":2,\"activityType\":\"Higher or Secondary Education Establishments\",\"contribution\":499000,\"netEcContribution\":null,\"nonEcContribution\":null,\"formula\":\"participant: \",\"website\":\"http:\\\\/\\\\/www.vub.ac.be\",\"email\":\"4U5FZyzIS0cFoqB56JJPbQ==\",\"type\":\"participant\",\"contacts\":[{\"position\":\"relatedContact\",\"title\":\"Mr.\",\"name\":\"Nik Claesen\",\"phone\":\"+32 2 6293808\",\"email\":\"4U5FZyzIS0cFoqB56JJPbQ==\",\"fax\":\"+32 2 6293640\"}],\"organizationId\":\"999902094\",\"rcn\":\"1906222\",\"active\":true,\"sme\":false,\"regions\":\"R\\\\u00e9gion de Bruxelles-Capitale\\\\/Brussels Hoofdstedelijk Gewest|R\\\\u00e9gion de Bruxelles-Capitale\\\\/ Brussels Hoofdstedelijk Gewest|Arr. de Bruxelles-Capitale\\\\/Arr. Brussel-Hoofdstad\"},{\"name\":\"K \\\\u0026 S GMBH PROJEKTMANAGEMENT\",\"address\":{\"street\":\"PURWEIDER WINKEL 52\",\"city\":\"AACHEN\",\"postalCode\":\"52070\"},\"country\":{\"name\":\"Germany\",\"isoCode\":\"DE\",\"euCode\":\"DE\"},\"terminated\":false,\"order\":3,\"activityType\":\"Private for-profit entities (excluding Higher or Secondary Education Establishments)\",\"contribution\":146800,\"netEcContribution\":null,\"nonEcContribution\":null,\"formula\":\"participant: \",\"website\":\"www.ks-pm.de\",\"email\":\"7ws3fTZSOVjXfooyYv\\\\/fCvcld2Kbom6XFraD7Gnc5E8=\",\"type\":\"participant\",\"contacts\":[{\"position\":\"relatedContact\",\"title\":\"Dr.\",\"name\":\"Andreas Kreutzer\",\"phone\":\"+492411601959\",\"email\":\"7ws3fTZSOVjXfooyYv\\\\/fCvcld2Kbom6XFraD7Gnc5E8=\",\"fax\":\"+492411601963\"}],\"organizationId\":\"985994040\",\"rcn\":\"2206487\",\"active\":true,\"sme\":false,\"regions\":\"Nordrhein-Westfalen|K\\\\u00f6ln|St\\\\u00e4dteregion Aachen\"},{\"name\":\"ROBERT BOSCH GMBH\",\"address\":{\"street\":\"ROBERT-BOSCH-PLATZ 1\",\"city\":\"GERLINGEN-SCHILLERHOEHE\",\"postalCode\":\"70839\"},\"country\":{\"name\":\"Germany\",\"isoCode\":\"DE\",\"euCode\":\"DE\"},\"terminated\":false,\"order\":4,\"activityType\":\"Private for-profit entities (excluding Higher or Secondary Education Establishments)\",\"contribution\":383275,\"netEcContribution\":null,\"nonEcContribution\":null,\"formula\":\"participant: \",\"website\":\"http:\\\\/\\\\/www.bosch.com\",\"email\":\"PS\\\\/vnrIzg8iqU6xSmzilV71uAsBbqwgnNDw7uPaCje0=\",\"type\":\"participant\",\"contacts\":[{\"position\":\"relatedContact\",\"title\":\"Ms.\",\"name\":\"Christina Kolbe\",\"phone\":\"+49 5121 49 5411\",\"email\":\"PS\\\\/vnrIzg8iqU6xSmzilV71uAsBbqwgnNDw7uPaCje0=\",\"fax\":\"+49 5121 49 4190\"}],\"organizationId\":\"999908787\",\"rcn\":\"1913203\",\"active\":true,\"sme\":false,\"regions\":\"Baden-W\\\\u00fcrttemberg|Stuttgart|Ludwigsburg\"},{\"name\":\"FRAUNHOFER GESELLSCHAFT ZUR FORDERUNG DER ANGEWANDTEN FORSCHUNG EV\",\"address\":{\"street\":\"HANSASTRASSE 27C\",\"city\":\"MUNCHEN\",\"postalCode\":\"80686\"},\"country\":{\"name\":\"Germany\",\"isoCode\":\"DE\",\"euCode\":\"DE\"},\"terminated\":false,\"order\":5,\"activityType\":\"Research Organisations\",\"contribution\":663079,\"netEcContribution\":null,\"nonEcContribution\":null,\"formula\":\"participant: \",\"website\":\"http:\\\\/\\\\/www.fraunhofer.de\",\"email\":\"ngbUebg6HCFWH6\\\\/5krrV+YCnOeRo8Vqz\\\\/HbXsMQaDDU=\",\"type\":\"participant\",\"contacts\":[{\"position\":\"relatedContact\",\"title\":\"Ms.\",\"name\":\"Andrea ZEUMANN\",\"phone\":\"+498912052723\",\"email\":\"ngbUebg6HCFWH6\\\\/5krrV+YCnOeRo8Vqz\\\\/HbXsMQaDDU=\",\"fax\":\"+498912057534\"}],\"organizationId\":\"999984059\",\"rcn\":\"1905912\",\"active\":true,\"sme\":false,\"regions\":\"Bayern|Oberbayern|M\\\\u00fcnchen, Kreisfreie Stadt\"},{\"name\":\"EUROPEAN BATTERIES OY\",\"address\":{\"street\":\"KARAPELLONTIE 11\",\"city\":\"ESPOO\",\"postalCode\":\"FI-02610\"},\"country\":{\"name\":\"Finland\",\"isoCode\":\"FI\",\"euCode\":\"FI\"},\"terminated\":true,\"order\":6,\"activityType\":\"Private for-profit entities (excluding Higher or Secondary Education Establishments)\",\"contribution\":78885,\"netEcContribution\":null,\"nonEcContribution\":null,\"formula\":\"participant: \",\"website\":\"www.europeanbatteries.com\",\"email\":\"u9DH+JG5vNkgbO3Djj9CbBrJVKUuS4HFxZYebiH8OPpWkJhNEw1pCSDkgJgltPoG\",\"type\":\"participant\",\"contacts\":[{\"position\":\"relatedContact\",\"title\":\"Mr.\",\"name\":\"Antti V\\\\u00e4yrynen\",\"phone\":\"+358504440826\",\"email\":\"u9DH+JG5vNkgbO3Djj9CbBrJVKUuS4HFxZYebiH8OPpWkJhNEw1pCSDkgJgltPoG\",\"fax\":\"\"}],\"organizationId\":\"971610492\",\"rcn\":\"2498571\",\"active\":true,\"sme\":false,\"regions\":\"\"},{\"name\":\"VALEO EQUIPEMENTS ELECTRIQUES MOTEUR SAS\",\"address\":{\"street\":\"RUE ANDRE BOULLE 2\",\"city\":\"CRETEIL\",\"postalCode\":\"94000\"},\"country\":{\"name\":\"France\",\"isoCode\":\"FR\",\"euCode\":\"FR\"},\"terminated\":false,\"order\":7,\"activityType\":\"Private for-profit entities (excluding Higher or Secondary Education Establishments)\",\"contribution\":330150,\"netEcContribution\":null,\"nonEcContribution\":null,\"formula\":\"participant: \",\"website\":\"\",\"email\":\"OWTTKZyFdE\\\\/t4eblgnQCPrEGDGAe9vu3OqeX13uU26g=\",\"type\":\"participant\",\"contacts\":[{\"position\":\"relatedContact\",\"title\":\"Mr.\",\"name\":\"Antoine de MONTS de SAVASSE\",\"phone\":\"+33148988666\",\"email\":\"OWTTKZyFdE\\\\/t4eblgnQCPrEGDGAe9vu3OqeX13uU26g=\",\"fax\":\"\"}],\"organizationId\":\"999732150\",\"rcn\":\"2032804\",\"active\":true,\"sme\":false,\"regions\":\"Ile-de-France|Ile-de-France|Val-de-Marne\"},{\"name\":\"IFP Energies nouvelles\",\"address\":{\"street\":\"AVENUE DE BOIS PREAU 1 \\\\u0026 4\",\"city\":\"RUEIL MALMAISON\",\"postalCode\":\"92500\"},\"country\":{\"name\":\"France\",\"isoCode\":\"FR\",\"euCode\":\"FR\"},\"terminated\":false,\"order\":8,\"activityType\":\"Research Organisations\",\"contribution\":648023,\"netEcContribution\":null,\"nonEcContribution\":null,\"formula\":\"participant: \",\"website\":\"http:\\\\/\\\\/www.ifpenergiesnouvelles.com\",\"email\":\"9djR2J3tE15lJhwi4ApoBBq0N+0GlUW47ddbH0JyhGM=\",\"type\":\"participant\",\"contacts\":[{\"position\":\"relatedContact\",\"title\":\"Ms.\",\"name\":\"Ga\\\\u00eble VALET\",\"phone\":\"+33 1 47 52 60 52\",\"email\":\"9djR2J3tE15lJhwi4ApoBBq0N+0GlUW47ddbH0JyhGM=\",\"fax\":\"+33 1 47 52 70 64\"}],\"organizationId\":\"999993371\",\"rcn\":\"1905901\",\"active\":true,\"sme\":false,\"regions\":\"Ile-de-France|Ile-de-France|Hauts-de-Seine \"},{\"name\":\"CENTRO RICERCHE FIAT SCPA\",\"address\":{\"street\":\"STRADA TORINO 50\",\"city\":\"ORBASSANO\",\"postalCode\":\"10043\"},\"country\":{\"name\":\"Italy\",\"isoCode\":\"IT\",\"euCode\":\"IT\"},\"terminated\":false,\"order\":9,\"activityType\":\"Research Organisations\",\"contribution\":377700,\"netEcContribution\":null,\"nonEcContribution\":null,\"formula\":\"participant: \",\"website\":\"http:\\\\/\\\\/www.crf.it\",\"email\":\"AsZ3ZTLneS2khdeaV7bO8hEoEFH5Wk\\\\/fozY+Wy6GOG4=\",\"type\":\"participant\",\"contacts\":[{\"position\":\"relatedContact\",\"title\":\"Dr.\",\"name\":\"Maria Onida\",\"phone\":\"+390119083525\",\"email\":\"AsZ3ZTLneS2khdeaV7bO8hEoEFH5Wk\\\\/fozY+Wy6GOG4=\",\"fax\":\"+39011 9083786\"}],\"organizationId\":\"999992886\",\"rcn\":\"1905908\",\"active\":true,\"sme\":false,\"regions\":\"Nord-Ovest|Piemonte|Torino\"},{\"name\":\"VOLVO TECHNOLOGY AB\",\"address\":{\"street\":\"GOTAVERKSGATAN 10\",\"city\":\"GOTEBORG\",\"postalCode\":\"405 08\"},\"country\":{\"name\":\"Sweden\",\"isoCode\":\"SE\",\"euCode\":\"SE\"},\"terminated\":false,\"order\":10,\"activityType\":\"Private for-profit entities (excluding Higher or Secondary Education Establishments)\",\"contribution\":379850,\"netEcContribution\":null,\"nonEcContribution\":null,\"formula\":\"participant: \",\"website\":\"http:\\\\/\\\\/www.volvo.com\",\"email\":\"4ftY9fi+QD3RYaVEh8G9xHWXiiIOgisfgkZ9bTnlGF4=\",\"type\":\"participant\",\"contacts\":[{\"position\":\"relatedContact\",\"title\":\"Dr.\",\"name\":\"Sophie Tintignac\",\"phone\":\"+46 31 322 86 12\",\"email\":\"4ftY9fi+QD3RYaVEh8G9xHWXiiIOgisfgkZ9bTnlGF4=\",\"fax\":\"\"}],\"organizationId\":\"999984544\",\"rcn\":\"1906718\",\"active\":true,\"sme\":false,\"regions\":\"S\\\\u00f6dra Sverige|V\\\\u00e4stsverige|V\\\\u00e4stra G\\\\u00f6talands l\\\\u00e4n\"}'\n",
            " '{\"name\":\"ARKEMA FRANCE SA\",\"address\":{\"street\":\"RUE ESTIENNE D ORVES\",\"city\":\"COLOMBES\",\"postalCode\":\"92700\"},\"country\":{\"name\":\"France\",\"isoCode\":\"FR\",\"euCode\":\"FR\"},\"terminated\":false,\"order\":2,\"activityType\":\"Private for-profit entities (excluding Higher or Secondary Education Establishments)\",\"contribution\":283750,\"netEcContribution\":283750,\"nonEcContribution\":0,\"formula\":\"participant: 283750 - 283750 - 0\",\"website\":\"http:\\\\/\\\\/www.arkema.com\",\"email\":\"\",\"type\":\"participant\",\"contacts\":[],\"organizationId\":\"998371046\",\"rcn\":\"1907303\",\"active\":true,\"sme\":false,\"regions\":\"Ile-de-France|Ile-de-France|Hauts-de-Seine \"},{\"name\":\"ROBERT BOSCH GMBH\",\"address\":{\"street\":\"ROBERT-BOSCH-PLATZ 1\",\"city\":\"GERLINGEN-SCHILLERHOEHE\",\"postalCode\":\"70839\"},\"country\":{\"name\":\"Germany\",\"isoCode\":\"DE\",\"euCode\":\"DE\"},\"terminated\":false,\"order\":3,\"activityType\":\"Private for-profit entities (excluding Higher or Secondary Education Establishments)\",\"contribution\":522580,\"netEcContribution\":522580,\"nonEcContribution\":0,\"formula\":\"participant: 522580 - 522580 - 0\",\"website\":\"http:\\\\/\\\\/www.bosch.com\",\"email\":\"\",\"type\":\"participant\",\"contacts\":[],\"organizationId\":\"999908787\",\"rcn\":\"1913203\",\"active\":true,\"sme\":false,\"regions\":\"Baden-W\\\\u00fcrttemberg|Stuttgart|Ludwigsburg\"},{\"name\":\"UNIVERSITY OF GLASGOW\",\"address\":{\"street\":\"UNIVERSITY AVENUE\",\"city\":\"GLASGOW\",\"postalCode\":\"G12 8QQ\"},\"country\":{\"name\":\"United Kingdom\",\"isoCode\":\"GB\",\"euCode\":\"UK\"},\"terminated\":false,\"order\":4,\"activityType\":\"Higher or Secondary Education Establishments\",\"contribution\":421143,\"netEcContribution\":421143,\"nonEcContribution\":0,\"formula\":\"participant: 421143 - 421143 - 0\",\"website\":\"http:\\\\/\\\\/www.gla.ac.uk\\\\/researchinstitutes\\\\/iii\\\\/staff\\\\/iainmcinnes\\\\/\",\"email\":\"\",\"type\":\"participant\",\"contacts\":[],\"organizationId\":\"999974165\",\"rcn\":\"1906499\",\"active\":true,\"sme\":false,\"regions\":\"West Central Scotland|Glasgow City\"},{\"name\":\"INSTITUT NATIONAL DE RECHERCHE EN INFORMATIQUE ET AUTOMATIQUE\",\"address\":{\"street\":\"DOMAINE DE VOLUCEAU ROCQUENCOURT\",\"city\":\"LE CHESNAY CEDEX\",\"postalCode\":\"78153\"},\"country\":{\"name\":\"France\",\"isoCode\":\"FR\",\"euCode\":\"FR\"},\"terminated\":false,\"order\":5,\"activityType\":\"Research Organisations\",\"contribution\":367389,\"netEcContribution\":355460.5,\"nonEcContribution\":0,\"formula\":\"participant: 367389 - 355460.5 - 11928.5\",\"website\":\"http:\\\\/\\\\/www.inria.fr\",\"email\":\"\",\"type\":\"participant\",\"contacts\":[],\"organizationId\":\"999547074\",\"rcn\":\"1906120\",\"active\":true,\"sme\":false,\"regions\":\"Ile-de-France|Ile-de-France|Yvelines \"},{\"name\":\"UNIVERSITE DE LILLE\",\"address\":{\"street\":\"42 RUE PAUL DUEZ\",\"city\":\"LILLE\",\"postalCode\":\"59000\"},\"country\":{\"name\":\"France\",\"isoCode\":\"FR\",\"euCode\":\"FR\"},\"terminated\":false,\"order\":5,\"activityType\":\"Higher or Secondary Education Establishments\",\"contribution\":0,\"netEcContribution\":11928.5,\"nonEcContribution\":0,\"formula\":\"thirdParty: 11928.5 - 11928.5\",\"website\":\"\",\"email\":\"\",\"type\":\"thirdParty\",\"contacts\":[],\"organizationId\":\"888146648\",\"rcn\":\"1973617\",\"active\":true,\"sme\":false,\"regions\":\"Hauts-de-France|Nord-Pas de Calais|Nord\"},{\"name\":\"ISD LYSEIS OLOKRIROMENON SYSTIMATONANONYMOS ETAIREIA\",\"address\":{\"street\":\"KIFISSIAS AVENUE 32 KTIPIO B ATRINA CENTER\",\"city\":\"MAROUSSI\",\"postalCode\":\"15125\"},\"country\":{\"name\":\"Greece\",\"isoCode\":\"EL\",\"euCode\":\"EL\"},\"terminated\":false,\"order\":6,\"activityType\":\"Private for-profit entities (excluding Higher or Secondary Education Establishments)\",\"contribution\":405000,\"netEcContribution\":405000,\"nonEcContribution\":0,\"formula\":\"participant: 405000 - 405000 - 0\",\"website\":\"www.isd.gr\",\"email\":\"\",\"type\":\"participant\",\"contacts\":[],\"organizationId\":\"997607656\",\"rcn\":\"1911666\",\"active\":true,\"sme\":true,\"regions\":\"\\\\u0392\\\\u03cc\\\\u03c1\\\\u03b5\\\\u03b9\\\\u03bf\\\\u03c2 \\\\u03a4\\\\u03bf\\\\u03bc\\\\u03ad\\\\u03b1\\\\u03c2 \\\\u0391\\\\u03b8\\\\u03b7\\\\u03bd\\\\u03ce\\\\u03bd|A\\\\u03c4\\\\u03c4\\\\u03b9\\\\u03ba\\\\u03ae|\\\\u0391\\\\u03c4\\\\u03c4\\\\u03b9\\\\u03ba\\\\u03ae \"},{\"name\":\"WALTER PAK SL\",\"address\":{\"street\":\"PG IGORREKO INDUSTRIALDEA PAB C4\",\"city\":\"IGORRE\",\"postalCode\":\"48140\"},\"country\":{\"name\":\"Spain\",\"isoCode\":\"ES\",\"euCode\":\"ES\"},\"terminated\":false,\"order\":7,\"activityType\":\"Private for-profit entities (excluding Higher or Secondary Education Establishments)\",\"contribution\":715625,\"netEcContribution\":645625,\"nonEcContribution\":0,\"formula\":\"participant: 715625 - 645625 - 70000\",\"website\":\"\",\"email\":\"\",\"type\":\"participant\",\"contacts\":[],\"organizationId\":\"941799870\",\"rcn\":\"2428348\",\"active\":true,\"sme\":true,\"regions\":\"Noreste|Pa\\\\u00eds Vasco|Bizkaia\"},{\"name\":\"SYMBIOSE\",\"address\":{\"street\":\"2 CHEMIN DES TEMPLIERS\",\"city\":\"ARVEYRES\",\"postalCode\":\"33500\"},\"country\":{\"name\":\"France\",\"isoCode\":\"FR\",\"euCode\":\"FR\"},\"terminated\":false,\"order\":7,\"activityType\":\"Private for-profit entities (excluding Higher or Secondary Education Establishments)\",\"contribution\":0,\"netEcContribution\":70000,\"nonEcContribution\":0,\"formula\":\"thirdParty: 70000 - 70000\",\"website\":\"\",\"email\":\"\",\"type\":\"thirdParty\",\"contacts\":[],\"organizationId\":\"926268133\",\"rcn\":\"1971416\",\"active\":true,\"sme\":true,\"regions\":\"Nouvelle-Aquitaine|Aquitaine|Gironde\"},{\"name\":\"FUNDACION GAIKER\",\"address\":{\"street\":\"PARQUE TECNOLOGICO DE VIZCAYA, EDIFICIO 202\",\"city\":\"ZAMUDIO\",\"postalCode\":\"48170\"},\"country\":{\"name\":\"Spain\",\"isoCode\":\"ES\",\"euCode\":\"ES\"},\"terminated\":false,\"order\":8,\"activityType\":\"Research Organisations\",\"contribution\":335215,\"netEcContribution\":335215,\"nonEcContribution\":0,\"formula\":\"participant: 335215 - 335215 - 0\",\"website\":\"http:\\\\/\\\\/www.gaiker.es\",\"email\":\"\",\"type\":\"participant\",\"contacts\":[],\"organizationId\":\"999615071\",\"rcn\":\"1911022\",\"active\":true,\"sme\":false,\"regions\":\"Noreste|Pa\\\\u00eds Vasco|Bizkaia\"}']\n",
            "133\n",
            "['Austria' 'Austria' 'Austria' 'Austria' 'Austria' 'Austria' 'Austria'\n",
            " 'Austria' 'Austria' 'Austria' 'Austria' 'Austria' 'Austria' 'Austria'\n",
            " 'Germany' 'Germany' 'Germany' 'Germany' 'Germany' 'Germany' 'Germany'\n",
            " 'Germany' 'Germany' 'Germany' 'Germany' 'Germany' 'Germany' 'Italy'\n",
            " 'Italy' 'France' 'Portugal' 'Portugal' 'Portugal' 'Portugal' 'Germany'\n",
            " 'Germany' 'Italy' 'Germany' 'France' 'France' 'Italy' 'Sweden' 'Germany'\n",
            " 'Germany' 'Germany' 'France' 'Germany' 'Germany' 'Austria' 'Germany'\n",
            " 'France' 'Germany' 'France' 'France' 'Germany' 'Germany' 'Italy' 'Italy'\n",
            " 'Italy' 'Italy' 'France' 'United States' 'Czechia' 'Czechia' 'Sweden'\n",
            " 'France' 'Germany' 'Germany' 'Germany' 'Germany' 'Germany' 'Spain'\n",
            " 'Spain' 'Germany' 'Germany' 'Germany' 'France' 'France' 'Belgium'\n",
            " 'Germany' 'Germany' 'Austria' 'France' 'Sweden' 'Sweden' 'Germany'\n",
            " 'Germany' 'Germany' 'Germany' 'Spain' 'Spain' 'Germany' 'Belgium'\n",
            " 'Austria' 'Germany' 'Italy' 'Italy' 'Italy' 'Italy' 'Italy' 'France'\n",
            " 'Austria' 'Germany' 'France' 'Germany' 'Belgium' 'Austria' 'Belgium'\n",
            " 'Germany' 'Germany' 'Belgium' 'Ireland' 'Austria' 'Germany' 'Germany'\n",
            " 'Spain' 'France' 'France' 'France' 'France' 'Austria' 'Belgium' 'Germany'\n",
            " 'Germany' 'Germany' 'Finland' 'France' 'France' 'Italy' 'Sweden' 'France'\n",
            " 'France' 'Germany' 'United Kingdom' 'France' 'France' 'Greece' 'Spain'\n",
            " 'France' 'Spain']\n",
            "14\n",
            "['FP7', 'H2020']\n",
            "2\n"
          ]
        }
      ]
    },
    {
      "cell_type": "code",
      "source": [
        "a=soup2.get_text()\n",
        "pic1=a.find(\"\\\"pic\\\":\")\n",
        "pic2=a.find(\"\\\",\\\"legalName\")\n",
        "print(pic1+7, pic2)\n",
        "pic0=a[pic1+7:pic2]\n",
        "print(pic0)\n",
        "a1=a[a.find(\"Keywords\"):]\n",
        "\n",
        "Keywords=[]\n",
        "for i in range(0,5):\n",
        "  #n=\n",
        "  a1=a1[a1.find(\"text\")+7:]\n",
        "  a3=a1.find('\\\"')\n",
        "  #a1=\n",
        "  Keywords = np.append(Keywords, a1[:a3])\n",
        "\n",
        "print(Keywords)"
      ],
      "metadata": {
        "id": "UxfO1vlpQBPD",
        "outputId": "8b537247-18e6-46af-e244-ddf7ee45b1c0",
        "colab": {
          "base_uri": "https://localhost:8080/"
        }
      },
      "execution_count": 62,
      "outputs": [
        {
          "output_type": "stream",
          "name": "stdout",
          "text": [
            "50 59\n",
            "999984059\n",
            "['Road transport' 'Automotive engineering'\n",
            " 'Electrical and electronic engineering: semiconductors, components, systems'\n",
            " 'Intelligent Transport Systems (ITS)' '5g']\n"
          ]
        }
      ]
    },
    {
      "cell_type": "code",
      "source": [
        "!pip install python-docx\n",
        "from docx.shared import Pt\n",
        "from docx.shared import RGBColor"
      ],
      "metadata": {
        "id": "RyV5Y1WZQEeN",
        "outputId": "c42f6560-2dd1-4085-ee74-ebbb4c37c596",
        "colab": {
          "base_uri": "https://localhost:8080/"
        }
      },
      "execution_count": 63,
      "outputs": [
        {
          "output_type": "stream",
          "name": "stdout",
          "text": [
            "Looking in indexes: https://pypi.org/simple, https://us-python.pkg.dev/colab-wheels/public/simple/\n",
            "Requirement already satisfied: python-docx in /usr/local/lib/python3.7/dist-packages (0.8.11)\n",
            "Requirement already satisfied: lxml>=2.3.2 in /usr/local/lib/python3.7/dist-packages (from python-docx) (4.2.6)\n"
          ]
        }
      ]
    },
    {
      "cell_type": "code",
      "source": [
        "d2=Partix2\n",
        "print(len(d2))\n",
        "print(d2)\n",
        "print(7 in d2.values())\n",
        "\n",
        "def getKeysByValue(dictOfElements, valueToFind):\n",
        "    listOfKeys = list()\n",
        "    listOfItems = dictOfElements.items()\n",
        "    for item  in listOfItems:\n",
        "        if item[1] == valueToFind:\n",
        "            listOfKeys.append(item[0])\n",
        "    return  listOfKeys\n",
        "#d = dict()\n",
        "listOfKeys = getKeysByValue(d2, 2)\n",
        "print(\"Keys with value equal to 7: \")\n",
        "#Iterate over the list of keys\n",
        "for key  in listOfKeys:\n",
        "        print(key)"
      ],
      "metadata": {
        "colab": {
          "base_uri": "https://localhost:8080/"
        },
        "id": "OnrNOjWLX3--",
        "outputId": "36e850ef-89f5-4ace-8710-2942fd11c562"
      },
      "execution_count": 64,
      "outputs": [
        {
          "output_type": "stream",
          "name": "stdout",
          "text": [
            "114\n",
            "{'ROBERT BOSCH GMBH': 7, 'FRAUNHOFER GESELLSCHAFT ZUR FORDERUNG DER ANGEWANDTEN FORSCHUNG EV': 4, 'AVL LIST GMBH': 3, 'INFINEON TECHNOLOGIES AUSTRIA  AG': 2, 'VIRTUAL VEHICLE RESEARCH GMBH': 2, 'MATERIALS CENTER LEOBEN FORSCHUNG GMBH': 2, 'INFINEON TECHNOLOGIES AG': 2, 'SEMIKRON ELEKTRONIK GMBH & CO. KG': 2, 'ION BEAM SERVICES': 2, 'COMMISSARIAT A L ENERGIE ATOMIQUE ET AUX ENERGIES ALTERNATIVES': 2, 'AIXTRON SE': 2, 'EV GROUP E. THALLNER GMBH': 2, 'CONSORZIO NAZIONALE INTERUNIVERSITARIO PER LA NANOELETTRONICA': 2, 'UNIVERSITA DEGLI STUDI DI MODENA E REGGIO EMILIA': 2, 'CENTRE NATIONAL DE LA RECHERCHE SCIENTIFIQUE CNRS': 2, 'UNIVERSITE DE LILLE': 2, 'ARKEMA FRANCE SA': 2, 'VRIJE UNIVERSITEIT BRUSSEL': 2, 'KAI KOMPETENZZENTRUM AUTOMOBIL - UND INDUSTRIEELEKTRONIK GMBH': 1, 'KNOW-CENTER GMBH RESEARCH CENTER FOR DATA-DRIVEN BUSINESS & BIG DATA ANALYTICS': 1, 'INFINEON TECHNOLOGIES IT-SERVICES GMBH': 1, 'AT & S AUSTRIA TECHNOLOGIE & SYSTEMTECHNIK AKTIENGESELLSCHAFT': 1, 'FRAUNHOFER AUSTRIA RESEARCH GMBH': 1, 'TECHNISCHE UNIVERSITAET WIEN': 1, 'PLANSEE SE': 1, 'UNIVERSITAET KLAGENFURT': 1, 'AIT AUSTRIAN INSTITUTE OF TECHNOLOGY GMBH': 1, 'FACHHOCHSCHULE BURGENLAND GMBH': 1, 'INFINEON TECHNOLOGIES DRESDEN GMBH& CO KG': 1, 'INSTITUT FUER AUTOMATION UND KOMMUNIKATION E.V. MAGDEBURG': 1, 'TECHNISCHE UNIVERSITAET DRESDEN': 1, 'SYSTEMA SYSTEMENTWICKLUNG DIPL INF.MANFRED AUSTEN GMBH': 1, 'PLASMETREX GMBH': 1, 'ZNT ZENTREN FUR NEUE TECHNOLOGIEN GMBH': 1, 'FABMATICS GMBH': 1, 'METRALABS GMBH NEUE TECHNOLOGIEN UND SYSTEME': 1, 'HOCHSCHULE MITTWEIDA (FH)': 1, 'ELMOS SEMICONDUCTOR SE': 1, 'UNIVERSITA DEGLI STUDI DI PAVIA': 1, 'L.P.E. SPA': 1, 'CRITICAL MANUFACTURING SA': 1, 'ATEP - AMKOR TECHNOLOGY PORTUGAL SA': 1, 'INSTITUTO DE TELECOMUNICACOES': 1, 'UNIVERSIDADE DE AVEIRO': 1, 'SCHILLER AUTOMATISIERUNGSTECHNIK GMBH': 1, 'POLITECNICO DI MILANO': 1, 'SOITEC SA': 1, 'STMICROELECTRONICS SRL': 1, 'STMICROELECTRONICS SILICON CARBIDE AB': 1, 'TECHNISCHE UNIVERSITAET CHEMNITZ': 1, 'VALEO SIEMENS E AUTOMOTIVE FRANCESAS': 1, 'CENTROTHERM INTERNATIONAL AG': 1, 'FORSCHUNGS- UND ENTWICKLUNGSZENTRUM FACHHOCHSCHULE KIEL GMBH': 1, 'NOVASIC SA': 1, 'DANFOSS SILICON POWER GMBH': 1, \"SAINT-GOBAIN CENTRE DE RECHERCHES ET D'ETUDES EUROPEEN\": 1, 'MERSEN FRANCE GENNEVILLIERS SAS': 1, 'HOCHSCHULE HAMM-LIPPSTADT': 1, 'TECHNISCHE UNIVERSITAT KAISERSLAUTERN': 1, 'HIGH PERFORMANCE ENGINEERING SOCIETA A RESPONSABILITA LIMITATA': 1, 'ALMA MATER STUDIORUM - UNIVERSITA DI BOLOGNA': 1, 'CENTRALE LILLE INSTITUT': 1, 'LASERTEC USA INC': 1, 'INSTITUT MIKROELEKTRONICKYCH APLIKACI SRO': 1, 'VYSOKE UCENI TECHNICKE V BRNE': 1, 'LINKOPINGS UNIVERSITET': 1, 'SOITEC LAB': 1, 'SURAGUS GMBH': 1, 'SAINT-GOBAIN INDUSTRIEKERAMIK RODENTAL GMBH': 1, 'NANO-JOIN GMBH': 1, 'TPLUS ENGINEERING GMBH': 1, 'ISLE STEUERUNGSTECHNIK UND LEISTUNGSELEKTRONIK GMBH': 1, 'UNIVERSIDAD DE SEVILLA': 1, 'PREMO S.A.U.': 1, 'FERDINAND-BRAUN-INSTITUT GGMBH LEIBNIZ- INSTITUT FUR HOCHSTFREQUENZTECNIK': 1, 'SOITEC BELGIUM NV': 1, 'FINEPOWER GMBH': 1, 'HEXAGEM AB': 1, 'LUNDS UNIVERSITET': 1, 'X-FAB Dresden GmbH & Co. KG': 1, 'X-FAB GLOBAL SERVICES GMBH': 1, 'X-FAB SEMICONDUCTOR FOUNDRIES GMBH': 1, 'X-FAB MEMS FOUNDRY GmbH': 1, 'SMART INDUCTION CONVERTER TECHNOLOGIES SL': 1, 'UNIVERSITAT DE VALENCIA': 1, 'NANOWIRED GMBH': 1, 'UNIVERSITEIT GENT': 1, 'SILTRONIC AG': 1, 'AUREL SPA': 1, 'UNIVERSITA DEGLI STUDI DI PADOVA': 1, 'RAW POWER SRL': 1, 'STMICROELECTRONICS (TOURS) SAS': 1, '3M DEUTSCHLAND GMBH': 1, 'UMICORE': 1, 'ZENTRUM FUR SONNENENERGIE- UND WASSERSTOFF-FORSCHUNG BADEN-WURTTEMBERG': 1, 'BAYERISCHE MOTOREN WERKE AKTIENGESELLSCHAFT': 1, 'JRC -JOINT RESEARCH CENTRE- EUROPEAN COMMISSION': 1, 'UNIVERSITY COLLEGE CORK -  NATIONAL UNIVERSITY OF IRELAND, CORK': 1, 'UNIVERSIDAD POLITECNICA DE MADRID': 1, 'MURATA INTEGRATED PASSIVE SOLUTIONS': 1, 'UNIVERSITE LYON 1 CLAUDE BERNARD': 1, 'INSTITUT NATIONAL DES SCIENCES APPLIQUEES DE LYON': 1, 'K & S GMBH PROJEKTMANAGEMENT': 1, 'EUROPEAN BATTERIES OY': 1, 'VALEO EQUIPEMENTS ELECTRIQUES MOTEUR SAS': 1, 'IFP Energies nouvelles': 1, 'CENTRO RICERCHE FIAT SCPA': 1, 'VOLVO TECHNOLOGY AB': 1, 'UNIVERSITY OF GLASGOW': 1, 'INSTITUT NATIONAL DE RECHERCHE EN INFORMATIQUE ET AUTOMATIQUE': 1, 'ISD LYSEIS OLOKRIROMENON SYSTIMATONANONYMOS ETAIREIA': 1, 'WALTER PAK SL': 1, 'SYMBIOSE': 1, 'FUNDACION GAIKER': 1}\n",
            "True\n",
            "Keys with value equal to 7: \n",
            "INFINEON TECHNOLOGIES AUSTRIA  AG\n",
            "VIRTUAL VEHICLE RESEARCH GMBH\n",
            "MATERIALS CENTER LEOBEN FORSCHUNG GMBH\n",
            "INFINEON TECHNOLOGIES AG\n",
            "SEMIKRON ELEKTRONIK GMBH & CO. KG\n",
            "ION BEAM SERVICES\n",
            "COMMISSARIAT A L ENERGIE ATOMIQUE ET AUX ENERGIES ALTERNATIVES\n",
            "AIXTRON SE\n",
            "EV GROUP E. THALLNER GMBH\n",
            "CONSORZIO NAZIONALE INTERUNIVERSITARIO PER LA NANOELETTRONICA\n",
            "UNIVERSITA DEGLI STUDI DI MODENA E REGGIO EMILIA\n",
            "CENTRE NATIONAL DE LA RECHERCHE SCIENTIFIQUE CNRS\n",
            "UNIVERSITE DE LILLE\n",
            "ARKEMA FRANCE SA\n",
            "VRIJE UNIVERSITEIT BRUSSEL\n"
          ]
        }
      ]
    },
    {
      "cell_type": "code",
      "source": [
        "from pptx import Presentation\n",
        "from pptx.chart.data import CategoryChartData\n",
        "from pptx.enum.chart import XL_CHART_TYPE\n",
        "from pptx.util import Inches\n",
        "\n",
        "# create presentation with 1 slide ------\n",
        "prs = Presentation()\n",
        "slide = prs.slides.add_slide(prs.slide_layouts[5])\n",
        "\n",
        "# define chart data ---------------------\n",
        "chart_data = CategoryChartData()\n",
        "chart_data2 = CategoryChartData()\n",
        "chart_data3 = CategoryChartData()\n",
        "'''\n",
        "#chart_data.set_size({'width': 624, 'height': 480})\n",
        "chart_data.add_series({\n",
        "        #'name':       'Total Vulnerabilities',\n",
        "        #'data_labels': {'value': 1},\n",
        "        'categories': ['2011', '2012', '2013'],\n",
        "        'add_series':     [\"Graph Data\", 2, 1, 6],\n",
        "    })\n",
        "'''\n",
        "chart111k=[]\n",
        "chart111v=[]\n",
        "chart111c=[]\n",
        "for key,value in dictt2.items():\n",
        "  chart111k = np.append(chart111k, str(key))\n",
        "  chart111v = np.append(chart111v, value)\n",
        "for i in range(0,len(chart111k)):\n",
        "  chart111c = np.append(chart111c, \"{'fill': {'color': '#618ECD'}},\")\n",
        "chartLen=len(chart111k)\n",
        "chart_data.categories = chart111k#['2011', '2012', '2013', '2014', '2015', '2016', '2017', '2018', '2019', '2020', '2021', '2022']\n",
        "chart_data.add_series('', chart111v)#(1,2,3,4,5,6,7,8,9,10,11,12))\n",
        "chart_data.points = chart111c\n",
        "'''[{'fill': {'color': '#618ECD'}},{'fill': {'color': '#618ECD'}},{'fill': {'color': '#618ECD'}},{'fill': {'color': '#618ECD'}},\n",
        "                     {'fill': {'color': '#618ECD'}},{'fill': {'color': '#618ECD'}},{'fill': {'color': '#618ECD'}},{'fill': {'color': '#618ECD'}},\n",
        "                     {'fill': {'color': '#618ECD'}},{'fill': {'color': '#618ECD'}},{'fill': {'color': '#618ECD'}},{'fill': {'color': '#618ECD'}},]'''\n",
        "chart_data.categories.LabelAngle = -90\n",
        "\n",
        "chart_data2.categories = ['i', 'i', 'i', 'i']\n",
        "chart_data2.add_series('', (1,2,3,4))\n",
        "chart_data2.points = [{'fill': {'color': '#618ECD'}},{'fill': {'color': '#618ECD'}},{'fill': {'color': '#618ECD'}},{'fill': {'color': '#618ECD'}},]\n",
        "chart_data2.categories.LabelAngle = -90\n",
        "\n",
        "dictt6=dict()\n",
        "for o in reversed(range(0,7)):\n",
        "  #counter=0\n",
        "  if o in d2.values():#-ACHTUNG wird erst unten defined\n",
        "    dictt6.update({o: len(getKeysByValue(d2, o))/(len(d2)-1)})#-das auch\n",
        "    #print(\"rr: \", len(getKeysByValue(d, o)))\n",
        "    #print(len(getKeysByValue(d, o))/(len(d)-1))\n",
        "    print(len(getKeysByValue(d2, o))/(len(d2)-1))\n",
        "\n",
        "print(\"wwww: \", dictt6)\n",
        "\n",
        "\n",
        "chart116k=[]\n",
        "chart116v=[]\n",
        "chart116c=[]\n",
        "for key,value in dictt6.items():\n",
        "  chart116k = np.append(chart116k, str(key))\n",
        "  chart116v = np.append(chart116v,round(value,2)*100)\n",
        "  print(round(value,2))\n",
        "for i in range(0,len(chart116k)):\n",
        "  chart116c = np.append(chart116c, \"{'fill': {'color': '#618ECD'}},\")\n",
        "\n",
        "print(chart116k,chart116v,chart116c)\n",
        "chartLen=len(chart116k)\n",
        "chart_data3.categories = chart116v#ACHTUNG\n",
        "chart_data3.add_series('', chart116v)\n",
        "chart_data3.points = chart116c\n",
        "chart_data3.categories.LabelAngle = -90\n",
        "\n",
        "\n",
        "#chart_data.plots[0].vary_by_categories = False\n",
        "\n",
        "#chart_data.categories.legend.font.size = 10\n",
        "# Configure the series of the chart from the dataframe data.\n",
        "#chart = chart_data.add_chart({'type': 'column'})\n",
        "'''\n",
        "chart.add_series({\n",
        "    'categories': ['Sheet1', 1, 0, 21, 0],\n",
        "    'values':     ['Sheet1', 1, 1, 21, 1],\n",
        "    'gap':        10,\n",
        "})\n",
        "'''\n",
        "'''\n",
        "# add chart to slide --------------------\n",
        "x, y, cx, cy = Inches(2), Inches(2), Inches(6), Inches(4.5)\n",
        "slide.shapes.add_chart(\n",
        "    XL_CHART_TYPE.COLUMN_CLUSTERED, x, y, cx, cy, chart_data\n",
        ")'''"
      ],
      "metadata": {
        "id": "iok0h4ioQMT9",
        "outputId": "8f008a5c-0dd2-4c8d-8d47-7aacf72a0782",
        "colab": {
          "base_uri": "https://localhost:8080/",
          "height": 281
        }
      },
      "execution_count": 65,
      "outputs": [
        {
          "output_type": "stream",
          "name": "stdout",
          "text": [
            "0.008849557522123894\n",
            "0.008849557522123894\n",
            "0.13274336283185842\n",
            "0.8495575221238938\n",
            "wwww:  {4: 0.008849557522123894, 3: 0.008849557522123894, 2: 0.13274336283185842, 1: 0.8495575221238938}\n",
            "0.01\n",
            "0.01\n",
            "0.13\n",
            "0.85\n",
            "['4' '3' '2' '1'] [ 1.  1. 13. 85.] [\"{'fill': {'color': '#618ECD'}},\" \"{'fill': {'color': '#618ECD'}},\"\n",
            " \"{'fill': {'color': '#618ECD'}},\" \"{'fill': {'color': '#618ECD'}},\"]\n"
          ]
        },
        {
          "output_type": "execute_result",
          "data": {
            "text/plain": [
              "'\\n# add chart to slide --------------------\\nx, y, cx, cy = Inches(2), Inches(2), Inches(6), Inches(4.5)\\nslide.shapes.add_chart(\\n    XL_CHART_TYPE.COLUMN_CLUSTERED, x, y, cx, cy, chart_data\\n)'"
            ],
            "application/vnd.google.colaboratory.intrinsic+json": {
              "type": "string"
            }
          },
          "metadata": {},
          "execution_count": 65
        }
      ]
    },
    {
      "cell_type": "markdown",
      "source": [
        "#NLPs\n",
        "\n",
        "Zusammenfassung:\n",
        "\n",
        "Überprüfung von einigen keyword extractions verfahren:\n",
        "https://www.analyticsvidhya.com/blog/2022/03/keyword-extraction-methods-from-documents-in-nlp/\n",
        "\n",
        "\n",
        "(vll spacy)\n",
        "wordcloud erstellen .generate und .generate_from_frequencies\n",
        "yake von Defence empfohlen / keybert\n",
        "Beautiful soup --> keywords extrahieren\n",
        "\n",
        "mit spacy texte zusammenfassen ( hat schlecht geklappt )"
      ],
      "metadata": {
        "id": "qBMtCHaFRJCe"
      }
    },
    {
      "cell_type": "code",
      "source": [
        "!pip3 install wordcloud\n",
        "!pip3 install matplotlib\n",
        "!pip install requests\n",
        "!pip install beautifulsoup4"
      ],
      "metadata": {
        "id": "XO9jmPj-RL_X",
        "outputId": "1a2ac8fc-2b8b-44b6-e7f8-7fa3ca4030bc",
        "colab": {
          "base_uri": "https://localhost:8080/"
        }
      },
      "execution_count": 30,
      "outputs": [
        {
          "output_type": "stream",
          "name": "stdout",
          "text": [
            "Looking in indexes: https://pypi.org/simple, https://us-python.pkg.dev/colab-wheels/public/simple/\n",
            "Requirement already satisfied: wordcloud in /usr/local/lib/python3.7/dist-packages (1.5.0)\n",
            "Requirement already satisfied: pillow in /usr/local/lib/python3.7/dist-packages (from wordcloud) (7.1.2)\n",
            "Requirement already satisfied: numpy>=1.6.1 in /usr/local/lib/python3.7/dist-packages (from wordcloud) (1.21.6)\n",
            "Looking in indexes: https://pypi.org/simple, https://us-python.pkg.dev/colab-wheels/public/simple/\n",
            "Requirement already satisfied: matplotlib in /usr/local/lib/python3.7/dist-packages (3.2.2)\n",
            "Requirement already satisfied: pyparsing!=2.0.4,!=2.1.2,!=2.1.6,>=2.0.1 in /usr/local/lib/python3.7/dist-packages (from matplotlib) (3.0.9)\n",
            "Requirement already satisfied: kiwisolver>=1.0.1 in /usr/local/lib/python3.7/dist-packages (from matplotlib) (1.4.3)\n",
            "Requirement already satisfied: cycler>=0.10 in /usr/local/lib/python3.7/dist-packages (from matplotlib) (0.11.0)\n",
            "Requirement already satisfied: python-dateutil>=2.1 in /usr/local/lib/python3.7/dist-packages (from matplotlib) (2.8.2)\n",
            "Requirement already satisfied: numpy>=1.11 in /usr/local/lib/python3.7/dist-packages (from matplotlib) (1.21.6)\n",
            "Requirement already satisfied: typing-extensions in /usr/local/lib/python3.7/dist-packages (from kiwisolver>=1.0.1->matplotlib) (4.1.1)\n",
            "Requirement already satisfied: six>=1.5 in /usr/local/lib/python3.7/dist-packages (from python-dateutil>=2.1->matplotlib) (1.15.0)\n",
            "Looking in indexes: https://pypi.org/simple, https://us-python.pkg.dev/colab-wheels/public/simple/\n",
            "Requirement already satisfied: requests in /usr/local/lib/python3.7/dist-packages (2.23.0)\n",
            "Requirement already satisfied: idna<3,>=2.5 in /usr/local/lib/python3.7/dist-packages (from requests) (2.10)\n",
            "Requirement already satisfied: chardet<4,>=3.0.2 in /usr/local/lib/python3.7/dist-packages (from requests) (3.0.4)\n",
            "Requirement already satisfied: urllib3!=1.25.0,!=1.25.1,<1.26,>=1.21.1 in /usr/local/lib/python3.7/dist-packages (from requests) (1.24.3)\n",
            "Requirement already satisfied: certifi>=2017.4.17 in /usr/local/lib/python3.7/dist-packages (from requests) (2022.6.15)\n",
            "Looking in indexes: https://pypi.org/simple, https://us-python.pkg.dev/colab-wheels/public/simple/\n",
            "Requirement already satisfied: beautifulsoup4 in /usr/local/lib/python3.7/dist-packages (4.6.3)\n"
          ]
        }
      ]
    },
    {
      "cell_type": "code",
      "source": [
        "import requests\n",
        "from bs4 import BeautifulSoup"
      ],
      "metadata": {
        "id": "hNZssllAR2lp"
      },
      "execution_count": 66,
      "outputs": []
    },
    {
      "cell_type": "code",
      "source": [
        "!pip3 install keybert\n",
        "from keybert import KeyBERT"
      ],
      "metadata": {
        "id": "JDgxuHhSSH0K",
        "outputId": "583792c3-8548-4336-df89-6f69f47ceb76",
        "colab": {
          "base_uri": "https://localhost:8080/"
        }
      },
      "execution_count": 32,
      "outputs": [
        {
          "output_type": "stream",
          "name": "stdout",
          "text": [
            "Looking in indexes: https://pypi.org/simple, https://us-python.pkg.dev/colab-wheels/public/simple/\n",
            "Collecting keybert\n",
            "  Downloading keybert-0.5.1.tar.gz (19 kB)\n",
            "Collecting sentence-transformers>=0.3.8\n",
            "  Downloading sentence-transformers-2.2.2.tar.gz (85 kB)\n",
            "\u001b[K     |████████████████████████████████| 85 kB 2.9 MB/s \n",
            "\u001b[?25hRequirement already satisfied: scikit-learn>=0.22.2 in /usr/local/lib/python3.7/dist-packages (from keybert) (1.0.2)\n",
            "Requirement already satisfied: numpy>=1.18.5 in /usr/local/lib/python3.7/dist-packages (from keybert) (1.21.6)\n",
            "Collecting rich>=10.4.0\n",
            "  Downloading rich-12.4.4-py3-none-any.whl (232 kB)\n",
            "\u001b[K     |████████████████████████████████| 232 kB 25.5 MB/s \n",
            "\u001b[?25hCollecting commonmark<0.10.0,>=0.9.0\n",
            "  Downloading commonmark-0.9.1-py2.py3-none-any.whl (51 kB)\n",
            "\u001b[K     |████████████████████████████████| 51 kB 6.0 MB/s \n",
            "\u001b[?25hRequirement already satisfied: pygments<3.0.0,>=2.6.0 in /usr/local/lib/python3.7/dist-packages (from rich>=10.4.0->keybert) (2.6.1)\n",
            "Requirement already satisfied: typing-extensions<5.0,>=4.0.0 in /usr/local/lib/python3.7/dist-packages (from rich>=10.4.0->keybert) (4.1.1)\n",
            "Requirement already satisfied: scipy>=1.1.0 in /usr/local/lib/python3.7/dist-packages (from scikit-learn>=0.22.2->keybert) (1.4.1)\n",
            "Requirement already satisfied: threadpoolctl>=2.0.0 in /usr/local/lib/python3.7/dist-packages (from scikit-learn>=0.22.2->keybert) (3.1.0)\n",
            "Requirement already satisfied: joblib>=0.11 in /usr/local/lib/python3.7/dist-packages (from scikit-learn>=0.22.2->keybert) (1.1.0)\n",
            "Collecting transformers<5.0.0,>=4.6.0\n",
            "  Downloading transformers-4.20.1-py3-none-any.whl (4.4 MB)\n",
            "\u001b[K     |████████████████████████████████| 4.4 MB 34.9 MB/s \n",
            "\u001b[?25hRequirement already satisfied: tqdm in /usr/local/lib/python3.7/dist-packages (from sentence-transformers>=0.3.8->keybert) (4.64.0)\n",
            "Requirement already satisfied: torch>=1.6.0 in /usr/local/lib/python3.7/dist-packages (from sentence-transformers>=0.3.8->keybert) (1.11.0+cu113)\n",
            "Requirement already satisfied: torchvision in /usr/local/lib/python3.7/dist-packages (from sentence-transformers>=0.3.8->keybert) (0.12.0+cu113)\n",
            "Requirement already satisfied: nltk in /usr/local/lib/python3.7/dist-packages (from sentence-transformers>=0.3.8->keybert) (3.7)\n",
            "Collecting sentencepiece\n",
            "  Downloading sentencepiece-0.1.96-cp37-cp37m-manylinux_2_17_x86_64.manylinux2014_x86_64.whl (1.2 MB)\n",
            "\u001b[K     |████████████████████████████████| 1.2 MB 33.6 MB/s \n",
            "\u001b[?25hCollecting huggingface-hub>=0.4.0\n",
            "  Downloading huggingface_hub-0.8.1-py3-none-any.whl (101 kB)\n",
            "\u001b[K     |████████████████████████████████| 101 kB 7.8 MB/s \n",
            "\u001b[?25hRequirement already satisfied: filelock in /usr/local/lib/python3.7/dist-packages (from huggingface-hub>=0.4.0->sentence-transformers>=0.3.8->keybert) (3.7.1)\n",
            "Requirement already satisfied: packaging>=20.9 in /usr/local/lib/python3.7/dist-packages (from huggingface-hub>=0.4.0->sentence-transformers>=0.3.8->keybert) (21.3)\n",
            "Collecting pyyaml>=5.1\n",
            "  Downloading PyYAML-6.0-cp37-cp37m-manylinux_2_5_x86_64.manylinux1_x86_64.manylinux_2_12_x86_64.manylinux2010_x86_64.whl (596 kB)\n",
            "\u001b[K     |████████████████████████████████| 596 kB 45.6 MB/s \n",
            "\u001b[?25hRequirement already satisfied: importlib-metadata in /usr/local/lib/python3.7/dist-packages (from huggingface-hub>=0.4.0->sentence-transformers>=0.3.8->keybert) (4.11.4)\n",
            "Requirement already satisfied: requests in /usr/local/lib/python3.7/dist-packages (from huggingface-hub>=0.4.0->sentence-transformers>=0.3.8->keybert) (2.23.0)\n",
            "Requirement already satisfied: pyparsing!=3.0.5,>=2.0.2 in /usr/local/lib/python3.7/dist-packages (from packaging>=20.9->huggingface-hub>=0.4.0->sentence-transformers>=0.3.8->keybert) (3.0.9)\n",
            "Collecting tokenizers!=0.11.3,<0.13,>=0.11.1\n",
            "  Downloading tokenizers-0.12.1-cp37-cp37m-manylinux_2_12_x86_64.manylinux2010_x86_64.whl (6.6 MB)\n",
            "\u001b[K     |████████████████████████████████| 6.6 MB 34.6 MB/s \n",
            "\u001b[?25hRequirement already satisfied: regex!=2019.12.17 in /usr/local/lib/python3.7/dist-packages (from transformers<5.0.0,>=4.6.0->sentence-transformers>=0.3.8->keybert) (2022.6.2)\n",
            "Requirement already satisfied: zipp>=0.5 in /usr/local/lib/python3.7/dist-packages (from importlib-metadata->huggingface-hub>=0.4.0->sentence-transformers>=0.3.8->keybert) (3.8.0)\n",
            "Requirement already satisfied: click in /usr/local/lib/python3.7/dist-packages (from nltk->sentence-transformers>=0.3.8->keybert) (7.1.2)\n",
            "Requirement already satisfied: idna<3,>=2.5 in /usr/local/lib/python3.7/dist-packages (from requests->huggingface-hub>=0.4.0->sentence-transformers>=0.3.8->keybert) (2.10)\n",
            "Requirement already satisfied: certifi>=2017.4.17 in /usr/local/lib/python3.7/dist-packages (from requests->huggingface-hub>=0.4.0->sentence-transformers>=0.3.8->keybert) (2022.6.15)\n",
            "Requirement already satisfied: urllib3!=1.25.0,!=1.25.1,<1.26,>=1.21.1 in /usr/local/lib/python3.7/dist-packages (from requests->huggingface-hub>=0.4.0->sentence-transformers>=0.3.8->keybert) (1.24.3)\n",
            "Requirement already satisfied: chardet<4,>=3.0.2 in /usr/local/lib/python3.7/dist-packages (from requests->huggingface-hub>=0.4.0->sentence-transformers>=0.3.8->keybert) (3.0.4)\n",
            "Requirement already satisfied: pillow!=8.3.*,>=5.3.0 in /usr/local/lib/python3.7/dist-packages (from torchvision->sentence-transformers>=0.3.8->keybert) (7.1.2)\n",
            "Building wheels for collected packages: keybert, sentence-transformers\n",
            "  Building wheel for keybert (setup.py) ... \u001b[?25l\u001b[?25hdone\n",
            "  Created wheel for keybert: filename=keybert-0.5.1-py3-none-any.whl size=21332 sha256=433011e7f1377b4facaefbd84e77a1ca3c4c6c735b05ca91b5ff7ed5c16dcf5f\n",
            "  Stored in directory: /root/.cache/pip/wheels/8e/95/c5/f5ceed2a9f9e80bc1a706a10a6fb03d726df7a3dd11800a58b\n",
            "  Building wheel for sentence-transformers (setup.py) ... \u001b[?25l\u001b[?25hdone\n",
            "  Created wheel for sentence-transformers: filename=sentence_transformers-2.2.2-py3-none-any.whl size=125938 sha256=f86741509a0f3bf91b9b73f617b9145a008197a957e0b017a0f661dd5ca117bd\n",
            "  Stored in directory: /root/.cache/pip/wheels/bf/06/fb/d59c1e5bd1dac7f6cf61ec0036cc3a10ab8fecaa6b2c3d3ee9\n",
            "Successfully built keybert sentence-transformers\n",
            "Installing collected packages: pyyaml, tokenizers, huggingface-hub, transformers, sentencepiece, commonmark, sentence-transformers, rich, keybert\n",
            "  Attempting uninstall: pyyaml\n",
            "    Found existing installation: PyYAML 3.13\n",
            "    Uninstalling PyYAML-3.13:\n",
            "      Successfully uninstalled PyYAML-3.13\n",
            "Successfully installed commonmark-0.9.1 huggingface-hub-0.8.1 keybert-0.5.1 pyyaml-6.0 rich-12.4.4 sentence-transformers-2.2.2 sentencepiece-0.1.96 tokenizers-0.12.1 transformers-4.20.1\n"
          ]
        }
      ]
    },
    {
      "cell_type": "code",
      "source": [
        "import requests\n",
        "import numpy as np\n",
        "r2 = requests.get(\"https://ec.europa.eu/info/funding-tenders/opportunities/api/orgProfile/data.json?pic=999908787&refreshIamUser=true\")#Firma\n",
        "soup2 = BeautifulSoup(r2.text, 'html.parser')"
      ],
      "metadata": {
        "id": "2Yf4qmUGSaDY"
      },
      "execution_count": 67,
      "outputs": []
    },
    {
      "cell_type": "code",
      "source": [
        "a=soup2.get_text()\n",
        "pic1=a.find(\"\\\"pic\\\":\")\n",
        "pic2=a.find(\"\\\",\\\"legalName\")\n",
        "print(pic1+7, pic2)\n",
        "pic0=a[pic1+7:pic2]\n",
        "print(pic0)\n",
        "a1=a[a.find(\"Keywords\"):]\n",
        "\n",
        "Keywords=[]\n",
        "onze=[]\n",
        "keyW = ''\n",
        "bool1=True\n",
        "while bool1 == True:\n",
        "  #n=\n",
        "  a1=a1[a1.find(\"text\")+7:]\n",
        "  a3=a1.find('\\\"')\n",
        "  keyW = keyW + a1[:a3]\n",
        "  Keywords = np.append(Keywords, a1[:a3])\n",
        "  onze = np.append(onze, 1)\n",
        "  if (a1.find(\"text\")==-1):\n",
        "    break\n",
        "  #a1=\n",
        "\n",
        "#print(Keywords)\n",
        "#onze = np.ones(len(Keywords))\n",
        "#dict(zip(Keywords[:], zip(*onze[:])))\n",
        "#print(onze)\n",
        "\n",
        "import itertools\n",
        "price = 1\n",
        "bids = Keywords\n",
        "#print(len(bids))\n",
        "bibDict = dict(zip(bids, onze))#itertools.repeat(float(price),len(bids))\n",
        "print(bibDict)\n",
        "print(keyW)"
      ],
      "metadata": {
        "id": "1lFOEZb0Sfdg",
        "outputId": "5eb005c2-5ec8-4ae4-ea9a-4aeda392b675",
        "colab": {
          "base_uri": "https://localhost:8080/"
        }
      },
      "execution_count": 68,
      "outputs": [
        {
          "output_type": "stream",
          "name": "stdout",
          "text": [
            "50 59\n",
            "999984059\n",
            "{'Road transport': 1.0, 'Automotive engineering': 1.0, 'Electrical and electronic engineering: semiconductors, components, systems': 1.0, 'Intelligent Transport Systems (ITS)': 1.0, '5g': 1.0, 'Active safety of vehicles': 1.0, 'Automation and control systems': 1.0, 'Networks (communication networks, sensor networks, networks of robots, etc.)': 1.0, 'Quantum optics and quantum information': 1.0, 'Transport engineering': 1.0, 'Wireless communications, communication, high frequency, mobile technology': 1.0, 'Artificial intelligence, intelligent systems, multi agent systems': 1.0, 'Automation': 1.0, 'Cyber-physical systems': 1.0, 'Embedded systems': 1.0, 'Powertrain': 1.0, 'Propulsion systems engineering': 1.0, 'Sensor networks, embedded systems, hardware platforms': 1.0, 'Urban transport': 1.0, 'automated driving': 1.0, 'graphene': 1.0, 'network': 1.0, 'Communication engineering and systems telecommunications': 1.0, 'Electrical engineering, Electronic engineering, Information engineering': 1.0, 'International cooperation': 1.0, 'Materials engineering': 1.0, 'Micro (system) engineering': 1.0, 'Network infrastructures': 1.0, 'Passive safety of vehicles': 1.0, 'Photonic integration, photonic integrated circuits': 1.0, 'Robotic perception': 1.0, 'Vehicle engineering': 1.0, 'Vulnerable users': 1.0, 'ai': 1.0, 'sensors': 1.0, 'Action planning': 1.0, 'Alternative fuels': 1.0, 'Artificial Intelligence & Decision support': 1.0, 'Automotive': 1.0, 'Communication networks, media, information society': 1.0, 'Decarbonisation': 1.0, 'Electrical and electronic engineering': 1.0, 'Electronic components': 1.0, 'Human robot interaction': 1.0, 'Information Security Technologies': 1.0, 'Laser-based manufacturing and materials processing': 1.0, 'Lasers and laser optics': 1.0, 'Machine learning, data mining, statistical data processing and applications': 1.0, 'Machine learning, statistical data processing and applications using signal processing (e.g. speech, image, video)': 1.0, 'Mobility and transportation': 1.0, 'Numerical analysis, simulation, optimisation, modelling tools': 1.0, 'Organic and large area electronics': 1.0, 'Production technology, process engineering': 1.0, 'Robot navigation': 1.0, 'Robot safety': 1.0, 'Robotic system development': 1.0, 'Robotics for transport and logistics': 1.0, 'Signal processing': 1.0, 'Simulation engineering and modelling': 1.0, 'Supply chain management': 1.0, 'System of systems': 1.0, 'Systems engineering, sensorics, actorics, automation': 1.0, 'Transport engineering, intelligent transport systems': 1.0, 'Truck': 1.0, 'Vehicle design and synthesis tools': 1.0, 'automotive': 1.0, 'autonomous driving': 1.0, 'ccam': 1.0, 'certification': 1.0, 'connectivity': 1.0, 'cyber-physical systems': 1.0, 'data privacy': 1.0, 'deep learning': 1.0, 'ecosystem': 1.0, 'edge computing': 1.0, 'edge processing': 1.0, 'electronics': 1.0, 'engine': 1.0, 'green mobility': 1.0, 'interoperability': 1.0, 'iot': 1.0, 'marketplace': 1.0, 'mems': 1.0, 'mobile edge computing': 1.0, 'model predictive control': 1.0, 'modelling': 1.0, 'open access': 1.0, 'packaging': 1.0, 'pilot line': 1.0, 'research gaps': 1.0, 'safety': 1.0, 'security': 1.0, 'tolae': 1.0, 'training': 1.0, 'trustworthy ai': 1.0, '\\\\nhypervisors': 1.0, '\\\\nphotovoltaic panels': 1.0, '\\\\nquantum limited amplification': 1.0, '\\\\ntiming analysis': 1.0, '2d materials': 1.0, '2zero': 1.0, '3 living labs': 1.0, '3d fabrication': 1.0, '3d sensing': 1.0, '5g and mmwave': 1.0, '5g demonstration': 1.0, '5g demonstrator': 1.0, '5g evolution': 1.0, '5g sidelink communication': 1.0, '5g v2x': 1.0, '6g': 1.0, 'Acoustics': 1.0, 'Aerospace engineering': 1.0, 'Algorithms, distributed, parallel and network algorithms, algorithmic game theory': 1.0, 'Alternative fuels and (transport) infrastructure': 1.0, 'Big data': 1.0, 'Biophotonics and medical applications': 1.0, 'Business model innovation': 1.0, 'Characterization methods of materials': 1.0, 'Clean vehicles': 1.0, 'Cloud Computing models': 1.0, 'Cloud Services': 1.0, 'Computational engineering and computer aided design': 1.0, 'Computer hardware and architecture': 1.0, 'Computing for servers, data centres': 1.0, 'Control Engineering': 1.0, 'Control engineering': 1.0, 'Cybersecurity': 1.0, 'Design-Manufacturing': 1.0, 'Digital factories': 1.0, 'Electrochemistry, batteries and fuel cells': 1.0, 'Electronics, photonics': 1.0, 'Energy Efficiency': 1.0, 'Energy collection, conversion and storage, renewable energy': 1.0, 'Energy storage': 1.0, 'Experimentally-driven research and innovation': 1.0, 'Flexible electronics and displays': 1.0, 'Fuel cell technology': 1.0, 'Global Satellite Navigation System (GNSS) / Services & Applications': 1.0, 'Human Factors in Transport': 1.0, 'III-V photonics': 1.0, 'IT Security': 1.0, 'Industrial Automation and Robotics, mechatronics': 1.0, 'Information Security': 1.0, 'Intelligent robotics, cybernetics': 1.0, 'Knowledge and Technology transfer': 1.0, 'Knowledge representation and reasoning': 1.0, 'Lasers, ultra-short lasers and laser physics': 1.0, 'Learning, development and adaptation': 1.0, 'Lighting, solid-state lighting, LEDs, OLEDs': 1.0, 'Linked open data': 1.0, 'Man Machine interface': 1.0, 'Manufacturing technologies for organic electronics': 1.0, 'Manufacturing technologies for photonic devices': 1.0, 'Mechanical and manufacturing engineering (shaping, mounting, joining, separation)': 1.0, 'Mechanical engineering': 1.0, 'Mechatronics': 1.0, 'Nano-technology': 1.0, 'Nanophysics: nanoelectronics, nanophotonics, nanomagnetism, nanoelectromechanics, etc.': 1.0, 'Nanotechnology, nano-materials, nano engineering': 1.0, 'Network technologies / Internetworking': 1.0, 'Neural networks, connectionist systems, fuzzy logic': 1.0, 'New industrial value chains': 1.0, 'Ontologies, neural networks, genetic programming, fuzzy logic': 1.0, 'Open Source Software': 1.0, 'Optical engineering, photonics, lasers': 1.0, 'Optical sensors': 1.0, 'Optoelectronics, semiconductor photonics and photonic integration': 1.0, 'Physical sciences': 1.0, 'Power supply': 1.0, 'Prototyping': 1.0, 'Quality control': 1.0, 'Radio Frequency / Microwave Communications': 1.0, 'Research management': 1.0, 'Robotic control': 1.0, 'Robotics': 1.0, 'Robotics for agriculture': 1.0, 'Robotics for commercial applications': 1.0, 'Robotics for consumer applications': 1.0, 'Scalability': 1.0, 'Semantic web technologies': 1.0, 'Sensor Technology and Components': 1.0, 'Service innovation': 1.0, 'Silicon photonics': 1.0, 'Smart manufacturing': 1.0, 'Software Design & Development': 1.0, 'Statistical physics (condensed matter)': 1.0, 'Superconductivity': 1.0, 'Systems engineering': 1.0, 'Technology development': 1.0, 'Transport & Mobility': 1.0, 'Transport planning and social aspects of transport': 1.0, 'Trustworthy ICT': 1.0, 'accessibility': 1.0, 'accurate localisation': 1.0, 'acoustics': 1.0, 'advanced materials and manufacturing': 1.0, 'advanced occupant protection principles': 1.0, 'aesthetic': 1.0, 'afm': 1.0, 'agile production systems': 1.0, 'ai data services': 1.0, 'alkali vapor cells': 1.0, 'alternative charging options': 1.0, 'aluminum nitride hemts': 1.0, 'am technologies development': 1.0, 'analysis': 1.0, 'anomaly detection': 1.0, 'anthropometry': 1.0, 'anti-fingerprint': 1.0, 'antibacterial properties': 1.0, 'application-specific integrated circuit (asic)': 1.0, 'artificial intelligence': 1.0, 'atomic clocks': 1.0, 'atomic gyroscopes': 1.0, 'atomic magnetometers': 1.0, 'auto-programming': 1.0, 'automated road transport': 1.0, 'automated vehicles': 1.0, 'automatic code generation': 1.0, 'automotive autonomous driving': 1.0, 'automotive parts': 1.0, 'autonomous': 1.0, 'autonomous cars': 1.0, 'autonomous emergency braking and steering': 1.0, 'autonomous perception': 1.0, 'autonomous reconfiguration': 1.0, 'autonomous systems': 1.0, 'autonomous underwater vehicles': 1.0, 'autonomy': 1.0, 'autonomy and cooperation': 1.0, 'b2b applications': 1.0, 'b5g': 1.0, 'basic research': 1.0, 'batteries': 1.0, 'battery': 1.0, 'behavior trees': 1.0, 'big data': 1.0, 'big data analysis and handling': 1.0, 'big data.': 1.0, 'biofuels': 1.0, 'biomechanics': 1.0, 'biomedical technologies': 1.0, 'biomethane': 1.0, 'biophotonics': 1.0, 'blockchain': 1.0, 'building': 1.0, 'capability-based adaptation': 1.0, 'cavity optomechanics': 1.0, 'ccam services (tmc) in mec': 1.0, 'cdn': 1.0, 'ceramic-based materials': 1.0, 'ceramics': 1.0, 'certification language': 1.0, 'charging stations for levs': 1.0, 'cheating devices.': 1.0, 'chip-package-board': 1.0, 'cities': 1.0, 'citizens': 1.0, 'classification': 1.0, 'cloud': 1.0, 'cloud & data security': 1.0, 'cloud certification scheme': 1.0, 'co2 reduction': 1.0, 'code synthesis': 1.0, 'collaborative maintenance': 1.0, 'collaborative manipulation': 1.0, 'collaborative robot perception': 1.0, 'colour centers': 1.0, 'communication': 1.0, 'communication bubble': 1.0, 'community building': 1.0, 'composite materials': 1.0, 'composites': 1.0, 'compositional design': 1.0, 'computational fracture mechanics': 1.0, 'computing continuum': 1.0, 'computing in-memory': 1.0, 'conformance testing of models': 1.0, 'connected and automated road transport': 1.0, 'connected and cooperative systems': 1.0, 'connected and cooperative vehicle mobility': 1.0, 'connected automated driving': 1.0, 'continuous auditing': 1.0, 'continuous certification': 1.0, 'coordination': 1.0, 'coordination and support actions': 1.0, 'crack propagation': 1.0, 'crop health analysis': 1.0, 'cross-border ccam': 1.0, 'cross-domain': 1.0, 'cryptography': 1.0, 'cyber-security': 1.0, 'cybersecurity act': 1.0, 'd2d': 1.0, 'data exchange': 1.0, 'data management': 1.0, 'data pipelines': 1.0, 'data protection': 1.0, 'data workflows': 1.0, 'decentralized analytics': 1.0, 'decentralized multi-robot control': 1.0, 'decisional autonomy': 1.0, 'deep neural networks': 1.0, 'degradation understanding and lifetime prediction': 1.0, 'demonstration': 1.0, 'demonstration vehicle': 1.0, 'demonstrations': 1.0, 'demonstrator': 1.0, 'demonstrators on use of ontologies': 1.0, 'dependable systems': 1.0, 'design': 1.0, 'design for reliability': 1.0, 'design technology': 1.0, 'device characterisation': 1.0, 'device-independent': 1.0, 'diamond': 1.0, 'digital factory': 1.0, 'digital industry': 1.0, 'digital marketplace ecosystem': 1.0, 'digital twins': 1.0, 'direct injection': 1.0, 'distributed intelligence': 1.0, 'distributed learning': 1.0, 'dlip': 1.0, 'dlw': 1.0, 'dsl': 1.0, 'dual fuel': 1.0, 'durability': 1.0, 'dynamic neuronal networks': 1.0, 'e-motor': 1.0, 'e2e slicing': 1.0, 'efficiency': 1.0, 'efficient low-power dc charging': 1.0, 'ehorizon': 1.0, 'electric vehicles': 1.0, 'electrified vehicles': 1.0, 'electronic components and systems': 1.0, 'elevated service temperature': 1.0, 'embedded computing architectures': 1.0, 'embedded optimization': 1.0, 'embedded systems': 1.0, 'emission reduction': 1.0, 'emission-measurement-system': 1.0, 'emissions': 1.0, 'emissions targets': 1.0, 'energy applications': 1.0, 'energy saving': 1.0, 'engineering of digitalisation solutions': 1.0, 'enhanced algorithms': 1.0, 'environment perception': 1.0, 'equipment and materials': 1.0, 'equity': 1.0, 'ertrac': 1.0, 'euro vi': 1.0, 'european technology platform': 1.0, 'ev drivetrain': 1.0, 'event-based camera': 1.0, 'exchange': 1.0, 'exhaust aftertreatment system': 1.0, 'existing and new markets': 1.0, 'explainable ai': 1.0, 'fail-safe manoeuvre planning algorithms': 1.0, 'fair data': 1.0, 'fatigue': 1.0, 'fdsoi': 1.0, 'ferroelectric memristor': 1.0, 'fiber beam delivery': 1.0, 'finite fracture\\\\nmechanics': 1.0, 'flagship initiative': 1.0, 'fluid dynamics': 1.0, 'fog': 1.0, 'formal verification': 1.0, 'formalized capabilities': 1.0, 'fuel cell': 1.0, 'functional materials': 1.0, 'functionalization': 1.0, 'future accident scenarios': 1.0, 'future generations': 1.0, 'gallium-nitride hemts': 1.0, 'gan': 1.0, 'gas': 1.0, 'gas injection': 1.0, 'gas sensors': 1.0, 'gf-noma': 1.0, 'global competitiveness': 1.0, 'gpf': 1.0, 'green transport': 1.0, 'guidance': 1.0, 'guidelines': 1.0, 'haptic communications': 1.0, 'haptic.': 1.0, 'harmonization': 1.0, 'hdv': 1.0, 'heavy duty': 1.0, 'heavy duty transport': 1.0, 'heavy duty vehicles': 1.0, 'helmet.': 1.0, 'heterogeneous robots\\\\n': 1.0, 'hierarchical surface patterns': 1.0, 'high throughput laser processing': 1.0, 'high-efficiency grating compressors': 1.0, 'high-power ultrashort pulsed laser': 1.0, 'highly accepted interaction': 1.0, 'highly dynamic ultra-dense d2d cell-free network': 1.0, 'home robotics': 1.0, 'human computer interaction': 1.0, 'human machine interface': 1.0, 'human monitoring': 1.0, 'human-centred design solutions': 1.0, 'human-robot collaborative manufacturing': 1.0, 'hybrid': 1.0, 'hybrid\\\\ntechnoogies': 1.0, 'hybrid communications': 1.0, 'hybrid drive lines': 1.0, 'hybrid electric vehicle\\\\nsystem optimisation\\\\nheavy duty\\\\ncost reduction\\\\nreal world\\\\nmodular architecture\\\\nhybridisation\\\\n\\\\n': 1.0, 'hybrid systems': 1.0, 'hydrogen': 1.0, 'iab': 1.0, 'ict infrastructure architectures': 1.0, 'imc ai low-power pcm': 1.0, 'impact': 1.0, 'improved intention recognition': 1.0, 'inclusiveness': 1.0, 'industrial communication': 1.0, 'industrial data': 1.0, 'industrial internet': 1.0, 'industrial internet of things': 1.0, 'industrial network': 1.0, 'industry 4.0': 1.0, 'industry-academia cooperation': 1.0, 'industry4.0': 1.0, 'infrastructure': 1.0, 'injury criteria': 1.0, 'innovation': 1.0, 'innovation opportunities': 1.0, 'integrated computational materials engineering': 1.0, 'integrated ict-tools': 1.0, 'integrated safety': 1.0, 'integration': 1.0, 'intelligent radio environments': 1.0, 'intelligent transport systems': 1.0, 'interference': 1.0, 'international co-operations': 1.0, 'international cooperation': 1.0, 'internet': 1.0, 'internet of things': 1.0, 'interoperability of data': 1.0, 'inuitive': 1.0, 'inverters': 1.0, 'its-g5 and 60ghz-wifi': 1.0, 'iva': 1.0, 'key enabling technologies': 1.0, 'knowledge sharing': 1.0, 'knowledgebase': 1.0, 'laas': 1.0, 'large-scale cross-border demonstrations': 1.0, 'large-scale pilots': 1.0, 'layered materials': 1.0, 'lean': 1.0, 'learning': 1.0, 'learning and perception': 1.0, 'lidar': 1.0, 'lightweight': 1.0, 'lipss': 1.0, 'lng': 1.0, 'lng vehicle fuel system': 1.0, 'location planning tool': 1.0, 'low energy computing': 1.0, 'low-power processing': 1.0, 'maas': 1.0, 'machine learning': 1.0, 'magnetic field': 1.0, 'maintenance service platform architecture': 1.0, 'manifold learning': 1.0, 'maritime and offshore operations': 1.0, 'market': 1.0, 'massive mimo': 1.0, 'material characterisation': 1.0, 'material development': 1.0, 'material interfaces': 1.0, 'materials for higher li-ion battery cell voltage': 1.0, 'materials modelling': 1.0, 'measurements': 1.0, 'mec computing': 1.0, 'mechatronic modules': 1.0, 'membrane electrode assembly': 1.0, 'metadata schema': 1.0, 'methodology': 1.0, 'micro optics': 1.0, 'microelectronics': 1.0, 'microwave sensors': 1.0, 'microwave to optical frequency conversion': 1.0, 'ml': 1.0, 'mmtc': 1.0, 'mnbs': 1.0, 'mobile robotics': 1.0, 'mobility analytics': 1.0, 'model learning': 1.0, 'model-driven engineering': 1.0, 'modulair hybrid components': 1.0, 'mram': 1.0, 'multi-agent deep reinforcement learning': 1.0, 'multi-criteria optimisation': 1.0, 'multi-robot systems': 1.0, 'multipath and multi-connectivity': 1.0, 'multiscale modelling': 1.0, 'nanoelectronics pilot line': 1.0, 'nanoparticle': 1.0, 'natural gas': 1.0, 'navigation': 1.0, 'near memory computing': 1.0, 'network slicing': 1.0, 'networking and cooparation': 1.0, 'neuromorphic engineering': 1.0, 'nitrogen vacancy': 1.0, 'nmr': 1.0, 'noise': 1.0, 'noise pollution': 1.0, 'non-public networks': 1.0, 'non-volatile memory': 1.0, 'novel business models': 1.0, 'novel decorative finishes': 1.0, 'novel light-based hmi': 1.0, 'nv centre': 1.0, 'nvh': 1.0, 'omnidirectional active human body models': 1.0, 'ontology': 1.0, 'open-source software': 1.0, 'optimisation': 1.0, 'optimised emission': 1.0, 'owc': 1.0, 'oxram': 1.0, 'parallel heterogeneous computing': 1.0, 'parallel programming models': 1.0, 'particulates': 1.0, 'pass-by noise': 1.0, 'perception modelling': 1.0, 'perception sensors': 1.0, 'phase field': 1.0, 'photonic integrated circuits': 1.0, 'photonics': 1.0, 'physics of failure': 1.0, 'pics': 1.0, 'pilot lines': 1.0, 'piloting': 1.0, 'planning': 1.0, 'plastic molding': 1.0, 'plug&produce': 1.0, 'positioning and tracking': 1.0, 'powder technology': 1.0, 'powders': 1.0, 'power electronics': 1.0, 'power semiconductors': 1.0, 'powertrain': 1.0, 'powertrain control': 1.0, 'prediction': 1.0, 'predictive driver acceptance': 1.0, 'predictive vru safety': 1.0, 'printed organic electronic': 1.0, 'privacy': 1.0, 'private 5g networks': 1.0, 'proactive maintenance': 1.0, 'process automation': 1.0, 'process design kit': 1.0, 'process mining': 1.0, 'processors': 1.0, 'procurement': 1.0, 'product-service systems': 1.0, 'protable-measurement': 1.0, 'protective equipment': 1.0, 'psychological interaction models': 1.0, 'public transport': 1.0, 'quality 4.0': 1.0, 'quality toolkit': 1.0, 'quantum random number generation': 1.0, 'quantum sensing': 1.0, 'quantum technologies': 1.0, 'quiet vehicles': 1.0, 'radar': 1.0, 'radio resource management': 1.0, 'real-time': 1.0, 'realistic test and assessment methods': 1.0, 'reasoning': 1.0, 'recommendations': 1.0, 'reinforcement learning': 1.0, 'reliability': 1.0, 'reliability requirements': 1.0, 'remote sensing': 1.0, 'remotely operated vehicles': 1.0, 'research priorities': 1.0, 'responsible data operations': 1.0, 'rf': 1.0, 'road transport research and innovations': 1.0, 'roadmap': 1.0, 'roadmaps': 1.0, 'robot applications': 1.0, 'robot operating system (ros) based': 1.0, 'robot task planning': 1.0, 'robustness validation': 1.0, 'ros': 1.0, 'rtos': 1.0, 'rtr': 1.0, 'rydberg atoms': 1.0, 'safety assessment.': 1.0, 'safety case': 1.0, 'safety engineering': 1.0, 'safety-critical systems': 1.0, 'scalable charging stations': 1.0, 'scanning tip': 1.0, 'scene understanding': 1.0, 'secondary precipitation': 1.0, 'secure by design': 1.0, 'secured components and systems': 1.0, 'semantic interoperability': 1.0, 'semiconductor components': 1.0, 'semiconductor process': 1.0, 'sensing at the quantum limit': 1.0, 'sensor network': 1.0, 'shared mobility': 1.0, 'short-ultrashort pulsed laser': 1.0, 'showcasing': 1.0, 'sic power semiconductor value chain inverter emobility smart grid industry automation': 1.0, 'simulation and modeling': 1.0, 'simulation tools': 1.0, 'simultaneous location and mapping': 1.0, 'single digital market': 1.0, 'slam': 1.0, 'smart contracts': 1.0, 'smart factory': 1.0, 'smart grid': 1.0, 'smart manufacturing': 1.0, 'smart mobility': 1.0, 'smart power technology': 1.0, 'smart production': 1.0, 'smart society': 1.0, 'smart supply chain management': 1.0, 'smart sustainable and integrated production': 1.0, 'smart system integration': 1.0, 'smart systems integration': 1.0, 'software architecture for robotics': 1.0, 'software architectures for robotics': 1.0, 'software integrity and data truthfulness': 1.0, 'solid mechanics': 1.0, 'spiking neural networks': 1.0, 'spin': 1.0, 'stakeholders': 1.0, 'stakeholders coordination': 1.0, 'stakeholders involvement': 1.0, 'standard designs': 1.0, 'standardised': 1.0, 'steel': 1.0, 'stochiometric': 1.0, 'strandardised data documentation': 1.0, 'strategic autonomy or technology sovereignty': 1.0, 'strategic research agenda': 1.0, 'strategy development': 1.0, 'strengthen': 1.0, 'structural dynamics': 1.0, 'structural failure': 1.0, 'structuring': 1.0, 'surface functionalization': 1.0, 'surface mount technology': 1.0, 'sustainability': 1.0, 'sustainable environment': 1.0, 'system': 1.0, 'task and motion planning': 1.0, 'teleoperated driving': 1.0, 'teleoperation': 1.0, 'test': 1.0, 'testability': 1.0, 'testing': 1.0, 'thermal': 1.0, 'thz': 1.0, 'thz sensors': 1.0, 'time-of-flight': 1.0, 'toolbox': 1.0, 'trademark': 1.0, 'traffic simulation': 1.0, 'tri-lateral cooperation': 1.0, 'trials': 1.0, 'tribology': 1.0, 'trl7': 1.0, 'trustability': 1.0, 'ullc': 1.0, 'ultra low power design': 1.0, 'ultra-reliable low latency communication': 1.0, 'ultrafast lasers': 1.0, 'urllc': 1.0, 'urllc\\\\n': 1.0, 'use-cases': 1.0, 'user centric design': 1.0, 'users and procurers needs': 1.0, 'v2x communications': 1.0, 'value chain': 1.0, 'value chain advanced li-ion cell': 1.0, 'vehicle demonstrators': 1.0, 'vehicle-to-anything communication': 1.0, 'vehicles': 1.0, 'verification of autonomous systems': 1.0, 'vertical gallium nitride': 1.0, 'verticals': 1.0, 'vibrations': 1.0, 'virtual assessment': 1.0, 'visibility': 1.0, 'visible': 1.0, 'visual servoing': 1.0, 'vru accident research': 1.0, 'vrus': 1.0, 'wafer-level': 1.0, 'washing machines': 1.0, 'wettablitity': 1.0, 'white goods': 1.0, 'wide band gap power transistors': 1.0, 'wireless': 1.0, 'wireless communications': 1.0, 'zdm': 1.0, 'zero emission': 1.0}\n",
            "Road transportAutomotive engineeringElectrical and electronic engineering: semiconductors, components, systemsIntelligent Transport Systems (ITS)5gActive safety of vehiclesAutomation and control systemsNetworks (communication networks, sensor networks, networks of robots, etc.)Quantum optics and quantum informationTransport engineeringWireless communications, communication, high frequency, mobile technologyArtificial intelligence, intelligent systems, multi agent systemsAutomationCyber-physical systemsEmbedded systemsPowertrainPropulsion systems engineeringSensor networks, embedded systems, hardware platformsUrban transportautomated drivinggraphenenetworkCommunication engineering and systems telecommunicationsElectrical engineering, Electronic engineering, Information engineeringInternational cooperationMaterials engineeringMicro (system) engineeringNetwork infrastructuresPassive safety of vehiclesPhotonic integration, photonic integrated circuitsRobotic perceptionVehicle engineeringVulnerable usersaisensorsAction planningAlternative fuelsArtificial Intelligence & Decision supportAutomotiveCommunication networks, media, information societyDecarbonisationElectrical and electronic engineeringElectronic componentsHuman robot interactionInformation Security TechnologiesLaser-based manufacturing and materials processingLasers and laser opticsMachine learning, data mining, statistical data processing and applicationsMachine learning, statistical data processing and applications using signal processing (e.g. speech, image, video)Mobility and transportationNumerical analysis, simulation, optimisation, modelling toolsOrganic and large area electronicsProduction technology, process engineeringRobot navigationRobot safetyRobotic system developmentRobotics for transport and logisticsSignal processingSimulation engineering and modellingSupply chain managementSystem of systemsSystems engineering, sensorics, actorics, automationTransport engineering, intelligent transport systemsTruckVehicle design and synthesis toolsautomotiveautonomous drivingccamcertificationconnectivitycyber-physical systemsdata privacydeep learningecosystemedge computingedge processingelectronicsenginegreen mobilityinteroperabilityiotmarketplacememsmobile edge computingmodel predictive controlmodellingopen accesspackagingpilot lineresearch gapssafetysecuritytolaetrainingtrustworthy ai\\nhypervisors\\nphotovoltaic panels\\nquantum limited amplification\\ntiming analysis2d materials2zero3 living labs3d fabrication3d sensing5g and mmwave5g demonstration5g demonstrator5g evolution5g sidelink communication5g v2x6gAcousticsAerospace engineeringAlgorithms, distributed, parallel and network algorithms, algorithmic game theoryAlternative fuels and (transport) infrastructureBig dataBiophotonics and medical applicationsBusiness model innovationCharacterization methods of materialsClean vehiclesCloud Computing modelsCloud ServicesComputational engineering and computer aided designComputer hardware and architectureComputing for servers, data centresControl EngineeringControl engineeringCybersecurityDesign-ManufacturingDigital factoriesElectrochemistry, batteries and fuel cellsElectronics, photonicsEnergy EfficiencyEnergy collection, conversion and storage, renewable energyEnergy storageExperimentally-driven research and innovationFlexible electronics and displaysFuel cell technologyGlobal Satellite Navigation System (GNSS) / Services & ApplicationsHuman Factors in TransportIII-V photonicsIT SecurityIndustrial Automation and Robotics, mechatronicsInformation SecurityIntelligent robotics, cyberneticsKnowledge and Technology transferKnowledge representation and reasoningLasers, ultra-short lasers and laser physicsLearning, development and adaptationLighting, solid-state lighting, LEDs, OLEDsLinked open dataMan Machine interfaceManufacturing technologies for organic electronicsManufacturing technologies for photonic devicesMechanical and manufacturing engineering (shaping, mounting, joining, separation)Mechanical engineeringMechatronicsNano-technologyNanophysics: nanoelectronics, nanophotonics, nanomagnetism, nanoelectromechanics, etc.Nanotechnology, nano-materials, nano engineeringNetwork technologies / InternetworkingNeural networks, connectionist systems, fuzzy logicNew industrial value chainsOntologies, neural networks, genetic programming, fuzzy logicOpen Source SoftwareOptical engineering, photonics, lasersOptical sensorsOptoelectronics, semiconductor photonics and photonic integrationPhysical sciencesPower supplyPrototypingQuality controlRadio Frequency / Microwave CommunicationsResearch managementRobotic controlRoboticsRobotics for agricultureRobotics for commercial applicationsRobotics for consumer applicationsScalabilitySemantic web technologiesSensor Technology and ComponentsService innovationSilicon photonicsSmart manufacturingSoftware Design & DevelopmentStatistical physics (condensed matter)SuperconductivitySystems engineeringTechnology developmentTransport & MobilityTransport planning and social aspects of transportTrustworthy ICTaccessibilityaccurate localisationacousticsadvanced materials and manufacturingadvanced occupant protection principlesaestheticafmagile production systemsai data servicesalkali vapor cellsalternative charging optionsaluminum nitride hemtsam technologies developmentanalysisanomaly detectionanthropometryanti-fingerprintantibacterial propertiesapplication-specific integrated circuit (asic)artificial intelligenceatomic clocksatomic gyroscopesatomic magnetometersauto-programmingautomated road transportautomated vehiclesautomatic code generationautomotive autonomous drivingautomotive partsautonomousautonomous carsautonomous emergency braking and steeringautonomous perceptionautonomous reconfigurationautonomous systemsautonomous underwater vehiclesautonomyautonomy and cooperationb2b applicationsb5gbasic researchbatteriesbatterybehavior treesbig databig data analysis and handlingbig data.biofuelsbiomechanicsbiomedical technologiesbiomethanebiophotonicsblockchainbuildingcapability-based adaptationcavity optomechanicsccam services (tmc) in meccdnceramic-based materialsceramicscertification languagecharging stations for levscheating devices.chip-package-boardcitiescitizensclassificationcloudcloud & data securitycloud certification schemeco2 reductioncode synthesiscollaborative maintenancecollaborative manipulationcollaborative robot perceptioncolour centerscommunicationcommunication bubblecommunity buildingcomposite materialscompositescompositional designcomputational fracture mechanicscomputing continuumcomputing in-memoryconformance testing of modelsconnected and automated road transportconnected and cooperative systemsconnected and cooperative vehicle mobilityconnected automated drivingcontinuous auditingcontinuous certificationcoordinationcoordination and support actionscrack propagationcrop health analysiscross-border ccamcross-domaincryptographycyber-securitycybersecurity actd2ddata exchangedata managementdata pipelinesdata protectiondata workflowsdecentralized analyticsdecentralized multi-robot controldecisional autonomydeep neural networksdegradation understanding and lifetime predictiondemonstrationdemonstration vehicledemonstrationsdemonstratordemonstrators on use of ontologiesdependable systemsdesigndesign for reliabilitydesign technologydevice characterisationdevice-independentdiamonddigital factorydigital industrydigital marketplace ecosystemdigital twinsdirect injectiondistributed intelligencedistributed learningdlipdlwdsldual fueldurabilitydynamic neuronal networkse-motore2e slicingefficiencyefficient low-power dc chargingehorizonelectric vehicleselectrified vehicleselectronic components and systemselevated service temperatureembedded computing architecturesembedded optimizationembedded systemsemission reductionemission-measurement-systememissionsemissions targetsenergy applicationsenergy savingengineering of digitalisation solutionsenhanced algorithmsenvironment perceptionequipment and materialsequityertraceuro vieuropean technology platformev drivetrainevent-based cameraexchangeexhaust aftertreatment systemexisting and new marketsexplainable aifail-safe manoeuvre planning algorithmsfair datafatiguefdsoiferroelectric memristorfiber beam deliveryfinite fracture\\nmechanicsflagship initiativefluid dynamicsfogformal verificationformalized capabilitiesfuel cellfunctional materialsfunctionalizationfuture accident scenariosfuture generationsgallium-nitride hemtsgangasgas injectiongas sensorsgf-nomaglobal competitivenessgpfgreen transportguidanceguidelineshaptic communicationshaptic.harmonizationhdvheavy dutyheavy duty transportheavy duty vehicleshelmet.heterogeneous robots\\nhierarchical surface patternshigh throughput laser processinghigh-efficiency grating compressorshigh-power ultrashort pulsed laserhighly accepted interactionhighly dynamic ultra-dense d2d cell-free networkhome roboticshuman computer interactionhuman machine interfacehuman monitoringhuman-centred design solutionshuman-robot collaborative manufacturinghybridhybrid\\ntechnoogieshybrid communicationshybrid drive lineshybrid electric vehicle\\nsystem optimisation\\nheavy duty\\ncost reduction\\nreal world\\nmodular architecture\\nhybridisation\\n\\nhybrid systemshydrogeniabict infrastructure architecturesimc ai low-power pcmimpactimproved intention recognitioninclusivenessindustrial communicationindustrial dataindustrial internetindustrial internet of thingsindustrial networkindustry 4.0industry-academia cooperationindustry4.0infrastructureinjury criteriainnovationinnovation opportunitiesintegrated computational materials engineeringintegrated ict-toolsintegrated safetyintegrationintelligent radio environmentsintelligent transport systemsinterferenceinternational co-operationsinternational cooperationinternetinternet of thingsinteroperability of datainuitiveinvertersits-g5 and 60ghz-wifiivakey enabling technologiesknowledge sharingknowledgebaselaaslarge-scale cross-border demonstrationslarge-scale pilotslayered materialsleanlearninglearning and perceptionlidarlightweightlipsslnglng vehicle fuel systemlocation planning toollow energy computinglow-power processingmaasmachine learningmagnetic fieldmaintenance service platform architecturemanifold learningmaritime and offshore operationsmarketmassive mimomaterial characterisationmaterial developmentmaterial interfacesmaterials for higher li-ion battery cell voltagematerials modellingmeasurementsmec computingmechatronic modulesmembrane electrode assemblymetadata schemamethodologymicro opticsmicroelectronicsmicrowave sensorsmicrowave to optical frequency conversionmlmmtcmnbsmobile roboticsmobility analyticsmodel learningmodel-driven engineeringmodulair hybrid componentsmrammulti-agent deep reinforcement learningmulti-criteria optimisationmulti-robot systemsmultipath and multi-connectivitymultiscale modellingnanoelectronics pilot linenanoparticlenatural gasnavigationnear memory computingnetwork slicingnetworking and cooparationneuromorphic engineeringnitrogen vacancynmrnoisenoise pollutionnon-public networksnon-volatile memorynovel business modelsnovel decorative finishesnovel light-based hminv centrenvhomnidirectional active human body modelsontologyopen-source softwareoptimisationoptimised emissionowcoxramparallel heterogeneous computingparallel programming modelsparticulatespass-by noiseperception modellingperception sensorsphase fieldphotonic integrated circuitsphotonicsphysics of failurepicspilot linespilotingplanningplastic moldingplug&producepositioning and trackingpowder technologypowderspower electronicspower semiconductorspowertrainpowertrain controlpredictionpredictive driver acceptancepredictive vru safetyprinted organic electronicprivacyprivate 5g networksproactive maintenanceprocess automationprocess design kitprocess miningprocessorsprocurementproduct-service systemsprotable-measurementprotective equipmentpsychological interaction modelspublic transportquality 4.0quality toolkitquantum random number generationquantum sensingquantum technologiesquiet vehiclesradarradio resource managementreal-timerealistic test and assessment methodsreasoningrecommendationsreinforcement learningreliabilityreliability requirementsremote sensingremotely operated vehiclesresearch prioritiesresponsible data operationsrfroad transport research and innovationsroadmaproadmapsrobot applicationsrobot operating system (ros) basedrobot task planningrobustness validationrosrtosrtrrydberg atomssafety assessment.safety casesafety engineeringsafety-critical systemsscalable charging stationsscanning tipscene understandingsecondary precipitationsecure by designsecured components and systemssemantic interoperabilitysemiconductor componentssemiconductor processsensing at the quantum limitsensor networkshared mobilityshort-ultrashort pulsed lasershowcasingsic power semiconductor value chain inverter emobility smart grid industry automationsimulation and modelingsimulation toolssimultaneous location and mappingsingle digital marketslamsmart contractssmart factorysmart gridsmart manufacturingsmart mobilitysmart power technologysmart productionsmart societysmart supply chain managementsmart sustainable and integrated productionsmart system integrationsmart systems integrationsoftware architecture for roboticssoftware architectures for roboticssoftware integrity and data truthfulnesssolid mechanicsspiking neural networksspinstakeholdersstakeholders coordinationstakeholders involvementstandard designsstandardisedsteelstochiometricstrandardised data documentationstrategic autonomy or technology sovereigntystrategic research agendastrategy developmentstrengthenstructural dynamicsstructural failurestructuringsurface functionalizationsurface mount technologysustainabilitysustainable environmentsystemtask and motion planningteleoperated drivingteleoperationtesttestabilitytestingthermalthzthz sensorstime-of-flighttoolboxtrademarktraffic simulationtri-lateral cooperationtrialstribologytrl7trustabilityullcultra low power designultra-reliable low latency communicationultrafast lasersurllcurllc\\nuse-casesuser centric designusers and procurers needsv2x communicationsvalue chainvalue chain advanced li-ion cellvehicle demonstratorsvehicle-to-anything communicationvehiclesverification of autonomous systemsvertical gallium nitrideverticalsvibrationsvirtual assessmentvisibilityvisiblevisual servoingvru accident researchvruswafer-levelwashing machineswettablititywhite goodswide band gap power transistorswirelesswireless communicationszdmzero emission\n"
          ]
        }
      ]
    },
    {
      "cell_type": "code",
      "source": [
        "import collections\n",
        "import numpy as np\n",
        "import pandas as pd\n",
        "import matplotlib.cm as cm\n",
        "import matplotlib.pyplot as plt\n",
        "from matplotlib import rcParams\n",
        "from wordcloud import WordCloud, STOPWORDS\n",
        "Operations ='''The majority of Bosch Group businesses are grouped into the following four business sectors.[19]\n",
        "\n",
        "Mobility solutions'''\n",
        "all_headlines = Operations\n",
        "#all_headlines = \"\"\"\n",
        "#When it comes to evaluating the performance of keyword extractors, you can use some of the standard metrics in machine learning: accuracy, precision, recall, and F1 score. However, these metrics don’t reflect partial matches; they only consider the perfect match between an extracted segment and the correct prediction for that tag.\n",
        "#Fortunately, there are some other metrics capable of capturing partial matches. An example of this is ROUGE.\n",
        "#\"\"\"\n",
        "stopwords = STOPWORDS\n",
        "stopwords = [\"Bosch\", \"Robert\", \"offer\", \"include\", \"sector\", \"Home\", \"product\", \"year\", \"total\", \"January\", \"Grow\", \"high\", \"point\", \"products\", \"service\", \"systems\", \"percent\", \"offers\", \"tool\", \"areas\", \"building\", \"start\", \"new\", \"well\", \"includes\", \"within\"] + list(STOPWORDS)\n",
        "wordcloud = WordCloud(colormap = 'Dark2_r', min_font_size=9, max_font_size=9, width=400, height=400, collocations = False, stopwords=stopwords, background_color=\"white\", max_words=25).generate_from_frequencies(bibDict)#generate(keyW)#generate_from_frequencies(word_cloud_lst)#.generate(all_headlines)\n",
        "#rcParams['figure.figsize'] = [10.0, 10.0]\n",
        "plt.figure(figsize=(15, 15))\n",
        "plt.imshow(wordcloud)\n",
        "plt.axis(\"off\")\n",
        "plt.savefig('wordC')\n",
        "#plt.show()"
      ],
      "metadata": {
        "id": "07nP0AJISk0Y",
        "outputId": "e32b9fbe-d5d1-403e-f3cd-05ec029aa5d9",
        "colab": {
          "base_uri": "https://localhost:8080/",
          "height": 645
        }
      },
      "execution_count": 69,
      "outputs": [
        {
          "output_type": "display_data",
          "data": {
            "text/plain": [
              "<Figure size 1080x1080 with 1 Axes>"
            ],
            "image/png": "[encoded data removed]"
          },
          "metadata": {
            "needs_background": "light"
          }
        }
      ]
    },
    {
      "cell_type": "code",
      "source": [
        "d=Partix\n",
        "print(len(d))\n",
        "print(d)\n",
        "print(7 in d.values())"
      ],
      "metadata": {
        "id": "geFsXFWnzYeB",
        "outputId": "2224b195-ddf3-43fb-f6f0-5339fb7f4699",
        "colab": {
          "base_uri": "https://localhost:8080/"
        }
      },
      "execution_count": 70,
      "outputs": [
        {
          "output_type": "stream",
          "name": "stdout",
          "text": [
            "18\n",
            "{'ROBERT BOSCH GMBH': 7, 'FRAUNHOFER GESELLSCHAFT ZUR FORDERUNG DER ANGEWANDTEN FORSCHUNG EV': 4, 'AVL LIST GMBH': 3, 'INFINEON TECHNOLOGIES AUSTRIA  AG': 2, 'VIRTUAL VEHICLE RESEARCH GMBH': 2, 'MATERIALS CENTER LEOBEN FORSCHUNG GMBH': 2, 'INFINEON TECHNOLOGIES AG': 2, 'SEMIKRON ELEKTRONIK GMBH & CO. KG': 2, 'ION BEAM SERVICES': 2, 'COMMISSARIAT A L ENERGIE ATOMIQUE ET AUX ENERGIES ALTERNATIVES': 2, 'AIXTRON SE': 2, 'EV GROUP E. THALLNER GMBH': 2, 'CONSORZIO NAZIONALE INTERUNIVERSITARIO PER LA NANOELETTRONICA': 2, 'UNIVERSITA DEGLI STUDI DI MODENA E REGGIO EMILIA': 2, 'CENTRE NATIONAL DE LA RECHERCHE SCIENTIFIQUE CNRS': 2, 'UNIVERSITE DE LILLE': 2, 'ARKEMA FRANCE SA': 2, 'VRIJE UNIVERSITEIT BRUSSEL': 2}\n",
            "True\n"
          ]
        }
      ]
    },
    {
      "cell_type": "code",
      "source": [
        "def getKeysByValue(dictOfElements, valueToFind):\n",
        "    listOfKeys = list()\n",
        "    listOfItems = dictOfElements.items()\n",
        "    for item  in listOfItems:\n",
        "        if item[1] == valueToFind:\n",
        "            listOfKeys.append(item[0])\n",
        "    return  listOfKeys\n",
        "#d = dict()\n",
        "listOfKeys = getKeysByValue(d, 2)\n",
        "print(\"Keys with value equal to 7: \")\n",
        "#Iterate over the list of keys\n",
        "for key  in listOfKeys:\n",
        "        print(key)"
      ],
      "metadata": {
        "id": "c6UlKgdTzaP_",
        "outputId": "c6ed0378-8e3d-4b2b-ae30-f15b61c1e1f3",
        "colab": {
          "base_uri": "https://localhost:8080/"
        }
      },
      "execution_count": 71,
      "outputs": [
        {
          "output_type": "stream",
          "name": "stdout",
          "text": [
            "Keys with value equal to 7: \n",
            "INFINEON TECHNOLOGIES AUSTRIA  AG\n",
            "VIRTUAL VEHICLE RESEARCH GMBH\n",
            "MATERIALS CENTER LEOBEN FORSCHUNG GMBH\n",
            "INFINEON TECHNOLOGIES AG\n",
            "SEMIKRON ELEKTRONIK GMBH & CO. KG\n",
            "ION BEAM SERVICES\n",
            "COMMISSARIAT A L ENERGIE ATOMIQUE ET AUX ENERGIES ALTERNATIVES\n",
            "AIXTRON SE\n",
            "EV GROUP E. THALLNER GMBH\n",
            "CONSORZIO NAZIONALE INTERUNIVERSITARIO PER LA NANOELETTRONICA\n",
            "UNIVERSITA DEGLI STUDI DI MODENA E REGGIO EMILIA\n",
            "CENTRE NATIONAL DE LA RECHERCHE SCIENTIFIQUE CNRS\n",
            "UNIVERSITE DE LILLE\n",
            "ARKEMA FRANCE SA\n",
            "VRIJE UNIVERSITEIT BRUSSEL\n"
          ]
        }
      ]
    },
    {
      "cell_type": "code",
      "source": [
        "print(RB_ID)"
      ],
      "metadata": {
        "id": "ajQks-XOAXCh",
        "outputId": "28e665cf-830e-4867-c3e7-f40c91cdd8d0",
        "colab": {
          "base_uri": "https://localhost:8080/"
        }
      },
      "execution_count": 72,
      "outputs": [
        {
          "output_type": "stream",
          "name": "stdout",
          "text": [
            "[692466, 101007237, 101007229, 653531, 318529, 285224, 645145]\n"
          ]
        }
      ]
    },
    {
      "cell_type": "code",
      "source": [
        "print(dataS4[6])"
      ],
      "metadata": {
        "id": "NxD_L4oSbNpD",
        "outputId": "eefdc3cd-8be7-4963-806b-a6442d2cdaa1",
        "colab": {
          "base_uri": "https://localhost:8080/"
        }
      },
      "execution_count": 83,
      "outputs": [
        {
          "output_type": "stream",
          "name": "stdout",
          "text": [
            "Haptic Printed and Patterned Interfaces for Sensitive Surface\n"
          ]
        }
      ]
    },
    {
      "cell_type": "code",
      "source": [
        "from posixpath import join\n",
        "import pptx.util\n",
        "from PIL import Image\n",
        "\n",
        "#mind. eines von folgenden Modulen wird benötigt\n",
        "from pptx import Presentation\n",
        "from pptx.chart.data import ChartData\n",
        "from pptx.enum.chart import XL_CHART_TYPE, XL_LABEL_POSITION\n",
        "from pptx.enum.shapes import MSO_SHAPE_TYPE\n",
        "from pptx.util import Cm\n",
        "from pptx.dml.color import RGBColor\n",
        "\n",
        "REPLACEMENT_IMG=\"Herunterladen.jpg\"\n",
        "\n",
        "prs  = Presentation('/content/Vorlage.pptx')\n",
        "counter = 0\n",
        "'''\n",
        "x=shape.left\n",
        "y=shape.top\n",
        "width=shape.width\n",
        "height=shape.height\n",
        "'''\n",
        "Liste=np.empty((0,4),int)\n",
        "\n",
        "slide = prs.slides[2]\n",
        "pic = slide.shapes.add_picture(\"/content/kat.png\", 2000000, 1000000, 8000000, 4000000)\n",
        "\n",
        "for shape in prs.slides[3].shapes:\n",
        "  if not shape.has_text_frame:\n",
        "    slide = prs.slides[3]\n",
        "    t=[[shape.left,shape.top,shape.width,shape.height]]\n",
        "    Liste = np.append(Liste,t,axis=0)\n",
        "    pic = shape._element\n",
        "    pic.getparent().remove(pic)\n",
        "    print(type(shape))\n",
        "    #if counter==2:\n",
        "    #  shape.add_chart().chart#replace_data()\n",
        "\n",
        "    #print(shape.text)\n",
        "    counter+=1\n",
        "    continue\n",
        "\n",
        "  #print(type(shape))\n",
        "  #print(shape.text)\n",
        "\n",
        "\n",
        "  if \"Vaillant GmbH\" in shape.text:\n",
        "    shape.text_frame.paragraphs[0].runs[0].text = b0\n",
        "\n",
        "  if \"Unternehmenseckzahlen\" in shape.text:\n",
        "    print(len(shape.text_frame.paragraphs))\n",
        "    shape.text_frame.paragraphs[0].runs[0].text = shape.text_frame.paragraphs[0].runs[0].text.replace(\"2020\", e1)\n",
        "    shape.text_frame.paragraphs[1].runs[0].text = shape.text_frame.paragraphs[1].runs[0].text.replace(\"Remscheid\", c)\n",
        "    shape.text_frame.paragraphs[2].runs[0].text = shape.text_frame.paragraphs[2].runs[0].text.replace(\"2,7\", d2a)\n",
        "    shape.text_frame.paragraphs[3].runs[0].text = shape.text_frame.paragraphs[3].runs[0].text.replace(\"15.000\", d1a)\n",
        "    #shape.text_frame.paragraphs[4].runs[0].text = shape.text_frame.paragraphs[4].runs[0].text\n",
        "    for i in range(6,len(shape.text_frame.paragraphs)):\n",
        "      for j in range(0,len(shape.text_frame.paragraphs[i].runs)):\n",
        "        #print(\"i: \", i, \" j: \", j)\n",
        "        #print(shape.text_frame.paragraphs[i].runs[j].text)\n",
        "        shape.text_frame.paragraphs[i].runs[j].text = \"\"\n",
        "\n",
        "\n",
        "  if \"7 EU Projekte\" in shape.text:\n",
        "    text001=\"7 von 158\" + \" EU Projekte im Zeitraum von \" + str(Nulla) + \" - \" + str(Nullb) + \" mit einem \"\n",
        "    text002=\"EU-Zuschuss\"\n",
        "    text003=\" von insgesamt \"\n",
        "    text004=str(ggg) + \" Mio € (\"\n",
        "    text005=str(list(set(datacb))) + \"); Letztes Projekt \" + str(gg) + \"; Keine Projektkoordination; \" + str(cou) \\\n",
        "    + \" verschiedene Konsortialpartner in \" + str(len(set(dataca))) + \" Ländern.\"\n",
        "\n",
        "\n",
        "    shape.text = \"foobar\"\n",
        "    text_frame = shape.text_frame\n",
        "    text_frame.clear()\n",
        "    p = text_frame.paragraphs[0]\n",
        "\n",
        "    p.add_run().text = text001\n",
        "    p.runs[0].font.bold = False\n",
        "    p.add_run().text = text002\n",
        "    p.runs[1].font.bold = True\n",
        "    p.add_run().text = text003\n",
        "    p.runs[2].font.bold = False\n",
        "    p.add_run().text = text004\n",
        "    p.runs[3].font.bold = True\n",
        "    p.add_run().text = text005\n",
        "    p.runs[4].font.bold = False\n",
        "\n",
        "    print(\"jj: \", shape.text)\n",
        "\n",
        "    #print(shape.text_frame.paragraphs[0].runs[0].text)\n",
        "    #print(len(shape.text_frame.paragraphs[0].runs), \"LLLL\")\n",
        "    '''\n",
        "    shape.text = shape.text.replace(\"7 EU Projekte\", \"7 von 158 EU Projekte\")\n",
        "    shape.text = shape.text.replace(\"Zeitraum von 1.4.2012 - 30.9.2023\", \"Zeitraum von \" + str(Nulla) + str(Nullb))\n",
        "    shape.text = shape.text.replace(\"insgesamt 3,5\", \"insgesamt \" + str(ggg))\n",
        "    shape.text = shape.text.replace(\"(FP7 und H2020)\", \"(\"+str(list(set(datacb)))+\")\")\n",
        "    shape.text = shape.text.replace(\"Letztes Projekt 2019\", \"Letztes Projekt \" + str(gg))\n",
        "    shape.text = shape.text.replace(\"154 v\", str(cou) + \" v\")\n",
        "    shape.text = shape.text.replace(\"16 L\", str(len(set(dataca))) + \" L\")\n",
        "    '''\n",
        "    for paragraph in shape.text_frame.paragraphs:\n",
        "      paragraph.font.name = 'Thaoma'\n",
        "      paragraph.font.size = Pt(14)\n",
        "      paragraph.font.bold = True\n",
        "\n",
        "  if \"Ersten 5 EU-Kennwörter: \" in shape.text:\n",
        "\n",
        "    #for i in range(0,5):\n",
        "      #KeyString=\"K\"+str(i+1)\n",
        "      #print(\"33333: \", shape.text_frame.paragraphs[2].runs[3].text)\n",
        "      #print(KeyString)\n",
        "      #print(shape.text_frame.paragraphs[2].runs[4+i*2].text.replace(KeyString, Keywords[i]))\n",
        "      shape.text_frame.paragraphs[2].runs[3].text = \"1) \"+Keywords[0]+\" 2) \"+Keywords[1]+\" 3) \"+Keywords[2]+\" 4) \"+Keywords[3]+\" 5) \"+Keywords[4]\n",
        "      #print(Keywords[i])\n",
        "      #print(shape.text_frame.paragraphs[2].runs[4+i*2].text)\n",
        "    \n",
        "  if \"Unternehmenskennzahl):  \" in shape.text:\n",
        "    shape.text = shape.text.replace(str(986263312), pic0)\n",
        "    for paragraph in shape.text_frame.paragraphs:\n",
        "      paragraph.font.name = 'Thaoma'\n",
        "      paragraph.font.size = Pt(12)\n",
        "      paragraph.font.bold = False\n",
        "\n",
        "    '''\n",
        "    for i in range(0,len(shape.text_frame.paragraphs)):\n",
        "      for j in range(0,len(shape.text_frame.paragraphs[i].runs)):\n",
        "        print(\"i: \", i, \" j: \", j)\n",
        "        print(shape.text_frame.paragraphs[i].runs[j].text)\n",
        "    '''\n",
        "\n",
        "#shape = slide.shapes.add_chart(style, type, Liste[1][0], Liste[1][1], Liste[1][2], Liste[1][3])\n",
        "\n",
        "#pic = slide.shapes.add_picture(\"Herunterladen.jpg\", x, y, width, height)\n",
        "pic = slide.shapes.add_picture(\"/content/logo.png\", Liste[1][0], Liste[1][1], Liste[1][2], Liste[1][3])\n",
        "\n",
        "\n",
        "\n",
        "chart = slide.shapes.add_chart(XL_CHART_TYPE.COLUMN_CLUSTERED, Liste[3][0], Liste[3][1], Liste[3][2], Liste[3][3], chart_data)\n",
        "chart2 = slide.shapes.add_chart(XL_CHART_TYPE.BAR_CLUSTERED, Liste[2][0], Liste[2][1], Liste[2][2], Liste[2][3], chart_data2)\n",
        "\n",
        "chart.chart.category_axis.tick_labels.font.size = Pt(8)#100000\n",
        "chart.chart.category_axis.tick_labels.font.name = 'Thaoma'\n",
        "chart.chart.has_title = False\n",
        "chart.chart.series[0].format.fill.solid()\n",
        "chart.chart.series[0].format.fill.fore_color.rgb = RGBColor(0,60,100)\n",
        "#chart.chart.vary_by_categories = False\n",
        "\n",
        "chart2.chart.category_axis.tick_labels.font.size = Pt(8)#100000\n",
        "chart2.chart.category_axis.tick_labels.font.name = 'Thaoma'\n",
        "chart2.chart.has_title = False\n",
        "chart2.chart.series[0].format.fill.solid()\n",
        "chart2.chart.series[0].format.fill.fore_color.rgb = RGBColor(0,60,100)\n",
        "\n",
        "#Seite 4:\n",
        "counter = 0\n",
        "counter2 = 0\n",
        "counter3 = 0\n",
        "Liste1=np.empty((0,4),int)\n",
        "for shape in prs.slides[4].shapes:\n",
        "  if shape.has_text_frame:\n",
        "    print(shape.text)\n",
        "    #print(counter2, shape.text)\n",
        "    if \"Vaillant GmbH\" in shape.text:\n",
        "      shape.text_frame.paragraphs[0].runs[0].text = b0\n",
        "    #if counter2 >= 5 and counter2 <= 11:\n",
        "    if str(counter3) in shape.text:\n",
        "      shape.text = \"foobar\"\n",
        "      text_frame = shape.text_frame\n",
        "      text_frame.clear()\n",
        "      p = text_frame.paragraphs[0]\n",
        "      \n",
        "      p.add_run().text = dataS4[counter3] + \"\\n\"\n",
        "      p.runs[0].font.color.rgb = RGBColor(80,95,100)#0x3F, 0x2c, 0x36)\n",
        "      p.runs[0].font.name = 'Thaoma'\n",
        "      p.runs[0].font.bold = True\n",
        "      p.runs[0].font.size = Pt(12)\n",
        "      hlink = p.runs[0].hyperlink\n",
        "      hlink.address = 'https://cordis.europa.eu/project/id/' + str(RB_ID[counter3])\n",
        "\n",
        "      '''\n",
        "        z.text = 'link to data @ cordis'\n",
        "        hlink = z.hyperlink\n",
        "        hlink.address = 'https://cordis.europa.eu/project/id/' + str(RB_ID[p]) \n",
        "      '''\n",
        "\n",
        "      p.add_run().text = \"Gesamtvolumen  \" + str(round(float(dataS4w[counter3])/1000000.0,1)) + \" Mio € | EU-Förderquote \" +\\\n",
        "      str(round(100*float(dataS4q[counter3])/float(dataS4w[counter3]),1)) + \"% | \" + str(round(dataS4e[counter3])) + \" Konsortialpartner\"\n",
        "      #print(\"Gesamtvolumen  \" + str(round(float(dataS4w[counter2-5])/1000000.0,1)) + \" Mio € | EU-Förderquote \" +\\\n",
        "      #str(round(100*float(dataS4q[counter2-5])/float(dataS4w[counter2-5]),1)) + \"% | \" + str(round(dataS4e[counter2-5])) + \" Konsortialpartner\")\n",
        "      p.runs[1].font.color.rgb = RGBColor(80,95,100)#0x3F, 0x2c, 0x36)\n",
        "      p.runs[1].font.bold = False\n",
        "      p.runs[1].font.size = Pt(12)\n",
        "      #print(shape.text)\n",
        "      counter3 += 1\n",
        "    #counter2 += 1\n",
        "    if \"Tags\" in shape.text:\n",
        "      #print(\"wwqq\")\n",
        "      shape.text_frame.paragraphs[0].runs[0].text = str(bids)#str(bibDict[0])\n",
        "\n",
        "    '''\n",
        "        z = shape.text_frame.paragraphs[0].runs[0]\n",
        "        z.text = 'link to data @ cordis'\n",
        "        hlink = z.hyperlink\n",
        "        hlink.address = 'https://cordis.europa.eu/project/id/' + str(RB_ID[p]) \n",
        "    '''\n",
        "  #Namen in dataS4 gespeichert\n",
        "  #print(shape)\n",
        "  if not shape.has_text_frame:\n",
        "    #if counter == 1:\n",
        "    #print(\"qqq\", shape)\n",
        "    slide = prs.slides[4]\n",
        "    t=[[shape.left,shape.top,shape.width,shape.height]]\n",
        "    #print(t)\n",
        "    Liste1 = np.append(Liste1,t,axis=0)\n",
        "    pic = shape._element\n",
        "    pic.getparent().remove(pic)\n",
        "\n",
        "    counter+=1\n",
        "    continue\n",
        "\n",
        "#print(\"hhh: \", Liste1)\n",
        "pic = slide.shapes.add_picture(\"/content/wordC.png\", Liste1[1][0], Liste1[1][1], Liste1[1][2], Liste1[1][3]) #wordC.png\n",
        "\n",
        "#Seite5\n",
        "'''\n",
        "counter5=0\n",
        "slide = prs.slides[5]\n",
        "for shape in prs.slides[5].shapes:\n",
        "  if shape.shape_type == MSO_SHAPE_TYPE.GROUP:\n",
        "    for s in shape:\n",
        "      print(s.text)\n",
        "\n",
        "\n",
        "\n",
        "group_shapes = [\n",
        "  shape for shape in slide.shapes\n",
        "  if shape.shape_type == MSO_SHAPE_TYPE.GROUP\n",
        "]\n",
        "print(len(group_shapes))\n",
        "\n",
        "for group_shape in group_shapes:\n",
        "  for shape in group_shape.shapes:\n",
        "    if shape.has_text_frame:\n",
        "      print(shape.text)\n",
        "\n",
        "'''\n",
        "\n",
        "#print(group_shapes)\n",
        "#print(group_shapes.text)\n",
        "'''\n",
        "  for group_shape in group_shapes:\n",
        "        for shape in group_shape.shapes:\n",
        "            if shape.has_text_frame:\n",
        "                print(shape.text)\n",
        "'''\n",
        "#counteer=0\n",
        "bool1=True\n",
        "for shape in prs.slides[5].shapes:\n",
        "  #counter5+=1\n",
        "  #print(\"TEST: \", counter5, shape)\n",
        "  if shape.has_text_frame:\n",
        "    #print(\"TEEEST: \", counter5, shape.text)\n",
        "    print(\"RRR: \", shape.text)\n",
        "    if \"Vaillant GmbH\" in shape.text:\n",
        "      shape.text_frame.paragraphs[0].runs[0].text = b0\n",
        "\n",
        "    '''\n",
        "    if \"COMTES\" in shape.text:\n",
        "      shape.text_frame.paragraphs[0].runs[0].text = str(mT[0])+str(qyT[0])\n",
        "    if \"ene.field\" in shape.text:\n",
        "      shape.text_frame.paragraphs[0].runs[0].text = str(mT[1])+str(qyT[1])\n",
        "    if \"iNSPiRe\" in shape.text:\n",
        "      shape.text_frame.paragraphs[0].runs[0].text = str(mT[2])+str(qyT[2])\n",
        "    if \"CREATE\" in shape.text:\n",
        "      shape.text_frame.paragraphs[0].runs[0].text = str(mT[3])+str(qyT[3])\n",
        "    if \"HEATSTACK\" in shape.text:\n",
        "      shape.text_frame.paragraphs[0].runs[0].text = str(mT[4])+str(qyT[4])\n",
        "    if \"PACE\" in shape.text:\n",
        "      shape.text_frame.paragraphs[0].runs[0].text = str(mT[5])+str(qyT[5])\n",
        "    if \"InterConnect\" in shape.text:\n",
        "      shape.text_frame.paragraphs[0].runs[0].text = str(mT[6])+str(qyT[6])\n",
        "    '''\n",
        "\n",
        "    if bool1==True and 1==0:\n",
        "      h = shape.text_frame.add_paragraph()\n",
        "      h.text = \"AKRO: \" + str(mT)\n",
        "      h = shape.text_frame.add_paragraph()\n",
        "      h.text = \"nonEcContribution: \" + str(mT1)\n",
        "      h = shape.text_frame.add_paragraph()\n",
        "      h.text = \"nonEcContribution: \" + str(mT2)\n",
        "      h = shape.text_frame.add_paragraph()\n",
        "      h.text = \"VON: \" + str(datesa)\n",
        "      h = shape.text_frame.add_paragraph()\n",
        "      h.text = \"BIS: \" + str(datesb)\n",
        "      hh = shape.text_frame.add_paragraph()\n",
        "      hh.text = \"ZSM: \" + str(qyT)\n",
        "      bool1=False\n",
        "      print(qyT)\n",
        "\n",
        "    if \"Informationen\" in shape.text:\n",
        "      #shape.text_frame.paragraphs[0].runs[0].text = \"TEST\"\n",
        "      h = shape.text_frame.add_paragraph()\n",
        "      h.text = \"AKRO: \" + str(mT)\n",
        "      h = shape.text_frame.add_paragraph()\n",
        "      h.text = \"nonEcContribution: \" + str(mT1)\n",
        "      h = shape.text_frame.add_paragraph()\n",
        "      h.text = \"nonEcContribution: \" + str(mT2)\n",
        "      h = shape.text_frame.add_paragraph()\n",
        "      h.text = \"VON: \" + str(datesa)\n",
        "      h = shape.text_frame.add_paragraph()\n",
        "      h.text = \"BIS: \" + str(datesb)\n",
        "      hh = shape.text_frame.add_paragraph()\n",
        "      hh.text = \"ZSM: \" + str(qyT)\n",
        "\n",
        "\n",
        "#Seite6\n",
        "counter = 0\n",
        "counter2 = 0\n",
        "Liste6=np.empty((0,4),int)\n",
        "dict6 = dict()\n",
        "for shape in prs.slides[6].shapes:\n",
        "  if not shape.has_text_frame and counter2 <2:\n",
        "    slide = prs.slides[6]\n",
        "    t=[[shape.left,shape.top,shape.width,shape.height]]\n",
        "    Liste6 = np.append(Liste6,t,axis=0)\n",
        "    pic = shape._element\n",
        "    pic.getparent().remove(pic)\n",
        "    print(\"REMOVE\")\n",
        "    print(type(shape))\n",
        "    counter2+=1\n",
        "    continue\n",
        "  if shape.has_text_frame:\n",
        "    #print(shape.text)\n",
        "    if \"Vaillant GmbH\" in shape.text:\n",
        "      shape.text_frame.paragraphs[0].runs[0].text = b0\n",
        "    if \"Partner in einem\" in shape.text or \"Partner in zwei\" in shape.text or \"Partner in drei\" in shape.text:\n",
        "      shape.text = \"foobar\"\n",
        "      text_frame = shape.text_frame\n",
        "      text_frame.clear()\n",
        "      #p = text_frame.paragraphs[0]\n",
        "    if \"Zusammenarbeit in 3\" in shape.text:\n",
        "      shape.text = \"foobar\"\n",
        "      text_frame = shape.text_frame\n",
        "      text_frame.clear()\n",
        "\n",
        "      for o in reversed(range(1,7)):\n",
        "        #print(o)\n",
        "        if o in d.values():\n",
        "          text_frame.add_paragraph()\n",
        "          p = text_frame.paragraphs[2*counter]#2*counter\n",
        "          p.level = 0\n",
        "          p.add_run().text = \"Zusammenarbeit in \" + str(o) + \" von 7 Projekten\" + \"\\n\"\n",
        "          p.runs[0].font.color.rgb = RGBColor(80,95,100)#0x3F, 0x2c, 0x36)\n",
        "          p.runs[0].font.name = 'Thaoma'\n",
        "          p.runs[0].font.bold = True\n",
        "          p.runs[0].font.size = Pt(14)\n",
        "          text_frame.add_paragraph()\n",
        "          p = text_frame.paragraphs[2*counter+1]\n",
        "          p.level = 1\n",
        "          p.add_run().text = str(getKeysByValue(d, o)) + \"\\n\"\n",
        "          p.runs[0].font.color.rgb = RGBColor(80,95,100)#0x3F, 0x2c, 0x36)\n",
        "          p.runs[0].font.name = 'Thaoma'\n",
        "          p.runs[0].font.bold = True\n",
        "          p.runs[0].font.size = Pt(12)\n",
        "          dict6.update({str(o): str(getKeysByValue(d, o))})\n",
        "          #Liste6b = np.append(Liste6b,t,axis=0)\n",
        "          counter += 1\n",
        "        if o==1:\n",
        "          text_frame.add_paragraph()\n",
        "          p = text_frame.paragraphs[2*counter]\n",
        "          p.level = 0\n",
        "          p.add_run().text = \"Mit den übrigen \" + str(len(PartiSet) - len(Partix)) + \" der insgesamt \"+ str(len(PartiSet)) +\" Projektpartnern wurde jeweils nur in einem Projekt zusammengearbeitet.\"\n",
        "          #\"Zusammenarbeit in \" + str(o) + \" von 7 Projekten\" + \"\\n\"\n",
        "          p.runs[0].font.color.rgb = RGBColor(80,95,100)#0x3F, 0x2c, 0x36)\n",
        "          p.runs[0].font.name = 'Thaoma'\n",
        "          p.runs[0].font.bold = True\n",
        "          p.runs[0].font.size = Pt(14)\n",
        "\n",
        "\n",
        "#print(\"aa\")\n",
        "\n",
        "print(Liste6, Liste6.shape)\n",
        "chart3 = prs.slides[6].shapes.add_chart(XL_CHART_TYPE.PIE_EXPLODED, Liste6[1][0], Liste6[1][1], Liste6[1][2]+100, Liste6[1][3]+100, chart_data3)\n",
        "#chart3.chart.category_axis.tick_labels.font.size = Pt(8)#100000\n",
        "#chart3.chart.category_axis.tick_labels.font.name = 'Thaoma'\n",
        "chart3.chart.has_title = False\n",
        "chart3.chart.series[0].format.fill.solid()\n",
        "chart3.chart.series[0].format.fill.fore_color.rgb = RGBColor(0,60,100)\n",
        "#chart.chart.vary_by_categories = False\n",
        "chart3.chart.series[0].data_labels.show_category_name = True\n",
        "chart3.chart.series[0].data_labels.position = XL_LABEL_POSITION.BEST_FIT#OUTSIDE_END\n",
        "chart3.chart.series[0].data_labels.font.color.rgb = RGBColor(80,95,100)\n",
        "#Partix\n",
        "\n",
        "#2.Teil:\n",
        "name1=\"H2020\"\n",
        "name2=\"COMTES\"\n",
        "name3=\"abgeschlossen\"\n",
        "for p in range(0,8):\n",
        "  for shape in prs.slides[9+p*2].shapes:\n",
        "    if shape.has_text_frame:\n",
        "      #print(shape.text)\n",
        "      if \"Vaillant GmbH\" in shape.text:#Vaillant GmbH: H2020-Projekt COMTES (abgeschlossen)\n",
        "        shape.text_frame.paragraphs[0].runs[0].text = b0 + qyT[p]#\": \"+name1+\"-Projekt \"+name2+\" (\"+name3+\")\"\n",
        "      if \"TEST111\" in shape.text:\n",
        "        shape.text_frame.paragraphs[0].runs[0].text = qy[p]\n",
        "      if \"gghh\" in shape.text:\n",
        "        z = shape.text_frame.paragraphs[0].runs[0]\n",
        "        z.text = 'link to data @ cordis'\n",
        "        hlink = z.hyperlink\n",
        "        hlink.address = 'https://cordis.europa.eu/project/id/' + str(RB_ID[p]) \n",
        "        #r = shape.text_frame.paragraphs[0].add_run()#.runs[0]\n",
        "        #r.text = \n",
        "        #r.hyperlink.adress = 'https://cordis.europa.eu/project/id/' + str(RB_ID[p])\n",
        "\n",
        "'''\n",
        "r = p.add_run()\n",
        "r.text = 'https://cordis.europa.eu/project/id/' + BllA\n",
        "hlink = r.hyperlink\n",
        "hlink.address = 'https://github.com/scanny/python-pptx'\n",
        "'''\n",
        "\n",
        "#chart.set_x_axis({'name': 'Index', 'num_font':  {'rotation': 45}})\n",
        "#{'type': 'column'}\n",
        "print(\"Position not shape.has_text_frame\", Liste)\n",
        "prs.save(\"testp.pptx\") # save changes"
      ],
      "metadata": {
        "id": "vF8FicGMzdK3",
        "outputId": "5598d9c7-11bf-41b2-c3e6-ed6a7669a5c6",
        "colab": {
          "base_uri": "https://localhost:8080/"
        }
      },
      "execution_count": 91,
      "outputs": [
        {
          "output_type": "stream",
          "name": "stdout",
          "text": [
            "<class 'pptx.shapes.graphfrm.GraphicFrame'>\n",
            "<class 'pptx.shapes.picture.Picture'>\n",
            "12\n",
            "jj:  7 von 158 EU Projekte im Zeitraum von 2011-05-01 - 2024-04-30 mit einem EU-Zuschuss von insgesamt 57.5 Mio € (['FP7', 'H2020']); Letztes Projekt 2021; Keine Projektkoordination; 133 verschiedene Konsortialpartner in 14 Ländern.\n",
            "<class 'pptx.shapes.graphfrm.GraphicFrame'>\n",
            "<class 'pptx.shapes.graphfrm.GraphicFrame'>\n",
            "*) Die Textfelder sind mit den Projektbeschreibungen in der „Cordis-Datenbank“ verlinkt; dort finden sich detailliertere Angaben zum Projektinhalt und zu den Konsortialpartnern. \n",
            "Vaillant GmbH\n",
            "EU-Projektübersicht*)\n",
            "5\n",
            "Vertraulich C1\n",
            "Funding Profile - Vaillant\n",
            "Tags\n",
            "0\n",
            "1\n",
            "2\n",
            "3\n",
            "4\n",
            "5\n",
            "6\n",
            "RRR:  Vaillant GmbH\n",
            "RRR:  EU-Projekte im zeitlichen Verlauf\n",
            "RRR:  6\n",
            "RRR:  2012\n",
            "RRR:  2013\n",
            "RRR:  2014\n",
            "RRR:  2015\n",
            "RRR:  2016\n",
            "RRR:  2017\n",
            "RRR:  2018\n",
            "RRR:  2019\n",
            "RRR:  2020\n",
            "RRR:  2021\n",
            "RRR:  2022\n",
            "RRR:  2023\n",
            "RRR:  \n",
            "RRR:  126 T€\n",
            "RRR:  2,9\n",
            "Mio €\n",
            "RRR:  Funding Profile - Vaillant\n",
            "RRR:  \n",
            "RRR:  Projektlaufzeit\n",
            "RRR:  EU-Zuschuss für das betrachtete Unternehmen\n",
            "RRR:  < 100 T€\n",
            "RRR:  100 T€ - 1 Mio €\n",
            "RRR:  > 1 Mio €\n",
            "RRR:  Legende\n",
            "RRR:  Vertraulich C1\n",
            "RRR:  Informationen\n",
            "REMOVE\n",
            "<class 'pptx.shapes.graphfrm.GraphicFrame'>\n",
            "REMOVE\n",
            "<class 'pptx.shapes.graphfrm.GraphicFrame'>\n",
            "[[   1588    1588    1588    1588]\n",
            " [4666459 2584244 2974490 2216013]] (2, 4)\n",
            "Position not shape.has_text_frame [[   1588    1588    1588    1588]\n",
            " [ 647700 1307198 3457575  926659]\n",
            " [7917136 2734560 3790950 2333950]\n",
            " [4888043 2754117 3029093 2187995]]\n"
          ]
        }
      ]
    },
    {
      "cell_type": "markdown",
      "source": [
        ""
      ],
      "metadata": {
        "id": "qErlbnK6zXsX"
      }
    },
    {
      "cell_type": "markdown",
      "source": [
        ""
      ],
      "metadata": {
        "id": "W4nFWh2JzXod"
      }
    },
    {
      "cell_type": "markdown",
      "source": [
        ""
      ],
      "metadata": {
        "id": "rcqUWSD3zXkp"
      }
    },
    {
      "cell_type": "markdown",
      "source": [
        ""
      ],
      "metadata": {
        "id": "tNNWLqS-zXgv"
      }
    },
    {
      "cell_type": "markdown",
      "source": [
        ""
      ],
      "metadata": {
        "id": "JwMBTTOKzXct"
      }
    },
    {
      "cell_type": "markdown",
      "source": [
        ""
      ],
      "metadata": {
        "id": "rCoAp17MzXYx"
      }
    },
    {
      "cell_type": "markdown",
      "source": [
        "PPTX"
      ],
      "metadata": {
        "id": "Q3EeVwgeRF6G"
      }
    },
    {
      "cell_type": "markdown",
      "source": [
        "https://towardsdatascience.com/standing-out-from-the-cloud-how-to-shape-and-format-a-word-cloud-bf54beab3389\n",
        "\n",
        "Interessante mask!!!!!!!!!HIER!!!!!!"
      ],
      "metadata": {
        "id": "4VkxXQsQ2D9D"
      }
    },
    {
      "cell_type": "code",
      "source": [
        "from PIL import Image\n",
        "from wordcloud import WordCloud, STOPWORDS, ImageColorGenerator\n",
        "import matplotlib.pyplot as plt\n",
        "%matplotlib inline\n",
        "import numpy as np"
      ],
      "metadata": {
        "id": "HujgDgbOp-x4"
      },
      "execution_count": null,
      "outputs": []
    },
    {
      "cell_type": "code",
      "source": [
        "from PIL import Image\n",
        "from wordcloud import WordCloud, STOPWORDS, ImageColorGenerator\n",
        "import matplotlib.pyplot as plt\n",
        "%matplotlib inline\n",
        "import numpy as np"
      ],
      "metadata": {
        "id": "J58qaM9ls6ba"
      },
      "execution_count": null,
      "outputs": []
    },
    {
      "cell_type": "code",
      "source": [
        "emoji_text=text"
      ],
      "metadata": {
        "id": "Y5DA0k-ntGHx",
        "colab": {
          "base_uri": "https://localhost:8080/",
          "height": 165
        },
        "outputId": "d24540e0-3038-43de-a9c2-4cf90cd2e688"
      },
      "execution_count": null,
      "outputs": [
        {
          "output_type": "error",
          "ename": "NameError",
          "evalue": "ignored",
          "traceback": [
            "\u001b[0;31m---------------------------------------------------------------------------\u001b[0m",
            "\u001b[0;31mNameError\u001b[0m                                 Traceback (most recent call last)",
            "\u001b[0;32m<ipython-input-31-894354956618>\u001b[0m in \u001b[0;36m<module>\u001b[0;34m()\u001b[0m\n\u001b[0;32m----> 1\u001b[0;31m \u001b[0memoji_text\u001b[0m\u001b[0;34m=\u001b[0m\u001b[0mtext\u001b[0m\u001b[0;34m\u001b[0m\u001b[0;34m\u001b[0m\u001b[0m\n\u001b[0m",
            "\u001b[0;31mNameError\u001b[0m: name 'text' is not defined"
          ]
        }
      ]
    },
    {
      "cell_type": "code",
      "source": [
        "# Default WordCloud\n",
        "wordcloud = WordCloud().generate(emoji_text)  \n",
        "plt.figure(figsize=(10,6))\n",
        "plt.imshow(wordcloud)\n",
        "plt.axis('off')\n",
        "plt.show()"
      ],
      "metadata": {
        "id": "qbEI_hg8s6B0",
        "outputId": "1b696e37-093e-4ed0-c409-fb9f3adcca9e",
        "colab": {
          "base_uri": "https://localhost:8080/",
          "height": 235
        }
      },
      "execution_count": null,
      "outputs": [
        {
          "output_type": "error",
          "ename": "NameError",
          "evalue": "ignored",
          "traceback": [
            "\u001b[0;31m---------------------------------------------------------------------------\u001b[0m",
            "\u001b[0;31mNameError\u001b[0m                                 Traceback (most recent call last)",
            "\u001b[0;32m<ipython-input-32-6195544bf25e>\u001b[0m in \u001b[0;36m<module>\u001b[0;34m()\u001b[0m\n\u001b[1;32m      1\u001b[0m \u001b[0;31m# Default WordCloud\u001b[0m\u001b[0;34m\u001b[0m\u001b[0;34m\u001b[0m\u001b[0;34m\u001b[0m\u001b[0m\n\u001b[0;32m----> 2\u001b[0;31m \u001b[0mwordcloud\u001b[0m \u001b[0;34m=\u001b[0m \u001b[0mWordCloud\u001b[0m\u001b[0;34m(\u001b[0m\u001b[0;34m)\u001b[0m\u001b[0;34m.\u001b[0m\u001b[0mgenerate\u001b[0m\u001b[0;34m(\u001b[0m\u001b[0memoji_text\u001b[0m\u001b[0;34m)\u001b[0m\u001b[0;34m\u001b[0m\u001b[0;34m\u001b[0m\u001b[0m\n\u001b[0m\u001b[1;32m      3\u001b[0m \u001b[0mplt\u001b[0m\u001b[0;34m.\u001b[0m\u001b[0mfigure\u001b[0m\u001b[0;34m(\u001b[0m\u001b[0mfigsize\u001b[0m\u001b[0;34m=\u001b[0m\u001b[0;34m(\u001b[0m\u001b[0;36m10\u001b[0m\u001b[0;34m,\u001b[0m\u001b[0;36m6\u001b[0m\u001b[0;34m)\u001b[0m\u001b[0;34m)\u001b[0m\u001b[0;34m\u001b[0m\u001b[0;34m\u001b[0m\u001b[0m\n\u001b[1;32m      4\u001b[0m \u001b[0mplt\u001b[0m\u001b[0;34m.\u001b[0m\u001b[0mimshow\u001b[0m\u001b[0;34m(\u001b[0m\u001b[0mwordcloud\u001b[0m\u001b[0;34m)\u001b[0m\u001b[0;34m\u001b[0m\u001b[0;34m\u001b[0m\u001b[0m\n\u001b[1;32m      5\u001b[0m \u001b[0mplt\u001b[0m\u001b[0;34m.\u001b[0m\u001b[0maxis\u001b[0m\u001b[0;34m(\u001b[0m\u001b[0;34m'off'\u001b[0m\u001b[0;34m)\u001b[0m\u001b[0;34m\u001b[0m\u001b[0;34m\u001b[0m\u001b[0m\n",
            "\u001b[0;31mNameError\u001b[0m: name 'emoji_text' is not defined"
          ]
        }
      ]
    },
    {
      "cell_type": "code",
      "source": [
        "wordcloud = WordCloud(max_font_size=80, max_words=1000, background_color='black', colormap='Paired').generate(emoji_text)"
      ],
      "metadata": {
        "id": "WPpQ4Kkms5-1"
      },
      "execution_count": null,
      "outputs": []
    },
    {
      "cell_type": "code",
      "source": [
        "stopwords = set(STOPWORDS)\n",
        "font_path = \"content\""
      ],
      "metadata": {
        "id": "7cGtrGYHs571"
      },
      "execution_count": null,
      "outputs": []
    },
    {
      "cell_type": "code",
      "source": [
        "mask2 = np.array(Image.open(\"Bosch.jpg\"))\n",
        "emo2 = WordCloud(background_color=\"white\", max_words=100, mask=mask2, stopwords=stopwords,\n",
        "               min_font_size=10, colormap='Dark2')\n",
        "# Generate a wordcloud\n",
        "emo2.generate(emoji_text)\n"
      ],
      "metadata": {
        "id": "wEtQQvQLs55D"
      },
      "execution_count": null,
      "outputs": []
    },
    {
      "cell_type": "code",
      "source": [
        "import matplotlib.pyplot as plt\n",
        "from google.colab.patches import cv2_imshow\n",
        "\n",
        "mask = np.array(Image.open('BoschI.jpg'))\n",
        "# Get the color map by name:\n",
        "cm = plt.get_cmap('gist_rainbow')#, lut=8)\n",
        "#cm = plt.get_cmap('gist_rainbow')\n",
        "\n",
        "# Apply the colormap like a function to any array:\n",
        "colored_image = cm(mask)\n",
        "\n",
        "colored_image.shape\n",
        "\n",
        "#Wie speichert man das?? (Neue Farben für ein Bild)\n"
      ],
      "metadata": {
        "id": "ocEUH4Ouy4VD"
      },
      "execution_count": null,
      "outputs": []
    },
    {
      "cell_type": "code",
      "source": [
        "from skimage import data, color, io, img_as_float\n",
        "import numpy as np\n",
        "import matplotlib.pyplot as plt\n",
        "\n",
        "alpha = 0.6\n",
        "\n",
        "img = img_as_float(data.camera())\n",
        "rows, cols = img.shape\n",
        "\n",
        "# Construct a colour image to superimpose\n",
        "color_mask = np.zeros((rows, cols, 3))\n",
        "color_mask[30:140, 30:140] = [1, 0, 0]  # Red block\n",
        "color_mask[170:270, 40:120] = [0, 1, 0] # Green block\n",
        "color_mask[200:350, 200:350] = [0, 0, 1] # Blue block\n",
        "\n",
        "# Construct RGB version of grey-level image\n",
        "img_color = np.dstack((img, img, img))\n",
        "\n",
        "# Convert the input image and color mask to Hue Saturation Value (HSV)\n",
        "# colorspace\n",
        "img_hsv = color.rgb2hsv(img_color)\n",
        "color_mask_hsv = color.rgb2hsv(mask)#color_mask)\n",
        "\n",
        "# Replace the hue and saturation of the original image\n",
        "# with that of the color mask\n",
        "img_hsv[..., 0] = color_mask_hsv[..., 0]\n",
        "img_hsv[..., 1] = color_mask_hsv[..., 1] * alpha\n",
        "\n",
        "img_masked = color.hsv2rgb(img_hsv)\n",
        "\n",
        "# Display the output\n",
        "f, (ax0, ax1, ax2) = plt.subplots(1, 3,\n",
        "                                  subplot_kw={'xticks': [], 'yticks': []})\n",
        "ax0.imshow(img, cmap=plt.cm.gray)\n",
        "ax1.imshow(mask)#color_mask)\n",
        "ax2.imshow(img_masked)\n",
        "plt.show()"
      ],
      "metadata": {
        "id": "jQCxE9vsH2pC"
      },
      "execution_count": null,
      "outputs": []
    },
    {
      "cell_type": "code",
      "source": [
        "import cv2\n",
        "\n",
        "# note — need to set max font size, or font extends over the colors\n",
        "mask = np.array(Image.open('BoschI.jpg').crop((0, 0, 512, 512)))#)#.crop((250, 130, 850, 700)))\n",
        "#mask = cv2.cvtColor(mask,cv2.COLOR_GRAY2RGB)\n",
        "emo_clr = WordCloud(background_color='white', mode='RGBA', max_words=1000, relative_scaling=0.3, max_font_size=20, min_font_size=10, mask=mask).generate(emoji_text)\n",
        "#, min_font_size=18, max_font_size=28,\n",
        "\n",
        "# create coloring from image\n",
        "image_colors = ImageColorGenerator(mask)\n",
        "plt.figure(figsize=[7,7])\n",
        "#Problem with gray scale image\n",
        "plt.imshow(emo_clr.recolor(color_func=image_colors), interpolation='bilinear')\n",
        "plt.axis('off')\n",
        "plt.show()\n",
        "plt.imshow(mask, interpolation='bilinear')\n",
        "plt.axis('off')\n",
        "plt.show()"
      ],
      "metadata": {
        "id": "sNH0bXwgte9u"
      },
      "execution_count": null,
      "outputs": []
    },
    {
      "cell_type": "code",
      "source": [
        ""
      ],
      "metadata": {
        "id": "haPoXJeCte6o"
      },
      "execution_count": null,
      "outputs": []
    },
    {
      "cell_type": "code",
      "source": [
        ""
      ],
      "metadata": {
        "id": "rlw203Gate31"
      },
      "execution_count": null,
      "outputs": []
    },
    {
      "cell_type": "code",
      "source": [
        ""
      ],
      "metadata": {
        "id": "t8tPhQPete1K"
      },
      "execution_count": null,
      "outputs": []
    },
    {
      "cell_type": "code",
      "source": [
        "#https://www.geeksforgeeks.org/python-pillow-colors-on-an-image/\n",
        "from PIL import Image\n",
        " \n",
        " \n",
        "img = Image.open(\"Bosch.jpg\")\n",
        "img = img.convert(\"RGB\")\n",
        " \n",
        "d = img.getdata()\n",
        " \n",
        "new_image = []\n",
        "for item in d:\n",
        "   \n",
        "    # change all white (also shades of whites)\n",
        "    # pixels to yellow\n",
        "    if item[0] in list(range(200, 256)):\n",
        "        new_image.append((255, 100, 100))\n",
        "    elif item[0] in list(range(0, 256)):\n",
        "        new_image.append((100, 255, 100))\n",
        "    else:\n",
        "        new_image.append(item)\n",
        "         \n",
        "# update image data\n",
        "img.putdata(new_image)#_data)\n",
        "#print(new_image.shape)\n",
        "# save new image\n",
        "img.save(\"BoschI.jpg\")"
      ],
      "metadata": {
        "id": "nT2m8uJ33PDh"
      },
      "execution_count": null,
      "outputs": []
    },
    {
      "cell_type": "markdown",
      "source": [
        "HIER"
      ],
      "metadata": {
        "id": "9eYJfed0aVN9"
      }
    },
    {
      "cell_type": "code",
      "source": [
        "from PIL import Image\n",
        "import PIL.ImageOps    \n",
        "\n",
        "image = Image.open('Bosch.jpg')\n",
        "#test = Image.open('bbS.jpg')\n",
        "\n",
        "inverted_image = PIL.ImageOps.invert(image)\n",
        "\n",
        "inverted_image.save('BoschI.jpg')"
      ],
      "metadata": {
        "id": "2X52EraK1nP4"
      },
      "execution_count": null,
      "outputs": []
    },
    {
      "cell_type": "code",
      "source": [
        "#wäre gut in invert funktion\n",
        "def closest_color(rgb):\n",
        "    r, g, b = rgb\n",
        "    color_diffs = []\n",
        "    for color in COLORS:\n",
        "        cr, cg, cb = color\n",
        "        color_diff = sqrt((r - cr)**2 + (g - cg)**2 + (b - cb)**2)\n",
        "        color_diffs.append((color_diff, color))\n",
        "    return min(color_diffs)[1]"
      ],
      "metadata": {
        "id": "lAHPwYJ-2klS"
      },
      "execution_count": null,
      "outputs": []
    },
    {
      "cell_type": "code",
      "source": [
        "from os import path\n",
        "from PIL import Image\n",
        "import numpy as np\n",
        "import matplotlib.pyplot as plt\n",
        "import os\n",
        "\n",
        "from wordcloud import WordCloud, STOPWORDS\n",
        "\n",
        "# get data directory (using getcwd() is needed to support running example in generated IPython notebook)\n",
        "d = path.dirname(__file__) if \"__file__\" in locals() else os.getcwd()\n",
        "\n",
        "# Read the whole text.\n",
        "text = keyW \n",
        "#'''Ich hab nun schon ein paar Python Progrämmchen geschrieben und stosse immer wieder auf das gleiche Problem, finde aber keine elegante Lösung dazu. Ich versuche, mich beim Coden möglichst an den Style Guide (PEP 8 - http://www.python.org/dev/peps/pep-0008/) zu halten. Dieser empfiehlt, die maximale Länge einer Zeile auf 79 Zeichen zu beschränken. Mein Problem ist nun das folgende: wie definiere ich am besten einen langen String? Beispiel:\n",
        "#CODE: ALLES AUSWÄHLEN'''\n",
        "\n",
        "#text = open(path.join(d, 'alice.txt')).read()\n",
        "\n",
        "# read the mask image\n",
        "# taken from\n",
        "# http://www.stencilry.org/stencils/movies/alice%20in%20wonderland/255fk.jpg\n",
        "alice_mask = np.array(Image.open(path.join(d, \"/content/BoschI.jpg\")).crop((250, 130, 850, 700)))#alice_mask.png\n",
        "#alice_mask = np.array(Image.open(path.join(d, \"/content/Bosch2.jpg\")).crop((10, 10, 800, 800)))\n",
        "#croppedIm = Image1.crop((130, 120, 200, 200)) \n",
        "stopwords = set(STOPWORDS)\n",
        "stopwords.add(\"said\")\n",
        "\n",
        "wc = WordCloud(background_color=\"white\", mode=\"RGBA\", max_words=200, max_font_size=18, mask=alice_mask,\n",
        "               stopwords=stopwords, contour_width=0, contour_color='steelblue')\n",
        "\n",
        "# generate word cloud\n",
        "wc.generate(text)\n",
        "\n",
        "# store to file\n",
        "wc.to_file(path.join(d, \"alice1.png\"))\n",
        "\n",
        "# show\n",
        "plt.imshow(wc, interpolation='bilinear')\n",
        "plt.axis(\"off\")\n",
        "plt.figure()\n",
        "plt.imshow(alice_mask, cmap=plt.cm.gray, interpolation='bilinear')\n",
        "plt.axis(\"off\")\n",
        "plt.show()\n",
        "\n",
        "#Wäre cool wenn wordcloud2 funktioniert...."
      ],
      "metadata": {
        "id": "rqV6jkpi3t87",
        "outputId": "150d438d-d391-4794-9058-10489020a831",
        "colab": {
          "base_uri": "https://localhost:8080/",
          "height": 479
        }
      },
      "execution_count": null,
      "outputs": [
        {
          "output_type": "display_data",
          "data": {
            "text/plain": [
              "<Figure size 432x288 with 1 Axes>"
            ],
            "image/png": "[encoded data removed]"
          },
          "metadata": {
            "needs_background": "light"
          }
        },
        {
          "output_type": "display_data",
          "data": {
            "text/plain": [
              "<Figure size 432x288 with 1 Axes>"
            ],
            "image/png": "[encoded data removed]"
          },
          "metadata": {
            "needs_background": "light"
          }
        }
      ]
    },
    {
      "cell_type": "code",
      "source": [
        "#Color mask wordcloud: https://www.datacamp.com/tutorial/wordcloud-python\n",
        "'''\n",
        "from wordcloud import WordCloud, STOPWORDS, ImageColorGenerator\n",
        "wordcloud_por = WordCloud(stopwords=stopwords, background_color=\"white\", max_words=200, mask=alice_mask).generate(text)\n",
        "\n",
        "# create coloring from image\n",
        "image_colors = ImageColorGenerator(alice_mask)\n",
        "plt.figure(figsize=[7,7])\n",
        "plt.imshow(wordcloud_por.recolor(color_func=image_colors), interpolation=\"bilinear\")\n",
        "plt.axis(\"off\")\n",
        "\n",
        "# store to file\n",
        "plt.savefig(\"imggg.png\", format=\"png\")\n",
        "#plt.show()\n",
        "'''"
      ],
      "metadata": {
        "colab": {
          "base_uri": "https://localhost:8080/",
          "height": 70
        },
        "id": "yCJAkXa-KYK1",
        "outputId": "157d2eb3-0b84-4e41-dd3a-4cfa974d4984"
      },
      "execution_count": null,
      "outputs": [
        {
          "output_type": "execute_result",
          "data": {
            "text/plain": [
              "'\\nfrom wordcloud import WordCloud, STOPWORDS, ImageColorGenerator\\nwordcloud_por = WordCloud(stopwords=stopwords, background_color=\"white\", max_words=200, mask=alice_mask).generate(text)\\n\\n# create coloring from image\\nimage_colors = ImageColorGenerator(alice_mask)\\nplt.figure(figsize=[7,7])\\nplt.imshow(wordcloud_por.recolor(color_func=image_colors), interpolation=\"bilinear\")\\nplt.axis(\"off\")\\n\\n# store to file\\nplt.savefig(\"imggg.png\", format=\"png\")\\n#plt.show()\\n'"
            ],
            "application/vnd.google.colaboratory.intrinsic+json": {
              "type": "string"
            }
          },
          "metadata": {},
          "execution_count": 33
        }
      ]
    },
    {
      "cell_type": "code",
      "source": [
        "\n"
      ],
      "metadata": {
        "id": "_8k3ba-3j5cy",
        "outputId": "f5993579-aa94-4974-9f86-5b5d38eb11c9",
        "colab": {
          "base_uri": "https://localhost:8080/"
        }
      },
      "execution_count": null,
      "outputs": [
        {
          "output_type": "stream",
          "name": "stdout",
          "text": [
            "18\n",
            "{'ROBERT BOSCH GMBH': 7, 'FRAUNHOFER GESELLSCHAFT ZUR FORDERUNG DER ANGEWANDTEN FORSCHUNG EV': 4, 'AVL LIST GMBH': 3, 'INFINEON TECHNOLOGIES AUSTRIA  AG': 2, 'VIRTUAL VEHICLE RESEARCH GMBH': 2, 'MATERIALS CENTER LEOBEN FORSCHUNG GMBH': 2, 'INFINEON TECHNOLOGIES AG': 2, 'SEMIKRON ELEKTRONIK GMBH & CO. KG': 2, 'ION BEAM SERVICES': 2, 'COMMISSARIAT A L ENERGIE ATOMIQUE ET AUX ENERGIES ALTERNATIVES': 2, 'AIXTRON SE': 2, 'EV GROUP E. THALLNER GMBH': 2, 'CONSORZIO NAZIONALE INTERUNIVERSITARIO PER LA NANOELETTRONICA': 2, 'UNIVERSITA DEGLI STUDI DI MODENA E REGGIO EMILIA': 2, 'CENTRE NATIONAL DE LA RECHERCHE SCIENTIFIQUE CNRS': 2, 'UNIVERSITE DE LILLE': 2, 'ARKEMA FRANCE SA': 2, 'VRIJE UNIVERSITEIT BRUSSEL': 2}\n",
            "True\n"
          ]
        }
      ]
    },
    {
      "cell_type": "code",
      "source": [
        "\n",
        "def getKeysByValue(dictOfElements, valueToFind):\n",
        "    listOfKeys = list()\n",
        "    listOfItems = dictOfElements.items()\n",
        "    for item  in listOfItems:\n",
        "        if item[1] == valueToFind:\n",
        "            listOfKeys.append(item[0])\n",
        "    return  listOfKeys\n",
        "#d = dict()\n",
        "listOfKeys = getKeysByValue(d, 2)\n",
        "print(\"Keys with value equal to 7: \")\n",
        "#Iterate over the list of keys\n",
        "for key  in listOfKeys:\n",
        "        print(key)"
      ],
      "metadata": {
        "id": "stEfEL4Ukv2r",
        "outputId": "119ce0b7-50cc-4b55-d560-aa0e8846b41e",
        "colab": {
          "base_uri": "https://localhost:8080/"
        }
      },
      "execution_count": null,
      "outputs": [
        {
          "output_type": "stream",
          "name": "stdout",
          "text": [
            "Keys with value equal to 7: \n",
            "INFINEON TECHNOLOGIES AUSTRIA  AG\n",
            "VIRTUAL VEHICLE RESEARCH GMBH\n",
            "MATERIALS CENTER LEOBEN FORSCHUNG GMBH\n",
            "INFINEON TECHNOLOGIES AG\n",
            "SEMIKRON ELEKTRONIK GMBH & CO. KG\n",
            "ION BEAM SERVICES\n",
            "COMMISSARIAT A L ENERGIE ATOMIQUE ET AUX ENERGIES ALTERNATIVES\n",
            "AIXTRON SE\n",
            "EV GROUP E. THALLNER GMBH\n",
            "CONSORZIO NAZIONALE INTERUNIVERSITARIO PER LA NANOELETTRONICA\n",
            "UNIVERSITA DEGLI STUDI DI MODENA E REGGIO EMILIA\n",
            "CENTRE NATIONAL DE LA RECHERCHE SCIENTIFIQUE CNRS\n",
            "UNIVERSITE DE LILLE\n",
            "ARKEMA FRANCE SA\n",
            "VRIJE UNIVERSITEIT BRUSSEL\n"
          ]
        }
      ]
    },
    {
      "cell_type": "code",
      "source": [
        "from posixpath import join\n",
        "import pptx.util\n",
        "from PIL import Image\n",
        "\n",
        "#mind. eines von folgenden Modulen wird benötigt\n",
        "from pptx import Presentation\n",
        "from pptx.chart.data import ChartData\n",
        "from pptx.enum.chart import XL_CHART_TYPE, XL_LABEL_POSITION\n",
        "from pptx.enum.shapes import MSO_SHAPE_TYPE\n",
        "from pptx.util import Cm\n",
        "from pptx.dml.color import RGBColor\n",
        "\n",
        "REPLACEMENT_IMG=\"Herunterladen.jpg\"\n",
        "\n",
        "prs  = Presentation('/content/Vorlage.pptx')\n",
        "counter = 0\n",
        "'''\n",
        "x=shape.left\n",
        "y=shape.top\n",
        "width=shape.width\n",
        "height=shape.height\n",
        "'''\n",
        "Liste=np.empty((0,4),int)\n",
        "\n",
        "slide = prs.slides[2]\n",
        "pic = slide.shapes.add_picture(\"/content/kat.png\", 2000000, 1000000, 8000000, 4000000)\n",
        "\n",
        "for shape in prs.slides[3].shapes:\n",
        "  if not shape.has_text_frame:\n",
        "    slide = prs.slides[3]\n",
        "    t=[[shape.left,shape.top,shape.width,shape.height]]\n",
        "    Liste = np.append(Liste,t,axis=0)\n",
        "    pic = shape._element\n",
        "    pic.getparent().remove(pic)\n",
        "    print(type(shape))\n",
        "    #if counter==2:\n",
        "    #  shape.add_chart().chart#replace_data()\n",
        "\n",
        "    #print(shape.text)\n",
        "    counter+=1\n",
        "    continue\n",
        "\n",
        "  #print(type(shape))\n",
        "  #print(shape.text)\n",
        "\n",
        "\n",
        "  if \"Vaillant GmbH\" in shape.text:\n",
        "    shape.text_frame.paragraphs[0].runs[0].text = b0\n",
        "\n",
        "  if \"Unternehmenseckzahlen\" in shape.text:\n",
        "    print(len(shape.text_frame.paragraphs))\n",
        "    shape.text_frame.paragraphs[0].runs[0].text = shape.text_frame.paragraphs[0].runs[0].text.replace(\"2020\", e1)\n",
        "    shape.text_frame.paragraphs[1].runs[0].text = shape.text_frame.paragraphs[1].runs[0].text.replace(\"Remscheid\", c)\n",
        "    shape.text_frame.paragraphs[2].runs[0].text = shape.text_frame.paragraphs[2].runs[0].text.replace(\"2,7\", d2a)\n",
        "    shape.text_frame.paragraphs[3].runs[0].text = shape.text_frame.paragraphs[3].runs[0].text.replace(\"15.000\", d1a)\n",
        "    #shape.text_frame.paragraphs[4].runs[0].text = shape.text_frame.paragraphs[4].runs[0].text\n",
        "    for i in range(6,len(shape.text_frame.paragraphs)):\n",
        "      for j in range(0,len(shape.text_frame.paragraphs[i].runs)):\n",
        "        #print(\"i: \", i, \" j: \", j)\n",
        "        #print(shape.text_frame.paragraphs[i].runs[j].text)\n",
        "        shape.text_frame.paragraphs[i].runs[j].text = \"\"\n",
        "\n",
        "\n",
        "  if \"7 EU Projekte\" in shape.text:\n",
        "    text001=\"7 von 158\" + \" EU Projekte im Zeitraum von \" + str(Nulla) + \" - \" + str(Nullb) + \" mit einem \"\n",
        "    text002=\"EU-Zuschuss\"\n",
        "    text003=\" von insgesamt \"\n",
        "    text004=str(ggg) + \" Mio € (\"\n",
        "    text005=str(list(set(datacb))) + \"); Letztes Projekt \" + str(gg) + \"; Keine Projektkoordination; \" + str(cou) \\\n",
        "    + \" verschiedene Konsortialpartner in \" + str(len(set(dataca))) + \" Ländern.\"\n",
        "\n",
        "\n",
        "    shape.text = \"foobar\"\n",
        "    text_frame = shape.text_frame\n",
        "    text_frame.clear()\n",
        "    p = text_frame.paragraphs[0]\n",
        "\n",
        "    p.add_run().text = text001\n",
        "    p.runs[0].font.bold = False\n",
        "    p.add_run().text = text002\n",
        "    p.runs[1].font.bold = True\n",
        "    p.add_run().text = text003\n",
        "    p.runs[2].font.bold = False\n",
        "    p.add_run().text = text004\n",
        "    p.runs[3].font.bold = True\n",
        "    p.add_run().text = text005\n",
        "    p.runs[4].font.bold = False\n",
        "\n",
        "    print(\"jj: \", shape.text)\n",
        "\n",
        "    #print(shape.text_frame.paragraphs[0].runs[0].text)\n",
        "    #print(len(shape.text_frame.paragraphs[0].runs), \"LLLL\")\n",
        "    '''\n",
        "    shape.text = shape.text.replace(\"7 EU Projekte\", \"7 von 158 EU Projekte\")\n",
        "    shape.text = shape.text.replace(\"Zeitraum von 1.4.2012 - 30.9.2023\", \"Zeitraum von \" + str(Nulla) + str(Nullb))\n",
        "    shape.text = shape.text.replace(\"insgesamt 3,5\", \"insgesamt \" + str(ggg))\n",
        "    shape.text = shape.text.replace(\"(FP7 und H2020)\", \"(\"+str(list(set(datacb)))+\")\")\n",
        "    shape.text = shape.text.replace(\"Letztes Projekt 2019\", \"Letztes Projekt \" + str(gg))\n",
        "    shape.text = shape.text.replace(\"154 v\", str(cou) + \" v\")\n",
        "    shape.text = shape.text.replace(\"16 L\", str(len(set(dataca))) + \" L\")\n",
        "    '''\n",
        "    for paragraph in shape.text_frame.paragraphs:\n",
        "      paragraph.font.name = 'Thaoma'\n",
        "      paragraph.font.size = Pt(14)\n",
        "      paragraph.font.bold = True\n",
        "\n",
        "  if \"Ersten 5 EU-Kennwörter: \" in shape.text:\n",
        "\n",
        "    #for i in range(0,5):\n",
        "      #KeyString=\"K\"+str(i+1)\n",
        "      #print(\"33333: \", shape.text_frame.paragraphs[2].runs[3].text)\n",
        "      #print(KeyString)\n",
        "      #print(shape.text_frame.paragraphs[2].runs[4+i*2].text.replace(KeyString, Keywords[i]))\n",
        "      shape.text_frame.paragraphs[2].runs[3].text = \"1) \"+Keywords[0]+\" 2) \"+Keywords[1]+\" 3) \"+Keywords[2]+\" 4) \"+Keywords[3]+\" 5) \"+Keywords[4]\n",
        "      #print(Keywords[i])\n",
        "      #print(shape.text_frame.paragraphs[2].runs[4+i*2].text)\n",
        "    \n",
        "  if \"Unternehmenskennzahl):  \" in shape.text:\n",
        "    shape.text = shape.text.replace(str(986263312), pic0)\n",
        "    for paragraph in shape.text_frame.paragraphs:\n",
        "      paragraph.font.name = 'Thaoma'\n",
        "      paragraph.font.size = Pt(12)\n",
        "      paragraph.font.bold = False\n",
        "\n",
        "    '''\n",
        "    for i in range(0,len(shape.text_frame.paragraphs)):\n",
        "      for j in range(0,len(shape.text_frame.paragraphs[i].runs)):\n",
        "        print(\"i: \", i, \" j: \", j)\n",
        "        print(shape.text_frame.paragraphs[i].runs[j].text)\n",
        "    '''\n",
        "\n",
        "#shape = slide.shapes.add_chart(style, type, Liste[1][0], Liste[1][1], Liste[1][2], Liste[1][3])\n",
        "\n",
        "#pic = slide.shapes.add_picture(\"Herunterladen.jpg\", x, y, width, height)\n",
        "pic = slide.shapes.add_picture(\"/content/logo.png\", Liste[1][0], Liste[1][1], Liste[1][2], Liste[1][3])\n",
        "\n",
        "\n",
        "\n",
        "chart = slide.shapes.add_chart(XL_CHART_TYPE.COLUMN_CLUSTERED, Liste[3][0], Liste[3][1], Liste[3][2], Liste[3][3], chart_data)\n",
        "chart2 = slide.shapes.add_chart(XL_CHART_TYPE.BAR_CLUSTERED, Liste[2][0], Liste[2][1], Liste[2][2], Liste[2][3], chart_data2)\n",
        "\n",
        "chart.chart.category_axis.tick_labels.font.size = Pt(8)#100000\n",
        "chart.chart.category_axis.tick_labels.font.name = 'Thaoma'\n",
        "chart.chart.has_title = False\n",
        "chart.chart.series[0].format.fill.solid()\n",
        "chart.chart.series[0].format.fill.fore_color.rgb = RGBColor(0,60,100)\n",
        "#chart.chart.vary_by_categories = False\n",
        "\n",
        "chart2.chart.category_axis.tick_labels.font.size = Pt(8)#100000\n",
        "chart2.chart.category_axis.tick_labels.font.name = 'Thaoma'\n",
        "chart2.chart.has_title = False\n",
        "chart2.chart.series[0].format.fill.solid()\n",
        "chart2.chart.series[0].format.fill.fore_color.rgb = RGBColor(0,60,100)\n",
        "\n",
        "#Seite 4:\n",
        "counter = 0\n",
        "counter2 = 0\n",
        "Liste1=np.empty((0,4),int)\n",
        "for shape in prs.slides[4].shapes:\n",
        "  if shape.has_text_frame:\n",
        "    #print(counter2, shape.text)\n",
        "    if \"Vaillant GmbH\" in shape.text:\n",
        "      shape.text_frame.paragraphs[0].runs[0].text = b0\n",
        "    if counter2 >= 5 and counter2 <= 11:\n",
        "      shape.text = \"foobar\"\n",
        "      text_frame = shape.text_frame\n",
        "      text_frame.clear()\n",
        "      p = text_frame.paragraphs[0]\n",
        "      \n",
        "      p.add_run().text = dataS4[counter2-5] + \"\\n\"\n",
        "      p.runs[0].font.color.rgb = RGBColor(80,95,100)#0x3F, 0x2c, 0x36)\n",
        "      p.runs[0].font.name = 'Thaoma'\n",
        "      p.runs[0].font.bold = True\n",
        "      p.runs[0].font.size = Pt(12)\n",
        "      p.add_run().text = \"Gesamtvolumen  \" + str(round(float(dataS4w[counter2-5])/1000000.0,1)) + \" Mio € | EU-Förderquote \" +\\\n",
        "      str(round(100*float(dataS4q[counter2-5])/float(dataS4w[counter2-5]),1)) + \"% | \" + str(round(dataS4e[counter2-5])) + \" Konsortialpartner\"\n",
        "      #print(\"Gesamtvolumen  \" + str(round(float(dataS4w[counter2-5])/1000000.0,1)) + \" Mio € | EU-Förderquote \" +\\\n",
        "      #str(round(100*float(dataS4q[counter2-5])/float(dataS4w[counter2-5]),1)) + \"% | \" + str(round(dataS4e[counter2-5])) + \" Konsortialpartner\")\n",
        "      p.runs[1].font.color.rgb = RGBColor(80,95,100)#0x3F, 0x2c, 0x36)\n",
        "      p.runs[1].font.bold = False\n",
        "      p.runs[1].font.size = Pt(12)\n",
        "      #print(shape.text)\n",
        "    counter2 += 1\n",
        "\n",
        "  #Namen in dataS4 gespeichert\n",
        "\n",
        "  #print(shape)\n",
        "  if not shape.has_text_frame:\n",
        "    #if counter == 1:\n",
        "    #print(\"qqq\", shape)\n",
        "    slide = prs.slides[4]\n",
        "    t=[[shape.left,shape.top,shape.width,shape.height]]\n",
        "    #print(t)\n",
        "    Liste1 = np.append(Liste1,t,axis=0)\n",
        "    pic = shape._element\n",
        "    pic.getparent().remove(pic)\n",
        "\n",
        "    counter+=1\n",
        "    continue\n",
        "\n",
        "#print(\"hhh: \", Liste1)\n",
        "pic = slide.shapes.add_picture(\"/content/wordC.png\", Liste1[1][0], Liste1[1][1], Liste1[1][2], Liste1[1][3]) #wordC.png\n",
        "\n",
        "#Seite5\n",
        "'''\n",
        "counter5=0\n",
        "slide = prs.slides[5]\n",
        "for shape in prs.slides[5].shapes:\n",
        "  if shape.shape_type == MSO_SHAPE_TYPE.GROUP:\n",
        "    for s in shape:\n",
        "      print(s.text)\n",
        "\n",
        "\n",
        "\n",
        "group_shapes = [\n",
        "  shape for shape in slide.shapes\n",
        "  if shape.shape_type == MSO_SHAPE_TYPE.GROUP\n",
        "]\n",
        "print(len(group_shapes))\n",
        "\n",
        "for group_shape in group_shapes:\n",
        "  for shape in group_shape.shapes:\n",
        "    if shape.has_text_frame:\n",
        "      print(shape.text)\n",
        "\n",
        "'''\n",
        "\n",
        "#print(group_shapes)\n",
        "#print(group_shapes.text)\n",
        "'''\n",
        "  for group_shape in group_shapes:\n",
        "        for shape in group_shape.shapes:\n",
        "            if shape.has_text_frame:\n",
        "                print(shape.text)\n",
        "'''\n",
        "#counteer=0\n",
        "bool1=True\n",
        "for shape in prs.slides[5].shapes:\n",
        "  #counter5+=1\n",
        "  #print(\"TEST: \", counter5, shape)\n",
        "  if shape.has_text_frame:\n",
        "    #print(\"TEEEST: \", counter5, shape.text)\n",
        "    print(\"RRR: \", shape.text)\n",
        "    if \"Vaillant GmbH\" in shape.text:\n",
        "      shape.text_frame.paragraphs[0].runs[0].text = b0\n",
        "\n",
        "    '''\n",
        "    if \"COMTES\" in shape.text:\n",
        "      shape.text_frame.paragraphs[0].runs[0].text = str(mT[0])+str(qyT[0])\n",
        "    if \"ene.field\" in shape.text:\n",
        "      shape.text_frame.paragraphs[0].runs[0].text = str(mT[1])+str(qyT[1])\n",
        "    if \"iNSPiRe\" in shape.text:\n",
        "      shape.text_frame.paragraphs[0].runs[0].text = str(mT[2])+str(qyT[2])\n",
        "    if \"CREATE\" in shape.text:\n",
        "      shape.text_frame.paragraphs[0].runs[0].text = str(mT[3])+str(qyT[3])\n",
        "    if \"HEATSTACK\" in shape.text:\n",
        "      shape.text_frame.paragraphs[0].runs[0].text = str(mT[4])+str(qyT[4])\n",
        "    if \"PACE\" in shape.text:\n",
        "      shape.text_frame.paragraphs[0].runs[0].text = str(mT[5])+str(qyT[5])\n",
        "    if \"InterConnect\" in shape.text:\n",
        "      shape.text_frame.paragraphs[0].runs[0].text = str(mT[6])+str(qyT[6])\n",
        "    '''\n",
        "\n",
        "    if bool1==True:\n",
        "      h = shape.text_frame.add_paragraph()\n",
        "      h.text = \"AKRO: \" + str(mT)\n",
        "      h = shape.text_frame.add_paragraph()\n",
        "      h.text = \"nonEcContribution: \" + str(mT1)\n",
        "      h = shape.text_frame.add_paragraph()\n",
        "      h.text = \"nonEcContribution: \" + str(mT2)\n",
        "      h = shape.text_frame.add_paragraph()\n",
        "      h.text = \"VON: \" + str(datesa)\n",
        "      h = shape.text_frame.add_paragraph()\n",
        "      h.text = \"BIS: \" + str(datesb)\n",
        "      hh = shape.text_frame.add_paragraph()\n",
        "      hh.text = \"ZSM: \" + str(qyT)\n",
        "      bool1=False\n",
        "      print(qyT)\n",
        "\n",
        "#Seite6\n",
        "counter = 0\n",
        "counter2 = 0\n",
        "Liste6=np.empty((0,4),int)\n",
        "dict6 = dict()\n",
        "for shape in prs.slides[6].shapes:\n",
        "  if not shape.has_text_frame and counter2 <2:\n",
        "    slide = prs.slides[6]\n",
        "    t=[[shape.left,shape.top,shape.width,shape.height]]\n",
        "    Liste6 = np.append(Liste6,t,axis=0)\n",
        "    pic = shape._element\n",
        "    pic.getparent().remove(pic)\n",
        "    print(\"REMOVE\")\n",
        "    print(type(shape))\n",
        "    counter2+=1\n",
        "    continue\n",
        "  if shape.has_text_frame:\n",
        "    #print(shape.text)\n",
        "    if \"Vaillant GmbH\" in shape.text:\n",
        "      shape.text_frame.paragraphs[0].runs[0].text = b0\n",
        "    if \"Partner in einem\" in shape.text or \"Partner in zwei\" in shape.text or \"Partner in drei\" in shape.text:\n",
        "      shape.text = \"foobar\"\n",
        "      text_frame = shape.text_frame\n",
        "      text_frame.clear()\n",
        "      #p = text_frame.paragraphs[0]\n",
        "    if \"Zusammenarbeit in 3\" in shape.text:\n",
        "      shape.text = \"foobar\"\n",
        "      text_frame = shape.text_frame\n",
        "      text_frame.clear()\n",
        "\n",
        "      for o in reversed(range(1,7)):\n",
        "        #print(o)\n",
        "        if o in d.values():\n",
        "          text_frame.add_paragraph()\n",
        "          p = text_frame.paragraphs[2*counter]#2*counter\n",
        "          p.level = 0\n",
        "          p.add_run().text = \"Zusammenarbeit in \" + str(o) + \" von 7 Projekten\" + \"\\n\"\n",
        "          p.runs[0].font.color.rgb = RGBColor(80,95,100)#0x3F, 0x2c, 0x36)\n",
        "          p.runs[0].font.name = 'Thaoma'\n",
        "          p.runs[0].font.bold = True\n",
        "          p.runs[0].font.size = Pt(14)\n",
        "          text_frame.add_paragraph()\n",
        "          p = text_frame.paragraphs[2*counter+1]\n",
        "          p.level = 1\n",
        "          p.add_run().text = str(getKeysByValue(d, o)) + \"\\n\"\n",
        "          p.runs[0].font.color.rgb = RGBColor(80,95,100)#0x3F, 0x2c, 0x36)\n",
        "          p.runs[0].font.name = 'Thaoma'\n",
        "          p.runs[0].font.bold = True\n",
        "          p.runs[0].font.size = Pt(12)\n",
        "          dict6.update({str(o): str(getKeysByValue(d, o))})\n",
        "          #Liste6b = np.append(Liste6b,t,axis=0)\n",
        "          counter += 1\n",
        "        if o==1:\n",
        "          text_frame.add_paragraph()\n",
        "          p = text_frame.paragraphs[2*counter]\n",
        "          p.level = 0\n",
        "          p.add_run().text = \"Mit den übrigen \" + str(len(PartiSet) - len(Partix)) + \" der insgesamt \"+ str(len(PartiSet)) +\" Projektpartnern wurde jeweils nur in einem Projekt zusammengearbeitet.\"\n",
        "          #\"Zusammenarbeit in \" + str(o) + \" von 7 Projekten\" + \"\\n\"\n",
        "          p.runs[0].font.color.rgb = RGBColor(80,95,100)#0x3F, 0x2c, 0x36)\n",
        "          p.runs[0].font.name = 'Thaoma'\n",
        "          p.runs[0].font.bold = True\n",
        "          p.runs[0].font.size = Pt(14)\n",
        "#print(\"aa\")\n",
        "\n",
        "print(Liste6, Liste6.shape)\n",
        "chart3 = prs.slides[6].shapes.add_chart(XL_CHART_TYPE.PIE_EXPLODED, Liste6[1][0], Liste6[1][1], Liste6[1][2]+100, Liste6[1][3]+100, chart_data3)\n",
        "#chart3.chart.category_axis.tick_labels.font.size = Pt(8)#100000\n",
        "#chart3.chart.category_axis.tick_labels.font.name = 'Thaoma'\n",
        "chart3.chart.has_title = False\n",
        "chart3.chart.series[0].format.fill.solid()\n",
        "chart3.chart.series[0].format.fill.fore_color.rgb = RGBColor(0,60,100)\n",
        "#chart.chart.vary_by_categories = False\n",
        "chart3.chart.series[0].data_labels.show_category_name = True\n",
        "chart3.chart.series[0].data_labels.position = XL_LABEL_POSITION.BEST_FIT#OUTSIDE_END\n",
        "chart3.chart.series[0].data_labels.font.color.rgb = RGBColor(80,95,100)\n",
        "#Partix\n",
        "\n",
        "#2.Teil:\n",
        "name1=\"H2020\"\n",
        "name2=\"COMTES\"\n",
        "name3=\"abgeschlossen\"\n",
        "for p in range(0,8):\n",
        "  for shape in prs.slides[9+p*2].shapes:\n",
        "    if shape.has_text_frame:\n",
        "      #print(shape.text)\n",
        "      if \"Vaillant GmbH\" in shape.text:#Vaillant GmbH: H2020-Projekt COMTES (abgeschlossen)\n",
        "        shape.text_frame.paragraphs[0].runs[0].text = b0 + qyT[p]#\": \"+name1+\"-Projekt \"+name2+\" (\"+name3+\")\"\n",
        "      if \"The COMTES project\" in shape.text:\n",
        "        shape.text_frame.paragraphs[0].runs[0].text = qy[p]\n",
        "      if \"gghh\" in shape.text:\n",
        "        z = shape.text_frame.paragraphs[0].runs[0]\n",
        "        z.text = 'link to data @ cordis'\n",
        "        hlink = z.hyperlink\n",
        "        hlink.address = 'https://cordis.europa.eu/project/id/' + str(RB_ID[p]) \n",
        "        #r = shape.text_frame.paragraphs[0].add_run()#.runs[0]\n",
        "        #r.text = \n",
        "        #r.hyperlink.adress = 'https://cordis.europa.eu/project/id/' + str(RB_ID[p])\n",
        "\n",
        "'''\n",
        "r = p.add_run()\n",
        "r.text = 'https://cordis.europa.eu/project/id/' + BllA\n",
        "hlink = r.hyperlink\n",
        "hlink.address = 'https://github.com/scanny/python-pptx'\n",
        "'''\n",
        "\n",
        "#chart.set_x_axis({'name': 'Index', 'num_font':  {'rotation': 45}})\n",
        "#{'type': 'column'}\n",
        "print(\"Position not shape.has_text_frame\", Liste)\n",
        "prs.save(\"testp.pptx\") # save changes"
      ],
      "metadata": {
        "id": "tfjpLavOQTSm",
        "outputId": "b2e5dfca-ef4d-4936-a1bc-2a70297aadfa",
        "colab": {
          "base_uri": "https://localhost:8080/"
        }
      },
      "execution_count": null,
      "outputs": [
        {
          "output_type": "stream",
          "name": "stdout",
          "text": [
            "<class 'pptx.shapes.graphfrm.GraphicFrame'>\n",
            "<class 'pptx.shapes.picture.Picture'>\n",
            "12\n",
            "jj:  7 von 158 EU Projekte im Zeitraum von 2011-05-01 - 2024-04-30 mit einem EU-Zuschuss von insgesamt 57.5 Mio € (['H2020', 'FP7']); Letztes Projekt 2021; Keine Projektkoordination; 133 verschiedene Konsortialpartner in 14 Ländern.\n",
            "<class 'pptx.shapes.graphfrm.GraphicFrame'>\n",
            "<class 'pptx.shapes.graphfrm.GraphicFrame'>\n",
            "RRR:  Vaillant GmbH\n",
            "['Power Semiconductor and Electronics Manufacturing 4.0'\n",
            " 'Trusted European SiC Value Chain for a greener Economy'\n",
            " 'Vertical GaN on Silicon: Wide Band Gap Power at Silicon Cost'\n",
            " 'Five Volt Lithium Ion Batteries with Silicon Anodes produced for Next Generation Electric Vehicles'\n",
            " 'POWER SoC With Integrated PassivEs'\n",
            " 'Smart Battery Control System based on a Charge-equalization Circuit for an advanced Dual-Cell Battery for Electric Vehicles'\n",
            " 'Haptic Printed and Patterned Interfaces for Sensitive Surface']\n",
            "RRR:  EU-Projekte im zeitlichen Verlauf\n",
            "RRR:  6\n",
            "RRR:  2012\n",
            "RRR:  2013\n",
            "RRR:  2014\n",
            "RRR:  2015\n",
            "RRR:  2016\n",
            "RRR:  2017\n",
            "RRR:  2018\n",
            "RRR:  2019\n",
            "RRR:  2020\n",
            "RRR:  2021\n",
            "RRR:  2022\n",
            "RRR:  2023\n",
            "RRR:  \n",
            "RRR:  126 T€\n",
            "RRR:  2,9\n",
            "Mio €\n",
            "RRR:  Funding Profile - Vaillant\n",
            "RRR:  \n",
            "RRR:  Projektlaufzeit\n",
            "RRR:  EU-Zuschuss für das betrachtete Unternehmen\n",
            "RRR:  < 100 T€\n",
            "RRR:  100 T€ - 1 Mio €\n",
            "RRR:  > 1 Mio €\n",
            "RRR:  Legende\n",
            "RRR:  Vertraulich C1\n",
            "RRR:  Informationen\n",
            "REMOVE\n",
            "<class 'pptx.shapes.graphfrm.GraphicFrame'>\n",
            "REMOVE\n",
            "<class 'pptx.shapes.graphfrm.GraphicFrame'>\n",
            "[[   1588    1588    1588    1588]\n",
            " [4666459 2584244 2974490 2216013]] (2, 4)\n",
            "Position not shape.has_text_frame [[   1588    1588    1588    1588]\n",
            " [ 647700 1307198 3457575  926659]\n",
            " [7917136 2734560 3790950 2333950]\n",
            " [4888043 2754117 3029093 2187995]]\n"
          ]
        }
      ]
    },
    {
      "cell_type": "code",
      "source": [
        "#PIE Chart\n",
        "'''\n",
        "from pptx import Presentation\n",
        "from pptx.chart.data import ChartData\n",
        "from pptx.enum.chart import XL_CHART_TYPE, XL_LABEL_POSITION\n",
        "from pptx.util import Inches\n",
        "\n",
        "# create presentation with 1 slide ------\n",
        "prs = Presentation()\n",
        "slide = prs.slides.add_slide(prs.slide_layouts[5])\n",
        "\n",
        "chart_data = ChartData()\n",
        "chart_data.categories = ['West', 'East', 'North', 'South', 'Other']\n",
        "chart_data.add_series('Series 1', (0.135, 0.324, 0.180, 0.235, 0.126))\n",
        "\n",
        "x, y, cx, cy = Inches(2), Inches(2), Inches(6), Inches(4.5)\n",
        "chart = slide.shapes.add_chart(\n",
        "    XL_CHART_TYPE.PIE, x, y, cx, cy, chart_data\n",
        ").chart\n",
        "\n",
        "chart.has_legend = False\n",
        "\n",
        "# set labels to contain category and value\n",
        "for i in range(len(chart_data.categories)):\n",
        "    point = chart.series[0].points[i]\n",
        "    point.data_label.text_frame.text = \"{}: {:.0%}\".format(chart_data.categories[i].label, chart.series[0].values[i])\n",
        "    point.data_label.position = XL_LABEL_POSITION.OUTSIDE_END\n",
        "\n",
        "prs.save('chart-01.pptx')\n",
        "'''"
      ],
      "metadata": {
        "id": "RBtQ4JjrM4r8"
      },
      "execution_count": null,
      "outputs": []
    }
  ],
  "metadata": {
    "colab": {
      "collapsed_sections": [],
      "name": "Willkommen bei Colaboratory",
      "provenance": [],
      "include_colab_link": true
    },
    "kernelspec": {
      "display_name": "Python 3",
      "name": "python3"
    }
  },
  "nbformat": 4,
  "nbformat_minor": 0
}