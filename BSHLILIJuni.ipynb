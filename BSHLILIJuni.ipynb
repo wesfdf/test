{
  "cells": [
    {
      "cell_type": "markdown",
      "metadata": {
        "id": "view-in-github",
        "colab_type": "text"
      },
      "source": [
        "<a href=\"https://colab.research.google.com/github/wesfdf/test/blob/main/BSHLILIJuni.ipynb\" target=\"_parent\"><img src=\"https://colab.research.google.com/assets/colab-badge.svg\" alt=\"Open In Colab\"/></a>"
      ]
    },
    {
      "cell_type": "code",
      "source": [
        "!pip install python-pptx\n",
        "!pip install cairosvg"
      ],
      "metadata": {
        "id": "nTfR_SzYL_du",
        "outputId": "607e4bee-814b-4722-897a-f8d6aa910e4a",
        "colab": {
          "base_uri": "https://localhost:8080/"
        }
      },
      "execution_count": 501,
      "outputs": [
        {
          "output_type": "stream",
          "name": "stdout",
          "text": [
            "Looking in indexes: https://pypi.org/simple, https://us-python.pkg.dev/colab-wheels/public/simple/\n",
            "Requirement already satisfied: python-pptx in /usr/local/lib/python3.7/dist-packages (0.6.21)\n",
            "Requirement already satisfied: lxml>=3.1.0 in /usr/local/lib/python3.7/dist-packages (from python-pptx) (4.2.6)\n",
            "Requirement already satisfied: XlsxWriter>=0.5.7 in /usr/local/lib/python3.7/dist-packages (from python-pptx) (3.0.3)\n",
            "Requirement already satisfied: Pillow>=3.3.2 in /usr/local/lib/python3.7/dist-packages (from python-pptx) (7.1.2)\n",
            "Looking in indexes: https://pypi.org/simple, https://us-python.pkg.dev/colab-wheels/public/simple/\n",
            "Requirement already satisfied: cairosvg in /usr/local/lib/python3.7/dist-packages (2.5.2)\n",
            "Requirement already satisfied: pillow in /usr/local/lib/python3.7/dist-packages (from cairosvg) (7.1.2)\n",
            "Requirement already satisfied: cssselect2 in /usr/local/lib/python3.7/dist-packages (from cairosvg) (0.6.0)\n",
            "Requirement already satisfied: tinycss2 in /usr/local/lib/python3.7/dist-packages (from cairosvg) (1.1.1)\n",
            "Requirement already satisfied: defusedxml in /usr/local/lib/python3.7/dist-packages (from cairosvg) (0.7.1)\n",
            "Requirement already satisfied: cairocffi in /usr/local/lib/python3.7/dist-packages (from cairosvg) (1.3.0)\n",
            "Requirement already satisfied: cffi>=1.1.0 in /usr/local/lib/python3.7/dist-packages (from cairocffi->cairosvg) (1.15.0)\n",
            "Requirement already satisfied: pycparser in /usr/local/lib/python3.7/dist-packages (from cffi>=1.1.0->cairocffi->cairosvg) (2.21)\n",
            "Requirement already satisfied: webencodings in /usr/local/lib/python3.7/dist-packages (from cssselect2->cairosvg) (0.5.1)\n"
          ]
        }
      ]
    },
    {
      "cell_type": "code",
      "source": [
        "from pptx import Presentation\n",
        "prs  = Presentation('/content/Vorlage.pptx')\n",
        "slide = prs.slides.add_slide(prs.slide_layouts[5])\n",
        "#----------------------- Eleganter über templates!?\n",
        "for s_ in slide.placeholders:\n",
        "    print('ID = {0:d}, Shape name is \\\n",
        "          \"{1:s}\"'.format(s_.placeholder_format.idx,s_.name))"
      ],
      "metadata": {
        "id": "DnRcjbguMFWT",
        "outputId": "cb629902-7432-420e-8d34-dcf5d892e089",
        "colab": {
          "base_uri": "https://localhost:8080/"
        }
      },
      "execution_count": 502,
      "outputs": [
        {
          "output_type": "stream",
          "name": "stdout",
          "text": [
            "ID = 0, Shape name is           \"Title 3\"\n",
            "ID = 1, Shape name is           \"Subtitle 4\"\n",
            "ID = 12, Shape name is           \"Text Placeholder 1\"\n",
            "ID = 13, Shape name is           \"Text Placeholder 2\"\n",
            "ID = 16, Shape name is           \"Text Placeholder 5\"\n"
          ]
        }
      ]
    },
    {
      "cell_type": "code",
      "source": [
        "import cairosvg\n",
        "!curl -o logo.svg https://upload.wikimedia.org/wikipedia/commons/1/16/Bosch-logo.svg #\"https://de.wikipedia.org/wiki/Robert_Bosch_GmbH#/media/Datei:Bosch-logo.svg\" #https://colab.research.google.com/img/colab_favicon_256px.png\n",
        "cairosvg.svg2png(\n",
        "    url=\"https://upload.wikimedia.org/wikipedia/commons/1/16/Bosch-logo.svg\", write_to=\"logo.png\")\n",
        "from google.colab import files as FILE\n",
        "import os\n",
        "import requests\n",
        "from PIL import Image\n",
        "\n",
        "img_data = requests.get(\"https://images.praxisvita.de/augenkrankheiten-sehschwaechen-simulation-beispielbild-katzenbaby,id=3acaf604,b=praxisvita,w=700,rm=sk.webp\").content\n",
        "with open('kat.webp', 'wb') as handler:\n",
        "    handler.write(img_data)\n",
        "\n",
        "img_data = requests.get(\"https://www.designtagebuch.de/wp-content/uploads/mediathek//2019/01/bosch-markenzeichen-1100x825.jpg\").content\n",
        "with open('Bosch.jpg', 'wb') as handler:\n",
        "    handler.write(img_data)\n",
        "\n",
        "img_data = requests.get(\"https://www.designtagebuch.de/wp-content/uploads/mediathek//2019/01/bosch-markenzeichen.jpg\").content\n",
        "with open('Bosch1.jpg', 'wb') as handler:\n",
        "    handler.write(img_data)\n",
        "\n",
        "img_data = requests.get(\"https://www.bosch-diy.com/images/unternehmenslogo-teaser-bosch-diy--c7d43c71b44d4e6998b6a60dd827df60.png?imgWidth=800&scale=1\").content\n",
        "with open('Bosch2.jpg', 'wb') as handler:\n",
        "    handler.write(img_data)\n",
        "\n",
        "image = Image.open('kat.webp')\n",
        "image = image.convert('RGB')\n",
        "image.save('kat.png', 'png')\n",
        "    #handler.save('converting-from-webp-to-png-format.png', 'png')"
      ],
      "metadata": {
        "id": "LhHVdj-QMTMG",
        "outputId": "b8db366d-00ba-425b-c2d1-c74f6ff803d9",
        "colab": {
          "base_uri": "https://localhost:8080/"
        }
      },
      "execution_count": 503,
      "outputs": [
        {
          "output_type": "stream",
          "name": "stdout",
          "text": [
            "  % Total    % Received % Xferd  Average Speed   Time    Time     Time  Current\n",
            "                                 Dload  Upload   Total   Spent    Left  Speed\n",
            "\r  0     0    0     0    0     0      0      0 --:--:-- --:--:-- --:--:--     0\r100  3383  100  3383    0     0  62648      0 --:--:-- --:--:-- --:--:-- 62648\n"
          ]
        }
      ]
    },
    {
      "cell_type": "code",
      "source": [
        "from bs4 import BeautifulSoup\n",
        "\n",
        "URL = 'https://de.wikipedia.org/wiki/Robert_Bosch_GmbH'\n",
        "website = requests.get(URL)\n",
        "soup = BeautifulSoup(website.content, 'html.parser')\n",
        "print(soup.shape)\n",
        "print(type(soup))"
      ],
      "metadata": {
        "id": "6MBLMEYBM1Cv",
        "outputId": "1b2ebd05-e505-42de-9f3e-5c14e804ae30",
        "colab": {
          "base_uri": "https://localhost:8080/"
        }
      },
      "execution_count": 504,
      "outputs": [
        {
          "output_type": "stream",
          "name": "stdout",
          "text": [
            "None\n",
            "<class 'bs4.BeautifulSoup'>\n"
          ]
        }
      ]
    },
    {
      "cell_type": "markdown",
      "source": [
        "https://www.crummy.com/software/BeautifulSoup/bs4/doc/#the-string-argument\n"
      ],
      "metadata": {
        "id": "mZbqnueMOB_y"
      }
    },
    {
      "cell_type": "code",
      "source": [
        "import re\n",
        "a0 = soup.find(\"h1\")\n",
        "a = soup.find(\"a\", text=\"Sitz\")\n",
        "a1 = soup.find(\"a\", text=\"Mitarbeiterzahl\")\n",
        "a2 = soup.find(\"a\", text=\"Umsatz\")\n",
        "#a3 = soup\n",
        "#print(a)\n",
        "#print(type(a))\n",
        "\n",
        "b0 = a0.get_text()\n",
        "b = a.find_next(\"a\")\n",
        "b1 = a1.find_next(\"td\")\n",
        "b2 = a2.find_next(\"td\")\n",
        "print(b0)\n",
        "\n",
        "c = b.get(\"title\")\n",
        "c1 = b1.get_text()\n",
        "c2 = b2.get_text()\n",
        "\n",
        "d1 = re.findall(r'\\(.*?\\)', c1)\n",
        "d1a = c1.split()[0]\n",
        "d2 = re.findall(r'\\(.*?\\)', c2)\n",
        "d2a = c2.split()[0]\n",
        "print(d1a)\n",
        "print(d2a)\n",
        "\n",
        "e1 = d1[0].strip(\"()\")\n",
        "e2 = d2[0].strip(\"()\")\n",
        "if e1 != e2:\n",
        "  print(\"Problem\")\n",
        "else:\n",
        "  print(\"Goo!\")\n",
        "print(e1)"
      ],
      "metadata": {
        "id": "Fx_8PMFPODWc",
        "outputId": "849276a5-e496-406d-e3e3-9d2e9005d4a9",
        "colab": {
          "base_uri": "https://localhost:8080/"
        }
      },
      "execution_count": 505,
      "outputs": [
        {
          "output_type": "stream",
          "name": "stdout",
          "text": [
            "Robert Bosch GmbH\n",
            "401.300\n",
            "78,8\n",
            "Goo!\n",
            "2021\n"
          ]
        }
      ]
    },
    {
      "cell_type": "code",
      "source": [
        "b"
      ],
      "metadata": {
        "colab": {
          "base_uri": "https://localhost:8080/"
        },
        "id": "u0kYDJ4-6qxF",
        "outputId": "d5c7f607-b8a7-4a42-b496-47a7c0591d7d"
      },
      "execution_count": 506,
      "outputs": [
        {
          "output_type": "execute_result",
          "data": {
            "text/plain": [
              "<a href=\"/wiki/Stuttgart\" title=\"Stuttgart\">Stuttgart</a>"
            ]
          },
          "metadata": {},
          "execution_count": 506
        }
      ]
    },
    {
      "cell_type": "markdown",
      "source": [
        "https://www.youtube.com/watch?v=3fcKKZMFbyA"
      ],
      "metadata": {
        "id": "6zqe6R3pOJaZ"
      }
    },
    {
      "cell_type": "code",
      "source": [
        " #BeautifulSoup(requests.get(strIN).text, from_encoding=\"iso-8859-8\")"
      ],
      "metadata": {
        "id": "fu2MG_FAb2tu"
      },
      "execution_count": 507,
      "outputs": []
    },
    {
      "cell_type": "code",
      "source": [
        "#BeautifulSoup(requests.get(compile(strIN)).text              , from_encoding=\"iso-8859-8\""
      ],
      "metadata": {
        "id": "SA1CeZn8ZNyX"
      },
      "execution_count": 508,
      "outputs": []
    },
    {
      "cell_type": "code",
      "source": [
        "import requests\n",
        "import numpy as np\n",
        "\n",
        "'''\n",
        "Firmen_ID=936847438\n",
        "Firmen_Name=\"Lion Smart GMBH\"\n",
        "RB_ID=[821226, 713771]\n",
        "Firmen_ID=986260693\n",
        "Firmen_Name=\"Lithium Balance AS\"\n",
        "RB_ID=[266090,774392,963574,606071,608784,609127,731249,809095,731155]\n",
        "\n",
        "'''\n",
        "Firmen_ID=953573536#BSH1\n",
        "Firmen_Name=\"BSH HAUSGERATE GMBH\"\n",
        "RB_ID=[622478,314630,857237]\n",
        "'''\n",
        "Firmen_ID=911360494#BSH2\n",
        "Firmen_Name=\"BSH ELETTRODOMESTICI SPA\"\n",
        "RB_ID=[958448]\n",
        "\n",
        "Firmen_ID=896458190#BSH4\n",
        "Firmen_Name=\"BSH EV ALETLERI SANAYI VE TICARET ANONIM SIRKETI\"\n",
        "RB_ID=[101006220]\n",
        "\n",
        "Firmen_ID=996491962#BSH3\n",
        "Firmen_Name=\"BSH ELECTRODOMESTICOS ESPANA SA\"\n",
        "RB_ID=[\t603993,\t232287,\t314630,\t675063,\t825132,\t687613,\t876659,\t720897,\t654963,\t232100]\n",
        "\n",
        "Firmen_ID=999908787#Robert Bosch\n",
        "RB_ID=[692466, 101007237, 101007229, 653531, 318529, 285224, 645145]#Projekte von Bosch die interessant sind\n",
        "'''\n",
        "RB_ID=[314630,857237,958448,101006220,603993,232287,314630,675063,825132,687613,876659,720897,654963,232100]\n",
        "\n",
        "b0=Firmen_Name\n",
        "r2 = requests.get(\"https://ec.europa.eu/info/funding-tenders/opportunities/api/orgProfile/data.json?pic=\" + str(Firmen_ID) + \"&refreshIamUser=true\")#Firma\n",
        "#Get the ID From Firma-Website\n",
        "r=[]\n",
        "SOUP=[]\n",
        "for i in RB_ID:\n",
        "  strIN=\"https://cordis.europa.eu/api/details?contenttype=project&rcn=\"+str(i)+\"&lang=en&paramType=id\"\n",
        "  SOUP=np.append(SOUP, BeautifulSoup(requests.get(strIN).text, 'html.parser'))\n",
        "\n",
        "#print(SOUP)\n",
        "r4 = requests.get(\"https://ec.europa.eu/info/funding-tenders/opportunities/api/orgProfile/publicProjects.json?pic=\" + str(Firmen_ID) + \"&refreshIamUser=true\")#PublicProjects\n",
        "r3 = requests.get(\"https://cordis.europa.eu/api/details?contenttype=project&rcn=101007229&lang=en&paramType=id\")#Projekt 1 of 7 of 158 Projects\n",
        "soup2 = BeautifulSoup(r2.text, 'html.parser')\n",
        "soup3 = BeautifulSoup(r3.text, 'html.parser')\n",
        "soup4 = BeautifulSoup(r4.text, 'html.parser')"
      ],
      "metadata": {
        "id": "AdZbB1pOOVz6"
      },
      "execution_count": 509,
      "outputs": []
    },
    {
      "cell_type": "code",
      "source": [
        "strm3=\"acronym\\\":\\\"\"\n",
        "\n",
        "mT = []\n",
        "for i in SOUP:\n",
        "  i3ma = i.find(strm3)\n",
        "  i3mb = i.find(\"\\\",\\\"startDate\")\n",
        "  mT = np.append(mT, i[i3ma+len(strm3):i3mb].encode('unicode-escape').replace(b'\\\\\\\\', b'\\\\').decode('unicode-escape'))\n",
        "print(mT)"
      ],
      "metadata": {
        "colab": {
          "base_uri": "https://localhost:8080/"
        },
        "id": "hBB3FBfO__O6",
        "outputId": "30b93951-1fe9-41e9-da65-d65fb91167cd"
      },
      "execution_count": 510,
      "outputs": [
        {
          "output_type": "stream",
          "name": "stdout",
          "text": [
            "['UV-Marking' 'InterConnect' 'CircThread' 'FRANCIS' 'CORE' 'BADANA'\n",
            " 'UV-Marking' 'LASER4FUN' 'LAMPAS' 'TresClean' 'iRel40' 'NECOMADA'\n",
            " 'ENSUR4LIFE' 'NANOSCRATCH']\n"
          ]
        }
      ]
    },
    {
      "cell_type": "code",
      "source": [
        "strm31a=\"\"#ROBERT BOSCH GMBH\"\n",
        "#strm31a=\"Lithium Balance AS\"#\"Lion Smart GMBH and Lithium Balance AS\"\n",
        "#,\"nonEcContribution\n",
        "strm31b=\"netEcContribution\\\":\"\n",
        "\n",
        "mT1 = []\n",
        "for i in SOUP:\n",
        "  i3ma1a = i.find(strm31a)\n",
        "  i=i[i3ma1a:]\n",
        "  i3ma1b = i.find(strm31b)\n",
        "  i3mb1 = i.find(\",\\\"nonEcContribution\")\n",
        "  mT1 = np.append(mT1, i[i3ma1b+len(strm31b):i3mb1].encode('unicode-escape').replace(b'\\\\\\\\', b'\\\\').decode('unicode-escape'))\n",
        "print(\"netEcContribution: \", mT1)"
      ],
      "metadata": {
        "colab": {
          "base_uri": "https://localhost:8080/"
        },
        "id": "TIhxfrIqA2Cj",
        "outputId": "c8530adb-2d4a-487e-e467-45e623c4eb0d"
      },
      "execution_count": 511,
      "outputs": [
        {
          "output_type": "stream",
          "name": "stdout",
          "text": [
            "netEcContribution:  ['null' '2774871.36' '592750' '814795' 'null' 'null' 'null' 'null'\n",
            " '763252.85' 'null' '3054634' 'null' 'null' 'null']\n"
          ]
        }
      ]
    },
    {
      "cell_type": "code",
      "source": [
        "strm32a=\"\"#ROBERT BOSCH GMBH\"\n",
        "#,\"nonEcContribution\n",
        "strm32b=\"nonEcContribution\\\":\"\n",
        "\n",
        "mT2 = []\n",
        "for i in SOUP:\n",
        "  i3ma2a = i.find(strm32a)\n",
        "  i=i[i3ma2a:]\n",
        "  i3ma2b = i.find(strm32b)\n",
        "  i3mb2 = i.find(\",\\\"formula\")\n",
        "  mT2 = np.append(mT2, i[i3ma2b+len(strm32b):i3mb2].encode('unicode-escape').replace(b'\\\\\\\\', b'\\\\').decode('unicode-escape'))\n",
        "print(\"nonEcContribution: \", mT2)"
      ],
      "metadata": {
        "colab": {
          "base_uri": "https://localhost:8080/"
        },
        "id": "-sNvFAo4Dx8d",
        "outputId": "1f2eee4b-bf71-43a7-eece-490e71da531d"
      },
      "execution_count": 512,
      "outputs": [
        {
          "output_type": "stream",
          "name": "stdout",
          "text": [
            "nonEcContribution:  ['null' '0' '0' '0' 'null' 'null' 'null' 'null' '0' 'null' '12218536'\n",
            " 'null' 'null' 'null']\n"
          ]
        }
      ]
    },
    {
      "cell_type": "code",
      "source": [
        "strqy3=\"title\\\":\\\"\"\n",
        "\n",
        "qyT = []\n",
        "for i in SOUP:\n",
        "  i3qya = i.find(strqy3)\n",
        "  i3qyb = i.find(\"\\\",\\\"acronym\")\n",
        "  qyT = np.append(qyT, i[i3qya+len(strqy3):i3qyb].encode('unicode-escape').replace(b'\\\\\\\\', b'\\\\').decode('unicode-escape'))\n",
        "print(qyT)"
      ],
      "metadata": {
        "colab": {
          "base_uri": "https://localhost:8080/"
        },
        "id": "-8icysshR7jA",
        "outputId": "ccbc584f-88c9-46c6-95ed-e52cd138db78"
      },
      "execution_count": 513,
      "outputs": [
        {
          "output_type": "stream",
          "name": "stdout",
          "text": [
            "['DEVELOPMENT OF NEW UV LASER FOR CUSTOMIZATION AT INDUSTRIAL LEVEL THROUGH HIGH QUALITY MARKING ON DIFFERNT MATERIALS'\n",
            " 'Interoperable Solutions Connecting Smart Homes, Buildings and Grids'\n",
            " 'Building the Digital Thread for Circular Economy Product, Resource & Service Management'\n",
            " 'Frugal Innovation by Citizens for Citizens'\n",
            " 'Consistently Optimised Resilient Secure Global Supply-Chains'\n",
            " 'Development of an automated process to extract fibres from the waste of banana food production for exploitation as a sustainable reinforcement in injection- and rotomoulded products'\n",
            " 'DEVELOPMENT OF NEW UV LASER FOR CUSTOMIZATION AT INDUSTRIAL LEVEL THROUGH HIGH QUALITY MARKING ON DIFFERNT MATERIALS'\n",
            " 'EUROPEAN ESRs NETWORK ON SHORT PULSED LASER MICRO\\\\/NANOSTRUCTURING OF SURFACES'\n",
            " 'High throughput Laser structuring with Multiscale Periodic feature sizes for Advanced Surface Functionalities'\n",
            " 'High ThRoughput lasEr texturing of Self-CLEANing and antibacterial surfaces'\n",
            " 'Intelligent Reliability 4.0'\n",
            " 'Nano-Enabled Conducting Materials Accelerating Device Applicability'\n",
            " 'New engineered surfaces for a better life'\n",
            " 'To develop a scratch resistance coating using a molecular self assembly nanotechnology for plastic products']\n"
          ]
        },
        {
          "output_type": "stream",
          "name": "stderr",
          "text": [
            "/usr/local/lib/python3.7/dist-packages/ipykernel_launcher.py:7: DeprecationWarning: invalid escape sequence '\\/'\n",
            "  import sys\n"
          ]
        }
      ]
    },
    {
      "cell_type": "code",
      "source": [
        "strqy3=\"objective\\\":\\\"\"\n",
        "\n",
        "qy = []\n",
        "#qyS = 0.0\n",
        "for i in SOUP:\n",
        "  i3qya = i.find(strqy3)\n",
        "  i3qyb = i.find(\"\\\",\\\"topics\")\n",
        "  qy = np.append(qy, i[i3qya+len(strqy3):i3qyb].encode('unicode-escape').replace(b'\\\\\\\\', b'\\\\').decode('unicode-escape'))\n",
        "  #qy = np.append(qy, i[i3qya+len(strqy3):i3qyb].replace(\"\\\\u003Cbr\\\\/\\\\u003E\", \"\\\\n \").replace(\"\\\\u201d\", \"\\\"\").replace(\"\\\\u201c\", \"\\\"\").replace(\"\\\\u2019\", \"\\'\").replace(\"\\\\u003E\", \"\\'\").replace(\"\\\\u2018\",\"\\'\").replace(\"\\\\u0022\", \"'\"))\n",
        "  #qyS += float(i[i3qya+len(strqy3):i3qyb])\n",
        "\n",
        "#print(qy)\n",
        "#str(qy[0]).find(\"\\\\u201c\")\n",
        "#print(unicodedata.normalize('NFKD', qy[0]).encode('ascii', 'replace').decode())\n",
        "#print(str(qy[0]).decode())\n",
        "#print(json.loads(str(qy[0])))"
      ],
      "metadata": {
        "colab": {
          "base_uri": "https://localhost:8080/"
        },
        "id": "uOWRP3vXslPn",
        "outputId": "770b193c-96e5-49c7-91b0-00b2d875df56"
      },
      "execution_count": 514,
      "outputs": [
        {
          "output_type": "stream",
          "name": "stderr",
          "text": [
            "/usr/local/lib/python3.7/dist-packages/ipykernel_launcher.py:8: DeprecationWarning: invalid escape sequence '\\/'\n",
            "  \n"
          ]
        }
      ]
    },
    {
      "cell_type": "code",
      "source": [
        "str3=\"ecContribution\\\":\"\n",
        "\n",
        "w = []\n",
        "wS = 0.0\n",
        "for i in SOUP:\n",
        "  i3a = i.find(str3)\n",
        "  i3b = i.find(\",\\\"totalCost\")\n",
        "  w = np.append(w, i[i3a+len(str3):i3b])\n",
        "  wS += float(i[i3a+len(str3):i3b])\n",
        "print(w)\n",
        "ggg = round(wS/1000000.0,1)\n",
        "print(round(wS/1000000.0,1))"
      ],
      "metadata": {
        "id": "xF2wqU7uPm8t",
        "outputId": "2747cb2a-3a0e-4ba6-fd75-79d3ebaa274d",
        "colab": {
          "base_uri": "https://localhost:8080/"
        }
      },
      "execution_count": 515,
      "outputs": [
        {
          "output_type": "stream",
          "name": "stdout",
          "text": [
            "['3657000' '29999513.02' '7994956.75' '2215638.75' '29254828.99' '770409'\n",
            " '3657000' '3567962.52' '5121692.5' '3363091.25' '24565508.93'\n",
            " '6820288.75' '158121.6' '620926.05']\n",
            "121.8\n"
          ]
        }
      ]
    },
    {
      "cell_type": "code",
      "source": [
        "import time\n",
        "from datetime import datetime, timedelta\n",
        "\n",
        "str3a=\"startDateCode\\\":\\\"\"\n",
        "str3b=\"endDateCode\\\":\\\"\"\n",
        "\n",
        "datesa = []\n",
        "datesb = []\n",
        "#dateA = []\n",
        "\n",
        "dictt = []\n",
        "\n",
        "wS = 0.0\n",
        "for i in SOUP:\n",
        "  i3aa = i.find(str3a)\n",
        "  i3ab = i.find(\"\\\",\\\"endDate\")\n",
        "  datea = datetime.strptime(i[i3aa+len(str3a):i3ab], \"%Y-%m-%d\").strftime('%Y-%m-%d')\n",
        "  dictt = np.append(dictt, datetime.strptime(i[i3aa+len(str3a):i3ab], \"%Y-%m-%d\").strftime('%Y'))\n",
        "  i3ba = i.find(str3b)\n",
        "  i3bb = i.find(\"\\\",\\\"website\")\n",
        "  dateb = datetime.strptime(i[i3ba+len(str3b):i3bb], \"%Y-%m-%d\").strftime('%Y-%m-%d')\n",
        "  datesa = np.append(datesa, [datea])\n",
        "  datesb = np.append(datesb, [dateb])\n",
        "  \n",
        "  print(datea, dateb)\n",
        "\n",
        "Nulla=datesa[0]\n",
        "Nullb=datesb[0]\n",
        "for i in datesa:\n",
        "  if (i<Nulla):\n",
        "    Nulla = i\n",
        "for i in datesb:\n",
        "  if (i>Nullb):\n",
        "    Nullb = i\n",
        "\n",
        "print(\"von: \", Nulla, Nullb)\n",
        "\n",
        "NullaE=datesa[0]\n",
        "for i in datesa:\n",
        "  if (i>NullaE):\n",
        "    NullaE = i\n",
        "\n",
        "gg = datetime.strptime(NullaE, \"%Y-%m-%d\").strftime('%Y')\n",
        "print(gg)\n",
        "print(str(gg))\n",
        "print(\"Letztes: \", datetime.strptime(NullaE, \"%Y-%m-%d\").strftime('%Y'))\n"
      ],
      "metadata": {
        "id": "G5C8X4RXPsJc",
        "outputId": "ae38e112-a19c-4285-88aa-7af22415952c",
        "colab": {
          "base_uri": "https://localhost:8080/"
        }
      },
      "execution_count": 516,
      "outputs": [
        {
          "output_type": "stream",
          "name": "stdout",
          "text": [
            "2012-07-01 2015-10-31\n",
            "2019-10-01 2023-09-30\n",
            "2021-06-01 2025-05-31\n",
            "2021-02-01 2024-01-31\n",
            "2014-05-01 2018-06-30\n",
            "2009-07-01 2011-06-30\n",
            "2012-07-01 2015-10-31\n",
            "2015-09-01 2019-08-31\n",
            "2019-01-01 2022-06-30\n",
            "2016-04-01 2020-09-30\n",
            "2020-05-01 2023-04-30\n",
            "2017-01-01 2019-12-31\n",
            "2015-05-01 2017-04-30\n",
            "2009-09-01 2011-08-31\n",
            "von:  2009-07-01 2025-05-31\n",
            "2021\n",
            "2021\n",
            "Letztes:  2021\n"
          ]
        }
      ]
    },
    {
      "cell_type": "code",
      "source": [
        "#my_dict = {i:dictt.count(i) for i in dictt}\n",
        "unique, counts = np.unique(dictt, return_counts=True)\n",
        "dictt2 = dict(zip(unique, counts))"
      ],
      "metadata": {
        "id": "VG9r0Mu9P2nM"
      },
      "execution_count": 517,
      "outputs": []
    },
    {
      "cell_type": "code",
      "source": [
        "strS4a = \"title\\\":\\\"\"\n",
        "strS4b = \"\\\",\\\"acronym\"\n",
        "strS4aq = \"ecContribution\\\":\"\n",
        "strS4bq = \",\\\"totalCost\"\n",
        "strS4aw = \"totalCost\\\":\"\n",
        "strS4bw = \",\\\"contentCreationDate\"\n",
        "dataS4 = []\n",
        "dataS4q = []\n",
        "dataS4w = []\n",
        "dataS4e = []\n",
        "for i in SOUP:\n",
        "  i3ca = i.find(strS4a)\n",
        "  i3cb = i.find(strS4b)\n",
        "  dataS4 = np.append(dataS4, i[i3ca+len(strS4a):i3cb])\n",
        "  i3ca = i.find(strS4aq)\n",
        "  i3cb = i.find(strS4bq)\n",
        "  dataS4q = np.append(dataS4q, i[i3ca+len(strS4aq):i3cb])\n",
        "  i3ca = i.find(strS4aw)\n",
        "  i3cb = i.find(strS4bw)\n",
        "  dataS4w = np.append(dataS4w, i[i3ca+len(strS4aw):i3cb])\n",
        "  a = i.count(\"netEcContribution\")\n",
        "  print(a)\n",
        "  dataS4e = np.append(dataS4e, a-1)\n",
        "print(dataS4)\n",
        "print(dataS4q)\n",
        "print(dataS4w)\n",
        "print(dataS4e)"
      ],
      "metadata": {
        "id": "jPlVQVYuYmE2",
        "outputId": "42755a45-b67d-45ca-f6a8-cc23af220b22",
        "colab": {
          "base_uri": "https://localhost:8080/"
        }
      },
      "execution_count": 518,
      "outputs": [
        {
          "output_type": "stream",
          "name": "stdout",
          "text": [
            "12\n",
            "67\n",
            "35\n",
            "7\n",
            "76\n",
            "12\n",
            "12\n",
            "11\n",
            "8\n",
            "8\n",
            "82\n",
            "13\n",
            "1\n",
            "10\n",
            "['DEVELOPMENT OF NEW UV LASER FOR CUSTOMIZATION AT INDUSTRIAL LEVEL THROUGH HIGH QUALITY MARKING ON DIFFERNT MATERIALS'\n",
            " 'Interoperable Solutions Connecting Smart Homes, Buildings and Grids'\n",
            " 'Building the Digital Thread for Circular Economy Product, Resource \\\\u0026 Service Management'\n",
            " 'Frugal Innovation by Citizens for Citizens'\n",
            " 'Consistently Optimised Resilient Secure Global Supply-Chains'\n",
            " 'Development of an automated process to extract fibres from the waste of banana food production for exploitation as a sustainable reinforcement in injection- and rotomoulded products'\n",
            " 'DEVELOPMENT OF NEW UV LASER FOR CUSTOMIZATION AT INDUSTRIAL LEVEL THROUGH HIGH QUALITY MARKING ON DIFFERNT MATERIALS'\n",
            " 'EUROPEAN ESRs NETWORK ON SHORT PULSED LASER MICRO\\\\/NANOSTRUCTURING OF SURFACES'\n",
            " 'High throughput Laser structuring with Multiscale Periodic feature sizes for Advanced Surface Functionalities'\n",
            " 'High ThRoughput lasEr texturing of Self-CLEANing and antibacterial surfaces'\n",
            " 'Intelligent Reliability 4.0'\n",
            " 'Nano-Enabled Conducting Materials Accelerating Device Applicability'\n",
            " 'New engineered surfaces for a better life'\n",
            " 'To develop a scratch resistance coating using a molecular self assembly nanotechnology for plastic products']\n",
            "['3657000' '29999513.02' '7994956.75' '2215638.75' '29254828.99' '770409'\n",
            " '3657000' '3567962.52' '5121692.5' '3363091.25' '24565508.93'\n",
            " '6820288.75' '158121.6' '620926.05']\n",
            "['5913376' '35793191.38' '9883198.21' '2215638.75' '48852852.38' '1002216'\n",
            " '5913376' '3567962.52' '5121692.5' '3363091.25' '101798216.75'\n",
            " '8101378.75' '158121.6' '872785.91']\n",
            "[11. 66. 34.  6. 75. 11. 11. 10.  7.  7. 81. 12.  0.  9.]\n"
          ]
        }
      ]
    },
    {
      "cell_type": "code",
      "source": [
        "PaStrA = \"\\\",\\\"address\"\n",
        "PaStrB = \"name\\\":\\\"\"\n",
        "Parti = []\n",
        "for i in SOUP:\n",
        "  ii = i\n",
        "  counter = 0\n",
        "  while True:\n",
        "    i3caa = ii.find(PaStrA)\n",
        "    if i3caa == -1:\n",
        "      break\n",
        "    dstr00 = ii[:i3caa]\n",
        "    i3cba = dstr00.rfind(PaStrB)\n",
        "    #print(ii[i3cba+len(PaStrB):i3caa])\n",
        "    #if counter != 0:\n",
        "    blllqq = ii[i3cba+len(PaStrB):i3caa].replace(\"\\\\u0026\", \"&\").replace(\"\\\\u0027\", \"\\'\")#'\n",
        "    Parti = np.append(Parti, blllqq)\n",
        "    ii = ii[i3caa+200:]\n",
        "    counter += 1\n",
        "  \n",
        "PartiSet = list(set(Parti))\n",
        "print(len(Parti))\n",
        "print(len(PartiSet))\n",
        "  #i3ca = i.find(PaStrA)\n",
        "  #ii = i[i3ca-200:]\n",
        "  #i3cb = ii.find(PaStrB)\n",
        "  #print(i[i3ca:])\n",
        "  #Parti = np.append(Parti, ii[i3ca-200+i3cb+len(PaStrB):i3ca])\n",
        "\n",
        "#print(Parti)"
      ],
      "metadata": {
        "id": "CyqwlCVsUicf",
        "outputId": "ee2d29d8-6a55-45de-e75f-77e401ea631c",
        "colab": {
          "base_uri": "https://localhost:8080/"
        }
      },
      "execution_count": 519,
      "outputs": [
        {
          "output_type": "stream",
          "name": "stdout",
          "text": [
            "354\n",
            "313\n"
          ]
        }
      ]
    },
    {
      "cell_type": "code",
      "source": [
        "from collections import Counter\n",
        "numbers = Parti\n",
        "\n",
        "counts = dict(Counter(numbers))\n",
        "duplicates = {key:value for key, value in counts.items() if value > 1}\n",
        "\n",
        "print(duplicates)\n",
        "Partix = dict(sorted(duplicates.items(), key=lambda item: item[1], reverse=True))\n",
        "print(Partix)\n",
        "print(len(Partix))\n",
        "\n",
        "\n",
        "numbers2 = Parti\n",
        "counts2 = dict(Counter(numbers))\n",
        "duplicates2 = {key:value for key, value in counts2.items() if value > 0}\n",
        "Partix2 = dict(sorted(counts.items(), key=lambda item: item[1], reverse=True))\n",
        "print(Partix2)\n",
        "print(len(Partix2))"
      ],
      "metadata": {
        "id": "GhHspKgGgfk8",
        "outputId": "ff2f530c-b243-4ce2-b5d7-e8948d27f267",
        "colab": {
          "base_uri": "https://localhost:8080/"
        }
      },
      "execution_count": 520,
      "outputs": [
        {
          "output_type": "stream",
          "name": "stdout",
          "text": [
            "{'001-D18PublishableSummary2.pdf\",\"mimetype\":\"application\\\\/pdf\",\"title\":\"Publishable summary period 2\"}]},\"objective\":{\"projectDescription\":\"\\\\u003Cbr\\\\/\\\\u003ESmart Factories: Energy-aware, agile manufacturing and customisation\\\\u003Cbr\\\\/\\\\u003EPersonalised esthetical designs of household appliances \\\\u0022painted\\\\u0022 by new ultra-violet lasers (colour, size, text, pictures...)\\\\u003Cbr\\\\/\\\\u003E\",\"objective\":\"The future in manufacturing is oriented to more flexible and adaptable systems. Customization is also a great challenge and a way of giving added value to the products. And aesthetic personalization is one of the main ways for achieving customization.UV-Marking project aims at demonstrating that unitary customization (individual configurations\\\\/designs of each customer) is possible, by developing a new laser in the ultraviolet (UV) range that provides high quality marking on different materials.A final user will be able to select or create its own aesthetical design (colour, size, text, pictures...) using easy ICT applications and these will be marked easily by manufacturers using the new UV-laser system. The marking process will achieve high quality on marks, and high durability compared to current printed techniques.The new UV-laser system will help manufacturers with customized products, allowing shorter cycles, environmental friendliness, energy efficiency, higher integration and automation. One of the main goals will be to do the marking on-line at the end of the assembly line. It opens very interesting opportunities and possibilities for customization, but also for process optimization: delivery time, environmental impact, flexibility, shorter launching time, etc.The marking customization will be achieved by:\\\\u0095\\\\\\\\tDeveloping a new laser in the UV range\\\\u0095\\\\\\\\tAdapting existing materials for having a better beam absorption\\\\u0095\\\\\\\\tIntegrating the laser in the industrial process\\\\u0095\\\\\\\\tDeveloping a user application for demonstrating the unitary customization with real customersBSH, one of the most important companies of the home appliance sector, will lead the project. They are the perfect validators because they use several materials and aesthetics for commercial purposes is very important for them. ROFIN will be the laser developer, which is a leader company in this sector. U-MARQ is an ICT company that will work in the software for the integration of the laser in the industrial process, and the user application; WIRTHWEIN and DATALASE are leader companies and will work with plastic materials to improve the absorption properties and to obtain concrete colors different than black or white. ILVA and TORRECID will work in the field of glass and ceramic materials. Finally, 3 different groups of ICMA (from University of Zaragoza and CSIC) will participate as experts on laser and materials.\\\\u003Cbr\\\\/\\\\u003EThe company Merck has also contributed to UV-Marking during the first months of the project, before the incorporation of DATALASE.\",\"topics\":[{\"rcn\":\"16695\",\"code\":\"FoF-ICT-2011.7.1\",\"frameworkProgramme\":\"FP7\",\"id\":\"FP7_FoF-ICT-2011.7.1\",\"title\":\"Smart Factories: Energy-aware, agile manufacturing and customisation\",\"language\":\"en\"}],\"proposalMasterCall\":[],\"proposalSubCall\":[{\"rcn\":\"104304\",\"title\":\"FP7-2012-NMP-ICT-FoF\",\"identifier\":\"FP7-2012-NMP-ICT-FoF\",\"language\":\"en\"}],\"fundingScheme\":{\"code\":\"CP\",\"title\":\"Collaborative project (generic)\"}},\"organizations\":{\"coordinatorContact\":[{\"type\":\"relatedPpmContactPerson\",\"availableLanguages\":[\"en\"],\"rcn\":\"3573166\",\"title\":\"Mr\",\"firstNames\":\"Andr\\\\u00e9s\",\"lastName\":\"ESCART\\\\u00cdN BARDUZAL': 2, 'Merck KGaA': 2, 'Wirthwein AG': 2, 'ROFIN SINAR LASER GMBH': 2, 'UNIVERSIDAD DE ZARAGOZA': 4, 'TORRECID SA': 2, 'ILVA GLASS SPA': 2, 'U-MARQ LIMITED': 2, 'DATALASE LTD': 2, 'BSH HAUSGERATE GMBH': 3, 'WIRTHWEIN GMBH & CO KG': 2, 'AGENCIA ESTATAL CONSEJO SUPERIOR DE INVESTIGACIONES CIENTIFICAS': 4, 'INESC TEC - INSTITUTO DE ENGENHARIADE SISTEMAS E COMPUTADORES, TECNOLOGIA E CIENCIA': 2, 'NEDERLANDSE ORGANISATIE VOOR TOEGEPAST NATUURWETENSCHAPPELIJK ONDERZOEK TNO': 2, 'FRAUNHOFER GESELLSCHAFT ZUR FORDERUNG DER ANGEWANDTEN FORSCHUNG EV': 5, 'INTERUNIVERSITAIR MICRO-ELECTRONICA CENTRUM': 2, 'POLITECNICO DI MILANO': 2, 'DEUTSCHES FORSCHUNGSZENTRUM FUR KUNSTLICHE INTELLIGENZ GMBH': 2, 'ATOS SPAIN SA': 2, 'TEKNOLOGIAN TUTKIMUSKESKUS VTT OY': 2, 'TECHNISCHE UNIVERSITEIT DELFT': 2, 'BSH ELECTRODOMESTICOS ESPANA SA': 9, 'CENTRE TECHNOLOGIQUE ALPHANOV': 2, 'ROBERT BOSCH GMBH': 3, 'TECHNISCHE UNIVERSITAET DRESDEN': 2}\n",
            "{'BSH ELECTRODOMESTICOS ESPANA SA': 9, 'FRAUNHOFER GESELLSCHAFT ZUR FORDERUNG DER ANGEWANDTEN FORSCHUNG EV': 5, 'UNIVERSIDAD DE ZARAGOZA': 4, 'AGENCIA ESTATAL CONSEJO SUPERIOR DE INVESTIGACIONES CIENTIFICAS': 4, 'BSH HAUSGERATE GMBH': 3, 'ROBERT BOSCH GMBH': 3, '001-D18PublishableSummary2.pdf\",\"mimetype\":\"application\\\\/pdf\",\"title\":\"Publishable summary period 2\"}]},\"objective\":{\"projectDescription\":\"\\\\u003Cbr\\\\/\\\\u003ESmart Factories: Energy-aware, agile manufacturing and customisation\\\\u003Cbr\\\\/\\\\u003EPersonalised esthetical designs of household appliances \\\\u0022painted\\\\u0022 by new ultra-violet lasers (colour, size, text, pictures...)\\\\u003Cbr\\\\/\\\\u003E\",\"objective\":\"The future in manufacturing is oriented to more flexible and adaptable systems. Customization is also a great challenge and a way of giving added value to the products. And aesthetic personalization is one of the main ways for achieving customization.UV-Marking project aims at demonstrating that unitary customization (individual configurations\\\\/designs of each customer) is possible, by developing a new laser in the ultraviolet (UV) range that provides high quality marking on different materials.A final user will be able to select or create its own aesthetical design (colour, size, text, pictures...) using easy ICT applications and these will be marked easily by manufacturers using the new UV-laser system. The marking process will achieve high quality on marks, and high durability compared to current printed techniques.The new UV-laser system will help manufacturers with customized products, allowing shorter cycles, environmental friendliness, energy efficiency, higher integration and automation. One of the main goals will be to do the marking on-line at the end of the assembly line. It opens very interesting opportunities and possibilities for customization, but also for process optimization: delivery time, environmental impact, flexibility, shorter launching time, etc.The marking customization will be achieved by:\\\\u0095\\\\\\\\tDeveloping a new laser in the UV range\\\\u0095\\\\\\\\tAdapting existing materials for having a better beam absorption\\\\u0095\\\\\\\\tIntegrating the laser in the industrial process\\\\u0095\\\\\\\\tDeveloping a user application for demonstrating the unitary customization with real customersBSH, one of the most important companies of the home appliance sector, will lead the project. They are the perfect validators because they use several materials and aesthetics for commercial purposes is very important for them. ROFIN will be the laser developer, which is a leader company in this sector. U-MARQ is an ICT company that will work in the software for the integration of the laser in the industrial process, and the user application; WIRTHWEIN and DATALASE are leader companies and will work with plastic materials to improve the absorption properties and to obtain concrete colors different than black or white. ILVA and TORRECID will work in the field of glass and ceramic materials. Finally, 3 different groups of ICMA (from University of Zaragoza and CSIC) will participate as experts on laser and materials.\\\\u003Cbr\\\\/\\\\u003EThe company Merck has also contributed to UV-Marking during the first months of the project, before the incorporation of DATALASE.\",\"topics\":[{\"rcn\":\"16695\",\"code\":\"FoF-ICT-2011.7.1\",\"frameworkProgramme\":\"FP7\",\"id\":\"FP7_FoF-ICT-2011.7.1\",\"title\":\"Smart Factories: Energy-aware, agile manufacturing and customisation\",\"language\":\"en\"}],\"proposalMasterCall\":[],\"proposalSubCall\":[{\"rcn\":\"104304\",\"title\":\"FP7-2012-NMP-ICT-FoF\",\"identifier\":\"FP7-2012-NMP-ICT-FoF\",\"language\":\"en\"}],\"fundingScheme\":{\"code\":\"CP\",\"title\":\"Collaborative project (generic)\"}},\"organizations\":{\"coordinatorContact\":[{\"type\":\"relatedPpmContactPerson\",\"availableLanguages\":[\"en\"],\"rcn\":\"3573166\",\"title\":\"Mr\",\"firstNames\":\"Andr\\\\u00e9s\",\"lastName\":\"ESCART\\\\u00cdN BARDUZAL': 2, 'Merck KGaA': 2, 'Wirthwein AG': 2, 'ROFIN SINAR LASER GMBH': 2, 'TORRECID SA': 2, 'ILVA GLASS SPA': 2, 'U-MARQ LIMITED': 2, 'DATALASE LTD': 2, 'WIRTHWEIN GMBH & CO KG': 2, 'INESC TEC - INSTITUTO DE ENGENHARIADE SISTEMAS E COMPUTADORES, TECNOLOGIA E CIENCIA': 2, 'NEDERLANDSE ORGANISATIE VOOR TOEGEPAST NATUURWETENSCHAPPELIJK ONDERZOEK TNO': 2, 'INTERUNIVERSITAIR MICRO-ELECTRONICA CENTRUM': 2, 'POLITECNICO DI MILANO': 2, 'DEUTSCHES FORSCHUNGSZENTRUM FUR KUNSTLICHE INTELLIGENZ GMBH': 2, 'ATOS SPAIN SA': 2, 'TEKNOLOGIAN TUTKIMUSKESKUS VTT OY': 2, 'TECHNISCHE UNIVERSITEIT DELFT': 2, 'CENTRE TECHNOLOGIQUE ALPHANOV': 2, 'TECHNISCHE UNIVERSITAET DRESDEN': 2}\n",
            "25\n",
            "{'BSH ELECTRODOMESTICOS ESPANA SA': 9, 'FRAUNHOFER GESELLSCHAFT ZUR FORDERUNG DER ANGEWANDTEN FORSCHUNG EV': 5, 'UNIVERSIDAD DE ZARAGOZA': 4, 'AGENCIA ESTATAL CONSEJO SUPERIOR DE INVESTIGACIONES CIENTIFICAS': 4, 'BSH HAUSGERATE GMBH': 3, 'ROBERT BOSCH GMBH': 3, '001-D18PublishableSummary2.pdf\",\"mimetype\":\"application\\\\/pdf\",\"title\":\"Publishable summary period 2\"}]},\"objective\":{\"projectDescription\":\"\\\\u003Cbr\\\\/\\\\u003ESmart Factories: Energy-aware, agile manufacturing and customisation\\\\u003Cbr\\\\/\\\\u003EPersonalised esthetical designs of household appliances \\\\u0022painted\\\\u0022 by new ultra-violet lasers (colour, size, text, pictures...)\\\\u003Cbr\\\\/\\\\u003E\",\"objective\":\"The future in manufacturing is oriented to more flexible and adaptable systems. Customization is also a great challenge and a way of giving added value to the products. And aesthetic personalization is one of the main ways for achieving customization.UV-Marking project aims at demonstrating that unitary customization (individual configurations\\\\/designs of each customer) is possible, by developing a new laser in the ultraviolet (UV) range that provides high quality marking on different materials.A final user will be able to select or create its own aesthetical design (colour, size, text, pictures...) using easy ICT applications and these will be marked easily by manufacturers using the new UV-laser system. The marking process will achieve high quality on marks, and high durability compared to current printed techniques.The new UV-laser system will help manufacturers with customized products, allowing shorter cycles, environmental friendliness, energy efficiency, higher integration and automation. One of the main goals will be to do the marking on-line at the end of the assembly line. It opens very interesting opportunities and possibilities for customization, but also for process optimization: delivery time, environmental impact, flexibility, shorter launching time, etc.The marking customization will be achieved by:\\\\u0095\\\\\\\\tDeveloping a new laser in the UV range\\\\u0095\\\\\\\\tAdapting existing materials for having a better beam absorption\\\\u0095\\\\\\\\tIntegrating the laser in the industrial process\\\\u0095\\\\\\\\tDeveloping a user application for demonstrating the unitary customization with real customersBSH, one of the most important companies of the home appliance sector, will lead the project. They are the perfect validators because they use several materials and aesthetics for commercial purposes is very important for them. ROFIN will be the laser developer, which is a leader company in this sector. U-MARQ is an ICT company that will work in the software for the integration of the laser in the industrial process, and the user application; WIRTHWEIN and DATALASE are leader companies and will work with plastic materials to improve the absorption properties and to obtain concrete colors different than black or white. ILVA and TORRECID will work in the field of glass and ceramic materials. Finally, 3 different groups of ICMA (from University of Zaragoza and CSIC) will participate as experts on laser and materials.\\\\u003Cbr\\\\/\\\\u003EThe company Merck has also contributed to UV-Marking during the first months of the project, before the incorporation of DATALASE.\",\"topics\":[{\"rcn\":\"16695\",\"code\":\"FoF-ICT-2011.7.1\",\"frameworkProgramme\":\"FP7\",\"id\":\"FP7_FoF-ICT-2011.7.1\",\"title\":\"Smart Factories: Energy-aware, agile manufacturing and customisation\",\"language\":\"en\"}],\"proposalMasterCall\":[],\"proposalSubCall\":[{\"rcn\":\"104304\",\"title\":\"FP7-2012-NMP-ICT-FoF\",\"identifier\":\"FP7-2012-NMP-ICT-FoF\",\"language\":\"en\"}],\"fundingScheme\":{\"code\":\"CP\",\"title\":\"Collaborative project (generic)\"}},\"organizations\":{\"coordinatorContact\":[{\"type\":\"relatedPpmContactPerson\",\"availableLanguages\":[\"en\"],\"rcn\":\"3573166\",\"title\":\"Mr\",\"firstNames\":\"Andr\\\\u00e9s\",\"lastName\":\"ESCART\\\\u00cdN BARDUZAL': 2, 'Merck KGaA': 2, 'Wirthwein AG': 2, 'ROFIN SINAR LASER GMBH': 2, 'TORRECID SA': 2, 'ILVA GLASS SPA': 2, 'U-MARQ LIMITED': 2, 'DATALASE LTD': 2, 'WIRTHWEIN GMBH & CO KG': 2, 'INESC TEC - INSTITUTO DE ENGENHARIADE SISTEMAS E COMPUTADORES, TECNOLOGIA E CIENCIA': 2, 'NEDERLANDSE ORGANISATIE VOOR TOEGEPAST NATUURWETENSCHAPPELIJK ONDERZOEK TNO': 2, 'INTERUNIVERSITAIR MICRO-ELECTRONICA CENTRUM': 2, 'POLITECNICO DI MILANO': 2, 'DEUTSCHES FORSCHUNGSZENTRUM FUR KUNSTLICHE INTELLIGENZ GMBH': 2, 'ATOS SPAIN SA': 2, 'TEKNOLOGIAN TUTKIMUSKESKUS VTT OY': 2, 'TECHNISCHE UNIVERSITEIT DELFT': 2, 'CENTRE TECHNOLOGIQUE ALPHANOV': 2, 'TECHNISCHE UNIVERSITAET DRESDEN': 2, 'EEBUS INITIATIVE EV': 1, 'VLAAMSE INSTELLING VOOR TECHNOLOGISCH ONDERZOEK N.V.': 1, 'E-REDES - DISTRIBUICAO DE ELETRICIDADE SA': 1, 'LABELEC ESTUDOS DESENVOLVIMENTO E ACTIVIDADES LABORATORIAIS SA': 1, 'FONDACIJA VIZLORE LABS': 1, 'TH!NK E': 1, 'FUNDINGBOX ACCELERATOR SP ZOO': 1, 'FUNDINGBOX COMMUNITIES SL': 1, 'WINGS ICT SOLUTIONS INFORMATION & COMMUNICATION TECHNOLOGIES IKE': 1, 'MC SHARED SERVICES SA': 1, 'MODELO CONTINENTE HIPERMERCADOS S.A.': 1, 'ELERGONE ENERGIA, LDA': 1, 'VOLKERWESSELS ICITY B.V.': 1, 'HYRDE BV': 1, 'VOLKER WESSELS TELECOM B.V.': 1, 'RECOGNIZE B.V.': 1, 'PLANET IDEA SRL': 1, 'GRIDNET S.A.': 1, 'YNCREA MEDITERRANEE': 1, 'ATHENS UNIVERSITY OF ECONOMICS AND BUSINESS - RESEARCH CENTER': 1, 'ELEKTRO LJUBLJANA PODJETJE ZADISTRIBUCIJO ELEKTRICNE ENERGIJE D.D.': 1, 'THERMOVAULT': 1, 'TRIALOG': 1, 'DOMOTICA SGTA GESTAO TECNICA E AUTOMACAO LDA': 1, 'SCHNEIDER ELECTRIC PORTUGAL LDA': 1, 'VRIJE UNIVERSITEIT BRUSSEL': 1, 'DUCOOP': 1, '3E': 1, 'CORDIUM CVBA': 1, 'STICHTING VU': 1, 'IRON THERMOILEKTRIKI ANONYMI ETAIREIA': 1, 'COSMOTE KINITES TILEPIKOINONIES AE': 1, 'ENEDIS': 1, 'ENGIE': 1, 'ENGIE ENERGY MANAGEMENT': 1, 'ENGIE GLOBAL MARKETS': 1, 'ENGIE HOME PERFORMANCE': 1, 'ELECTRABEL': 1, 'TIKO ENERGY SOLUTIONS AG': 1, 'ENGIE HOME SERVICES': 1, 'BELGISCH LABORATORIUM VAN ELEKTRICITEITSINDUSTRIE': 1, 'SENSINOV': 1, 'WHIRLPOOL EMEA SPA': 1, 'RICERCA SUL SISTEMA ENERGETICO - RSE SPA': 1, 'CYBERGRID GMBH & CO KG': 1, 'INETUM REALDOLMEN BELGIUM': 1, 'INETUM ESPA\\\\u00d1A S.A.': 1, 'INETUM': 1, 'EUROPEAN DISTRIBUTION SYSTEM OPERATORS FOR SMART GRIDS': 1, 'OPENMOTICS': 1, 'KEO GMBH': 1, 'ABB OF ASEA BROWN BOVERI': 1, 'UNIVERSITAET KASSEL': 1, 'Fachhochschule Dortmund': 1, 'BOSCH THERMOTECHNIK GMBH': 1, 'MIELE & CIE KG': 1, 'WIRELANE GMBH': 1, 'VAILLANT GMBH': 1, 'DAIKIN EUROPE N.V.': 1, 'KNX ASSOCIATION CVBA': 1, 'FUNDACION CARTIF': 1, 'EKODENGE MUHENDISLIK MIMARLIK DANISMANLIK TICARET ANONIM SIRKETI': 1, 'SOFTWARE IMAGINATION & VISION SRL': 1, 'SISTRADE - SOFTWARE CONSULTING SA': 1, 'SCUOLA UNIVERSITARIA PROFESSIONALE DELLA SVIZZERA ITALIANA': 1, 'AARHUS UNIVERSITET': 1, 'IDP INGENIERIA Y ARQUITECTURA IBERIA SL': 1, 'ECOWISE EKODENGE LIMITED': 1, 'GORENJE GOSPODINJSKI APARATI DOO': 1, 'SUROVINA DRUZBA ZA PREDELAVO ODPADKOV DOO': 1, 'SOFIES UK CONSULTING LIMITED': 1, 'CEGASA ENERGIA S.L.U.': 1, 'SKYLABS VESOLJSKE TEHNOLOGIJE DOO': 1, 'ENVIRONMENTAL COALITION ON STANDARDS': 1, 'IRISH MANUFACTURING RESEARCH COMPANY LIMITED BY GUARANTEE': 1, 'UNI - ENTE ITALIANO DI NORMAZIONE': 1, \"OCTOPUSSY AGENCE POUR LA CREATION ET LA DIFFUSION D'ACTIVITES CULTURELLES ARTISTIQUES TECHNOLOGIQUES SCIENTIFIQUES\": 1, 'ONYX SOLAR ENERGY SL': 1, 'MONDRAGON CORPORACION COOPERATIVA SCOOP': 1, 'DOMUSA CALEFACCION SCOOP': 1, 'SARETEKNIKA SERVICIOS GLOBALES DE POSVENTA SCOOP': 1, 'COMET GLOBAL INNOVATION, SL': 1, 'BSH ELETTRODOMESTICI SPA': 1, 'SABANCI DIJITAL TEKNOLOJI HIZMETLERI AS': 1, 'REYDESA RECYCLING SL': 1, 'FUNDACION INNOVACION AMBIENTAL Y TECNOLOGICA': 1, 'MONDRAGON ASSEMBLY SOCIEDAD COOPERATIVA': 1, 'WASTE OF ELECTRICAL AND ELECTRONICAL EQUIPMENT FORUM AISBL': 1, 'ZEOS RAVNANJE Z ELEKTRICNO IN ELEKTRONSKO OPREMO DOO': 1, 'OCU EDICIONES SA': 1, 'ALTROCONSUMO EDIZIONI SRL': 1, 'ERION COMPLIANCE ORGANIZATION SCARL': 1, 'AGORIZE SAS': 1, 'BEHAVIOURAL INSIGHTS LTD': 1, 'BSH EV ALETLERI SANAYI VE TICARET ANONIM SIRKETI': 1, 'HELIOZ GMBH': 1, 'INNOFRUGAL RY': 1, 'EUROPEAN COUNCIL OF TRANSPORT USERS-CONSEIL EUROPEEN DES USAGERS DES TRANSPORTS': 1, 'CUSTOMS CO-OPERATION COUNCIL': 1, 'THE INTERNATIONAL CRIMINAL POLICE ORGANIZATION': 1, 'Clecat - European Association for Forwarding, Transport, Logistics and Customs Service': 1, 'IRU PROJECTS ASBL': 1, 'EUROPEAN INTERMODAL ASSOCIATION': 1, 'COOPERATIEVE BLOEMENVEILING FLORAHOLLAND U.A.': 1, 'DHL EXEL SUPPLY CHAIN SPAIN SL': 1, 'HM REVENUE AND CUSTOMS': 1, 'MINISTERIE VAN FINANCIEN': 1, 'SERVICE PUBLIC FEDERAL FINANCES': 1, 'MINISTERIE VAN BINNENLANDSE ZAKEN EN KONINKRIJKSRELATIES': 1, 'Ministero delle infrastrutture e della mobilit\\\\u00e0 sostenibili': 1, 'MINISTERE DE LA TRANSITION ECOLOGIQUE': 1, 'NEDERLANDSE VOEDSEL EN WARENAUTORITEIT': 1, 'dbh Logistics IT AG': 1, 'TERMINAL MARITIMA DE ZARAGOZA SL': 1, 'CONSORZIO IB INNOVATION': 1, 'LA SPEZIA CONTAINER TERMINAL SPA': 1, 'Senator fuer Wirtschaft und Haefen Bremen': 1, 'PORTIC BARCELONA S.A': 1, 'SMITHS DETECTION FRANCE SAS': 1, 'NETCOMPANY-INTRASOFT SA': 1, 'TELESPAZIO SPA': 1, 'DESCARTES SYSTEMS (BELGIUM)': 1, 'A.P. Moller - M\\\\u00e6rsk A\\\\/S': 1, 'SO.GE.MAR. SOCIETA GENERALE MAGAZZINI RACCORDATI INTERPORTO SPA': 1, 'METRO SHIPPING LIMITED': 1, 'BAP Logistics Ltd': 1, 'MARITIME CARGO PROCESSING PLC': 1, 'Seacon Venlo Expeditie B.V.': 1, 'JRC -JOINT RESEARCH CENTRE- EUROPEAN COMMISSION': 1, 'BMT GROUP LTD': 1, 'INLECOM SYSTEMS LTD': 1, 'INSTYTUT LOGISTYKI I MAGAZYNOWANIA': 1, 'CONCEPTIVITY SARL': 1, 'MJC2 LIMITED': 1, 'FUNDACION ZARAGOZA LOGISTICS CENTER': 1, 'ENIDE SOLUTIONS .S.L': 1, 'TOTALFORSVARETS FORSKNINGSINSTITUT': 1, 'CLMS (UK) LIMITED': 1, 'EBOS TECHNOLOGIES LIMITED': 1, 'CROSS-BORDER RESEARCH ASSOCIATION': 1, 'KENTRO MELETON ASFALEIAS': 1, 'INSTITUT FUR SEEVERKEHRSWIRTSCHAFT UND LOGISTIK': 1, 'SECURITY PROJECTS UK LIMITED': 1, 'GEORGIA TECH RESEARCH CORPORATION': 1, 'ICONTROL INCORPORATED': 1, 'VLTN GCV': 1, 'ADVANCED TRACK AND TRACE SA': 1, 'LOGIT SYSTEMS BVBA': 1, 'CONEX SA': 1, 'LOGISTIEK ZONDER PAPIER BV': 1, 'TTS Italia': 1, 'BRIMATECH SERVICES GMBH': 1, 'TRANS SESE SOCIEDAD LIMITADA': 1, 'SEABRIDGE NV': 1, 'TECHNISCHE UNIVERSITEIT EINDHOVEN': 1, 'MAJORCA SPA': 1, 'EUROPEAN ORGANISATION FOR SECURITY': 1, 'Uniserve (Holdings) Limited': 1, 'PROCTER & GAMBLE SERVICES COMPANY NV': 1, 'SUNWELL TECHNOLOGIES INC': 1, 'HOYER (SVIZZERA) SA': 1, 'CLICK & FIND S.R.L': 1, 'COPENHAGEN BUSINESS SCHOOL': 1, 'CERAMICHE CAESAR SPA': 1, 'LOGIT ONE NV': 1, 'IBM DANMARK APS': 1, 'EUROPEAN UNION ROAD FEDERATION': 1, 'TRUSTEES OF PURDUE UNIVERSITY': 1, 'THE NATIONAL POLICE OF THE NETHERLANDS': 1, 'SMITHERS RAPRA AND SMITHERS PIRA LIMITED': 1, 'Grupo Regional de Cooperativas Plataneras del Archipielago Canario': 1, 'CMB Colorex Master Batches B.V.': 1, 'SIVEL Limited': 1, 'PEVA Ipari, Kereskedelmi es Szolgaltato Kft': 1, 'ROTOTEK LTD': 1, 'UNIVERSIDAD DE LAS PALMAS DE GRAN CANARIA': 1, \"THE QUEEN'S UNIVERSITY OF BELFAST\": 1, 'GRUPO ANTOLIN-INGENIERIA SA': 1, 'AIRBUS DEFENCE AND SPACE GMBH': 1, 'UNIVERSITEIT TWENTE': 1, 'UNIVERSIDAD POLITECNICA DE MADRID': 1, 'CONSIGLIO NAZIONALE DELLE RICERCHE': 1, 'THE UNIVERSITY OF BIRMINGHAM': 1, 'LEIBNIZ-INSTITUT FUR POLYMERFORSCHUNG DRESDEN EV': 1, 'SCANLAB': 1, 'TRUMPF LASER GMBH': 1, 'EUROPEAN PHOTONICS INDUSTRY CONSORTIUM': 1, 'NEW INFRARED TECHNOLOGIES SL': 1, 'LASER ENGINEERING APPLICATIONS SA': 1, 'UNIVERSITA DEGLI STUDI DI PARMA': 1, 'UNIVERSITY OF STUTTGART': 1, 'RAYLASE GMBH': 1, 'ECOR INTERNATIONAL SPA': 1, 'KITE INNOVATION (EUROPE) LIMITED': 1, 'MODUS RESEARCH AND INNOVATION LIMITED': 1, 'INFINEON TECHNOLOGIES AG': 1, 'AMS-OSRAM AG': 1, 'AT & S AUSTRIA TECHNOLOGIE & SYSTEMTECHNIK AKTIENGESELLSCHAFT': 1, 'AVL LIST GMBH': 1, 'INFINEON TECHNOLOGIES IT-SERVICES GMBH': 1, 'KAI KOMPETENZZENTRUM AUTOMOBIL - UND INDUSTRIEELEKTRONIK GMBH': 1, 'MATERIALS CENTER LEOBEN FORSCHUNG GMBH': 1, 'TECHNISCHE UNIVERSITAET GRAZ': 1, 'TECHNISCHE UNIVERSITAET WIEN': 1, 'VIRTUAL VEHICLE RESEARCH GMBH': 1, 'ROBERT BOSCH SEMICONDUCTOR MANUFACTURING DRESDEN GMBH': 1, 'ELMOS SEMICONDUCTOR SE': 1, 'FORSCHUNGS- UND TRANSFERZENTRUM EV AN DER WESTSAECHSISCHEN HOCHSCHULE ZWICKAU': 1, 'GOPEL ELECTRONIC GMBH': 1, 'HAHN-SCHICKARD-GESELLSCHAFT FUR ANGEWANDTE FORSCHUNG EV': 1, 'INFINEON TECHNOLOGIES AUSTRIA  AG': 1, 'INFINEON TECHNOLOGIES DRESDEN GMBH& CO KG': 1, 'LEC GMBH': 1, 'PUMACY TECHNOLOGIES AG': 1, 'SCHWEIZER ELECTRONIC AG': 1, 'SENSITEC GMBH': 1, 'TECHNISCHE UNIVERSITAET CHEMNITZ': 1, 'UNIVERSITAET BREMEN': 1, 'WESTSACHSISCHE HOCHSCHULE ZWICKAU': 1, 'X-FAB Dresden GmbH & Co. KG': 1, 'X-FAB SEMICONDUCTOR FOUNDRIES GMBH': 1, 'NANO DESIGN SRO': 1, 'SLOVENSKA TECHNICKA UNIVERZITA V BRATISLAVE': 1, 'EDR & MEDESO AB': 1, 'INMOTION TECHNOLOGIES AB': 1, 'QRTECH AKTIEBOLAG': 1, 'RISE IVF AB': 1, 'RISE RESEARCH INSTITUTES OF SWEDEN AB': 1, 'SCANIA CV AB': 1, 'AALTO KORKEAKOULUSAATIO SR': 1, 'FORCIOT OY': 1, 'OKMETIC OY': 1, 'SCREENTEC OY': 1, 'MINDCET NV': 1, 'NINIX TECHNOLOGIES NV': 1, 'BELGAN BV': 1, 'PLASTIC OMNIUM ADVANCED INNOVATIONAND RESEARCH': 1, 'SIRRIS HET COLLECTIEF CENTRUM VAN DE TECHNOLOGISCHE INDUSTRIE': 1, 'INFINEON TECHNOLOGIES ITALIA SRL': 1, 'CONSORZIO NAZIONALE INTERUNIVERSITARIO PER LA NANOELETTRONICA': 1, 'ALMA MATER STUDIORUM - UNIVERSITA DI BOLOGNA': 1, 'UNIVERSITA DEGLI STUDI DI PADOVA': 1, 'LFOUNDRY SRL': 1, 'TEKNE SRL': 1, \"UNIVERSITA DEGLI STUDI DELL'AQUILA\": 1, 'BATZ SOCIEDAD COOPERATIVA': 1, 'Construcciones y Auxiliar de Ferrocarriles, S.A.': 1, 'CONSTRUCCIONES Y AUXILIAR DE FERROCARRILES INVESTIGACION Y DESARROLLO SL': 1, 'IKERLAN S. COOP': 1, 'KNOWLEDGE CENTRIC SOLUTIONS SL': 1, 'UNIVERSIDAD DE CASTILLA - LA MANCHA': 1, 'UNIVERSIDAD CARLOS III DE MADRID': 1, 'ULMA MEDICAL TECHNOLOGIES S COOP': 1, 'IWO PROJECT BV': 1, 'JIACO INSTRUMENTS BV': 1, 'NEXPERIA BV': 1, 'SIGNIFY  NETHERLANDS BV': 1, 'ARCELIK A.S.': 1, 'ENFORMA BILISIM ANONIM SIRKETI': 1, 'MARMARA UNIVERSITY': 1, 'PAVO TASARIM URETIM ELEKTRONIK TICARET ANONIM SIRKETI': 1, 'ELAPHE POGONSKE TEHNOLOGIJE DOO': 1, 'INSTITUT JOZEF STEFAN': 1, 'IDRYMA TECHNOLOGIAS KAI EREVNAS': 1, 'THALES': 1, 'UNITED MONOLITHIC SEMICONDUCTORS SAS': 1, 'UNIVERSITE LYON 1 CLAUDE BERNARD': 1, 'III-V LAB': 1, 'CENTRE FOR PROCESS INNOVATION LIMITED LBG': 1, 'HENKEL ELECTRONIC MATERIALS BELGIUMNV': 1, 'PRAGMATIC SEMICONDUCTOR LIMITED': 1, 'TEKNOLOGISK INSTITUT': 1, 'CONTITECH ELASTOMER-BESCHICHTUNGEN GMBH': 1, 'NANOGAP SUB-NM-POWDER SA': 1, 'THOMAS SWAN & CO LIMITED': 1, 'HENKEL KGaA': 1, 'CROWN PACKAGING MANUFACTURING UK LIMITED': 1, 'TYOTERVEYSLAITOS': 1, 'NXP SEMICONDUCTORS BELGIUM NV': 1, 'AIMPLAS - ASOCIACION DE INVESTIGACION DE MATERIALES PLASTICOS Y CONEXAS': 1, 'AVANZARE INNOVACION TECNOLOGICA SL': 1, 'POLYRAZ PLASTICS INDUSTRIES': 1, 'INEA INFORMATIZACIJA ENERGETIKA AVTOMATIZACIJA DOO': 1, 'AKUMPLAST AD': 1, 'TECHNOPLAST PROTOTYPING IPARI ES KERESKEDELMI KFT': 1, 'FAURECIA INTERIOR SYSTEMS SALC ESPANA S.L.': 1, 'INSTITUTO DE TECNOLOGIAS QUIMICAS EMERGENTES DE LA RIOJA ASOCIACION': 1, 'SZECHENYI ISTVAN EGYETEM': 1}\n",
            "313\n"
          ]
        }
      ]
    },
    {
      "cell_type": "code",
      "source": [
        "str3c = \"participants\\\":[\"\n",
        "\n",
        "datac = []\n",
        "for i in SOUP:\n",
        "  i3ca = i.find(str3c)\n",
        "  i3cb = i.find(\"],\\\"partners\")\n",
        "  datac = np.append(datac, i[i3ca+len(str3c):i3cb])\n",
        "\n",
        "print(datac)\n",
        "\n",
        "cou = 0\n",
        "cou = 0\n",
        "for i in datac:\n",
        "  cou += i.count(\"country\")\n",
        "\n",
        "print(cou)\n",
        "\n",
        "str3ca = \"country\\\":{\\\"name\\\":\\\"\"\n",
        "\n",
        "dataca = []\n",
        "for i in SOUP:\n",
        "  while True:\n",
        "    i3caa = i.find(str3ca)\n",
        "    i3cba = i.find(\"\\\",\\\"isoCode\")\n",
        "    #print(\"a: \", i3caa, \"b: \", i3cba)\n",
        "    #print(i3caa)\n",
        "    if i3caa == -1:\n",
        "      break\n",
        "    #print(i3caa)\n",
        "    #print(i[i3caa+len(str3ca):i3cba])\n",
        "    dataca = np.append(dataca, i[i3caa+len(str3ca):i3cba])\n",
        "    i = i[i3caa+len(str3ca)+25:]\n",
        "    \n",
        "    #print(i3cba)\n",
        "    #print(i)\n",
        "print(dataca)\n",
        "print(len(set(dataca)))\n",
        "\n",
        "str3cb = \"framework\\\":\\\"\"\n",
        "\n",
        "datacb = []\n",
        "for i in SOUP:\n",
        "  i3cab = i.find(str3cb)\n",
        "  i3cbb = i.find(\"\\\",\\\"language\")\n",
        "  datacb = np.append(datacb, i[i3cab+len(str3cb):i3cbb])\n",
        "\n",
        "print(list(set(datacb)))\n",
        "print(len(set(datacb)))"
      ],
      "metadata": {
        "id": "RXJ9O1n-P7LL",
        "outputId": "34176bce-0a5c-48f0-d14e-fd8a5c2f7245",
        "colab": {
          "base_uri": "https://localhost:8080/"
        }
      },
      "execution_count": 521,
      "outputs": [
        {
          "output_type": "stream",
          "name": "stdout",
          "text": [
            "['{\"name\":\"Merck KGaA\",\"address\":{\"street\":\"FRANKFURTER STRASSE  250\",\"city\":\"DARMSTADT\",\"postalCode\":\"64293\"},\"country\":{\"name\":\"Germany\",\"isoCode\":\"DE\",\"euCode\":\"DE\"},\"terminated\":true,\"order\":2,\"activityType\":\"Private for-profit entities (excluding Higher or Secondary Education Establishments)\",\"contribution\":21731,\"netEcContribution\":null,\"nonEcContribution\":null,\"formula\":\"participant: \",\"website\":\"www.merckgroup.com\",\"email\":\"3GK9BCZJY01nA4YahzOhs\\\\/rSgC40Gjkun3dT3vx0a0lWkJhNEw1pCSDkgJgltPoG\",\"type\":\"participant\",\"contacts\":[{\"position\":\"relatedContact\",\"title\":\"Mr.\",\"name\":\"Oliver Robert Piening\",\"phone\":\"+49 0 6151 72 5762\",\"email\":\"3GK9BCZJY01nA4YahzOhs\\\\/rSgC40Gjkun3dT3vx0a0lWkJhNEw1pCSDkgJgltPoG\",\"fax\":\"+49 0 6151 72 91 5762\"}],\"organizationId\":\"945455800\",\"rcn\":\"1907295\",\"active\":true,\"sme\":false,\"regions\":\"\"},{\"name\":\"Wirthwein AG\",\"address\":{\"street\":\"Walter-Wirthwein-Strasse 2-10\",\"city\":\"Creglingen\",\"postalCode\":\"97993\"},\"country\":{\"name\":\"Germany\",\"isoCode\":\"DE\",\"euCode\":\"DE\"},\"terminated\":false,\"order\":3,\"activityType\":\"Private for-profit entities (excluding Higher or Secondary Education Establishments)\",\"contribution\":262236,\"netEcContribution\":null,\"nonEcContribution\":null,\"formula\":\"participant: \",\"website\":\"\",\"email\":\"3Apu4R8Rd6UcE9ZRGe3h7peyBe3hluoO1B\\\\/\\\\/qPmANWg=\",\"type\":\"participant\",\"contacts\":[{\"position\":\"relatedContact\",\"title\":\"Dr.\",\"name\":\"ALEXANDRU S\\\\u00d6VER\",\"phone\":\"+49 7933 702250\",\"email\":\"3Apu4R8Rd6UcE9ZRGe3h7peyBe3hluoO1B\\\\/\\\\/qPmANWg=\",\"fax\":\"\"}],\"organizationId\":\"953792659\",\"rcn\":\"2957946\",\"active\":true,\"sme\":false,\"regions\":\"\"},{\"name\":\"ROFIN SINAR LASER GMBH\",\"address\":{\"street\":\"BERZELIUSSTRASSE 83\",\"city\":\"HAMBURG\",\"postalCode\":\"22113\"},\"country\":{\"name\":\"Germany\",\"isoCode\":\"DE\",\"euCode\":\"DE\"},\"terminated\":false,\"order\":4,\"activityType\":\"Private for-profit entities (excluding Higher or Secondary Education Establishments)\",\"contribution\":685570,\"netEcContribution\":null,\"nonEcContribution\":null,\"formula\":\"participant: \",\"website\":\"http:\\\\/\\\\/www.rofin.com\",\"email\":\"JP6zueW5Wxq1+Tu69Xf3zCVTHOIrV4Do9HzbBz\\\\/jDBA=\",\"type\":\"participant\",\"contacts\":[{\"position\":\"relatedContact\",\"title\":\"Mr.\",\"name\":\"Hans-G\\\\u00fcnther K\\\\u00f6hn\",\"phone\":\"+08 131 704 4141\",\"email\":\"JP6zueW5Wxq1+Tu69Xf3zCVTHOIrV4Do9HzbBz\\\\/jDBA=\",\"fax\":\"+08 131 7044100\"}],\"organizationId\":\"996390888\",\"rcn\":\"2131491\",\"active\":true,\"sme\":false,\"regions\":\"\"},{\"name\":\"UNIVERSIDAD DE ZARAGOZA\",\"address\":{\"street\":\"CALLE PEDRO CERBUNA 12\",\"city\":\"ZARAGOZA\",\"postalCode\":\"50009\"},\"country\":{\"name\":\"Spain\",\"isoCode\":\"ES\",\"euCode\":\"ES\"},\"terminated\":false,\"order\":5,\"activityType\":\"Higher or Secondary Education Establishments\",\"contribution\":350944,\"netEcContribution\":null,\"nonEcContribution\":null,\"formula\":\"participant: \",\"website\":\"http:\\\\/\\\\/www.unizar.es\",\"email\":\"iG09bHg9mS0eDMmiIQryNwY+LFKOqJW6HHvRRe9myok=\",\"type\":\"participant\",\"contacts\":[{\"position\":\"relatedContact\",\"title\":\"Mr.\",\"name\":\"Oscar Lopez\",\"phone\":\"+34 976 761000\",\"email\":\"iG09bHg9mS0eDMmiIQryNwY+LFKOqJW6HHvRRe9myok=\",\"fax\":\"\"}],\"organizationId\":\"999898214\",\"rcn\":\"1905937\",\"active\":true,\"sme\":false,\"regions\":\"Noreste|Arag\\\\u00f3n|Zaragoza\"},{\"name\":\"TORRECID SA\",\"address\":{\"street\":\"PARTIDA TORRETA\",\"city\":\"ALCORA CASTELLON\",\"postalCode\":\"12110\"},\"country\":{\"name\":\"Spain\",\"isoCode\":\"ES\",\"euCode\":\"ES\"},\"terminated\":false,\"order\":6,\"activityType\":\"Private for-profit entities (excluding Higher or Secondary Education Establishments)\",\"contribution\":313080,\"netEcContribution\":null,\"nonEcContribution\":null,\"formula\":\"participant: \",\"website\":\"http:\\\\/\\\\/www.torrecid.com\",\"email\":\"iORKwZYymcRvbOZSbJM3uVaQmE0TDWkJIOSAmCW0+gY=\",\"type\":\"participant\",\"contacts\":[{\"position\":\"relatedContact\",\"title\":\"Mr.\",\"name\":\"FRANCISCO SANMIGUEL\",\"phone\":\"+34 964 360900\",\"email\":\"iORKwZYymcRvbOZSbJM3uVaQmE0TDWkJIOSAmCW0+gY=\",\"fax\":\"+34 964 360 792\"}],\"organizationId\":\"960970465\",\"rcn\":\"1950360\",\"active\":true,\"sme\":false,\"regions\":\"Este|Comunitat Valenciana |Castell\\\\u00f3n\\\\/Castell\\\\u00f3\"},{\"name\":\"ILVA GLASS SPA\",\"address\":{\"street\":\"STRADA SELVA GROSSA 36\",\"city\":\"TAVULLIA PS\",\"postalCode\":\"61010\"},\"country\":{\"name\":\"Italy\",\"isoCode\":\"IT\",\"euCode\":\"IT\"},\"terminated\":false,\"order\":7,\"activityType\":\"Private for-profit entities (excluding Higher or Secondary Education Establishments)\",\"contribution\":334960,\"netEcContribution\":null,\"nonEcContribution\":null,\"formula\":\"participant: \",\"website\":\"\",\"email\":\"lKkqbZo8m3f5uN7bSWc0JfC7UAFjs+aTWtRz\\\\/iBV6SI=\",\"type\":\"participant\",\"contacts\":[{\"position\":\"relatedContact\",\"title\":\"Mr.\",\"name\":\"Roberto Sonni\",\"phone\":\"+39 0721 20031\",\"email\":\"lKkqbZo8m3f5uN7bSWc0JfC7UAFjs+aTWtRz\\\\/iBV6SI=\",\"fax\":\"\"}],\"organizationId\":\"953733101\",\"rcn\":\"2957950\",\"active\":true,\"sme\":false,\"regions\":\"\"},{\"name\":\"U-MARQ LIMITED\",\"address\":{\"street\":\"DARIN COURT 26\\\\/27 CROWNHILL\",\"city\":\"MILTON KEYNES\",\"postalCode\":\"MK8 0AD\"},\"country\":{\"name\":\"United Kingdom\",\"isoCode\":\"GB\",\"euCode\":\"UK\"},\"terminated\":false,\"order\":8,\"activityType\":\"Private for-profit entities (excluding Higher or Secondary Education Establishments)\",\"contribution\":368720,\"netEcContribution\":null,\"nonEcContribution\":null,\"formula\":\"participant: \",\"website\":\"\",\"email\":\"pP\\\\/h7ZIlURjVKzU\\\\/D4zzqg==\",\"type\":\"participant\",\"contacts\":[{\"position\":\"relatedContact\",\"title\":\"Mr.\",\"name\":\"Carsten Moe\",\"phone\":\"+4570212170\",\"email\":\"pP\\\\/h7ZIlURjVKzU\\\\/D4zzqg==\",\"fax\":\"+4570212171\"}],\"organizationId\":\"953725147\",\"rcn\":\"2957951\",\"active\":true,\"sme\":false,\"regions\":\"\"},{\"name\":\"DATALASE LTD\",\"address\":{\"street\":\"WHELDON ROAD UNIT 3\",\"city\":\"WIDNES CHESHIRE\",\"postalCode\":\"WA8 8FW\"},\"country\":{\"name\":\"United Kingdom\",\"isoCode\":\"GB\",\"euCode\":\"UK\"},\"terminated\":false,\"order\":9,\"activityType\":\"Private for-profit entities (excluding Higher or Secondary Education Establishments)\",\"contribution\":433010,\"netEcContribution\":null,\"nonEcContribution\":null,\"formula\":\"participant: \",\"website\":\"\",\"email\":\"eu6RuLgMx5m64lSwn5EdOfjO8Qpnec+W8UV7iSiIqvY=\",\"type\":\"participant\",\"contacts\":[{\"position\":\"relatedContact\",\"title\":\"Mr.\",\"name\":\"Peter Whitehouse\",\"phone\":\"+44 151 423 9360\",\"email\":\"eu6RuLgMx5m64lSwn5EdOfjO8Qpnec+W8UV7iSiIqvY=\",\"fax\":\"+44 151 423 9366\"}],\"organizationId\":\"950311329\",\"rcn\":\"2957952\",\"active\":true,\"sme\":false,\"regions\":\"\"},{\"name\":\"BSH HAUSGERATE GMBH\",\"address\":{\"street\":\"CARL WERY STRASSE 34\",\"city\":\"MUNCHEN\",\"postalCode\":\"81739\"},\"country\":{\"name\":\"Germany\",\"isoCode\":\"DE\",\"euCode\":\"DE\"},\"terminated\":false,\"order\":10,\"activityType\":\"Private for-profit entities (excluding Higher or Secondary Education Establishments)\",\"contribution\":55800,\"netEcContribution\":null,\"nonEcContribution\":null,\"formula\":\"participant: \",\"website\":\"www.bsh-group.com\",\"email\":\"iNNpPm8r8heL9FSG1VV1+q6d7dD1B2MYc\\\\/le4qHEZww=\",\"type\":\"participant\",\"contacts\":[{\"position\":\"relatedContact\",\"title\":\"Mr.\",\"name\":\"Matthias Lutz\",\"phone\":\"+49 89 4590 3744\",\"email\":\"iNNpPm8r8heL9FSG1VV1+q6d7dD1B2MYc\\\\/le4qHEZww=\",\"fax\":\"\"}],\"organizationId\":\"953573536\",\"rcn\":\"1925082\",\"active\":true,\"sme\":false,\"regions\":\"Bayern|Oberbayern|M\\\\u00fcnchen, Kreisfreie Stadt\"},{\"name\":\"WIRTHWEIN GMBH \\\\u0026 CO KG\",\"address\":{\"street\":\"WALTER WIRTHWEIN STRASSE 2\",\"city\":\"CREGLINGEN\",\"postalCode\":\"97993\"},\"country\":{\"name\":\"Germany\",\"isoCode\":\"DE\",\"euCode\":\"DE\"},\"terminated\":false,\"order\":11,\"activityType\":\"Private for-profit entities (excluding Higher or Secondary Education Establishments)\",\"contribution\":107136,\"netEcContribution\":null,\"nonEcContribution\":null,\"formula\":\"participant: \",\"website\":\"\",\"email\":\"bdUTrtjk\\\\/sQUV95+YP9gIt6M7YVv42Ba1aEmZbwez3E=\",\"type\":\"participant\",\"contacts\":[{\"position\":\"relatedContact\",\"title\":\"Mr.\",\"name\":\"Thomas Doerfler\",\"phone\":\"+497933702 840\",\"email\":\"bdUTrtjk\\\\/sQUV95+YP9gIt6M7YVv42Ba1aEmZbwez3E=\",\"fax\":\"+49 7933 702 910\"}],\"organizationId\":\"951881274\",\"rcn\":\"2957954\",\"active\":true,\"sme\":false,\"regions\":\"\"},{\"name\":\"AGENCIA ESTATAL CONSEJO SUPERIOR DE INVESTIGACIONES CIENTIFICAS\",\"address\":{\"street\":\"CALLE SERRANO 117\",\"city\":\"MADRID\",\"postalCode\":\"28006\"},\"country\":{\"name\":\"Spain\",\"isoCode\":\"ES\",\"euCode\":\"ES\"},\"terminated\":false,\"order\":12,\"activityType\":\"Research Organisations\",\"contribution\":242353,\"netEcContribution\":null,\"nonEcContribution\":null,\"formula\":\"participant: \",\"website\":\"http:\\\\/\\\\/www.csic.es\",\"email\":\"P8iqr78bRLq41\\\\/Czqdorew==\",\"type\":\"participant\",\"contacts\":[{\"position\":\"relatedContact\",\"title\":\"Mr.\",\"name\":\"Alberto Sereno \\\\u00c1lvarez\",\"phone\":\"+34 91 566 8852\",\"email\":\"P8iqr78bRLq41\\\\/Czqdorew==\",\"fax\":\"+34 91 566 89 13\"}],\"organizationId\":\"999991722\",\"rcn\":\"1905575\",\"active\":true,\"sme\":false,\"regions\":\"Comunidad de Madrid|Comunidad de Madrid|Madrid\"}'\n",
            " '{\"name\":\"EEBUS INITIATIVE EV\",\"address\":{\"street\":\"BUTZWEILERHOF ALLEE 4\",\"city\":\"KOLN\",\"postalCode\":\"50829\"},\"country\":{\"name\":\"Germany\",\"isoCode\":\"DE\",\"euCode\":\"DE\"},\"terminated\":false,\"order\":2,\"activityType\":\"Other\",\"contribution\":1586508.68,\"netEcContribution\":1586508.68,\"nonEcContribution\":0,\"formula\":\"participant: 1586508.68 - 1586508.68 - 0\",\"website\":\"\",\"email\":\"\",\"type\":\"participant\",\"contacts\":[],\"organizationId\":\"915175795\",\"rcn\":\"1959273\",\"active\":true,\"sme\":false,\"regions\":\"Nordrhein-Westfalen|K\\\\u00f6ln|K\\\\u00f6ln, Kreisfreie Stadt\"},{\"name\":\"NEDERLANDSE ORGANISATIE VOOR TOEGEPAST NATUURWETENSCHAPPELIJK ONDERZOEK TNO\",\"address\":{\"street\":\"ANNA VAN BUERENPLEIN 1\",\"city\":\"DEN HAAG\",\"postalCode\":\"2595 DA\"},\"country\":{\"name\":\"Netherlands\",\"isoCode\":\"NL\",\"euCode\":\"NL\"},\"terminated\":false,\"order\":3,\"activityType\":\"Research Organisations\",\"contribution\":1515839.49,\"netEcContribution\":1515839.49,\"nonEcContribution\":0,\"formula\":\"participant: 1515839.49 - 1515839.49 - 0\",\"website\":\"http:\\\\/\\\\/www.tno.nl\",\"email\":\"\",\"type\":\"participant\",\"contacts\":[],\"organizationId\":\"999988909\",\"rcn\":\"1906036\",\"active\":true,\"sme\":false,\"regions\":\"West-Nederland|Zuid-Holland|Agglomeratie \\\\u2019s-Gravenhage\"},{\"name\":\"VLAAMSE INSTELLING VOOR TECHNOLOGISCH ONDERZOEK N.V.\",\"address\":{\"street\":\"BOERETANG 200\",\"city\":\"MOL\",\"postalCode\":\"2400\"},\"country\":{\"name\":\"Belgium\",\"isoCode\":\"BE\",\"euCode\":\"BE\"},\"terminated\":false,\"order\":4,\"activityType\":\"Research Organisations\",\"contribution\":1676937.5,\"netEcContribution\":1676937.5,\"nonEcContribution\":0,\"formula\":\"participant: 1676937.5 - 1676937.5 - 0\",\"website\":\"http:\\\\/\\\\/www.vito.be\",\"email\":\"\",\"type\":\"participant\",\"contacts\":[],\"organizationId\":\"999645238\",\"rcn\":\"1908795\",\"active\":true,\"sme\":false,\"regions\":\"Vlaams Gewest|Prov. Antwerpen|Arr. Turnhout\"},{\"name\":\"E-REDES - DISTRIBUICAO DE ELETRICIDADE SA\",\"address\":{\"street\":\"RUA CAMILO CASTELO BRANCO 43\",\"city\":\"LISBOA\",\"postalCode\":\"1050 044\"},\"country\":{\"name\":\"Portugal\",\"isoCode\":\"PT\",\"euCode\":\"PT\"},\"terminated\":false,\"order\":5,\"activityType\":\"Private for-profit entities (excluding Higher or Secondary Education Establishments)\",\"contribution\":898887.5,\"netEcContribution\":800887.5,\"nonEcContribution\":343237.5,\"formula\":\"participant: 1284125 - 800887.5 - 140000\",\"website\":\"\",\"email\":\"\",\"type\":\"participant\",\"contacts\":[],\"organizationId\":\"998939854\",\"rcn\":\"1924223\",\"active\":true,\"sme\":false,\"regions\":\"Continente|\\\\u00c1rea Metropolitana de Lisboa|\\\\u00c1rea Metropolitana de Lisboa\"},{\"name\":\"LABELEC ESTUDOS DESENVOLVIMENTO E ACTIVIDADES LABORATORIAIS SA\",\"address\":{\"street\":\"RUA CIDADE DE GOA 4 SACAVEM\",\"city\":\"LISBOA\",\"postalCode\":\"2685 039\"},\"country\":{\"name\":\"Portugal\",\"isoCode\":\"PT\",\"euCode\":\"PT\"},\"terminated\":false,\"order\":5,\"activityType\":\"Private for-profit entities (excluding Higher or Secondary Education Establishments)\",\"contribution\":0,\"netEcContribution\":98000,\"nonEcContribution\":42000,\"formula\":\"thirdParty: 140000 - 98000\",\"website\":\"\",\"email\":\"\",\"type\":\"thirdParty\",\"contacts\":[],\"organizationId\":\"941651557\",\"rcn\":\"2428968\",\"active\":true,\"sme\":false,\"regions\":\"Continente|\\\\u00c1rea Metropolitana de Lisboa|\\\\u00c1rea Metropolitana de Lisboa\"},{\"name\":\"FONDACIJA VIZLORE LABS\",\"address\":{\"street\":\"JEFIMIJINA 6\",\"city\":\"ARANDJELOVAC\",\"postalCode\":\"34300\"},\"country\":{\"name\":\"Serbia\",\"isoCode\":\"RS\",\"euCode\":\"RS\"},\"terminated\":false,\"order\":6,\"activityType\":\"Research Organisations\",\"contribution\":385625,\"netEcContribution\":385625,\"nonEcContribution\":0,\"formula\":\"participant: 385625 - 385625 - 0\",\"website\":\"\",\"email\":\"\",\"type\":\"participant\",\"contacts\":[],\"organizationId\":\"929717647\",\"rcn\":\"2672242\",\"active\":true,\"sme\":false,\"regions\":\"\\\\u0421\\\\u0440\\\\u0431\\\\u0438\\\\u0458\\\\u0430 - \\\\u0458\\\\u0443\\\\u0433 |\\\\u0420\\\\u0435\\\\u0433\\\\u0438\\\\u043e\\\\u043d \\\\u0428\\\\u0443\\\\u043c\\\\u0430\\\\u0434\\\\u0438\\\\u0458\\\\u0435 \\\\u0438 \\\\u0417\\\\u0430\\\\u043f\\\\u0430\\\\u0434\\\\u043d\\\\u0435 \\\\u0421\\\\u0440\\\\u0431\\\\u0438\\\\u0458\\\\u0435|\\\\u0428\\\\u0443\\\\u043c\\\\u0430\\\\u0434\\\\u0438\\\\u0458\\\\u0441\\\\u043a\\\\u0430 \\\\u043e\\\\u0431\\\\u043b\\\\u0430\\\\u0441\\\\u0442\"},{\"name\":\"TH!NK E\",\"address\":{\"street\":\"OPHEMSTRAAT 140\",\"city\":\"OUD-HEVERLEE\",\"postalCode\":\"3050\"},\"country\":{\"name\":\"Belgium\",\"isoCode\":\"BE\",\"euCode\":\"BE\"},\"terminated\":false,\"order\":7,\"activityType\":\"Private for-profit entities (excluding Higher or Secondary Education Establishments)\",\"contribution\":399407.75,\"netEcContribution\":399407.75,\"nonEcContribution\":171174.75,\"formula\":\"participant: 570582.5 - 399407.75 - 0\",\"website\":\"\",\"email\":\"\",\"type\":\"participant\",\"contacts\":[],\"organizationId\":\"952129982\",\"rcn\":\"2285222\",\"active\":true,\"sme\":true,\"regions\":\"Vlaams Gewest|Prov. Vlaams-Brabant|Arr. Leuven\"},{\"name\":\"FUNDINGBOX ACCELERATOR SP ZOO\",\"address\":{\"street\":\"UL POSTEPU 15\",\"city\":\"WARSZAWA\",\"postalCode\":\"02-676\"},\"country\":{\"name\":\"Poland\",\"isoCode\":\"PL\",\"euCode\":\"PL\"},\"terminated\":false,\"order\":8,\"activityType\":\"Other\",\"contribution\":4159687.5,\"netEcContribution\":4095000,\"nonEcContribution\":0,\"formula\":\"participant: 4159687.5 - 4095000 - 64687.5\",\"website\":\"\",\"email\":\"\",\"type\":\"participant\",\"contacts\":[],\"organizationId\":\"951227688\",\"rcn\":\"2712709\",\"active\":true,\"sme\":true,\"regions\":\"Makroregion wojew\\\\u00f3dztwo mazowieckie|Warszawski sto\\\\u0142eczny|Miasto Warszawa\"},{\"name\":\"FUNDINGBOX COMMUNITIES SL\",\"address\":{\"street\":\"CALLE TITAN 8\",\"city\":\"MADRID\",\"postalCode\":\"28045\"},\"country\":{\"name\":\"Spain\",\"isoCode\":\"ES\",\"euCode\":\"ES\"},\"terminated\":false,\"order\":8,\"activityType\":\"Other\",\"contribution\":0,\"netEcContribution\":64687.5,\"nonEcContribution\":0,\"formula\":\"thirdParty: 64687.5 - 64687.5\",\"website\":\"\",\"email\":\"\",\"type\":\"thirdParty\",\"contacts\":[],\"organizationId\":\"911373783\",\"rcn\":\"1946252\",\"active\":true,\"sme\":true,\"regions\":\"Comunidad de Madrid|Comunidad de Madrid|Madrid\"},{\"name\":\"WINGS ICT SOLUTIONS INFORMATION \\\\u0026 COMMUNICATION TECHNOLOGIES IKE\",\"address\":{\"street\":\"189, SYGGROU AVENUE\",\"city\":\"NEA SMYRNI\",\"postalCode\":\"171 21\"},\"country\":{\"name\":\"Greece\",\"isoCode\":\"EL\",\"euCode\":\"EL\"},\"terminated\":false,\"order\":9,\"activityType\":\"Private for-profit entities (excluding Higher or Secondary Education Establishments)\",\"contribution\":416937.5,\"netEcContribution\":416937.5,\"nonEcContribution\":178687.5,\"formula\":\"participant: 595625 - 416937.5 - 0\",\"website\":\"\",\"email\":\"\",\"type\":\"participant\",\"contacts\":[],\"organizationId\":\"952269953\",\"rcn\":\"2372367\",\"active\":true,\"sme\":true,\"regions\":\"\\\\u039d\\\\u03cc\\\\u03c4\\\\u03b9\\\\u03bf\\\\u03c2 \\\\u03a4\\\\u03bf\\\\u03bc\\\\u03ad\\\\u03b1\\\\u03c2 \\\\u0391\\\\u03b8\\\\u03b7\\\\u03bd\\\\u03ce\\\\u03bd|A\\\\u03c4\\\\u03c4\\\\u03b9\\\\u03ba\\\\u03ae|\\\\u0391\\\\u03c4\\\\u03c4\\\\u03b9\\\\u03ba\\\\u03ae \"},{\"name\":\"MC SHARED SERVICES SA\",\"address\":{\"street\":\"LUGAR DO ESPIDO, VIA NORTE\",\"city\":\"MAIA\",\"postalCode\":\"4470-177\"},\"country\":{\"name\":\"Portugal\",\"isoCode\":\"PT\",\"euCode\":\"PT\"},\"terminated\":false,\"order\":10,\"activityType\":\"Private for-profit entities (excluding Higher or Secondary Education Establishments)\",\"contribution\":665437.49,\"netEcContribution\":133087.49,\"nonEcContribution\":57037.5,\"formula\":\"participant: 950624.99 - 133087.49 - 760500\",\"website\":\"\",\"email\":\"\",\"type\":\"participant\",\"contacts\":[],\"organizationId\":\"941124556\",\"rcn\":\"2517420\",\"active\":true,\"sme\":false,\"regions\":\"Continente|Norte|\\\\u00c1rea Metropolitana do Porto\"},{\"name\":\"MODELO CONTINENTE HIPERMERCADOS S.A.\",\"address\":{\"street\":\"RUA JOAO MENDONCA 505\",\"city\":\"SENHORA DA HORA\",\"postalCode\":\"4464-503\"},\"country\":{\"name\":\"Portugal\",\"isoCode\":\"PT\",\"euCode\":\"PT\"},\"terminated\":false,\"order\":10,\"activityType\":\"Private for-profit entities (excluding Higher or Secondary Education Establishments)\",\"contribution\":0,\"netEcContribution\":159705,\"nonEcContribution\":68445,\"formula\":\"thirdParty: 228150 - 159705\",\"website\":\"\",\"email\":\"\",\"type\":\"thirdParty\",\"contacts\":[],\"organizationId\":\"940666231\",\"rcn\":\"2635383\",\"active\":true,\"sme\":false,\"regions\":\"Continente|Norte|\\\\u00c1rea Metropolitana do Porto\"},{\"name\":\"ELERGONE ENERGIA, LDA\",\"address\":{\"street\":\"RUA DE ALMEIRIGA 586\",\"city\":\"LECA DA PALMEIRA\",\"postalCode\":\"4451-801\"},\"country\":{\"name\":\"Portugal\",\"isoCode\":\"PT\",\"euCode\":\"PT\"},\"terminated\":false,\"order\":10,\"activityType\":\"Private for-profit entities (excluding Higher or Secondary Education Establishments)\",\"contribution\":0,\"netEcContribution\":372645,\"nonEcContribution\":159705,\"formula\":\"thirdParty: 532350 - 372645\",\"website\":\"\",\"email\":\"\",\"type\":\"thirdParty\",\"contacts\":[],\"organizationId\":\"900013725\",\"rcn\":\"1971285\",\"active\":true,\"sme\":false,\"regions\":\"Continente|Norte|\\\\u00c1rea Metropolitana do Porto\"},{\"name\":\"FRAUNHOFER GESELLSCHAFT ZUR FORDERUNG DER ANGEWANDTEN FORSCHUNG EV\",\"address\":{\"street\":\"HANSASTRASSE 27C\",\"city\":\"MUNCHEN\",\"postalCode\":\"80686\"},\"country\":{\"name\":\"Germany\",\"isoCode\":\"DE\",\"euCode\":\"DE\"},\"terminated\":false,\"order\":11,\"activityType\":\"Research Organisations\",\"contribution\":243420.33,\"netEcContribution\":243420.33,\"nonEcContribution\":0,\"formula\":\"participant: 243420.33 - 243420.33 - 0\",\"website\":\"http:\\\\/\\\\/www.fraunhofer.de\",\"email\":\"\",\"type\":\"participant\",\"contacts\":[],\"organizationId\":\"999984059\",\"rcn\":\"1905912\",\"active\":true,\"sme\":false,\"regions\":\"Bayern|Oberbayern|M\\\\u00fcnchen, Kreisfreie Stadt\"},{\"name\":\"VOLKERWESSELS ICITY B.V.\",\"address\":{\"street\":\"REGGESINGEL 4\",\"city\":\"RIJSSEN\",\"postalCode\":\"7460 AJ\"},\"country\":{\"name\":\"Netherlands\",\"isoCode\":\"NL\",\"euCode\":\"NL\"},\"terminated\":false,\"order\":12,\"activityType\":\"Private for-profit entities (excluding Higher or Secondary Education Establishments)\",\"contribution\":973481.25,\"netEcContribution\":459637.5,\"nonEcContribution\":196987.5,\"formula\":\"participant: 1390687.5 - 459637.5 - 734062.5\",\"website\":\"\",\"email\":\"\",\"type\":\"participant\",\"contacts\":[],\"organizationId\":\"929135453\",\"rcn\":\"1959275\",\"active\":true,\"sme\":false,\"regions\":\"Oost-Nederland|Overijssel|Twente\"},{\"name\":\"HYRDE BV\",\"address\":{\"street\":\"MODEMWEG 33\",\"city\":\"AMERSFOORT\",\"postalCode\":\"3821 BS\"},\"country\":{\"name\":\"Netherlands\",\"isoCode\":\"NL\",\"euCode\":\"NL\"},\"terminated\":false,\"order\":12,\"activityType\":\"Private for-profit entities (excluding Higher or Secondary Education Establishments)\",\"contribution\":0,\"netEcContribution\":432468.75,\"nonEcContribution\":185343.75,\"formula\":\"thirdParty: 617812.5 - 432468.75\",\"website\":\"\",\"email\":\"\",\"type\":\"thirdParty\",\"contacts\":[],\"organizationId\":\"904272122\",\"rcn\":\"1971881\",\"active\":true,\"sme\":false,\"regions\":\"West-Nederland|Utrecht|Utrecht\"},{\"name\":\"VOLKER WESSELS TELECOM B.V.\",\"address\":{\"street\":\"MODEMWEG 33\",\"city\":\"AMERSFOORT\",\"postalCode\":\"3821 BS\"},\"country\":{\"name\":\"Netherlands\",\"isoCode\":\"NL\",\"euCode\":\"NL\"},\"terminated\":false,\"order\":12,\"activityType\":\"Private for-profit entities (excluding Higher or Secondary Education Establishments)\",\"contribution\":0,\"netEcContribution\":52500,\"nonEcContribution\":22500,\"formula\":\"thirdParty: 75000 - 52500\",\"website\":\"\",\"email\":\"\",\"type\":\"thirdParty\",\"contacts\":[],\"organizationId\":\"899788491\",\"rcn\":\"1971879\",\"active\":true,\"sme\":false,\"regions\":\"West-Nederland|Utrecht|Utrecht\"},{\"name\":\"RECOGNIZE B.V.\",\"address\":{\"street\":\"STATIONSSTRAAT 11\",\"city\":\"ALMELO\",\"postalCode\":\"7607GX\"},\"country\":{\"name\":\"Netherlands\",\"isoCode\":\"NL\",\"euCode\":\"NL\"},\"terminated\":false,\"order\":12,\"activityType\":\"Private for-profit entities (excluding Higher or Secondary Education Establishments)\",\"contribution\":0,\"netEcContribution\":28875,\"nonEcContribution\":12375,\"formula\":\"thirdParty: 41250 - 28875\",\"website\":\"\",\"email\":\"\",\"type\":\"thirdParty\",\"contacts\":[],\"organizationId\":\"899793826\",\"rcn\":\"1971880\",\"active\":true,\"sme\":false,\"regions\":\"Oost-Nederland|Overijssel|Twente\"},{\"name\":\"PLANET IDEA SRL\",\"address\":{\"street\":\"CORSO VALDOCCO 2\",\"city\":\"TORINO\",\"postalCode\":\"10122\"},\"country\":{\"name\":\"Italy\",\"isoCode\":\"IT\",\"euCode\":\"IT\"},\"terminated\":false,\"order\":13,\"activityType\":\"Private for-profit entities (excluding Higher or Secondary Education Establishments)\",\"contribution\":253662.5,\"netEcContribution\":253662.5,\"nonEcContribution\":108712.5,\"formula\":\"participant: 362375 - 253662.5 - 0\",\"website\":\"\",\"email\":\"\",\"type\":\"participant\",\"contacts\":[],\"organizationId\":\"904094127\",\"rcn\":\"1959276\",\"active\":true,\"sme\":false,\"regions\":\"Nord-Ovest|Piemonte|Torino\"},{\"name\":\"GRIDNET S.A.\",\"address\":{\"street\":\"ELEFTERIOU VENIZELOU 110\",\"city\":\"NEA SMYRNI\",\"postalCode\":\"17122\"},\"country\":{\"name\":\"Greece\",\"isoCode\":\"EL\",\"euCode\":\"EL\"},\"terminated\":false,\"order\":14,\"activityType\":\"Private for-profit entities (excluding Higher or Secondary Education Establishments)\",\"contribution\":462262.5,\"netEcContribution\":462262.5,\"nonEcContribution\":198112.5,\"formula\":\"participant: 660375 - 462262.5 - 0\",\"website\":\"\",\"email\":\"\",\"type\":\"participant\",\"contacts\":[],\"organizationId\":\"942811386\",\"rcn\":\"2396771\",\"active\":true,\"sme\":true,\"regions\":\"\\\\u039d\\\\u03cc\\\\u03c4\\\\u03b9\\\\u03bf\\\\u03c2 \\\\u03a4\\\\u03bf\\\\u03bc\\\\u03ad\\\\u03b1\\\\u03c2 \\\\u0391\\\\u03b8\\\\u03b7\\\\u03bd\\\\u03ce\\\\u03bd|A\\\\u03c4\\\\u03c4\\\\u03b9\\\\u03ba\\\\u03ae|\\\\u0391\\\\u03c4\\\\u03c4\\\\u03b9\\\\u03ba\\\\u03ae \"},{\"name\":\"YNCREA MEDITERRANEE\",\"address\":{\"street\":\"MAISON DES TECHNOLOGIES PL GEORGE POMPIDOU\",\"city\":\"TOULON\",\"postalCode\":\"83000\"},\"country\":{\"name\":\"France\",\"isoCode\":\"FR\",\"euCode\":\"FR\"},\"terminated\":false,\"order\":15,\"activityType\":\"Higher or Secondary Education Establishments\",\"contribution\":1036025,\"netEcContribution\":1036025,\"nonEcContribution\":0,\"formula\":\"participant: 1036025 - 1036025 - 0\",\"website\":\"\",\"email\":\"\",\"type\":\"participant\",\"contacts\":[],\"organizationId\":\"948765925\",\"rcn\":\"2381542\",\"active\":true,\"sme\":false,\"regions\":\"Provence-Alpes-C\\\\u00f4te d\\\\u2019Azur|Provence-Alpes-C\\\\u00f4te d\\\\u2019Azur|Var\"},{\"name\":\"ATHENS UNIVERSITY OF ECONOMICS AND BUSINESS - RESEARCH CENTER\",\"address\":{\"street\":\"KEFALLINIAS STREET 46\",\"city\":\"ATHENS\",\"postalCode\":\"11251\"},\"country\":{\"name\":\"Greece\",\"isoCode\":\"EL\",\"euCode\":\"EL\"},\"terminated\":false,\"order\":16,\"activityType\":\"Higher or Secondary Education Establishments\",\"contribution\":327812.5,\"netEcContribution\":327812.5,\"nonEcContribution\":0,\"formula\":\"participant: 327812.5 - 327812.5 - 0\",\"website\":\"\",\"email\":\"\",\"type\":\"participant\",\"contacts\":[],\"organizationId\":\"999896856\",\"rcn\":\"1906437\",\"active\":true,\"sme\":false,\"regions\":\"\\\\u039a\\\\u03b5\\\\u03bd\\\\u03c4\\\\u03c1\\\\u03b9\\\\u03ba\\\\u03cc\\\\u03c2 \\\\u03a4\\\\u03bf\\\\u03bc\\\\u03ad\\\\u03b1\\\\u03c2 \\\\u0391\\\\u03b8\\\\u03b7\\\\u03bd\\\\u03ce\\\\u03bd|A\\\\u03c4\\\\u03c4\\\\u03b9\\\\u03ba\\\\u03ae|\\\\u0391\\\\u03c4\\\\u03c4\\\\u03b9\\\\u03ba\\\\u03ae \"},{\"name\":\"ELEKTRO LJUBLJANA PODJETJE ZADISTRIBUCIJO ELEKTRICNE ENERGIJE D.D.\",\"address\":{\"street\":\"Slovenska cesta  58\",\"city\":\"Ljubljana\",\"postalCode\":\"1000\"},\"country\":{\"name\":\"Slovenia\",\"isoCode\":\"SI\",\"euCode\":\"SI\"},\"terminated\":false,\"order\":17,\"activityType\":\"Private for-profit entities (excluding Higher or Secondary Education Establishments)\",\"contribution\":76781.25,\"netEcContribution\":76781.25,\"nonEcContribution\":32906.25,\"formula\":\"participant: 109687.5 - 76781.25 - 0\",\"website\":\"\",\"email\":\"\",\"type\":\"participant\",\"contacts\":[],\"organizationId\":\"984906476\",\"rcn\":\"2712604\",\"active\":true,\"sme\":false,\"regions\":\"Slovenija|Zahodna Slovenija|Osrednjeslovenska\"},{\"name\":\"THERMOVAULT\",\"address\":{\"street\":\"HOEFSTADSTRAAT 86\",\"city\":\"GENK\",\"postalCode\":\"3600\"},\"country\":{\"name\":\"Belgium\",\"isoCode\":\"BE\",\"euCode\":\"BE\"},\"terminated\":false,\"order\":18,\"activityType\":\"Private for-profit entities (excluding Higher or Secondary Education Establishments)\",\"contribution\":468301.75,\"netEcContribution\":468301.75,\"nonEcContribution\":200700.75,\"formula\":\"participant: 669002.5 - 468301.75 - 0\",\"website\":\"\",\"email\":\"\",\"type\":\"participant\",\"contacts\":[],\"organizationId\":\"911106742\",\"rcn\":\"1956867\",\"active\":true,\"sme\":true,\"regions\":\"Vlaams Gewest|Prov. Limburg (BE)|Arr. Hasselt\"},{\"name\":\"TRIALOG\",\"address\":{\"street\":\"25 RUE DU GENERAL FOY\",\"city\":\"PARIS\",\"postalCode\":\"75008\"},\"country\":{\"name\":\"France\",\"isoCode\":\"FR\",\"euCode\":\"FR\"},\"terminated\":false,\"order\":19,\"activityType\":\"Private for-profit entities (excluding Higher or Secondary Education Establishments)\",\"contribution\":731141.25,\"netEcContribution\":731141.25,\"nonEcContribution\":313346.25,\"formula\":\"participant: 1044487.5 - 731141.25 - 0\",\"website\":\"www.trialog.com\",\"email\":\"\",\"type\":\"participant\",\"contacts\":[],\"organizationId\":\"999617884\",\"rcn\":\"1913305\",\"active\":true,\"sme\":true,\"regions\":\"Ile-de-France|Ile-de-France|Paris\"},{\"name\":\"DOMOTICA SGTA GESTAO TECNICA E AUTOMACAO LDA\",\"address\":{\"street\":\"ALAMEDA ROENTGEN 2 A - 1 C\",\"city\":\"LISBOA\",\"postalCode\":\"1600-759\"},\"country\":{\"name\":\"Portugal\",\"isoCode\":\"PT\",\"euCode\":\"PT\"},\"terminated\":false,\"order\":20,\"activityType\":\"Private for-profit entities (excluding Higher or Secondary Education Establishments)\",\"contribution\":172943.75,\"netEcContribution\":172943.75,\"nonEcContribution\":74118.75,\"formula\":\"participant: 247062.5 - 172943.75 - 0\",\"website\":\"\",\"email\":\"\",\"type\":\"participant\",\"contacts\":[],\"organizationId\":\"934048794\",\"rcn\":\"1959280\",\"active\":true,\"sme\":false,\"regions\":\"Continente|\\\\u00c1rea Metropolitana de Lisboa|\\\\u00c1rea Metropolitana de Lisboa\"},{\"name\":\"SCHNEIDER ELECTRIC PORTUGAL LDA\",\"address\":{\"street\":\"AVENIDA DO FORTE 3 EDIFICIO SUECIA III PISO 3\",\"city\":\"CARNAXIDE\",\"postalCode\":\"2790 073\"},\"country\":{\"name\":\"Portugal\",\"isoCode\":\"PT\",\"euCode\":\"PT\"},\"terminated\":false,\"order\":21,\"activityType\":\"Private for-profit entities (excluding Higher or Secondary Education Establishments)\",\"contribution\":129062.5,\"netEcContribution\":129062.5,\"nonEcContribution\":55312.5,\"formula\":\"participant: 184375 - 129062.5 - 0\",\"website\":\"\",\"email\":\"\",\"type\":\"participant\",\"contacts\":[],\"organizationId\":\"899814875\",\"rcn\":\"1959281\",\"active\":true,\"sme\":false,\"regions\":\"Continente|\\\\u00c1rea Metropolitana de Lisboa|\\\\u00c1rea Metropolitana de Lisboa\"},{\"name\":\"VRIJE UNIVERSITEIT BRUSSEL\",\"address\":{\"street\":\"PLEINLAAN 2\",\"city\":\"BRUSSEL\",\"postalCode\":\"1050\"},\"country\":{\"name\":\"Belgium\",\"isoCode\":\"BE\",\"euCode\":\"BE\"},\"terminated\":false,\"order\":22,\"activityType\":\"Higher or Secondary Education Establishments\",\"contribution\":473948.75,\"netEcContribution\":473948.75,\"nonEcContribution\":0,\"formula\":\"participant: 473948.75 - 473948.75 - 0\",\"website\":\"http:\\\\/\\\\/www.vub.ac.be\",\"email\":\"\",\"type\":\"participant\",\"contacts\":[],\"organizationId\":\"999902094\",\"rcn\":\"1906222\",\"active\":true,\"sme\":false,\"regions\":\"R\\\\u00e9gion de Bruxelles-Capitale\\\\/Brussels Hoofdstedelijk Gewest|R\\\\u00e9gion de Bruxelles-Capitale\\\\/ Brussels Hoofdstedelijk Gewest|Arr. de Bruxelles-Capitale\\\\/Arr. Brussel-Hoofdstad\"},{\"name\":\"INTERUNIVERSITAIR MICRO-ELECTRONICA CENTRUM\",\"address\":{\"street\":\"KAPELDREEF 75\",\"city\":\"LEUVEN\",\"postalCode\":\"3001\"},\"country\":{\"name\":\"Belgium\",\"isoCode\":\"BE\",\"euCode\":\"BE\"},\"terminated\":false,\"order\":23,\"activityType\":\"Research Organisations\",\"contribution\":577135,\"netEcContribution\":577135,\"nonEcContribution\":0,\"formula\":\"participant: 577135 - 577135 - 0\",\"website\":\"http:\\\\/\\\\/www.imec.be\",\"email\":\"\",\"type\":\"participant\",\"contacts\":[],\"organizationId\":\"999981149\",\"rcn\":\"1905930\",\"active\":true,\"sme\":false,\"regions\":\"Vlaams Gewest|Prov. Vlaams-Brabant|Arr. Leuven\"},{\"name\":\"DUCOOP\",\"address\":{\"street\":\"POORTAKKERSTRAAT 94\",\"city\":\"GENT\",\"postalCode\":\"9051\"},\"country\":{\"name\":\"Belgium\",\"isoCode\":\"BE\",\"euCode\":\"BE\"},\"terminated\":false,\"order\":24,\"activityType\":\"Private for-profit entities (excluding Higher or Secondary Education Establishments)\",\"contribution\":145715.5,\"netEcContribution\":145715.5,\"nonEcContribution\":62449.5,\"formula\":\"participant: 208165 - 145715.5 - 0\",\"website\":\"\",\"email\":\"\",\"type\":\"participant\",\"contacts\":[],\"organizationId\":\"933748191\",\"rcn\":\"1959282\",\"active\":true,\"sme\":false,\"regions\":\"Vlaams Gewest|Prov. Oost-Vlaanderen|Arr. Gent\"},{\"name\":\"3E\",\"address\":{\"street\":\"KALKKAAI 6\",\"city\":\"BRUSSEL\",\"postalCode\":\"1000\"},\"country\":{\"name\":\"Belgium\",\"isoCode\":\"BE\",\"euCode\":\"BE\"},\"terminated\":false,\"order\":25,\"activityType\":\"Private for-profit entities (excluding Higher or Secondary Education Establishments)\",\"contribution\":656187,\"netEcContribution\":656187,\"nonEcContribution\":281223,\"formula\":\"participant: 937410 - 656187 - 0\",\"website\":\"www.3e.eu\",\"email\":\"\",\"type\":\"participant\",\"contacts\":[],\"organizationId\":\"998314786\",\"rcn\":\"1909922\",\"active\":true,\"sme\":true,\"regions\":\"R\\\\u00e9gion de Bruxelles-Capitale\\\\/Brussels Hoofdstedelijk Gewest|R\\\\u00e9gion de Bruxelles-Capitale\\\\/ Brussels Hoofdstedelijk Gewest|Arr. de Bruxelles-Capitale\\\\/Arr. Brussel-Hoofdstad\"},{\"name\":\"CORDIUM CVBA\",\"address\":{\"street\":\"GOUVERNEUR ROPPESINGEL 133\",\"city\":\"HASSELT\",\"postalCode\":\"3500\"},\"country\":{\"name\":\"Belgium\",\"isoCode\":\"BE\",\"euCode\":\"BE\"},\"terminated\":false,\"order\":26,\"activityType\":\"Private for-profit entities (excluding Higher or Secondary Education Establishments)\",\"contribution\":143136,\"netEcContribution\":143136,\"nonEcContribution\":61344,\"formula\":\"participant: 204480 - 143136 - 0\",\"website\":\"http:\\\\/\\\\/www.cordium.be\",\"email\":\"\",\"type\":\"participant\",\"contacts\":[],\"organizationId\":\"956731856\",\"rcn\":\"1947312\",\"active\":true,\"sme\":false,\"regions\":\"Vlaams Gewest|Prov. Limburg (BE)|Arr. Hasselt\"},{\"name\":\"STICHTING VU\",\"address\":{\"street\":\"DE BOELELAAN 1105\",\"city\":\"AMSTERDAM\",\"postalCode\":\"1081 HV\"},\"country\":{\"name\":\"Netherlands\",\"isoCode\":\"NL\",\"euCode\":\"NL\"},\"terminated\":false,\"order\":27,\"activityType\":\"Higher or Secondary Education Establishments\",\"contribution\":446468.75,\"netEcContribution\":446468.75,\"nonEcContribution\":0,\"formula\":\"participant: 446468.75 - 446468.75 - 0\",\"website\":\"http:\\\\/\\\\/www.vu.nl\",\"email\":\"\",\"type\":\"participant\",\"contacts\":[],\"organizationId\":\"954530344\",\"rcn\":\"1905554\",\"active\":true,\"sme\":false,\"regions\":\"West-Nederland|Noord-Holland|Groot-Amsterdam\"},{\"name\":\"IRON THERMOILEKTRIKI ANONYMI ETAIREIA\",\"address\":{\"street\":\"LEOFOROS MESOGEION 85\",\"city\":\"ATHINA\",\"postalCode\":\"11526\"},\"country\":{\"name\":\"Greece\",\"isoCode\":\"EL\",\"euCode\":\"EL\"},\"terminated\":false,\"order\":28,\"activityType\":\"Private for-profit entities (excluding Higher or Secondary Education Establishments)\",\"contribution\":363562.5,\"netEcContribution\":363562.5,\"nonEcContribution\":155812.5,\"formula\":\"participant: 519375 - 363562.5 - 0\",\"website\":\"\",\"email\":\"\",\"type\":\"participant\",\"contacts\":[],\"organizationId\":\"954579911\",\"rcn\":\"1959283\",\"active\":true,\"sme\":false,\"regions\":\"\\\\u039a\\\\u03b5\\\\u03bd\\\\u03c4\\\\u03c1\\\\u03b9\\\\u03ba\\\\u03cc\\\\u03c2 \\\\u03a4\\\\u03bf\\\\u03bc\\\\u03ad\\\\u03b1\\\\u03c2 \\\\u0391\\\\u03b8\\\\u03b7\\\\u03bd\\\\u03ce\\\\u03bd|A\\\\u03c4\\\\u03c4\\\\u03b9\\\\u03ba\\\\u03ae|\\\\u0391\\\\u03c4\\\\u03c4\\\\u03b9\\\\u03ba\\\\u03ae \"},{\"name\":\"COSMOTE KINITES TILEPIKOINONIES AE\",\"address\":{\"street\":\"KIFISSIAS 99\",\"city\":\"ATHENS\",\"postalCode\":\"15124\"},\"country\":{\"name\":\"Greece\",\"isoCode\":\"EL\",\"euCode\":\"EL\"},\"terminated\":false,\"order\":29,\"activityType\":\"Private for-profit entities (excluding Higher or Secondary Education Establishments)\",\"contribution\":377606.25,\"netEcContribution\":377606.25,\"nonEcContribution\":161831.25,\"formula\":\"participant: 539437.5 - 377606.25 - 0\",\"website\":\"\",\"email\":\"\",\"type\":\"participant\",\"contacts\":[],\"organizationId\":\"999654550\",\"rcn\":\"2171204\",\"active\":true,\"sme\":false,\"regions\":\"\\\\u0392\\\\u03cc\\\\u03c1\\\\u03b5\\\\u03b9\\\\u03bf\\\\u03c2 \\\\u03a4\\\\u03bf\\\\u03bc\\\\u03ad\\\\u03b1\\\\u03c2 \\\\u0391\\\\u03b8\\\\u03b7\\\\u03bd\\\\u03ce\\\\u03bd|A\\\\u03c4\\\\u03c4\\\\u03b9\\\\u03ba\\\\u03ae|\\\\u0391\\\\u03c4\\\\u03c4\\\\u03b9\\\\u03ba\\\\u03ae \"},{\"name\":\"ENEDIS\",\"address\":{\"street\":\"34 PLACE DES COROLLES TOUR ERDF\",\"city\":\"PARIS LA DEFENSE CEDEX\",\"postalCode\":\"92079\"},\"country\":{\"name\":\"France\",\"isoCode\":\"FR\",\"euCode\":\"FR\"},\"terminated\":false,\"order\":30,\"activityType\":\"Private for-profit entities (excluding Higher or Secondary Education Establishments)\",\"contribution\":640464.13,\"netEcContribution\":640464.13,\"nonEcContribution\":274484.62,\"formula\":\"participant: 914948.75 - 640464.13 - 0\",\"website\":\"www.erdfdistribution.fr\",\"email\":\"\",\"type\":\"participant\",\"contacts\":[],\"organizationId\":\"983130309\",\"rcn\":\"1924233\",\"active\":true,\"sme\":false,\"regions\":\"Ile-de-France|Ile-de-France|Hauts-de-Seine \"},{\"name\":\"ENGIE\",\"address\":{\"street\":\"1 PLACE SAMUEL DE CHAMPLAIN\",\"city\":\"COURBEVOIE\",\"postalCode\":\"92400\"},\"country\":{\"name\":\"France\",\"isoCode\":\"FR\",\"euCode\":\"FR\"},\"terminated\":false,\"order\":31,\"activityType\":\"Private for-profit entities (excluding Higher or Secondary Education Establishments)\",\"contribution\":1269187.52,\"netEcContribution\":287092.28,\"nonEcContribution\":123039.55,\"formula\":\"participant: 1794150.03 - 287092.28 - 1384018.2\",\"website\":\"http:\\\\/\\\\/www.gdfsuez.com\",\"email\":\"\",\"type\":\"participant\",\"contacts\":[],\"organizationId\":\"999964562\",\"rcn\":\"1905789\",\"active\":true,\"sme\":false,\"regions\":\"Ile-de-France|Ile-de-France|Hauts-de-Seine \"},{\"name\":\"ENGIE ENERGY MANAGEMENT\",\"address\":{\"street\":\"BOULEVARD SIMON BOLIVAR 34\",\"city\":\"BRUSSEL\",\"postalCode\":\"1000\"},\"country\":{\"name\":\"Belgium\",\"isoCode\":\"BE\",\"euCode\":\"BE\"},\"terminated\":false,\"order\":31,\"activityType\":\"Private for-profit entities (excluding Higher or Secondary Education Establishments)\",\"contribution\":0,\"netEcContribution\":19674.3,\"nonEcContribution\":8431.84,\"formula\":\"thirdParty: 28106.14 - 19674.3\",\"website\":\"\",\"email\":\"\",\"type\":\"thirdParty\",\"contacts\":[],\"organizationId\":\"917737662\",\"rcn\":\"1971885\",\"active\":true,\"sme\":false,\"regions\":\"R\\\\u00e9gion de Bruxelles-Capitale\\\\/Brussels Hoofdstedelijk Gewest|R\\\\u00e9gion de Bruxelles-Capitale\\\\/ Brussels Hoofdstedelijk Gewest|Arr. de Bruxelles-Capitale\\\\/Arr. Brussel-Hoofdstad\"},{\"name\":\"ENGIE GLOBAL MARKETS\",\"address\":{\"street\":\"1 PLACE SAMUEL DE CHAMPLAIN\",\"city\":\"COURBEVOIE\",\"postalCode\":\"92400\"},\"country\":{\"name\":\"France\",\"isoCode\":\"FR\",\"euCode\":\"FR\"},\"terminated\":false,\"order\":31,\"activityType\":\"Private for-profit entities (excluding Higher or Secondary Education Establishments)\",\"contribution\":0,\"netEcContribution\":151492.11,\"nonEcContribution\":64925.19,\"formula\":\"thirdParty: 216417.3 - 151492.11\",\"website\":\"\",\"email\":\"\",\"type\":\"thirdParty\",\"contacts\":[],\"organizationId\":\"904365921\",\"rcn\":\"1971884\",\"active\":true,\"sme\":false,\"regions\":\"Ile-de-France|Ile-de-France|Hauts-de-Seine \"},{\"name\":\"ENGIE HOME PERFORMANCE\",\"address\":{\"street\":\"1 PLACE SAMUEL DE CHAMPLAIN\",\"city\":\"COURBEVOIE\",\"postalCode\":\"92400\"},\"country\":{\"name\":\"France\",\"isoCode\":\"FR\",\"euCode\":\"FR\"},\"terminated\":false,\"order\":31,\"activityType\":\"Private for-profit entities (excluding Higher or Secondary Education Establishments)\",\"contribution\":0,\"netEcContribution\":470239.62,\"nonEcContribution\":201531.26,\"formula\":\"thirdParty: 671770.88 - 470239.62\",\"website\":\"\",\"email\":\"\",\"type\":\"thirdParty\",\"contacts\":[],\"organizationId\":\"896888385\",\"rcn\":\"1971882\",\"active\":true,\"sme\":false,\"regions\":\"Ile-de-France|Ile-de-France|Hauts-de-Seine \"},{\"name\":\"ELECTRABEL\",\"address\":{\"street\":\"BOULEVARD SIMON BOLIVAR 34\",\"city\":\"BRUXELLES\",\"postalCode\":\"1000\"},\"country\":{\"name\":\"Belgium\",\"isoCode\":\"BE\",\"euCode\":\"BE\"},\"terminated\":false,\"order\":31,\"activityType\":\"Private for-profit entities (excluding Higher or Secondary Education Establishments)\",\"contribution\":0,\"netEcContribution\":188205.56,\"nonEcContribution\":80659.53,\"formula\":\"thirdParty: 268865.09 - 188205.56\",\"website\":\"\",\"email\":\"\",\"type\":\"thirdParty\",\"contacts\":[],\"organizationId\":\"999936238\",\"rcn\":\"1923231\",\"active\":true,\"sme\":false,\"regions\":\"R\\\\u00e9gion de Bruxelles-Capitale\\\\/Brussels Hoofdstedelijk Gewest|R\\\\u00e9gion de Bruxelles-Capitale\\\\/ Brussels Hoofdstedelijk Gewest|Arr. de Bruxelles-Capitale\\\\/Arr. Brussel-Hoofdstad\"},{\"name\":\"TIKO ENERGY SOLUTIONS AG\",\"address\":{\"street\":\"ALTE TIEFENAUSTRASSE 6\",\"city\":\"WORBLAUFEN\",\"postalCode\":\"3050\"},\"country\":{\"name\":\"Switzerland\",\"isoCode\":\"CH\",\"euCode\":\"CH\"},\"terminated\":false,\"order\":31,\"activityType\":\"Private for-profit entities (excluding Higher or Secondary Education Establishments)\",\"contribution\":0,\"netEcContribution\":108208.65,\"nonEcContribution\":46375.14,\"formula\":\"thirdParty: 154583.79 - 108208.65\",\"website\":\"\",\"email\":\"\",\"type\":\"thirdParty\",\"contacts\":[],\"organizationId\":\"897158821\",\"rcn\":\"1971883\",\"active\":true,\"sme\":false,\"regions\":\"Schweiz\\\\/Suisse\\\\/Svizzera|Espace Mittelland|Bern \\\\/ Berne\"},{\"name\":\"ENGIE HOME SERVICES\",\"address\":{\"street\":\"361 AVENUE DU PRESIDENT WILSON\",\"city\":\"SAINT-DENIS LA PLAINE\",\"postalCode\":\"93210\"},\"country\":{\"name\":\"France\",\"isoCode\":\"FR\",\"euCode\":\"FR\"},\"terminated\":true,\"order\":31,\"activityType\":\"Private for-profit entities (excluding Higher or Secondary Education Establishments)\",\"contribution\":0,\"netEcContribution\":0,\"nonEcContribution\":0,\"formula\":\"thirdParty: 0 - 0\",\"website\":\"\",\"email\":\"\",\"type\":\"thirdParty\",\"contacts\":[],\"organizationId\":\"910482062\",\"rcn\":\"1971448\",\"active\":true,\"sme\":false,\"regions\":\"Ile-de-France|Ile-de-France|Seine-Saint-Denis \"},{\"name\":\"BELGISCH LABORATORIUM VAN ELEKTRICITEITSINDUSTRIE\",\"address\":{\"street\":\"RODESTRAAT 125\",\"city\":\"LINKEBEEK\",\"postalCode\":\"1630\"},\"country\":{\"name\":\"Belgium\",\"isoCode\":\"BE\",\"euCode\":\"BE\"},\"terminated\":false,\"order\":31,\"activityType\":\"Private for-profit entities (excluding Higher or Secondary Education Establishments)\",\"contribution\":0,\"netEcContribution\":44275,\"nonEcContribution\":0,\"formula\":\"thirdParty: 44275 - 44275\",\"website\":\"http:\\\\/\\\\/www.laborelec.com\",\"email\":\"\",\"type\":\"thirdParty\",\"contacts\":[],\"organizationId\":\"998728200\",\"rcn\":\"1923240\",\"active\":true,\"sme\":false,\"regions\":\"Vlaams Gewest|Prov. Vlaams-Brabant|Arr. Halle-Vilvoorde\"},{\"name\":\"SENSINOV\",\"address\":{\"street\":\"41 RUE DE LA DECOUVERTE CS 37621\",\"city\":\"LABEGE\",\"postalCode\":\"31676\"},\"country\":{\"name\":\"France\",\"isoCode\":\"FR\",\"euCode\":\"FR\"},\"terminated\":false,\"order\":32,\"activityType\":\"Private for-profit entities (excluding Higher or Secondary Education Establishments)\",\"contribution\":554093.75,\"netEcContribution\":554093.75,\"nonEcContribution\":237468.75,\"formula\":\"participant: 791562.5 - 554093.75 - 0\",\"website\":\"\",\"email\":\"\",\"type\":\"participant\",\"contacts\":[],\"organizationId\":\"919935488\",\"rcn\":\"2683470\",\"active\":true,\"sme\":true,\"regions\":\"Occitanie|Midi-Pyr\\\\u00e9n\\\\u00e9es|Haute-Garonne\"},{\"name\":\"WHIRLPOOL EMEA SPA\",\"address\":{\"street\":\"VIA CARLO PISACANE 1\",\"city\":\"PERO\",\"postalCode\":\"20016\"},\"country\":{\"name\":\"Italy\",\"isoCode\":\"IT\",\"euCode\":\"IT\"},\"terminated\":false,\"order\":33,\"activityType\":\"Private for-profit entities (excluding Higher or Secondary Education Establishments)\",\"contribution\":532875,\"netEcContribution\":532875,\"nonEcContribution\":228375,\"formula\":\"participant: 761250 - 532875 - 0\",\"website\":\"http:\\\\/\\\\/www.indesitcompany.com\",\"email\":\"\",\"type\":\"participant\",\"contacts\":[],\"organizationId\":\"999635538\",\"rcn\":\"1952200\",\"active\":true,\"sme\":false,\"regions\":\"Nord-Ovest|Lombardia|Milano\"},{\"name\":\"RICERCA SUL SISTEMA ENERGETICO - RSE SPA\",\"address\":{\"street\":\"VIA RAFFAELE RUBATTINO 54\",\"city\":\"MILANO\",\"postalCode\":\"20134\"},\"country\":{\"name\":\"Italy\",\"isoCode\":\"IT\",\"euCode\":\"IT\"},\"terminated\":false,\"order\":34,\"activityType\":\"Research Organisations\",\"contribution\":191437.5,\"netEcContribution\":191437.5,\"nonEcContribution\":0,\"formula\":\"participant: 191437.5 - 191437.5 - 0\",\"website\":\"http:\\\\/\\\\/www.rse-web.it\",\"email\":\"\",\"type\":\"participant\",\"contacts\":[],\"organizationId\":\"999529420\",\"rcn\":\"1905880\",\"active\":true,\"sme\":false,\"regions\":\"Nord-Ovest|Lombardia|Milano\"},{\"name\":\"POLITECNICO DI MILANO\",\"address\":{\"street\":\"PIAZZA LEONARDO DA VINCI 32\",\"city\":\"MILANO\",\"postalCode\":\"20133\"},\"country\":{\"name\":\"Italy\",\"isoCode\":\"IT\",\"euCode\":\"IT\"},\"terminated\":false,\"order\":35,\"activityType\":\"Higher or Secondary Education Establishments\",\"contribution\":233125,\"netEcContribution\":233125,\"nonEcContribution\":0,\"formula\":\"participant: 233125 - 233125 - 0\",\"website\":\"http:\\\\/\\\\/www.polimi.it\",\"email\":\"\",\"type\":\"participant\",\"contacts\":[],\"organizationId\":\"999879881\",\"rcn\":\"1905660\",\"active\":true,\"sme\":false,\"regions\":\"Nord-Ovest|Lombardia|Milano\"},{\"name\":\"CYBERGRID GMBH \\\\u0026 CO KG\",\"address\":{\"street\":\"WEIMARER STRASSE 119\\\\/1\",\"city\":\"WIEN\",\"postalCode\":\"1190\"},\"country\":{\"name\":\"Austria\",\"isoCode\":\"AT\",\"euCode\":\"AT\"},\"terminated\":false,\"order\":36,\"activityType\":\"Private for-profit entities (excluding Higher or Secondary Education Establishments)\",\"contribution\":578856.25,\"netEcContribution\":578856.25,\"nonEcContribution\":248081.25,\"formula\":\"participant: 826937.5 - 578856.25 - 0\",\"website\":\"\",\"email\":\"\",\"type\":\"participant\",\"contacts\":[],\"organizationId\":\"912965068\",\"rcn\":\"3098421\",\"active\":true,\"sme\":true,\"regions\":\"Wien|Wien\"},{\"name\":\"INETUM REALDOLMEN BELGIUM\",\"address\":{\"street\":\"A VAUCAMPSLAAN 42\",\"city\":\"HUIZINGEN\",\"postalCode\":\"1654\"},\"country\":{\"name\":\"Belgium\",\"isoCode\":\"BE\",\"euCode\":\"BE\"},\"terminated\":false,\"order\":37,\"activityType\":\"Private for-profit entities (excluding Higher or Secondary Education Establishments)\",\"contribution\":344312.5,\"netEcContribution\":219187.5,\"nonEcContribution\":93937.5,\"formula\":\"participant: 491875 - 219187.5 - 178750\",\"website\":\"\",\"email\":\"\",\"type\":\"participant\",\"contacts\":[],\"organizationId\":\"901193827\",\"rcn\":\"1956838\",\"active\":true,\"sme\":false,\"regions\":\"Vlaams Gewest|Prov. Vlaams-Brabant|Arr. Halle-Vilvoorde\"},{\"name\":\"INETUM ESPA\\\\u00d1A S.A.\",\"address\":{\"street\":\"TRAVESIA COSTA BRAVA 4\",\"city\":\"MADRID\",\"postalCode\":\"28034\"},\"country\":{\"name\":\"Spain\",\"isoCode\":\"ES\",\"euCode\":\"ES\"},\"terminated\":false,\"order\":37,\"activityType\":\"Private for-profit entities (excluding Higher or Secondary Education Establishments)\",\"contribution\":0,\"netEcContribution\":26250,\"nonEcContribution\":11250,\"formula\":\"thirdParty: 37500 - 26250\",\"website\":\"\",\"email\":\"\",\"type\":\"thirdParty\",\"contacts\":[],\"organizationId\":\"950601553\",\"rcn\":\"1949040\",\"active\":true,\"sme\":false,\"regions\":\"Comunidad de Madrid|Comunidad de Madrid|Madrid\"},{\"name\":\"INETUM\",\"address\":{\"street\":\"145 BOULEVARD VICTOR-HUGO\",\"city\":\"SAINT OUEN SUR SEINE\",\"postalCode\":\"93400\"},\"country\":{\"name\":\"France\",\"isoCode\":\"FR\",\"euCode\":\"FR\"},\"terminated\":false,\"order\":37,\"activityType\":\"Private for-profit entities (excluding Higher or Secondary Education Establishments)\",\"contribution\":0,\"netEcContribution\":98875,\"nonEcContribution\":42375,\"formula\":\"thirdParty: 141250 - 98875\",\"website\":\"\",\"email\":\"\",\"type\":\"thirdParty\",\"contacts\":[],\"organizationId\":\"996312318\",\"rcn\":\"2560797\",\"active\":true,\"sme\":false,\"regions\":\"Ile-de-France|Ile-de-France|Seine-Saint-Denis \"},{\"name\":\"EUROPEAN DISTRIBUTION SYSTEM OPERATORS FOR SMART GRIDS\",\"address\":{\"street\":\"RUE DE LA LOI 82\",\"city\":\"BRUXELLES\",\"postalCode\":\"1040\"},\"country\":{\"name\":\"Belgium\",\"isoCode\":\"BE\",\"euCode\":\"BE\"},\"terminated\":false,\"order\":38,\"activityType\":\"Other\",\"contribution\":83940,\"netEcContribution\":83940,\"nonEcContribution\":0,\"formula\":\"participant: 83940 - 83940 - 0\",\"website\":\"www.edsoforsmartgrids.eu\",\"email\":\"\",\"type\":\"participant\",\"contacts\":[],\"organizationId\":\"962652445\",\"rcn\":\"1915724\",\"active\":true,\"sme\":false,\"regions\":\"R\\\\u00e9gion de Bruxelles-Capitale\\\\/Brussels Hoofdstedelijk Gewest|R\\\\u00e9gion de Bruxelles-Capitale\\\\/ Brussels Hoofdstedelijk Gewest|Arr. de Bruxelles-Capitale\\\\/Arr. Brussel-Hoofdstad\"},{\"name\":\"OPENMOTICS\",\"address\":{\"street\":\"VLASGAARDSTRAAT 52\",\"city\":\"GENT\",\"postalCode\":\"9000\"},\"country\":{\"name\":\"Belgium\",\"isoCode\":\"BE\",\"euCode\":\"BE\"},\"terminated\":false,\"order\":39,\"activityType\":\"Private for-profit entities (excluding Higher or Secondary Education Establishments)\",\"contribution\":371955.5,\"netEcContribution\":371955.5,\"nonEcContribution\":159409.5,\"formula\":\"participant: 531365 - 371955.5 - 0\",\"website\":\"\",\"email\":\"\",\"type\":\"participant\",\"contacts\":[],\"organizationId\":\"904061341\",\"rcn\":\"1959284\",\"active\":true,\"sme\":false,\"regions\":\"Vlaams Gewest|Prov. Oost-Vlaanderen|Arr. Gent\"},{\"name\":\"KEO GMBH\",\"address\":{\"street\":\"BUTZWEILERHOF ALLEE 2-4\",\"city\":\"KOLN\",\"postalCode\":\"50829\"},\"country\":{\"name\":\"Germany\",\"isoCode\":\"DE\",\"euCode\":\"DE\"},\"terminated\":false,\"order\":40,\"activityType\":\"Private for-profit entities (excluding Higher or Secondary Education Establishments)\",\"contribution\":674349.38,\"netEcContribution\":674349.38,\"nonEcContribution\":289006.87,\"formula\":\"participant: 963356.25 - 674349.38 - 0\",\"website\":\"\",\"email\":\"\",\"type\":\"participant\",\"contacts\":[],\"organizationId\":\"933696296\",\"rcn\":\"2562696\",\"active\":true,\"sme\":true,\"regions\":\"Nordrhein-Westfalen|K\\\\u00f6ln|K\\\\u00f6ln, Kreisfreie Stadt\"},{\"name\":\"ABB OF ASEA BROWN BOVERI\",\"address\":{\"street\":\"HOGE WEI 27\",\"city\":\"ZAVENTEM\",\"postalCode\":\"1930\"},\"country\":{\"name\":\"Belgium\",\"isoCode\":\"BE\",\"euCode\":\"BE\"},\"terminated\":false,\"order\":41,\"activityType\":\"Private for-profit entities (excluding Higher or Secondary Education Establishments)\",\"contribution\":245294.88,\"netEcContribution\":245294.88,\"nonEcContribution\":105126.37,\"formula\":\"participant: 350421.25 - 245294.88 - 0\",\"website\":\"\",\"email\":\"\",\"type\":\"participant\",\"contacts\":[],\"organizationId\":\"910277586\",\"rcn\":\"1945910\",\"active\":true,\"sme\":false,\"regions\":\"Vlaams Gewest|Prov. Vlaams-Brabant|Arr. Halle-Vilvoorde\"},{\"name\":\"UNIVERSITAET KASSEL\",\"address\":{\"street\":\"MONCHEBERGSTRASSE 19\",\"city\":\"KASSEL\",\"postalCode\":\"34125\"},\"country\":{\"name\":\"Germany\",\"isoCode\":\"DE\",\"euCode\":\"DE\"},\"terminated\":false,\"order\":42,\"activityType\":\"Higher or Secondary Education Establishments\",\"contribution\":326372.75,\"netEcContribution\":326372.75,\"nonEcContribution\":0,\"formula\":\"participant: 326372.75 - 326372.75 - 0\",\"website\":\"http:\\\\/\\\\/www.uni-kassel.de\",\"email\":\"\",\"type\":\"participant\",\"contacts\":[],\"organizationId\":\"999852624\",\"rcn\":\"1914398\",\"active\":true,\"sme\":false,\"regions\":\"Kassel|Kassel, Kreisfreie Stadt\"},{\"name\":\"DEUTSCHES FORSCHUNGSZENTRUM FUR KUNSTLICHE INTELLIGENZ GMBH\",\"address\":{\"street\":\"TRIPPSTADTER STRASSE 122\",\"city\":\"KAISERSLAUTERN\",\"postalCode\":\"67663\"},\"country\":{\"name\":\"Germany\",\"isoCode\":\"DE\",\"euCode\":\"DE\"},\"terminated\":false,\"order\":43,\"activityType\":\"Research Organisations\",\"contribution\":198750,\"netEcContribution\":198750,\"nonEcContribution\":0,\"formula\":\"participant: 198750 - 198750 - 0\",\"website\":\"http:\\\\/\\\\/www.dfki.de\",\"email\":\"\",\"type\":\"participant\",\"contacts\":[],\"organizationId\":\"999607602\",\"rcn\":\"1916706\",\"active\":true,\"sme\":false,\"regions\":\"Rheinland-Pfalz|Rheinhessen-Pfalz|Kaiserslautern, Kreisfreie Stadt\"},{\"name\":\"Fachhochschule Dortmund\",\"address\":{\"street\":\"Sonnenstra\\\\u00dfe  96\",\"city\":\"Dortmund\",\"postalCode\":\"44139\"},\"country\":{\"name\":\"Germany\",\"isoCode\":\"DE\",\"euCode\":\"DE\"},\"terminated\":false,\"order\":44,\"activityType\":\"Higher or Secondary Education Establishments\",\"contribution\":198750,\"netEcContribution\":198750,\"nonEcContribution\":0,\"formula\":\"participant: 198750 - 198750 - 0\",\"website\":\"http:\\\\/\\\\/www.fh-dortmund.de\",\"email\":\"\",\"type\":\"participant\",\"contacts\":[],\"organizationId\":\"986309678\",\"rcn\":\"1921022\",\"active\":true,\"sme\":false,\"regions\":\"Nordrhein-Westfalen|Arnsberg|Dortmund, Kreisfreie Stadt\"},{\"name\":\"BOSCH THERMOTECHNIK GMBH\",\"address\":{\"street\":\"SOPHIENSTRASSE 30-32\",\"city\":\"WETZLAR\",\"postalCode\":\"35576\"},\"country\":{\"name\":\"Germany\",\"isoCode\":\"DE\",\"euCode\":\"DE\"},\"terminated\":true,\"order\":45,\"activityType\":\"Private for-profit entities (excluding Higher or Secondary Education Establishments)\",\"contribution\":0,\"netEcContribution\":0,\"nonEcContribution\":0,\"formula\":\"participant: 0 - 0 - 0\",\"website\":\"www.bosch-thermotechnik.de\",\"email\":\"\",\"type\":\"participant\",\"contacts\":[],\"organizationId\":\"972406474\",\"rcn\":\"1939001\",\"active\":true,\"sme\":false,\"regions\":\"Gie\\\\u00dfen|Lahn-Dill-Kreis\"},{\"name\":\"BSH HAUSGERATE GMBH\",\"address\":{\"street\":\"CARL WERY STRASSE 34\",\"city\":\"MUNCHEN\",\"postalCode\":\"81739\"},\"country\":{\"name\":\"Germany\",\"isoCode\":\"DE\",\"euCode\":\"DE\"},\"terminated\":false,\"order\":46,\"activityType\":\"Private for-profit entities (excluding Higher or Secondary Education Establishments)\",\"contribution\":275625,\"netEcContribution\":275625,\"nonEcContribution\":118125,\"formula\":\"participant: 393750 - 275625 - 0\",\"website\":\"www.bsh-group.com\",\"email\":\"\",\"type\":\"participant\",\"contacts\":[],\"organizationId\":\"953573536\",\"rcn\":\"1925082\",\"active\":true,\"sme\":false,\"regions\":\"Bayern|Oberbayern|M\\\\u00fcnchen, Kreisfreie Stadt\"},{\"name\":\"MIELE \\\\u0026 CIE KG\",\"address\":{\"street\":\"CARL MIELE STRASSE 29\",\"city\":\"GUTERSLOH\",\"postalCode\":\"33332\"},\"country\":{\"name\":\"Germany\",\"isoCode\":\"DE\",\"euCode\":\"DE\"},\"terminated\":false,\"order\":47,\"activityType\":\"Private for-profit entities (excluding Higher or Secondary Education Establishments)\",\"contribution\":275625,\"netEcContribution\":275625,\"nonEcContribution\":118125,\"formula\":\"participant: 393750 - 275625 - 0\",\"website\":\"\",\"email\":\"\",\"type\":\"participant\",\"contacts\":[],\"organizationId\":\"996317653\",\"rcn\":\"1959285\",\"active\":true,\"sme\":false,\"regions\":\"Nordrhein-Westfalen|Detmold|G\\\\u00fctersloh\"},{\"name\":\"WIRELANE GMBH\",\"address\":{\"street\":\"VON-DER-TANN-STRASSE 12\",\"city\":\"MUNCHEN\",\"postalCode\":\"80539\"},\"country\":{\"name\":\"Germany\",\"isoCode\":\"DE\",\"euCode\":\"DE\"},\"terminated\":false,\"order\":48,\"activityType\":\"Private for-profit entities (excluding Higher or Secondary Education Establishments)\",\"contribution\":119875,\"netEcContribution\":119875,\"nonEcContribution\":51375,\"formula\":\"participant: 171250 - 119875 - 0\",\"website\":\"\",\"email\":\"\",\"type\":\"participant\",\"contacts\":[],\"organizationId\":\"903922728\",\"rcn\":\"1959286\",\"active\":true,\"sme\":false,\"regions\":\"Bayern|Oberbayern|M\\\\u00fcnchen, Kreisfreie Stadt\"},{\"name\":\"VAILLANT GMBH\",\"address\":{\"street\":\"BERGHAUSER STRASSE 40\",\"city\":\"REMSCHEID\",\"postalCode\":\"42859\"},\"country\":{\"name\":\"Germany\",\"isoCode\":\"DE\",\"euCode\":\"DE\"},\"terminated\":false,\"order\":49,\"activityType\":\"Private for-profit entities (excluding Higher or Secondary Education Establishments)\",\"contribution\":107771.13,\"netEcContribution\":107771.13,\"nonEcContribution\":46187.62,\"formula\":\"participant: 153958.75 - 107771.13 - 0\",\"website\":\"www.vaillant.com\",\"email\":\"\",\"type\":\"participant\",\"contacts\":[],\"organizationId\":\"986263312\",\"rcn\":\"1917310\",\"active\":true,\"sme\":false,\"regions\":\"Nordrhein-Westfalen|D\\\\u00fcsseldorf|Remscheid, Kreisfreie Stadt\"},{\"name\":\"DAIKIN EUROPE N.V.\",\"address\":{\"street\":\"ZANDVOORDESTRAAT 300\",\"city\":\"OOSTENDE\",\"postalCode\":\"8400\"},\"country\":{\"name\":\"Belgium\",\"isoCode\":\"BE\",\"euCode\":\"BE\"},\"terminated\":false,\"order\":50,\"activityType\":\"Private for-profit entities (excluding Higher or Secondary Education Establishments)\",\"contribution\":107771.13,\"netEcContribution\":107771.13,\"nonEcContribution\":46187.62,\"formula\":\"participant: 153958.75 - 107771.13 - 0\",\"website\":\"\",\"email\":\"\",\"type\":\"participant\",\"contacts\":[],\"organizationId\":\"903982965\",\"rcn\":\"1959287\",\"active\":true,\"sme\":false,\"regions\":\"Vlaams Gewest|Prov. West-Vlaanderen|Arr. Oostende\"},{\"name\":\"KNX ASSOCIATION CVBA\",\"address\":{\"street\":\"DE KLEETLAAN 5 BUS 11\",\"city\":\"DIEGEM\",\"postalCode\":\"1831\"},\"country\":{\"name\":\"Belgium\",\"isoCode\":\"BE\",\"euCode\":\"BE\"},\"terminated\":false,\"order\":51,\"activityType\":\"Private for-profit entities (excluding Higher or Secondary Education Establishments)\",\"contribution\":130287.5,\"netEcContribution\":130287.5,\"nonEcContribution\":55837.5,\"formula\":\"participant: 186125 - 130287.5 - 0\",\"website\":\"\",\"email\":\"\",\"type\":\"participant\",\"contacts\":[],\"organizationId\":\"903944262\",\"rcn\":\"1959288\",\"active\":true,\"sme\":false,\"regions\":\"Vlaams Gewest|Prov. Vlaams-Brabant|Arr. Halle-Vilvoorde\"}'\n",
            " '{\"name\":\"EKODENGE MUHENDISLIK MIMARLIK DANISMANLIK TICARET ANONIM SIRKETI\",\"address\":{\"street\":\"HACETTEPE UNIVERSITESI TEKNOKENTI 1NOLU AR GE BINASI ODA 18 BEYTEPE\",\"city\":\"CANKAYA ANKARA\",\"postalCode\":\"06800\"},\"country\":{\"name\":\"Turkey\",\"isoCode\":\"TR\",\"euCode\":\"TR\"},\"terminated\":false,\"order\":2,\"activityType\":\"Private for-profit entities (excluding Higher or Secondary Education Establishments)\",\"contribution\":381010,\"netEcContribution\":381010,\"nonEcContribution\":163290,\"formula\":\"participant: 544300 - 381010 - 0\",\"website\":\"www.ekodenge.com\",\"email\":\"\",\"type\":\"participant\",\"contacts\":[],\"organizationId\":\"986456342\",\"rcn\":\"1977722\",\"active\":true,\"sme\":true,\"regions\":\"Bat\\\\u0131 Anadolu|Ankara|Ankara\"},{\"name\":\"SOFTWARE IMAGINATION \\\\u0026 VISION SRL\",\"address\":{\"street\":\"SOSEAUA BUCURESTI-PLOIESTI 73-81 COMPLEX VICTORIA  CORP CLADIRE C4 ETAJ 2\",\"city\":\"BUCURESTI\",\"postalCode\":\"013685\"},\"country\":{\"name\":\"Romania\",\"isoCode\":\"RO\",\"euCode\":\"RO\"},\"terminated\":false,\"order\":3,\"activityType\":\"Private for-profit entities (excluding Higher or Secondary Education Establishments)\",\"contribution\":298550,\"netEcContribution\":298550,\"nonEcContribution\":127950,\"formula\":\"participant: 426500 - 298550 - 0\",\"website\":\"\",\"email\":\"\",\"type\":\"participant\",\"contacts\":[],\"organizationId\":\"897024185\",\"rcn\":\"1962833\",\"active\":true,\"sme\":false,\"regions\":\"Macroregiunea Trei|Bucure\\\\u015fti-Ilfov|Bucure\\\\u015fti\"},{\"name\":\"SISTRADE - SOFTWARE CONSULTING SA\",\"address\":{\"street\":\"TRAVESSA DA PRELADA, 511\",\"city\":\"Porto\",\"postalCode\":\"4250-380\"},\"country\":{\"name\":\"Portugal\",\"isoCode\":\"PT\",\"euCode\":\"PT\"},\"terminated\":false,\"order\":4,\"activityType\":\"Private for-profit entities (excluding Higher or Secondary Education Establishments)\",\"contribution\":219537.5,\"netEcContribution\":219537.5,\"nonEcContribution\":94087.5,\"formula\":\"participant: 313625 - 219537.5 - 0\",\"website\":\"\",\"email\":\"\",\"type\":\"participant\",\"contacts\":[],\"organizationId\":\"970758444\",\"rcn\":\"1961781\",\"active\":true,\"sme\":true,\"regions\":\"Continente|Norte|\\\\u00c1rea Metropolitana do Porto\"},{\"name\":\"SCUOLA UNIVERSITARIA PROFESSIONALE DELLA SVIZZERA ITALIANA\",\"address\":{\"street\":\"STABILE LE GERRE\",\"city\":\"MANNO\",\"postalCode\":\"6928\"},\"country\":{\"name\":\"Switzerland\",\"isoCode\":\"CH\",\"euCode\":\"CH\"},\"terminated\":false,\"order\":5,\"activityType\":\"Higher or Secondary Education Establishments\",\"contribution\":486375,\"netEcContribution\":486375,\"nonEcContribution\":0,\"formula\":\"participant: 486375 - 486375 - 0\",\"website\":\"http:\\\\/\\\\/www.supsi.ch\",\"email\":\"\",\"type\":\"participant\",\"contacts\":[],\"organizationId\":\"999587620\",\"rcn\":\"1908517\",\"active\":true,\"sme\":false,\"regions\":\"Schweiz\\\\/Suisse\\\\/Svizzera|Ticino|Ticino\"},{\"name\":\"AARHUS UNIVERSITET\",\"address\":{\"street\":\"NORDRE RINGGADE 1\",\"city\":\"AARHUS C\",\"postalCode\":\"8000\"},\"country\":{\"name\":\"Denmark\",\"isoCode\":\"DK\",\"euCode\":\"DK\"},\"terminated\":false,\"order\":6,\"activityType\":\"Higher or Secondary Education Establishments\",\"contribution\":332250,\"netEcContribution\":332250,\"nonEcContribution\":0,\"formula\":\"participant: 332250 - 332250 - 0\",\"website\":\"http:\\\\/\\\\/www.au.dk\",\"email\":\"\",\"type\":\"participant\",\"contacts\":[],\"organizationId\":\"999997736\",\"rcn\":\"1905956\",\"active\":true,\"sme\":false,\"regions\":\"Danmark|Midtjylland|\\\\u00d8stjylland\"},{\"name\":\"IDP INGENIERIA Y ARQUITECTURA IBERIA SL\",\"address\":{\"street\":\"AVENIDA FRANCESC MACIA 60 3 PLANTA\",\"city\":\"SABADELL BARCELONA\",\"postalCode\":\"08208\"},\"country\":{\"name\":\"Spain\",\"isoCode\":\"ES\",\"euCode\":\"ES\"},\"terminated\":false,\"order\":7,\"activityType\":\"Private for-profit entities (excluding Higher or Secondary Education Establishments)\",\"contribution\":98262.5,\"netEcContribution\":98262.5,\"nonEcContribution\":42112.5,\"formula\":\"participant: 140375 - 98262.5 - 0\",\"website\":\"www.idp.es\",\"email\":\"\",\"type\":\"participant\",\"contacts\":[],\"organizationId\":\"953415232\",\"rcn\":\"1942509\",\"active\":true,\"sme\":true,\"regions\":\"Este|Catalu\\\\u00f1a|Barcelona\"},{\"name\":\"ECOWISE EKODENGE LIMITED\",\"address\":{\"street\":\"C\\\\/O ALLIOTTS IMPERIAL HOUSE KEAN STREET\",\"city\":\"LONDON\",\"postalCode\":\"WC2B 4AS\"},\"country\":{\"name\":\"United Kingdom\",\"isoCode\":\"GB\",\"euCode\":\"UK\"},\"terminated\":false,\"order\":8,\"activityType\":\"Private for-profit entities (excluding Higher or Secondary Education Establishments)\",\"contribution\":441175,\"netEcContribution\":441175,\"nonEcContribution\":189075,\"formula\":\"participant: 630250 - 441175 - 0\",\"website\":\"\",\"email\":\"\",\"type\":\"participant\",\"contacts\":[],\"organizationId\":\"915633538\",\"rcn\":\"1953317\",\"active\":true,\"sme\":true,\"regions\":\"London|Inner London \\\\u2014 West|Westminster\"},{\"name\":\"GORENJE GOSPODINJSKI APARATI DOO\",\"address\":{\"street\":\"PARTIZANSKA CESTA 12\",\"city\":\"VELENJE\",\"postalCode\":\"3320\"},\"country\":{\"name\":\"Slovenia\",\"isoCode\":\"SI\",\"euCode\":\"SI\"},\"terminated\":false,\"order\":9,\"activityType\":\"Private for-profit entities (excluding Higher or Secondary Education Establishments)\",\"contribution\":161262.5,\"netEcContribution\":161262.5,\"nonEcContribution\":69112.5,\"formula\":\"participant: 230375 - 161262.5 - 0\",\"website\":\"\",\"email\":\"\",\"type\":\"participant\",\"contacts\":[],\"organizationId\":\"999443478\",\"rcn\":\"1950106\",\"active\":true,\"sme\":false,\"regions\":\"Slovenija|Zahodna Slovenija|Osrednjeslovenska\"},{\"name\":\"SUROVINA DRUZBA ZA PREDELAVO ODPADKOV DOO\",\"address\":{\"street\":\"ULICA VITA KRAIGHERJA 5\",\"city\":\"MARIBOR\",\"postalCode\":\"2000\"},\"country\":{\"name\":\"Slovenia\",\"isoCode\":\"SI\",\"euCode\":\"SI\"},\"terminated\":false,\"order\":10,\"activityType\":\"Private for-profit entities (excluding Higher or Secondary Education Establishments)\",\"contribution\":133875,\"netEcContribution\":133875,\"nonEcContribution\":57375,\"formula\":\"participant: 191250 - 133875 - 0\",\"website\":\"\",\"email\":\"\",\"type\":\"participant\",\"contacts\":[],\"organizationId\":\"932610381\",\"rcn\":\"1970723\",\"active\":true,\"sme\":false,\"regions\":\"Slovenija|Vzhodna Slovenija|Podravska\"},{\"name\":\"SOFIES UK CONSULTING LIMITED\",\"address\":{\"street\":\"UNIT 12 ACORN BUSINESS PARK NORTHARBOUR ROAD\",\"city\":\"PORTSMOUTH HAMPSHIRE\",\"postalCode\":\"PO6 3TH\"},\"country\":{\"name\":\"United Kingdom\",\"isoCode\":\"GB\",\"euCode\":\"UK\"},\"terminated\":false,\"order\":11,\"activityType\":\"Private for-profit entities (excluding Higher or Secondary Education Establishments)\",\"contribution\":243337.5,\"netEcContribution\":243337.5,\"nonEcContribution\":104287.5,\"formula\":\"participant: 347625 - 243337.5 - 0\",\"website\":\"\",\"email\":\"\",\"type\":\"participant\",\"contacts\":[],\"organizationId\":\"912849444\",\"rcn\":\"1958587\",\"active\":true,\"sme\":true,\"regions\":\"South East (England)|Hampshire and Isle of Wight|Portsmouth\"},{\"name\":\"DEUTSCHES FORSCHUNGSZENTRUM FUR KUNSTLICHE INTELLIGENZ GMBH\",\"address\":{\"street\":\"TRIPPSTADTER STRASSE 122\",\"city\":\"KAISERSLAUTERN\",\"postalCode\":\"67663\"},\"country\":{\"name\":\"Germany\",\"isoCode\":\"DE\",\"euCode\":\"DE\"},\"terminated\":false,\"order\":12,\"activityType\":\"Research Organisations\",\"contribution\":461000,\"netEcContribution\":461000,\"nonEcContribution\":0,\"formula\":\"participant: 461000 - 461000 - 0\",\"website\":\"http:\\\\/\\\\/www.dfki.de\",\"email\":\"\",\"type\":\"participant\",\"contacts\":[],\"organizationId\":\"999607602\",\"rcn\":\"1916706\",\"active\":true,\"sme\":false,\"regions\":\"Rheinland-Pfalz|Rheinhessen-Pfalz|Kaiserslautern, Kreisfreie Stadt\"},{\"name\":\"CEGASA ENERGIA S.L.U.\",\"address\":{\"street\":\"CALLE MARIE CURIE, 1\",\"city\":\"MI\\\\u00d1ANO MAYOR, VITORIA-GASTEIZ\",\"postalCode\":\"01510\"},\"country\":{\"name\":\"Spain\",\"isoCode\":\"ES\",\"euCode\":\"ES\"},\"terminated\":false,\"order\":13,\"activityType\":\"Private for-profit entities (excluding Higher or Secondary Education Establishments)\",\"contribution\":110512.5,\"netEcContribution\":110512.5,\"nonEcContribution\":47362.5,\"formula\":\"participant: 157875 - 110512.5 - 0\",\"website\":\"\",\"email\":\"\",\"type\":\"participant\",\"contacts\":[],\"organizationId\":\"899165460\",\"rcn\":\"1959803\",\"active\":true,\"sme\":false,\"regions\":\"Noreste|Pa\\\\u00eds Vasco|Araba\\\\/\\\\u00c1lava\"},{\"name\":\"SKYLABS VESOLJSKE TEHNOLOGIJE DOO\",\"address\":{\"street\":\"ZAGREBSKA CESTA 104\",\"city\":\"MARIBOR\",\"postalCode\":\"2000\"},\"country\":{\"name\":\"Slovenia\",\"isoCode\":\"SI\",\"euCode\":\"SI\"},\"terminated\":false,\"order\":14,\"activityType\":\"Private for-profit entities (excluding Higher or Secondary Education Establishments)\",\"contribution\":169575,\"netEcContribution\":169575,\"nonEcContribution\":72675,\"formula\":\"participant: 242250 - 169575 - 0\",\"website\":\"\",\"email\":\"\",\"type\":\"participant\",\"contacts\":[],\"organizationId\":\"938743400\",\"rcn\":\"1953702\",\"active\":true,\"sme\":true,\"regions\":\"Slovenija|Vzhodna Slovenija|Podravska\"},{\"name\":\"ATOS SPAIN SA\",\"address\":{\"street\":\"CALLE DE ALBARRACIN 25\",\"city\":\"MADRID\",\"postalCode\":\"28037\"},\"country\":{\"name\":\"Spain\",\"isoCode\":\"ES\",\"euCode\":\"ES\"},\"terminated\":false,\"order\":15,\"activityType\":\"Private for-profit entities (excluding Higher or Secondary Education Establishments)\",\"contribution\":407312.5,\"netEcContribution\":407312.5,\"nonEcContribution\":174562.5,\"formula\":\"participant: 581875 - 407312.5 - 0\",\"website\":\"http:\\\\/\\\\/www.atos.net\",\"email\":\"\",\"type\":\"participant\",\"contacts\":[],\"organizationId\":\"999993856\",\"rcn\":\"1905779\",\"active\":true,\"sme\":false,\"regions\":\"Comunidad de Madrid|Comunidad de Madrid|Madrid\"},{\"name\":\"ENVIRONMENTAL COALITION ON STANDARDS\",\"address\":{\"street\":\"RUE D EDIMBOURG 26\",\"city\":\"BRUXELLES\",\"postalCode\":\"1050\"},\"country\":{\"name\":\"Belgium\",\"isoCode\":\"BE\",\"euCode\":\"BE\"},\"terminated\":false,\"order\":16,\"activityType\":\"Other\",\"contribution\":169750,\"netEcContribution\":169750,\"nonEcContribution\":0,\"formula\":\"participant: 169750 - 169750 - 0\",\"website\":\"\",\"email\":\"\",\"type\":\"participant\",\"contacts\":[],\"organizationId\":\"953502823\",\"rcn\":\"2382103\",\"active\":true,\"sme\":false,\"regions\":\"R\\\\u00e9gion de Bruxelles-Capitale\\\\/Brussels Hoofdstedelijk Gewest|R\\\\u00e9gion de Bruxelles-Capitale\\\\/ Brussels Hoofdstedelijk Gewest|Arr. de Bruxelles-Capitale\\\\/Arr. Brussel-Hoofdstad\"},{\"name\":\"IRISH MANUFACTURING RESEARCH COMPANY LIMITED BY GUARANTEE\",\"address\":{\"street\":\"UNIT A AERODROME BUSINESS PARK\",\"city\":\"RATHCOOLE\",\"postalCode\":\"D24 WC04\"},\"country\":{\"name\":\"Ireland\",\"isoCode\":\"IE\",\"euCode\":\"IE\"},\"terminated\":false,\"order\":17,\"activityType\":\"Research Organisations\",\"contribution\":292575,\"netEcContribution\":292575,\"nonEcContribution\":0,\"formula\":\"participant: 292575 - 292575 - 0\",\"website\":\"\",\"email\":\"\",\"type\":\"participant\",\"contacts\":[],\"organizationId\":\"927973393\",\"rcn\":\"3099790\",\"active\":true,\"sme\":false,\"regions\":\"Ireland|Eastern and Midland|Dublin\"},{\"name\":\"UNI - ENTE ITALIANO DI NORMAZIONE\",\"address\":{\"street\":\"VIA SANNIO 2\",\"city\":\"MILANO\",\"postalCode\":\"20135\"},\"country\":{\"name\":\"Italy\",\"isoCode\":\"IT\",\"euCode\":\"IT\"},\"terminated\":false,\"order\":18,\"activityType\":\"Other\",\"contribution\":202625,\"netEcContribution\":202625,\"nonEcContribution\":0,\"formula\":\"participant: 202625 - 202625 - 0\",\"website\":\"\",\"email\":\"\",\"type\":\"participant\",\"contacts\":[],\"organizationId\":\"944380458\",\"rcn\":\"1948563\",\"active\":true,\"sme\":false,\"regions\":\"Nord-Ovest|Lombardia|Milano\"},{\"name\":\"OCTOPUSSY AGENCE POUR LA CREATION ET LA DIFFUSION D\\\\u0027ACTIVITES CULTURELLES ARTISTIQUES TECHNOLOGIQUES SCIENTIFIQUES\",\"address\":{\"street\":\"1 RUE RENE DUVERT\",\"city\":\"BOUCAU\",\"postalCode\":\"64340\"},\"country\":{\"name\":\"France\",\"isoCode\":\"FR\",\"euCode\":\"FR\"},\"terminated\":false,\"order\":19,\"activityType\":\"Other\",\"contribution\":200750,\"netEcContribution\":200750,\"nonEcContribution\":0,\"formula\":\"participant: 200750 - 200750 - 0\",\"website\":\"\",\"email\":\"\",\"type\":\"participant\",\"contacts\":[],\"organizationId\":\"915527905\",\"rcn\":\"1953312\",\"active\":true,\"sme\":false,\"regions\":\"Nouvelle-Aquitaine|Aquitaine|Pyr\\\\u00e9n\\\\u00e9es-Atlantiques\"},{\"name\":\"ONYX SOLAR ENERGY SL\",\"address\":{\"street\":\"CALLE RIO CEA 1 NAVE H6 POLIGONO INDUSTRIAL LAS HERVENCIAS\",\"city\":\"AVILA\",\"postalCode\":\"05004\"},\"country\":{\"name\":\"Spain\",\"isoCode\":\"ES\",\"euCode\":\"ES\"},\"terminated\":false,\"order\":20,\"activityType\":\"Private for-profit entities (excluding Higher or Secondary Education Establishments)\",\"contribution\":111825,\"netEcContribution\":111825,\"nonEcContribution\":47925,\"formula\":\"participant: 159750 - 111825 - 0\",\"website\":\"www.onyxsolar.com\",\"email\":\"\",\"type\":\"participant\",\"contacts\":[],\"organizationId\":\"984768445\",\"rcn\":\"1924681\",\"active\":true,\"sme\":true,\"regions\":\"Castilla y Le\\\\u00f3n|\\\\u00c1vila\"},{\"name\":\"INESC TEC - INSTITUTO DE ENGENHARIADE SISTEMAS E COMPUTADORES, TECNOLOGIA E CIENCIA\",\"address\":{\"street\":\"RUA DR ROBERTO FRIAS CAMPUS DA FEUP\",\"city\":\"PORTO\",\"postalCode\":\"4200 465\"},\"country\":{\"name\":\"Portugal\",\"isoCode\":\"PT\",\"euCode\":\"PT\"},\"terminated\":false,\"order\":21,\"activityType\":\"Research Organisations\",\"contribution\":328250,\"netEcContribution\":328250,\"nonEcContribution\":0,\"formula\":\"participant: 328250 - 328250 - 0\",\"website\":\"http:\\\\/\\\\/www.inesctec.pt\",\"email\":\"\",\"type\":\"participant\",\"contacts\":[],\"organizationId\":\"999513706\",\"rcn\":\"1913519\",\"active\":true,\"sme\":false,\"regions\":\"Continente|Norte|\\\\u00c1rea Metropolitana do Porto\"},{\"name\":\"MONDRAGON CORPORACION COOPERATIVA SCOOP\",\"address\":{\"street\":\"PASEO JOSE M ARIZMENDIARRIETA 5\",\"city\":\"MONDRAGON GUIPUZCOA\",\"postalCode\":\"20500\"},\"country\":{\"name\":\"Spain\",\"isoCode\":\"ES\",\"euCode\":\"ES\"},\"terminated\":false,\"order\":22,\"activityType\":\"Private for-profit entities (excluding Higher or Secondary Education Establishments)\",\"contribution\":385700,\"netEcContribution\":160475,\"nonEcContribution\":68775,\"formula\":\"participant: 551000 - 160475 - 321750\",\"website\":\"www.mondragoncorporation.com\",\"email\":\"\",\"type\":\"participant\",\"contacts\":[],\"organizationId\":\"955000406\",\"rcn\":\"2068252\",\"active\":true,\"sme\":true,\"regions\":\"Noreste|Pa\\\\u00eds Vasco|Gipuzkoa\"},{\"name\":\"DOMUSA CALEFACCION SCOOP\",\"address\":{\"street\":\"SAN ESTEBAN AUZOA Z G\",\"city\":\"ERREZIL\",\"postalCode\":\"20737\"},\"country\":{\"name\":\"Spain\",\"isoCode\":\"ES\",\"euCode\":\"ES\"},\"terminated\":false,\"order\":22,\"activityType\":\"Private for-profit entities (excluding Higher or Secondary Education Establishments)\",\"contribution\":0,\"netEcContribution\":114843.75,\"nonEcContribution\":49218.75,\"formula\":\"thirdParty: 164062.5 - 114843.75\",\"website\":\"\",\"email\":\"\",\"type\":\"thirdParty\",\"contacts\":[],\"organizationId\":\"892031110\",\"rcn\":\"1972053\",\"active\":true,\"sme\":false,\"regions\":\"Noreste|Pa\\\\u00eds Vasco|Gipuzkoa\"},{\"name\":\"SARETEKNIKA SERVICIOS GLOBALES DE POSVENTA SCOOP\",\"address\":{\"street\":\"GOIRU 1 EDIFICIO B PLANTA 2\",\"city\":\"ARRASATE\",\"postalCode\":\"20500\"},\"country\":{\"name\":\"Spain\",\"isoCode\":\"ES\",\"euCode\":\"ES\"},\"terminated\":false,\"order\":22,\"activityType\":\"Private for-profit entities (excluding Higher or Secondary Education Establishments)\",\"contribution\":0,\"netEcContribution\":110381.25,\"nonEcContribution\":47306.25,\"formula\":\"thirdParty: 157687.5 - 110381.25\",\"website\":\"\",\"email\":\"\",\"type\":\"thirdParty\",\"contacts\":[],\"organizationId\":\"893378052\",\"rcn\":\"1972054\",\"active\":true,\"sme\":false,\"regions\":\"Noreste|Pa\\\\u00eds Vasco|Gipuzkoa\"},{\"name\":\"COMET GLOBAL INNOVATION, SL\",\"address\":{\"street\":\"C GRAN DE GRACIA NUM 1, PLANTA 4, PUERTA 3\",\"city\":\"BARCELONA\",\"postalCode\":\"08012\"},\"country\":{\"name\":\"Spain\",\"isoCode\":\"ES\",\"euCode\":\"ES\"},\"terminated\":false,\"order\":23,\"activityType\":\"Private for-profit entities (excluding Higher or Secondary Education Establishments)\",\"contribution\":239400,\"netEcContribution\":239400,\"nonEcContribution\":102600,\"formula\":\"participant: 342000 - 239400 - 0\",\"website\":\"\",\"email\":\"\",\"type\":\"participant\",\"contacts\":[],\"organizationId\":\"928228018\",\"rcn\":\"1947059\",\"active\":true,\"sme\":true,\"regions\":\"Este|Catalu\\\\u00f1a|Barcelona\"},{\"name\":\"BSH ELETTRODOMESTICI SPA\",\"address\":{\"street\":\"VIA MARCELLO NIZZOLI 1\",\"city\":\"Milano\",\"postalCode\":\"20147\"},\"country\":{\"name\":\"Italy\",\"isoCode\":\"IT\",\"euCode\":\"IT\"},\"terminated\":false,\"order\":24,\"activityType\":\"Private for-profit entities (excluding Higher or Secondary Education Establishments)\",\"contribution\":148575,\"netEcContribution\":148575,\"nonEcContribution\":63675,\"formula\":\"participant: 212250 - 148575 - 0\",\"website\":\"\",\"email\":\"\",\"type\":\"participant\",\"contacts\":[],\"organizationId\":\"911360494\",\"rcn\":\"1970726\",\"active\":true,\"sme\":false,\"regions\":\"Nord-Ovest|Lombardia|Milano\"},{\"name\":\"SABANCI DIJITAL TEKNOLOJI HIZMETLERI AS\",\"address\":{\"street\":\"KUCUKCAMLICA MAHALLESI KISIKLI CADDESI 56\",\"city\":\"USKUDAR ISTANBUL\",\"postalCode\":\"34696\"},\"country\":{\"name\":\"Turkey\",\"isoCode\":\"TR\",\"euCode\":\"TR\"},\"terminated\":false,\"order\":25,\"activityType\":\"Private for-profit entities (excluding Higher or Secondary Education Establishments)\",\"contribution\":149765,\"netEcContribution\":149765,\"nonEcContribution\":64185,\"formula\":\"participant: 213950 - 149765 - 0\",\"website\":\"\",\"email\":\"\",\"type\":\"participant\",\"contacts\":[],\"organizationId\":\"896028771\",\"rcn\":\"1970727\",\"active\":true,\"sme\":false,\"regions\":\"\\\\u0130stanbul|\\\\u0130stanbul|\\\\u0130stanbul\"},{\"name\":\"REYDESA RECYCLING SL\",\"address\":{\"street\":\"POLIGONO IND GOIAIN, CALLE SAN ANTOLIN 16\",\"city\":\"LEGUTIANO (ALAVA)\",\"postalCode\":\"01170\"},\"country\":{\"name\":\"Spain\",\"isoCode\":\"ES\",\"euCode\":\"ES\"},\"terminated\":false,\"order\":26,\"activityType\":\"Private for-profit entities (excluding Higher or Secondary Education Establishments)\",\"contribution\":183071.75,\"netEcContribution\":79399.25,\"nonEcContribution\":34028.25,\"formula\":\"participant: 217100 - 79399.25 - 103672.5\",\"website\":\"\",\"email\":\"\",\"type\":\"participant\",\"contacts\":[],\"organizationId\":\"901421874\",\"rcn\":\"1970728\",\"active\":true,\"sme\":false,\"regions\":\"Noreste|Pa\\\\u00eds Vasco|Araba\\\\/\\\\u00c1lava\"},{\"name\":\"FUNDACION INNOVACION AMBIENTAL Y TECNOLOGICA\",\"address\":{\"street\":\"CALLE SAN BLAS 35 POLIGONO INDUSTRIAL GOIAIN\",\"city\":\"LEGUTIANO\",\"postalCode\":\"001171\"},\"country\":{\"name\":\"Spain\",\"isoCode\":\"ES\",\"euCode\":\"ES\"},\"terminated\":false,\"order\":26,\"activityType\":\"Research Organisations\",\"contribution\":0,\"netEcContribution\":103672.5,\"nonEcContribution\":0,\"formula\":\"thirdParty: 103672.5 - 103672.5\",\"website\":\"\",\"email\":\"\",\"type\":\"thirdParty\",\"contacts\":[],\"organizationId\":\"955292473\",\"rcn\":\"2183329\",\"active\":true,\"sme\":false,\"regions\":\"Noreste|Pa\\\\u00eds Vasco|Araba\\\\/\\\\u00c1lava\"},{\"name\":\"MONDRAGON ASSEMBLY SOCIEDAD COOPERATIVA\",\"address\":{\"street\":\"POLIGONO INDUSTRIAL BAINETXE 5A\",\"city\":\"ARETXABALETA\",\"postalCode\":\"20550\"},\"country\":{\"name\":\"Spain\",\"isoCode\":\"ES\",\"euCode\":\"ES\"},\"terminated\":false,\"order\":27,\"activityType\":\"Private for-profit entities (excluding Higher or Secondary Education Establishments)\",\"contribution\":213062.5,\"netEcContribution\":213062.5,\"nonEcContribution\":91312.5,\"formula\":\"participant: 304375 - 213062.5 - 0\",\"website\":\"www.mondragon-assembly.com\",\"email\":\"\",\"type\":\"participant\",\"contacts\":[],\"organizationId\":\"972442461\",\"rcn\":\"1912097\",\"active\":true,\"sme\":false,\"regions\":\"Noreste|Pa\\\\u00eds Vasco|Gipuzkoa\"},{\"name\":\"WASTE OF ELECTRICAL AND ELECTRONICAL EQUIPMENT FORUM AISBL\",\"address\":{\"street\":\"BOULEVARD AUGUSTE REYERS 80\",\"city\":\"BRUXELLES\",\"postalCode\":\"1030\"},\"country\":{\"name\":\"Belgium\",\"isoCode\":\"BE\",\"euCode\":\"BE\"},\"terminated\":false,\"order\":28,\"activityType\":\"Other\",\"contribution\":244185,\"netEcContribution\":104125,\"nonEcContribution\":0,\"formula\":\"participant: 304210.71 - 104125 - 200085.71\",\"website\":\"www.weee-forum.org\",\"email\":\"\",\"type\":\"participant\",\"contacts\":[],\"organizationId\":\"997394353\",\"rcn\":\"2056325\",\"active\":true,\"sme\":false,\"regions\":\"R\\\\u00e9gion de Bruxelles-Capitale\\\\/Brussels Hoofdstedelijk Gewest|R\\\\u00e9gion de Bruxelles-Capitale\\\\/ Brussels Hoofdstedelijk Gewest|Arr. de Bruxelles-Capitale\\\\/Arr. Brussel-Hoofdstad\"},{\"name\":\"ZEOS RAVNANJE Z ELEKTRICNO IN ELEKTRONSKO OPREMO DOO\",\"address\":{\"street\":\"BRNCICEVA ULICA 39\",\"city\":\"LJUBLJANA\",\"postalCode\":\"1231\"},\"country\":{\"name\":\"Slovenia\",\"isoCode\":\"SI\",\"euCode\":\"SI\"},\"terminated\":false,\"order\":28,\"activityType\":\"Private for-profit entities (excluding Higher or Secondary Education Establishments)\",\"contribution\":0,\"netEcContribution\":140060,\"nonEcContribution\":60025.71,\"formula\":\"thirdParty: 200085.71 - 140060\",\"website\":\"\",\"email\":\"\",\"type\":\"thirdParty\",\"contacts\":[],\"organizationId\":\"936087249\",\"rcn\":\"1972055\",\"active\":true,\"sme\":false,\"regions\":\"Slovenija|Zahodna Slovenija|Osrednjeslovenska\"},{\"name\":\"OCU EDICIONES SA\",\"address\":{\"street\":\"CALLE ALBARRACIN 21\",\"city\":\"MADRID\",\"postalCode\":\"28073\"},\"country\":{\"name\":\"Spain\",\"isoCode\":\"ES\",\"euCode\":\"ES\"},\"terminated\":false,\"order\":29,\"activityType\":\"Private for-profit entities (excluding Higher or Secondary Education Establishments)\",\"contribution\":111650,\"netEcContribution\":111650,\"nonEcContribution\":47850,\"formula\":\"participant: 159500 - 111650 - 0\",\"website\":\"\",\"email\":\"\",\"type\":\"participant\",\"contacts\":[],\"organizationId\":\"950629780\",\"rcn\":\"3006323\",\"active\":true,\"sme\":true,\"regions\":\"Comunidad de Madrid|Comunidad de Madrid|Madrid\"},{\"name\":\"ALTROCONSUMO EDIZIONI SRL\",\"address\":{\"street\":\"VIA VALLASSINA 22\",\"city\":\"MILANO\",\"postalCode\":\"20159\"},\"country\":{\"name\":\"Italy\",\"isoCode\":\"IT\",\"euCode\":\"IT\"},\"terminated\":false,\"order\":30,\"activityType\":\"Private for-profit entities (excluding Higher or Secondary Education Establishments)\",\"contribution\":162050,\"netEcContribution\":162050,\"nonEcContribution\":69450,\"formula\":\"participant: 231500 - 162050 - 0\",\"website\":\"\",\"email\":\"\",\"type\":\"participant\",\"contacts\":[],\"organizationId\":\"950527639\",\"rcn\":\"3006806\",\"active\":true,\"sme\":false,\"regions\":\"Nord-Ovest|Lombardia|Milano\"},{\"name\":\"ERION COMPLIANCE ORGANIZATION SCARL\",\"address\":{\"street\":\"VIA MESSINA 38\",\"city\":\"MILAN\",\"postalCode\":\"20154\"},\"country\":{\"name\":\"Italy\",\"isoCode\":\"IT\",\"euCode\":\"IT\"},\"terminated\":false,\"order\":31,\"activityType\":\"Other\",\"contribution\":314937.5,\"netEcContribution\":314937.5,\"nonEcContribution\":0,\"formula\":\"participant: 314937.5 - 314937.5 - 0\",\"website\":\"\",\"email\":\"\",\"type\":\"participant\",\"contacts\":[],\"organizationId\":\"893249915\",\"rcn\":\"1970729\",\"active\":true,\"sme\":false,\"regions\":\"Nord-Ovest|Lombardia|Milano\"}'\n",
            " '{\"name\":\"AGORIZE SAS\",\"address\":{\"street\":\"15 RUE BERANGER\",\"city\":\"PARIS\",\"postalCode\":\"75003\"},\"country\":{\"name\":\"France\",\"isoCode\":\"FR\",\"euCode\":\"FR\"},\"terminated\":false,\"order\":2,\"activityType\":\"Private for-profit entities (excluding Higher or Secondary Education Establishments)\",\"contribution\":345298.75,\"netEcContribution\":345298.75,\"nonEcContribution\":0,\"formula\":\"participant: 345298.75 - 345298.75 - 0\",\"website\":\"\",\"email\":\"\",\"type\":\"participant\",\"contacts\":[],\"organizationId\":\"922880505\",\"rcn\":\"1967357\",\"active\":true,\"sme\":false,\"regions\":\"Ile-de-France|Ile-de-France|Paris\"},{\"name\":\"BEHAVIOURAL INSIGHTS LTD\",\"address\":{\"street\":\"4 MATTHEW PARKER STREET\",\"city\":\"LONDON\",\"postalCode\":\"SW1H 9NP\"},\"country\":{\"name\":\"United Kingdom\",\"isoCode\":\"GB\",\"euCode\":\"UK\"},\"terminated\":false,\"order\":3,\"activityType\":\"Private for-profit entities (excluding Higher or Secondary Education Establishments)\",\"contribution\":112750,\"netEcContribution\":112750,\"nonEcContribution\":0,\"formula\":\"participant: 112750 - 112750 - 0\",\"website\":\"\",\"email\":\"\",\"type\":\"participant\",\"contacts\":[],\"organizationId\":\"893313741\",\"rcn\":\"1967683\",\"active\":true,\"sme\":true,\"regions\":\"London|Inner London \\\\u2014 West|Westminster\"},{\"name\":\"BSH EV ALETLERI SANAYI VE TICARET ANONIM SIRKETI\",\"address\":{\"street\":\"FATIH SULTAN MEHMET MAH BALKAN CAD 51 UMRANIYE\",\"city\":\"ISTANBUL\",\"postalCode\":\"34771\"},\"country\":{\"name\":\"Turkey\",\"isoCode\":\"TR\",\"euCode\":\"TR\"},\"terminated\":false,\"order\":4,\"activityType\":\"Private for-profit entities (excluding Higher or Secondary Education Establishments)\",\"contribution\":110312.5,\"netEcContribution\":110312.5,\"nonEcContribution\":0,\"formula\":\"participant: 110312.5 - 110312.5 - 0\",\"website\":\"\",\"email\":\"\",\"type\":\"participant\",\"contacts\":[],\"organizationId\":\"896458190\",\"rcn\":\"1967685\",\"active\":true,\"sme\":false,\"regions\":\"\\\\u0130stanbul|\\\\u0130stanbul|\\\\u0130stanbul\"},{\"name\":\"HELIOZ GMBH\",\"address\":{\"street\":\"MARIAHILFER STRASSE 81\\\\/1\\\\/15\",\"city\":\"WIEN\",\"postalCode\":\"1060\"},\"country\":{\"name\":\"Austria\",\"isoCode\":\"AT\",\"euCode\":\"AT\"},\"terminated\":false,\"order\":5,\"activityType\":\"Private for-profit entities (excluding Higher or Secondary Education Establishments)\",\"contribution\":214045,\"netEcContribution\":214045,\"nonEcContribution\":0,\"formula\":\"participant: 214045 - 214045 - 0\",\"website\":\"\",\"email\":\"\",\"type\":\"participant\",\"contacts\":[],\"organizationId\":\"933843736\",\"rcn\":\"2517070\",\"active\":true,\"sme\":true,\"regions\":\"Wien|Wien\"},{\"name\":\"INNOFRUGAL RY\",\"address\":{\"street\":\"VAPAUDENKATU 24 A 15\",\"city\":\"JYVASKYLA\",\"postalCode\":\"40101\"},\"country\":{\"name\":\"Finland\",\"isoCode\":\"FI\",\"euCode\":\"FI\"},\"terminated\":false,\"order\":6,\"activityType\":\"Other\",\"contribution\":305687.5,\"netEcContribution\":305687.5,\"nonEcContribution\":0,\"formula\":\"participant: 305687.5 - 305687.5 - 0\",\"website\":\"\",\"email\":\"\",\"type\":\"participant\",\"contacts\":[],\"organizationId\":\"927793458\",\"rcn\":\"1967689\",\"active\":true,\"sme\":false,\"regions\":\"Manner-Suomi|L\\\\u00e4nsi-Suomi|Keski-Suomi\"},{\"name\":\"TEKNOLOGIAN TUTKIMUSKESKUS VTT OY\",\"address\":{\"street\":\"TEKNIIKANTIE 21\",\"city\":\"ESPOO\",\"postalCode\":\"02150\"},\"country\":{\"name\":\"Finland\",\"isoCode\":\"FI\",\"euCode\":\"FI\"},\"terminated\":false,\"order\":7,\"activityType\":\"Research Organisations\",\"contribution\":312750,\"netEcContribution\":312750,\"nonEcContribution\":0,\"formula\":\"participant: 312750 - 312750 - 0\",\"website\":\"www.vtt.fi\",\"email\":\"\",\"type\":\"participant\",\"contacts\":[],\"organizationId\":\"932760440\",\"rcn\":\"2104951\",\"active\":true,\"sme\":false,\"regions\":\"Manner-Suomi|Helsinki-Uusimaa|Helsinki-Uusimaa\"}'\n",
            " '{\"name\":\"CUSTOMS CO-OPERATION COUNCIL\",\"address\":{\"street\":\"Rue du Marche 30\",\"city\":\"BRUXELLES\",\"postalCode\":\"1210\"},\"country\":{\"name\":\"Belgium\",\"isoCode\":\"BE\",\"euCode\":\"BE\"},\"terminated\":false,\"order\":2,\"activityType\":\"Public bodies (excluding Research Organisations and Secondary or Higher Education Establishments)\",\"contribution\":7794.06,\"netEcContribution\":null,\"nonEcContribution\":null,\"formula\":\"participant: \",\"website\":\"http:\\\\/\\\\/www.wcoomd\",\"email\":\"hYavgzdFnMMId8aoIwsPBBBmwTiev+m3zKjcAUHnraU=\",\"type\":\"participant\",\"contacts\":[{\"position\":\"relatedContact\",\"title\":\"Mr.\",\"name\":\"Robert Ireland\",\"phone\":\"+3222099631\",\"email\":\"hYavgzdFnMMId8aoIwsPBBBmwTiev+m3zKjcAUHnraU=\",\"fax\":\"+322099474\"}],\"organizationId\":\"952244345\",\"rcn\":\"1950187\",\"active\":true,\"sme\":false,\"regions\":\"\"},{\"name\":\"THE INTERNATIONAL CRIMINAL POLICE ORGANIZATION\",\"address\":{\"street\":\"QUAI CHARLES DE GAULLE 200\",\"city\":\"LYON\",\"postalCode\":\"69006\"},\"country\":{\"name\":\"France\",\"isoCode\":\"FR\",\"euCode\":\"FR\"},\"terminated\":false,\"order\":3,\"activityType\":\"Public bodies (excluding Research Organisations and Secondary or Higher Education Establishments)\",\"contribution\":280052.38,\"netEcContribution\":null,\"nonEcContribution\":null,\"formula\":\"participant: \",\"website\":\"http:\\\\/\\\\/www.interpol.int\\\\/\",\"email\":\"fByeDv6Rcljol+kYycP6L93DF8H9c05qqeL\\\\/xz+gzV8=\",\"type\":\"participant\",\"contacts\":[{\"position\":\"relatedContact\",\"title\":\"Mr.\",\"name\":\"Peter Darlow\",\"phone\":\"+33 4 72 44 76 82\",\"email\":\"fByeDv6Rcljol+kYycP6L93DF8H9c05qqeL\\\\/xz+gzV8=\",\"fax\":\"\"}],\"organizationId\":\"995993964\",\"rcn\":\"1920749\",\"active\":true,\"sme\":false,\"regions\":\"Auvergne-Rh\\\\u00f4ne-Alpes|Rh\\\\u00f4ne-Alpes|Rh\\\\u00f4ne\"},{\"name\":\"Clecat - European Association for Forwarding, Transport, Logistics and Customs Service\",\"address\":{\"street\":\"RUE DU COMMERCE 77\",\"city\":\"Brussels\",\"postalCode\":\"1040\"},\"country\":{\"name\":\"Belgium\",\"isoCode\":\"BE\",\"euCode\":\"BE\"},\"terminated\":false,\"order\":4,\"activityType\":\"Other\",\"contribution\":206400,\"netEcContribution\":null,\"nonEcContribution\":null,\"formula\":\"participant: \",\"website\":\"http:\\\\/\\\\/www.clecat.org\",\"email\":\"DKvDuUoOxDWCjVJDIvZmFCPWtsYWdES2oc+UpPdtu\\\\/w=\",\"type\":\"participant\",\"contacts\":[{\"position\":\"relatedContact\",\"title\":\"Ms.\",\"name\":\"Nicolette Van Der Jagt\",\"phone\":\"+3225034705\",\"email\":\"DKvDuUoOxDWCjVJDIvZmFCPWtsYWdES2oc+UpPdtu\\\\/w=\",\"fax\":\"+3225034752\"}],\"organizationId\":\"998915604\",\"rcn\":\"1906092\",\"active\":true,\"sme\":false,\"regions\":\"\"},{\"name\":\"IRU PROJECTS ASBL\",\"address\":{\"street\":\"AVENUE DE CORTENBERGH 71\",\"city\":\"BRUXELLES\",\"postalCode\":\"1000\"},\"country\":{\"name\":\"Belgium\",\"isoCode\":\"BE\",\"euCode\":\"BE\"},\"terminated\":false,\"order\":5,\"activityType\":\"Other\",\"contribution\":143820,\"netEcContribution\":null,\"nonEcContribution\":null,\"formula\":\"participant: \",\"website\":\"http:\\\\/\\\\/www.iru.org\",\"email\":\"Rdcz335H+IRYxnS6Gtu6XVRoLeY4a0N2ODS1b0eIYJc=\",\"type\":\"participant\",\"contacts\":[{\"position\":\"relatedContact\",\"title\":\"Ms.\",\"name\":\"Anna Maria Lipinska\",\"phone\":\"+3227432587\",\"email\":\"Rdcz335H+IRYxnS6Gtu6XVRoLeY4a0N2ODS1b0eIYJc=\",\"fax\":\"\"}],\"organizationId\":\"952347456\",\"rcn\":\"1950138\",\"active\":true,\"sme\":false,\"regions\":\"R\\\\u00e9gion de Bruxelles-Capitale\\\\/Brussels Hoofdstedelijk Gewest|R\\\\u00e9gion de Bruxelles-Capitale\\\\/ Brussels Hoofdstedelijk Gewest|Arr. de Bruxelles-Capitale\\\\/Arr. Brussel-Hoofdstad\"},{\"name\":\"EUROPEAN INTERMODAL ASSOCIATION\",\"address\":{\"street\":\"Rue d\\\\u0027Arenberg 44\",\"city\":\"Brussels\",\"postalCode\":\"1000\"},\"country\":{\"name\":\"Belgium\",\"isoCode\":\"BE\",\"euCode\":\"BE\"},\"terminated\":true,\"order\":6,\"activityType\":\"Other\",\"contribution\":null,\"netEcContribution\":null,\"nonEcContribution\":null,\"formula\":\"participant: \",\"website\":\"http:\\\\/\\\\/www.eia-ngo.com\",\"email\":\"ekFrQKul4Hzn86vKpcpn572fQROOztByCw4f2XHTTmI=\",\"type\":\"participant\",\"contacts\":[{\"position\":\"relatedContact\",\"title\":\"Mr.\",\"name\":\"Andrea Grisilla\",\"phone\":\"+32 25145654\",\"email\":\"ekFrQKul4Hzn86vKpcpn572fQROOztByCw4f2XHTTmI=\",\"fax\":\"+32 25146760\"}],\"organizationId\":\"998870887\",\"rcn\":\"1924091\",\"active\":true,\"sme\":false,\"regions\":\"\"},{\"name\":\"COOPERATIEVE BLOEMENVEILING FLORAHOLLAND U.A.\",\"address\":{\"street\":\"Legmeerdijk 313\",\"city\":\"AALSMEER\",\"postalCode\":\"1431GB\"},\"country\":{\"name\":\"Netherlands\",\"isoCode\":\"NL\",\"euCode\":\"NL\"},\"terminated\":false,\"order\":8,\"activityType\":\"Private for-profit entities (excluding Higher or Secondary Education Establishments)\",\"contribution\":320721,\"netEcContribution\":null,\"nonEcContribution\":null,\"formula\":\"participant: \",\"website\":\"\",\"email\":\"omIWxlvkxYwYIJeLQFFgmNvj\\\\/Kj3+wmT85uk\\\\/pWZUleIDgl3NvHSvkCXxtRAmOk\\\\/\",\"type\":\"participant\",\"contacts\":[{\"position\":\"relatedContact\",\"title\":\"Ms.\",\"name\":\"Marleen Van Der Geer\",\"phone\":\"+31 620606166\",\"email\":\"omIWxlvkxYwYIJeLQFFgmNvj\\\\/Kj3+wmT85uk\\\\/pWZUleIDgl3NvHSvkCXxtRAmOk\\\\/\",\"fax\":\"\"}],\"organizationId\":\"986390964\",\"rcn\":\"1935749\",\"active\":true,\"sme\":false,\"regions\":\"\"},{\"name\":\"DHL EXEL SUPPLY CHAIN SPAIN SL\",\"address\":{\"street\":\"AVD CASTILLA 2 EDIFICIO ITALIA PLANTA 2 PARQUE EMPRESARIAL\",\"city\":\"SAN FERNANDO DE HENARES\",\"postalCode\":\"28830\"},\"country\":{\"name\":\"Spain\",\"isoCode\":\"ES\",\"euCode\":\"ES\"},\"terminated\":false,\"order\":9,\"activityType\":\"Private for-profit entities (excluding Higher or Secondary Education Establishments)\",\"contribution\":570960,\"netEcContribution\":null,\"nonEcContribution\":null,\"formula\":\"participant: \",\"website\":\"\",\"email\":\"4jRRHsSmsNJAQ+DhRmWqT9DISWzNq2g9UF8QlahQFms=\",\"type\":\"participant\",\"contacts\":[{\"position\":\"relatedContact\",\"title\":\"Mrs.\",\"name\":\"Isabel Ferrando\",\"phone\":\"+34913843500\",\"email\":\"4jRRHsSmsNJAQ+DhRmWqT9DISWzNq2g9UF8QlahQFms=\",\"fax\":\"+34 916708727\"}],\"organizationId\":\"972168436\",\"rcn\":\"1913437\",\"active\":true,\"sme\":false,\"regions\":\"Comunidad de Madrid|Comunidad de Madrid|Madrid\"},{\"name\":\"HM REVENUE AND CUSTOMS\",\"address\":{\"street\":\"PARLIAMENT STREET 100\",\"city\":\"LONDON\",\"postalCode\":\"SW1A 2BQ\"},\"country\":{\"name\":\"United Kingdom\",\"isoCode\":\"GB\",\"euCode\":\"UK\"},\"terminated\":false,\"order\":11,\"activityType\":\"Public bodies (excluding Research Organisations and Secondary or Higher Education Establishments)\",\"contribution\":325800,\"netEcContribution\":null,\"nonEcContribution\":null,\"formula\":\"participant: \",\"website\":\"\",\"email\":\"WxEsPvf5qBSc5dUN2WZGawhGtWcn+Dkur5qZk0L5WP4=\",\"type\":\"participant\",\"contacts\":[{\"position\":\"relatedContact\",\"title\":\"Mr.\",\"name\":\"David Hesketh\",\"phone\":\"+447768600160\",\"email\":\"WxEsPvf5qBSc5dUN2WZGawhGtWcn+Dkur5qZk0L5WP4=\",\"fax\":\"+441702361800\"}],\"organizationId\":\"997472341\",\"rcn\":\"1933847\",\"active\":true,\"sme\":false,\"regions\":\"\"},{\"name\":\"MINISTERIE VAN FINANCIEN\",\"address\":{\"street\":\"KORTE VOORHOUT 7\",\"city\":\"S-GRAVENHAGE\",\"postalCode\":\"2511CW\"},\"country\":{\"name\":\"Netherlands\",\"isoCode\":\"NL\",\"euCode\":\"NL\"},\"terminated\":false,\"order\":12,\"activityType\":\"Public bodies (excluding Research Organisations and Secondary or Higher Education Establishments)\",\"contribution\":352532.6,\"netEcContribution\":null,\"nonEcContribution\":null,\"formula\":\"participant: \",\"website\":\"http:\\\\/\\\\/www.belastingdienst.nl\",\"email\":\"xBw62xgD9m8TsFBYlr37Nvnzp1csh65Vhw7nkppBF\\\\/A=\",\"type\":\"participant\",\"contacts\":[{\"position\":\"relatedContact\",\"title\":\"Mr.\",\"name\":\"Andre Lenards\",\"phone\":\"+31652486416\",\"email\":\"xBw62xgD9m8TsFBYlr37Nvnzp1csh65Vhw7nkppBF\\\\/A=\",\"fax\":\"\"}],\"organizationId\":\"998852360\",\"rcn\":\"1933867\",\"active\":true,\"sme\":false,\"regions\":\"West-Nederland|Zuid-Holland|Agglomeratie \\\\u2019s-Gravenhage\"},{\"name\":\"SERVICE PUBLIC FEDERAL FINANCES\",\"address\":{\"street\":\"Koning Albert II-laan  33\",\"city\":\"BRUXELLES\",\"postalCode\":\"1030\"},\"country\":{\"name\":\"Belgium\",\"isoCode\":\"BE\",\"euCode\":\"BE\"},\"terminated\":false,\"order\":13,\"activityType\":\"Public bodies (excluding Research Organisations and Secondary or Higher Education Establishments)\",\"contribution\":108066,\"netEcContribution\":null,\"nonEcContribution\":null,\"formula\":\"participant: \",\"website\":\"\",\"email\":\"kuJQbMzAPLUONw7kppcIvxaomCZW24IHmQgTb1hU9S8=\",\"type\":\"participant\",\"contacts\":[{\"position\":\"relatedContact\",\"title\":\"Mr.\",\"name\":\"Hans Pieters\",\"phone\":\"+3225777647\",\"email\":\"kuJQbMzAPLUONw7kppcIvxaomCZW24IHmQgTb1hU9S8=\",\"fax\":\"\"}],\"organizationId\":\"997385041\",\"rcn\":\"1913612\",\"active\":true,\"sme\":false,\"regions\":\"R\\\\u00e9gion de Bruxelles-Capitale\\\\/Brussels Hoofdstedelijk Gewest|R\\\\u00e9gion de Bruxelles-Capitale\\\\/ Brussels Hoofdstedelijk Gewest|Arr. de Bruxelles-Capitale\\\\/Arr. Brussel-Hoofdstad\"},{\"name\":\"MINISTERIE VAN BINNENLANDSE ZAKEN EN KONINKRIJKSRELATIES\",\"address\":{\"street\":\"Turfmarkt 147\",\"city\":\"THE HAGUE\",\"postalCode\":\"2511 DP\"},\"country\":{\"name\":\"Netherlands\",\"isoCode\":\"NL\",\"euCode\":\"NL\"},\"terminated\":false,\"order\":14,\"activityType\":\"Public bodies (excluding Research Organisations and Secondary or Higher Education Establishments)\",\"contribution\":null,\"netEcContribution\":null,\"nonEcContribution\":null,\"formula\":\"participant: \",\"website\":\"http:\\\\/\\\\/www.minbzk.nl\",\"email\":\"bk90pD7B2b+ouxfvDEerTqXrUb5MeK3TZwk8wp052UU=\",\"type\":\"participant\",\"contacts\":[{\"position\":\"relatedContact\",\"title\":\"Mr.\",\"name\":\"Jan Malenstein\",\"phone\":\"+31 318518153\",\"email\":\"bk90pD7B2b+ouxfvDEerTqXrUb5MeK3TZwk8wp052UU=\",\"fax\":\"+31 164256742\"}],\"organizationId\":\"999814309\",\"rcn\":\"1906012\",\"active\":true,\"sme\":false,\"regions\":\"West-Nederland|Zuid-Holland|Agglomeratie \\\\u2019s-Gravenhage\"},{\"name\":\"Ministero delle infrastrutture e della mobilit\\\\u00e0 sostenibili\",\"address\":{\"street\":\"Via Nomentana, 2\",\"city\":\"Roma\",\"postalCode\":\"00161\"},\"country\":{\"name\":\"Italy\",\"isoCode\":\"IT\",\"euCode\":\"IT\"},\"terminated\":false,\"order\":15,\"activityType\":\"Public bodies (excluding Research Organisations and Secondary or Higher Education Establishments)\",\"contribution\":155250,\"netEcContribution\":null,\"nonEcContribution\":null,\"formula\":\"participant: \",\"website\":\"http:\\\\/\\\\/www.trasporti.gov.it\",\"email\":\"mcrOHjkYVhrFBkQsxg9xuUu6DJ8Oh\\\\/\\\\/HWPs3101OsSk=\",\"type\":\"participant\",\"contacts\":[{\"position\":\"relatedContact\",\"title\":\"Mr.\",\"name\":\"Massimiliano Zazza\",\"phone\":\"+39 0659083171\",\"email\":\"mcrOHjkYVhrFBkQsxg9xuUu6DJ8Oh\\\\/\\\\/HWPs3101OsSk=\",\"fax\":\"+39 065921264\"}],\"organizationId\":\"996445790\",\"rcn\":\"1950173\",\"active\":true,\"sme\":false,\"regions\":\"Centro (IT)|Lazio|Roma\"},{\"name\":\"MINISTERE DE LA TRANSITION ECOLOGIQUE\",\"address\":{\"street\":\"Grande Arche - Tour Sequoia\",\"city\":\"Paris - La D\\\\u00e9fense\",\"postalCode\":\"92055\"},\"country\":{\"name\":\"France\",\"isoCode\":\"FR\",\"euCode\":\"FR\"},\"terminated\":false,\"order\":16,\"activityType\":\"Public bodies (excluding Research Organisations and Secondary or Higher Education Establishments)\",\"contribution\":147960,\"netEcContribution\":null,\"nonEcContribution\":null,\"formula\":\"participant: \",\"website\":\"http:\\\\/\\\\/www.developpement-durable.gouv.fr\\\\/\",\"email\":\"t\\\\/ip72T7hDD+Jtyo2FF03VxIs3e7b7Qtmqwho6nbbwKvCs9Js6vtG2npFLb\\\\/M\\\\/Pf\",\"type\":\"participant\",\"contacts\":[{\"position\":\"relatedContact\",\"title\":\"Ms.\",\"name\":\"Christine Bouchet\",\"phone\":\"+33140811674\",\"email\":\"t\\\\/ip72T7hDD+Jtyo2FF03VxIs3e7b7Qtmqwho6nbbwKvCs9Js6vtG2npFLb\\\\/M\\\\/Pf\",\"fax\":\"\"}],\"organizationId\":\"996384874\",\"rcn\":\"1918381\",\"active\":true,\"sme\":false,\"regions\":\"Ile-de-France|Ile-de-France|Hauts-de-Seine \"},{\"name\":\"NEDERLANDSE VOEDSEL EN WARENAUTORITEIT\",\"address\":{\"street\":\"CATHARIJNESINGEL\",\"city\":\"UTRECHT\",\"postalCode\":\"3511 GG\"},\"country\":{\"name\":\"Netherlands\",\"isoCode\":\"NL\",\"euCode\":\"NL\"},\"terminated\":false,\"order\":17,\"activityType\":\"Public bodies (excluding Research Organisations and Secondary or Higher Education Establishments)\",\"contribution\":58376,\"netEcContribution\":null,\"nonEcContribution\":null,\"formula\":\"participant: \",\"website\":\"http:\\\\/\\\\/www.lnvweb.nl\",\"email\":\"UaGCtv4GMzXTujo9\\\\/4Cq22wVkYkWDfHUHuxyOJ4ReeQ=\",\"type\":\"participant\",\"contacts\":[{\"position\":\"relatedContact\",\"title\":\"Dr.\",\"name\":\"Nico Horn\",\"phone\":\"+31 651998151\",\"email\":\"UaGCtv4GMzXTujo9\\\\/4Cq22wVkYkWDfHUHuxyOJ4ReeQ=\",\"fax\":\"\"}],\"organizationId\":\"999937305\",\"rcn\":\"1911275\",\"active\":true,\"sme\":false,\"regions\":\"West-Nederland|Utrecht|Utrecht\"},{\"name\":\"dbh Logistics IT AG\",\"address\":{\"street\":\"Martinistrasse 47-49\",\"city\":\"Bremen\",\"postalCode\":\"28195\"},\"country\":{\"name\":\"Germany\",\"isoCode\":\"DE\",\"euCode\":\"DE\"},\"terminated\":false,\"order\":18,\"activityType\":\"Private for-profit entities (excluding Higher or Secondary Education Establishments)\",\"contribution\":213600,\"netEcContribution\":null,\"nonEcContribution\":null,\"formula\":\"participant: \",\"website\":\"http:\\\\/\\\\/www.dbh.de\",\"email\":\"ERinR6vwx2H6J1E7FpUEyH8YaU3UaEQ931nfC3uISn0=\",\"type\":\"participant\",\"contacts\":[{\"position\":\"relatedContact\",\"title\":\"Mr.\",\"name\":\"Bernd Huckschlag\",\"phone\":\"+49 42130902167\",\"email\":\"ERinR6vwx2H6J1E7FpUEyH8YaU3UaEQ931nfC3uISn0=\",\"fax\":\"+494213090257\"}],\"organizationId\":\"990695921\",\"rcn\":\"1933846\",\"active\":true,\"sme\":false,\"regions\":\"\"},{\"name\":\"TERMINAL MARITIMA DE ZARAGOZA SL\",\"address\":{\"street\":\"CARRETERA COGULLADA CALLE M MERCAZARAGOZA 65\",\"city\":\"ZARAGOZA\",\"postalCode\":\"50014\"},\"country\":{\"name\":\"Spain\",\"isoCode\":\"ES\",\"euCode\":\"ES\"},\"terminated\":false,\"order\":19,\"activityType\":\"Private for-profit entities (excluding Higher or Secondary Education Establishments)\",\"contribution\":164800,\"netEcContribution\":null,\"nonEcContribution\":null,\"formula\":\"participant: \",\"website\":\"http:\\\\/\\\\/www.tmzaragoza.com\",\"email\":\"LdSwKXaBiskHZXwd0AmppVaQmE0TDWkJIOSAmCW0+gY=\",\"type\":\"participant\",\"contacts\":[{\"position\":\"relatedContact\",\"title\":\"Mr.\",\"name\":\"Miguel As\\\\u00edn Pi\\\\u00f1ero\",\"phone\":\"+34976479658\",\"email\":\"LdSwKXaBiskHZXwd0AmppVaQmE0TDWkJIOSAmCW0+gY=\",\"fax\":\"+34976449108\"}],\"organizationId\":\"952237555\",\"rcn\":\"1950151\",\"active\":true,\"sme\":false,\"regions\":\"\"},{\"name\":\"CONSORZIO IB INNOVATION\",\"address\":{\"street\":\"PALAZZINA DOGANALE SNC INTERPORTO\",\"city\":\"BENTIVOGLIO\",\"postalCode\":\"40010\"},\"country\":{\"name\":\"Italy\",\"isoCode\":\"IT\",\"euCode\":\"IT\"},\"terminated\":false,\"order\":20,\"activityType\":\"Research Organisations\",\"contribution\":1194158.4,\"netEcContribution\":null,\"nonEcContribution\":null,\"formula\":\"participant: \",\"website\":\"\",\"email\":\"IOFkl+pm663gnIUFgDvgOW\\\\/7gHpxK4D7Cj0UQrnSigE=\",\"type\":\"participant\",\"contacts\":[{\"position\":\"relatedContact\",\"title\":\"Mr.\",\"name\":\"Alessandro Ricci\",\"phone\":\"+39051234075\",\"email\":\"IOFkl+pm663gnIUFgDvgOW\\\\/7gHpxK4D7Cj0UQrnSigE=\",\"fax\":\"+39 051221505\"}],\"organizationId\":\"953489340\",\"rcn\":\"1909321\",\"active\":true,\"sme\":false,\"regions\":\"\"},{\"name\":\"LA SPEZIA CONTAINER TERMINAL SPA\",\"address\":{\"street\":\"VIALE SAN BARTOLOMEO 20\",\"city\":\"LA SPEZIA SP\",\"postalCode\":\"19126\"},\"country\":{\"name\":\"Italy\",\"isoCode\":\"IT\",\"euCode\":\"IT\"},\"terminated\":false,\"order\":21,\"activityType\":\"Private for-profit entities (excluding Higher or Secondary Education Establishments)\",\"contribution\":210180,\"netEcContribution\":null,\"nonEcContribution\":null,\"formula\":\"participant: \",\"website\":\"http:\\\\/\\\\/www.contshipitalia.com\",\"email\":\"HmzTIZz6hJTUrODg1T7UBOuFqcP3Ghg9vPkx+3A5FfL4zvEKZ3nPlvFFe4koiKr2\",\"type\":\"participant\",\"contacts\":[{\"position\":\"relatedContact\",\"title\":\"Mr.\",\"name\":\"Daniele Ciulli\",\"phone\":\"+39 0187555416\",\"email\":\"HmzTIZz6hJTUrODg1T7UBOuFqcP3Ghg9vPkx+3A5FfL4zvEKZ3nPlvFFe4koiKr2\",\"fax\":\"+390187 555514\"}],\"organizationId\":\"971254405\",\"rcn\":\"1950188\",\"active\":true,\"sme\":false,\"regions\":\"\"},{\"name\":\"Senator fuer Wirtschaft und Haefen Bremen\",\"address\":{\"street\":\"Zweite Schlachtpforte 3\",\"city\":\"Bremen\",\"postalCode\":\"28195\"},\"country\":{\"name\":\"Germany\",\"isoCode\":\"DE\",\"euCode\":\"DE\"},\"terminated\":false,\"order\":22,\"activityType\":\"Public bodies (excluding Research Organisations and Secondary or Higher Education Establishments)\",\"contribution\":194640,\"netEcContribution\":null,\"nonEcContribution\":null,\"formula\":\"participant: \",\"website\":\"http:\\\\/\\\\/www.wirtschaft.bremen.de\",\"email\":\"d2Us6LPDn0xQNwz7Ct2MhsjCvmDnB68GW8N0oqHzc5fpARdBBklEw27ieAAtJmMQ\",\"type\":\"participant\",\"contacts\":[{\"position\":\"relatedContact\",\"title\":\"Ms.\",\"name\":\"Renate Bartholom\\\\u00e4us-L\\\\u00fcthge\",\"phone\":\"+49 4213612336\",\"email\":\"d2Us6LPDn0xQNwz7Ct2MhsjCvmDnB68GW8N0oqHzc5fpARdBBklEw27ieAAtJmMQ\",\"fax\":\"+494213618717\"}],\"organizationId\":\"994687956\",\"rcn\":\"1923006\",\"active\":true,\"sme\":false,\"regions\":\"\"},{\"name\":\"PORTIC BARCELONA S.A\",\"address\":{\"street\":\"MUELLE DE BARCELONA ED ESTE DEL WORLD TRADE CENTER PLANTA 6\",\"city\":\"BARCELONA\",\"postalCode\":\"08039\"},\"country\":{\"name\":\"Spain\",\"isoCode\":\"ES\",\"euCode\":\"ES\"},\"terminated\":false,\"order\":23,\"activityType\":\"Private for-profit entities (excluding Higher or Secondary Education Establishments)\",\"contribution\":199356,\"netEcContribution\":null,\"nonEcContribution\":null,\"formula\":\"participant: \",\"website\":\"http:\\\\/\\\\/www.portic.net\",\"email\":\"TQ6obQlca3qBM4x8TlaXYuBA\\\\/cR8VQ\\\\/WpkVmfXZHIVI=\",\"type\":\"participant\",\"contacts\":[{\"position\":\"relatedContact\",\"title\":\"Mr.\",\"name\":\"Javier Gallardo\",\"phone\":\"+34935088282\",\"email\":\"TQ6obQlca3qBM4x8TlaXYuBA\\\\/cR8VQ\\\\/WpkVmfXZHIVI=\",\"fax\":\"+34935088292\"}],\"organizationId\":\"987692025\",\"rcn\":\"1924793\",\"active\":true,\"sme\":false,\"regions\":\"Este|Catalu\\\\u00f1a|Barcelona\"},{\"name\":\"SMITHS DETECTION FRANCE SAS\",\"address\":{\"street\":\"RUE CHARLES HELLER 36\",\"city\":\"VITRY SUR SEINE\",\"postalCode\":\"94400\"},\"country\":{\"name\":\"France\",\"isoCode\":\"FR\",\"euCode\":\"FR\"},\"terminated\":false,\"order\":24,\"activityType\":\"Private for-profit entities (excluding Higher or Secondary Education Establishments)\",\"contribution\":830160,\"netEcContribution\":null,\"nonEcContribution\":null,\"formula\":\"participant: \",\"website\":\"http:\\\\/\\\\/www.smithsdetection.com\",\"email\":\"MuuuA2AdwXHfFF06BKiJrULgaexBiECctDbgtmtpCONkluI51HP87OopMyMqtIjP\",\"type\":\"participant\",\"contacts\":[{\"position\":\"relatedContact\",\"title\":\"Mr.\",\"name\":\"Marc-Yannick Ermeneux\",\"phone\":\"+33 1 55 53 55 80\",\"email\":\"MuuuA2AdwXHfFF06BKiJrULgaexBiECctDbgtmtpCONkluI51HP87OopMyMqtIjP\",\"fax\":\"\"}],\"organizationId\":\"994789612\",\"rcn\":\"1907649\",\"active\":true,\"sme\":false,\"regions\":\"Ile-de-France|Ile-de-France|Val-de-Marne\"},{\"name\":\"NETCOMPANY-INTRASOFT SA\",\"address\":{\"street\":\"RUE NICOLAS BOVE 2B\",\"city\":\"LUXEMBOURG\",\"postalCode\":\"1253\"},\"country\":{\"name\":\"Luxembourg\",\"isoCode\":\"LU\",\"euCode\":\"LU\"},\"terminated\":false,\"order\":25,\"activityType\":\"Private for-profit entities (excluding Higher or Secondary Education Establishments)\",\"contribution\":427217,\"netEcContribution\":null,\"nonEcContribution\":null,\"formula\":\"participant: \",\"website\":\"http:\\\\/\\\\/www.intrasoft-intl.com\",\"email\":\"eVByy1u\\\\/xPks+MyVD6OLFzKQSviQBp9hRfatqkv+XPv4zvEKZ3nPlvFFe4koiKr2\",\"type\":\"participant\",\"contacts\":[{\"position\":\"relatedContact\",\"title\":\"Dr.\",\"name\":\"Antonis Ramfos\",\"phone\":\"+352 4410122186\",\"email\":\"eVByy1u\\\\/xPks+MyVD6OLFzKQSviQBp9hRfatqkv+XPv4zvEKZ3nPlvFFe4koiKr2\",\"fax\":\"+3524410122359\"}],\"organizationId\":\"999702371\",\"rcn\":\"1916280\",\"active\":true,\"sme\":false,\"regions\":\"Luxembourg|Luxembourg|Luxembourg\"},{\"name\":\"TELESPAZIO SPA\",\"address\":{\"street\":\"VIA TIBURTINA 965\",\"city\":\"ROMA\",\"postalCode\":\"00156\"},\"country\":{\"name\":\"Italy\",\"isoCode\":\"IT\",\"euCode\":\"IT\"},\"terminated\":false,\"order\":26,\"activityType\":\"Private for-profit entities (excluding Higher or Secondary Education Establishments)\",\"contribution\":610332.45,\"netEcContribution\":null,\"nonEcContribution\":null,\"formula\":\"participant: \",\"website\":\"http:\\\\/\\\\/www.telespazio.it\",\"email\":\"lpzSJObgnZf6s8W1cHeKeKo5XUgpokffZp9tgwLuWtI=\",\"type\":\"participant\",\"contacts\":[{\"position\":\"relatedContact\",\"title\":\"Mr.\",\"name\":\"Enrico Peruzzi\",\"phone\":\"+39 06 4079 1\",\"email\":\"lpzSJObgnZf6s8W1cHeKeKo5XUgpokffZp9tgwLuWtI=\",\"fax\":\"+390640793626\"}],\"organizationId\":\"999939051\",\"rcn\":\"1907221\",\"active\":true,\"sme\":false,\"regions\":\"Centro (IT)|Lazio|Roma\"},{\"name\":\"DESCARTES SYSTEMS (BELGIUM)\",\"address\":{\"street\":\"DUWIJCKSTRAAT 17\",\"city\":\"LIER\",\"postalCode\":\"2500\"},\"country\":{\"name\":\"Belgium\",\"isoCode\":\"BE\",\"euCode\":\"BE\"},\"terminated\":false,\"order\":27,\"activityType\":\"Private for-profit entities (excluding Higher or Secondary Education Establishments)\",\"contribution\":331710.88,\"netEcContribution\":null,\"nonEcContribution\":null,\"formula\":\"participant: \",\"website\":\"http:\\\\/\\\\/www.Descartes.com\",\"email\":\"IQgLGqXyS83ma2KlDzWq3VaQmE0TDWkJIOSAmCW0+gY=\",\"type\":\"participant\",\"contacts\":[{\"position\":\"relatedContact\",\"title\":\"Ms.\",\"name\":\"Natasja Wuyts\",\"phone\":\"+3238000632\",\"email\":\"IQgLGqXyS83ma2KlDzWq3VaQmE0TDWkJIOSAmCW0+gY=\",\"fax\":\"+32 38000601\"}],\"organizationId\":\"998726357\",\"rcn\":\"1913611\",\"active\":true,\"sme\":false,\"regions\":\"\"},{\"name\":\"A.P. Moller - M\\\\u00e6rsk A\\\\/S\",\"address\":{\"street\":\"Esplanaden 50\",\"city\":\"Copenhagen\",\"postalCode\":\"1098\"},\"country\":{\"name\":\"Denmark\",\"isoCode\":\"DK\",\"euCode\":\"DK\"},\"terminated\":false,\"order\":28,\"activityType\":\"Private for-profit entities (excluding Higher or Secondary Education Establishments)\",\"contribution\":760444.83,\"netEcContribution\":null,\"nonEcContribution\":null,\"formula\":\"participant: \",\"website\":\"http:\\\\/\\\\/www.maersk.com\",\"email\":\"bYmPuTBiXydL4qbUl73uVvjO8Qpnec+W8UV7iSiIqvY=\",\"type\":\"participant\",\"contacts\":[{\"position\":\"relatedContact\",\"title\":\"Mr.\",\"name\":\"Henrik Hvid Jensen\",\"phone\":\"+45 22 99 87 55\",\"email\":\"bYmPuTBiXydL4qbUl73uVvjO8Qpnec+W8UV7iSiIqvY=\",\"fax\":\"\"}],\"organizationId\":\"986506782\",\"rcn\":\"1910902\",\"active\":true,\"sme\":false,\"regions\":\"\"},{\"name\":\"SO.GE.MAR. SOCIETA GENERALE MAGAZZINI RACCORDATI INTERPORTO SPA\",\"address\":{\"street\":\"VIA MAGENTA 60\",\"city\":\"LUCERNATE DI RHO\",\"postalCode\":\"20016\"},\"country\":{\"name\":\"Italy\",\"isoCode\":\"IT\",\"euCode\":\"IT\"},\"terminated\":false,\"order\":29,\"activityType\":\"Private for-profit entities (excluding Higher or Secondary Education Establishments)\",\"contribution\":229800,\"netEcContribution\":null,\"nonEcContribution\":null,\"formula\":\"participant: \",\"website\":\"http:\\\\/\\\\/www.contshipitalia.com\",\"email\":\"ssCoALdJMh1WrPVcAIwW6LLbp51S7bq3YdU5zeaMYaHOxmYEtuJK4jnuKqzOOHWe\",\"type\":\"participant\",\"contacts\":[{\"position\":\"relatedContact\",\"title\":\"Mr.\",\"name\":\"Stefano Lontano\",\"phone\":\"+39 2 9335328\",\"email\":\"ssCoALdJMh1WrPVcAIwW6LLbp51S7bq3YdU5zeaMYaHOxmYEtuJK4jnuKqzOOHWe\",\"fax\":\"\"}],\"organizationId\":\"996461601\",\"rcn\":\"1909320\",\"active\":true,\"sme\":false,\"regions\":\"\"},{\"name\":\"METRO SHIPPING LIMITED\",\"address\":{\"street\":\"THE CRESCENT 2700 ECLIPSE HOUSE\",\"city\":\"BIRMINGHAM\",\"postalCode\":\"B37 7YE\"},\"country\":{\"name\":\"United Kingdom\",\"isoCode\":\"GB\",\"euCode\":\"UK\"},\"terminated\":false,\"order\":30,\"activityType\":\"Private for-profit entities (excluding Higher or Secondary Education Establishments)\",\"contribution\":321703,\"netEcContribution\":null,\"nonEcContribution\":null,\"formula\":\"participant: \",\"website\":\"http:\\\\/\\\\/www.metroshipping.co.uk\",\"email\":\"rNX+qO3G1LxISpAM5djstPmLsB4BdGyw8qC5fV\\\\/lZlOhw73eHp6EKr0mTSg026Ki\",\"type\":\"participant\",\"contacts\":[{\"position\":\"relatedContact\",\"title\":\"Mr.\",\"name\":\"Laurence Burford\",\"phone\":\"+121 717 2474\",\"email\":\"rNX+qO3G1LxISpAM5djstPmLsB4BdGyw8qC5fV\\\\/lZlOhw73eHp6EKr0mTSg026Ki\",\"fax\":\"\"}],\"organizationId\":\"951842474\",\"rcn\":\"1950196\",\"active\":true,\"sme\":false,\"regions\":\"\"},{\"name\":\"BAP Logistics Ltd\",\"address\":{\"street\":\"Central Road, The Docks\",\"city\":\"Felixstowe\",\"postalCode\":\"IP11 3SW\"},\"country\":{\"name\":\"United Kingdom\",\"isoCode\":\"GB\",\"euCode\":\"UK\"},\"terminated\":false,\"order\":31,\"activityType\":\"Private for-profit entities (excluding Higher or Secondary Education Establishments)\",\"contribution\":350391,\"netEcContribution\":null,\"nonEcContribution\":null,\"formula\":\"participant: \",\"website\":\"http:\\\\/\\\\/www.bapgroup.ltd.uk\",\"email\":\"Dq0yV2aM\\\\/NEvp16lI4HVHrOSwzlZXSj6pKt6ITT2K6s=\",\"type\":\"participant\",\"contacts\":[{\"position\":\"relatedContact\",\"title\":\"Mr.\",\"name\":\"Robin Smith\",\"phone\":\"+44 1394 612052\",\"email\":\"Dq0yV2aM\\\\/NEvp16lI4HVHrOSwzlZXSj6pKt6ITT2K6s=\",\"fax\":\"\"}],\"organizationId\":\"996559765\",\"rcn\":\"1933879\",\"active\":true,\"sme\":false,\"regions\":\"\"},{\"name\":\"MARITIME CARGO PROCESSING PLC\",\"address\":{\"street\":\"MAYBUSH LANE THE CHAPEL\",\"city\":\"FELIXTOWE\",\"postalCode\":\"IP11 7LL\"},\"country\":{\"name\":\"United Kingdom\",\"isoCode\":\"GB\",\"euCode\":\"UK\"},\"terminated\":false,\"order\":32,\"activityType\":\"Private for-profit entities (excluding Higher or Secondary Education Establishments)\",\"contribution\":204762,\"netEcContribution\":null,\"nonEcContribution\":null,\"formula\":\"participant: \",\"website\":\"http:\\\\/\\\\/www.mcpplc.com\",\"email\":\"c285qSwIGv3++m5fKv1Ym13FVYipf7vluuVd5T8SR8s=\",\"type\":\"participant\",\"contacts\":[{\"position\":\"relatedContact\",\"title\":\"Mr.\",\"name\":\"Ole Krebs\",\"phone\":\"+44 1394 600200\",\"email\":\"c285qSwIGv3++m5fKv1Ym13FVYipf7vluuVd5T8SR8s=\",\"fax\":\"+44 1394 600222\"}],\"organizationId\":\"952275967\",\"rcn\":\"1950144\",\"active\":true,\"sme\":false,\"regions\":\"\"},{\"name\":\"Seacon Venlo Expeditie B.V.\",\"address\":{\"street\":\"Celsiusweg 60\",\"city\":\"Venlo\",\"postalCode\":\"5928PR\"},\"country\":{\"name\":\"Netherlands\",\"isoCode\":\"NL\",\"euCode\":\"NL\"},\"terminated\":false,\"order\":33,\"activityType\":\"Private for-profit entities (excluding Higher or Secondary Education Establishments)\",\"contribution\":208809,\"netEcContribution\":null,\"nonEcContribution\":null,\"formula\":\"participant: \",\"website\":\"http:\\\\/\\\\/www.seaconlogistics.com\",\"email\":\"VSfEguc1hR+8qx4shWwSAfD6poos6aW0kvJ\\\\/rKvYzG8=\",\"type\":\"participant\",\"contacts\":[{\"position\":\"relatedContact\",\"title\":\"Mr.\",\"name\":\"G\\\\u00e9 Coenen\",\"phone\":\"+31773275626\",\"email\":\"VSfEguc1hR+8qx4shWwSAfD6poos6aW0kvJ\\\\/rKvYzG8=\",\"fax\":\"+3177 3825208\"}],\"organizationId\":\"998765739\",\"rcn\":\"1933855\",\"active\":true,\"sme\":false,\"regions\":\"\"},{\"name\":\"JRC -JOINT RESEARCH CENTRE- EUROPEAN COMMISSION\",\"address\":{\"street\":\"Rue de la Loi 200\",\"city\":\"BRUSSELS\",\"postalCode\":\"1049\"},\"country\":{\"name\":\"Belgium\",\"isoCode\":\"BE\",\"euCode\":\"BE\"},\"terminated\":false,\"order\":34,\"activityType\":\"Research Organisations\",\"contribution\":692288.21,\"netEcContribution\":null,\"nonEcContribution\":null,\"formula\":\"participant: \",\"website\":\"http:\\\\/\\\\/www.jrc.ec.europa.eu\",\"email\":\"klg1n\\\\/gkHrhBsguQVSjtm1e1EKIPWcENBiyvhJ4Bv58=\",\"type\":\"participant\",\"contacts\":[{\"position\":\"relatedContact\",\"title\":\"Mr.\",\"name\":\"David Walker\",\"phone\":\"+390332786375\",\"email\":\"klg1n\\\\/gkHrhBsguQVSjtm1e1EKIPWcENBiyvhJ4Bv58=\",\"fax\":\"+390332789045\"}],\"organizationId\":\"999992304\",\"rcn\":\"1905798\",\"active\":true,\"sme\":false,\"regions\":\"R\\\\u00e9gion de Bruxelles-Capitale\\\\/Brussels Hoofdstedelijk Gewest|R\\\\u00e9gion de Bruxelles-Capitale\\\\/ Brussels Hoofdstedelijk Gewest|Arr. de Bruxelles-Capitale\\\\/Arr. Brussel-Hoofdstad\"},{\"name\":\"NEDERLANDSE ORGANISATIE VOOR TOEGEPAST NATUURWETENSCHAPPELIJK ONDERZOEK TNO\",\"address\":{\"street\":\"ANNA VAN BUERENPLEIN 1\",\"city\":\"DEN HAAG\",\"postalCode\":\"2595 DA\"},\"country\":{\"name\":\"Netherlands\",\"isoCode\":\"NL\",\"euCode\":\"NL\"},\"terminated\":false,\"order\":35,\"activityType\":\"Research Organisations\",\"contribution\":1263054.25,\"netEcContribution\":null,\"nonEcContribution\":null,\"formula\":\"participant: \",\"website\":\"http:\\\\/\\\\/www.tno.nl\",\"email\":\"XWTM88m\\\\/wSOngJLKIKaXez5FHuZgQoTul2mYyEGhrTU=\",\"type\":\"participant\",\"contacts\":[{\"position\":\"relatedContact\",\"title\":\"Mr.\",\"name\":\"Paul Tilanus\",\"phone\":\"+31 888667292\",\"email\":\"XWTM88m\\\\/wSOngJLKIKaXez5FHuZgQoTul2mYyEGhrTU=\",\"fax\":\"+31 888668537\"}],\"organizationId\":\"999988909\",\"rcn\":\"1906036\",\"active\":true,\"sme\":false,\"regions\":\"West-Nederland|Zuid-Holland|Agglomeratie \\\\u2019s-Gravenhage\"},{\"name\":\"BMT GROUP LTD\",\"address\":{\"street\":\"GOODRICH HOUSE WALDEGRAVE ROAD 1\",\"city\":\"TEDDINGTON\",\"postalCode\":\"TW11 8LZ\"},\"country\":{\"name\":\"United Kingdom\",\"isoCode\":\"GB\",\"euCode\":\"UK\"},\"terminated\":false,\"order\":36,\"activityType\":\"Private for-profit entities (excluding Higher or Secondary Education Establishments)\",\"contribution\":1611876.12,\"netEcContribution\":null,\"nonEcContribution\":null,\"formula\":\"participant: \",\"website\":\"\",\"email\":\"vH3wYAC+H5lw0qWKUj1A6FaQmE0TDWkJIOSAmCW0+gY=\",\"type\":\"participant\",\"contacts\":[{\"position\":\"relatedContact\",\"title\":\"Dr.\",\"name\":\"Fernando Caldeira-Saraiva\",\"phone\":\"+44 2089435544\",\"email\":\"vH3wYAC+H5lw0qWKUj1A6FaQmE0TDWkJIOSAmCW0+gY=\",\"fax\":\"+44 9779304\"}],\"organizationId\":\"999617108\",\"rcn\":\"1906111\",\"active\":true,\"sme\":false,\"regions\":\"London|Outer London \\\\u2014 West and North West|Hounslow and Richmond upon Thames\"},{\"name\":\"INLECOM SYSTEMS LTD\",\"address\":{\"street\":\"60 MANSFIELD ROAD, WANSTEAD\",\"city\":\"LONDON\",\"postalCode\":\"E11 2JN\"},\"country\":{\"name\":\"United Kingdom\",\"isoCode\":\"GB\",\"euCode\":\"UK\"},\"terminated\":false,\"order\":37,\"activityType\":\"Private for-profit entities (excluding Higher or Secondary Education Establishments)\",\"contribution\":1018160,\"netEcContribution\":null,\"nonEcContribution\":null,\"formula\":\"participant: \",\"website\":\"http:\\\\/\\\\/www.inlecom.com\",\"email\":\"FtkLxuDmNhJuiAej3pk3\\\\/AY+LFKOqJW6HHvRRe9myok=\",\"type\":\"participant\",\"contacts\":[{\"position\":\"relatedContact\",\"title\":\"Mr.\",\"name\":\"Jhon Anthony Tait\",\"phone\":\"+44 1444239910\",\"email\":\"FtkLxuDmNhJuiAej3pk3\\\\/AY+LFKOqJW6HHvRRe9myok=\",\"fax\":\"\"}],\"organizationId\":\"997831726\",\"rcn\":\"1909322\",\"active\":true,\"sme\":false,\"regions\":\"London|Outer London \\\\u2014 East and North East|Redbridge and Waltham Forest\"},{\"name\":\"INSTYTUT LOGISTYKI I MAGAZYNOWANIA\",\"address\":{\"street\":\"UL ESTKOWSKIEGO 6\",\"city\":\"POZNAN\",\"postalCode\":\"61-755\"},\"country\":{\"name\":\"Poland\",\"isoCode\":\"PL\",\"euCode\":\"PL\"},\"terminated\":false,\"order\":38,\"activityType\":\"Research Organisations\",\"contribution\":162240,\"netEcContribution\":null,\"nonEcContribution\":null,\"formula\":\"participant: \",\"website\":\"http:\\\\/\\\\/www.ilim.poznan.pl\",\"email\":\"Rn3ir4raXf4g6ztDrCC6jtmJkgFISFjifx5Ot1l41GmN4d\\\\/S4Pdywyaa4LEO9IDH\",\"type\":\"participant\",\"contacts\":[{\"position\":\"relatedContact\",\"title\":\"Mr.\",\"name\":\"Tomasz Dowgielewicz\",\"phone\":\"+48618504949\",\"email\":\"Rn3ir4raXf4g6ztDrCC6jtmJkgFISFjifx5Ot1l41GmN4d\\\\/S4Pdywyaa4LEO9IDH\",\"fax\":\"\"}],\"organizationId\":\"999663183\",\"rcn\":\"1913608\",\"active\":true,\"sme\":false,\"regions\":\"\"},{\"name\":\"CONCEPTIVITY SARL\",\"address\":{\"street\":\"AVENUE DE MATEGNIN 77\",\"city\":\"MEYRIN 1\",\"postalCode\":\"1217\"},\"country\":{\"name\":\"Switzerland\",\"isoCode\":\"CH\",\"euCode\":\"CH\"},\"terminated\":false,\"order\":39,\"activityType\":\"Private for-profit entities (excluding Higher or Secondary Education Establishments)\",\"contribution\":499544.87,\"netEcContribution\":null,\"nonEcContribution\":null,\"formula\":\"participant: \",\"website\":\"http:\\\\/\\\\/www.conceptivity.ch\",\"email\":\"Ejhf1dyQCaKuLs+GZTvr+Es4ty4e14dJmoC\\\\/ealoKFQ=\",\"type\":\"participant\",\"contacts\":[{\"position\":\"relatedContact\",\"title\":\"Mr.\",\"name\":\"Mark Miller\",\"phone\":\"+41 22 548 3077\",\"email\":\"Ejhf1dyQCaKuLs+GZTvr+Es4ty4e14dJmoC\\\\/ealoKFQ=\",\"fax\":\"\"}],\"organizationId\":\"971744449\",\"rcn\":\"1909306\",\"active\":true,\"sme\":false,\"regions\":\"Schweiz\\\\/Suisse\\\\/Svizzera|R\\\\u00e9gion l\\\\u00e9manique|Gen\\\\u00e8ve\"},{\"name\":\"MJC2 LIMITED\",\"address\":{\"street\":\"WELLINGTON BUSINESSPARK 33 DUKES RIDE\",\"city\":\"CROWTHORNE\",\"postalCode\":\"RG45 6LS\"},\"country\":{\"name\":\"United Kingdom\",\"isoCode\":\"GB\",\"euCode\":\"UK\"},\"terminated\":false,\"order\":40,\"activityType\":\"Private for-profit entities (excluding Higher or Secondary Education Establishments)\",\"contribution\":848400,\"netEcContribution\":null,\"nonEcContribution\":null,\"formula\":\"participant: \",\"website\":\"http:\\\\/\\\\/www.mjc2.com\",\"email\":\"aISTk2gBKAnRFcguEEXNrw==\",\"type\":\"participant\",\"contacts\":[{\"position\":\"relatedContact\",\"title\":\"Mrs.\",\"name\":\"Ze Carrapichano\",\"phone\":\"+44 1344760001\",\"email\":\"aISTk2gBKAnRFcguEEXNrw==\",\"fax\":\"+44 1344760017\"}],\"organizationId\":\"997848895\",\"rcn\":\"1909302\",\"active\":true,\"sme\":false,\"regions\":\"South East (England)|Berkshire, Buckinghamshire and Oxfordshire|Berkshire\"},{\"name\":\"FUNDACION ZARAGOZA LOGISTICS CENTER\",\"address\":{\"street\":\"AVENIDA RANILLAS 5 BLOQUE 5 PORTAL A, PLANTA BAJ\",\"city\":\"ZARAGOZA\",\"postalCode\":\"50018\"},\"country\":{\"name\":\"Spain\",\"isoCode\":\"ES\",\"euCode\":\"ES\"},\"terminated\":false,\"order\":41,\"activityType\":\"Higher or Secondary Education Establishments\",\"contribution\":642455.92,\"netEcContribution\":null,\"nonEcContribution\":null,\"formula\":\"participant: \",\"website\":\"http:\\\\/\\\\/www.zlc.edu.es\",\"email\":\"4Q2QrkFLNWQGcGZtbQxiWmpUlAEdGGTxUn7EB\\\\/4dvn0=\",\"type\":\"participant\",\"contacts\":[{\"position\":\"relatedContact\",\"title\":\"Ms.\",\"name\":\"Jeanett Bolther\",\"phone\":\"+34 976 077 603\",\"email\":\"4Q2QrkFLNWQGcGZtbQxiWmpUlAEdGGTxUn7EB\\\\/4dvn0=\",\"fax\":\"+34 976077601\"}],\"organizationId\":\"999608960\",\"rcn\":\"1913156\",\"active\":true,\"sme\":false,\"regions\":\"Noreste|Arag\\\\u00f3n|Zaragoza\"},{\"name\":\"ENIDE SOLUTIONS .S.L\",\"address\":{\"street\":\"CALLE LA FONT, 27, 2nd Floor\",\"city\":\"SANT ANDREU DE LA BARCA\",\"postalCode\":\"08740\"},\"country\":{\"name\":\"Spain\",\"isoCode\":\"ES\",\"euCode\":\"ES\"},\"terminated\":false,\"order\":42,\"activityType\":\"Private for-profit entities (excluding Higher or Secondary Education Establishments)\",\"contribution\":213640,\"netEcContribution\":null,\"nonEcContribution\":null,\"formula\":\"participant: \",\"website\":\"http:\\\\/\\\\/www.enide.com\",\"email\":\"j4DOAxugkRCPNtZQmicpmKwlsDRK3\\\\/yMk5gT9E8Oldc=\",\"type\":\"participant\",\"contacts\":[{\"position\":\"relatedContact\",\"title\":\"Mr.\",\"name\":\"Stefano Persi\",\"phone\":\"+34 677600963\",\"email\":\"j4DOAxugkRCPNtZQmicpmKwlsDRK3\\\\/yMk5gT9E8Oldc=\",\"fax\":\"+34 936822621\"}],\"organizationId\":\"957776158\",\"rcn\":\"1917076\",\"active\":true,\"sme\":false,\"regions\":\"Este|Catalu\\\\u00f1a|Barcelona\"},{\"name\":\"TOTALFORSVARETS FORSKNINGSINSTITUT\",\"address\":{\"street\":\"Gullfossgatan 6\",\"city\":\"STOCKHOLM\",\"postalCode\":\"164 90\"},\"country\":{\"name\":\"Sweden\",\"isoCode\":\"SE\",\"euCode\":\"SE\"},\"terminated\":false,\"order\":43,\"activityType\":\"Research Organisations\",\"contribution\":978828,\"netEcContribution\":null,\"nonEcContribution\":null,\"formula\":\"participant: \",\"website\":\"http:\\\\/\\\\/www.foi.se\",\"email\":\"f6ELpy0ncSrM0XqXnfk4fGhPJY5qEqLjDlc8EFKdwus=\",\"type\":\"participant\",\"contacts\":[{\"position\":\"relatedContact\",\"title\":\"Dr.\",\"name\":\"Pontus Svenson\",\"phone\":\"+46 855503732\",\"email\":\"f6ELpy0ncSrM0XqXnfk4fGhPJY5qEqLjDlc8EFKdwus=\",\"fax\":\"\"}],\"organizationId\":\"999627875\",\"rcn\":\"1905866\",\"active\":true,\"sme\":false,\"regions\":\"\\\\u00d6stra Sverige|Stockholm|Stockholms l\\\\u00e4n\"},{\"name\":\"CLMS (UK) LIMITED\",\"address\":{\"street\":\"UNIVERSITY WAY KNOWLEDGE DOCK BUSINESS CENTRE 4\",\"city\":\"LONDON\",\"postalCode\":\"E16 2RD\"},\"country\":{\"name\":\"United Kingdom\",\"isoCode\":\"GB\",\"euCode\":\"UK\"},\"terminated\":false,\"order\":44,\"activityType\":\"Private for-profit entities (excluding Higher or Secondary Education Establishments)\",\"contribution\":813168,\"netEcContribution\":null,\"nonEcContribution\":null,\"formula\":\"participant: \",\"website\":\"http:\\\\/\\\\/www.clmsuk.com\",\"email\":\"5xUeN3XTXSq6hGWp9MqILV3FVYipf7vluuVd5T8SR8s=\",\"type\":\"participant\",\"contacts\":[{\"position\":\"relatedContact\",\"title\":\"Ms.\",\"name\":\"Korina Koutraki\",\"phone\":\"+306980564301\",\"email\":\"5xUeN3XTXSq6hGWp9MqILV3FVYipf7vluuVd5T8SR8s=\",\"fax\":\"\"}],\"organizationId\":\"972878088\",\"rcn\":\"1924119\",\"active\":true,\"sme\":false,\"regions\":\"\"},{\"name\":\"EBOS TECHNOLOGIES LIMITED\",\"address\":{\"street\":\"ARCH. MAKARIOU III AND MESAORIAS 1 OFFICE 101\",\"city\":\"NICOSIA\",\"postalCode\":\"2322\"},\"country\":{\"name\":\"Cyprus\",\"isoCode\":\"CY\",\"euCode\":\"CY\"},\"terminated\":false,\"order\":45,\"activityType\":\"Private for-profit entities (excluding Higher or Secondary Education Establishments)\",\"contribution\":808992,\"netEcContribution\":null,\"nonEcContribution\":null,\"formula\":\"participant: \",\"website\":\"http:\\\\/\\\\/www.ebos.com.cy\",\"email\":\"5nTEMbHK9VizVmqLjXqic+xPyadY\\\\/eYGJSfE+VaWzPg=\",\"type\":\"participant\",\"contacts\":[{\"position\":\"relatedContact\",\"title\":\"Dr.\",\"name\":\"Stelios Christofi\",\"phone\":\"+357 22877677\",\"email\":\"5nTEMbHK9VizVmqLjXqic+xPyadY\\\\/eYGJSfE+VaWzPg=\",\"fax\":\"+357 22877678\"}],\"organizationId\":\"997848022\",\"rcn\":\"1909316\",\"active\":true,\"sme\":false,\"regions\":\"\\\\u039a\\\\u03cd\\\\u03c0\\\\u03c1\\\\u03bf\\\\u03c2|\\\\u039a\\\\u03cd\\\\u03c0\\\\u03c1\\\\u03bf\\\\u03c2|\\\\u039a\\\\u03cd\\\\u03c0\\\\u03c1\\\\u03bf\\\\u03c2\"},{\"name\":\"ATOS SPAIN SA\",\"address\":{\"street\":\"CALLE DE ALBARRACIN 25\",\"city\":\"MADRID\",\"postalCode\":\"28037\"},\"country\":{\"name\":\"Spain\",\"isoCode\":\"ES\",\"euCode\":\"ES\"},\"terminated\":false,\"order\":46,\"activityType\":\"Private for-profit entities (excluding Higher or Secondary Education Establishments)\",\"contribution\":569600,\"netEcContribution\":null,\"nonEcContribution\":null,\"formula\":\"participant: \",\"website\":\"http:\\\\/\\\\/www.atos.net\",\"email\":\"XlJ+GTfAs9Vfg3MnhFhCyLE5+bKTUgaPmi5TSvhdV7o=\",\"type\":\"participant\",\"contacts\":[{\"position\":\"relatedContact\",\"title\":\"Ms.\",\"name\":\"Alicia Garcia\",\"phone\":\"+34 912148292\",\"email\":\"XlJ+GTfAs9Vfg3MnhFhCyLE5+bKTUgaPmi5TSvhdV7o=\",\"fax\":\"+34 917543252\"}],\"organizationId\":\"999993856\",\"rcn\":\"1905779\",\"active\":true,\"sme\":false,\"regions\":\"Comunidad de Madrid|Comunidad de Madrid|Madrid\"},{\"name\":\"CROSS-BORDER RESEARCH ASSOCIATION\",\"address\":{\"street\":\"CHEMIN DE LA CURE 9,BMT FIDUCIAIRE SARL\",\"city\":\"ECHANDENS\",\"postalCode\":\"1066\"},\"country\":{\"name\":\"Switzerland\",\"isoCode\":\"CH\",\"euCode\":\"CH\"},\"terminated\":false,\"order\":47,\"activityType\":\"Research Organisations\",\"contribution\":1261273.58,\"netEcContribution\":null,\"nonEcContribution\":null,\"formula\":\"participant: \",\"website\":\"http:\\\\/\\\\/www.cross-border.org\",\"email\":\"S2nN9SUaXXFTkKr2WCHpOmfrvnpyMkoMcFbkrcmE8uQ=\",\"type\":\"participant\",\"contacts\":[{\"position\":\"relatedContact\",\"title\":\"Mr.\",\"name\":\"Juha Hintsa\",\"phone\":\"+41 765890967\",\"email\":\"S2nN9SUaXXFTkKr2WCHpOmfrvnpyMkoMcFbkrcmE8uQ=\",\"fax\":\"+41 216255336\"}],\"organizationId\":\"998764381\",\"rcn\":\"1933842\",\"active\":true,\"sme\":false,\"regions\":\"Schweiz\\\\/Suisse\\\\/Svizzera|R\\\\u00e9gion l\\\\u00e9manique|Vaud\"},{\"name\":\"KENTRO MELETON ASFALEIAS\",\"address\":{\"street\":\"P KANELLOPOULOU 4 ST\",\"city\":\"ATHINA\",\"postalCode\":\"10177\"},\"country\":{\"name\":\"Greece\",\"isoCode\":\"EL\",\"euCode\":\"EL\"},\"terminated\":false,\"order\":48,\"activityType\":\"Research Organisations\",\"contribution\":227520,\"netEcContribution\":null,\"nonEcContribution\":null,\"formula\":\"participant: \",\"website\":\"http:\\\\/\\\\/www.kemea.gr\",\"email\":\"TrDOe7p3R0S\\\\/H8QmaMJ5ip2ULTf2qwG8DEahUp0WE0U=\",\"type\":\"participant\",\"contacts\":[{\"position\":\"relatedContact\",\"title\":\"Mr.\",\"name\":\"George Leventakis\",\"phone\":\"+302107710805\",\"email\":\"TrDOe7p3R0S\\\\/H8QmaMJ5ip2ULTf2qwG8DEahUp0WE0U=\",\"fax\":\"\"}],\"organizationId\":\"999827307\",\"rcn\":\"1906013\",\"active\":true,\"sme\":false,\"regions\":\"\\\\u039a\\\\u03b5\\\\u03bd\\\\u03c4\\\\u03c1\\\\u03b9\\\\u03ba\\\\u03cc\\\\u03c2 \\\\u03a4\\\\u03bf\\\\u03bc\\\\u03ad\\\\u03b1\\\\u03c2 \\\\u0391\\\\u03b8\\\\u03b7\\\\u03bd\\\\u03ce\\\\u03bd|A\\\\u03c4\\\\u03c4\\\\u03b9\\\\u03ba\\\\u03ae|\\\\u0391\\\\u03c4\\\\u03c4\\\\u03b9\\\\u03ba\\\\u03ae \"},{\"name\":\"INSTITUT FUR SEEVERKEHRSWIRTSCHAFT UND LOGISTIK\",\"address\":{\"street\":\"UNIVERSITATSALLEE 11-13\",\"city\":\"BREMEN\",\"postalCode\":\"28359\"},\"country\":{\"name\":\"Germany\",\"isoCode\":\"DE\",\"euCode\":\"DE\"},\"terminated\":false,\"order\":49,\"activityType\":\"Research Organisations\",\"contribution\":738400,\"netEcContribution\":null,\"nonEcContribution\":null,\"formula\":\"participant: \",\"website\":\"http:\\\\/\\\\/www.isl.org\",\"email\":\"fxoaNwgXaBoEZbBFpmIpnw==\",\"type\":\"participant\",\"contacts\":[{\"position\":\"relatedContact\",\"title\":\"Mr.\",\"name\":\"Helmut Brand\",\"phone\":\"+494212209640\",\"email\":\"fxoaNwgXaBoEZbBFpmIpnw==\",\"fax\":\"+49 4212209655\"}],\"organizationId\":\"998803278\",\"rcn\":\"1917205\",\"active\":true,\"sme\":false,\"regions\":\"Bremen|Bremen|Bremen, Kreisfreie Stadt\"},{\"name\":\"TECHNISCHE UNIVERSITEIT DELFT\",\"address\":{\"street\":\"STEVINWEG 1\",\"city\":\"DELFT\",\"postalCode\":\"2628 CN\"},\"country\":{\"name\":\"Netherlands\",\"isoCode\":\"NL\",\"euCode\":\"NL\"},\"terminated\":false,\"order\":50,\"activityType\":\"Higher or Secondary Education Establishments\",\"contribution\":864081.11,\"netEcContribution\":null,\"nonEcContribution\":null,\"formula\":\"participant: \",\"website\":\"http:\\\\/\\\\/www.tudelft.nl\",\"email\":\"phaZwS3IctHTMPOHK6jbNXP4ETaSzaNdhaz0GC5oizA=\",\"type\":\"participant\",\"contacts\":[{\"position\":\"relatedContact\",\"title\":\"Mr.\",\"name\":\"Benito Minella\",\"phone\":\"+31152787100\",\"email\":\"phaZwS3IctHTMPOHK6jbNXP4ETaSzaNdhaz0GC5oizA=\",\"fax\":\"+3115 27 84811\"}],\"organizationId\":\"999977366\",\"rcn\":\"1905872\",\"active\":true,\"sme\":false,\"regions\":\"West-Nederland|Zuid-Holland|Delft en Westland\"},{\"name\":\"SECURITY PROJECTS UK LIMITED\",\"address\":{\"street\":\"BARLOW WAY FAIRVIEW UNIT 3J\",\"city\":\"RAINHAM\",\"postalCode\":\"RM13 8BT\"},\"country\":{\"name\":\"United Kingdom\",\"isoCode\":\"GB\",\"euCode\":\"UK\"},\"terminated\":false,\"order\":51,\"activityType\":\"Private for-profit entities (excluding Higher or Secondary Education Establishments)\",\"contribution\":360960,\"netEcContribution\":null,\"nonEcContribution\":null,\"formula\":\"participant: \",\"website\":\"http:\\\\/\\\\/www.securityprojectsltd.co.uk\",\"email\":\"fgsGgf+aO9cHoRxHHa+u7SN5ROv39\\\\/nrj3t4nQzIMv0=\",\"type\":\"participant\",\"contacts\":[{\"position\":\"relatedContact\",\"title\":\"Mr.\",\"name\":\"Mark White\",\"phone\":\"+44 1708631195\",\"email\":\"fgsGgf+aO9cHoRxHHa+u7SN5ROv39\\\\/nrj3t4nQzIMv0=\",\"fax\":\"\"}],\"organizationId\":\"952485196\",\"rcn\":\"1950161\",\"active\":true,\"sme\":false,\"regions\":\"\"},{\"name\":\"GEORGIA TECH RESEARCH CORPORATION\",\"address\":{\"street\":\"GEORGIA INSTITUTE OF TECHNOLOGY\",\"city\":\"ATLANTA GA\",\"postalCode\":\"30332 0420\"},\"country\":{\"name\":\"United States\",\"isoCode\":\"US\",\"euCode\":\"US\"},\"terminated\":true,\"order\":52,\"activityType\":\"Research Organisations\",\"contribution\":195276.45,\"netEcContribution\":null,\"nonEcContribution\":null,\"formula\":\"participant: \",\"website\":\"http:\\\\/\\\\/www.gtrc.gatech.edu\",\"email\":\"GoskR1XpIMTdOxJkeLqVlUocFOfY7EyeaaXKVg4qsdg=\",\"type\":\"participant\",\"contacts\":[{\"position\":\"relatedContact\",\"title\":\"Mr.\",\"name\":\"Zachary Gill\",\"phone\":\"+1 4044076155\",\"email\":\"GoskR1XpIMTdOxJkeLqVlUocFOfY7EyeaaXKVg4qsdg=\",\"fax\":\"+14044079155\"}],\"organizationId\":\"997348860\",\"rcn\":\"1950219\",\"active\":true,\"sme\":false,\"regions\":\"\"},{\"name\":\"ICONTROL INCORPORATED\",\"address\":{\"street\":\"KIFER ROAD 3235 STE 260\",\"city\":\"SANTA CLARA CA\",\"postalCode\":\"95051\"},\"country\":{\"name\":\"United States\",\"isoCode\":\"US\",\"euCode\":\"US\"},\"terminated\":false,\"order\":53,\"activityType\":\"Private for-profit entities (excluding Higher or Secondary Education Establishments)\",\"contribution\":199680,\"netEcContribution\":null,\"nonEcContribution\":null,\"formula\":\"participant: \",\"website\":\"http:\\\\/\\\\/www.icontrol-inc.com\",\"email\":\"UyobWZHN2GqMuQHH3mLQCLBGwtXlGuA3xjo7eoyXrJw=\",\"type\":\"participant\",\"contacts\":[{\"position\":\"relatedContact\",\"title\":\"Ms.\",\"name\":\"Dani Redding\",\"phone\":\"+1 4087305364\",\"email\":\"UyobWZHN2GqMuQHH3mLQCLBGwtXlGuA3xjo7eoyXrJw=\",\"fax\":\"\"}],\"organizationId\":\"952293524\",\"rcn\":\"1950135\",\"active\":true,\"sme\":false,\"regions\":\"\"},{\"name\":\"VLTN GCV\",\"address\":{\"street\":\"WELVAARTSTRAAT 33B\",\"city\":\"ANTWERPEN\",\"postalCode\":\"2000\"},\"country\":{\"name\":\"Belgium\",\"isoCode\":\"BE\",\"euCode\":\"BE\"},\"terminated\":false,\"order\":54,\"activityType\":\"Private for-profit entities (excluding Higher or Secondary Education Establishments)\",\"contribution\":416832,\"netEcContribution\":null,\"nonEcContribution\":null,\"formula\":\"participant: \",\"website\":\"http:\\\\/\\\\/www.vltn.be\",\"email\":\"i8dYSjSKX9v+nurRs7fdb2wcbApcDVoWSvOcZPRgmBA=\",\"type\":\"participant\",\"contacts\":[{\"position\":\"relatedContact\",\"title\":\"Ms.\",\"name\":\"Veerle Leemen\",\"phone\":\"+32 479627467\",\"email\":\"i8dYSjSKX9v+nurRs7fdb2wcbApcDVoWSvOcZPRgmBA=\",\"fax\":\"\"}],\"organizationId\":\"952279944\",\"rcn\":\"1950162\",\"active\":true,\"sme\":false,\"regions\":\"Vlaams Gewest|Prov. Antwerpen|Arr. Antwerpen\"},{\"name\":\"ADVANCED TRACK AND TRACE SA\",\"address\":{\"street\":\"AVENUE DE LA CHATAIGNERAIE 99\",\"city\":\"RUEIL MALMAISON\",\"postalCode\":\"92500\"},\"country\":{\"name\":\"France\",\"isoCode\":\"FR\",\"euCode\":\"FR\"},\"terminated\":false,\"order\":55,\"activityType\":\"Private for-profit entities (excluding Higher or Secondary Education Establishments)\",\"contribution\":575680,\"netEcContribution\":null,\"nonEcContribution\":null,\"formula\":\"participant: \",\"website\":\"http:\\\\/\\\\/www.att-fr.com\",\"email\":\"UCmS0itrElvDHTlpxZ4zeV3FVYipf7vluuVd5T8SR8s=\",\"type\":\"participant\",\"contacts\":[{\"position\":\"relatedContact\",\"title\":\"Mr.\",\"name\":\"David Devaux\",\"phone\":\"+33 147166472\",\"email\":\"UCmS0itrElvDHTlpxZ4zeV3FVYipf7vluuVd5T8SR8s=\",\"fax\":\"\"}],\"organizationId\":\"969216435\",\"rcn\":\"1950163\",\"active\":true,\"sme\":false,\"regions\":\"\"},{\"name\":\"LOGIT SYSTEMS BVBA\",\"address\":{\"street\":\"CIPALSTRAAT 3\",\"city\":\"Geel\",\"postalCode\":\"2440\"},\"country\":{\"name\":\"Belgium\",\"isoCode\":\"BE\",\"euCode\":\"BE\"},\"terminated\":true,\"order\":57,\"activityType\":\"Private for-profit entities (excluding Higher or Secondary Education Establishments)\",\"contribution\":null,\"netEcContribution\":null,\"nonEcContribution\":null,\"formula\":\"participant: \",\"website\":\"http:\\\\/\\\\/www.logit-systems.com\",\"email\":\"cTBYz3oFvXdv\\\\/SbphESssNjBOsKlA08Nfs31cv2TqiU=\",\"type\":\"participant\",\"contacts\":[{\"position\":\"relatedContact\",\"title\":\"Mr.\",\"name\":\"Frank Knoors\",\"phone\":\"+32 14570604\",\"email\":\"cTBYz3oFvXdv\\\\/SbphESssNjBOsKlA08Nfs31cv2TqiU=\",\"fax\":\"+321457605\"}],\"organizationId\":\"972456041\",\"rcn\":\"1913606\",\"active\":true,\"sme\":false,\"regions\":\"\"},{\"name\":\"CONEX SA\",\"address\":{\"street\":\"RUE EUGENE MILLECAMPS 105\",\"city\":\"RUMEGIES\",\"postalCode\":\"59226\"},\"country\":{\"name\":\"France\",\"isoCode\":\"FR\",\"euCode\":\"FR\"},\"terminated\":false,\"order\":58,\"activityType\":\"Private for-profit entities (excluding Higher or Secondary Education Establishments)\",\"contribution\":225728,\"netEcContribution\":null,\"nonEcContribution\":null,\"formula\":\"participant: \",\"website\":\"http:\\\\/\\\\/www.conex.net\",\"email\":\"hgKeitcLbx2eKn+SvDIY5To5i0o\\\\/3hofjVDc+4VlrGw=\",\"type\":\"participant\",\"contacts\":[{\"position\":\"relatedContact\",\"title\":\"Dr.\",\"name\":\"Lance Thompson\",\"phone\":\"+33 147590962\",\"email\":\"hgKeitcLbx2eKn+SvDIY5To5i0o\\\\/3hofjVDc+4VlrGw=\",\"fax\":\"\"}],\"organizationId\":\"951962172\",\"rcn\":\"1950224\",\"active\":true,\"sme\":false,\"regions\":\"\"},{\"name\":\"LOGISTIEK ZONDER PAPIER BV\",\"address\":{\"street\":\"DAMPTEN 24 C\",\"city\":\"HOORN\",\"postalCode\":\"1624 NR\"},\"country\":{\"name\":\"Netherlands\",\"isoCode\":\"NL\",\"euCode\":\"NL\"},\"terminated\":false,\"order\":59,\"activityType\":\"Private for-profit entities (excluding Higher or Secondary Education Establishments)\",\"contribution\":52000,\"netEcContribution\":null,\"nonEcContribution\":null,\"formula\":\"participant: \",\"website\":\"http:\\\\/\\\\/www.lzp.nl\",\"email\":\"VCzZ3SqSS6N905BnM3PVFA==\",\"type\":\"participant\",\"contacts\":[{\"position\":\"relatedContact\",\"title\":\"Ms.\",\"name\":\"Glenda Vonk\",\"phone\":\"+31 229275133\",\"email\":\"VCzZ3SqSS6N905BnM3PVFA==\",\"fax\":\"+31229268609\"}],\"organizationId\":\"951962463\",\"rcn\":\"1950164\",\"active\":true,\"sme\":false,\"regions\":\"\"},{\"name\":\"TTS Italia\",\"address\":{\"street\":\"Via Flaminia  388\",\"city\":\"Roma\",\"postalCode\":\"00196\"},\"country\":{\"name\":\"Italy\",\"isoCode\":\"IT\",\"euCode\":\"IT\"},\"terminated\":false,\"order\":60,\"activityType\":\"Other\",\"contribution\":152860,\"netEcContribution\":null,\"nonEcContribution\":null,\"formula\":\"participant: \",\"website\":\"http:\\\\/\\\\/www.ttsitalia.it\",\"email\":\"P3oCPEpQEqF0Tnhg2mL6UiVzPTZm\\\\/TGzLShN7l7jsvU=\",\"type\":\"participant\",\"contacts\":[{\"position\":\"relatedContact\",\"title\":\"Mr.\",\"name\":\"Leonardo Domanico\",\"phone\":\"+39 063227737\",\"email\":\"P3oCPEpQEqF0Tnhg2mL6UiVzPTZm\\\\/TGzLShN7l7jsvU=\",\"fax\":\"+39 06323 0993\"}],\"organizationId\":\"996031309\",\"rcn\":\"1950130\",\"active\":true,\"sme\":false,\"regions\":\"Centro (IT)|Lazio|Roma\"},{\"name\":\"BRIMATECH SERVICES GMBH\",\"address\":{\"street\":\"LOTHRINGERSTRASSE 14\\\\/3\",\"city\":\"WIEN\",\"postalCode\":\"1030\"},\"country\":{\"name\":\"Austria\",\"isoCode\":\"AT\",\"euCode\":\"AT\"},\"terminated\":true,\"order\":61,\"activityType\":\"Private for-profit entities (excluding Higher or Secondary Education Establishments)\",\"contribution\":70707.62,\"netEcContribution\":null,\"nonEcContribution\":null,\"formula\":\"participant: \",\"website\":\"http:\\\\/\\\\/www.brimatech.at\",\"email\":\"LUFUbDbestxPt0UfBRC57g==\",\"type\":\"participant\",\"contacts\":[{\"position\":\"relatedContact\",\"title\":\"Dr.\",\"name\":\"Susanne Fuchs\",\"phone\":\"+436649689421\",\"email\":\"LUFUbDbestxPt0UfBRC57g==\",\"fax\":\"+431 715 3200 50\"}],\"organizationId\":\"997751992\",\"rcn\":\"1909381\",\"active\":true,\"sme\":false,\"regions\":\"Wien|Wien\"},{\"name\":\"TRANS SESE SOCIEDAD LIMITADA\",\"address\":{\"street\":\"Calle Turiaso -Plataforma Logistica de Zaragoza (PLAZA) 31\",\"city\":\"ZARAGOZA\",\"postalCode\":\"50197\"},\"country\":{\"name\":\"Spain\",\"isoCode\":\"ES\",\"euCode\":\"ES\"},\"terminated\":true,\"order\":62,\"activityType\":\"Private for-profit entities (excluding Higher or Secondary Education Establishments)\",\"contribution\":20134.05,\"netEcContribution\":null,\"nonEcContribution\":null,\"formula\":\"participant: \",\"website\":\"http:\\\\/\\\\/www.gruposese.com\",\"email\":\"6qclhfuvDZeeszu9NvevfvztvCjC\\\\/Hiw\\\\/SbWSvOvZno=\",\"type\":\"participant\",\"contacts\":[{\"position\":\"relatedContact\",\"title\":\"Ms.\",\"name\":\"Aurora Clavero\",\"phone\":\"+34 976455800\",\"email\":\"6qclhfuvDZeeszu9NvevfvztvCjC\\\\/Hiw\\\\/SbWSvOvZno=\",\"fax\":\"\"}],\"organizationId\":\"951817157\",\"rcn\":\"1950165\",\"active\":true,\"sme\":false,\"regions\":\"\"},{\"name\":\"SEABRIDGE NV\",\"address\":{\"street\":\"KOFFIEWEG 10\",\"city\":\"BRUGGE\",\"postalCode\":\"8380\"},\"country\":{\"name\":\"Belgium\",\"isoCode\":\"BE\",\"euCode\":\"BE\"},\"terminated\":false,\"order\":63,\"activityType\":\"Private for-profit entities (excluding Higher or Secondary Education Establishments)\",\"contribution\":197500,\"netEcContribution\":null,\"nonEcContribution\":null,\"formula\":\"participant: \",\"website\":\"http:\\\\/\\\\/www.seabridge.eu\",\"email\":\"wYXm97OmnkLVKub4EORcweLYjRkG84cdBzLA6fMwmug=\",\"type\":\"participant\",\"contacts\":[{\"position\":\"relatedContact\",\"title\":\"Mrs.\",\"name\":\"Nadine Van Rompay\",\"phone\":\"+32 50367080\",\"email\":\"wYXm97OmnkLVKub4EORcweLYjRkG84cdBzLA6fMwmug=\",\"fax\":\"+3250552411\"}],\"organizationId\":\"952013485\",\"rcn\":\"1950226\",\"active\":true,\"sme\":false,\"regions\":\"\"},{\"name\":\"TECHNISCHE UNIVERSITEIT EINDHOVEN\",\"address\":{\"street\":\"GROENE LOPER 3\",\"city\":\"EINDHOVEN\",\"postalCode\":\"5612 AE\"},\"country\":{\"name\":\"Netherlands\",\"isoCode\":\"NL\",\"euCode\":\"NL\"},\"terminated\":false,\"order\":64,\"activityType\":\"Higher or Secondary Education Establishments\",\"contribution\":219048,\"netEcContribution\":null,\"nonEcContribution\":null,\"formula\":\"participant: \",\"website\":\"http:\\\\/\\\\/www.tue.nl\\\\/en\",\"email\":\"bMQ1\\\\/CMPlY3EP4d7fUGQGQ2oUVjym59yps+dzN6\\\\/vfU=\",\"type\":\"participant\",\"contacts\":[{\"position\":\"relatedContact\",\"title\":\"Mr.\",\"name\":\"Patrick Groothuis\",\"phone\":\"+31402475165\",\"email\":\"bMQ1\\\\/CMPlY3EP4d7fUGQGQ2oUVjym59yps+dzN6\\\\/vfU=\",\"fax\":\"+31402436685\"}],\"organizationId\":\"999977269\",\"rcn\":\"1905865\",\"active\":true,\"sme\":false,\"regions\":\"Noord-Brabant|Zuidoost-Noord-Brabant\"},{\"name\":\"MAJORCA SPA\",\"address\":{\"street\":\"VIA DEL BOSCO 26\",\"city\":\"SCANDIANO\",\"postalCode\":\"42019\"},\"country\":{\"name\":\"Italy\",\"isoCode\":\"IT\",\"euCode\":\"IT\"},\"terminated\":true,\"order\":65,\"activityType\":\"Private for-profit entities (excluding Higher or Secondary Education Establishments)\",\"contribution\":null,\"netEcContribution\":null,\"nonEcContribution\":null,\"formula\":\"participant: \",\"website\":\"http:\\\\/\\\\/www.majorca.it\",\"email\":\"MzBZV9KJNu+8y6FdcUx6fw5ddZdW+2dLZKvrTevuFls=\",\"type\":\"participant\",\"contacts\":[{\"position\":\"relatedContact\",\"title\":\"Mr.\",\"name\":\"Corrado Manelli\",\"phone\":\"+390522764511\",\"email\":\"MzBZV9KJNu+8y6FdcUx6fw5ddZdW+2dLZKvrTevuFls=\",\"fax\":\"+390522764545\"}],\"organizationId\":\"949798878\",\"rcn\":\"1950227\",\"active\":true,\"sme\":false,\"regions\":\"\"},{\"name\":\"EUROPEAN ORGANISATION FOR SECURITY\",\"address\":{\"street\":\"AVENUE DES ARTS 46\",\"city\":\"BRUXELLES\",\"postalCode\":\"1000\"},\"country\":{\"name\":\"Belgium\",\"isoCode\":\"BE\",\"euCode\":\"BE\"},\"terminated\":false,\"order\":66,\"activityType\":\"Private for-profit entities (excluding Higher or Secondary Education Establishments)\",\"contribution\":105000,\"netEcContribution\":null,\"nonEcContribution\":null,\"formula\":\"participant: \",\"website\":\"http:\\\\/\\\\/www.eos-eu.com\",\"email\":\"hAuIgx\\\\/490e5bbv7vNzT4ExSq+ZzfxRe+fVdhWOrb9Y=\",\"type\":\"participant\",\"contacts\":[{\"position\":\"relatedContact\",\"title\":\"Mr.\",\"name\":\"Alberto Curatolo\",\"phone\":\"+3227770253\",\"email\":\"hAuIgx\\\\/490e5bbv7vNzT4ExSq+ZzfxRe+fVdhWOrb9Y=\",\"fax\":\"\"}],\"organizationId\":\"998215943\",\"rcn\":\"1909257\",\"active\":true,\"sme\":false,\"regions\":\"R\\\\u00e9gion de Bruxelles-Capitale\\\\/Brussels Hoofdstedelijk Gewest|R\\\\u00e9gion de Bruxelles-Capitale\\\\/ Brussels Hoofdstedelijk Gewest|Arr. de Bruxelles-Capitale\\\\/Arr. Brussel-Hoofdstad\"},{\"name\":\"Uniserve (Holdings) Limited\",\"address\":{\"street\":\"COURT 133 HALL LANE\",\"city\":\"UPMINSTER\",\"postalCode\":\"RM14 1AL\"},\"country\":{\"name\":\"United Kingdom\",\"isoCode\":\"GB\",\"euCode\":\"UK\"},\"terminated\":false,\"order\":67,\"activityType\":\"Private for-profit entities (excluding Higher or Secondary Education Establishments)\",\"contribution\":200300.64,\"netEcContribution\":null,\"nonEcContribution\":null,\"formula\":\"participant: \",\"website\":\"http:\\\\/\\\\/www.uniservegroup.co.uk\",\"email\":\"Go4FPvzgYGQJpV4ZF27IBQ==\",\"type\":\"participant\",\"contacts\":[{\"position\":\"relatedContact\",\"title\":\"Mrs.\",\"name\":\"Sally Gale\",\"phone\":\"+44 1708 259402\",\"email\":\"Go4FPvzgYGQJpV4ZF27IBQ==\",\"fax\":\"+44 1708 259470\"}],\"organizationId\":\"949743006\",\"rcn\":\"1950228\",\"active\":true,\"sme\":false,\"regions\":\"\"},{\"name\":\"PROCTER \\\\u0026 GAMBLE SERVICES COMPANY NV\",\"address\":{\"street\":\"TEMSELAAN 100\",\"city\":\"STROMBEEK BEVER\",\"postalCode\":\"1853\"},\"country\":{\"name\":\"Belgium\",\"isoCode\":\"BE\",\"euCode\":\"BE\"},\"terminated\":false,\"order\":68,\"activityType\":\"Private for-profit entities (excluding Higher or Secondary Education Establishments)\",\"contribution\":705880.23,\"netEcContribution\":null,\"nonEcContribution\":null,\"formula\":\"participant: \",\"website\":\"http:\\\\/\\\\/www.pg.com\",\"email\":\"8E\\\\/UpVLUcZFPSs1\\\\/fkT9z1aQmE0TDWkJIOSAmCW0+gY=\",\"type\":\"participant\",\"contacts\":[{\"position\":\"relatedContact\",\"title\":\"Mr.\",\"name\":\"Christopher Rennsion-Rae\",\"phone\":\"+44 191 228 1888\",\"email\":\"8E\\\\/UpVLUcZFPSs1\\\\/fkT9z1aQmE0TDWkJIOSAmCW0+gY=\",\"fax\":\"\"}],\"organizationId\":\"966022322\",\"rcn\":\"1913149\",\"active\":true,\"sme\":false,\"regions\":\"Vlaams Gewest|Prov. Vlaams-Brabant|Arr. Halle-Vilvoorde\"},{\"name\":\"SUNWELL TECHNOLOGIES INC\",\"address\":{\"street\":\"CASTOR AVENUE 180\",\"city\":\"WOODBRIDGE ON\",\"postalCode\":\"L4L 5Y7\"},\"country\":{\"name\":\"Canada\",\"isoCode\":\"CA\",\"euCode\":\"CA\"},\"terminated\":false,\"order\":69,\"activityType\":\"Private for-profit entities (excluding Higher or Secondary Education Establishments)\",\"contribution\":null,\"netEcContribution\":null,\"nonEcContribution\":null,\"formula\":\"participant: \",\"website\":\"http:\\\\/\\\\/www.sunwell.com\",\"email\":\"Sp8nhQt88B91jkQG7VYrGB0xEju8sUHmpfPCX3e0Y\\\\/4=\",\"type\":\"participant\",\"contacts\":[{\"position\":\"relatedContact\",\"title\":\"Mr.\",\"name\":\"Pijush Chakraborty\",\"phone\":\"+0019058560400\",\"email\":\"Sp8nhQt88B91jkQG7VYrGB0xEju8sUHmpfPCX3e0Y\\\\/4=\",\"fax\":\"+0019058561935\"}],\"organizationId\":\"949274593\",\"rcn\":\"1950229\",\"active\":true,\"sme\":false,\"regions\":\"\"},{\"name\":\"BSH ELECTRODOMESTICOS ESPANA SA\",\"address\":{\"street\":\"RONDA CANAL IMPERIAL DE ARAGON NUM 18 PARQUE EMPRESARIAL PLA-ZA\",\"city\":\"ZARAGOZA\",\"postalCode\":\"50197\"},\"country\":{\"name\":\"Spain\",\"isoCode\":\"ES\",\"euCode\":\"ES\"},\"terminated\":false,\"order\":70,\"activityType\":\"Private for-profit entities (excluding Higher or Secondary Education Establishments)\",\"contribution\":null,\"netEcContribution\":null,\"nonEcContribution\":null,\"formula\":\"participant: \",\"website\":\"http:\\\\/\\\\/www.bshg.com\",\"email\":\"5DvHZkoUTD6+wCxC5814mVaQmE0TDWkJIOSAmCW0+gY=\",\"type\":\"participant\",\"contacts\":[{\"position\":\"relatedContact\",\"title\":\"Ms.\",\"name\":\"Miriam Alot\",\"phone\":\"+34636483177\",\"email\":\"5DvHZkoUTD6+wCxC5814mVaQmE0TDWkJIOSAmCW0+gY=\",\"fax\":\"\"}],\"organizationId\":\"996491962\",\"rcn\":\"1950230\",\"active\":true,\"sme\":false,\"regions\":\"Noreste|Arag\\\\u00f3n|Zaragoza\"},{\"name\":\"HOYER (SVIZZERA) SA\",\"address\":{\"street\":\"VIA F BORROMINI 20A\",\"city\":\"MENDRISIO\",\"postalCode\":\"6850\"},\"country\":{\"name\":\"Switzerland\",\"isoCode\":\"CH\",\"euCode\":\"CH\"},\"terminated\":false,\"order\":71,\"activityType\":\"Private for-profit entities (excluding Higher or Secondary Education Establishments)\",\"contribution\":200000,\"netEcContribution\":null,\"nonEcContribution\":null,\"formula\":\"participant: \",\"website\":\"http:\\\\/\\\\/www.hoyer-group.com\",\"email\":\"Sm8YEQPI8W0QKnd4I2XC2kThU+rpz6zfGO4tesZRiQo=\",\"type\":\"participant\",\"contacts\":[{\"position\":\"relatedContact\",\"title\":\"Mrs.\",\"name\":\"Sabrina Robba\",\"phone\":\"+41 9164 07 800\",\"email\":\"Sm8YEQPI8W0QKnd4I2XC2kThU+rpz6zfGO4tesZRiQo=\",\"fax\":\"\"}],\"organizationId\":\"948225441\",\"rcn\":\"2309706\",\"active\":true,\"sme\":false,\"regions\":\"\"},{\"name\":\"CLICK \\\\u0026 FIND S.R.L\",\"address\":{\"street\":\"Vi al Molo Cagni Umberto\",\"city\":\"GENOVA\",\"postalCode\":\"16126\"},\"country\":{\"name\":\"Italy\",\"isoCode\":\"IT\",\"euCode\":\"IT\"},\"terminated\":false,\"order\":72,\"activityType\":\"Private for-profit entities (excluding Higher or Secondary Education Establishments)\",\"contribution\":229600,\"netEcContribution\":null,\"nonEcContribution\":null,\"formula\":\"participant: \",\"website\":\"http:\\\\/\\\\/www.clickandfind.it\",\"email\":\"Zxy7GtsrsMI+bg6\\\\/6gx9MT2NhVwMjiTel3Rb1Vc6C2w=\",\"type\":\"participant\",\"contacts\":[{\"position\":\"relatedContact\",\"title\":\"Mr.\",\"name\":\"Armadoro Claudio\",\"phone\":\"+39 10 868 191\",\"email\":\"Zxy7GtsrsMI+bg6\\\\/6gx9MT2NhVwMjiTel3Rb1Vc6C2w=\",\"fax\":\"\"}],\"organizationId\":\"948228545\",\"rcn\":\"2309661\",\"active\":true,\"sme\":false,\"regions\":\"\"},{\"name\":\"COPENHAGEN BUSINESS SCHOOL\",\"address\":{\"street\":\"SOLBJERG PLADS 3\",\"city\":\"FREDERIKSBERG\",\"postalCode\":\"2000\"},\"country\":{\"name\":\"Denmark\",\"isoCode\":\"DK\",\"euCode\":\"DK\"},\"terminated\":false,\"order\":73,\"activityType\":\"Higher or Secondary Education Establishments\",\"contribution\":144506.37,\"netEcContribution\":null,\"nonEcContribution\":null,\"formula\":\"participant: \",\"website\":\"http:\\\\/\\\\/www.cbs.dk\",\"email\":\"j0M\\\\/AAMmeeGvFJNFmXM8lA==\",\"type\":\"participant\",\"contacts\":[{\"position\":\"relatedContact\",\"title\":\"\",\"name\":\"Lise D. Jorgensen\",\"phone\":\"+4538152139\",\"email\":\"j0M\\\\/AAMmeeGvFJNFmXM8lA==\",\"fax\":\"\"}],\"organizationId\":\"998706666\",\"rcn\":\"1910976\",\"active\":true,\"sme\":false,\"regions\":\"Danmark|Hovedstaden|Byen K\\\\u00f8benhavn\"},{\"name\":\"CERAMICHE CAESAR SPA\",\"address\":{\"street\":\"VIA CANALETTO 49\",\"city\":\"FIORANO MODENESE\",\"postalCode\":\"41040\"},\"country\":{\"name\":\"Italy\",\"isoCode\":\"IT\",\"euCode\":\"IT\"},\"terminated\":false,\"order\":74,\"activityType\":\"Private for-profit entities (excluding Higher or Secondary Education Establishments)\",\"contribution\":257600.01,\"netEcContribution\":null,\"nonEcContribution\":null,\"formula\":\"participant: \",\"website\":\"http:\\\\/\\\\/www.caesar.it\",\"email\":\"HNcv1SdRb2OW8o5A9j7XgG1r9B30P4VEQV\\\\/6Rdh8aoA=\",\"type\":\"participant\",\"contacts\":[{\"position\":\"relatedContact\",\"title\":\"Mr.\",\"name\":\"Davide Carra\",\"phone\":\"+39 0536 86 78 11\",\"email\":\"HNcv1SdRb2OW8o5A9j7XgG1r9B30P4VEQV\\\\/6Rdh8aoA=\",\"fax\":\"\"}],\"organizationId\":\"937558157\",\"rcn\":\"2309677\",\"active\":true,\"sme\":false,\"regions\":\"\"},{\"name\":\"LOGIT ONE NV\",\"address\":{\"street\":\"CIPALSTRAAT 3\",\"city\":\"GEEL\",\"postalCode\":\"2440\"},\"country\":{\"name\":\"Belgium\",\"isoCode\":\"BE\",\"euCode\":\"BE\"},\"terminated\":false,\"order\":75,\"activityType\":\"Private for-profit entities (excluding Higher or Secondary Education Establishments)\",\"contribution\":598533,\"netEcContribution\":null,\"nonEcContribution\":null,\"formula\":\"participant: \",\"website\":\"http:\\\\/\\\\/www.logit-one.com\",\"email\":\"cTBYz3oFvXdv\\\\/SbphESssNjBOsKlA08Nfs31cv2TqiU=\",\"type\":\"participant\",\"contacts\":[{\"position\":\"relatedContact\",\"title\":\"Prof.\",\"name\":\"Frank Knoors\",\"phone\":\"+32 1457 06 04\",\"email\":\"cTBYz3oFvXdv\\\\/SbphESssNjBOsKlA08Nfs31cv2TqiU=\",\"fax\":\"+32 1457 06 05\"}],\"organizationId\":\"939560916\",\"rcn\":\"2309623\",\"active\":true,\"sme\":false,\"regions\":\"\"},{\"name\":\"IBM DANMARK APS\",\"address\":{\"street\":\"PROVENSVEJ 1\",\"city\":\"BRONDBY\",\"postalCode\":\"2605\"},\"country\":{\"name\":\"Denmark\",\"isoCode\":\"DK\",\"euCode\":\"DK\"},\"terminated\":false,\"order\":76,\"activityType\":\"Private for-profit entities (excluding Higher or Secondary Education Establishments)\",\"contribution\":null,\"netEcContribution\":null,\"nonEcContribution\":null,\"formula\":\"participant: \",\"website\":\"http:\\\\/\\\\/www.ibm.com\\\\/dk\\\\/da\\\\/\",\"email\":\"oS4BBn6Ahwd5Ncgogbe+BF3FVYipf7vluuVd5T8SR8s=\",\"type\":\"participant\",\"contacts\":[{\"position\":\"relatedContact\",\"title\":\"Mr.\",\"name\":\"Dean Flavell\",\"phone\":\"+44 772 5829861\",\"email\":\"oS4BBn6Ahwd5Ncgogbe+BF3FVYipf7vluuVd5T8SR8s=\",\"fax\":\"\"}],\"organizationId\":\"964494475\",\"rcn\":\"1924227\",\"active\":true,\"sme\":false,\"regions\":\"Danmark|Hovedstaden|K\\\\u00f8benhavns omegn\"},{\"name\":\"EUROPEAN UNION ROAD FEDERATION\",\"address\":{\"street\":\"PLACE STEPHANIE 6B\",\"city\":\"BRUXELLES\",\"postalCode\":\"1050\"},\"country\":{\"name\":\"Belgium\",\"isoCode\":\"BE\",\"euCode\":\"BE\"},\"terminated\":false,\"order\":77,\"activityType\":\"Other\",\"contribution\":86050,\"netEcContribution\":null,\"nonEcContribution\":null,\"formula\":\"participant: \",\"website\":\"http:\\\\/\\\\/www.irfnet.eu\",\"email\":\"HUfPlgBPBA7QFEIsbbabWlKpjI+7W0kYfkhdI6X8ttU=\",\"type\":\"participant\",\"contacts\":[{\"position\":\"relatedContact\",\"title\":\"Mr.\",\"name\":\"Konstandinos Diamandouros\",\"phone\":\"+32 2 6445877\",\"email\":\"HUfPlgBPBA7QFEIsbbabWlKpjI+7W0kYfkhdI6X8ttU=\",\"fax\":\"\"}],\"organizationId\":\"996623591\",\"rcn\":\"1920067\",\"active\":true,\"sme\":false,\"regions\":\"R\\\\u00e9gion de Bruxelles-Capitale\\\\/Brussels Hoofdstedelijk Gewest|R\\\\u00e9gion de Bruxelles-Capitale\\\\/ Brussels Hoofdstedelijk Gewest|Arr. de Bruxelles-Capitale\\\\/Arr. Brussel-Hoofdstad\"},{\"name\":\"TRUSTEES OF PURDUE UNIVERSITY\",\"address\":{\"street\":\"S GRANT STREET 401\",\"city\":\"WEST LAFAYETTE\",\"postalCode\":\"47907\"},\"country\":{\"name\":\"United States\",\"isoCode\":\"US\",\"euCode\":\"US\"},\"terminated\":false,\"order\":79,\"activityType\":\"Higher or Secondary Education Establishments\",\"contribution\":574094.29,\"netEcContribution\":null,\"nonEcContribution\":null,\"formula\":\"participant: \",\"website\":\"\",\"email\":\"67iKqN+yd78SYVqscoALtwY+LFKOqJW6HHvRRe9myok=\",\"type\":\"participant\",\"contacts\":[{\"position\":\"relatedContact\",\"title\":\"Prof.\",\"name\":\"Anath Iyer\",\"phone\":\"+001 765 412 8906\",\"email\":\"67iKqN+yd78SYVqscoALtwY+LFKOqJW6HHvRRe9myok=\",\"fax\":\"\"}],\"organizationId\":\"964670433\",\"rcn\":\"3073753\",\"active\":true,\"sme\":false,\"regions\":\"\"},{\"name\":\"THE NATIONAL POLICE OF THE NETHERLANDS\",\"address\":{\"street\":\"Nieuwe Uitleg 1\",\"city\":\"The Hague\",\"postalCode\":\"2595 CC\"},\"country\":{\"name\":\"Netherlands\",\"isoCode\":\"NL\",\"euCode\":\"NL\"},\"terminated\":false,\"order\":80,\"activityType\":\"Public bodies (excluding Research Organisations and Secondary or Higher Education Establishments)\",\"contribution\":62966.67,\"netEcContribution\":null,\"nonEcContribution\":null,\"formula\":\"participant: \",\"website\":\"http:\\\\/\\\\/www.politie.nl\",\"email\":\"LOBW4gOkHoKFSO2eAxnJOEPyaErdmAOQFHgPigKbf4aIDgl3NvHSvkCXxtRAmOk\\\\/\",\"type\":\"participant\",\"contacts\":[{\"position\":\"relatedContact\",\"title\":\"Mr.\",\"name\":\"Rene Alfred De Gelder\",\"phone\":\"+31343452428\",\"email\":\"LOBW4gOkHoKFSO2eAxnJOEPyaErdmAOQFHgPigKbf4aIDgl3NvHSvkCXxtRAmOk\\\\/\",\"fax\":\"\"}],\"organizationId\":\"942970272\",\"rcn\":\"2315100\",\"active\":true,\"sme\":false,\"regions\":\"West-Nederland|Zuid-Holland|Agglomeratie \\\\u2019s-Gravenhage\"}'\n",
            " '{\"name\":\"Grupo Regional de Cooperativas Plataneras del Archipielago Canario\",\"address\":{\"street\":\"Avenida de Anaga 11\",\"city\":\"Santa Cruz de Tenerife\",\"postalCode\":\"38001\"},\"country\":{\"name\":\"Spain\",\"isoCode\":\"ES\",\"euCode\":\"ES\"},\"terminated\":false,\"order\":2,\"activityType\":\"Private for-profit entities (excluding Higher or Secondary Education Establishments)\",\"contribution\":139659,\"netEcContribution\":null,\"nonEcContribution\":null,\"formula\":\"participant: \",\"website\":\"\",\"email\":\"Z9w9hzcF2sHgU6RON+lSayHzo2L3jfQsf\\\\/Pewyzez40=\",\"type\":\"participant\",\"contacts\":[{\"position\":\"relatedContact\",\"title\":\"Mr.\",\"name\":\"Bernardo Hern\\\\u00e1ndez Di\\\\u00e1z\",\"phone\":\"+34 922 286 300\",\"email\":\"Z9w9hzcF2sHgU6RON+lSayHzo2L3jfQsf\\\\/Pewyzez40=\",\"fax\":\"+34 922 286 355\"}],\"organizationId\":\"997730458\",\"rcn\":\"2134356\",\"active\":true,\"sme\":false,\"regions\":\"Canarias|Canarias|Tenerife\"},{\"name\":\"CMB Colorex Master Batches B.V.\",\"address\":{\"street\":\"Achterdijk 12\",\"city\":\"Helmond\",\"postalCode\":\"5705 CB\"},\"country\":{\"name\":\"Netherlands\",\"isoCode\":\"NL\",\"euCode\":\"NL\"},\"terminated\":false,\"order\":3,\"activityType\":\"Private for-profit entities (excluding Higher or Secondary Education Establishments)\",\"contribution\":143060,\"netEcContribution\":null,\"nonEcContribution\":null,\"formula\":\"participant: \",\"website\":\"www.colorex.nl\",\"email\":\"nAEUruxHzw4IupxFFhpSWgY+LFKOqJW6HHvRRe9myok=\",\"type\":\"participant\",\"contacts\":[{\"position\":\"relatedContact\",\"title\":\"Mr.\",\"name\":\"Henry Van Tilburg\",\"phone\":\"+31 492 524254\",\"email\":\"nAEUruxHzw4IupxFFhpSWgY+LFKOqJW6HHvRRe9myok=\",\"fax\":\"+31 492 528784\"}],\"organizationId\":\"997785360\",\"rcn\":\"2102520\",\"active\":true,\"sme\":false,\"regions\":\"\"},{\"name\":\"SIVEL Limited\",\"address\":{\"street\":\"ZAHARY STOYANOV STREET 77\",\"city\":\"DOBRICH\",\"postalCode\":\"9300\"},\"country\":{\"name\":\"Bulgaria\",\"isoCode\":\"BG\",\"euCode\":\"BG\"},\"terminated\":false,\"order\":4,\"activityType\":\"Private for-profit entities (excluding Higher or Secondary Education Establishments)\",\"contribution\":134320,\"netEcContribution\":null,\"nonEcContribution\":null,\"formula\":\"participant: \",\"website\":\"\",\"email\":\"Qlw3hxvjdsphemzGhCp8MA==\",\"type\":\"participant\",\"contacts\":[{\"position\":\"relatedContact\",\"title\":\"Mr.\",\"name\":\"Simeon Simeonov\",\"phone\":\"+359 888 400 368\",\"email\":\"Qlw3hxvjdsphemzGhCp8MA==\",\"fax\":\"+359 58 604 832\"}],\"organizationId\":\"996446663\",\"rcn\":\"2133735\",\"active\":true,\"sme\":false,\"regions\":\"\"},{\"name\":\"PEVA Ipari, Kereskedelmi es Szolgaltato Kft\",\"address\":{\"street\":\"Bajcsy-Zs. 7\\\\/a\",\"city\":\"Dabas\",\"postalCode\":\"2370\"},\"country\":{\"name\":\"Hungary\",\"isoCode\":\"HU\",\"euCode\":\"HU\"},\"terminated\":false,\"order\":5,\"activityType\":\"Private for-profit entities (excluding Higher or Secondary Education Establishments)\",\"contribution\":134320,\"netEcContribution\":null,\"nonEcContribution\":null,\"formula\":\"participant: \",\"website\":\"\",\"email\":\"AvhVuhBe8BNTowpONSsHag==\",\"type\":\"participant\",\"contacts\":[{\"position\":\"relatedContact\",\"title\":\"Mr.\",\"name\":\"Peter Ollar\",\"phone\":\"+36 1 363 9083\",\"email\":\"AvhVuhBe8BNTowpONSsHag==\",\"fax\":\"+36 1 460 9505\"}],\"organizationId\":\"997755678\",\"rcn\":\"2134358\",\"active\":true,\"sme\":false,\"regions\":\"\"},{\"name\":\"ROTOTEK LTD\",\"address\":{\"street\":\"Sylvan Way, Old Great North Road\",\"city\":\"NEWARK\",\"postalCode\":\"NG24 3UT\"},\"country\":{\"name\":\"United Kingdom\",\"isoCode\":\"GB\",\"euCode\":\"UK\"},\"terminated\":false,\"order\":6,\"activityType\":\"Private for-profit entities (excluding Higher or Secondary Education Establishments)\",\"contribution\":165754,\"netEcContribution\":null,\"nonEcContribution\":null,\"formula\":\"participant: \",\"website\":\"\",\"email\":\"VD7cPEULfQbuRvh4hb5fIR0xEju8sUHmpfPCX3e0Y\\\\/4=\",\"type\":\"participant\",\"contacts\":[{\"position\":\"relatedContact\",\"title\":\"Mr.\",\"name\":\"Martin Spencer\",\"phone\":\"+44 1636 611 959\",\"email\":\"VD7cPEULfQbuRvh4hb5fIR0xEju8sUHmpfPCX3e0Y\\\\/4=\",\"fax\":\"+44 1636 707 369\"}],\"organizationId\":\"995109906\",\"rcn\":\"2134355\",\"active\":true,\"sme\":false,\"regions\":\"\"},{\"name\":\"UNIVERSIDAD DE LAS PALMAS DE GRAN CANARIA\",\"address\":{\"street\":\"C\\\\/ Juan de Quesada  30\",\"city\":\"LAS PALMAS DE GRAN CANARIA\",\"postalCode\":\"35001\"},\"country\":{\"name\":\"Spain\",\"isoCode\":\"ES\",\"euCode\":\"ES\"},\"terminated\":false,\"order\":7,\"activityType\":\"Higher or Secondary Education Establishments\",\"contribution\":null,\"netEcContribution\":null,\"nonEcContribution\":null,\"formula\":\"participant: \",\"website\":\"http:\\\\/\\\\/www.ulpgc.es\",\"email\":\"4x0kWBaaKsyND2228CjZBwVrrGbdqc37f89qGi2uBvU=\",\"type\":\"participant\",\"contacts\":[{\"position\":\"relatedContact\",\"title\":\"Dr.\",\"name\":\"Mario Domingo Monz\\\\u00f3n Verona\",\"phone\":\"+34 928 458618\",\"email\":\"4x0kWBaaKsyND2228CjZBwVrrGbdqc37f89qGi2uBvU=\",\"fax\":\"+34 928 451484\"}],\"organizationId\":\"999929739\",\"rcn\":\"1909774\",\"active\":true,\"sme\":false,\"regions\":\"Canarias|Canarias|Gran Canaria\"},{\"name\":\"UNIVERSIDAD DE ZARAGOZA\",\"address\":{\"street\":\"CALLE PEDRO CERBUNA 12\",\"city\":\"ZARAGOZA\",\"postalCode\":\"50009\"},\"country\":{\"name\":\"Spain\",\"isoCode\":\"ES\",\"euCode\":\"ES\"},\"terminated\":false,\"order\":8,\"activityType\":\"Higher or Secondary Education Establishments\",\"contribution\":null,\"netEcContribution\":null,\"nonEcContribution\":null,\"formula\":\"participant: \",\"website\":\"http:\\\\/\\\\/www.unizar.es\",\"email\":\"SIBb3wcAk9\\\\/iRIBvEMNDehBcJRVshyKNlkp3kBj+VhQ=\",\"type\":\"participant\",\"contacts\":[{\"position\":\"relatedContact\",\"title\":\"Dr.\",\"name\":\"Jes\\\\u00fas Fuentelsaz\",\"phone\":\"+34 976 761 970\",\"email\":\"SIBb3wcAk9\\\\/iRIBvEMNDehBcJRVshyKNlkp3kBj+VhQ=\",\"fax\":\"+34 976 761 9 69\"}],\"organizationId\":\"999898214\",\"rcn\":\"1905937\",\"active\":true,\"sme\":false,\"regions\":\"Noreste|Arag\\\\u00f3n|Zaragoza\"},{\"name\":\"THE QUEEN\\\\u0027S UNIVERSITY OF BELFAST\",\"address\":{\"street\":\"UNIVERSITY ROAD LANYON BUILDING\",\"city\":\"BELFAST\",\"postalCode\":\"BT7 1NN\"},\"country\":{\"name\":\"United Kingdom\",\"isoCode\":\"GB\",\"euCode\":\"UK\"},\"terminated\":false,\"order\":9,\"activityType\":\"Higher or Secondary Education Establishments\",\"contribution\":null,\"netEcContribution\":null,\"nonEcContribution\":null,\"formula\":\"participant: \",\"website\":\"http:\\\\/\\\\/www.qub.ac.uk\",\"email\":\"ZpGy\\\\/3GekQ1\\\\/M4AcLaFIaPk1nbHhNantZREhyjOaaic=\",\"type\":\"participant\",\"contacts\":[{\"position\":\"relatedContact\",\"title\":\"Ms.\",\"name\":\"Pauline Mccann\",\"phone\":\"+44 28 9097 3229\",\"email\":\"ZpGy\\\\/3GekQ1\\\\/M4AcLaFIaPk1nbHhNantZREhyjOaaic=\",\"fax\":\"+44 28 9097 5182\"}],\"organizationId\":\"999992013\",\"rcn\":\"1906929\",\"active\":true,\"sme\":false,\"regions\":\"Northern Ireland|Northern Ireland|Belfast\"},{\"name\":\"AGENCIA ESTATAL CONSEJO SUPERIOR DE INVESTIGACIONES CIENTIFICAS\",\"address\":{\"street\":\"CALLE SERRANO 117\",\"city\":\"MADRID\",\"postalCode\":\"28006\"},\"country\":{\"name\":\"Spain\",\"isoCode\":\"ES\",\"euCode\":\"ES\"},\"terminated\":false,\"order\":10,\"activityType\":\"Research Organisations\",\"contribution\":null,\"netEcContribution\":null,\"nonEcContribution\":null,\"formula\":\"participant: \",\"website\":\"http:\\\\/\\\\/www.csic.es\",\"email\":\"upf8QRxZDsDCcC1H9qrtwA==\",\"type\":\"participant\",\"contacts\":[{\"position\":\"relatedContact\",\"title\":\"Mr.\",\"name\":\"Carlos Manuel Abad Ruiz\",\"phone\":\"+34 91 566 8852\",\"email\":\"upf8QRxZDsDCcC1H9qrtwA==\",\"fax\":\"+34 91 566 89 13\"}],\"organizationId\":\"999991722\",\"rcn\":\"1905575\",\"active\":true,\"sme\":false,\"regions\":\"Comunidad de Madrid|Comunidad de Madrid|Madrid\"},{\"name\":\"BSH ELECTRODOMESTICOS ESPANA SA\",\"address\":{\"street\":\"RONDA CANAL IMPERIAL DE ARAGON NUM 18 PARQUE EMPRESARIAL PLA-ZA\",\"city\":\"ZARAGOZA\",\"postalCode\":\"50197\"},\"country\":{\"name\":\"Spain\",\"isoCode\":\"ES\",\"euCode\":\"ES\"},\"terminated\":false,\"order\":11,\"activityType\":\"Private for-profit entities (excluding Higher or Secondary Education Establishments)\",\"contribution\":3526,\"netEcContribution\":null,\"nonEcContribution\":null,\"formula\":\"participant: \",\"website\":\"http:\\\\/\\\\/www.bshg.com\",\"email\":\"Aaa1z\\\\/NyGZ5paTjmOfoUVq4dZY+AxoqlMWhj0HqvReg=\",\"type\":\"participant\",\"contacts\":[{\"position\":\"relatedContact\",\"title\":\"Mr.\",\"name\":\"Manuel Aldea Lomero\",\"phone\":\"+34 676 660 171\",\"email\":\"Aaa1z\\\\/NyGZ5paTjmOfoUVq4dZY+AxoqlMWhj0HqvReg=\",\"fax\":\"+34 976 578360\"}],\"organizationId\":\"996491962\",\"rcn\":\"1950230\",\"active\":true,\"sme\":false,\"regions\":\"Noreste|Arag\\\\u00f3n|Zaragoza\"},{\"name\":\"GRUPO ANTOLIN-INGENIERIA SA\",\"address\":{\"street\":\"CARRETERA MADRID IRUN KM 244 8\",\"city\":\"BURGOS\",\"postalCode\":\"09007\"},\"country\":{\"name\":\"Spain\",\"isoCode\":\"ES\",\"euCode\":\"ES\"},\"terminated\":false,\"order\":12,\"activityType\":\"Private for-profit entities (excluding Higher or Secondary Education Establishments)\",\"contribution\":3275,\"netEcContribution\":null,\"nonEcContribution\":null,\"formula\":\"participant: \",\"website\":\"www.grupoantolin.com\",\"email\":\"zJlUGHKmqDZlkJEz4Bw5Y5X56GMDRKlGQ+4o3q0xi534zvEKZ3nPlvFFe4koiKr2\",\"type\":\"participant\",\"contacts\":[{\"position\":\"relatedContact\",\"title\":\"Ms.\",\"name\":\"Virginia Morales Bomb\\\\u00edn\",\"phone\":\"+34 947 477890\",\"email\":\"zJlUGHKmqDZlkJEz4Bw5Y5X56GMDRKlGQ+4o3q0xi534zvEKZ3nPlvFFe4koiKr2\",\"fax\":\"+34 947 474847\"}],\"organizationId\":\"998785721\",\"rcn\":\"1920199\",\"active\":true,\"sme\":false,\"regions\":\"Castilla y Le\\\\u00f3n|Burgos\"}'\n",
            " '{\"name\":\"Merck KGaA\",\"address\":{\"street\":\"FRANKFURTER STRASSE  250\",\"city\":\"DARMSTADT\",\"postalCode\":\"64293\"},\"country\":{\"name\":\"Germany\",\"isoCode\":\"DE\",\"euCode\":\"DE\"},\"terminated\":true,\"order\":2,\"activityType\":\"Private for-profit entities (excluding Higher or Secondary Education Establishments)\",\"contribution\":21731,\"netEcContribution\":null,\"nonEcContribution\":null,\"formula\":\"participant: \",\"website\":\"www.merckgroup.com\",\"email\":\"3GK9BCZJY01nA4YahzOhs\\\\/rSgC40Gjkun3dT3vx0a0lWkJhNEw1pCSDkgJgltPoG\",\"type\":\"participant\",\"contacts\":[{\"position\":\"relatedContact\",\"title\":\"Mr.\",\"name\":\"Oliver Robert Piening\",\"phone\":\"+49 0 6151 72 5762\",\"email\":\"3GK9BCZJY01nA4YahzOhs\\\\/rSgC40Gjkun3dT3vx0a0lWkJhNEw1pCSDkgJgltPoG\",\"fax\":\"+49 0 6151 72 91 5762\"}],\"organizationId\":\"945455800\",\"rcn\":\"1907295\",\"active\":true,\"sme\":false,\"regions\":\"\"},{\"name\":\"Wirthwein AG\",\"address\":{\"street\":\"Walter-Wirthwein-Strasse 2-10\",\"city\":\"Creglingen\",\"postalCode\":\"97993\"},\"country\":{\"name\":\"Germany\",\"isoCode\":\"DE\",\"euCode\":\"DE\"},\"terminated\":false,\"order\":3,\"activityType\":\"Private for-profit entities (excluding Higher or Secondary Education Establishments)\",\"contribution\":262236,\"netEcContribution\":null,\"nonEcContribution\":null,\"formula\":\"participant: \",\"website\":\"\",\"email\":\"3Apu4R8Rd6UcE9ZRGe3h7peyBe3hluoO1B\\\\/\\\\/qPmANWg=\",\"type\":\"participant\",\"contacts\":[{\"position\":\"relatedContact\",\"title\":\"Dr.\",\"name\":\"ALEXANDRU S\\\\u00d6VER\",\"phone\":\"+49 7933 702250\",\"email\":\"3Apu4R8Rd6UcE9ZRGe3h7peyBe3hluoO1B\\\\/\\\\/qPmANWg=\",\"fax\":\"\"}],\"organizationId\":\"953792659\",\"rcn\":\"2957946\",\"active\":true,\"sme\":false,\"regions\":\"\"},{\"name\":\"ROFIN SINAR LASER GMBH\",\"address\":{\"street\":\"BERZELIUSSTRASSE 83\",\"city\":\"HAMBURG\",\"postalCode\":\"22113\"},\"country\":{\"name\":\"Germany\",\"isoCode\":\"DE\",\"euCode\":\"DE\"},\"terminated\":false,\"order\":4,\"activityType\":\"Private for-profit entities (excluding Higher or Secondary Education Establishments)\",\"contribution\":685570,\"netEcContribution\":null,\"nonEcContribution\":null,\"formula\":\"participant: \",\"website\":\"http:\\\\/\\\\/www.rofin.com\",\"email\":\"JP6zueW5Wxq1+Tu69Xf3zCVTHOIrV4Do9HzbBz\\\\/jDBA=\",\"type\":\"participant\",\"contacts\":[{\"position\":\"relatedContact\",\"title\":\"Mr.\",\"name\":\"Hans-G\\\\u00fcnther K\\\\u00f6hn\",\"phone\":\"+08 131 704 4141\",\"email\":\"JP6zueW5Wxq1+Tu69Xf3zCVTHOIrV4Do9HzbBz\\\\/jDBA=\",\"fax\":\"+08 131 7044100\"}],\"organizationId\":\"996390888\",\"rcn\":\"2131491\",\"active\":true,\"sme\":false,\"regions\":\"\"},{\"name\":\"UNIVERSIDAD DE ZARAGOZA\",\"address\":{\"street\":\"CALLE PEDRO CERBUNA 12\",\"city\":\"ZARAGOZA\",\"postalCode\":\"50009\"},\"country\":{\"name\":\"Spain\",\"isoCode\":\"ES\",\"euCode\":\"ES\"},\"terminated\":false,\"order\":5,\"activityType\":\"Higher or Secondary Education Establishments\",\"contribution\":350944,\"netEcContribution\":null,\"nonEcContribution\":null,\"formula\":\"participant: \",\"website\":\"http:\\\\/\\\\/www.unizar.es\",\"email\":\"iG09bHg9mS0eDMmiIQryNwY+LFKOqJW6HHvRRe9myok=\",\"type\":\"participant\",\"contacts\":[{\"position\":\"relatedContact\",\"title\":\"Mr.\",\"name\":\"Oscar Lopez\",\"phone\":\"+34 976 761000\",\"email\":\"iG09bHg9mS0eDMmiIQryNwY+LFKOqJW6HHvRRe9myok=\",\"fax\":\"\"}],\"organizationId\":\"999898214\",\"rcn\":\"1905937\",\"active\":true,\"sme\":false,\"regions\":\"Noreste|Arag\\\\u00f3n|Zaragoza\"},{\"name\":\"TORRECID SA\",\"address\":{\"street\":\"PARTIDA TORRETA\",\"city\":\"ALCORA CASTELLON\",\"postalCode\":\"12110\"},\"country\":{\"name\":\"Spain\",\"isoCode\":\"ES\",\"euCode\":\"ES\"},\"terminated\":false,\"order\":6,\"activityType\":\"Private for-profit entities (excluding Higher or Secondary Education Establishments)\",\"contribution\":313080,\"netEcContribution\":null,\"nonEcContribution\":null,\"formula\":\"participant: \",\"website\":\"http:\\\\/\\\\/www.torrecid.com\",\"email\":\"iORKwZYymcRvbOZSbJM3uVaQmE0TDWkJIOSAmCW0+gY=\",\"type\":\"participant\",\"contacts\":[{\"position\":\"relatedContact\",\"title\":\"Mr.\",\"name\":\"FRANCISCO SANMIGUEL\",\"phone\":\"+34 964 360900\",\"email\":\"iORKwZYymcRvbOZSbJM3uVaQmE0TDWkJIOSAmCW0+gY=\",\"fax\":\"+34 964 360 792\"}],\"organizationId\":\"960970465\",\"rcn\":\"1950360\",\"active\":true,\"sme\":false,\"regions\":\"Este|Comunitat Valenciana |Castell\\\\u00f3n\\\\/Castell\\\\u00f3\"},{\"name\":\"ILVA GLASS SPA\",\"address\":{\"street\":\"STRADA SELVA GROSSA 36\",\"city\":\"TAVULLIA PS\",\"postalCode\":\"61010\"},\"country\":{\"name\":\"Italy\",\"isoCode\":\"IT\",\"euCode\":\"IT\"},\"terminated\":false,\"order\":7,\"activityType\":\"Private for-profit entities (excluding Higher or Secondary Education Establishments)\",\"contribution\":334960,\"netEcContribution\":null,\"nonEcContribution\":null,\"formula\":\"participant: \",\"website\":\"\",\"email\":\"lKkqbZo8m3f5uN7bSWc0JfC7UAFjs+aTWtRz\\\\/iBV6SI=\",\"type\":\"participant\",\"contacts\":[{\"position\":\"relatedContact\",\"title\":\"Mr.\",\"name\":\"Roberto Sonni\",\"phone\":\"+39 0721 20031\",\"email\":\"lKkqbZo8m3f5uN7bSWc0JfC7UAFjs+aTWtRz\\\\/iBV6SI=\",\"fax\":\"\"}],\"organizationId\":\"953733101\",\"rcn\":\"2957950\",\"active\":true,\"sme\":false,\"regions\":\"\"},{\"name\":\"U-MARQ LIMITED\",\"address\":{\"street\":\"DARIN COURT 26\\\\/27 CROWNHILL\",\"city\":\"MILTON KEYNES\",\"postalCode\":\"MK8 0AD\"},\"country\":{\"name\":\"United Kingdom\",\"isoCode\":\"GB\",\"euCode\":\"UK\"},\"terminated\":false,\"order\":8,\"activityType\":\"Private for-profit entities (excluding Higher or Secondary Education Establishments)\",\"contribution\":368720,\"netEcContribution\":null,\"nonEcContribution\":null,\"formula\":\"participant: \",\"website\":\"\",\"email\":\"pP\\\\/h7ZIlURjVKzU\\\\/D4zzqg==\",\"type\":\"participant\",\"contacts\":[{\"position\":\"relatedContact\",\"title\":\"Mr.\",\"name\":\"Carsten Moe\",\"phone\":\"+4570212170\",\"email\":\"pP\\\\/h7ZIlURjVKzU\\\\/D4zzqg==\",\"fax\":\"+4570212171\"}],\"organizationId\":\"953725147\",\"rcn\":\"2957951\",\"active\":true,\"sme\":false,\"regions\":\"\"},{\"name\":\"DATALASE LTD\",\"address\":{\"street\":\"WHELDON ROAD UNIT 3\",\"city\":\"WIDNES CHESHIRE\",\"postalCode\":\"WA8 8FW\"},\"country\":{\"name\":\"United Kingdom\",\"isoCode\":\"GB\",\"euCode\":\"UK\"},\"terminated\":false,\"order\":9,\"activityType\":\"Private for-profit entities (excluding Higher or Secondary Education Establishments)\",\"contribution\":433010,\"netEcContribution\":null,\"nonEcContribution\":null,\"formula\":\"participant: \",\"website\":\"\",\"email\":\"eu6RuLgMx5m64lSwn5EdOfjO8Qpnec+W8UV7iSiIqvY=\",\"type\":\"participant\",\"contacts\":[{\"position\":\"relatedContact\",\"title\":\"Mr.\",\"name\":\"Peter Whitehouse\",\"phone\":\"+44 151 423 9360\",\"email\":\"eu6RuLgMx5m64lSwn5EdOfjO8Qpnec+W8UV7iSiIqvY=\",\"fax\":\"+44 151 423 9366\"}],\"organizationId\":\"950311329\",\"rcn\":\"2957952\",\"active\":true,\"sme\":false,\"regions\":\"\"},{\"name\":\"BSH HAUSGERATE GMBH\",\"address\":{\"street\":\"CARL WERY STRASSE 34\",\"city\":\"MUNCHEN\",\"postalCode\":\"81739\"},\"country\":{\"name\":\"Germany\",\"isoCode\":\"DE\",\"euCode\":\"DE\"},\"terminated\":false,\"order\":10,\"activityType\":\"Private for-profit entities (excluding Higher or Secondary Education Establishments)\",\"contribution\":55800,\"netEcContribution\":null,\"nonEcContribution\":null,\"formula\":\"participant: \",\"website\":\"www.bsh-group.com\",\"email\":\"iNNpPm8r8heL9FSG1VV1+q6d7dD1B2MYc\\\\/le4qHEZww=\",\"type\":\"participant\",\"contacts\":[{\"position\":\"relatedContact\",\"title\":\"Mr.\",\"name\":\"Matthias Lutz\",\"phone\":\"+49 89 4590 3744\",\"email\":\"iNNpPm8r8heL9FSG1VV1+q6d7dD1B2MYc\\\\/le4qHEZww=\",\"fax\":\"\"}],\"organizationId\":\"953573536\",\"rcn\":\"1925082\",\"active\":true,\"sme\":false,\"regions\":\"Bayern|Oberbayern|M\\\\u00fcnchen, Kreisfreie Stadt\"},{\"name\":\"WIRTHWEIN GMBH \\\\u0026 CO KG\",\"address\":{\"street\":\"WALTER WIRTHWEIN STRASSE 2\",\"city\":\"CREGLINGEN\",\"postalCode\":\"97993\"},\"country\":{\"name\":\"Germany\",\"isoCode\":\"DE\",\"euCode\":\"DE\"},\"terminated\":false,\"order\":11,\"activityType\":\"Private for-profit entities (excluding Higher or Secondary Education Establishments)\",\"contribution\":107136,\"netEcContribution\":null,\"nonEcContribution\":null,\"formula\":\"participant: \",\"website\":\"\",\"email\":\"bdUTrtjk\\\\/sQUV95+YP9gIt6M7YVv42Ba1aEmZbwez3E=\",\"type\":\"participant\",\"contacts\":[{\"position\":\"relatedContact\",\"title\":\"Mr.\",\"name\":\"Thomas Doerfler\",\"phone\":\"+497933702 840\",\"email\":\"bdUTrtjk\\\\/sQUV95+YP9gIt6M7YVv42Ba1aEmZbwez3E=\",\"fax\":\"+49 7933 702 910\"}],\"organizationId\":\"951881274\",\"rcn\":\"2957954\",\"active\":true,\"sme\":false,\"regions\":\"\"},{\"name\":\"AGENCIA ESTATAL CONSEJO SUPERIOR DE INVESTIGACIONES CIENTIFICAS\",\"address\":{\"street\":\"CALLE SERRANO 117\",\"city\":\"MADRID\",\"postalCode\":\"28006\"},\"country\":{\"name\":\"Spain\",\"isoCode\":\"ES\",\"euCode\":\"ES\"},\"terminated\":false,\"order\":12,\"activityType\":\"Research Organisations\",\"contribution\":242353,\"netEcContribution\":null,\"nonEcContribution\":null,\"formula\":\"participant: \",\"website\":\"http:\\\\/\\\\/www.csic.es\",\"email\":\"P8iqr78bRLq41\\\\/Czqdorew==\",\"type\":\"participant\",\"contacts\":[{\"position\":\"relatedContact\",\"title\":\"Mr.\",\"name\":\"Alberto Sereno \\\\u00c1lvarez\",\"phone\":\"+34 91 566 8852\",\"email\":\"P8iqr78bRLq41\\\\/Czqdorew==\",\"fax\":\"+34 91 566 89 13\"}],\"organizationId\":\"999991722\",\"rcn\":\"1905575\",\"active\":true,\"sme\":false,\"regions\":\"Comunidad de Madrid|Comunidad de Madrid|Madrid\"}'\n",
            " '{\"name\":\"AIRBUS DEFENCE AND SPACE GMBH\",\"address\":{\"street\":\"WILLY-MESSERSCHMITT-STRASSE 1\",\"city\":\"TAUFKIRCHEN\",\"postalCode\":\"82024\"},\"country\":{\"name\":\"Germany\",\"isoCode\":\"DE\",\"euCode\":\"DE\"},\"terminated\":false,\"order\":2,\"activityType\":\"Private for-profit entities (excluding Higher or Secondary Education Establishments)\",\"contribution\":249216.48,\"netEcContribution\":null,\"nonEcContribution\":null,\"formula\":\"participant: \",\"website\":\"http:\\\\/\\\\/www.eads.net\",\"email\":\"\",\"type\":\"participant\",\"contacts\":[],\"organizationId\":\"999991819\",\"rcn\":\"1905831\",\"active\":true,\"sme\":false,\"regions\":\"Bayern|Oberbayern|M\\\\u00fcnchen, Landkreis\"},{\"name\":\"FRAUNHOFER GESELLSCHAFT ZUR FORDERUNG DER ANGEWANDTEN FORSCHUNG EV\",\"address\":{\"street\":\"HANSASTRASSE 27C\",\"city\":\"MUNCHEN\",\"postalCode\":\"80686\"},\"country\":{\"name\":\"Germany\",\"isoCode\":\"DE\",\"euCode\":\"DE\"},\"terminated\":false,\"order\":3,\"activityType\":\"Research Organisations\",\"contribution\":498432.96,\"netEcContribution\":null,\"nonEcContribution\":null,\"formula\":\"participant: \",\"website\":\"http:\\\\/\\\\/www.fraunhofer.de\",\"email\":\"\",\"type\":\"participant\",\"contacts\":[],\"organizationId\":\"999984059\",\"rcn\":\"1905912\",\"active\":true,\"sme\":false,\"regions\":\"Bayern|Oberbayern|M\\\\u00fcnchen, Kreisfreie Stadt\"},{\"name\":\"UNIVERSITEIT TWENTE\",\"address\":{\"street\":\"DRIENERLOLAAN 5\",\"city\":\"ENSCHEDE\",\"postalCode\":\"7522 NB\"},\"country\":{\"name\":\"Netherlands\",\"isoCode\":\"NL\",\"euCode\":\"NL\"},\"terminated\":false,\"order\":4,\"activityType\":\"Higher or Secondary Education Establishments\",\"contribution\":510748.56,\"netEcContribution\":null,\"nonEcContribution\":null,\"formula\":\"participant: \",\"website\":\"http:\\\\/\\\\/www.utwente.nl\",\"email\":\"\",\"type\":\"participant\",\"contacts\":[],\"organizationId\":\"999900833\",\"rcn\":\"1908335\",\"active\":true,\"sme\":false,\"regions\":\"Oost-Nederland|Overijssel|Twente\"},{\"name\":\"UNIVERSIDAD POLITECNICA DE MADRID\",\"address\":{\"street\":\"CALLE RAMIRO DE MAEZTU 7 EDIFICIO RECTORADO\",\"city\":\"MADRID\",\"postalCode\":\"28040\"},\"country\":{\"name\":\"Spain\",\"isoCode\":\"ES\",\"euCode\":\"ES\"},\"terminated\":false,\"order\":5,\"activityType\":\"Higher or Secondary Education Establishments\",\"contribution\":495745.92,\"netEcContribution\":null,\"nonEcContribution\":null,\"formula\":\"participant: \",\"website\":\"http:\\\\/\\\\/www.upm.es\",\"email\":\"\",\"type\":\"participant\",\"contacts\":[],\"organizationId\":\"999974844\",\"rcn\":\"1905672\",\"active\":true,\"sme\":false,\"regions\":\"Comunidad de Madrid|Comunidad de Madrid|Madrid\"},{\"name\":\"CENTRE TECHNOLOGIQUE ALPHANOV\",\"address\":{\"street\":\"RUE FRANCOIS MITTERRAND UNIVERSITE DE BORDEAUX 1\",\"city\":\"TALENCE\",\"postalCode\":\"33400\"},\"country\":{\"name\":\"France\",\"isoCode\":\"FR\",\"euCode\":\"FR\"},\"terminated\":false,\"order\":6,\"activityType\":\"Research Organisations\",\"contribution\":262875.6,\"netEcContribution\":null,\"nonEcContribution\":null,\"formula\":\"participant: \",\"website\":\"\",\"email\":\"\",\"type\":\"participant\",\"contacts\":[],\"organizationId\":\"999434166\",\"rcn\":\"1951772\",\"active\":true,\"sme\":false,\"regions\":\"Nouvelle-Aquitaine|Aquitaine|Gironde\"},{\"name\":\"CONSIGLIO NAZIONALE DELLE RICERCHE\",\"address\":{\"street\":\"PIAZZALE ALDO MORO 7\",\"city\":\"ROMA\",\"postalCode\":\"00185\"},\"country\":{\"name\":\"Italy\",\"isoCode\":\"IT\",\"euCode\":\"IT\"},\"terminated\":false,\"order\":7,\"activityType\":\"Research Organisations\",\"contribution\":258061.32,\"netEcContribution\":null,\"nonEcContribution\":null,\"formula\":\"participant: \",\"website\":\"www.cnr.it\",\"email\":\"\",\"type\":\"participant\",\"contacts\":[],\"organizationId\":\"999979500\",\"rcn\":\"1905609\",\"active\":true,\"sme\":false,\"regions\":\"Centro (IT)|Lazio|Roma\"},{\"name\":\"THE UNIVERSITY OF BIRMINGHAM\",\"address\":{\"street\":\"Edgbaston\",\"city\":\"BIRMINGHAM\",\"postalCode\":\"B15 2TT\"},\"country\":{\"name\":\"United Kingdom\",\"isoCode\":\"GB\",\"euCode\":\"UK\"},\"terminated\":false,\"order\":8,\"activityType\":\"Higher or Secondary Education Establishments\",\"contribution\":546575.76,\"netEcContribution\":null,\"nonEcContribution\":null,\"formula\":\"participant: \",\"website\":\"http:\\\\/\\\\/www.bham.ac.uk\",\"email\":\"\",\"type\":\"participant\",\"contacts\":[],\"organizationId\":\"999907526\",\"rcn\":\"1906227\",\"active\":true,\"sme\":false,\"regions\":\"West Midlands (England)|West Midlands|Birmingham\"},{\"name\":\"LEIBNIZ-INSTITUT FUR POLYMERFORSCHUNG DRESDEN EV\",\"address\":{\"street\":\"HOHE STRASSE 6\",\"city\":\"DRESDEN\",\"postalCode\":\"01069\"},\"country\":{\"name\":\"Germany\",\"isoCode\":\"DE\",\"euCode\":\"DE\"},\"terminated\":false,\"order\":9,\"activityType\":\"Research Organisations\",\"contribution\":249216.48,\"netEcContribution\":null,\"nonEcContribution\":null,\"formula\":\"participant: \",\"website\":\"http:\\\\/\\\\/www.ipfdd.de\",\"email\":\"\",\"type\":\"participant\",\"contacts\":[],\"organizationId\":\"999451141\",\"rcn\":\"1915860\",\"active\":true,\"sme\":false,\"regions\":\"Sachsen|Dresden|Dresden, Kreisfreie Stadt\"},{\"name\":\"ROBERT BOSCH GMBH\",\"address\":{\"street\":\"ROBERT-BOSCH-PLATZ 1\",\"city\":\"GERLINGEN-SCHILLERHOEHE\",\"postalCode\":\"70839\"},\"country\":{\"name\":\"Germany\",\"isoCode\":\"DE\",\"euCode\":\"DE\"},\"terminated\":false,\"order\":10,\"activityType\":\"Private for-profit entities (excluding Higher or Secondary Education Establishments)\",\"contribution\":249216.48,\"netEcContribution\":null,\"nonEcContribution\":null,\"formula\":\"participant: \",\"website\":\"http:\\\\/\\\\/www.bosch.com\",\"email\":\"\",\"type\":\"participant\",\"contacts\":[],\"organizationId\":\"999908787\",\"rcn\":\"1913203\",\"active\":true,\"sme\":false,\"regions\":\"Baden-W\\\\u00fcrttemberg|Stuttgart|Ludwigsburg\"}'\n",
            " '{\"name\":\"SCANLAB\",\"address\":{\"street\":\"NOORWEGENSTRAAT 29\",\"city\":\"EVERGEM\",\"postalCode\":\"9940\"},\"country\":{\"name\":\"Belgium\",\"isoCode\":\"BE\",\"euCode\":\"BE\"},\"terminated\":false,\"order\":2,\"activityType\":\"Private for-profit entities (excluding Higher or Secondary Education Establishments)\",\"contribution\":600002.85,\"netEcContribution\":600002.85,\"nonEcContribution\":0,\"formula\":\"participant: 600002.85 - 600002.85 - 0\",\"website\":\"\",\"email\":\"\",\"type\":\"participant\",\"contacts\":[],\"organizationId\":\"948165592\",\"rcn\":\"2634704\",\"active\":true,\"sme\":false,\"regions\":\"Vlaams Gewest|Prov. Oost-Vlaanderen|Arr. Gent\"},{\"name\":\"TRUMPF LASER GMBH\",\"address\":{\"street\":\"AICHALDER STRASSE 39\",\"city\":\"SCHRAMBERG\",\"postalCode\":\"78713\"},\"country\":{\"name\":\"Germany\",\"isoCode\":\"DE\",\"euCode\":\"DE\"},\"terminated\":false,\"order\":3,\"activityType\":\"Private for-profit entities (excluding Higher or Secondary Education Establishments)\",\"contribution\":1691130.35,\"netEcContribution\":1691130.35,\"nonEcContribution\":0,\"formula\":\"participant: 1691130.35 - 1691130.35 - 0\",\"website\":\"\",\"email\":\"\",\"type\":\"participant\",\"contacts\":[],\"organizationId\":\"942770355\",\"rcn\":\"2960839\",\"active\":true,\"sme\":false,\"regions\":\"Baden-W\\\\u00fcrttemberg|Freiburg|Rottweil\"},{\"name\":\"ROBERT BOSCH GMBH\",\"address\":{\"street\":\"ROBERT-BOSCH-PLATZ 1\",\"city\":\"GERLINGEN-SCHILLERHOEHE\",\"postalCode\":\"70839\"},\"country\":{\"name\":\"Germany\",\"isoCode\":\"DE\",\"euCode\":\"DE\"},\"terminated\":false,\"order\":4,\"activityType\":\"Private for-profit entities (excluding Higher or Secondary Education Establishments)\",\"contribution\":483877.85,\"netEcContribution\":483877.85,\"nonEcContribution\":0,\"formula\":\"participant: 483877.85 - 483877.85 - 0\",\"website\":\"http:\\\\/\\\\/www.bosch.com\",\"email\":\"\",\"type\":\"participant\",\"contacts\":[],\"organizationId\":\"999908787\",\"rcn\":\"1913203\",\"active\":true,\"sme\":false,\"regions\":\"Baden-W\\\\u00fcrttemberg|Stuttgart|Ludwigsburg\"},{\"name\":\"EUROPEAN PHOTONICS INDUSTRY CONSORTIUM\",\"address\":{\"street\":\"RUE HAMELIN 17\",\"city\":\"PARIS 16\",\"postalCode\":\"75116\"},\"country\":{\"name\":\"France\",\"isoCode\":\"FR\",\"euCode\":\"FR\"},\"terminated\":false,\"order\":5,\"activityType\":\"Other\",\"contribution\":249417.55,\"netEcContribution\":249417.55,\"nonEcContribution\":0,\"formula\":\"participant: 249417.55 - 249417.55 - 0\",\"website\":\"\",\"email\":\"\",\"type\":\"participant\",\"contacts\":[],\"organizationId\":\"999636508\",\"rcn\":\"2131501\",\"active\":true,\"sme\":false,\"regions\":\"Ile-de-France|Ile-de-France|Paris\"},{\"name\":\"BSH ELECTRODOMESTICOS ESPANA SA\",\"address\":{\"street\":\"RONDA CANAL IMPERIAL DE ARAGON NUM 18 PARQUE EMPRESARIAL PLA-ZA\",\"city\":\"ZARAGOZA\",\"postalCode\":\"50197\"},\"country\":{\"name\":\"Spain\",\"isoCode\":\"ES\",\"euCode\":\"ES\"},\"terminated\":false,\"order\":6,\"activityType\":\"Private for-profit entities (excluding Higher or Secondary Education Establishments)\",\"contribution\":184190.35,\"netEcContribution\":184190.35,\"nonEcContribution\":0,\"formula\":\"participant: 184190.35 - 184190.35 - 0\",\"website\":\"http:\\\\/\\\\/www.bshg.com\",\"email\":\"\",\"type\":\"participant\",\"contacts\":[],\"organizationId\":\"996491962\",\"rcn\":\"1950230\",\"active\":true,\"sme\":false,\"regions\":\"Noreste|Arag\\\\u00f3n|Zaragoza\"},{\"name\":\"NEW INFRARED TECHNOLOGIES SL\",\"address\":{\"street\":\"PLAZA MARQUES DE SALAMANCA  2\",\"city\":\"MADRID\",\"postalCode\":\"28006\"},\"country\":{\"name\":\"Spain\",\"isoCode\":\"ES\",\"euCode\":\"ES\"},\"terminated\":false,\"order\":7,\"activityType\":\"Private for-profit entities (excluding Higher or Secondary Education Establishments)\",\"contribution\":256940.35,\"netEcContribution\":256940.35,\"nonEcContribution\":0,\"formula\":\"participant: 256940.35 - 256940.35 - 0\",\"website\":\"\",\"email\":\"\",\"type\":\"participant\",\"contacts\":[],\"organizationId\":\"998883885\",\"rcn\":\"2376329\",\"active\":true,\"sme\":true,\"regions\":\"Comunidad de Madrid|Comunidad de Madrid|Madrid\"},{\"name\":\"LASER ENGINEERING APPLICATIONS SA\",\"address\":{\"street\":\"RUE LOUIS PLESCIA 31\",\"city\":\"SERAING\",\"postalCode\":\"4102\"},\"country\":{\"name\":\"Belgium\",\"isoCode\":\"BE\",\"euCode\":\"BE\"},\"terminated\":false,\"order\":8,\"activityType\":\"Private for-profit entities (excluding Higher or Secondary Education Establishments)\",\"contribution\":892880.35,\"netEcContribution\":892880.35,\"nonEcContribution\":0,\"formula\":\"participant: 892880.35 - 892880.35 - 0\",\"website\":\"http:\\\\/\\\\/www.lasea.be\",\"email\":\"\",\"type\":\"participant\",\"contacts\":[],\"organizationId\":\"998915701\",\"rcn\":\"2124778\",\"active\":true,\"sme\":true,\"regions\":\"R\\\\u00e9gion wallonne|Prov. Li\\\\u00e8ge|Arr. Li\\\\u00e8ge\"}'\n",
            " '{\"name\":\"UNIVERSITY OF STUTTGART\",\"address\":{\"street\":\"KEPLERSTRASSE 7\",\"city\":\"STUTTGART\",\"postalCode\":\"70174\"},\"country\":{\"name\":\"Germany\",\"isoCode\":\"DE\",\"euCode\":\"DE\"},\"terminated\":false,\"order\":2,\"activityType\":\"Higher or Secondary Education Establishments\",\"contribution\":827311.25,\"netEcContribution\":null,\"nonEcContribution\":null,\"formula\":\"participant: \",\"website\":\"http:\\\\/\\\\/www.uni-stuttgart.de\",\"email\":\"\",\"type\":\"participant\",\"contacts\":[],\"organizationId\":\"999974747\",\"rcn\":\"1905614\",\"active\":true,\"sme\":false,\"regions\":\"Baden-W\\\\u00fcrttemberg|Stuttgart|Stuttgart, Stadtkreis\"},{\"name\":\"CENTRE TECHNOLOGIQUE ALPHANOV\",\"address\":{\"street\":\"RUE FRANCOIS MITTERRAND UNIVERSITE DE BORDEAUX 1\",\"city\":\"TALENCE\",\"postalCode\":\"33400\"},\"country\":{\"name\":\"France\",\"isoCode\":\"FR\",\"euCode\":\"FR\"},\"terminated\":false,\"order\":3,\"activityType\":\"Research Organisations\",\"contribution\":737155,\"netEcContribution\":null,\"nonEcContribution\":null,\"formula\":\"participant: \",\"website\":\"\",\"email\":\"\",\"type\":\"participant\",\"contacts\":[],\"organizationId\":\"999434166\",\"rcn\":\"1951772\",\"active\":true,\"sme\":false,\"regions\":\"Nouvelle-Aquitaine|Aquitaine|Gironde\"},{\"name\":\"RAYLASE GMBH\",\"address\":{\"street\":\"ARGELSRIEDER FELD 2+4\",\"city\":\"WESSLING\",\"postalCode\":\"82234\"},\"country\":{\"name\":\"Germany\",\"isoCode\":\"DE\",\"euCode\":\"DE\"},\"terminated\":false,\"order\":4,\"activityType\":\"Private for-profit entities (excluding Higher or Secondary Education Establishments)\",\"contribution\":331562.5,\"netEcContribution\":null,\"nonEcContribution\":null,\"formula\":\"participant: \",\"website\":\"\",\"email\":\"\",\"type\":\"participant\",\"contacts\":[],\"organizationId\":\"951905718\",\"rcn\":\"2470085\",\"active\":true,\"sme\":false,\"regions\":\"\"},{\"name\":\"ECOR INTERNATIONAL SPA\",\"address\":{\"street\":\"VIA FRIULI 11\",\"city\":\"SCHIO\",\"postalCode\":\"36015\"},\"country\":{\"name\":\"Italy\",\"isoCode\":\"IT\",\"euCode\":\"IT\"},\"terminated\":false,\"order\":5,\"activityType\":\"Private for-profit entities (excluding Higher or Secondary Education Establishments)\",\"contribution\":318125,\"netEcContribution\":null,\"nonEcContribution\":null,\"formula\":\"participant: \",\"website\":\"\",\"email\":\"\",\"type\":\"participant\",\"contacts\":[],\"organizationId\":\"950015382\",\"rcn\":\"2470086\",\"active\":true,\"sme\":false,\"regions\":\"\"},{\"name\":\"BSH ELECTRODOMESTICOS ESPANA SA\",\"address\":{\"street\":\"RONDA CANAL IMPERIAL DE ARAGON NUM 18 PARQUE EMPRESARIAL PLA-ZA\",\"city\":\"ZARAGOZA\",\"postalCode\":\"50197\"},\"country\":{\"name\":\"Spain\",\"isoCode\":\"ES\",\"euCode\":\"ES\"},\"terminated\":false,\"order\":6,\"activityType\":\"Private for-profit entities (excluding Higher or Secondary Education Establishments)\",\"contribution\":533437.5,\"netEcContribution\":null,\"nonEcContribution\":null,\"formula\":\"participant: \",\"website\":\"http:\\\\/\\\\/www.bshg.com\",\"email\":\"\",\"type\":\"participant\",\"contacts\":[],\"organizationId\":\"996491962\",\"rcn\":\"1950230\",\"active\":true,\"sme\":false,\"regions\":\"Noreste|Arag\\\\u00f3n|Zaragoza\"},{\"name\":\"KITE INNOVATION (EUROPE) LIMITED\",\"address\":{\"street\":\"3M BUCKLEY INNOVATION CENTRE\",\"city\":\"HUDDERSFIELD\",\"postalCode\":\"HD1 3BD\"},\"country\":{\"name\":\"United Kingdom\",\"isoCode\":\"GB\",\"euCode\":\"UK\"},\"terminated\":true,\"order\":7,\"activityType\":\"Private for-profit entities (excluding Higher or Secondary Education Establishments)\",\"contribution\":43125,\"netEcContribution\":null,\"nonEcContribution\":null,\"formula\":\"participant: \",\"website\":\"http:\\\\/\\\\/www.kiteinnovation.com\",\"email\":\"\",\"type\":\"participant\",\"contacts\":[],\"organizationId\":\"995206033\",\"rcn\":\"1998129\",\"active\":true,\"sme\":false,\"regions\":\"Yorkshire and the Humber|West Yorkshire|Calderdale and Kirklees\"},{\"name\":\"MODUS RESEARCH AND INNOVATION LIMITED\",\"address\":{\"street\":\"7-11 MELVILLE STREET\",\"city\":\"EDINBURGH\",\"postalCode\":\"EH3 7PE\"},\"country\":{\"name\":\"United Kingdom\",\"isoCode\":\"GB\",\"euCode\":\"UK\"},\"terminated\":false,\"order\":8,\"activityType\":\"Research Organisations\",\"contribution\":102625,\"netEcContribution\":null,\"nonEcContribution\":null,\"formula\":\"participant: \",\"website\":\"\",\"email\":\"\",\"type\":\"participant\",\"contacts\":[],\"organizationId\":\"914153124\",\"rcn\":\"3145238\",\"active\":true,\"sme\":false,\"regions\":\"Eastern Scotland|Edinburgh\"}'\n",
            " '{\"name\":\"AMS-OSRAM AG\",\"address\":{\"street\":\"TOBELBADERSTRASSE 30 SCHLOSS PREMSTATTEN\",\"city\":\"UNTERPREMSTATTEN\",\"postalCode\":\"8141\"},\"country\":{\"name\":\"Austria\",\"isoCode\":\"AT\",\"euCode\":\"AT\"},\"terminated\":false,\"order\":2,\"activityType\":\"Private for-profit entities (excluding Higher or Secondary Education Establishments)\",\"contribution\":447450,\"netEcContribution\":447450,\"nonEcContribution\":1789800,\"formula\":\"participant: 2237250 - 447450 - 0\",\"website\":\"www.ams.com\",\"email\":\"\",\"type\":\"participant\",\"contacts\":[],\"organizationId\":\"999809459\",\"rcn\":\"2110602\",\"active\":true,\"sme\":false,\"regions\":\"S\\\\u00fcd\\\\u00f6sterreich|Steiermark|Graz\"},{\"name\":\"AT \\\\u0026 S AUSTRIA TECHNOLOGIE \\\\u0026 SYSTEMTECHNIK AKTIENGESELLSCHAFT\",\"address\":{\"street\":\"FABRIKSGASSE 13\",\"city\":\"LEOBEN\",\"postalCode\":\"8700\"},\"country\":{\"name\":\"Austria\",\"isoCode\":\"AT\",\"euCode\":\"AT\"},\"terminated\":false,\"order\":3,\"activityType\":\"Private for-profit entities (excluding Higher or Secondary Education Establishments)\",\"contribution\":372000.5,\"netEcContribution\":372000.5,\"nonEcContribution\":1488002,\"formula\":\"participant: 1860002.5 - 372000.5 - 0\",\"website\":\"\",\"email\":\"\",\"type\":\"participant\",\"contacts\":[],\"organizationId\":\"999571615\",\"rcn\":\"1916655\",\"active\":true,\"sme\":false,\"regions\":\"S\\\\u00fcd\\\\u00f6sterreich|Steiermark|\\\\u00d6stliche Obersteiermark\"},{\"name\":\"AVL LIST GMBH\",\"address\":{\"street\":\"HANS-LIST-PLATZ 1\",\"city\":\"GRAZ\",\"postalCode\":\"8020\"},\"country\":{\"name\":\"Austria\",\"isoCode\":\"AT\",\"euCode\":\"AT\"},\"terminated\":false,\"order\":4,\"activityType\":\"Private for-profit entities (excluding Higher or Secondary Education Establishments)\",\"contribution\":45618.1,\"netEcContribution\":45618.1,\"nonEcContribution\":182472.4,\"formula\":\"participant: 228090.5 - 45618.1 - 0\",\"website\":\"http:\\\\/\\\\/www.avl.com\",\"email\":\"\",\"type\":\"participant\",\"contacts\":[],\"organizationId\":\"999952243\",\"rcn\":\"1905904\",\"active\":true,\"sme\":false,\"regions\":\"S\\\\u00fcd\\\\u00f6sterreich|Steiermark|Graz\"},{\"name\":\"INFINEON TECHNOLOGIES IT-SERVICES GMBH\",\"address\":{\"street\":\"LAKESIDE 5\",\"city\":\"KLAGENFURT\",\"postalCode\":\"9020\"},\"country\":{\"name\":\"Austria\",\"isoCode\":\"AT\",\"euCode\":\"AT\"},\"terminated\":false,\"order\":5,\"activityType\":\"Private for-profit entities (excluding Higher or Secondary Education Establishments)\",\"contribution\":119239,\"netEcContribution\":119239,\"nonEcContribution\":476956,\"formula\":\"participant: 596195 - 119239 - 0\",\"website\":\"\",\"email\":\"\",\"type\":\"participant\",\"contacts\":[],\"organizationId\":\"999704796\",\"rcn\":\"2498969\",\"active\":true,\"sme\":false,\"regions\":\"S\\\\u00fcd\\\\u00f6sterreich|K\\\\u00e4rnten|Klagenfurt-Villach\"},{\"name\":\"KAI KOMPETENZZENTRUM AUTOMOBIL - UND INDUSTRIEELEKTRONIK GMBH\",\"address\":{\"street\":\"EUROPASTRASSE 8\",\"city\":\"VILLACH ST MAGDALEN\",\"postalCode\":\"9524\"},\"country\":{\"name\":\"Austria\",\"isoCode\":\"AT\",\"euCode\":\"AT\"},\"terminated\":false,\"order\":6,\"activityType\":\"Private for-profit entities (excluding Higher or Secondary Education Establishments)\",\"contribution\":450971.25,\"netEcContribution\":450971.25,\"nonEcContribution\":1803885,\"formula\":\"participant: 2254856.25 - 450971.25 - 0\",\"website\":\"www.k-ai.at\",\"email\":\"\",\"type\":\"participant\",\"contacts\":[],\"organizationId\":\"952872226\",\"rcn\":\"2498702\",\"active\":true,\"sme\":false,\"regions\":\"S\\\\u00fcd\\\\u00f6sterreich|K\\\\u00e4rnten|Klagenfurt-Villach\"},{\"name\":\"MATERIALS CENTER LEOBEN FORSCHUNG GMBH\",\"address\":{\"street\":\"ROSEGGERSTRASSE 12\",\"city\":\"LEOBEN\",\"postalCode\":\"8700\"},\"country\":{\"name\":\"Austria\",\"isoCode\":\"AT\",\"euCode\":\"AT\"},\"terminated\":false,\"order\":7,\"activityType\":\"Research Organisations\",\"contribution\":377378.31,\"netEcContribution\":377378.31,\"nonEcContribution\":700845.44,\"formula\":\"participant: 1078223.75 - 377378.31 - 0\",\"website\":\"www.mcl.at\",\"email\":\"\",\"type\":\"participant\",\"contacts\":[],\"organizationId\":\"998806867\",\"rcn\":\"1917562\",\"active\":true,\"sme\":false,\"regions\":\"S\\\\u00fcd\\\\u00f6sterreich|Steiermark|\\\\u00d6stliche Obersteiermark\"},{\"name\":\"TECHNISCHE UNIVERSITAET GRAZ\",\"address\":{\"street\":\"RECHBAUERSTRASSE 12\",\"city\":\"GRAZ\",\"postalCode\":\"8010\"},\"country\":{\"name\":\"Austria\",\"isoCode\":\"AT\",\"euCode\":\"AT\"},\"terminated\":false,\"order\":8,\"activityType\":\"Higher or Secondary Education Establishments\",\"contribution\":172794.56,\"netEcContribution\":172794.56,\"nonEcContribution\":320904.19,\"formula\":\"participant: 493698.75 - 172794.56 - 0\",\"website\":\"http:\\\\/\\\\/www.tugraz.at\",\"email\":\"\",\"type\":\"participant\",\"contacts\":[],\"organizationId\":\"999977948\",\"rcn\":\"1905680\",\"active\":true,\"sme\":false,\"regions\":\"S\\\\u00fcd\\\\u00f6sterreich|Steiermark|Graz\"},{\"name\":\"TECHNISCHE UNIVERSITAET WIEN\",\"address\":{\"street\":\"KARLSPLATZ 13\",\"city\":\"WIEN\",\"postalCode\":\"1040\"},\"country\":{\"name\":\"Austria\",\"isoCode\":\"AT\",\"euCode\":\"AT\"},\"terminated\":false,\"order\":9,\"activityType\":\"Higher or Secondary Education Establishments\",\"contribution\":215362,\"netEcContribution\":215362,\"nonEcContribution\":399958,\"formula\":\"participant: 615320 - 215362 - 0\",\"website\":\"http:\\\\/\\\\/www.tuwien.ac.at\",\"email\":\"\",\"type\":\"participant\",\"contacts\":[],\"organizationId\":\"999979888\",\"rcn\":\"1908489\",\"active\":true,\"sme\":false,\"regions\":\"Wien|Wien\"},{\"name\":\"VIRTUAL VEHICLE RESEARCH GMBH\",\"address\":{\"street\":\"INFFELDGASSE 21 A\",\"city\":\"GRAZ\",\"postalCode\":\"8010\"},\"country\":{\"name\":\"Austria\",\"isoCode\":\"AT\",\"euCode\":\"AT\"},\"terminated\":false,\"order\":10,\"activityType\":\"Research Organisations\",\"contribution\":127618.75,\"netEcContribution\":127618.75,\"nonEcContribution\":237006.25,\"formula\":\"participant: 364625 - 127618.75 - 0\",\"website\":\"http:\\\\/\\\\/www.virtuellesfahrzeug.at\",\"email\":\"\",\"type\":\"participant\",\"contacts\":[],\"organizationId\":\"997885852\",\"rcn\":\"1914567\",\"active\":true,\"sme\":true,\"regions\":\"S\\\\u00fcd\\\\u00f6sterreich|Steiermark|Graz\"},{\"name\":\"ROBERT BOSCH SEMICONDUCTOR MANUFACTURING DRESDEN GMBH\",\"address\":{\"street\":\"KNAPPSDORFER STR. 12\",\"city\":\"DRESDEN\",\"postalCode\":\"01109\"},\"country\":{\"name\":\"Germany\",\"isoCode\":\"DE\",\"euCode\":\"DE\"},\"terminated\":false,\"order\":11,\"activityType\":\"Private for-profit entities (excluding Higher or Secondary Education Establishments)\",\"contribution\":1283770.5,\"netEcContribution\":1167578.5,\"nonEcContribution\":4670314,\"formula\":\"participant: 6418852.5 - 1167578.5 - 580960\",\"website\":\"\",\"email\":\"\",\"type\":\"participant\",\"contacts\":[],\"organizationId\":\"899802362\",\"rcn\":\"1964759\",\"active\":true,\"sme\":false,\"regions\":\"Sachsen|Dresden|Dresden, Kreisfreie Stadt\"},{\"name\":\"ROBERT BOSCH GMBH\",\"address\":{\"street\":\"ROBERT-BOSCH-PLATZ 1\",\"city\":\"GERLINGEN-SCHILLERHOEHE\",\"postalCode\":\"70839\"},\"country\":{\"name\":\"Germany\",\"isoCode\":\"DE\",\"euCode\":\"DE\"},\"terminated\":false,\"order\":11,\"activityType\":\"Private for-profit entities (excluding Higher or Secondary Education Establishments)\",\"contribution\":0,\"netEcContribution\":116192,\"nonEcContribution\":464768,\"formula\":\"thirdParty: 580960 - 116192\",\"website\":\"http:\\\\/\\\\/www.bosch.com\",\"email\":\"\",\"type\":\"thirdParty\",\"contacts\":[],\"organizationId\":\"999908787\",\"rcn\":\"1913203\",\"active\":true,\"sme\":false,\"regions\":\"Baden-W\\\\u00fcrttemberg|Stuttgart|Ludwigsburg\"},{\"name\":\"ELMOS SEMICONDUCTOR SE\",\"address\":{\"street\":\"HEINRICH HERTZ STRASSE 1\",\"city\":\"DORTMUND\",\"postalCode\":\"44227\"},\"country\":{\"name\":\"Germany\",\"isoCode\":\"DE\",\"euCode\":\"DE\"},\"terminated\":false,\"order\":12,\"activityType\":\"Private for-profit entities (excluding Higher or Secondary Education Establishments)\",\"contribution\":448750,\"netEcContribution\":448750,\"nonEcContribution\":1795000,\"formula\":\"participant: 2243750 - 448750 - 0\",\"website\":\"www.elmos.eu\",\"email\":\"\",\"type\":\"participant\",\"contacts\":[],\"organizationId\":\"996486045\",\"rcn\":\"2118823\",\"active\":true,\"sme\":false,\"regions\":\"Nordrhein-Westfalen|Arnsberg|Dortmund, Kreisfreie Stadt\"},{\"name\":\"FRAUNHOFER GESELLSCHAFT ZUR FORDERUNG DER ANGEWANDTEN FORSCHUNG EV\",\"address\":{\"street\":\"HANSASTRASSE 27C\",\"city\":\"MUNCHEN\",\"postalCode\":\"80686\"},\"country\":{\"name\":\"Germany\",\"isoCode\":\"DE\",\"euCode\":\"DE\"},\"terminated\":false,\"order\":13,\"activityType\":\"Research Organisations\",\"contribution\":1504066.81,\"netEcContribution\":1504066.81,\"nonEcContribution\":2793266.94,\"formula\":\"participant: 4297333.75 - 1504066.81 - 0\",\"website\":\"http:\\\\/\\\\/www.fraunhofer.de\",\"email\":\"\",\"type\":\"participant\",\"contacts\":[],\"organizationId\":\"999984059\",\"rcn\":\"1905912\",\"active\":true,\"sme\":false,\"regions\":\"Bayern|Oberbayern|M\\\\u00fcnchen, Kreisfreie Stadt\"},{\"name\":\"FORSCHUNGS- UND TRANSFERZENTRUM EV AN DER WESTSAECHSISCHEN HOCHSCHULE ZWICKAU\",\"address\":{\"street\":\"DR FRIEDRICHS-RING 2A\",\"city\":\"ZWICKAU\",\"postalCode\":\"08056\"},\"country\":{\"name\":\"Germany\",\"isoCode\":\"DE\",\"euCode\":\"DE\"},\"terminated\":false,\"order\":14,\"activityType\":\"Research Organisations\",\"contribution\":327446.88,\"netEcContribution\":327446.88,\"nonEcContribution\":608115.62,\"formula\":\"participant: 935562.5 - 327446.88 - 0\",\"website\":\"\",\"email\":\"\",\"type\":\"participant\",\"contacts\":[],\"organizationId\":\"899751825\",\"rcn\":\"1964766\",\"active\":true,\"sme\":false,\"regions\":\"Sachsen|Chemnitz|Zwickau\"},{\"name\":\"GOPEL ELECTRONIC GMBH\",\"address\":{\"street\":\"GOSCHWITZER STRASSE 58\\\\/60\",\"city\":\"JENA\",\"postalCode\":\"07745\"},\"country\":{\"name\":\"Germany\",\"isoCode\":\"DE\",\"euCode\":\"DE\"},\"terminated\":false,\"order\":15,\"activityType\":\"Private for-profit entities (excluding Higher or Secondary Education Establishments)\",\"contribution\":293271.56,\"netEcContribution\":293271.56,\"nonEcContribution\":879814.69,\"formula\":\"participant: 1173086.25 - 293271.56 - 0\",\"website\":\"\",\"email\":\"\",\"type\":\"participant\",\"contacts\":[],\"organizationId\":\"972293469\",\"rcn\":\"1964767\",\"active\":true,\"sme\":true,\"regions\":\"Th\\\\u00fcringen|Th\\\\u00fcringen|Jena, Kreisfreie Stadt\"},{\"name\":\"HAHN-SCHICKARD-GESELLSCHAFT FUR ANGEWANDTE FORSCHUNG EV\",\"address\":{\"street\":\"WILHELM SCHICKARD STRASSE 10\",\"city\":\"VILLINGEN SCHWENNING\",\"postalCode\":\"78052\"},\"country\":{\"name\":\"Germany\",\"isoCode\":\"DE\",\"euCode\":\"DE\"},\"terminated\":false,\"order\":16,\"activityType\":\"Research Organisations\",\"contribution\":243353.69,\"netEcContribution\":243353.69,\"nonEcContribution\":451942.56,\"formula\":\"participant: 695296.25 - 243353.69 - 0\",\"website\":\"http:\\\\/\\\\/www.hsg-imit.de\",\"email\":\"\",\"type\":\"participant\",\"contacts\":[],\"organizationId\":\"998872439\",\"rcn\":\"2034848\",\"active\":true,\"sme\":false,\"regions\":\"Baden-W\\\\u00fcrttemberg|Freiburg|Schwarzwald-Baar-Kreis\"},{\"name\":\"INFINEON TECHNOLOGIES AUSTRIA  AG\",\"address\":{\"street\":\"SIEMENSSTRASSE  2\",\"city\":\"VILLACH\",\"postalCode\":\"9500\"},\"country\":{\"name\":\"Austria\",\"isoCode\":\"AT\",\"euCode\":\"AT\"},\"terminated\":false,\"order\":17,\"activityType\":\"Private for-profit entities (excluding Higher or Secondary Education Establishments)\",\"contribution\":820214.5,\"netEcContribution\":820214.5,\"nonEcContribution\":3280858,\"formula\":\"participant: 4101072.5 - 820214.5 - 0\",\"website\":\"http:\\\\/\\\\/www.infineon.com\\\\/austria\",\"email\":\"\",\"type\":\"participant\",\"contacts\":[],\"organizationId\":\"999705087\",\"rcn\":\"1918908\",\"active\":true,\"sme\":false,\"regions\":\"S\\\\u00fcd\\\\u00f6sterreich|K\\\\u00e4rnten|Klagenfurt-Villach\"},{\"name\":\"INFINEON TECHNOLOGIES DRESDEN GMBH\\\\u0026 CO KG\",\"address\":{\"street\":\"KONIGSBRUCKER STRASSE 180\",\"city\":\"DRESDEN\",\"postalCode\":\"01099\"},\"country\":{\"name\":\"Germany\",\"isoCode\":\"DE\",\"euCode\":\"DE\"},\"terminated\":false,\"order\":18,\"activityType\":\"Private for-profit entities (excluding Higher or Secondary Education Establishments)\",\"contribution\":1506400,\"netEcContribution\":1506400,\"nonEcContribution\":6025600,\"formula\":\"participant: 7532000 - 1506400 - 0\",\"website\":\"www.infineon.com\",\"email\":\"\",\"type\":\"participant\",\"contacts\":[],\"organizationId\":\"996701288\",\"rcn\":\"2498505\",\"active\":true,\"sme\":false,\"regions\":\"Sachsen|Dresden|Dresden, Kreisfreie Stadt\"},{\"name\":\"LEC GMBH\",\"address\":{\"street\":\"OTTO-FINDEISEN-STRASSE 18\",\"city\":\"EIBENSTOCK\",\"postalCode\":\"08309\"},\"country\":{\"name\":\"Germany\",\"isoCode\":\"DE\",\"euCode\":\"DE\"},\"terminated\":false,\"order\":19,\"activityType\":\"Private for-profit entities (excluding Higher or Secondary Education Establishments)\",\"contribution\":74812.5,\"netEcContribution\":74812.5,\"nonEcContribution\":224437.5,\"formula\":\"participant: 299250 - 74812.5 - 0\",\"website\":\"\",\"email\":\"\",\"type\":\"participant\",\"contacts\":[],\"organizationId\":\"918539949\",\"rcn\":\"1964771\",\"active\":true,\"sme\":true,\"regions\":\"Sachsen|Chemnitz|Erzgebirgskreis\"},{\"name\":\"PUMACY TECHNOLOGIES AG\",\"address\":{\"street\":\"LIEBKNECHTSTRASSE 24\",\"city\":\"BERNBURG\",\"postalCode\":\"06406\"},\"country\":{\"name\":\"Germany\",\"isoCode\":\"DE\",\"euCode\":\"DE\"},\"terminated\":false,\"order\":20,\"activityType\":\"Private for-profit entities (excluding Higher or Secondary Education Establishments)\",\"contribution\":135234.38,\"netEcContribution\":135234.38,\"nonEcContribution\":405703.12,\"formula\":\"participant: 540937.5 - 135234.38 - 0\",\"website\":\"\",\"email\":\"\",\"type\":\"participant\",\"contacts\":[],\"organizationId\":\"992222022\",\"rcn\":\"3099241\",\"active\":true,\"sme\":true,\"regions\":\"Sachsen-Anhalt|Sachsen-Anhalt|Salzlandkreis\"},{\"name\":\"SCHWEIZER ELECTRONIC AG\",\"address\":{\"street\":\"EINSTEINSTRASSE 10\",\"city\":\"SCHRAMBERG\",\"postalCode\":\"78713\"},\"country\":{\"name\":\"Germany\",\"isoCode\":\"DE\",\"euCode\":\"DE\"},\"terminated\":false,\"order\":21,\"activityType\":\"Private for-profit entities (excluding Higher or Secondary Education Establishments)\",\"contribution\":88750,\"netEcContribution\":88750,\"nonEcContribution\":355000,\"formula\":\"participant: 443750 - 88750 - 0\",\"website\":\"\",\"email\":\"\",\"type\":\"participant\",\"contacts\":[],\"organizationId\":\"909728469\",\"rcn\":\"1964776\",\"active\":true,\"sme\":false,\"regions\":\"Baden-W\\\\u00fcrttemberg|Freiburg|Rottweil\"},{\"name\":\"SENSITEC GMBH\",\"address\":{\"street\":\"SCHANZENFELDSTRASSE 2\",\"city\":\"WETZLAR\",\"postalCode\":\"35578\"},\"country\":{\"name\":\"Germany\",\"isoCode\":\"DE\",\"euCode\":\"DE\"},\"terminated\":false,\"order\":22,\"activityType\":\"Private for-profit entities (excluding Higher or Secondary Education Establishments)\",\"contribution\":252251,\"netEcContribution\":252251,\"nonEcContribution\":1009004,\"formula\":\"participant: 1261255 - 252251 - 0\",\"website\":\"http:\\\\/\\\\/www.sensitec.com\",\"email\":\"\",\"type\":\"participant\",\"contacts\":[],\"organizationId\":\"984892411\",\"rcn\":\"1975852\",\"active\":true,\"sme\":false,\"regions\":\"Gie\\\\u00dfen|Lahn-Dill-Kreis\"},{\"name\":\"TECHNISCHE UNIVERSITAET CHEMNITZ\",\"address\":{\"street\":\"STRASSE DER NATIONEN 62\",\"city\":\"CHEMNITZ\",\"postalCode\":\"09111\"},\"country\":{\"name\":\"Germany\",\"isoCode\":\"DE\",\"euCode\":\"DE\"},\"terminated\":false,\"order\":23,\"activityType\":\"Higher or Secondary Education Establishments\",\"contribution\":120312.5,\"netEcContribution\":120312.5,\"nonEcContribution\":223437.5,\"formula\":\"participant: 343750 - 120312.5 - 0\",\"website\":\"http:\\\\/\\\\/www.tu-chemnitz.de\",\"email\":\"\",\"type\":\"participant\",\"contacts\":[],\"organizationId\":\"999877844\",\"rcn\":\"1915930\",\"active\":true,\"sme\":false,\"regions\":\"Sachsen|Chemnitz|Chemnitz\"},{\"name\":\"TECHNISCHE UNIVERSITAET DRESDEN\",\"address\":{\"street\":\"HELMHOLTZSTRASSE 10\",\"city\":\"DRESDEN\",\"postalCode\":\"01069\"},\"country\":{\"name\":\"Germany\",\"isoCode\":\"DE\",\"euCode\":\"DE\"},\"terminated\":false,\"order\":24,\"activityType\":\"Higher or Secondary Education Establishments\",\"contribution\":88727.63,\"netEcContribution\":88727.63,\"nonEcContribution\":164779.87,\"formula\":\"participant: 253507.5 - 88727.63 - 0\",\"website\":\"http:\\\\/\\\\/tu-dresden.de\",\"email\":\"\",\"type\":\"participant\",\"contacts\":[],\"organizationId\":\"999897729\",\"rcn\":\"1905682\",\"active\":true,\"sme\":false,\"regions\":\"Sachsen|Dresden|Dresden, Kreisfreie Stadt\"},{\"name\":\"UNIVERSITAET BREMEN\",\"address\":{\"street\":\"Bibliothekstrasse 1\",\"city\":\"BREMEN\",\"postalCode\":\"28359\"},\"country\":{\"name\":\"Germany\",\"isoCode\":\"DE\",\"euCode\":\"DE\"},\"terminated\":false,\"order\":25,\"activityType\":\"Higher or Secondary Education Establishments\",\"contribution\":221200,\"netEcContribution\":221200,\"nonEcContribution\":410800,\"formula\":\"participant: 632000 - 221200 - 0\",\"website\":\"http:\\\\/\\\\/www.uni-bremen.de\",\"email\":\"\",\"type\":\"participant\",\"contacts\":[],\"organizationId\":\"999987454\",\"rcn\":\"1905966\",\"active\":true,\"sme\":false,\"regions\":\"Bremen|Bremen|Bremen, Kreisfreie Stadt\"},{\"name\":\"WESTSACHSISCHE HOCHSCHULE ZWICKAU\",\"address\":{\"street\":\"KORNMARKT 1\",\"city\":\"ZWICKAU\",\"postalCode\":\"08056\"},\"country\":{\"name\":\"Germany\",\"isoCode\":\"DE\",\"euCode\":\"DE\"},\"terminated\":false,\"order\":26,\"activityType\":\"Higher or Secondary Education Establishments\",\"contribution\":333373.25,\"netEcContribution\":333373.25,\"nonEcContribution\":619121.75,\"formula\":\"participant: 952495 - 333373.25 - 0\",\"website\":\"www.fh-zwickau.de\",\"email\":\"\",\"type\":\"participant\",\"contacts\":[],\"organizationId\":\"973940335\",\"rcn\":\"2163224\",\"active\":true,\"sme\":false,\"regions\":\"Sachsen|Chemnitz|Zwickau\"},{\"name\":\"X-FAB Dresden GmbH \\\\u0026 Co. KG\",\"address\":{\"street\":\"GRENZSTRASSE 28\",\"city\":\"DRESDEN\",\"postalCode\":\"01109\"},\"country\":{\"name\":\"Germany\",\"isoCode\":\"DE\",\"euCode\":\"DE\"},\"terminated\":false,\"order\":27,\"activityType\":\"Private for-profit entities (excluding Higher or Secondary Education Establishments)\",\"contribution\":186329,\"netEcContribution\":186329,\"nonEcContribution\":745316,\"formula\":\"participant: 931645 - 186329 - 0\",\"website\":\"\",\"email\":\"\",\"type\":\"participant\",\"contacts\":[],\"organizationId\":\"967310482\",\"rcn\":\"2426277\",\"active\":true,\"sme\":false,\"regions\":\"Sachsen|Dresden|Dresden, Kreisfreie Stadt\"},{\"name\":\"X-FAB SEMICONDUCTOR FOUNDRIES GMBH\",\"address\":{\"street\":\"HAARBERGSTRASSE 67\",\"city\":\"ERFURT\",\"postalCode\":\"99097\"},\"country\":{\"name\":\"Germany\",\"isoCode\":\"DE\",\"euCode\":\"DE\"},\"terminated\":false,\"order\":28,\"activityType\":\"Private for-profit entities (excluding Higher or Secondary Education Establishments)\",\"contribution\":471196.25,\"netEcContribution\":471196.25,\"nonEcContribution\":1884785,\"formula\":\"participant: 2355981.25 - 471196.25 - 0\",\"website\":\"www.xfab.com\",\"email\":\"\",\"type\":\"participant\",\"contacts\":[],\"organizationId\":\"999437949\",\"rcn\":\"2118820\",\"active\":true,\"sme\":false,\"regions\":\"Th\\\\u00fcringen|Th\\\\u00fcringen|Erfurt, Kreisfreie Stadt\"},{\"name\":\"NANO DESIGN SRO\",\"address\":{\"street\":\"DROTARSKACESTA 6385 19A\",\"city\":\"BRATISLAVA\",\"postalCode\":\"811 04\"},\"country\":{\"name\":\"Slovakia\",\"isoCode\":\"SK\",\"euCode\":\"SK\"},\"terminated\":false,\"order\":30,\"activityType\":\"Private for-profit entities (excluding Higher or Secondary Education Establishments)\",\"contribution\":84375,\"netEcContribution\":84375,\"nonEcContribution\":253125,\"formula\":\"participant: 337500 - 84375 - 0\",\"website\":\"www.nanodesign.sk\",\"email\":\"\",\"type\":\"participant\",\"contacts\":[],\"organizationId\":\"953715932\",\"rcn\":\"2498647\",\"active\":true,\"sme\":true,\"regions\":\"Slovensko|Bratislavsk\\\\u00fd kraj|Bratislavsk\\\\u00fd kraj\"},{\"name\":\"SLOVENSKA TECHNICKA UNIVERZITA V BRATISLAVE\",\"address\":{\"street\":\"VAZOVOVA 5\",\"city\":\"BRATISLAVA\",\"postalCode\":\"81243\"},\"country\":{\"name\":\"Slovakia\",\"isoCode\":\"SK\",\"euCode\":\"SK\"},\"terminated\":false,\"order\":31,\"activityType\":\"Higher or Secondary Education Establishments\",\"contribution\":139300,\"netEcContribution\":139300,\"nonEcContribution\":258700,\"formula\":\"participant: 398000 - 139300 - 0\",\"website\":\"http:\\\\/\\\\/www.stuba.sk\",\"email\":\"\",\"type\":\"participant\",\"contacts\":[],\"organizationId\":\"999868823\",\"rcn\":\"1920854\",\"active\":true,\"sme\":false,\"regions\":\"Slovensko|Bratislavsk\\\\u00fd kraj|Bratislavsk\\\\u00fd kraj\"},{\"name\":\"EDR \\\\u0026 MEDESO AB\",\"address\":{\"street\":\"VARMVALSVAGEN 15\",\"city\":\"VASTERAS\",\"postalCode\":\"721 30\"},\"country\":{\"name\":\"Sweden\",\"isoCode\":\"SE\",\"euCode\":\"SE\"},\"terminated\":false,\"order\":32,\"activityType\":\"Private for-profit entities (excluding Higher or Secondary Education Establishments)\",\"contribution\":40625,\"netEcContribution\":40625,\"nonEcContribution\":121875,\"formula\":\"participant: 162500 - 40625 - 0\",\"website\":\"\",\"email\":\"\",\"type\":\"participant\",\"contacts\":[],\"organizationId\":\"934740210\",\"rcn\":\"1964798\",\"active\":true,\"sme\":true,\"regions\":\"\\\\u00d6stra Sverige|\\\\u00d6stra Mellansverige|V\\\\u00e4stmanlands l\\\\u00e4n\"},{\"name\":\"INMOTION TECHNOLOGIES AB\",\"address\":{\"street\":\"SOLKRAFTSVAGEN 13\",\"city\":\"STOCKHOLM\",\"postalCode\":\"135 70\"},\"country\":{\"name\":\"Sweden\",\"isoCode\":\"SE\",\"euCode\":\"SE\"},\"terminated\":false,\"order\":33,\"activityType\":\"Private for-profit entities (excluding Higher or Secondary Education Establishments)\",\"contribution\":20000,\"netEcContribution\":20000,\"nonEcContribution\":80000,\"formula\":\"participant: 100000 - 20000 - 0\",\"website\":\"\",\"email\":\"\",\"type\":\"participant\",\"contacts\":[],\"organizationId\":\"937840524\",\"rcn\":\"1964799\",\"active\":true,\"sme\":false,\"regions\":\"\\\\u00d6stra Sverige|Stockholm|Stockholms l\\\\u00e4n\"},{\"name\":\"QRTECH AKTIEBOLAG\",\"address\":{\"street\":\"FLOJELBERGSGATAN 1C\",\"city\":\"MOLNDAL\",\"postalCode\":\"431 35\"},\"country\":{\"name\":\"Sweden\",\"isoCode\":\"SE\",\"euCode\":\"SE\"},\"terminated\":false,\"order\":34,\"activityType\":\"Private for-profit entities (excluding Higher or Secondary Education Establishments)\",\"contribution\":108488.75,\"netEcContribution\":108488.75,\"nonEcContribution\":433955,\"formula\":\"participant: 542443.75 - 108488.75 - 0\",\"website\":\"www.qrtech.se\",\"email\":\"\",\"type\":\"participant\",\"contacts\":[],\"organizationId\":\"955248338\",\"rcn\":\"1941030\",\"active\":true,\"sme\":false,\"regions\":\"S\\\\u00f6dra Sverige|V\\\\u00e4stsverige|V\\\\u00e4stra G\\\\u00f6talands l\\\\u00e4n\"},{\"name\":\"RISE IVF AB\",\"address\":{\"street\":\"ARGONGATAN 30\",\"city\":\"MOLNDAL\",\"postalCode\":\"431 53\"},\"country\":{\"name\":\"Sweden\",\"isoCode\":\"SE\",\"euCode\":\"SE\"},\"terminated\":false,\"order\":35,\"activityType\":\"Research Organisations\",\"contribution\":182656.25,\"netEcContribution\":129608.06,\"nonEcContribution\":240700.69,\"formula\":\"participant: 521875 - 129608.06 - 151566.25\",\"website\":\"http:\\\\/\\\\/www.swereaivf.se\",\"email\":\"\",\"type\":\"participant\",\"contacts\":[],\"organizationId\":\"999475294\",\"rcn\":\"1905796\",\"active\":true,\"sme\":false,\"regions\":\"S\\\\u00f6dra Sverige|V\\\\u00e4stsverige|V\\\\u00e4stra G\\\\u00f6talands l\\\\u00e4n\"},{\"name\":\"RISE RESEARCH INSTITUTES OF SWEDEN AB\",\"address\":{\"street\":\"BRINELLGATAN 4\",\"city\":\"BORAS\",\"postalCode\":\"501 15\"},\"country\":{\"name\":\"Sweden\",\"isoCode\":\"SE\",\"euCode\":\"SE\"},\"terminated\":false,\"order\":35,\"activityType\":\"Research Organisations\",\"contribution\":0,\"netEcContribution\":53048.19,\"nonEcContribution\":98518.06,\"formula\":\"thirdParty: 151566.25 - 53048.19\",\"website\":\"http:\\\\/\\\\/www.ri.se\",\"email\":\"\",\"type\":\"thirdParty\",\"contacts\":[],\"organizationId\":\"999613422\",\"rcn\":\"1905804\",\"active\":true,\"sme\":false,\"regions\":\"S\\\\u00f6dra Sverige|V\\\\u00e4stsverige|V\\\\u00e4stra G\\\\u00f6talands l\\\\u00e4n\"},{\"name\":\"SCANIA CV AB\",\"address\":{\"street\":\"VAGNMAKARVAGEN 1\",\"city\":\"SODERTALJE\",\"postalCode\":\"151 87\"},\"country\":{\"name\":\"Sweden\",\"isoCode\":\"SE\",\"euCode\":\"SE\"},\"terminated\":false,\"order\":36,\"activityType\":\"Private for-profit entities (excluding Higher or Secondary Education Establishments)\",\"contribution\":25000,\"netEcContribution\":25000,\"nonEcContribution\":100000,\"formula\":\"participant: 125000 - 25000 - 0\",\"website\":\"http:\\\\/\\\\/www.scania.com\",\"email\":\"\",\"type\":\"participant\",\"contacts\":[],\"organizationId\":\"999476652\",\"rcn\":\"2108290\",\"active\":true,\"sme\":false,\"regions\":\"\\\\u00d6stra Sverige|Stockholm|Stockholms l\\\\u00e4n\"},{\"name\":\"AALTO KORKEAKOULUSAATIO SR\",\"address\":{\"street\":\"OTAKAARI 1\",\"city\":\"ESPOO\",\"postalCode\":\"02150\"},\"country\":{\"name\":\"Finland\",\"isoCode\":\"FI\",\"euCode\":\"FI\"},\"terminated\":false,\"order\":37,\"activityType\":\"Higher or Secondary Education Establishments\",\"contribution\":90087.81,\"netEcContribution\":90087.81,\"nonEcContribution\":167305.94,\"formula\":\"participant: 257393.75 - 90087.81 - 0\",\"website\":\"http:\\\\/\\\\/www.aalto.fi\\\\/en\\\\/\",\"email\":\"\",\"type\":\"participant\",\"contacts\":[],\"organizationId\":\"991256096\",\"rcn\":\"1906096\",\"active\":true,\"sme\":false,\"regions\":\"Manner-Suomi|Helsinki-Uusimaa|Helsinki-Uusimaa\"},{\"name\":\"FORCIOT OY\",\"address\":{\"street\":\"HERMIANKATU 12E\",\"city\":\"TAMPERE\",\"postalCode\":\"33720\"},\"country\":{\"name\":\"Finland\",\"isoCode\":\"FI\",\"euCode\":\"FI\"},\"terminated\":false,\"order\":38,\"activityType\":\"Private for-profit entities (excluding Higher or Secondary Education Establishments)\",\"contribution\":89375,\"netEcContribution\":89375,\"nonEcContribution\":268125,\"formula\":\"participant: 357500 - 89375 - 0\",\"website\":\"\",\"email\":\"\",\"type\":\"participant\",\"contacts\":[],\"organizationId\":\"916904044\",\"rcn\":\"1964802\",\"active\":true,\"sme\":true,\"regions\":\"Manner-Suomi|L\\\\u00e4nsi-Suomi|Pirkanmaa\"},{\"name\":\"OKMETIC OY\",\"address\":{\"street\":\"PIITIE 2\",\"city\":\"VANTAA\",\"postalCode\":\"01510\"},\"country\":{\"name\":\"Finland\",\"isoCode\":\"FI\",\"euCode\":\"FI\"},\"terminated\":false,\"order\":39,\"activityType\":\"Private for-profit entities (excluding Higher or Secondary Education Establishments)\",\"contribution\":143500,\"netEcContribution\":143500,\"nonEcContribution\":574000,\"formula\":\"participant: 717500 - 143500 - 0\",\"website\":\"http:\\\\/\\\\/www.okmetic.com\",\"email\":\"\",\"type\":\"participant\",\"contacts\":[],\"organizationId\":\"988428061\",\"rcn\":\"2498092\",\"active\":true,\"sme\":false,\"regions\":\"Manner-Suomi|Helsinki-Uusimaa|Helsinki-Uusimaa\"},{\"name\":\"TEKNOLOGIAN TUTKIMUSKESKUS VTT OY\",\"address\":{\"street\":\"TEKNIIKANTIE 21\",\"city\":\"ESPOO\",\"postalCode\":\"02150\"},\"country\":{\"name\":\"Finland\",\"isoCode\":\"FI\",\"euCode\":\"FI\"},\"terminated\":false,\"order\":40,\"activityType\":\"Research Organisations\",\"contribution\":76170.06,\"netEcContribution\":76170.06,\"nonEcContribution\":141458.69,\"formula\":\"participant: 217628.75 - 76170.06 - 0\",\"website\":\"www.vtt.fi\",\"email\":\"\",\"type\":\"participant\",\"contacts\":[],\"organizationId\":\"932760440\",\"rcn\":\"2104951\",\"active\":true,\"sme\":false,\"regions\":\"Manner-Suomi|Helsinki-Uusimaa|Helsinki-Uusimaa\"},{\"name\":\"SCREENTEC OY\",\"address\":{\"street\":\"KONEKUJA 2\",\"city\":\"OULU\",\"postalCode\":\"90620\"},\"country\":{\"name\":\"Finland\",\"isoCode\":\"FI\",\"euCode\":\"FI\"},\"terminated\":false,\"order\":41,\"activityType\":\"Private for-profit entities (excluding Higher or Secondary Education Establishments)\",\"contribution\":41062.5,\"netEcContribution\":41062.5,\"nonEcContribution\":123187.5,\"formula\":\"participant: 164250 - 41062.5 - 0\",\"website\":\"\",\"email\":\"\",\"type\":\"participant\",\"contacts\":[],\"organizationId\":\"969336424\",\"rcn\":\"1955633\",\"active\":true,\"sme\":true,\"regions\":\"Manner-Suomi|Pohjois- ja It\\\\u00e4-Suomi|Pohjois-Pohjanmaa\"},{\"name\":\"INTERUNIVERSITAIR MICRO-ELECTRONICA CENTRUM\",\"address\":{\"street\":\"KAPELDREEF 75\",\"city\":\"LEUVEN\",\"postalCode\":\"3001\"},\"country\":{\"name\":\"Belgium\",\"isoCode\":\"BE\",\"euCode\":\"BE\"},\"terminated\":false,\"order\":42,\"activityType\":\"Research Organisations\",\"contribution\":1058462.56,\"netEcContribution\":1058462.56,\"nonEcContribution\":1965716.19,\"formula\":\"participant: 3024178.75 - 1058462.56 - 0\",\"website\":\"http:\\\\/\\\\/www.imec.be\",\"email\":\"\",\"type\":\"participant\",\"contacts\":[],\"organizationId\":\"999981149\",\"rcn\":\"1905930\",\"active\":true,\"sme\":false,\"regions\":\"Vlaams Gewest|Prov. Vlaams-Brabant|Arr. Leuven\"},{\"name\":\"MINDCET NV\",\"address\":{\"street\":\"ROMEINSE STRAAT 10\",\"city\":\"LEUVEN\",\"postalCode\":\"3001\"},\"country\":{\"name\":\"Belgium\",\"isoCode\":\"BE\",\"euCode\":\"BE\"},\"terminated\":false,\"order\":43,\"activityType\":\"Private for-profit entities (excluding Higher or Secondary Education Establishments)\",\"contribution\":117500,\"netEcContribution\":117500,\"nonEcContribution\":470000,\"formula\":\"participant: 587500 - 117500 - 0\",\"website\":\"\",\"email\":\"\",\"type\":\"participant\",\"contacts\":[],\"organizationId\":\"952421176\",\"rcn\":\"1964804\",\"active\":true,\"sme\":false,\"regions\":\"Vlaams Gewest|Prov. Vlaams-Brabant|Arr. Leuven\"},{\"name\":\"NINIX TECHNOLOGIES NV\",\"address\":{\"street\":\"KLEINE MONNIKENWERVE  9\",\"city\":\"BRUGGE\",\"postalCode\":\"8000\"},\"country\":{\"name\":\"Belgium\",\"isoCode\":\"BE\",\"euCode\":\"BE\"},\"terminated\":false,\"order\":44,\"activityType\":\"Private for-profit entities (excluding Higher or Secondary Education Establishments)\",\"contribution\":132500,\"netEcContribution\":132500,\"nonEcContribution\":397500,\"formula\":\"participant: 530000 - 132500 - 0\",\"website\":\"\",\"email\":\"\",\"type\":\"participant\",\"contacts\":[],\"organizationId\":\"970022408\",\"rcn\":\"1964806\",\"active\":true,\"sme\":true,\"regions\":\"Vlaams Gewest|Prov. West-Vlaanderen|Arr. Brugge\"},{\"name\":\"BELGAN BV\",\"address\":{\"street\":\"WESTERRING 15\",\"city\":\"OUDENAARDE\",\"postalCode\":\"9700\"},\"country\":{\"name\":\"Belgium\",\"isoCode\":\"BE\",\"euCode\":\"BE\"},\"terminated\":false,\"order\":45,\"activityType\":\"Private for-profit entities (excluding Higher or Secondary Education Establishments)\",\"contribution\":172218,\"netEcContribution\":172218,\"nonEcContribution\":688872,\"formula\":\"participant: 861090 - 172218 - 0\",\"website\":\"www.onsemi.com\",\"email\":\"\",\"type\":\"participant\",\"contacts\":[],\"organizationId\":\"996719524\",\"rcn\":\"2110615\",\"active\":true,\"sme\":false,\"regions\":\"Vlaams Gewest|Prov. Oost-Vlaanderen|Arr. Oudenaarde\"},{\"name\":\"PLASTIC OMNIUM ADVANCED INNOVATIONAND RESEARCH\",\"address\":{\"street\":\"RUE DE LA FUSEE 98 100\",\"city\":\"BRUXELLES\",\"postalCode\":\"1130\"},\"country\":{\"name\":\"Belgium\",\"isoCode\":\"BE\",\"euCode\":\"BE\"},\"terminated\":false,\"order\":46,\"activityType\":\"Private for-profit entities (excluding Higher or Secondary Education Establishments)\",\"contribution\":353100,\"netEcContribution\":353100,\"nonEcContribution\":1412400,\"formula\":\"participant: 1765500 - 353100 - 0\",\"website\":\"www.inergyautomotive.com\",\"email\":\"\",\"type\":\"participant\",\"contacts\":[],\"organizationId\":\"998635274\",\"rcn\":\"2117854\",\"active\":true,\"sme\":false,\"regions\":\"R\\\\u00e9gion de Bruxelles-Capitale\\\\/Brussels Hoofdstedelijk Gewest|R\\\\u00e9gion de Bruxelles-Capitale\\\\/ Brussels Hoofdstedelijk Gewest|Arr. de Bruxelles-Capitale\\\\/Arr. Brussel-Hoofdstad\"},{\"name\":\"SIRRIS HET COLLECTIEF CENTRUM VAN DE TECHNOLOGISCHE INDUSTRIE\",\"address\":{\"street\":\"BOULEVARD AUGUSTE REYERS 80\",\"city\":\"BRUXELLES\",\"postalCode\":\"1030\"},\"country\":{\"name\":\"Belgium\",\"isoCode\":\"BE\",\"euCode\":\"BE\"},\"terminated\":false,\"order\":47,\"activityType\":\"Research Organisations\",\"contribution\":73972.94,\"netEcContribution\":73972.94,\"nonEcContribution\":137378.31,\"formula\":\"participant: 211351.25 - 73972.94 - 0\",\"website\":\"http:\\\\/\\\\/www.sirris.be\",\"email\":\"\",\"type\":\"participant\",\"contacts\":[],\"organizationId\":\"998134075\",\"rcn\":\"1907767\",\"active\":true,\"sme\":false,\"regions\":\"R\\\\u00e9gion de Bruxelles-Capitale\\\\/Brussels Hoofdstedelijk Gewest|R\\\\u00e9gion de Bruxelles-Capitale\\\\/ Brussels Hoofdstedelijk Gewest|Arr. de Bruxelles-Capitale\\\\/Arr. Brussel-Hoofdstad\"},{\"name\":\"INFINEON TECHNOLOGIES ITALIA SRL\",\"address\":{\"street\":\"VIA DEI VALTORTA 48\",\"city\":\"MILANO\",\"postalCode\":\"20127\"},\"country\":{\"name\":\"Italy\",\"isoCode\":\"IT\",\"euCode\":\"IT\"},\"terminated\":false,\"order\":48,\"activityType\":\"Private for-profit entities (excluding Higher or Secondary Education Establishments)\",\"contribution\":596500,\"netEcContribution\":596500,\"nonEcContribution\":2386000,\"formula\":\"participant: 2982500 - 596500 - 0\",\"website\":\"www.infineon.com\",\"email\":\"\",\"type\":\"participant\",\"contacts\":[],\"organizationId\":\"970916457\",\"rcn\":\"2498708\",\"active\":true,\"sme\":false,\"regions\":\"Nord-Ovest|Lombardia|Milano\"},{\"name\":\"CONSORZIO NAZIONALE INTERUNIVERSITARIO PER LA NANOELETTRONICA\",\"address\":{\"street\":\"VIA TOFFANO 2\",\"city\":\"BOLOGNA\",\"postalCode\":\"40125\"},\"country\":{\"name\":\"Italy\",\"isoCode\":\"IT\",\"euCode\":\"IT\"},\"terminated\":false,\"order\":49,\"activityType\":\"Research Organisations\",\"contribution\":832562.5,\"netEcContribution\":3281.25,\"nonEcContribution\":6093.75,\"formula\":\"participant: 2378750 - 3281.25 - 2369375\",\"website\":\"\",\"email\":\"\",\"type\":\"participant\",\"contacts\":[],\"organizationId\":\"999659885\",\"rcn\":\"2406048\",\"active\":true,\"sme\":false,\"regions\":\"Nord-Est|Emilia-Romagna|Bologna\"},{\"name\":\"ALMA MATER STUDIORUM - UNIVERSITA DI BOLOGNA\",\"address\":{\"street\":\"VIA ZAMBONI 33\",\"city\":\"BOLOGNA\",\"postalCode\":\"40126\"},\"country\":{\"name\":\"Italy\",\"isoCode\":\"IT\",\"euCode\":\"IT\"},\"terminated\":false,\"order\":49,\"activityType\":\"Higher or Secondary Education Establishments\",\"contribution\":0,\"netEcContribution\":298495.75,\"nonEcContribution\":554349.25,\"formula\":\"thirdParty: 852845 - 298495.75\",\"website\":\"http:\\\\/\\\\/www.unibo.it\",\"email\":\"\",\"type\":\"thirdParty\",\"contacts\":[],\"organizationId\":\"999993953\",\"rcn\":\"1905805\",\"active\":true,\"sme\":false,\"regions\":\"Nord-Est|Emilia-Romagna|Bologna\"},{\"name\":\"UNIVERSITA DEGLI STUDI DI PADOVA\",\"address\":{\"street\":\"VIA 8 FEBBRAIO 2\",\"city\":\"PADOVA\",\"postalCode\":\"35122\"},\"country\":{\"name\":\"Italy\",\"isoCode\":\"IT\",\"euCode\":\"IT\"},\"terminated\":false,\"order\":49,\"activityType\":\"Higher or Secondary Education Establishments\",\"contribution\":0,\"netEcContribution\":226164.75,\"nonEcContribution\":420020.25,\"formula\":\"thirdParty: 646185 - 226164.75\",\"website\":\"http:\\\\/\\\\/www.unipd.it\",\"email\":\"\",\"type\":\"thirdParty\",\"contacts\":[],\"organizationId\":\"999995602\",\"rcn\":\"1905774\",\"active\":true,\"sme\":false,\"regions\":\"Nord-Est|Veneto|Padova\"},{\"name\":\"POLITECNICO DI MILANO\",\"address\":{\"street\":\"PIAZZA LEONARDO DA VINCI 32\",\"city\":\"MILANO\",\"postalCode\":\"20133\"},\"country\":{\"name\":\"Italy\",\"isoCode\":\"IT\",\"euCode\":\"IT\"},\"terminated\":false,\"order\":49,\"activityType\":\"Higher or Secondary Education Establishments\",\"contribution\":0,\"netEcContribution\":304620.75,\"nonEcContribution\":565724.25,\"formula\":\"thirdParty: 870345 - 304620.75\",\"website\":\"http:\\\\/\\\\/www.polimi.it\",\"email\":\"\",\"type\":\"thirdParty\",\"contacts\":[],\"organizationId\":\"999879881\",\"rcn\":\"1905660\",\"active\":true,\"sme\":false,\"regions\":\"Nord-Ovest|Lombardia|Milano\"},{\"name\":\"LFOUNDRY SRL\",\"address\":{\"street\":\"VIA A PACINOTTI 7\",\"city\":\"AVEZZANO AQ\",\"postalCode\":\"67051\"},\"country\":{\"name\":\"Italy\",\"isoCode\":\"IT\",\"euCode\":\"IT\"},\"terminated\":true,\"order\":50,\"activityType\":\"Private for-profit entities (excluding Higher or Secondary Education Establishments)\",\"contribution\":200000,\"netEcContribution\":200000,\"nonEcContribution\":800000,\"formula\":\"participant: 1000000 - 200000 - 0\",\"website\":\"\",\"email\":\"\",\"type\":\"participant\",\"contacts\":[],\"organizationId\":\"965904273\",\"rcn\":\"2346705\",\"active\":true,\"sme\":false,\"regions\":\"Sud|Abruzzo|L\\\\u2019Aquila\"},{\"name\":\"TEKNE SRL\",\"address\":{\"street\":\"CONTRADA SAN MATTEO 42\",\"city\":\"POGGIOFIORITO\",\"postalCode\":\"66030\"},\"country\":{\"name\":\"Italy\",\"isoCode\":\"IT\",\"euCode\":\"IT\"},\"terminated\":false,\"order\":51,\"activityType\":\"Private for-profit entities (excluding Higher or Secondary Education Establishments)\",\"contribution\":321000,\"netEcContribution\":321000,\"nonEcContribution\":963000,\"formula\":\"participant: 1284000 - 321000 - 0\",\"website\":\"\",\"email\":\"\",\"type\":\"participant\",\"contacts\":[],\"organizationId\":\"917522322\",\"rcn\":\"3006510\",\"active\":true,\"sme\":true,\"regions\":\"Sud|Abruzzo|Chieti\"},{\"name\":\"UNIVERSITA DEGLI STUDI DELL\\\\u0027AQUILA\",\"address\":{\"street\":\"PIAZZA SANTA MARGHERITA 2\",\"city\":\"L AQUILA\",\"postalCode\":\"67100\"},\"country\":{\"name\":\"Italy\",\"isoCode\":\"IT\",\"euCode\":\"IT\"},\"terminated\":false,\"order\":52,\"activityType\":\"Higher or Secondary Education Establishments\",\"contribution\":175000,\"netEcContribution\":175000,\"nonEcContribution\":325000,\"formula\":\"participant: 500000 - 175000 - 0\",\"website\":\"\",\"email\":\"\",\"type\":\"participant\",\"contacts\":[],\"organizationId\":\"999859511\",\"rcn\":\"1907084\",\"active\":true,\"sme\":false,\"regions\":\"Sud|Abruzzo|L\\\\u2019Aquila\"},{\"name\":\"BATZ SOCIEDAD COOPERATIVA\",\"address\":{\"street\":\"CALLE TORREA 32\",\"city\":\"IGORRE\",\"postalCode\":\"48140\"},\"country\":{\"name\":\"Spain\",\"isoCode\":\"ES\",\"euCode\":\"ES\"},\"terminated\":false,\"order\":53,\"activityType\":\"Private for-profit entities (excluding Higher or Secondary Education Establishments)\",\"contribution\":66306.25,\"netEcContribution\":66306.25,\"nonEcContribution\":265225,\"formula\":\"participant: 331531.25 - 66306.25 - 0\",\"website\":\"www.batz.es\",\"email\":\"\",\"type\":\"participant\",\"contacts\":[],\"organizationId\":\"961648495\",\"rcn\":\"2190121\",\"active\":true,\"sme\":false,\"regions\":\"Noreste|Pa\\\\u00eds Vasco|Bizkaia\"},{\"name\":\"BSH ELECTRODOMESTICOS ESPANA SA\",\"address\":{\"street\":\"RONDA CANAL IMPERIAL DE ARAGON NUM 18 PARQUE EMPRESARIAL PLA-ZA\",\"city\":\"ZARAGOZA\",\"postalCode\":\"50197\"},\"country\":{\"name\":\"Spain\",\"isoCode\":\"ES\",\"euCode\":\"ES\"},\"terminated\":false,\"order\":54,\"activityType\":\"Private for-profit entities (excluding Higher or Secondary Education Establishments)\",\"contribution\":522000,\"netEcContribution\":522000,\"nonEcContribution\":2088000,\"formula\":\"participant: 2610000 - 522000 - 0\",\"website\":\"http:\\\\/\\\\/www.bshg.com\",\"email\":\"\",\"type\":\"participant\",\"contacts\":[],\"organizationId\":\"996491962\",\"rcn\":\"1950230\",\"active\":true,\"sme\":false,\"regions\":\"Noreste|Arag\\\\u00f3n|Zaragoza\"},{\"name\":\"Construcciones y Auxiliar de Ferrocarriles, S.A.\",\"address\":{\"street\":\"Jos\\\\u00e9 Miguel Iturrioz 26\",\"city\":\"Beasain\",\"postalCode\":\"20200\"},\"country\":{\"name\":\"Spain\",\"isoCode\":\"ES\",\"euCode\":\"ES\"},\"terminated\":false,\"order\":55,\"activityType\":\"Private for-profit entities (excluding Higher or Secondary Education Establishments)\",\"contribution\":150812.25,\"netEcContribution\":31199.75,\"nonEcContribution\":124799,\"formula\":\"participant: 497748.75 - 31199.75 - 341750\",\"website\":\"http:\\\\/\\\\/www.caf.net\",\"email\":\"\",\"type\":\"participant\",\"contacts\":[],\"organizationId\":\"997579138\",\"rcn\":\"1910617\",\"active\":true,\"sme\":false,\"regions\":\"Noreste|Pa\\\\u00eds Vasco|Gipuzkoa\"},{\"name\":\"CONSTRUCCIONES Y AUXILIAR DE FERROCARRILES INVESTIGACION Y DESARROLLO SL\",\"address\":{\"street\":\"JOSE MIGUEL ITURRIOZ 26\",\"city\":\"BEASAIN\",\"postalCode\":\"20200\"},\"country\":{\"name\":\"Spain\",\"isoCode\":\"ES\",\"euCode\":\"ES\"},\"terminated\":false,\"order\":55,\"activityType\":\"Research Organisations\",\"contribution\":0,\"netEcContribution\":119612.5,\"nonEcContribution\":222137.5,\"formula\":\"thirdParty: 341750 - 119612.5\",\"website\":\"www.caf.net\",\"email\":\"\",\"type\":\"thirdParty\",\"contacts\":[],\"organizationId\":\"996515921\",\"rcn\":\"2137497\",\"active\":true,\"sme\":false,\"regions\":\"Noreste|Pa\\\\u00eds Vasco|Gipuzkoa\"},{\"name\":\"AGENCIA ESTATAL CONSEJO SUPERIOR DE INVESTIGACIONES CIENTIFICAS\",\"address\":{\"street\":\"CALLE SERRANO 117\",\"city\":\"MADRID\",\"postalCode\":\"28006\"},\"country\":{\"name\":\"Spain\",\"isoCode\":\"ES\",\"euCode\":\"ES\"},\"terminated\":false,\"order\":56,\"activityType\":\"Research Organisations\",\"contribution\":246575,\"netEcContribution\":246575,\"nonEcContribution\":457925,\"formula\":\"participant: 704500 - 246575 - 0\",\"website\":\"http:\\\\/\\\\/www.csic.es\",\"email\":\"\",\"type\":\"participant\",\"contacts\":[],\"organizationId\":\"999991722\",\"rcn\":\"1905575\",\"active\":true,\"sme\":false,\"regions\":\"Comunidad de Madrid|Comunidad de Madrid|Madrid\"},{\"name\":\"IKERLAN S. COOP\",\"address\":{\"street\":\"P JOSE MARIA ARIZMENDIARRIETA 2\",\"city\":\"MONDRAGON\",\"postalCode\":\"20500\"},\"country\":{\"name\":\"Spain\",\"isoCode\":\"ES\",\"euCode\":\"ES\"},\"terminated\":false,\"order\":57,\"activityType\":\"Research Organisations\",\"contribution\":235156.25,\"netEcContribution\":235156.25,\"nonEcContribution\":436718.75,\"formula\":\"participant: 671875 - 235156.25 - 0\",\"website\":\"http:\\\\/\\\\/www.ikerlan.es\",\"email\":\"\",\"type\":\"participant\",\"contacts\":[],\"organizationId\":\"999581315\",\"rcn\":\"1908646\",\"active\":true,\"sme\":false,\"regions\":\"Noreste|Pa\\\\u00eds Vasco|Gipuzkoa\"},{\"name\":\"KNOWLEDGE CENTRIC SOLUTIONS SL\",\"address\":{\"street\":\"CALLE MARGARITA SALAS 16 PARQUE TECNOLOGICO LEGATE\",\"city\":\"LEGANES MADRID\",\"postalCode\":\"28919\"},\"country\":{\"name\":\"Spain\",\"isoCode\":\"ES\",\"euCode\":\"ES\"},\"terminated\":false,\"order\":58,\"activityType\":\"Private for-profit entities (excluding Higher or Secondary Education Establishments)\",\"contribution\":144886.88,\"netEcContribution\":144886.88,\"nonEcContribution\":434660.62,\"formula\":\"participant: 579547.5 - 144886.88 - 0\",\"website\":\"\",\"email\":\"\",\"type\":\"participant\",\"contacts\":[],\"organizationId\":\"918244002\",\"rcn\":\"2733774\",\"active\":true,\"sme\":true,\"regions\":\"Comunidad de Madrid|Comunidad de Madrid|Madrid\"},{\"name\":\"UNIVERSIDAD DE CASTILLA - LA MANCHA\",\"address\":{\"street\":\"CALLE ALTAGRACIA 50\",\"city\":\"CIUDAD REAL\",\"postalCode\":\"13071\"},\"country\":{\"name\":\"Spain\",\"isoCode\":\"ES\",\"euCode\":\"ES\"},\"terminated\":false,\"order\":59,\"activityType\":\"Higher or Secondary Education Establishments\",\"contribution\":119270.38,\"netEcContribution\":119270.38,\"nonEcContribution\":221502.12,\"formula\":\"participant: 340772.5 - 119270.38 - 0\",\"website\":\"http:\\\\/\\\\/www.uclm.es\",\"email\":\"\",\"type\":\"participant\",\"contacts\":[],\"organizationId\":\"999840208\",\"rcn\":\"1916828\",\"active\":true,\"sme\":false,\"regions\":\"Castilla-La Mancha|Ciudad Real\"},{\"name\":\"UNIVERSIDAD CARLOS III DE MADRID\",\"address\":{\"street\":\"CALLE MADRID 126\",\"city\":\"GETAFE (MADRID)\",\"postalCode\":\"28903\"},\"country\":{\"name\":\"Spain\",\"isoCode\":\"ES\",\"euCode\":\"ES\"},\"terminated\":false,\"order\":60,\"activityType\":\"Higher or Secondary Education Establishments\",\"contribution\":170625,\"netEcContribution\":170625,\"nonEcContribution\":316875,\"formula\":\"participant: 487500 - 170625 - 0\",\"website\":\"http:\\\\/\\\\/www.uc3m.es\",\"email\":\"\",\"type\":\"participant\",\"contacts\":[],\"organizationId\":\"999899572\",\"rcn\":\"1908365\",\"active\":true,\"sme\":false,\"regions\":\"Comunidad de Madrid|Comunidad de Madrid|Madrid\"},{\"name\":\"ULMA MEDICAL TECHNOLOGIES S COOP\",\"address\":{\"street\":\"GARAGALTZA AUZOA  51\",\"city\":\"ONATI\",\"postalCode\":\"20560\"},\"country\":{\"name\":\"Spain\",\"isoCode\":\"ES\",\"euCode\":\"ES\"},\"terminated\":false,\"order\":61,\"activityType\":\"Private for-profit entities (excluding Higher or Secondary Education Establishments)\",\"contribution\":69250,\"netEcContribution\":69250,\"nonEcContribution\":207750,\"formula\":\"participant: 277000 - 69250 - 0\",\"website\":\"www.ulmaembedded.com\",\"email\":\"\",\"type\":\"participant\",\"contacts\":[],\"organizationId\":\"985706435\",\"rcn\":\"1918924\",\"active\":true,\"sme\":true,\"regions\":\"Noreste|Pa\\\\u00eds Vasco|Gipuzkoa\"},{\"name\":\"IWO PROJECT BV\",\"address\":{\"street\":\"ZWEERSLAAN 46\",\"city\":\"EDE\",\"postalCode\":\"6711 GG\"},\"country\":{\"name\":\"Netherlands\",\"isoCode\":\"NL\",\"euCode\":\"NL\"},\"terminated\":false,\"order\":63,\"activityType\":\"Private for-profit entities (excluding Higher or Secondary Education Establishments)\",\"contribution\":232878.13,\"netEcContribution\":232878.13,\"nonEcContribution\":698634.37,\"formula\":\"participant: 931512.5 - 232878.13 - 0\",\"website\":\"\",\"email\":\"\",\"type\":\"participant\",\"contacts\":[],\"organizationId\":\"906043342\",\"rcn\":\"1958302\",\"active\":true,\"sme\":true,\"regions\":\"Oost-Nederland|Gelderland|Veluwe\"},{\"name\":\"JIACO INSTRUMENTS BV\",\"address\":{\"street\":\"ACHTMANSTRAAT 21\",\"city\":\"DELFGAUW\",\"postalCode\":\"2645 MD\"},\"country\":{\"name\":\"Netherlands\",\"isoCode\":\"NL\",\"euCode\":\"NL\"},\"terminated\":false,\"order\":64,\"activityType\":\"Private for-profit entities (excluding Higher or Secondary Education Establishments)\",\"contribution\":140687.5,\"netEcContribution\":140687.5,\"nonEcContribution\":422062.5,\"formula\":\"participant: 562750 - 140687.5 - 0\",\"website\":\"\",\"email\":\"\",\"type\":\"participant\",\"contacts\":[],\"organizationId\":\"906058086\",\"rcn\":\"1958303\",\"active\":true,\"sme\":true,\"regions\":\"West-Nederland|Zuid-Holland|Agglomeratie \\\\u2019s-Gravenhage\"},{\"name\":\"TECHNISCHE UNIVERSITEIT DELFT\",\"address\":{\"street\":\"STEVINWEG 1\",\"city\":\"DELFT\",\"postalCode\":\"2628 CN\"},\"country\":{\"name\":\"Netherlands\",\"isoCode\":\"NL\",\"euCode\":\"NL\"},\"terminated\":false,\"order\":65,\"activityType\":\"Higher or Secondary Education Establishments\",\"contribution\":571129.56,\"netEcContribution\":571129.56,\"nonEcContribution\":1060669.19,\"formula\":\"participant: 1631798.75 - 571129.56 - 0\",\"website\":\"http:\\\\/\\\\/www.tudelft.nl\",\"email\":\"\",\"type\":\"participant\",\"contacts\":[],\"organizationId\":\"999977366\",\"rcn\":\"1905872\",\"active\":true,\"sme\":false,\"regions\":\"West-Nederland|Zuid-Holland|Delft en Westland\"},{\"name\":\"NEXPERIA BV\",\"address\":{\"street\":\"JONKERBOSPLEIN 52\",\"city\":\"NIJMEGEN\",\"postalCode\":\"6534 AB\"},\"country\":{\"name\":\"Netherlands\",\"isoCode\":\"NL\",\"euCode\":\"NL\"},\"terminated\":false,\"order\":66,\"activityType\":\"Private for-profit entities (excluding Higher or Secondary Education Establishments)\",\"contribution\":109416.5,\"netEcContribution\":109416.5,\"nonEcContribution\":437666,\"formula\":\"participant: 547082.5 - 109416.5 - 0\",\"website\":\"\",\"email\":\"\",\"type\":\"participant\",\"contacts\":[],\"organizationId\":\"912773202\",\"rcn\":\"3031572\",\"active\":true,\"sme\":false,\"regions\":\"Oost-Nederland|Gelderland|Arnhem\\\\/Nijmegen\"},{\"name\":\"SIGNIFY  NETHERLANDS BV\",\"address\":{\"street\":\"HIGH TECH CAMPUS 45\",\"city\":\"EINDHOVEN\",\"postalCode\":\"5656 AE\"},\"country\":{\"name\":\"Netherlands\",\"isoCode\":\"NL\",\"euCode\":\"NL\"},\"terminated\":false,\"order\":67,\"activityType\":\"Private for-profit entities (excluding Higher or Secondary Education Establishments)\",\"contribution\":485114.5,\"netEcContribution\":485114.5,\"nonEcContribution\":1940458,\"formula\":\"participant: 2425572.5 - 485114.5 - 0\",\"website\":\"www.philips.com\",\"email\":\"\",\"type\":\"participant\",\"contacts\":[],\"organizationId\":\"997593106\",\"rcn\":\"1912494\",\"active\":true,\"sme\":false,\"regions\":\"Noord-Brabant|Zuidoost-Noord-Brabant\"},{\"name\":\"ARCELIK A.S.\",\"address\":{\"street\":\"KARAAGAC, SUTLUCE BEYOGLU CAD. NO:2-6\",\"city\":\"ISTANBUL\",\"postalCode\":\"34445\"},\"country\":{\"name\":\"Turkey\",\"isoCode\":\"TR\",\"euCode\":\"TR\"},\"terminated\":false,\"order\":68,\"activityType\":\"Private for-profit entities (excluding Higher or Secondary Education Establishments)\",\"contribution\":100625,\"netEcContribution\":100625,\"nonEcContribution\":402500,\"formula\":\"participant: 503125 - 100625 - 0\",\"website\":\"http:\\\\/\\\\/www.arcelikas.com.tr\\\\/Cultures\\\\/en-US\\\\/\",\"email\":\"\",\"type\":\"participant\",\"contacts\":[],\"organizationId\":\"998821708\",\"rcn\":\"1908178\",\"active\":true,\"sme\":false,\"regions\":\"\\\\u0130stanbul|\\\\u0130stanbul|\\\\u0130stanbul\"},{\"name\":\"ENFORMA BILISIM ANONIM SIRKETI\",\"address\":{\"street\":\"BARBAROS MAH KARANFIL SK 7C\\\\/39 KENTPLUS SITESI C3\\\\/ ATASEHIR\",\"city\":\"ISTANBUL\",\"postalCode\":\"34746\"},\"country\":{\"name\":\"Turkey\",\"isoCode\":\"TR\",\"euCode\":\"TR\"},\"terminated\":false,\"order\":69,\"activityType\":\"Private for-profit entities (excluding Higher or Secondary Education Establishments)\",\"contribution\":131562.5,\"netEcContribution\":131562.5,\"nonEcContribution\":394687.5,\"formula\":\"participant: 526250 - 131562.5 - 0\",\"website\":\"\",\"email\":\"\",\"type\":\"participant\",\"contacts\":[],\"organizationId\":\"917671702\",\"rcn\":\"1964815\",\"active\":true,\"sme\":true,\"regions\":\"\\\\u0130stanbul|\\\\u0130stanbul|\\\\u0130stanbul\"},{\"name\":\"MARMARA UNIVERSITY\",\"address\":{\"street\":\"GOZTEPE KAMPUSU KUYUBASI\",\"city\":\"ISTANBUL\",\"postalCode\":\"81040\"},\"country\":{\"name\":\"Turkey\",\"isoCode\":\"TR\",\"euCode\":\"TR\"},\"terminated\":false,\"order\":70,\"activityType\":\"Higher or Secondary Education Establishments\",\"contribution\":285250,\"netEcContribution\":285250,\"nonEcContribution\":529750,\"formula\":\"participant: 815000 - 285250 - 0\",\"website\":\"http:\\\\/\\\\/www.marmara.edu.tr\",\"email\":\"\",\"type\":\"participant\",\"contacts\":[],\"organizationId\":\"998796682\",\"rcn\":\"1909662\",\"active\":true,\"sme\":false,\"regions\":\"\\\\u0130stanbul|\\\\u0130stanbul|\\\\u0130stanbul\"},{\"name\":\"PAVO TASARIM URETIM ELEKTRONIK TICARET ANONIM SIRKETI\",\"address\":{\"street\":\"TEKNOPARK ISTANBUL TEKNOLOJI GELISTIRME BOLGESI AR BINALAN 1 BLOK\",\"city\":\"ISTANBUL\",\"postalCode\":\"34912\"},\"country\":{\"name\":\"Turkey\",\"isoCode\":\"TR\",\"euCode\":\"TR\"},\"terminated\":false,\"order\":71,\"activityType\":\"Private for-profit entities (excluding Higher or Secondary Education Establishments)\",\"contribution\":196875,\"netEcContribution\":196875,\"nonEcContribution\":590625,\"formula\":\"participant: 787500 - 196875 - 0\",\"website\":\"\",\"email\":\"\",\"type\":\"participant\",\"contacts\":[],\"organizationId\":\"912436612\",\"rcn\":\"1964800\",\"active\":true,\"sme\":true,\"regions\":\"\\\\u0130stanbul|\\\\u0130stanbul|\\\\u0130stanbul\"},{\"name\":\"ELAPHE POGONSKE TEHNOLOGIJE DOO\",\"address\":{\"street\":\"TESLOVA ULICA 30\",\"city\":\"LJUBLJANA\",\"postalCode\":\"1000\"},\"country\":{\"name\":\"Slovenia\",\"isoCode\":\"SI\",\"euCode\":\"SI\"},\"terminated\":false,\"order\":72,\"activityType\":\"Private for-profit entities (excluding Higher or Secondary Education Establishments)\",\"contribution\":86250,\"netEcContribution\":86250,\"nonEcContribution\":345000,\"formula\":\"participant: 431250 - 86250 - 0\",\"website\":\"www.in-wheel.com\",\"email\":\"\",\"type\":\"participant\",\"contacts\":[],\"organizationId\":\"973208470\",\"rcn\":\"2190648\",\"active\":true,\"sme\":true,\"regions\":\"Slovenija|Zahodna Slovenija|Osrednjeslovenska\"},{\"name\":\"INSTITUT JOZEF STEFAN\",\"address\":{\"street\":\"Jamova 39\",\"city\":\"LJUBLJANA\",\"postalCode\":\"1000\"},\"country\":{\"name\":\"Slovenia\",\"isoCode\":\"SI\",\"euCode\":\"SI\"},\"terminated\":false,\"order\":73,\"activityType\":\"Research Organisations\",\"contribution\":192281.25,\"netEcContribution\":192281.25,\"nonEcContribution\":357093.75,\"formula\":\"participant: 549375 - 192281.25 - 0\",\"website\":\"http:\\\\/\\\\/www.ijs.si\\\\/\",\"email\":\"\",\"type\":\"participant\",\"contacts\":[],\"organizationId\":\"999971837\",\"rcn\":\"1905812\",\"active\":true,\"sme\":false,\"regions\":\"Slovenija|Zahodna Slovenija|Osrednjeslovenska\"},{\"name\":\"IDRYMA TECHNOLOGIAS KAI EREVNAS\",\"address\":{\"street\":\"N PLASTIRA STR 100\",\"city\":\"IRAKLEIO\",\"postalCode\":\"70013\"},\"country\":{\"name\":\"Greece\",\"isoCode\":\"EL\",\"euCode\":\"EL\"},\"terminated\":false,\"order\":75,\"activityType\":\"Research Organisations\",\"contribution\":288750,\"netEcContribution\":288750,\"nonEcContribution\":536250,\"formula\":\"participant: 825000 - 288750 - 0\",\"website\":\"http:\\\\/\\\\/www.forth.gr\",\"email\":\"\",\"type\":\"participant\",\"contacts\":[],\"organizationId\":\"999995893\",\"rcn\":\"1906526\",\"active\":true,\"sme\":false,\"regions\":\"\\\\u0397\\\\u03c1\\\\u03ac\\\\u03ba\\\\u03bb\\\\u03b5\\\\u03b9\\\\u03bf|\\\\u039a\\\\u03c1\\\\u03ae\\\\u03c4\\\\u03b7|\\\\u039d\\\\u03b7\\\\u03c3\\\\u03b9\\\\u03ac \\\\u0391\\\\u03b9\\\\u03b3\\\\u03b1\\\\u03af\\\\u03bf\\\\u03c5\"},{\"name\":\"THALES\",\"address\":{\"street\":\"TOUR CARPE DIEM PLACE DES COROLLES ESPLANADE NORD\",\"city\":\"COURBEVOIE\",\"postalCode\":\"92400\"},\"country\":{\"name\":\"France\",\"isoCode\":\"FR\",\"euCode\":\"FR\"},\"terminated\":false,\"order\":76,\"activityType\":\"Private for-profit entities (excluding Higher or Secondary Education Establishments)\",\"contribution\":231575,\"netEcContribution\":231575,\"nonEcContribution\":926300,\"formula\":\"participant: 1157875 - 231575 - 0\",\"website\":\"http:\\\\/\\\\/www.thalesgroup.com\",\"email\":\"\",\"type\":\"participant\",\"contacts\":[],\"organizationId\":\"999751938\",\"rcn\":\"1909968\",\"active\":true,\"sme\":false,\"regions\":\"Ile-de-France|Ile-de-France|Hauts-de-Seine \"},{\"name\":\"UNITED MONOLITHIC SEMICONDUCTORS SAS\",\"address\":{\"street\":\"AV DU QUEBEC 10 BATIMENT CHARMILLE PARC SILIC DE VILLEBON COURTABOEUF\",\"city\":\"VILLEBON SUR YVETTE\",\"postalCode\":\"91140\"},\"country\":{\"name\":\"France\",\"isoCode\":\"FR\",\"euCode\":\"FR\"},\"terminated\":false,\"order\":77,\"activityType\":\"Private for-profit entities (excluding Higher or Secondary Education Establishments)\",\"contribution\":21146.75,\"netEcContribution\":21146.75,\"nonEcContribution\":84587,\"formula\":\"participant: 105733.75 - 21146.75 - 0\",\"website\":\"http:\\\\/\\\\/www.ums-gaas.com\",\"email\":\"\",\"type\":\"participant\",\"contacts\":[],\"organizationId\":\"996281278\",\"rcn\":\"1956885\",\"active\":true,\"sme\":false,\"regions\":\"Ile-de-France|Ile-de-France|Essonne\"},{\"name\":\"UNIVERSITE LYON 1 CLAUDE BERNARD\",\"address\":{\"street\":\"BOULEVARD DU 11 NOVEMBRE 1918 NUM43\",\"city\":\"VILLEURBANNE CEDEX\",\"postalCode\":\"69622\"},\"country\":{\"name\":\"France\",\"isoCode\":\"FR\",\"euCode\":\"FR\"},\"terminated\":false,\"order\":78,\"activityType\":\"Higher or Secondary Education Establishments\",\"contribution\":231938.44,\"netEcContribution\":231938.44,\"nonEcContribution\":430742.81,\"formula\":\"participant: 662681.25 - 231938.44 - 0\",\"website\":\"http:\\\\/\\\\/www.univ-Iyon1.fr\",\"email\":\"\",\"type\":\"participant\",\"contacts\":[],\"organizationId\":\"999902579\",\"rcn\":\"1907071\",\"active\":true,\"sme\":false,\"regions\":\"Auvergne-Rh\\\\u00f4ne-Alpes|Rh\\\\u00f4ne-Alpes|Rh\\\\u00f4ne\"},{\"name\":\"III-V LAB\",\"address\":{\"street\":\"1 AVENUE AUGUSTIN FRESNEL CAMPUS POLYTECHNIQUE\",\"city\":\"PALAISEAU CEDEX\",\"postalCode\":\"91767\"},\"country\":{\"name\":\"France\",\"isoCode\":\"FR\",\"euCode\":\"FR\"},\"terminated\":false,\"order\":79,\"activityType\":\"Other\",\"contribution\":679163.5,\"netEcContribution\":679163.5,\"nonEcContribution\":2716654,\"formula\":\"participant: 3395817.5 - 679163.5 - 0\",\"website\":\"http:\\\\/\\\\/www.3-5lab.fr\",\"email\":\"\",\"type\":\"participant\",\"contacts\":[],\"organizationId\":\"999971546\",\"rcn\":\"1910169\",\"active\":true,\"sme\":false,\"regions\":\"Ile-de-France|Ile-de-France|Essonne\"}'\n",
            " '{\"name\":\"HENKEL ELECTRONIC MATERIALS BELGIUMNV\",\"address\":{\"street\":\"NIJVERHEIDSSTRAAT 7\",\"city\":\"WESTERLO\",\"postalCode\":\"2260\"},\"country\":{\"name\":\"Belgium\",\"isoCode\":\"BE\",\"euCode\":\"BE\"},\"terminated\":false,\"order\":2,\"activityType\":\"Private for-profit entities (excluding Higher or Secondary Education Establishments)\",\"contribution\":341687.5,\"netEcContribution\":null,\"nonEcContribution\":null,\"formula\":\"participant: \",\"website\":\"\",\"email\":\"\",\"type\":\"participant\",\"contacts\":[],\"organizationId\":\"996330069\",\"rcn\":\"2532386\",\"active\":true,\"sme\":false,\"regions\":\"Vlaams Gewest|Prov. Antwerpen|Arr. Turnhout\"},{\"name\":\"PRAGMATIC SEMICONDUCTOR LIMITED\",\"address\":{\"street\":\"NATIONAL CENTRE FOR PRINTABLE ELECT RONICS THOMAS  T WAY NETPARK SEDGEFIELD STOCKTON ON TEE S\",\"city\":\"CLEVELAND\",\"postalCode\":\"TS21 3FG\"},\"country\":{\"name\":\"United Kingdom\",\"isoCode\":\"GB\",\"euCode\":\"UK\"},\"terminated\":false,\"order\":3,\"activityType\":\"Private for-profit entities (excluding Higher or Secondary Education Establishments)\",\"contribution\":558687.5,\"netEcContribution\":null,\"nonEcContribution\":null,\"formula\":\"participant: \",\"website\":\"\",\"email\":\"\",\"type\":\"participant\",\"contacts\":[],\"organizationId\":\"952007083\",\"rcn\":\"2427563\",\"active\":true,\"sme\":false,\"regions\":\"North East (England)|Tees Valley and Durham|Durham CC\"},{\"name\":\"TEKNOLOGISK INSTITUT\",\"address\":{\"street\":\"GREGERSENSVEJ 1\",\"city\":\"TAASTRUP\",\"postalCode\":\"2630\"},\"country\":{\"name\":\"Denmark\",\"isoCode\":\"DK\",\"euCode\":\"DK\"},\"terminated\":false,\"order\":4,\"activityType\":\"Research Organisations\",\"contribution\":753375,\"netEcContribution\":null,\"nonEcContribution\":null,\"formula\":\"participant: \",\"website\":\"http:\\\\/\\\\/www.teknologisk.dk\",\"email\":\"\",\"type\":\"participant\",\"contacts\":[],\"organizationId\":\"999460356\",\"rcn\":\"1907309\",\"active\":true,\"sme\":false,\"regions\":\"Danmark|Hovedstaden|K\\\\u00f8benhavns omegn\"},{\"name\":\"CONTITECH ELASTOMER-BESCHICHTUNGEN GMBH\",\"address\":{\"street\":\"VAHRENWALDER 9\",\"city\":\"HANNOVER\",\"postalCode\":\"30165\"},\"country\":{\"name\":\"Germany\",\"isoCode\":\"DE\",\"euCode\":\"DE\"},\"terminated\":false,\"order\":5,\"activityType\":\"Private for-profit entities (excluding Higher or Secondary Education Establishments)\",\"contribution\":437500,\"netEcContribution\":null,\"nonEcContribution\":null,\"formula\":\"participant: \",\"website\":\"\",\"email\":\"\",\"type\":\"participant\",\"contacts\":[],\"organizationId\":\"924003280\",\"rcn\":\"2718810\",\"active\":true,\"sme\":false,\"regions\":\"\"},{\"name\":\"NANOGAP SUB-NM-POWDER SA\",\"address\":{\"street\":\"RUA DA XESTA NAVE 78A2\",\"city\":\"AMES A CORUNA\",\"postalCode\":\"15895\"},\"country\":{\"name\":\"Spain\",\"isoCode\":\"ES\",\"euCode\":\"ES\"},\"terminated\":false,\"order\":6,\"activityType\":\"Private for-profit entities (excluding Higher or Secondary Education Establishments)\",\"contribution\":224700,\"netEcContribution\":null,\"nonEcContribution\":null,\"formula\":\"participant: \",\"website\":\"http:\\\\/\\\\/www.nanogap.es\",\"email\":\"\",\"type\":\"participant\",\"contacts\":[],\"organizationId\":\"992092042\",\"rcn\":\"1907756\",\"active\":true,\"sme\":false,\"regions\":\"Galicia|A Coru\\\\u00f1a\"},{\"name\":\"THOMAS SWAN \\\\u0026 CO LIMITED\",\"address\":{\"street\":\"ROTARY WAY\",\"city\":\"CONSETT\",\"postalCode\":\"DH8 7ND\"},\"country\":{\"name\":\"United Kingdom\",\"isoCode\":\"GB\",\"euCode\":\"UK\"},\"terminated\":false,\"order\":7,\"activityType\":\"Private for-profit entities (excluding Higher or Secondary Education Establishments)\",\"contribution\":518000,\"netEcContribution\":null,\"nonEcContribution\":null,\"formula\":\"participant: \",\"website\":\"www.thomas-swan.co.uk\",\"email\":\"\",\"type\":\"participant\",\"contacts\":[],\"organizationId\":\"984372103\",\"rcn\":\"1933161\",\"active\":true,\"sme\":false,\"regions\":\"\"},{\"name\":\"BSH ELECTRODOMESTICOS ESPANA SA\",\"address\":{\"street\":\"RONDA CANAL IMPERIAL DE ARAGON NUM 18 PARQUE EMPRESARIAL PLA-ZA\",\"city\":\"ZARAGOZA\",\"postalCode\":\"50197\"},\"country\":{\"name\":\"Spain\",\"isoCode\":\"ES\",\"euCode\":\"ES\"},\"terminated\":false,\"order\":8,\"activityType\":\"Private for-profit entities (excluding Higher or Secondary Education Establishments)\",\"contribution\":76947.5,\"netEcContribution\":null,\"nonEcContribution\":null,\"formula\":\"participant: \",\"website\":\"http:\\\\/\\\\/www.bshg.com\",\"email\":\"\",\"type\":\"participant\",\"contacts\":[],\"organizationId\":\"996491962\",\"rcn\":\"1950230\",\"active\":true,\"sme\":false,\"regions\":\"Noreste|Arag\\\\u00f3n|Zaragoza\"},{\"name\":\"HENKEL KGaA\",\"address\":{\"street\":\"HENKELSTRASSE  67\",\"city\":\"DUSSELDORF\",\"postalCode\":\"40191\"},\"country\":{\"name\":\"Germany\",\"isoCode\":\"DE\",\"euCode\":\"DE\"},\"terminated\":false,\"order\":9,\"activityType\":\"Private for-profit entities (excluding Higher or Secondary Education Establishments)\",\"contribution\":308000,\"netEcContribution\":null,\"nonEcContribution\":null,\"formula\":\"participant: \",\"website\":\"http:\\\\/\\\\/www.henkel.com\",\"email\":\"\",\"type\":\"participant\",\"contacts\":[],\"organizationId\":\"998821902\",\"rcn\":\"2119671\",\"active\":true,\"sme\":false,\"regions\":\"Nordrhein-Westfalen|D\\\\u00fcsseldorf|D\\\\u00fcsseldorf, Kreisfreie Stadt\"},{\"name\":\"CROWN PACKAGING MANUFACTURING UK LIMITED\",\"address\":{\"street\":\"BORLAND AVENUE BOTCHERBY\",\"city\":\"CARLISLE\",\"postalCode\":\"CA1 2TL\"},\"country\":{\"name\":\"United Kingdom\",\"isoCode\":\"GB\",\"euCode\":\"UK\"},\"terminated\":false,\"order\":10,\"activityType\":\"Private for-profit entities (excluding Higher or Secondary Education Establishments)\",\"contribution\":171937.5,\"netEcContribution\":null,\"nonEcContribution\":null,\"formula\":\"participant: \",\"website\":\"\",\"email\":\"\",\"type\":\"participant\",\"contacts\":[],\"organizationId\":\"916828287\",\"rcn\":\"2718815\",\"active\":true,\"sme\":false,\"regions\":\"\"},{\"name\":\"FRAUNHOFER GESELLSCHAFT ZUR FORDERUNG DER ANGEWANDTEN FORSCHUNG EV\",\"address\":{\"street\":\"HANSASTRASSE 27C\",\"city\":\"MUNCHEN\",\"postalCode\":\"80686\"},\"country\":{\"name\":\"Germany\",\"isoCode\":\"DE\",\"euCode\":\"DE\"},\"terminated\":false,\"order\":11,\"activityType\":\"Research Organisations\",\"contribution\":648777.5,\"netEcContribution\":null,\"nonEcContribution\":null,\"formula\":\"participant: \",\"website\":\"http:\\\\/\\\\/www.fraunhofer.de\",\"email\":\"\",\"type\":\"participant\",\"contacts\":[],\"organizationId\":\"999984059\",\"rcn\":\"1905912\",\"active\":true,\"sme\":false,\"regions\":\"Bayern|Oberbayern|M\\\\u00fcnchen, Kreisfreie Stadt\"},{\"name\":\"TYOTERVEYSLAITOS\",\"address\":{\"street\":\"TOPELIUKSENKATU 41 B\",\"city\":\"HELSINKI\",\"postalCode\":\"00250\"},\"country\":{\"name\":\"Finland\",\"isoCode\":\"FI\",\"euCode\":\"FI\"},\"terminated\":false,\"order\":12,\"activityType\":\"Research Organisations\",\"contribution\":280051.25,\"netEcContribution\":null,\"nonEcContribution\":null,\"formula\":\"participant: \",\"website\":\"http:\\\\/\\\\/www.ttl.fi\",\"email\":\"\",\"type\":\"participant\",\"contacts\":[],\"organizationId\":\"999880948\",\"rcn\":\"1914767\",\"active\":true,\"sme\":false,\"regions\":\"Manner-Suomi|Helsinki-Uusimaa|Helsinki-Uusimaa\"},{\"name\":\"NXP SEMICONDUCTORS BELGIUM NV\",\"address\":{\"street\":\"INTERLEUVENLAAN 80\",\"city\":\"LEUVEN\",\"postalCode\":\"3001\"},\"country\":{\"name\":\"Belgium\",\"isoCode\":\"BE\",\"euCode\":\"BE\"},\"terminated\":false,\"order\":13,\"activityType\":\"Private for-profit entities (excluding Higher or Secondary Education Establishments)\",\"contribution\":351750,\"netEcContribution\":null,\"nonEcContribution\":null,\"formula\":\"participant: \",\"website\":\"\",\"email\":\"\",\"type\":\"participant\",\"contacts\":[],\"organizationId\":\"999949236\",\"rcn\":\"1906069\",\"active\":true,\"sme\":false,\"regions\":\"Vlaams Gewest|Prov. Vlaams-Brabant|Arr. Leuven\"}'\n",
            " ''\n",
            " '{\"name\":\"AVANZARE INNOVACION TECNOLOGICA SL\",\"address\":{\"street\":\"AVENIDA LENTISCARES 4 6\",\"city\":\"NAVARRETE\",\"postalCode\":\"26370\"},\"country\":{\"name\":\"Spain\",\"isoCode\":\"ES\",\"euCode\":\"ES\"},\"terminated\":false,\"order\":2,\"activityType\":\"Private for-profit entities (excluding Higher or Secondary Education Establishments)\",\"contribution\":153462.43,\"netEcContribution\":null,\"nonEcContribution\":null,\"formula\":\"participant: \",\"website\":\"http:\\\\/\\\\/www.avanzare.es\",\"email\":\"KABFIWobILvYF5wO4pjVC5nF3ZPXJjclIy97YWCQFCc=\",\"type\":\"participant\",\"contacts\":[{\"position\":\"relatedContact\",\"title\":\"Dr.\",\"name\":\"Julio Gomez\",\"phone\":\"+34-941587027\",\"email\":\"KABFIWobILvYF5wO4pjVC5nF3ZPXJjclIy97YWCQFCc=\",\"fax\":\"+34-941589143\"}],\"organizationId\":\"997826294\",\"rcn\":\"1937281\",\"active\":true,\"sme\":false,\"regions\":\"Noreste|La Rioja|La Rioja\"},{\"name\":\"POLYRAZ PLASTICS INDUSTRIES\",\"address\":{\"street\":\"Kibbutz Maoz Haim\",\"city\":\"MAOZ HAIM\",\"postalCode\":\"10845\"},\"country\":{\"name\":\"Israel\",\"isoCode\":\"IL\",\"euCode\":\"IL\"},\"terminated\":false,\"order\":3,\"activityType\":\"Private for-profit entities (excluding Higher or Secondary Education Establishments)\",\"contribution\":85265.24,\"netEcContribution\":null,\"nonEcContribution\":null,\"formula\":\"participant: \",\"website\":\"\",\"email\":\"oPhNoOeS2QYeBZ1OcmCjTQY+LFKOqJW6HHvRRe9myok=\",\"type\":\"participant\",\"contacts\":[{\"position\":\"relatedContact\",\"title\":\"Mr.\",\"name\":\"Gal Segev\",\"phone\":\"+972-4-6064671\",\"email\":\"oPhNoOeS2QYeBZ1OcmCjTQY+LFKOqJW6HHvRRe9myok=\",\"fax\":\"+972-4-6064800\"}],\"organizationId\":\"996695759\",\"rcn\":\"1991563\",\"active\":true,\"sme\":false,\"regions\":\"\"},{\"name\":\"INEA INFORMATIZACIJA ENERGETIKA AVTOMATIZACIJA DOO\",\"address\":{\"street\":\"STEGNE 11\",\"city\":\"LJUBLJANA\",\"postalCode\":\"1000\"},\"country\":{\"name\":\"Slovenia\",\"isoCode\":\"SI\",\"euCode\":\"SI\"},\"terminated\":false,\"order\":4,\"activityType\":\"Private for-profit entities (excluding Higher or Secondary Education Establishments)\",\"contribution\":89158.29,\"netEcContribution\":null,\"nonEcContribution\":null,\"formula\":\"participant: \",\"website\":\"www.inea.si\",\"email\":\"E9kt4DmXRo1isQJj2SdJluT\\\\/MubHGz4QGOPhKrvtY6c=\",\"type\":\"participant\",\"contacts\":[{\"position\":\"relatedContact\",\"title\":\"Mr.\",\"name\":\"Igor Steiner\",\"phone\":\"+386-1-5138-117\",\"email\":\"E9kt4DmXRo1isQJj2SdJluT\\\\/MubHGz4QGOPhKrvtY6c=\",\"fax\":\"+386-1-5138-170\"}],\"organizationId\":\"996906055\",\"rcn\":\"1921926\",\"active\":true,\"sme\":false,\"regions\":\"Slovenija|Zahodna Slovenija|Osrednjeslovenska\"},{\"name\":\"AKUMPLAST AD\",\"address\":{\"street\":\"ULICA P ATANASOV 20\",\"city\":\"DOBRICH\",\"postalCode\":\"9300\"},\"country\":{\"name\":\"Bulgaria\",\"isoCode\":\"BG\",\"euCode\":\"BG\"},\"terminated\":false,\"order\":5,\"activityType\":\"Private for-profit entities (excluding Higher or Secondary Education Establishments)\",\"contribution\":114678.37,\"netEcContribution\":null,\"nonEcContribution\":null,\"formula\":\"participant: \",\"website\":\"www.akumplast.com\",\"email\":\"4s\\\\/YiHCWIGjxAPpphzzbo1aQmE0TDWkJIOSAmCW0+gY=\",\"type\":\"participant\",\"contacts\":[{\"position\":\"relatedContact\",\"title\":\"Ms.\",\"name\":\"Desislava Stojanova\",\"phone\":\"+359 58 602793\",\"email\":\"4s\\\\/YiHCWIGjxAPpphzzbo1aQmE0TDWkJIOSAmCW0+gY=\",\"fax\":\"+359 58 602792\"}],\"organizationId\":\"989324050\",\"rcn\":\"1991554\",\"active\":true,\"sme\":false,\"regions\":\"\\\\u0421\\\\u0435\\\\u0432\\\\u0435\\\\u0440\\\\u043d\\\\u0430 \\\\u0438 \\\\u042e\\\\u0433\\\\u043e\\\\u0438\\\\u0437\\\\u0442\\\\u043e\\\\u0447\\\\u043d\\\\u0430 \\\\u0411\\\\u044a\\\\u043b\\\\u0433\\\\u0430\\\\u0440\\\\u0438\\\\u044f|\\\\u0421\\\\u0435\\\\u0432\\\\u0435\\\\u0440\\\\u043e\\\\u0438\\\\u0437\\\\u0442\\\\u043e\\\\u0447\\\\u0435\\\\u043d|\\\\u0414\\\\u043e\\\\u0431\\\\u0440\\\\u0438\\\\u0447\"},{\"name\":\"TECHNOPLAST PROTOTYPING IPARI ES KERESKEDELMI KFT\",\"address\":{\"street\":\"Vasgyari utca 43\",\"city\":\"MISKOLC\",\"postalCode\":\"3540\"},\"country\":{\"name\":\"Hungary\",\"isoCode\":\"HU\",\"euCode\":\"HU\"},\"terminated\":false,\"order\":6,\"activityType\":\"Private for-profit entities (excluding Higher or Secondary Education Establishments)\",\"contribution\":109089.37,\"netEcContribution\":null,\"nonEcContribution\":null,\"formula\":\"participant: \",\"website\":\"www.technoplast.hu\",\"email\":\"kTNgkMSokD+t8RKjWv3IkQf+q3POCzVB5\\\\/lLOALkosU=\",\"type\":\"participant\",\"contacts\":[{\"position\":\"relatedContact\",\"title\":\"Mr.\",\"name\":\"Peter Zai\",\"phone\":\"+36-209333563\",\"email\":\"kTNgkMSokD+t8RKjWv3IkQf+q3POCzVB5\\\\/lLOALkosU=\",\"fax\":\"+36-46402523\"}],\"organizationId\":\"996487015\",\"rcn\":\"2134015\",\"active\":true,\"sme\":false,\"regions\":\"\"},{\"name\":\"FAURECIA INTERIOR SYSTEMS SALC ESPANA S.L.\",\"address\":{\"street\":\"Autovia A-3 Madrid-Valencia km 344,5\",\"city\":\"QUART DE POBLET\",\"postalCode\":\"46930\"},\"country\":{\"name\":\"Spain\",\"isoCode\":\"ES\",\"euCode\":\"ES\"},\"terminated\":false,\"order\":7,\"activityType\":\"Private for-profit entities (excluding Higher or Secondary Education Establishments)\",\"contribution\":22395.6,\"netEcContribution\":null,\"nonEcContribution\":null,\"formula\":\"participant: \",\"website\":\"www.faurecia.com\",\"email\":\"N4pSgVoaSxsuPoLhGlr43K2klf8rjIOZUUt7tI3UwaU=\",\"type\":\"participant\",\"contacts\":[{\"position\":\"relatedContact\",\"title\":\"Mr.\",\"name\":\"Joaquin Martin Perez\",\"phone\":\"+34-961960077\",\"email\":\"N4pSgVoaSxsuPoLhGlr43K2klf8rjIOZUUt7tI3UwaU=\",\"fax\":\"+34-961960056\"}],\"organizationId\":\"997488831\",\"rcn\":\"2134019\",\"active\":true,\"sme\":false,\"regions\":\"\"},{\"name\":\"BSH ELECTRODOMESTICOS ESPANA SA\",\"address\":{\"street\":\"RONDA CANAL IMPERIAL DE ARAGON NUM 18 PARQUE EMPRESARIAL PLA-ZA\",\"city\":\"ZARAGOZA\",\"postalCode\":\"50197\"},\"country\":{\"name\":\"Spain\",\"isoCode\":\"ES\",\"euCode\":\"ES\"},\"terminated\":false,\"order\":8,\"activityType\":\"Private for-profit entities (excluding Higher or Secondary Education Establishments)\",\"contribution\":31021.5,\"netEcContribution\":null,\"nonEcContribution\":null,\"formula\":\"participant: \",\"website\":\"http:\\\\/\\\\/www.bshg.com\",\"email\":\"t6BW1nN6ZL3yR59eQ7iB6xO+f5qS3A7qJOAT9eK0M38=\",\"type\":\"participant\",\"contacts\":[{\"position\":\"relatedContact\",\"title\":\"Mr.\",\"name\":\"Carlos Donaire\",\"phone\":\"+34-97-6578256\",\"email\":\"t6BW1nN6ZL3yR59eQ7iB6xO+f5qS3A7qJOAT9eK0M38=\",\"fax\":\"+34-97-6578556\"}],\"organizationId\":\"996491962\",\"rcn\":\"1950230\",\"active\":true,\"sme\":false,\"regions\":\"Noreste|Arag\\\\u00f3n|Zaragoza\"},{\"name\":\"INSTITUTO DE TECNOLOGIAS QUIMICAS EMERGENTES DE LA RIOJA ASOCIACION\",\"address\":{\"street\":\"CALLE SAN FRANCISCO 11\",\"city\":\"NAVARRETE LA RIOJA\",\"postalCode\":\"26370\"},\"country\":{\"name\":\"Spain\",\"isoCode\":\"ES\",\"euCode\":\"ES\"},\"terminated\":false,\"order\":9,\"activityType\":\"Research Organisations\",\"contribution\":2159.77,\"netEcContribution\":null,\"nonEcContribution\":null,\"formula\":\"participant: \",\"website\":\"www.interquimica.org\",\"email\":\"BrvmOhzLrs8X\\\\/8lvhkZEX0ZSL9GPbZaKCxR6Kjb\\\\/cYE=\",\"type\":\"participant\",\"contacts\":[{\"position\":\"relatedContact\",\"title\":\"Dr.\",\"name\":\"Andres Perez\",\"phone\":\"+34-941265276\",\"email\":\"BrvmOhzLrs8X\\\\/8lvhkZEX0ZSL9GPbZaKCxR6Kjb\\\\/cYE=\",\"fax\":\"\"}],\"organizationId\":\"995446011\",\"rcn\":\"2134016\",\"active\":true,\"sme\":false,\"regions\":\"Noreste|La Rioja|La Rioja\"},{\"name\":\"SZECHENYI ISTVAN EGYETEM\",\"address\":{\"street\":\"EGYETEM TER 1\",\"city\":\"GYOR\",\"postalCode\":\"9026\"},\"country\":{\"name\":\"Hungary\",\"isoCode\":\"HU\",\"euCode\":\"HU\"},\"terminated\":false,\"order\":10,\"activityType\":\"Higher or Secondary Education Establishments\",\"contribution\":2112.48,\"netEcContribution\":null,\"nonEcContribution\":null,\"formula\":\"participant: \",\"website\":\"http:\\\\/\\\\/uni.sze.hu\",\"email\":\"Tw21mqR0ghXYYCY\\\\/LraYnw==\",\"type\":\"participant\",\"contacts\":[{\"position\":\"relatedContact\",\"title\":\"Mr.\",\"name\":\"Gabor Dogossy\",\"phone\":\"+36-96-503400\\\\/3273\",\"email\":\"Tw21mqR0ghXYYCY\\\\/LraYnw==\",\"fax\":\"+36-96-613681\"}],\"organizationId\":\"999879590\",\"rcn\":\"1974292\",\"active\":true,\"sme\":false,\"regions\":\"Dun\\\\u00e1nt\\\\u00fal|Nyugat-Dun\\\\u00e1nt\\\\u00fal|Gy\\\\u0151r-Moson-Sopron\"}']\n",
            "339\n",
            "['Spain' 'Germany' 'Germany' 'Germany' 'Spain' 'Spain' 'Italy'\n",
            " 'United Kingdom' 'United Kingdom' 'Germany' 'Germany' 'Spain' 'Portugal'\n",
            " 'Germany' 'Netherlands' 'Belgium' 'Portugal' 'Portugal' 'Serbia'\n",
            " 'Belgium' 'Poland' 'Spain' 'Greece' 'Portugal' 'Portugal' 'Portugal'\n",
            " 'Germany' 'Netherlands' 'Netherlands' 'Netherlands' 'Netherlands' 'Italy'\n",
            " 'Greece' 'France' 'Greece' 'Slovenia' 'Belgium' 'France' 'Portugal'\n",
            " 'Portugal' 'Belgium' 'Belgium' 'Belgium' 'Belgium' 'Belgium'\n",
            " 'Netherlands' 'Greece' 'Greece' 'France' 'France' 'Belgium' 'France'\n",
            " 'France' 'Belgium' 'Switzerland' 'France' 'Belgium' 'France' 'Italy'\n",
            " 'Italy' 'Italy' 'Austria' 'Belgium' 'Spain' 'France' 'Belgium' 'Belgium'\n",
            " 'Germany' 'Belgium' 'Germany' 'Germany' 'Germany' 'Germany' 'Germany'\n",
            " 'Germany' 'Germany' 'Germany' 'Belgium' 'Belgium' 'Spain' 'Turkey'\n",
            " 'Romania' 'Portugal' 'Switzerland' 'Denmark' 'Spain' 'United Kingdom'\n",
            " 'Slovenia' 'Slovenia' 'United Kingdom' 'Germany' 'Spain' 'Slovenia'\n",
            " 'Spain' 'Belgium' 'Ireland' 'Italy' 'France' 'Spain' 'Portugal' 'Spain'\n",
            " 'Spain' 'Spain' 'Spain' 'Italy' 'Turkey' 'Spain' 'Spain' 'Spain'\n",
            " 'Belgium' 'Slovenia' 'Spain' 'Italy' 'Italy' 'Germany' 'France'\n",
            " 'United Kingdom' 'Turkey' 'Austria' 'Finland' 'Finland' 'Belgium'\n",
            " 'Belgium' 'France' 'Belgium' 'Belgium' 'Belgium' 'Netherlands' 'Spain'\n",
            " 'United Kingdom' 'Netherlands' 'Belgium' 'Netherlands' 'Italy' 'France'\n",
            " 'Netherlands' 'Germany' 'Spain' 'Italy' 'Italy' 'Germany' 'Spain'\n",
            " 'France' 'Luxembourg' 'Italy' 'Belgium' 'Denmark' 'Italy'\n",
            " 'United Kingdom' 'United Kingdom' 'United Kingdom' 'Netherlands'\n",
            " 'Belgium' 'Netherlands' 'United Kingdom' 'United Kingdom' 'Poland'\n",
            " 'Switzerland' 'United Kingdom' 'Spain' 'Spain' 'Sweden' 'United Kingdom'\n",
            " 'Cyprus' 'Spain' 'Switzerland' 'Greece' 'Germany' 'Netherlands'\n",
            " 'United Kingdom' 'United States' 'United States' 'Belgium' 'France'\n",
            " 'Belgium' 'France' 'Netherlands' 'Italy' 'Austria' 'Spain' 'Belgium'\n",
            " 'Netherlands' 'Italy' 'Belgium' 'United Kingdom' 'Belgium' 'Canada'\n",
            " 'Spain' 'Switzerland' 'Italy' 'Denmark' 'Italy' 'Belgium' 'Denmark'\n",
            " 'Belgium' 'United States' 'Netherlands' 'United Kingdom' 'Spain'\n",
            " 'Netherlands' 'Bulgaria' 'Hungary' 'United Kingdom' 'Spain' 'Spain'\n",
            " 'United Kingdom' 'Spain' 'Spain' 'Spain' 'Spain' 'Germany' 'Germany'\n",
            " 'Germany' 'Spain' 'Spain' 'Italy' 'United Kingdom' 'United Kingdom'\n",
            " 'Germany' 'Germany' 'Spain' 'Spain' 'Germany' 'Germany' 'Netherlands'\n",
            " 'Spain' 'France' 'Italy' 'United Kingdom' 'Germany' 'Germany' 'Spain'\n",
            " 'Germany' 'Belgium' 'Germany' 'Germany' 'France' 'Spain' 'Spain'\n",
            " 'Belgium' 'Italy' 'Germany' 'France' 'Germany' 'Italy' 'Spain'\n",
            " 'United Kingdom' 'United Kingdom' 'Germany' 'Austria' 'Austria' 'Austria'\n",
            " 'Austria' 'Austria' 'Austria' 'Austria' 'Austria' 'Austria' 'Germany'\n",
            " 'Germany' 'Germany' 'Germany' 'Germany' 'Germany' 'Germany' 'Austria'\n",
            " 'Germany' 'Germany' 'Germany' 'Germany' 'Germany' 'Germany' 'Germany'\n",
            " 'Germany' 'Germany' 'Germany' 'Germany' 'Slovakia' 'Slovakia' 'Sweden'\n",
            " 'Sweden' 'Sweden' 'Sweden' 'Sweden' 'Sweden' 'Finland' 'Finland'\n",
            " 'Finland' 'Finland' 'Finland' 'Belgium' 'Belgium' 'Belgium' 'Belgium'\n",
            " 'Belgium' 'Belgium' 'Italy' 'Italy' 'Italy' 'Italy' 'Italy' 'Italy'\n",
            " 'Italy' 'Italy' 'Spain' 'Spain' 'Spain' 'Spain' 'Spain' 'Spain' 'Spain'\n",
            " 'Spain' 'Spain' 'Spain' 'Netherlands' 'Netherlands' 'Netherlands'\n",
            " 'Netherlands' 'Netherlands' 'Turkey' 'Turkey' 'Turkey' 'Turkey'\n",
            " 'Slovenia' 'Slovenia' 'Greece' 'France' 'France' 'France' 'France'\n",
            " 'United Kingdom' 'Belgium' 'United Kingdom' 'Denmark' 'Germany' 'Spain'\n",
            " 'United Kingdom' 'Spain' 'Germany' 'United Kingdom' 'Germany' 'Finland'\n",
            " 'Belgium' 'Spain' 'Spain' 'Spain' 'Israel' 'Slovenia' 'Bulgaria'\n",
            " 'Hungary' 'Spain' 'Spain' 'Spain' 'Hungary']\n",
            "28\n",
            "['FP7', 'H2020']\n",
            "2\n"
          ]
        }
      ]
    },
    {
      "cell_type": "code",
      "source": [
        "a=soup2.get_text()\n",
        "pic1=a.find(\"\\\"pic\\\":\")\n",
        "pic2=a.find(\"\\\",\\\"legalName\")\n",
        "print(pic1+7, pic2)\n",
        "pic0=a[pic1+7:pic2]\n",
        "print(pic0)\n",
        "a1=a[a.find(\"Keywords\"):]\n",
        "\n",
        "Keywords=[]\n",
        "for i in range(0,5):\n",
        "  #n=\n",
        "  a1=a1[a1.find(\"text\")+7:]\n",
        "  a3=a1.find('\\\"')\n",
        "  #a1=\n",
        "  Keywords = np.append(Keywords, a1[:a3])\n",
        "\n",
        "print(Keywords)"
      ],
      "metadata": {
        "id": "UxfO1vlpQBPD",
        "outputId": "792ca24a-b920-4595-e29c-ba970c25721a",
        "colab": {
          "base_uri": "https://localhost:8080/"
        }
      },
      "execution_count": 522,
      "outputs": [
        {
          "output_type": "stream",
          "name": "stdout",
          "text": [
            "50 59\n",
            "998314786\n",
            "['Energy systems, smart energy, smart grids, wireless energy transfer'\n",
            " 'Internet of Things' 'interoperability' 'smart buildings' 'smart grids']\n"
          ]
        }
      ]
    },
    {
      "cell_type": "code",
      "source": [
        "!pip install python-docx\n",
        "from docx.shared import Pt\n",
        "from docx.shared import RGBColor"
      ],
      "metadata": {
        "id": "RyV5Y1WZQEeN",
        "outputId": "5b1f0aa1-dc14-4fef-8258-208fd9949bf2",
        "colab": {
          "base_uri": "https://localhost:8080/"
        }
      },
      "execution_count": 523,
      "outputs": [
        {
          "output_type": "stream",
          "name": "stdout",
          "text": [
            "Looking in indexes: https://pypi.org/simple, https://us-python.pkg.dev/colab-wheels/public/simple/\n",
            "Requirement already satisfied: python-docx in /usr/local/lib/python3.7/dist-packages (0.8.11)\n",
            "Requirement already satisfied: lxml>=2.3.2 in /usr/local/lib/python3.7/dist-packages (from python-docx) (4.2.6)\n"
          ]
        }
      ]
    },
    {
      "cell_type": "code",
      "source": [
        "d2=Partix2\n",
        "print(len(d2))\n",
        "print(d2)\n",
        "print(7 in d2.values())\n",
        "\n",
        "def getKeysByValue(dictOfElements, valueToFind):\n",
        "    listOfKeys = list()\n",
        "    listOfItems = dictOfElements.items()\n",
        "    for item  in listOfItems:\n",
        "        if item[1] == valueToFind:\n",
        "            listOfKeys.append(item[0])\n",
        "    return  listOfKeys\n",
        "#d = dict()\n",
        "listOfKeys = getKeysByValue(d2, 2)\n",
        "print(\"Keys with value equal to 7: \")\n",
        "#Iterate over the list of keys\n",
        "for key  in listOfKeys:\n",
        "        print(key)"
      ],
      "metadata": {
        "colab": {
          "base_uri": "https://localhost:8080/"
        },
        "id": "OnrNOjWLX3--",
        "outputId": "180c159c-3e37-4863-a0cb-a78aae3dce6e"
      },
      "execution_count": 524,
      "outputs": [
        {
          "output_type": "stream",
          "name": "stdout",
          "text": [
            "313\n",
            "{'BSH ELECTRODOMESTICOS ESPANA SA': 9, 'FRAUNHOFER GESELLSCHAFT ZUR FORDERUNG DER ANGEWANDTEN FORSCHUNG EV': 5, 'UNIVERSIDAD DE ZARAGOZA': 4, 'AGENCIA ESTATAL CONSEJO SUPERIOR DE INVESTIGACIONES CIENTIFICAS': 4, 'BSH HAUSGERATE GMBH': 3, 'ROBERT BOSCH GMBH': 3, '001-D18PublishableSummary2.pdf\",\"mimetype\":\"application\\\\/pdf\",\"title\":\"Publishable summary period 2\"}]},\"objective\":{\"projectDescription\":\"\\\\u003Cbr\\\\/\\\\u003ESmart Factories: Energy-aware, agile manufacturing and customisation\\\\u003Cbr\\\\/\\\\u003EPersonalised esthetical designs of household appliances \\\\u0022painted\\\\u0022 by new ultra-violet lasers (colour, size, text, pictures...)\\\\u003Cbr\\\\/\\\\u003E\",\"objective\":\"The future in manufacturing is oriented to more flexible and adaptable systems. Customization is also a great challenge and a way of giving added value to the products. And aesthetic personalization is one of the main ways for achieving customization.UV-Marking project aims at demonstrating that unitary customization (individual configurations\\\\/designs of each customer) is possible, by developing a new laser in the ultraviolet (UV) range that provides high quality marking on different materials.A final user will be able to select or create its own aesthetical design (colour, size, text, pictures...) using easy ICT applications and these will be marked easily by manufacturers using the new UV-laser system. The marking process will achieve high quality on marks, and high durability compared to current printed techniques.The new UV-laser system will help manufacturers with customized products, allowing shorter cycles, environmental friendliness, energy efficiency, higher integration and automation. One of the main goals will be to do the marking on-line at the end of the assembly line. It opens very interesting opportunities and possibilities for customization, but also for process optimization: delivery time, environmental impact, flexibility, shorter launching time, etc.The marking customization will be achieved by:\\\\u0095\\\\\\\\tDeveloping a new laser in the UV range\\\\u0095\\\\\\\\tAdapting existing materials for having a better beam absorption\\\\u0095\\\\\\\\tIntegrating the laser in the industrial process\\\\u0095\\\\\\\\tDeveloping a user application for demonstrating the unitary customization with real customersBSH, one of the most important companies of the home appliance sector, will lead the project. They are the perfect validators because they use several materials and aesthetics for commercial purposes is very important for them. ROFIN will be the laser developer, which is a leader company in this sector. U-MARQ is an ICT company that will work in the software for the integration of the laser in the industrial process, and the user application; WIRTHWEIN and DATALASE are leader companies and will work with plastic materials to improve the absorption properties and to obtain concrete colors different than black or white. ILVA and TORRECID will work in the field of glass and ceramic materials. Finally, 3 different groups of ICMA (from University of Zaragoza and CSIC) will participate as experts on laser and materials.\\\\u003Cbr\\\\/\\\\u003EThe company Merck has also contributed to UV-Marking during the first months of the project, before the incorporation of DATALASE.\",\"topics\":[{\"rcn\":\"16695\",\"code\":\"FoF-ICT-2011.7.1\",\"frameworkProgramme\":\"FP7\",\"id\":\"FP7_FoF-ICT-2011.7.1\",\"title\":\"Smart Factories: Energy-aware, agile manufacturing and customisation\",\"language\":\"en\"}],\"proposalMasterCall\":[],\"proposalSubCall\":[{\"rcn\":\"104304\",\"title\":\"FP7-2012-NMP-ICT-FoF\",\"identifier\":\"FP7-2012-NMP-ICT-FoF\",\"language\":\"en\"}],\"fundingScheme\":{\"code\":\"CP\",\"title\":\"Collaborative project (generic)\"}},\"organizations\":{\"coordinatorContact\":[{\"type\":\"relatedPpmContactPerson\",\"availableLanguages\":[\"en\"],\"rcn\":\"3573166\",\"title\":\"Mr\",\"firstNames\":\"Andr\\\\u00e9s\",\"lastName\":\"ESCART\\\\u00cdN BARDUZAL': 2, 'Merck KGaA': 2, 'Wirthwein AG': 2, 'ROFIN SINAR LASER GMBH': 2, 'TORRECID SA': 2, 'ILVA GLASS SPA': 2, 'U-MARQ LIMITED': 2, 'DATALASE LTD': 2, 'WIRTHWEIN GMBH & CO KG': 2, 'INESC TEC - INSTITUTO DE ENGENHARIADE SISTEMAS E COMPUTADORES, TECNOLOGIA E CIENCIA': 2, 'NEDERLANDSE ORGANISATIE VOOR TOEGEPAST NATUURWETENSCHAPPELIJK ONDERZOEK TNO': 2, 'INTERUNIVERSITAIR MICRO-ELECTRONICA CENTRUM': 2, 'POLITECNICO DI MILANO': 2, 'DEUTSCHES FORSCHUNGSZENTRUM FUR KUNSTLICHE INTELLIGENZ GMBH': 2, 'ATOS SPAIN SA': 2, 'TEKNOLOGIAN TUTKIMUSKESKUS VTT OY': 2, 'TECHNISCHE UNIVERSITEIT DELFT': 2, 'CENTRE TECHNOLOGIQUE ALPHANOV': 2, 'TECHNISCHE UNIVERSITAET DRESDEN': 2, 'EEBUS INITIATIVE EV': 1, 'VLAAMSE INSTELLING VOOR TECHNOLOGISCH ONDERZOEK N.V.': 1, 'E-REDES - DISTRIBUICAO DE ELETRICIDADE SA': 1, 'LABELEC ESTUDOS DESENVOLVIMENTO E ACTIVIDADES LABORATORIAIS SA': 1, 'FONDACIJA VIZLORE LABS': 1, 'TH!NK E': 1, 'FUNDINGBOX ACCELERATOR SP ZOO': 1, 'FUNDINGBOX COMMUNITIES SL': 1, 'WINGS ICT SOLUTIONS INFORMATION & COMMUNICATION TECHNOLOGIES IKE': 1, 'MC SHARED SERVICES SA': 1, 'MODELO CONTINENTE HIPERMERCADOS S.A.': 1, 'ELERGONE ENERGIA, LDA': 1, 'VOLKERWESSELS ICITY B.V.': 1, 'HYRDE BV': 1, 'VOLKER WESSELS TELECOM B.V.': 1, 'RECOGNIZE B.V.': 1, 'PLANET IDEA SRL': 1, 'GRIDNET S.A.': 1, 'YNCREA MEDITERRANEE': 1, 'ATHENS UNIVERSITY OF ECONOMICS AND BUSINESS - RESEARCH CENTER': 1, 'ELEKTRO LJUBLJANA PODJETJE ZADISTRIBUCIJO ELEKTRICNE ENERGIJE D.D.': 1, 'THERMOVAULT': 1, 'TRIALOG': 1, 'DOMOTICA SGTA GESTAO TECNICA E AUTOMACAO LDA': 1, 'SCHNEIDER ELECTRIC PORTUGAL LDA': 1, 'VRIJE UNIVERSITEIT BRUSSEL': 1, 'DUCOOP': 1, '3E': 1, 'CORDIUM CVBA': 1, 'STICHTING VU': 1, 'IRON THERMOILEKTRIKI ANONYMI ETAIREIA': 1, 'COSMOTE KINITES TILEPIKOINONIES AE': 1, 'ENEDIS': 1, 'ENGIE': 1, 'ENGIE ENERGY MANAGEMENT': 1, 'ENGIE GLOBAL MARKETS': 1, 'ENGIE HOME PERFORMANCE': 1, 'ELECTRABEL': 1, 'TIKO ENERGY SOLUTIONS AG': 1, 'ENGIE HOME SERVICES': 1, 'BELGISCH LABORATORIUM VAN ELEKTRICITEITSINDUSTRIE': 1, 'SENSINOV': 1, 'WHIRLPOOL EMEA SPA': 1, 'RICERCA SUL SISTEMA ENERGETICO - RSE SPA': 1, 'CYBERGRID GMBH & CO KG': 1, 'INETUM REALDOLMEN BELGIUM': 1, 'INETUM ESPA\\\\u00d1A S.A.': 1, 'INETUM': 1, 'EUROPEAN DISTRIBUTION SYSTEM OPERATORS FOR SMART GRIDS': 1, 'OPENMOTICS': 1, 'KEO GMBH': 1, 'ABB OF ASEA BROWN BOVERI': 1, 'UNIVERSITAET KASSEL': 1, 'Fachhochschule Dortmund': 1, 'BOSCH THERMOTECHNIK GMBH': 1, 'MIELE & CIE KG': 1, 'WIRELANE GMBH': 1, 'VAILLANT GMBH': 1, 'DAIKIN EUROPE N.V.': 1, 'KNX ASSOCIATION CVBA': 1, 'FUNDACION CARTIF': 1, 'EKODENGE MUHENDISLIK MIMARLIK DANISMANLIK TICARET ANONIM SIRKETI': 1, 'SOFTWARE IMAGINATION & VISION SRL': 1, 'SISTRADE - SOFTWARE CONSULTING SA': 1, 'SCUOLA UNIVERSITARIA PROFESSIONALE DELLA SVIZZERA ITALIANA': 1, 'AARHUS UNIVERSITET': 1, 'IDP INGENIERIA Y ARQUITECTURA IBERIA SL': 1, 'ECOWISE EKODENGE LIMITED': 1, 'GORENJE GOSPODINJSKI APARATI DOO': 1, 'SUROVINA DRUZBA ZA PREDELAVO ODPADKOV DOO': 1, 'SOFIES UK CONSULTING LIMITED': 1, 'CEGASA ENERGIA S.L.U.': 1, 'SKYLABS VESOLJSKE TEHNOLOGIJE DOO': 1, 'ENVIRONMENTAL COALITION ON STANDARDS': 1, 'IRISH MANUFACTURING RESEARCH COMPANY LIMITED BY GUARANTEE': 1, 'UNI - ENTE ITALIANO DI NORMAZIONE': 1, \"OCTOPUSSY AGENCE POUR LA CREATION ET LA DIFFUSION D'ACTIVITES CULTURELLES ARTISTIQUES TECHNOLOGIQUES SCIENTIFIQUES\": 1, 'ONYX SOLAR ENERGY SL': 1, 'MONDRAGON CORPORACION COOPERATIVA SCOOP': 1, 'DOMUSA CALEFACCION SCOOP': 1, 'SARETEKNIKA SERVICIOS GLOBALES DE POSVENTA SCOOP': 1, 'COMET GLOBAL INNOVATION, SL': 1, 'BSH ELETTRODOMESTICI SPA': 1, 'SABANCI DIJITAL TEKNOLOJI HIZMETLERI AS': 1, 'REYDESA RECYCLING SL': 1, 'FUNDACION INNOVACION AMBIENTAL Y TECNOLOGICA': 1, 'MONDRAGON ASSEMBLY SOCIEDAD COOPERATIVA': 1, 'WASTE OF ELECTRICAL AND ELECTRONICAL EQUIPMENT FORUM AISBL': 1, 'ZEOS RAVNANJE Z ELEKTRICNO IN ELEKTRONSKO OPREMO DOO': 1, 'OCU EDICIONES SA': 1, 'ALTROCONSUMO EDIZIONI SRL': 1, 'ERION COMPLIANCE ORGANIZATION SCARL': 1, 'AGORIZE SAS': 1, 'BEHAVIOURAL INSIGHTS LTD': 1, 'BSH EV ALETLERI SANAYI VE TICARET ANONIM SIRKETI': 1, 'HELIOZ GMBH': 1, 'INNOFRUGAL RY': 1, 'EUROPEAN COUNCIL OF TRANSPORT USERS-CONSEIL EUROPEEN DES USAGERS DES TRANSPORTS': 1, 'CUSTOMS CO-OPERATION COUNCIL': 1, 'THE INTERNATIONAL CRIMINAL POLICE ORGANIZATION': 1, 'Clecat - European Association for Forwarding, Transport, Logistics and Customs Service': 1, 'IRU PROJECTS ASBL': 1, 'EUROPEAN INTERMODAL ASSOCIATION': 1, 'COOPERATIEVE BLOEMENVEILING FLORAHOLLAND U.A.': 1, 'DHL EXEL SUPPLY CHAIN SPAIN SL': 1, 'HM REVENUE AND CUSTOMS': 1, 'MINISTERIE VAN FINANCIEN': 1, 'SERVICE PUBLIC FEDERAL FINANCES': 1, 'MINISTERIE VAN BINNENLANDSE ZAKEN EN KONINKRIJKSRELATIES': 1, 'Ministero delle infrastrutture e della mobilit\\\\u00e0 sostenibili': 1, 'MINISTERE DE LA TRANSITION ECOLOGIQUE': 1, 'NEDERLANDSE VOEDSEL EN WARENAUTORITEIT': 1, 'dbh Logistics IT AG': 1, 'TERMINAL MARITIMA DE ZARAGOZA SL': 1, 'CONSORZIO IB INNOVATION': 1, 'LA SPEZIA CONTAINER TERMINAL SPA': 1, 'Senator fuer Wirtschaft und Haefen Bremen': 1, 'PORTIC BARCELONA S.A': 1, 'SMITHS DETECTION FRANCE SAS': 1, 'NETCOMPANY-INTRASOFT SA': 1, 'TELESPAZIO SPA': 1, 'DESCARTES SYSTEMS (BELGIUM)': 1, 'A.P. Moller - M\\\\u00e6rsk A\\\\/S': 1, 'SO.GE.MAR. SOCIETA GENERALE MAGAZZINI RACCORDATI INTERPORTO SPA': 1, 'METRO SHIPPING LIMITED': 1, 'BAP Logistics Ltd': 1, 'MARITIME CARGO PROCESSING PLC': 1, 'Seacon Venlo Expeditie B.V.': 1, 'JRC -JOINT RESEARCH CENTRE- EUROPEAN COMMISSION': 1, 'BMT GROUP LTD': 1, 'INLECOM SYSTEMS LTD': 1, 'INSTYTUT LOGISTYKI I MAGAZYNOWANIA': 1, 'CONCEPTIVITY SARL': 1, 'MJC2 LIMITED': 1, 'FUNDACION ZARAGOZA LOGISTICS CENTER': 1, 'ENIDE SOLUTIONS .S.L': 1, 'TOTALFORSVARETS FORSKNINGSINSTITUT': 1, 'CLMS (UK) LIMITED': 1, 'EBOS TECHNOLOGIES LIMITED': 1, 'CROSS-BORDER RESEARCH ASSOCIATION': 1, 'KENTRO MELETON ASFALEIAS': 1, 'INSTITUT FUR SEEVERKEHRSWIRTSCHAFT UND LOGISTIK': 1, 'SECURITY PROJECTS UK LIMITED': 1, 'GEORGIA TECH RESEARCH CORPORATION': 1, 'ICONTROL INCORPORATED': 1, 'VLTN GCV': 1, 'ADVANCED TRACK AND TRACE SA': 1, 'LOGIT SYSTEMS BVBA': 1, 'CONEX SA': 1, 'LOGISTIEK ZONDER PAPIER BV': 1, 'TTS Italia': 1, 'BRIMATECH SERVICES GMBH': 1, 'TRANS SESE SOCIEDAD LIMITADA': 1, 'SEABRIDGE NV': 1, 'TECHNISCHE UNIVERSITEIT EINDHOVEN': 1, 'MAJORCA SPA': 1, 'EUROPEAN ORGANISATION FOR SECURITY': 1, 'Uniserve (Holdings) Limited': 1, 'PROCTER & GAMBLE SERVICES COMPANY NV': 1, 'SUNWELL TECHNOLOGIES INC': 1, 'HOYER (SVIZZERA) SA': 1, 'CLICK & FIND S.R.L': 1, 'COPENHAGEN BUSINESS SCHOOL': 1, 'CERAMICHE CAESAR SPA': 1, 'LOGIT ONE NV': 1, 'IBM DANMARK APS': 1, 'EUROPEAN UNION ROAD FEDERATION': 1, 'TRUSTEES OF PURDUE UNIVERSITY': 1, 'THE NATIONAL POLICE OF THE NETHERLANDS': 1, 'SMITHERS RAPRA AND SMITHERS PIRA LIMITED': 1, 'Grupo Regional de Cooperativas Plataneras del Archipielago Canario': 1, 'CMB Colorex Master Batches B.V.': 1, 'SIVEL Limited': 1, 'PEVA Ipari, Kereskedelmi es Szolgaltato Kft': 1, 'ROTOTEK LTD': 1, 'UNIVERSIDAD DE LAS PALMAS DE GRAN CANARIA': 1, \"THE QUEEN'S UNIVERSITY OF BELFAST\": 1, 'GRUPO ANTOLIN-INGENIERIA SA': 1, 'AIRBUS DEFENCE AND SPACE GMBH': 1, 'UNIVERSITEIT TWENTE': 1, 'UNIVERSIDAD POLITECNICA DE MADRID': 1, 'CONSIGLIO NAZIONALE DELLE RICERCHE': 1, 'THE UNIVERSITY OF BIRMINGHAM': 1, 'LEIBNIZ-INSTITUT FUR POLYMERFORSCHUNG DRESDEN EV': 1, 'SCANLAB': 1, 'TRUMPF LASER GMBH': 1, 'EUROPEAN PHOTONICS INDUSTRY CONSORTIUM': 1, 'NEW INFRARED TECHNOLOGIES SL': 1, 'LASER ENGINEERING APPLICATIONS SA': 1, 'UNIVERSITA DEGLI STUDI DI PARMA': 1, 'UNIVERSITY OF STUTTGART': 1, 'RAYLASE GMBH': 1, 'ECOR INTERNATIONAL SPA': 1, 'KITE INNOVATION (EUROPE) LIMITED': 1, 'MODUS RESEARCH AND INNOVATION LIMITED': 1, 'INFINEON TECHNOLOGIES AG': 1, 'AMS-OSRAM AG': 1, 'AT & S AUSTRIA TECHNOLOGIE & SYSTEMTECHNIK AKTIENGESELLSCHAFT': 1, 'AVL LIST GMBH': 1, 'INFINEON TECHNOLOGIES IT-SERVICES GMBH': 1, 'KAI KOMPETENZZENTRUM AUTOMOBIL - UND INDUSTRIEELEKTRONIK GMBH': 1, 'MATERIALS CENTER LEOBEN FORSCHUNG GMBH': 1, 'TECHNISCHE UNIVERSITAET GRAZ': 1, 'TECHNISCHE UNIVERSITAET WIEN': 1, 'VIRTUAL VEHICLE RESEARCH GMBH': 1, 'ROBERT BOSCH SEMICONDUCTOR MANUFACTURING DRESDEN GMBH': 1, 'ELMOS SEMICONDUCTOR SE': 1, 'FORSCHUNGS- UND TRANSFERZENTRUM EV AN DER WESTSAECHSISCHEN HOCHSCHULE ZWICKAU': 1, 'GOPEL ELECTRONIC GMBH': 1, 'HAHN-SCHICKARD-GESELLSCHAFT FUR ANGEWANDTE FORSCHUNG EV': 1, 'INFINEON TECHNOLOGIES AUSTRIA  AG': 1, 'INFINEON TECHNOLOGIES DRESDEN GMBH& CO KG': 1, 'LEC GMBH': 1, 'PUMACY TECHNOLOGIES AG': 1, 'SCHWEIZER ELECTRONIC AG': 1, 'SENSITEC GMBH': 1, 'TECHNISCHE UNIVERSITAET CHEMNITZ': 1, 'UNIVERSITAET BREMEN': 1, 'WESTSACHSISCHE HOCHSCHULE ZWICKAU': 1, 'X-FAB Dresden GmbH & Co. KG': 1, 'X-FAB SEMICONDUCTOR FOUNDRIES GMBH': 1, 'NANO DESIGN SRO': 1, 'SLOVENSKA TECHNICKA UNIVERZITA V BRATISLAVE': 1, 'EDR & MEDESO AB': 1, 'INMOTION TECHNOLOGIES AB': 1, 'QRTECH AKTIEBOLAG': 1, 'RISE IVF AB': 1, 'RISE RESEARCH INSTITUTES OF SWEDEN AB': 1, 'SCANIA CV AB': 1, 'AALTO KORKEAKOULUSAATIO SR': 1, 'FORCIOT OY': 1, 'OKMETIC OY': 1, 'SCREENTEC OY': 1, 'MINDCET NV': 1, 'NINIX TECHNOLOGIES NV': 1, 'BELGAN BV': 1, 'PLASTIC OMNIUM ADVANCED INNOVATIONAND RESEARCH': 1, 'SIRRIS HET COLLECTIEF CENTRUM VAN DE TECHNOLOGISCHE INDUSTRIE': 1, 'INFINEON TECHNOLOGIES ITALIA SRL': 1, 'CONSORZIO NAZIONALE INTERUNIVERSITARIO PER LA NANOELETTRONICA': 1, 'ALMA MATER STUDIORUM - UNIVERSITA DI BOLOGNA': 1, 'UNIVERSITA DEGLI STUDI DI PADOVA': 1, 'LFOUNDRY SRL': 1, 'TEKNE SRL': 1, \"UNIVERSITA DEGLI STUDI DELL'AQUILA\": 1, 'BATZ SOCIEDAD COOPERATIVA': 1, 'Construcciones y Auxiliar de Ferrocarriles, S.A.': 1, 'CONSTRUCCIONES Y AUXILIAR DE FERROCARRILES INVESTIGACION Y DESARROLLO SL': 1, 'IKERLAN S. COOP': 1, 'KNOWLEDGE CENTRIC SOLUTIONS SL': 1, 'UNIVERSIDAD DE CASTILLA - LA MANCHA': 1, 'UNIVERSIDAD CARLOS III DE MADRID': 1, 'ULMA MEDICAL TECHNOLOGIES S COOP': 1, 'IWO PROJECT BV': 1, 'JIACO INSTRUMENTS BV': 1, 'NEXPERIA BV': 1, 'SIGNIFY  NETHERLANDS BV': 1, 'ARCELIK A.S.': 1, 'ENFORMA BILISIM ANONIM SIRKETI': 1, 'MARMARA UNIVERSITY': 1, 'PAVO TASARIM URETIM ELEKTRONIK TICARET ANONIM SIRKETI': 1, 'ELAPHE POGONSKE TEHNOLOGIJE DOO': 1, 'INSTITUT JOZEF STEFAN': 1, 'IDRYMA TECHNOLOGIAS KAI EREVNAS': 1, 'THALES': 1, 'UNITED MONOLITHIC SEMICONDUCTORS SAS': 1, 'UNIVERSITE LYON 1 CLAUDE BERNARD': 1, 'III-V LAB': 1, 'CENTRE FOR PROCESS INNOVATION LIMITED LBG': 1, 'HENKEL ELECTRONIC MATERIALS BELGIUMNV': 1, 'PRAGMATIC SEMICONDUCTOR LIMITED': 1, 'TEKNOLOGISK INSTITUT': 1, 'CONTITECH ELASTOMER-BESCHICHTUNGEN GMBH': 1, 'NANOGAP SUB-NM-POWDER SA': 1, 'THOMAS SWAN & CO LIMITED': 1, 'HENKEL KGaA': 1, 'CROWN PACKAGING MANUFACTURING UK LIMITED': 1, 'TYOTERVEYSLAITOS': 1, 'NXP SEMICONDUCTORS BELGIUM NV': 1, 'AIMPLAS - ASOCIACION DE INVESTIGACION DE MATERIALES PLASTICOS Y CONEXAS': 1, 'AVANZARE INNOVACION TECNOLOGICA SL': 1, 'POLYRAZ PLASTICS INDUSTRIES': 1, 'INEA INFORMATIZACIJA ENERGETIKA AVTOMATIZACIJA DOO': 1, 'AKUMPLAST AD': 1, 'TECHNOPLAST PROTOTYPING IPARI ES KERESKEDELMI KFT': 1, 'FAURECIA INTERIOR SYSTEMS SALC ESPANA S.L.': 1, 'INSTITUTO DE TECNOLOGIAS QUIMICAS EMERGENTES DE LA RIOJA ASOCIACION': 1, 'SZECHENYI ISTVAN EGYETEM': 1}\n",
            "False\n",
            "Keys with value equal to 7: \n",
            "001-D18PublishableSummary2.pdf\",\"mimetype\":\"application\\/pdf\",\"title\":\"Publishable summary period 2\"}]},\"objective\":{\"projectDescription\":\"\\u003Cbr\\/\\u003ESmart Factories: Energy-aware, agile manufacturing and customisation\\u003Cbr\\/\\u003EPersonalised esthetical designs of household appliances \\u0022painted\\u0022 by new ultra-violet lasers (colour, size, text, pictures...)\\u003Cbr\\/\\u003E\",\"objective\":\"The future in manufacturing is oriented to more flexible and adaptable systems. Customization is also a great challenge and a way of giving added value to the products. And aesthetic personalization is one of the main ways for achieving customization.UV-Marking project aims at demonstrating that unitary customization (individual configurations\\/designs of each customer) is possible, by developing a new laser in the ultraviolet (UV) range that provides high quality marking on different materials.A final user will be able to select or create its own aesthetical design (colour, size, text, pictures...) using easy ICT applications and these will be marked easily by manufacturers using the new UV-laser system. The marking process will achieve high quality on marks, and high durability compared to current printed techniques.The new UV-laser system will help manufacturers with customized products, allowing shorter cycles, environmental friendliness, energy efficiency, higher integration and automation. One of the main goals will be to do the marking on-line at the end of the assembly line. It opens very interesting opportunities and possibilities for customization, but also for process optimization: delivery time, environmental impact, flexibility, shorter launching time, etc.The marking customization will be achieved by:\\u0095\\\\tDeveloping a new laser in the UV range\\u0095\\\\tAdapting existing materials for having a better beam absorption\\u0095\\\\tIntegrating the laser in the industrial process\\u0095\\\\tDeveloping a user application for demonstrating the unitary customization with real customersBSH, one of the most important companies of the home appliance sector, will lead the project. They are the perfect validators because they use several materials and aesthetics for commercial purposes is very important for them. ROFIN will be the laser developer, which is a leader company in this sector. U-MARQ is an ICT company that will work in the software for the integration of the laser in the industrial process, and the user application; WIRTHWEIN and DATALASE are leader companies and will work with plastic materials to improve the absorption properties and to obtain concrete colors different than black or white. ILVA and TORRECID will work in the field of glass and ceramic materials. Finally, 3 different groups of ICMA (from University of Zaragoza and CSIC) will participate as experts on laser and materials.\\u003Cbr\\/\\u003EThe company Merck has also contributed to UV-Marking during the first months of the project, before the incorporation of DATALASE.\",\"topics\":[{\"rcn\":\"16695\",\"code\":\"FoF-ICT-2011.7.1\",\"frameworkProgramme\":\"FP7\",\"id\":\"FP7_FoF-ICT-2011.7.1\",\"title\":\"Smart Factories: Energy-aware, agile manufacturing and customisation\",\"language\":\"en\"}],\"proposalMasterCall\":[],\"proposalSubCall\":[{\"rcn\":\"104304\",\"title\":\"FP7-2012-NMP-ICT-FoF\",\"identifier\":\"FP7-2012-NMP-ICT-FoF\",\"language\":\"en\"}],\"fundingScheme\":{\"code\":\"CP\",\"title\":\"Collaborative project (generic)\"}},\"organizations\":{\"coordinatorContact\":[{\"type\":\"relatedPpmContactPerson\",\"availableLanguages\":[\"en\"],\"rcn\":\"3573166\",\"title\":\"Mr\",\"firstNames\":\"Andr\\u00e9s\",\"lastName\":\"ESCART\\u00cdN BARDUZAL\n",
            "Merck KGaA\n",
            "Wirthwein AG\n",
            "ROFIN SINAR LASER GMBH\n",
            "TORRECID SA\n",
            "ILVA GLASS SPA\n",
            "U-MARQ LIMITED\n",
            "DATALASE LTD\n",
            "WIRTHWEIN GMBH & CO KG\n",
            "INESC TEC - INSTITUTO DE ENGENHARIADE SISTEMAS E COMPUTADORES, TECNOLOGIA E CIENCIA\n",
            "NEDERLANDSE ORGANISATIE VOOR TOEGEPAST NATUURWETENSCHAPPELIJK ONDERZOEK TNO\n",
            "INTERUNIVERSITAIR MICRO-ELECTRONICA CENTRUM\n",
            "POLITECNICO DI MILANO\n",
            "DEUTSCHES FORSCHUNGSZENTRUM FUR KUNSTLICHE INTELLIGENZ GMBH\n",
            "ATOS SPAIN SA\n",
            "TEKNOLOGIAN TUTKIMUSKESKUS VTT OY\n",
            "TECHNISCHE UNIVERSITEIT DELFT\n",
            "CENTRE TECHNOLOGIQUE ALPHANOV\n",
            "TECHNISCHE UNIVERSITAET DRESDEN\n"
          ]
        }
      ]
    },
    {
      "cell_type": "code",
      "source": [
        "from pptx import Presentation\n",
        "from pptx.chart.data import CategoryChartData\n",
        "from pptx.enum.chart import XL_CHART_TYPE\n",
        "from pptx.util import Inches\n",
        "\n",
        "# create presentation with 1 slide ------\n",
        "prs = Presentation()\n",
        "slide = prs.slides.add_slide(prs.slide_layouts[5])\n",
        "\n",
        "# define chart data ---------------------\n",
        "chart_data = CategoryChartData()\n",
        "chart_data2 = CategoryChartData()\n",
        "chart_data3 = CategoryChartData()\n",
        "'''\n",
        "#chart_data.set_size({'width': 624, 'height': 480})\n",
        "chart_data.add_series({\n",
        "        #'name':       'Total Vulnerabilities',\n",
        "        #'data_labels': {'value': 1},\n",
        "        'categories': ['2011', '2012', '2013'],\n",
        "        'add_series':     [\"Graph Data\", 2, 1, 6],\n",
        "    })\n",
        "'''\n",
        "chart111k=[]\n",
        "chart111v=[]\n",
        "chart111c=[]\n",
        "for key,value in dictt2.items():\n",
        "  chart111k = np.append(chart111k, str(key))\n",
        "  chart111v = np.append(chart111v, value)\n",
        "for i in range(0,len(chart111k)):\n",
        "  chart111c = np.append(chart111c, \"{'fill': {'color': '#618ECD'}},\")\n",
        "chartLen=len(chart111k)\n",
        "chart_data.categories = chart111k#['2011', '2012', '2013', '2014', '2015', '2016', '2017', '2018', '2019', '2020', '2021', '2022']\n",
        "chart_data.add_series('', chart111v)#(1,2,3,4,5,6,7,8,9,10,11,12))\n",
        "chart_data.points = chart111c\n",
        "'''[{'fill': {'color': '#618ECD'}},{'fill': {'color': '#618ECD'}},{'fill': {'color': '#618ECD'}},{'fill': {'color': '#618ECD'}},\n",
        "                     {'fill': {'color': '#618ECD'}},{'fill': {'color': '#618ECD'}},{'fill': {'color': '#618ECD'}},{'fill': {'color': '#618ECD'}},\n",
        "                     {'fill': {'color': '#618ECD'}},{'fill': {'color': '#618ECD'}},{'fill': {'color': '#618ECD'}},{'fill': {'color': '#618ECD'}},]'''\n",
        "chart_data.categories.LabelAngle = -90\n",
        "\n",
        "chart_data2.categories = ['i', 'i', 'i', 'i']\n",
        "chart_data2.add_series('', (1,2,3,4))\n",
        "chart_data2.points = [{'fill': {'color': '#618ECD'}},{'fill': {'color': '#618ECD'}},{'fill': {'color': '#618ECD'}},{'fill': {'color': '#618ECD'}},]\n",
        "chart_data2.categories.LabelAngle = -90\n",
        "\n",
        "dictt6=dict()\n",
        "for o in reversed(range(0,7)):\n",
        "  #counter=0\n",
        "  if o in d2.values():#-ACHTUNG wird erst unten defined\n",
        "    dictt6.update({o: len(getKeysByValue(d2, o))/(len(d2)-1)})#-das auch\n",
        "    #print(\"rr: \", len(getKeysByValue(d, o)))\n",
        "    #print(len(getKeysByValue(d, o))/(len(d)-1))\n",
        "    print(len(getKeysByValue(d2, o))/(len(d2)-1))\n",
        "\n",
        "print(\"wwww: \", dictt6)\n",
        "\n",
        "\n",
        "chart116k=[]\n",
        "chart116v=[]\n",
        "chart116c=[]\n",
        "for key,value in dictt6.items():\n",
        "  chart116k = np.append(chart116k, str(key))\n",
        "  chart116v = np.append(chart116v,round(value,2)*100)\n",
        "  print(round(value,2))\n",
        "for i in range(0,len(chart116k)):\n",
        "  chart116c = np.append(chart116c, \"{'fill': {'color': '#618ECD'}},\")\n",
        "\n",
        "print(chart116k,chart116v,chart116c)\n",
        "chartLen=len(chart116k)\n",
        "chart_data3.categories = chart116v#ACHTUNG\n",
        "chart_data3.add_series('', chart116v)\n",
        "chart_data3.points = chart116c\n",
        "chart_data3.categories.LabelAngle = -90\n",
        "\n",
        "\n",
        "#chart_data.plots[0].vary_by_categories = False\n",
        "\n",
        "#chart_data.categories.legend.font.size = 10\n",
        "# Configure the series of the chart from the dataframe data.\n",
        "#chart = chart_data.add_chart({'type': 'column'})\n",
        "'''\n",
        "chart.add_series({\n",
        "    'categories': ['Sheet1', 1, 0, 21, 0],\n",
        "    'values':     ['Sheet1', 1, 1, 21, 1],\n",
        "    'gap':        10,\n",
        "})\n",
        "'''\n",
        "'''\n",
        "# add chart to slide --------------------\n",
        "x, y, cx, cy = Inches(2), Inches(2), Inches(6), Inches(4.5)\n",
        "slide.shapes.add_chart(\n",
        "    XL_CHART_TYPE.COLUMN_CLUSTERED, x, y, cx, cy, chart_data\n",
        ")'''"
      ],
      "metadata": {
        "id": "iok0h4ioQMT9",
        "outputId": "91022dc1-5ad5-430e-90b9-10635002dc57",
        "colab": {
          "base_uri": "https://localhost:8080/",
          "height": 296
        }
      },
      "execution_count": 525,
      "outputs": [
        {
          "output_type": "stream",
          "name": "stdout",
          "text": [
            "0.003205128205128205\n",
            "0.00641025641025641\n",
            "0.00641025641025641\n",
            "0.060897435897435896\n",
            "0.9230769230769231\n",
            "wwww:  {5: 0.003205128205128205, 4: 0.00641025641025641, 3: 0.00641025641025641, 2: 0.060897435897435896, 1: 0.9230769230769231}\n",
            "0.0\n",
            "0.01\n",
            "0.01\n",
            "0.06\n",
            "0.92\n",
            "['5' '4' '3' '2' '1'] [ 0.  1.  1.  6. 92.] [\"{'fill': {'color': '#618ECD'}},\" \"{'fill': {'color': '#618ECD'}},\"\n",
            " \"{'fill': {'color': '#618ECD'}},\" \"{'fill': {'color': '#618ECD'}},\"\n",
            " \"{'fill': {'color': '#618ECD'}},\"]\n"
          ]
        },
        {
          "output_type": "execute_result",
          "data": {
            "text/plain": [
              "'\\n# add chart to slide --------------------\\nx, y, cx, cy = Inches(2), Inches(2), Inches(6), Inches(4.5)\\nslide.shapes.add_chart(\\n    XL_CHART_TYPE.COLUMN_CLUSTERED, x, y, cx, cy, chart_data\\n)'"
            ],
            "application/vnd.google.colaboratory.intrinsic+json": {
              "type": "string"
            }
          },
          "metadata": {},
          "execution_count": 525
        }
      ]
    },
    {
      "cell_type": "markdown",
      "source": [
        "#NLPs\n",
        "\n",
        "Zusammenfassung:\n",
        "\n",
        "Überprüfung von einigen keyword extractions verfahren:\n",
        "https://www.analyticsvidhya.com/blog/2022/03/keyword-extraction-methods-from-documents-in-nlp/\n",
        "\n",
        "\n",
        "(vll spacy)\n",
        "wordcloud erstellen .generate und .generate_from_frequencies\n",
        "yake von Defence empfohlen / keybert\n",
        "Beautiful soup --> keywords extrahieren\n",
        "\n",
        "mit spacy texte zusammenfassen ( hat schlecht geklappt )"
      ],
      "metadata": {
        "id": "qBMtCHaFRJCe"
      }
    },
    {
      "cell_type": "code",
      "source": [
        "!pip3 install wordcloud\n",
        "!pip3 install matplotlib\n",
        "!pip install requests\n",
        "!pip install beautifulsoup4"
      ],
      "metadata": {
        "id": "XO9jmPj-RL_X",
        "outputId": "a6040e09-76e6-4060-c2a8-bbcec6df3963",
        "colab": {
          "base_uri": "https://localhost:8080/"
        }
      },
      "execution_count": 526,
      "outputs": [
        {
          "output_type": "stream",
          "name": "stdout",
          "text": [
            "Looking in indexes: https://pypi.org/simple, https://us-python.pkg.dev/colab-wheels/public/simple/\n",
            "Requirement already satisfied: wordcloud in /usr/local/lib/python3.7/dist-packages (1.5.0)\n",
            "Requirement already satisfied: pillow in /usr/local/lib/python3.7/dist-packages (from wordcloud) (7.1.2)\n",
            "Requirement already satisfied: numpy>=1.6.1 in /usr/local/lib/python3.7/dist-packages (from wordcloud) (1.21.6)\n",
            "Looking in indexes: https://pypi.org/simple, https://us-python.pkg.dev/colab-wheels/public/simple/\n",
            "Requirement already satisfied: matplotlib in /usr/local/lib/python3.7/dist-packages (3.2.2)\n",
            "Requirement already satisfied: pyparsing!=2.0.4,!=2.1.2,!=2.1.6,>=2.0.1 in /usr/local/lib/python3.7/dist-packages (from matplotlib) (3.0.9)\n",
            "Requirement already satisfied: numpy>=1.11 in /usr/local/lib/python3.7/dist-packages (from matplotlib) (1.21.6)\n",
            "Requirement already satisfied: cycler>=0.10 in /usr/local/lib/python3.7/dist-packages (from matplotlib) (0.11.0)\n",
            "Requirement already satisfied: kiwisolver>=1.0.1 in /usr/local/lib/python3.7/dist-packages (from matplotlib) (1.4.3)\n",
            "Requirement already satisfied: python-dateutil>=2.1 in /usr/local/lib/python3.7/dist-packages (from matplotlib) (2.8.2)\n",
            "Requirement already satisfied: typing-extensions in /usr/local/lib/python3.7/dist-packages (from kiwisolver>=1.0.1->matplotlib) (4.1.1)\n",
            "Requirement already satisfied: six>=1.5 in /usr/local/lib/python3.7/dist-packages (from python-dateutil>=2.1->matplotlib) (1.15.0)\n",
            "Looking in indexes: https://pypi.org/simple, https://us-python.pkg.dev/colab-wheels/public/simple/\n",
            "Requirement already satisfied: requests in /usr/local/lib/python3.7/dist-packages (2.23.0)\n",
            "Requirement already satisfied: certifi>=2017.4.17 in /usr/local/lib/python3.7/dist-packages (from requests) (2022.6.15)\n",
            "Requirement already satisfied: idna<3,>=2.5 in /usr/local/lib/python3.7/dist-packages (from requests) (2.10)\n",
            "Requirement already satisfied: chardet<4,>=3.0.2 in /usr/local/lib/python3.7/dist-packages (from requests) (3.0.4)\n",
            "Requirement already satisfied: urllib3!=1.25.0,!=1.25.1,<1.26,>=1.21.1 in /usr/local/lib/python3.7/dist-packages (from requests) (1.24.3)\n",
            "Looking in indexes: https://pypi.org/simple, https://us-python.pkg.dev/colab-wheels/public/simple/\n",
            "Requirement already satisfied: beautifulsoup4 in /usr/local/lib/python3.7/dist-packages (4.6.3)\n"
          ]
        }
      ]
    },
    {
      "cell_type": "code",
      "source": [
        "import requests\n",
        "from bs4 import BeautifulSoup"
      ],
      "metadata": {
        "id": "hNZssllAR2lp"
      },
      "execution_count": 527,
      "outputs": []
    },
    {
      "cell_type": "code",
      "source": [
        "!pip3 install keybert\n",
        "from keybert import KeyBERT"
      ],
      "metadata": {
        "id": "JDgxuHhSSH0K",
        "outputId": "744f1024-2f76-435f-b73f-b06b2f7ff5dc",
        "colab": {
          "base_uri": "https://localhost:8080/"
        }
      },
      "execution_count": 528,
      "outputs": [
        {
          "output_type": "stream",
          "name": "stdout",
          "text": [
            "Looking in indexes: https://pypi.org/simple, https://us-python.pkg.dev/colab-wheels/public/simple/\n",
            "Requirement already satisfied: keybert in /usr/local/lib/python3.7/dist-packages (0.5.1)\n",
            "Requirement already satisfied: sentence-transformers>=0.3.8 in /usr/local/lib/python3.7/dist-packages (from keybert) (2.2.2)\n",
            "Requirement already satisfied: rich>=10.4.0 in /usr/local/lib/python3.7/dist-packages (from keybert) (12.4.4)\n",
            "Requirement already satisfied: numpy>=1.18.5 in /usr/local/lib/python3.7/dist-packages (from keybert) (1.21.6)\n",
            "Requirement already satisfied: scikit-learn>=0.22.2 in /usr/local/lib/python3.7/dist-packages (from keybert) (1.0.2)\n",
            "Requirement already satisfied: commonmark<0.10.0,>=0.9.0 in /usr/local/lib/python3.7/dist-packages (from rich>=10.4.0->keybert) (0.9.1)\n",
            "Requirement already satisfied: typing-extensions<5.0,>=4.0.0 in /usr/local/lib/python3.7/dist-packages (from rich>=10.4.0->keybert) (4.1.1)\n",
            "Requirement already satisfied: pygments<3.0.0,>=2.6.0 in /usr/local/lib/python3.7/dist-packages (from rich>=10.4.0->keybert) (2.6.1)\n",
            "Requirement already satisfied: threadpoolctl>=2.0.0 in /usr/local/lib/python3.7/dist-packages (from scikit-learn>=0.22.2->keybert) (3.1.0)\n",
            "Requirement already satisfied: joblib>=0.11 in /usr/local/lib/python3.7/dist-packages (from scikit-learn>=0.22.2->keybert) (1.1.0)\n",
            "Requirement already satisfied: scipy>=1.1.0 in /usr/local/lib/python3.7/dist-packages (from scikit-learn>=0.22.2->keybert) (1.4.1)\n",
            "Requirement already satisfied: torch>=1.6.0 in /usr/local/lib/python3.7/dist-packages (from sentence-transformers>=0.3.8->keybert) (1.11.0+cu113)\n",
            "Requirement already satisfied: huggingface-hub>=0.4.0 in /usr/local/lib/python3.7/dist-packages (from sentence-transformers>=0.3.8->keybert) (0.8.1)\n",
            "Requirement already satisfied: transformers<5.0.0,>=4.6.0 in /usr/local/lib/python3.7/dist-packages (from sentence-transformers>=0.3.8->keybert) (4.20.1)\n",
            "Requirement already satisfied: sentencepiece in /usr/local/lib/python3.7/dist-packages (from sentence-transformers>=0.3.8->keybert) (0.1.96)\n",
            "Requirement already satisfied: nltk in /usr/local/lib/python3.7/dist-packages (from sentence-transformers>=0.3.8->keybert) (3.7)\n",
            "Requirement already satisfied: tqdm in /usr/local/lib/python3.7/dist-packages (from sentence-transformers>=0.3.8->keybert) (4.64.0)\n",
            "Requirement already satisfied: torchvision in /usr/local/lib/python3.7/dist-packages (from sentence-transformers>=0.3.8->keybert) (0.12.0+cu113)\n",
            "Requirement already satisfied: importlib-metadata in /usr/local/lib/python3.7/dist-packages (from huggingface-hub>=0.4.0->sentence-transformers>=0.3.8->keybert) (4.11.4)\n",
            "Requirement already satisfied: packaging>=20.9 in /usr/local/lib/python3.7/dist-packages (from huggingface-hub>=0.4.0->sentence-transformers>=0.3.8->keybert) (21.3)\n",
            "Requirement already satisfied: filelock in /usr/local/lib/python3.7/dist-packages (from huggingface-hub>=0.4.0->sentence-transformers>=0.3.8->keybert) (3.7.1)\n",
            "Requirement already satisfied: pyyaml>=5.1 in /usr/local/lib/python3.7/dist-packages (from huggingface-hub>=0.4.0->sentence-transformers>=0.3.8->keybert) (6.0)\n",
            "Requirement already satisfied: requests in /usr/local/lib/python3.7/dist-packages (from huggingface-hub>=0.4.0->sentence-transformers>=0.3.8->keybert) (2.23.0)\n",
            "Requirement already satisfied: pyparsing!=3.0.5,>=2.0.2 in /usr/local/lib/python3.7/dist-packages (from packaging>=20.9->huggingface-hub>=0.4.0->sentence-transformers>=0.3.8->keybert) (3.0.9)\n",
            "Requirement already satisfied: tokenizers!=0.11.3,<0.13,>=0.11.1 in /usr/local/lib/python3.7/dist-packages (from transformers<5.0.0,>=4.6.0->sentence-transformers>=0.3.8->keybert) (0.12.1)\n",
            "Requirement already satisfied: regex!=2019.12.17 in /usr/local/lib/python3.7/dist-packages (from transformers<5.0.0,>=4.6.0->sentence-transformers>=0.3.8->keybert) (2022.6.2)\n",
            "Requirement already satisfied: zipp>=0.5 in /usr/local/lib/python3.7/dist-packages (from importlib-metadata->huggingface-hub>=0.4.0->sentence-transformers>=0.3.8->keybert) (3.8.0)\n",
            "Requirement already satisfied: click in /usr/local/lib/python3.7/dist-packages (from nltk->sentence-transformers>=0.3.8->keybert) (7.1.2)\n",
            "Requirement already satisfied: idna<3,>=2.5 in /usr/local/lib/python3.7/dist-packages (from requests->huggingface-hub>=0.4.0->sentence-transformers>=0.3.8->keybert) (2.10)\n",
            "Requirement already satisfied: chardet<4,>=3.0.2 in /usr/local/lib/python3.7/dist-packages (from requests->huggingface-hub>=0.4.0->sentence-transformers>=0.3.8->keybert) (3.0.4)\n",
            "Requirement already satisfied: certifi>=2017.4.17 in /usr/local/lib/python3.7/dist-packages (from requests->huggingface-hub>=0.4.0->sentence-transformers>=0.3.8->keybert) (2022.6.15)\n",
            "Requirement already satisfied: urllib3!=1.25.0,!=1.25.1,<1.26,>=1.21.1 in /usr/local/lib/python3.7/dist-packages (from requests->huggingface-hub>=0.4.0->sentence-transformers>=0.3.8->keybert) (1.24.3)\n",
            "Requirement already satisfied: pillow!=8.3.*,>=5.3.0 in /usr/local/lib/python3.7/dist-packages (from torchvision->sentence-transformers>=0.3.8->keybert) (7.1.2)\n"
          ]
        }
      ]
    },
    {
      "cell_type": "code",
      "source": [
        "import requests\n",
        "import numpy as np\n",
        "r2 = requests.get(\"https://ec.europa.eu/info/funding-tenders/opportunities/api/orgProfile/data.json?pic=\"+str(Firmen_ID)+\"&refreshIamUser=true\")#Firma\n",
        "soup2 = BeautifulSoup(r2.text, 'html.parser')"
      ],
      "metadata": {
        "id": "2Yf4qmUGSaDY"
      },
      "execution_count": 529,
      "outputs": []
    },
    {
      "cell_type": "code",
      "source": [
        "a=soup2.get_text()\n",
        "pic1=a.find(\"\\\"pic\\\":\")\n",
        "pic2=a.find(\"\\\",\\\"legalName\")\n",
        "print(pic1+7, pic2)\n",
        "pic0=a[pic1+7:pic2]\n",
        "print(pic0)\n",
        "a1=a[a.find(\"Keywords\"):]\n",
        "\n",
        "Keywords=[]\n",
        "onze=[]\n",
        "keyW = ''\n",
        "bool1=True\n",
        "while bool1 == True:\n",
        "  #n=\n",
        "  a1=a1[a1.find(\"text\")+7:]\n",
        "  a3=a1.find('\\\"')\n",
        "  keyW = keyW + a1[:a3]\n",
        "  Keywords = np.append(Keywords, a1[:a3])\n",
        "  onze = np.append(onze, 1)\n",
        "  if (a1.find(\"text\")==-1):\n",
        "    break\n",
        "  #a1=\n",
        "\n",
        "#print(Keywords)\n",
        "#onze = np.ones(len(Keywords))\n",
        "#dict(zip(Keywords[:], zip(*onze[:])))\n",
        "#print(onze)\n",
        "\n",
        "import itertools\n",
        "price = 1\n",
        "bids = Keywords\n",
        "#print(len(bids))\n",
        "bibDict = dict(zip(bids, onze))#itertools.repeat(float(price),len(bids))\n",
        "print(bibDict)\n",
        "print(keyW)"
      ],
      "metadata": {
        "id": "1lFOEZb0Sfdg",
        "outputId": "b3c3a915-db34-48ae-bcdf-c7ebbe0f4478",
        "colab": {
          "base_uri": "https://localhost:8080/"
        }
      },
      "execution_count": 530,
      "outputs": [
        {
          "output_type": "stream",
          "name": "stdout",
          "text": [
            "50 59\n",
            "998314786\n",
            "{'Energy systems, smart energy, smart grids, wireless energy transfer': 1.0, 'Internet of Things': 1.0, 'interoperability': 1.0, 'smart buildings': 1.0, 'smart grids': 1.0, 'smart homes': 1.0}\n",
            "Energy systems, smart energy, smart grids, wireless energy transferInternet of Thingsinteroperabilitysmart buildingssmart gridssmart homes\n"
          ]
        }
      ]
    },
    {
      "cell_type": "code",
      "source": [
        "import collections\n",
        "import numpy as np\n",
        "import pandas as pd\n",
        "import matplotlib.cm as cm\n",
        "import matplotlib.pyplot as plt\n",
        "from matplotlib import rcParams\n",
        "from wordcloud import WordCloud, STOPWORDS\n",
        "Operations ='''The majority of Bosch Group businesses are grouped into the following four business sectors.[19]\n",
        "\n",
        "Mobility solutions'''\n",
        "all_headlines = Operations\n",
        "#all_headlines = \"\"\"\n",
        "#When it comes to evaluating the performance of keyword extractors, you can use some of the standard metrics in machine learning: accuracy, precision, recall, and F1 score. However, these metrics don’t reflect partial matches; they only consider the perfect match between an extracted segment and the correct prediction for that tag.\n",
        "#Fortunately, there are some other metrics capable of capturing partial matches. An example of this is ROUGE.\n",
        "#\"\"\"\n",
        "stopwords = STOPWORDS\n",
        "stopwords = [\"Bosch\", \"Robert\", \"offer\", \"include\", \"sector\", \"Home\", \"product\", \"year\", \"total\", \"January\", \"Grow\", \"high\", \"point\", \"products\", \"service\", \"systems\", \"percent\", \"offers\", \"tool\", \"areas\", \"building\", \"start\", \"new\", \"well\", \"includes\", \"within\"] + list(STOPWORDS)\n",
        "wordcloud = WordCloud(colormap = 'Dark2_r', min_font_size=5, max_font_size=10, width=400, height=400, collocations = False, stopwords=stopwords, background_color=\"white\", max_words=25).generate_from_frequencies(bibDict)#generate(keyW)#generate_from_frequencies(word_cloud_lst)#.generate(all_headlines)\n",
        "#rcParams['figure.figsize'] = [10.0, 10.0]\n",
        "plt.figure(figsize=(15, 15))\n",
        "plt.imshow(wordcloud)\n",
        "plt.axis(\"off\")\n",
        "plt.savefig('wordC')\n",
        "#plt.show()"
      ],
      "metadata": {
        "id": "07nP0AJISk0Y",
        "outputId": "9accc727-a785-4f93-e01a-b8ce4e00676f",
        "colab": {
          "base_uri": "https://localhost:8080/",
          "height": 846
        }
      },
      "execution_count": 531,
      "outputs": [
        {
          "output_type": "display_data",
          "data": {
            "text/plain": [
              "<Figure size 1080x1080 with 1 Axes>"
            ],
            "image/png": "[encoded data removed]"
          },
          "metadata": {
            "needs_background": "light"
          }
        }
      ]
    },
    {
      "cell_type": "code",
      "source": [
        "d=Partix\n",
        "print(len(d))\n",
        "print(d)\n",
        "print(7 in d.values())"
      ],
      "metadata": {
        "id": "geFsXFWnzYeB",
        "outputId": "16f2ada6-5ae0-4139-831b-c06a92d46b3a",
        "colab": {
          "base_uri": "https://localhost:8080/"
        }
      },
      "execution_count": 532,
      "outputs": [
        {
          "output_type": "stream",
          "name": "stdout",
          "text": [
            "25\n",
            "{'BSH ELECTRODOMESTICOS ESPANA SA': 9, 'FRAUNHOFER GESELLSCHAFT ZUR FORDERUNG DER ANGEWANDTEN FORSCHUNG EV': 5, 'UNIVERSIDAD DE ZARAGOZA': 4, 'AGENCIA ESTATAL CONSEJO SUPERIOR DE INVESTIGACIONES CIENTIFICAS': 4, 'BSH HAUSGERATE GMBH': 3, 'ROBERT BOSCH GMBH': 3, '001-D18PublishableSummary2.pdf\",\"mimetype\":\"application\\\\/pdf\",\"title\":\"Publishable summary period 2\"}]},\"objective\":{\"projectDescription\":\"\\\\u003Cbr\\\\/\\\\u003ESmart Factories: Energy-aware, agile manufacturing and customisation\\\\u003Cbr\\\\/\\\\u003EPersonalised esthetical designs of household appliances \\\\u0022painted\\\\u0022 by new ultra-violet lasers (colour, size, text, pictures...)\\\\u003Cbr\\\\/\\\\u003E\",\"objective\":\"The future in manufacturing is oriented to more flexible and adaptable systems. Customization is also a great challenge and a way of giving added value to the products. And aesthetic personalization is one of the main ways for achieving customization.UV-Marking project aims at demonstrating that unitary customization (individual configurations\\\\/designs of each customer) is possible, by developing a new laser in the ultraviolet (UV) range that provides high quality marking on different materials.A final user will be able to select or create its own aesthetical design (colour, size, text, pictures...) using easy ICT applications and these will be marked easily by manufacturers using the new UV-laser system. The marking process will achieve high quality on marks, and high durability compared to current printed techniques.The new UV-laser system will help manufacturers with customized products, allowing shorter cycles, environmental friendliness, energy efficiency, higher integration and automation. One of the main goals will be to do the marking on-line at the end of the assembly line. It opens very interesting opportunities and possibilities for customization, but also for process optimization: delivery time, environmental impact, flexibility, shorter launching time, etc.The marking customization will be achieved by:\\\\u0095\\\\\\\\tDeveloping a new laser in the UV range\\\\u0095\\\\\\\\tAdapting existing materials for having a better beam absorption\\\\u0095\\\\\\\\tIntegrating the laser in the industrial process\\\\u0095\\\\\\\\tDeveloping a user application for demonstrating the unitary customization with real customersBSH, one of the most important companies of the home appliance sector, will lead the project. They are the perfect validators because they use several materials and aesthetics for commercial purposes is very important for them. ROFIN will be the laser developer, which is a leader company in this sector. U-MARQ is an ICT company that will work in the software for the integration of the laser in the industrial process, and the user application; WIRTHWEIN and DATALASE are leader companies and will work with plastic materials to improve the absorption properties and to obtain concrete colors different than black or white. ILVA and TORRECID will work in the field of glass and ceramic materials. Finally, 3 different groups of ICMA (from University of Zaragoza and CSIC) will participate as experts on laser and materials.\\\\u003Cbr\\\\/\\\\u003EThe company Merck has also contributed to UV-Marking during the first months of the project, before the incorporation of DATALASE.\",\"topics\":[{\"rcn\":\"16695\",\"code\":\"FoF-ICT-2011.7.1\",\"frameworkProgramme\":\"FP7\",\"id\":\"FP7_FoF-ICT-2011.7.1\",\"title\":\"Smart Factories: Energy-aware, agile manufacturing and customisation\",\"language\":\"en\"}],\"proposalMasterCall\":[],\"proposalSubCall\":[{\"rcn\":\"104304\",\"title\":\"FP7-2012-NMP-ICT-FoF\",\"identifier\":\"FP7-2012-NMP-ICT-FoF\",\"language\":\"en\"}],\"fundingScheme\":{\"code\":\"CP\",\"title\":\"Collaborative project (generic)\"}},\"organizations\":{\"coordinatorContact\":[{\"type\":\"relatedPpmContactPerson\",\"availableLanguages\":[\"en\"],\"rcn\":\"3573166\",\"title\":\"Mr\",\"firstNames\":\"Andr\\\\u00e9s\",\"lastName\":\"ESCART\\\\u00cdN BARDUZAL': 2, 'Merck KGaA': 2, 'Wirthwein AG': 2, 'ROFIN SINAR LASER GMBH': 2, 'TORRECID SA': 2, 'ILVA GLASS SPA': 2, 'U-MARQ LIMITED': 2, 'DATALASE LTD': 2, 'WIRTHWEIN GMBH & CO KG': 2, 'INESC TEC - INSTITUTO DE ENGENHARIADE SISTEMAS E COMPUTADORES, TECNOLOGIA E CIENCIA': 2, 'NEDERLANDSE ORGANISATIE VOOR TOEGEPAST NATUURWETENSCHAPPELIJK ONDERZOEK TNO': 2, 'INTERUNIVERSITAIR MICRO-ELECTRONICA CENTRUM': 2, 'POLITECNICO DI MILANO': 2, 'DEUTSCHES FORSCHUNGSZENTRUM FUR KUNSTLICHE INTELLIGENZ GMBH': 2, 'ATOS SPAIN SA': 2, 'TEKNOLOGIAN TUTKIMUSKESKUS VTT OY': 2, 'TECHNISCHE UNIVERSITEIT DELFT': 2, 'CENTRE TECHNOLOGIQUE ALPHANOV': 2, 'TECHNISCHE UNIVERSITAET DRESDEN': 2}\n",
            "False\n"
          ]
        }
      ]
    },
    {
      "cell_type": "code",
      "source": [
        "def getKeysByValue(dictOfElements, valueToFind):\n",
        "    listOfKeys = list()\n",
        "    listOfItems = dictOfElements.items()\n",
        "    for item  in listOfItems:\n",
        "        if item[1] == valueToFind:\n",
        "            listOfKeys.append(item[0])\n",
        "    return  listOfKeys\n",
        "#d = dict()\n",
        "listOfKeys = getKeysByValue(d, 2)\n",
        "print(\"Keys with value equal to 7: \")\n",
        "#Iterate over the list of keys\n",
        "for key  in listOfKeys:\n",
        "        print(key)"
      ],
      "metadata": {
        "id": "c6UlKgdTzaP_",
        "outputId": "0a14e9cd-81a7-42d3-aad2-e66d0dc29a01",
        "colab": {
          "base_uri": "https://localhost:8080/"
        }
      },
      "execution_count": 533,
      "outputs": [
        {
          "output_type": "stream",
          "name": "stdout",
          "text": [
            "Keys with value equal to 7: \n",
            "001-D18PublishableSummary2.pdf\",\"mimetype\":\"application\\/pdf\",\"title\":\"Publishable summary period 2\"}]},\"objective\":{\"projectDescription\":\"\\u003Cbr\\/\\u003ESmart Factories: Energy-aware, agile manufacturing and customisation\\u003Cbr\\/\\u003EPersonalised esthetical designs of household appliances \\u0022painted\\u0022 by new ultra-violet lasers (colour, size, text, pictures...)\\u003Cbr\\/\\u003E\",\"objective\":\"The future in manufacturing is oriented to more flexible and adaptable systems. Customization is also a great challenge and a way of giving added value to the products. And aesthetic personalization is one of the main ways for achieving customization.UV-Marking project aims at demonstrating that unitary customization (individual configurations\\/designs of each customer) is possible, by developing a new laser in the ultraviolet (UV) range that provides high quality marking on different materials.A final user will be able to select or create its own aesthetical design (colour, size, text, pictures...) using easy ICT applications and these will be marked easily by manufacturers using the new UV-laser system. The marking process will achieve high quality on marks, and high durability compared to current printed techniques.The new UV-laser system will help manufacturers with customized products, allowing shorter cycles, environmental friendliness, energy efficiency, higher integration and automation. One of the main goals will be to do the marking on-line at the end of the assembly line. It opens very interesting opportunities and possibilities for customization, but also for process optimization: delivery time, environmental impact, flexibility, shorter launching time, etc.The marking customization will be achieved by:\\u0095\\\\tDeveloping a new laser in the UV range\\u0095\\\\tAdapting existing materials for having a better beam absorption\\u0095\\\\tIntegrating the laser in the industrial process\\u0095\\\\tDeveloping a user application for demonstrating the unitary customization with real customersBSH, one of the most important companies of the home appliance sector, will lead the project. They are the perfect validators because they use several materials and aesthetics for commercial purposes is very important for them. ROFIN will be the laser developer, which is a leader company in this sector. U-MARQ is an ICT company that will work in the software for the integration of the laser in the industrial process, and the user application; WIRTHWEIN and DATALASE are leader companies and will work with plastic materials to improve the absorption properties and to obtain concrete colors different than black or white. ILVA and TORRECID will work in the field of glass and ceramic materials. Finally, 3 different groups of ICMA (from University of Zaragoza and CSIC) will participate as experts on laser and materials.\\u003Cbr\\/\\u003EThe company Merck has also contributed to UV-Marking during the first months of the project, before the incorporation of DATALASE.\",\"topics\":[{\"rcn\":\"16695\",\"code\":\"FoF-ICT-2011.7.1\",\"frameworkProgramme\":\"FP7\",\"id\":\"FP7_FoF-ICT-2011.7.1\",\"title\":\"Smart Factories: Energy-aware, agile manufacturing and customisation\",\"language\":\"en\"}],\"proposalMasterCall\":[],\"proposalSubCall\":[{\"rcn\":\"104304\",\"title\":\"FP7-2012-NMP-ICT-FoF\",\"identifier\":\"FP7-2012-NMP-ICT-FoF\",\"language\":\"en\"}],\"fundingScheme\":{\"code\":\"CP\",\"title\":\"Collaborative project (generic)\"}},\"organizations\":{\"coordinatorContact\":[{\"type\":\"relatedPpmContactPerson\",\"availableLanguages\":[\"en\"],\"rcn\":\"3573166\",\"title\":\"Mr\",\"firstNames\":\"Andr\\u00e9s\",\"lastName\":\"ESCART\\u00cdN BARDUZAL\n",
            "Merck KGaA\n",
            "Wirthwein AG\n",
            "ROFIN SINAR LASER GMBH\n",
            "TORRECID SA\n",
            "ILVA GLASS SPA\n",
            "U-MARQ LIMITED\n",
            "DATALASE LTD\n",
            "WIRTHWEIN GMBH & CO KG\n",
            "INESC TEC - INSTITUTO DE ENGENHARIADE SISTEMAS E COMPUTADORES, TECNOLOGIA E CIENCIA\n",
            "NEDERLANDSE ORGANISATIE VOOR TOEGEPAST NATUURWETENSCHAPPELIJK ONDERZOEK TNO\n",
            "INTERUNIVERSITAIR MICRO-ELECTRONICA CENTRUM\n",
            "POLITECNICO DI MILANO\n",
            "DEUTSCHES FORSCHUNGSZENTRUM FUR KUNSTLICHE INTELLIGENZ GMBH\n",
            "ATOS SPAIN SA\n",
            "TEKNOLOGIAN TUTKIMUSKESKUS VTT OY\n",
            "TECHNISCHE UNIVERSITEIT DELFT\n",
            "CENTRE TECHNOLOGIQUE ALPHANOV\n",
            "TECHNISCHE UNIVERSITAET DRESDEN\n"
          ]
        }
      ]
    },
    {
      "cell_type": "code",
      "source": [
        "print(RB_ID)"
      ],
      "metadata": {
        "id": "ajQks-XOAXCh",
        "outputId": "c40c62e5-a9b7-4d73-db2a-22ba8f77aa1d",
        "colab": {
          "base_uri": "https://localhost:8080/"
        }
      },
      "execution_count": 534,
      "outputs": [
        {
          "output_type": "stream",
          "name": "stdout",
          "text": [
            "[314630, 857237, 958448, 101006220, 603993, 232287, 314630, 675063, 825132, 687613, 876659, 720897, 654963, 232100]\n"
          ]
        }
      ]
    },
    {
      "cell_type": "code",
      "source": [
        "#print(dataS4[6])"
      ],
      "metadata": {
        "id": "NxD_L4oSbNpD"
      },
      "execution_count": 535,
      "outputs": []
    },
    {
      "cell_type": "code",
      "source": [
        "from posixpath import join\n",
        "import pptx.util\n",
        "from PIL import Image\n",
        "\n",
        "#mind. eines von folgenden Modulen wird benötigt\n",
        "from pptx import Presentation\n",
        "from pptx.chart.data import ChartData\n",
        "from pptx.enum.chart import XL_CHART_TYPE, XL_LABEL_POSITION\n",
        "from pptx.enum.shapes import MSO_SHAPE_TYPE\n",
        "from pptx.util import Cm\n",
        "from pptx.dml.color import RGBColor\n",
        "\n",
        "REPLACEMENT_IMG=\"Herunterladen.jpg\"\n",
        "\n",
        "prs  = Presentation('/content/Vorlage.pptx')\n",
        "counter = 0\n",
        "'''\n",
        "x=shape.left\n",
        "y=shape.top\n",
        "width=shape.width\n",
        "height=shape.height\n",
        "'''\n",
        "Liste=np.empty((0,4),int)\n",
        "\n",
        "slide = prs.slides[2]\n",
        "pic = slide.shapes.add_picture(\"/content/kat.png\", 2000000, 1000000, 8000000, 4000000)\n",
        "\n",
        "for shape in prs.slides[3].shapes:\n",
        "  if not shape.has_text_frame:\n",
        "    slide = prs.slides[3]\n",
        "    t=[[shape.left,shape.top,shape.width,shape.height]]\n",
        "    Liste = np.append(Liste,t,axis=0)\n",
        "    pic = shape._element\n",
        "    pic.getparent().remove(pic)\n",
        "    print(type(shape))\n",
        "    #if counter==2:\n",
        "    #  shape.add_chart().chart#replace_data()\n",
        "\n",
        "    #print(shape.text)\n",
        "    counter+=1\n",
        "    continue\n",
        "\n",
        "  #print(type(shape))\n",
        "  #print(shape.text)\n",
        "\n",
        "\n",
        "  if \"Vaillant GmbH\" in shape.text:\n",
        "    shape.text_frame.paragraphs[0].runs[0].text = b0\n",
        "\n",
        "  if \"Unternehmenseckzahlen\" in shape.text:\n",
        "    print(len(shape.text_frame.paragraphs))\n",
        "    shape.text_frame.paragraphs[0].runs[0].text = shape.text_frame.paragraphs[0].runs[0].text.replace(\"2020\", e1)\n",
        "    shape.text_frame.paragraphs[1].runs[0].text = shape.text_frame.paragraphs[1].runs[0].text.replace(\"Remscheid\", c)\n",
        "    shape.text_frame.paragraphs[2].runs[0].text = shape.text_frame.paragraphs[2].runs[0].text.replace(\"2,7\", d2a)\n",
        "    shape.text_frame.paragraphs[3].runs[0].text = shape.text_frame.paragraphs[3].runs[0].text.replace(\"15.000\", d1a)\n",
        "    #shape.text_frame.paragraphs[4].runs[0].text = shape.text_frame.paragraphs[4].runs[0].text\n",
        "    for i in range(6,len(shape.text_frame.paragraphs)):\n",
        "      for j in range(0,len(shape.text_frame.paragraphs[i].runs)):\n",
        "        #print(\"i: \", i, \" j: \", j)\n",
        "        #print(shape.text_frame.paragraphs[i].runs[j].text)\n",
        "        shape.text_frame.paragraphs[i].runs[j].text = \"\"\n",
        "\n",
        "\n",
        "  if \"7 EU Projekte\" in shape.text:\n",
        "    text001=\"7 von 158\" + \" EU Projekte im Zeitraum von \" + str(Nulla) + \" - \" + str(Nullb) + \" mit einem \"\n",
        "    text002=\"EU-Zuschuss\"\n",
        "    text003=\" von insgesamt \"\n",
        "    text004=str(ggg) + \" Mio € (\"\n",
        "    text005=str(list(set(datacb))) + \"); Letztes Projekt \" + str(gg) + \"; Projektkoordination ...; \" + str(cou) \\\n",
        "    + \" verschiedene Konsortialpartner in \" + str(len(set(dataca))) + \" Ländern.\"\n",
        "\n",
        "\n",
        "    shape.text = \"foobar\"\n",
        "    text_frame = shape.text_frame\n",
        "    text_frame.clear()\n",
        "    p = text_frame.paragraphs[0]\n",
        "\n",
        "    p.add_run().text = text001\n",
        "    p.runs[0].font.bold = False\n",
        "    p.add_run().text = text002\n",
        "    p.runs[1].font.bold = True\n",
        "    p.add_run().text = text003\n",
        "    p.runs[2].font.bold = False\n",
        "    p.add_run().text = text004\n",
        "    p.runs[3].font.bold = True\n",
        "    p.add_run().text = text005\n",
        "    p.runs[4].font.bold = False\n",
        "\n",
        "    print(\"jj: \", shape.text)\n",
        "\n",
        "    #print(shape.text_frame.paragraphs[0].runs[0].text)\n",
        "    #print(len(shape.text_frame.paragraphs[0].runs), \"LLLL\")\n",
        "    '''\n",
        "    shape.text = shape.text.replace(\"7 EU Projekte\", \"7 von 158 EU Projekte\")\n",
        "    shape.text = shape.text.replace(\"Zeitraum von 1.4.2012 - 30.9.2023\", \"Zeitraum von \" + str(Nulla) + str(Nullb))\n",
        "    shape.text = shape.text.replace(\"insgesamt 3,5\", \"insgesamt \" + str(ggg))\n",
        "    shape.text = shape.text.replace(\"(FP7 und H2020)\", \"(\"+str(list(set(datacb)))+\")\")\n",
        "    shape.text = shape.text.replace(\"Letztes Projekt 2019\", \"Letztes Projekt \" + str(gg))\n",
        "    shape.text = shape.text.replace(\"154 v\", str(cou) + \" v\")\n",
        "    shape.text = shape.text.replace(\"16 L\", str(len(set(dataca))) + \" L\")\n",
        "    '''\n",
        "    for paragraph in shape.text_frame.paragraphs:\n",
        "      paragraph.font.name = 'Thaoma'\n",
        "      paragraph.font.size = Pt(14)\n",
        "      paragraph.font.bold = True\n",
        "\n",
        "  if \"Ersten 5 EU-Kennwörter: \" in shape.text:\n",
        "\n",
        "    #for i in range(0,5):\n",
        "      #KeyString=\"K\"+str(i+1)\n",
        "      #print(\"33333: \", shape.text_frame.paragraphs[2].runs[3].text)\n",
        "      #print(KeyString)\n",
        "      #print(shape.text_frame.paragraphs[2].runs[4+i*2].text.replace(KeyString, Keywords[i]))\n",
        "      shape.text_frame.paragraphs[2].runs[3].text = \"1) \"+Keywords[0]+\" 2) \"+Keywords[1]+\" 3) \"+Keywords[2]+\" 4) \"+Keywords[3]#+\" 5) \"+Keywords[4]\n",
        "      #print(Keywords[i])\n",
        "      #print(shape.text_frame.paragraphs[2].runs[4+i*2].text)\n",
        "    \n",
        "  if \"Unternehmenskennzahl):  \" in shape.text:\n",
        "    shape.text = shape.text.replace(str(Firmen_ID), pic0)\n",
        "    for paragraph in shape.text_frame.paragraphs:\n",
        "      paragraph.font.name = 'Thaoma'\n",
        "      paragraph.font.size = Pt(12)\n",
        "      paragraph.font.bold = False\n",
        "\n",
        "    '''\n",
        "    for i in range(0,len(shape.text_frame.paragraphs)):\n",
        "      for j in range(0,len(shape.text_frame.paragraphs[i].runs)):\n",
        "        print(\"i: \", i, \" j: \", j)\n",
        "        print(shape.text_frame.paragraphs[i].runs[j].text)\n",
        "    '''\n",
        "\n",
        "#shape = slide.shapes.add_chart(style, type, Liste[1][0], Liste[1][1], Liste[1][2], Liste[1][3])\n",
        "\n",
        "#pic = slide.shapes.add_picture(\"Herunterladen.jpg\", x, y, width, height)\n",
        "pic = slide.shapes.add_picture(\"/content/logo.png\", Liste[1][0], Liste[1][1], Liste[1][2], Liste[1][3])\n",
        "\n",
        "\n",
        "\n",
        "chart = slide.shapes.add_chart(XL_CHART_TYPE.COLUMN_CLUSTERED, Liste[3][0], Liste[3][1], Liste[3][2], Liste[3][3], chart_data)\n",
        "chart2 = slide.shapes.add_chart(XL_CHART_TYPE.BAR_CLUSTERED, Liste[2][0], Liste[2][1], Liste[2][2], Liste[2][3], chart_data2)\n",
        "\n",
        "chart.chart.category_axis.tick_labels.font.size = Pt(8)#100000\n",
        "chart.chart.category_axis.tick_labels.font.name = 'Thaoma'\n",
        "chart.chart.has_title = False\n",
        "chart.chart.series[0].format.fill.solid()\n",
        "chart.chart.series[0].format.fill.fore_color.rgb = RGBColor(0,60,100)\n",
        "#chart.chart.vary_by_categories = False\n",
        "\n",
        "chart2.chart.category_axis.tick_labels.font.size = Pt(8)#100000\n",
        "chart2.chart.category_axis.tick_labels.font.name = 'Thaoma'\n",
        "chart2.chart.has_title = False\n",
        "chart2.chart.series[0].format.fill.solid()\n",
        "chart2.chart.series[0].format.fill.fore_color.rgb = RGBColor(0,60,100)\n",
        "\n",
        "#Seite 4:\n",
        "counter = 0\n",
        "counter2 = 0\n",
        "counter3 = 0\n",
        "Liste1=np.empty((0,4),int)\n",
        "for shape in prs.slides[4].shapes:\n",
        "  if shape.has_text_frame:\n",
        "    print(shape.text)\n",
        "    #print(counter2, shape.text)\n",
        "    if \"Vaillant GmbH\" in shape.text:\n",
        "      shape.text_frame.paragraphs[0].runs[0].text = b0\n",
        "    #if counter2 >= 5 and counter2 <= 11:\n",
        "    if str(counter3) in shape.text:\n",
        "      shape.text = \"foobar\"\n",
        "      text_frame = shape.text_frame\n",
        "      text_frame.clear()\n",
        "      p = text_frame.paragraphs[0]\n",
        "      \n",
        "      p.add_run().text = dataS4[counter3] + \"\\n\"\n",
        "      p.runs[0].font.color.rgb = RGBColor(80,95,100)#0x3F, 0x2c, 0x36)\n",
        "      p.runs[0].font.name = 'Thaoma'\n",
        "      p.runs[0].font.bold = True\n",
        "      p.runs[0].font.size = Pt(12)\n",
        "      hlink = p.runs[0].hyperlink\n",
        "      hlink.address = 'https://cordis.europa.eu/project/id/' + str(RB_ID[counter3])\n",
        "\n",
        "      '''\n",
        "        z.text = 'link to data @ cordis'\n",
        "        hlink = z.hyperlink\n",
        "        hlink.address = 'https://cordis.europa.eu/project/id/' + str(RB_ID[p]) \n",
        "      '''\n",
        "\n",
        "      p.add_run().text = \"Gesamtvolumen  \" + str(round(float(dataS4w[counter3])/1000000.0,1)) + \" Mio € | EU-Förderquote \" +\\\n",
        "      str(round(100*float(dataS4q[counter3])/float(dataS4w[counter3]),1)) + \"% | \" + str(round(dataS4e[counter3])) + \" Konsortialpartner\"\n",
        "      #print(\"Gesamtvolumen  \" + str(round(float(dataS4w[counter2-5])/1000000.0,1)) + \" Mio € | EU-Förderquote \" +\\\n",
        "      #str(round(100*float(dataS4q[counter2-5])/float(dataS4w[counter2-5]),1)) + \"% | \" + str(round(dataS4e[counter2-5])) + \" Konsortialpartner\")\n",
        "      p.runs[1].font.color.rgb = RGBColor(80,95,100)#0x3F, 0x2c, 0x36)\n",
        "      p.runs[1].font.bold = False\n",
        "      p.runs[1].font.size = Pt(12)\n",
        "      #print(shape.text)\n",
        "      counter3 += 1\n",
        "    #counter2 += 1\n",
        "    if \"Tags\" in shape.text:\n",
        "      #print(\"wwqq\")\n",
        "      shape.text_frame.paragraphs[0].runs[0].text = str(bids)#str(bibDict[0])\n",
        "\n",
        "    '''\n",
        "        z = shape.text_frame.paragraphs[0].runs[0]\n",
        "        z.text = 'link to data @ cordis'\n",
        "        hlink = z.hyperlink\n",
        "        hlink.address = 'https://cordis.europa.eu/project/id/' + str(RB_ID[p]) \n",
        "    '''\n",
        "  #Namen in dataS4 gespeichert\n",
        "  #print(shape)\n",
        "  if not shape.has_text_frame:\n",
        "    #if counter == 1:\n",
        "    #print(\"qqq\", shape)\n",
        "    slide = prs.slides[4]\n",
        "    t=[[shape.left,shape.top,shape.width,shape.height]]\n",
        "    #print(t)\n",
        "    Liste1 = np.append(Liste1,t,axis=0)\n",
        "    pic = shape._element\n",
        "    pic.getparent().remove(pic)\n",
        "\n",
        "    counter+=1\n",
        "    continue\n",
        "\n",
        "#print(\"hhh: \", Liste1)\n",
        "pic = slide.shapes.add_picture(\"/content/wordC.png\", Liste1[1][0], Liste1[1][1], Liste1[1][2], Liste1[1][3]) #wordC.png\n",
        "\n",
        "#Seite5\n",
        "'''\n",
        "counter5=0\n",
        "slide = prs.slides[5]\n",
        "for shape in prs.slides[5].shapes:\n",
        "  if shape.shape_type == MSO_SHAPE_TYPE.GROUP:\n",
        "    for s in shape:\n",
        "      print(s.text)\n",
        "\n",
        "\n",
        "\n",
        "group_shapes = [\n",
        "  shape for shape in slide.shapes\n",
        "  if shape.shape_type == MSO_SHAPE_TYPE.GROUP\n",
        "]\n",
        "print(len(group_shapes))\n",
        "\n",
        "for group_shape in group_shapes:\n",
        "  for shape in group_shape.shapes:\n",
        "    if shape.has_text_frame:\n",
        "      print(shape.text)\n",
        "\n",
        "'''\n",
        "\n",
        "#print(group_shapes)\n",
        "#print(group_shapes.text)\n",
        "'''\n",
        "  for group_shape in group_shapes:\n",
        "        for shape in group_shape.shapes:\n",
        "            if shape.has_text_frame:\n",
        "                print(shape.text)\n",
        "'''\n",
        "#counteer=0\n",
        "bool1=True\n",
        "for shape in prs.slides[5].shapes:\n",
        "  #counter5+=1\n",
        "  #print(\"TEST: \", counter5, shape)\n",
        "  if shape.has_text_frame:\n",
        "    #print(\"TEEEST: \", counter5, shape.text)\n",
        "    print(\"RRR: \", shape.text)\n",
        "    if \"Vaillant GmbH\" in shape.text:\n",
        "      shape.text_frame.paragraphs[0].runs[0].text = b0\n",
        "\n",
        "    '''\n",
        "    if \"COMTES\" in shape.text:\n",
        "      shape.text_frame.paragraphs[0].runs[0].text = str(mT[0])+str(qyT[0])\n",
        "    if \"ene.field\" in shape.text:\n",
        "      shape.text_frame.paragraphs[0].runs[0].text = str(mT[1])+str(qyT[1])\n",
        "    if \"iNSPiRe\" in shape.text:\n",
        "      shape.text_frame.paragraphs[0].runs[0].text = str(mT[2])+str(qyT[2])\n",
        "    if \"CREATE\" in shape.text:\n",
        "      shape.text_frame.paragraphs[0].runs[0].text = str(mT[3])+str(qyT[3])\n",
        "    if \"HEATSTACK\" in shape.text:\n",
        "      shape.text_frame.paragraphs[0].runs[0].text = str(mT[4])+str(qyT[4])\n",
        "    if \"PACE\" in shape.text:\n",
        "      shape.text_frame.paragraphs[0].runs[0].text = str(mT[5])+str(qyT[5])\n",
        "    if \"InterConnect\" in shape.text:\n",
        "      shape.text_frame.paragraphs[0].runs[0].text = str(mT[6])+str(qyT[6])\n",
        "    '''\n",
        "\n",
        "    if bool1==True and 1==0:\n",
        "      h = shape.text_frame.add_paragraph()\n",
        "      h.text = \"AKRO: \" + str(mT)\n",
        "      h = shape.text_frame.add_paragraph()\n",
        "      h.text = \"nonEcContribution: \" + str(mT1)\n",
        "      h = shape.text_frame.add_paragraph()\n",
        "      h.text = \"nonEcContribution: \" + str(mT2)\n",
        "      h = shape.text_frame.add_paragraph()\n",
        "      h.text = \"VON: \" + str(datesa)\n",
        "      h = shape.text_frame.add_paragraph()\n",
        "      h.text = \"BIS: \" + str(datesb)\n",
        "      hh = shape.text_frame.add_paragraph()\n",
        "      hh.text = \"ZSM: \" + str(qyT)\n",
        "      bool1=False\n",
        "      print(qyT)\n",
        "\n",
        "    if \"Informationen\" in shape.text:\n",
        "      #shape.text_frame.paragraphs[0].runs[0].text = \"TEST\"\n",
        "      h = shape.text_frame.add_paragraph()\n",
        "      h.text = \"AKRO: \" + str(mT)\n",
        "      h = shape.text_frame.add_paragraph()\n",
        "      h.text = \"nonEcContribution: \" + str(mT1)\n",
        "      h = shape.text_frame.add_paragraph()\n",
        "      h.text = \"nonEcContribution: \" + str(mT2)\n",
        "      h = shape.text_frame.add_paragraph()\n",
        "      h.text = \"VON: \" + str(datesa)\n",
        "      h = shape.text_frame.add_paragraph()\n",
        "      h.text = \"BIS: \" + str(datesb)\n",
        "      hh = shape.text_frame.add_paragraph()\n",
        "      hh.text = \"ZSM: \" + str(qyT)\n",
        "\n",
        "\n",
        "#Seite6\n",
        "counter = 0\n",
        "counter2 = 0\n",
        "Liste6=np.empty((0,4),int)\n",
        "dict6 = dict()\n",
        "for shape in prs.slides[6].shapes:\n",
        "  if not shape.has_text_frame and counter2 <2:\n",
        "    slide = prs.slides[6]\n",
        "    t=[[shape.left,shape.top,shape.width,shape.height]]\n",
        "    Liste6 = np.append(Liste6,t,axis=0)\n",
        "    pic = shape._element\n",
        "    pic.getparent().remove(pic)\n",
        "    print(\"REMOVE\")\n",
        "    print(type(shape))\n",
        "    counter2+=1\n",
        "    continue\n",
        "  if shape.has_text_frame:\n",
        "    #print(shape.text)\n",
        "    if \"Vaillant GmbH\" in shape.text:\n",
        "      shape.text_frame.paragraphs[0].runs[0].text = b0\n",
        "    if \"Partner in einem\" in shape.text or \"Partner in zwei\" in shape.text or \"Partner in drei\" in shape.text:\n",
        "      shape.text = \"foobar\"\n",
        "      text_frame = shape.text_frame\n",
        "      text_frame.clear()\n",
        "      #p = text_frame.paragraphs[0]\n",
        "    if \"Zusammenarbeit in 3\" in shape.text:\n",
        "      shape.text = \"foobar\"\n",
        "      text_frame = shape.text_frame\n",
        "      text_frame.clear()\n",
        "\n",
        "      for o in reversed(range(1,7)):\n",
        "        #print(o)\n",
        "        if o in d.values():\n",
        "          text_frame.add_paragraph()\n",
        "          p = text_frame.paragraphs[2*counter]#2*counter\n",
        "          p.level = 0\n",
        "          p.add_run().text = \"Zusammenarbeit in \" + str(o) + \" von 9 Projekten\" + \"\\n\"\n",
        "          p.runs[0].font.color.rgb = RGBColor(80,95,100)#0x3F, 0x2c, 0x36)\n",
        "          p.runs[0].font.name = 'Thaoma'\n",
        "          p.runs[0].font.bold = True\n",
        "          p.runs[0].font.size = Pt(14)\n",
        "          text_frame.add_paragraph()\n",
        "          p = text_frame.paragraphs[2*counter+1]\n",
        "          p.level = 1\n",
        "          p.add_run().text = str(getKeysByValue(d, o)) + \"\\n\"\n",
        "          p.runs[0].font.color.rgb = RGBColor(80,95,100)#0x3F, 0x2c, 0x36)\n",
        "          p.runs[0].font.name = 'Thaoma'\n",
        "          p.runs[0].font.bold = True\n",
        "          p.runs[0].font.size = Pt(12)\n",
        "          dict6.update({str(o): str(getKeysByValue(d, o))})\n",
        "          #Liste6b = np.append(Liste6b,t,axis=0)\n",
        "          counter += 1\n",
        "        if o==1:\n",
        "          text_frame.add_paragraph()\n",
        "          p = text_frame.paragraphs[2*counter]\n",
        "          p.level = 0\n",
        "          p.add_run().text = \"Mit den übrigen \" + str(len(PartiSet) - len(Partix)) + \" der insgesamt \"+ str(len(PartiSet)-1) +\" Projektpartnern wurde jeweils nur in einem Projekt zusammengearbeitet.\"\n",
        "          #\"Zusammenarbeit in \" + str(o) + \" von 7 Projekten\" + \"\\n\"\n",
        "          p.runs[0].font.color.rgb = RGBColor(80,95,100)#0x3F, 0x2c, 0x36)\n",
        "          p.runs[0].font.name = 'Thaoma'\n",
        "          p.runs[0].font.bold = True\n",
        "          p.runs[0].font.size = Pt(14)\n",
        "\n",
        "\n",
        "#print(\"aa\")\n",
        "\n",
        "print(Liste6, Liste6.shape)\n",
        "chart3 = prs.slides[6].shapes.add_chart(XL_CHART_TYPE.PIE_EXPLODED, Liste6[1][0], Liste6[1][1], Liste6[1][2]+100, Liste6[1][3]+100, chart_data3)\n",
        "#chart3.chart.category_axis.tick_labels.font.size = Pt(8)#100000\n",
        "#chart3.chart.category_axis.tick_labels.font.name = 'Thaoma'\n",
        "chart3.chart.has_title = False\n",
        "chart3.chart.series[0].format.fill.solid()\n",
        "chart3.chart.series[0].format.fill.fore_color.rgb = RGBColor(0,60,100)\n",
        "#chart.chart.vary_by_categories = False\n",
        "chart3.chart.series[0].data_labels.show_category_name = True\n",
        "chart3.chart.series[0].data_labels.position = XL_LABEL_POSITION.BEST_FIT#OUTSIDE_END\n",
        "chart3.chart.series[0].data_labels.font.color.rgb = RGBColor(80,95,100)\n",
        "#Partix\n",
        "\n",
        "#2.Teil:\n",
        "name1=\"H2020\"\n",
        "name2=\"COMTES\"\n",
        "name3=\"abgeschlossen\"\n",
        "for p in range(0,3):\n",
        "  for shape in prs.slides[9+p*2].shapes:\n",
        "    if shape.has_text_frame:\n",
        "      #print(shape.text)\n",
        "      if \"Vaillant GmbH\" in shape.text:#Vaillant GmbH: H2020-Projekt COMTES (abgeschlossen)\n",
        "        shape.text_frame.paragraphs[0].runs[0].text = b0 + qyT[p]#\": \"+name1+\"-Projekt \"+name2+\" (\"+name3+\")\"\n",
        "      if \"TEST111\" in shape.text:\n",
        "        shape.text_frame.paragraphs[0].runs[0].text = qy[p]\n",
        "      if \"gghh\" in shape.text:\n",
        "        z = shape.text_frame.paragraphs[0].runs[0]\n",
        "        z.text = 'link to data @ cordis'\n",
        "        hlink = z.hyperlink\n",
        "        hlink.address = 'https://cordis.europa.eu/project/id/' + str(RB_ID[p]) \n",
        "        #r = shape.text_frame.paragraphs[0].add_run()#.runs[0]\n",
        "        #r.text = \n",
        "        #r.hyperlink.adress = 'https://cordis.europa.eu/project/id/' + str(RB_ID[p])\n",
        "\n",
        "'''\n",
        "r = p.add_run()\n",
        "r.text = 'https://cordis.europa.eu/project/id/' + BllA\n",
        "hlink = r.hyperlink\n",
        "hlink.address = 'https://github.com/scanny/python-pptx'\n",
        "'''\n",
        "\n",
        "#chart.set_x_axis({'name': 'Index', 'num_font':  {'rotation': 45}})\n",
        "#{'type': 'column'}\n",
        "print(\"Position not shape.has_text_frame\", Liste)\n",
        "prs.save(\"testp.pptx\") # save changes"
      ],
      "metadata": {
        "id": "vF8FicGMzdK3",
        "outputId": "3e678bbd-6ba9-41e4-e5af-f5c811a83b36",
        "colab": {
          "base_uri": "https://localhost:8080/"
        }
      },
      "execution_count": 540,
      "outputs": [
        {
          "output_type": "stream",
          "name": "stdout",
          "text": [
            "<class 'pptx.shapes.graphfrm.GraphicFrame'>\n",
            "<class 'pptx.shapes.picture.Picture'>\n",
            "12\n",
            "jj:  7 von 158 EU Projekte im Zeitraum von 2009-07-01 - 2025-05-31 mit einem EU-Zuschuss von insgesamt 121.8 Mio € (['FP7', 'H2020']); Letztes Projekt 2021; Projektkoordination ...; 339 verschiedene Konsortialpartner in 28 Ländern.\n",
            "<class 'pptx.shapes.graphfrm.GraphicFrame'>\n",
            "<class 'pptx.shapes.graphfrm.GraphicFrame'>\n",
            "*) Die Textfelder sind mit den Projektbeschreibungen in der „Cordis-Datenbank“ verlinkt; dort finden sich detailliertere Angaben zum Projektinhalt und zu den Konsortialpartnern. \n",
            "Lithium Balance AS\n",
            "EU-Projektübersicht*)\n",
            "5\n",
            "Vertraulich C1\n",
            "0\n",
            "Funding Profile - Vaillant\n",
            "Tags\n",
            "1\n",
            "2\n",
            "RRR:  Vaillant GmbH\n",
            "RRR:  EU-Projekte im zeitlichen Verlauf\n",
            "RRR:  6\n",
            "RRR:  2012\n",
            "RRR:  2013\n",
            "RRR:  2014\n",
            "RRR:  2015\n",
            "RRR:  2016\n",
            "RRR:  2017\n",
            "RRR:  2018\n",
            "RRR:  2019\n",
            "RRR:  2020\n",
            "RRR:  2021\n",
            "RRR:  2022\n",
            "RRR:  2023\n",
            "RRR:  \n",
            "RRR:  126 T€\n",
            "RRR:  2,9\n",
            "Mio €\n",
            "RRR:  Funding Profile - Vaillant\n",
            "RRR:  \n",
            "RRR:  Projektlaufzeit\n",
            "RRR:  EU-Zuschuss für das betrachtete Unternehmen\n",
            "RRR:  < 100 T€\n",
            "RRR:  100 T€ - 1 Mio €\n",
            "RRR:  > 1 Mio €\n",
            "RRR:  Legende\n",
            "RRR:  Vertraulich C1\n",
            "RRR:  Informationen\n",
            "REMOVE\n",
            "<class 'pptx.shapes.graphfrm.GraphicFrame'>\n",
            "REMOVE\n",
            "<class 'pptx.shapes.graphfrm.GraphicFrame'>\n",
            "[[   1588    1588    1588    1588]\n",
            " [4666459 2584244 2974490 2216013]] (2, 4)\n",
            "Position not shape.has_text_frame [[   1588    1588    1588    1588]\n",
            " [ 647700 1307198 3457575  926659]\n",
            " [7917136 2734560 3790950 2333950]\n",
            " [4888043 2754117 3029093 2187995]]\n"
          ]
        }
      ]
    },
    {
      "cell_type": "markdown",
      "source": [
        ""
      ],
      "metadata": {
        "id": "qErlbnK6zXsX"
      }
    },
    {
      "cell_type": "markdown",
      "source": [
        ""
      ],
      "metadata": {
        "id": "W4nFWh2JzXod"
      }
    },
    {
      "cell_type": "markdown",
      "source": [
        ""
      ],
      "metadata": {
        "id": "rcqUWSD3zXkp"
      }
    },
    {
      "cell_type": "markdown",
      "source": [
        ""
      ],
      "metadata": {
        "id": "tNNWLqS-zXgv"
      }
    },
    {
      "cell_type": "markdown",
      "source": [
        ""
      ],
      "metadata": {
        "id": "JwMBTTOKzXct"
      }
    },
    {
      "cell_type": "markdown",
      "source": [
        ""
      ],
      "metadata": {
        "id": "rCoAp17MzXYx"
      }
    },
    {
      "cell_type": "code",
      "source": [
        ""
      ],
      "metadata": {
        "id": "EmOQb11kFxeK"
      },
      "execution_count": null,
      "outputs": []
    },
    {
      "cell_type": "markdown",
      "source": [
        "PPTX"
      ],
      "metadata": {
        "id": "Q3EeVwgeRF6G"
      }
    },
    {
      "cell_type": "markdown",
      "source": [
        "https://towardsdatascience.com/standing-out-from-the-cloud-how-to-shape-and-format-a-word-cloud-bf54beab3389\n",
        "\n",
        "Interessante mask!!!!!!!!!HIER!!!!!!"
      ],
      "metadata": {
        "id": "4VkxXQsQ2D9D"
      }
    },
    {
      "cell_type": "code",
      "source": [
        "from PIL import Image\n",
        "from wordcloud import WordCloud, STOPWORDS, ImageColorGenerator\n",
        "import matplotlib.pyplot as plt\n",
        "%matplotlib inline\n",
        "import numpy as np"
      ],
      "metadata": {
        "id": "HujgDgbOp-x4"
      },
      "execution_count": 537,
      "outputs": []
    },
    {
      "cell_type": "code",
      "source": [
        "from PIL import Image\n",
        "from wordcloud import WordCloud, STOPWORDS, ImageColorGenerator\n",
        "import matplotlib.pyplot as plt\n",
        "%matplotlib inline\n",
        "import numpy as np"
      ],
      "metadata": {
        "id": "J58qaM9ls6ba"
      },
      "execution_count": 538,
      "outputs": []
    },
    {
      "cell_type": "code",
      "source": [
        "emoji_text=text"
      ],
      "metadata": {
        "id": "Y5DA0k-ntGHx",
        "colab": {
          "base_uri": "https://localhost:8080/",
          "height": 165
        },
        "outputId": "c569a41f-98e2-4337-95c6-c1b95397f9d3"
      },
      "execution_count": 539,
      "outputs": [
        {
          "output_type": "error",
          "ename": "NameError",
          "evalue": "ignored",
          "traceback": [
            "\u001b[0;31m---------------------------------------------------------------------------\u001b[0m",
            "\u001b[0;31mNameError\u001b[0m                                 Traceback (most recent call last)",
            "\u001b[0;32m<ipython-input-539-894354956618>\u001b[0m in \u001b[0;36m<module>\u001b[0;34m()\u001b[0m\n\u001b[0;32m----> 1\u001b[0;31m \u001b[0memoji_text\u001b[0m\u001b[0;34m=\u001b[0m\u001b[0mtext\u001b[0m\u001b[0;34m\u001b[0m\u001b[0;34m\u001b[0m\u001b[0m\n\u001b[0m",
            "\u001b[0;31mNameError\u001b[0m: name 'text' is not defined"
          ]
        }
      ]
    },
    {
      "cell_type": "code",
      "source": [
        "# Default WordCloud\n",
        "wordcloud = WordCloud().generate(emoji_text)  \n",
        "plt.figure(figsize=(10,6))\n",
        "plt.imshow(wordcloud)\n",
        "plt.axis('off')\n",
        "plt.show()"
      ],
      "metadata": {
        "id": "qbEI_hg8s6B0"
      },
      "execution_count": null,
      "outputs": []
    },
    {
      "cell_type": "code",
      "source": [
        "wordcloud = WordCloud(max_font_size=80, max_words=1000, background_color='black', colormap='Paired').generate(emoji_text)"
      ],
      "metadata": {
        "id": "WPpQ4Kkms5-1"
      },
      "execution_count": null,
      "outputs": []
    },
    {
      "cell_type": "code",
      "source": [
        "stopwords = set(STOPWORDS)\n",
        "font_path = \"content\""
      ],
      "metadata": {
        "id": "7cGtrGYHs571"
      },
      "execution_count": null,
      "outputs": []
    },
    {
      "cell_type": "code",
      "source": [
        "mask2 = np.array(Image.open(\"Bosch.jpg\"))\n",
        "emo2 = WordCloud(background_color=\"white\", max_words=100, mask=mask2, stopwords=stopwords,\n",
        "               min_font_size=10, colormap='Dark2')\n",
        "# Generate a wordcloud\n",
        "emo2.generate(emoji_text)\n"
      ],
      "metadata": {
        "id": "wEtQQvQLs55D"
      },
      "execution_count": null,
      "outputs": []
    },
    {
      "cell_type": "code",
      "source": [
        "import matplotlib.pyplot as plt\n",
        "from google.colab.patches import cv2_imshow\n",
        "\n",
        "mask = np.array(Image.open('BoschI.jpg'))\n",
        "# Get the color map by name:\n",
        "cm = plt.get_cmap('gist_rainbow')#, lut=8)\n",
        "#cm = plt.get_cmap('gist_rainbow')\n",
        "\n",
        "# Apply the colormap like a function to any array:\n",
        "colored_image = cm(mask)\n",
        "\n",
        "colored_image.shape\n",
        "\n",
        "#Wie speichert man das?? (Neue Farben für ein Bild)\n"
      ],
      "metadata": {
        "id": "ocEUH4Ouy4VD"
      },
      "execution_count": null,
      "outputs": []
    },
    {
      "cell_type": "code",
      "source": [
        "from skimage import data, color, io, img_as_float\n",
        "import numpy as np\n",
        "import matplotlib.pyplot as plt\n",
        "\n",
        "alpha = 0.6\n",
        "\n",
        "img = img_as_float(data.camera())\n",
        "rows, cols = img.shape\n",
        "\n",
        "# Construct a colour image to superimpose\n",
        "color_mask = np.zeros((rows, cols, 3))\n",
        "color_mask[30:140, 30:140] = [1, 0, 0]  # Red block\n",
        "color_mask[170:270, 40:120] = [0, 1, 0] # Green block\n",
        "color_mask[200:350, 200:350] = [0, 0, 1] # Blue block\n",
        "\n",
        "# Construct RGB version of grey-level image\n",
        "img_color = np.dstack((img, img, img))\n",
        "\n",
        "# Convert the input image and color mask to Hue Saturation Value (HSV)\n",
        "# colorspace\n",
        "img_hsv = color.rgb2hsv(img_color)\n",
        "color_mask_hsv = color.rgb2hsv(mask)#color_mask)\n",
        "\n",
        "# Replace the hue and saturation of the original image\n",
        "# with that of the color mask\n",
        "img_hsv[..., 0] = color_mask_hsv[..., 0]\n",
        "img_hsv[..., 1] = color_mask_hsv[..., 1] * alpha\n",
        "\n",
        "img_masked = color.hsv2rgb(img_hsv)\n",
        "\n",
        "# Display the output\n",
        "f, (ax0, ax1, ax2) = plt.subplots(1, 3,\n",
        "                                  subplot_kw={'xticks': [], 'yticks': []})\n",
        "ax0.imshow(img, cmap=plt.cm.gray)\n",
        "ax1.imshow(mask)#color_mask)\n",
        "ax2.imshow(img_masked)\n",
        "plt.show()"
      ],
      "metadata": {
        "id": "jQCxE9vsH2pC"
      },
      "execution_count": null,
      "outputs": []
    },
    {
      "cell_type": "code",
      "source": [
        "import cv2\n",
        "\n",
        "# note — need to set max font size, or font extends over the colors\n",
        "mask = np.array(Image.open('BoschI.jpg').crop((0, 0, 512, 512)))#)#.crop((250, 130, 850, 700)))\n",
        "#mask = cv2.cvtColor(mask,cv2.COLOR_GRAY2RGB)\n",
        "emo_clr = WordCloud(background_color='white', mode='RGBA', max_words=1000, relative_scaling=0.3, max_font_size=20, min_font_size=10, mask=mask).generate(emoji_text)\n",
        "#, min_font_size=18, max_font_size=28,\n",
        "\n",
        "# create coloring from image\n",
        "image_colors = ImageColorGenerator(mask)\n",
        "plt.figure(figsize=[7,7])\n",
        "#Problem with gray scale image\n",
        "plt.imshow(emo_clr.recolor(color_func=image_colors), interpolation='bilinear')\n",
        "plt.axis('off')\n",
        "plt.show()\n",
        "plt.imshow(mask, interpolation='bilinear')\n",
        "plt.axis('off')\n",
        "plt.show()"
      ],
      "metadata": {
        "id": "sNH0bXwgte9u"
      },
      "execution_count": null,
      "outputs": []
    },
    {
      "cell_type": "code",
      "source": [
        ""
      ],
      "metadata": {
        "id": "haPoXJeCte6o"
      },
      "execution_count": null,
      "outputs": []
    },
    {
      "cell_type": "code",
      "source": [
        ""
      ],
      "metadata": {
        "id": "rlw203Gate31"
      },
      "execution_count": null,
      "outputs": []
    },
    {
      "cell_type": "code",
      "source": [
        ""
      ],
      "metadata": {
        "id": "t8tPhQPete1K"
      },
      "execution_count": null,
      "outputs": []
    },
    {
      "cell_type": "code",
      "source": [
        "#https://www.geeksforgeeks.org/python-pillow-colors-on-an-image/\n",
        "from PIL import Image\n",
        " \n",
        " \n",
        "img = Image.open(\"Bosch.jpg\")\n",
        "img = img.convert(\"RGB\")\n",
        " \n",
        "d = img.getdata()\n",
        " \n",
        "new_image = []\n",
        "for item in d:\n",
        "   \n",
        "    # change all white (also shades of whites)\n",
        "    # pixels to yellow\n",
        "    if item[0] in list(range(200, 256)):\n",
        "        new_image.append((255, 100, 100))\n",
        "    elif item[0] in list(range(0, 256)):\n",
        "        new_image.append((100, 255, 100))\n",
        "    else:\n",
        "        new_image.append(item)\n",
        "         \n",
        "# update image data\n",
        "img.putdata(new_image)#_data)\n",
        "#print(new_image.shape)\n",
        "# save new image\n",
        "img.save(\"BoschI.jpg\")"
      ],
      "metadata": {
        "id": "nT2m8uJ33PDh"
      },
      "execution_count": null,
      "outputs": []
    },
    {
      "cell_type": "markdown",
      "source": [
        "HIER"
      ],
      "metadata": {
        "id": "9eYJfed0aVN9"
      }
    },
    {
      "cell_type": "code",
      "source": [
        "from PIL import Image\n",
        "import PIL.ImageOps    \n",
        "\n",
        "image = Image.open('Bosch.jpg')\n",
        "#test = Image.open('bbS.jpg')\n",
        "\n",
        "inverted_image = PIL.ImageOps.invert(image)\n",
        "\n",
        "inverted_image.save('BoschI.jpg')"
      ],
      "metadata": {
        "id": "2X52EraK1nP4"
      },
      "execution_count": null,
      "outputs": []
    },
    {
      "cell_type": "code",
      "source": [
        "#wäre gut in invert funktion\n",
        "def closest_color(rgb):\n",
        "    r, g, b = rgb\n",
        "    color_diffs = []\n",
        "    for color in COLORS:\n",
        "        cr, cg, cb = color\n",
        "        color_diff = sqrt((r - cr)**2 + (g - cg)**2 + (b - cb)**2)\n",
        "        color_diffs.append((color_diff, color))\n",
        "    return min(color_diffs)[1]"
      ],
      "metadata": {
        "id": "lAHPwYJ-2klS"
      },
      "execution_count": null,
      "outputs": []
    },
    {
      "cell_type": "code",
      "source": [
        "from os import path\n",
        "from PIL import Image\n",
        "import numpy as np\n",
        "import matplotlib.pyplot as plt\n",
        "import os\n",
        "\n",
        "from wordcloud import WordCloud, STOPWORDS\n",
        "\n",
        "# get data directory (using getcwd() is needed to support running example in generated IPython notebook)\n",
        "d = path.dirname(__file__) if \"__file__\" in locals() else os.getcwd()\n",
        "\n",
        "# Read the whole text.\n",
        "text = keyW \n",
        "#'''Ich hab nun schon ein paar Python Progrämmchen geschrieben und stosse immer wieder auf das gleiche Problem, finde aber keine elegante Lösung dazu. Ich versuche, mich beim Coden möglichst an den Style Guide (PEP 8 - http://www.python.org/dev/peps/pep-0008/) zu halten. Dieser empfiehlt, die maximale Länge einer Zeile auf 79 Zeichen zu beschränken. Mein Problem ist nun das folgende: wie definiere ich am besten einen langen String? Beispiel:\n",
        "#CODE: ALLES AUSWÄHLEN'''\n",
        "\n",
        "#text = open(path.join(d, 'alice.txt')).read()\n",
        "\n",
        "# read the mask image\n",
        "# taken from\n",
        "# http://www.stencilry.org/stencils/movies/alice%20in%20wonderland/255fk.jpg\n",
        "alice_mask = np.array(Image.open(path.join(d, \"/content/BoschI.jpg\")).crop((250, 130, 850, 700)))#alice_mask.png\n",
        "#alice_mask = np.array(Image.open(path.join(d, \"/content/Bosch2.jpg\")).crop((10, 10, 800, 800)))\n",
        "#croppedIm = Image1.crop((130, 120, 200, 200)) \n",
        "stopwords = set(STOPWORDS)\n",
        "stopwords.add(\"said\")\n",
        "\n",
        "wc = WordCloud(background_color=\"white\", mode=\"RGBA\", max_words=200, max_font_size=18, mask=alice_mask,\n",
        "               stopwords=stopwords, contour_width=0, contour_color='steelblue')\n",
        "\n",
        "# generate word cloud\n",
        "wc.generate(text)\n",
        "\n",
        "# store to file\n",
        "wc.to_file(path.join(d, \"alice1.png\"))\n",
        "\n",
        "# show\n",
        "plt.imshow(wc, interpolation='bilinear')\n",
        "plt.axis(\"off\")\n",
        "plt.figure()\n",
        "plt.imshow(alice_mask, cmap=plt.cm.gray, interpolation='bilinear')\n",
        "plt.axis(\"off\")\n",
        "plt.show()\n",
        "\n",
        "#Wäre cool wenn wordcloud2 funktioniert...."
      ],
      "metadata": {
        "id": "rqV6jkpi3t87"
      },
      "execution_count": null,
      "outputs": []
    },
    {
      "cell_type": "code",
      "source": [
        "#Color mask wordcloud: https://www.datacamp.com/tutorial/wordcloud-python\n",
        "'''\n",
        "from wordcloud import WordCloud, STOPWORDS, ImageColorGenerator\n",
        "wordcloud_por = WordCloud(stopwords=stopwords, background_color=\"white\", max_words=200, mask=alice_mask).generate(text)\n",
        "\n",
        "# create coloring from image\n",
        "image_colors = ImageColorGenerator(alice_mask)\n",
        "plt.figure(figsize=[7,7])\n",
        "plt.imshow(wordcloud_por.recolor(color_func=image_colors), interpolation=\"bilinear\")\n",
        "plt.axis(\"off\")\n",
        "\n",
        "# store to file\n",
        "plt.savefig(\"imggg.png\", format=\"png\")\n",
        "#plt.show()\n",
        "'''"
      ],
      "metadata": {
        "id": "yCJAkXa-KYK1"
      },
      "execution_count": null,
      "outputs": []
    },
    {
      "cell_type": "code",
      "source": [
        "\n"
      ],
      "metadata": {
        "id": "_8k3ba-3j5cy"
      },
      "execution_count": null,
      "outputs": []
    },
    {
      "cell_type": "code",
      "source": [
        "\n",
        "def getKeysByValue(dictOfElements, valueToFind):\n",
        "    listOfKeys = list()\n",
        "    listOfItems = dictOfElements.items()\n",
        "    for item  in listOfItems:\n",
        "        if item[1] == valueToFind:\n",
        "            listOfKeys.append(item[0])\n",
        "    return  listOfKeys\n",
        "#d = dict()\n",
        "listOfKeys = getKeysByValue(d, 2)\n",
        "print(\"Keys with value equal to 7: \")\n",
        "#Iterate over the list of keys\n",
        "for key  in listOfKeys:\n",
        "        print(key)"
      ],
      "metadata": {
        "id": "stEfEL4Ukv2r"
      },
      "execution_count": null,
      "outputs": []
    },
    {
      "cell_type": "code",
      "source": [
        "from posixpath import join\n",
        "import pptx.util\n",
        "from PIL import Image\n",
        "\n",
        "#mind. eines von folgenden Modulen wird benötigt\n",
        "from pptx import Presentation\n",
        "from pptx.chart.data import ChartData\n",
        "from pptx.enum.chart import XL_CHART_TYPE, XL_LABEL_POSITION\n",
        "from pptx.enum.shapes import MSO_SHAPE_TYPE\n",
        "from pptx.util import Cm\n",
        "from pptx.dml.color import RGBColor\n",
        "\n",
        "REPLACEMENT_IMG=\"Herunterladen.jpg\"\n",
        "\n",
        "prs  = Presentation('/content/Vorlage.pptx')\n",
        "counter = 0\n",
        "'''\n",
        "x=shape.left\n",
        "y=shape.top\n",
        "width=shape.width\n",
        "height=shape.height\n",
        "'''\n",
        "Liste=np.empty((0,4),int)\n",
        "\n",
        "slide = prs.slides[2]\n",
        "pic = slide.shapes.add_picture(\"/content/kat.png\", 2000000, 1000000, 8000000, 4000000)\n",
        "\n",
        "for shape in prs.slides[3].shapes:\n",
        "  if not shape.has_text_frame:\n",
        "    slide = prs.slides[3]\n",
        "    t=[[shape.left,shape.top,shape.width,shape.height]]\n",
        "    Liste = np.append(Liste,t,axis=0)\n",
        "    pic = shape._element\n",
        "    pic.getparent().remove(pic)\n",
        "    print(type(shape))\n",
        "    #if counter==2:\n",
        "    #  shape.add_chart().chart#replace_data()\n",
        "\n",
        "    #print(shape.text)\n",
        "    counter+=1\n",
        "    continue\n",
        "\n",
        "  #print(type(shape))\n",
        "  #print(shape.text)\n",
        "\n",
        "\n",
        "  if \"Vaillant GmbH\" in shape.text:\n",
        "    shape.text_frame.paragraphs[0].runs[0].text = b0\n",
        "\n",
        "  if \"Unternehmenseckzahlen\" in shape.text:\n",
        "    print(len(shape.text_frame.paragraphs))\n",
        "    shape.text_frame.paragraphs[0].runs[0].text = shape.text_frame.paragraphs[0].runs[0].text.replace(\"2020\", e1)\n",
        "    shape.text_frame.paragraphs[1].runs[0].text = shape.text_frame.paragraphs[1].runs[0].text.replace(\"Remscheid\", c)\n",
        "    shape.text_frame.paragraphs[2].runs[0].text = shape.text_frame.paragraphs[2].runs[0].text.replace(\"2,7\", d2a)\n",
        "    shape.text_frame.paragraphs[3].runs[0].text = shape.text_frame.paragraphs[3].runs[0].text.replace(\"15.000\", d1a)\n",
        "    #shape.text_frame.paragraphs[4].runs[0].text = shape.text_frame.paragraphs[4].runs[0].text\n",
        "    for i in range(6,len(shape.text_frame.paragraphs)):\n",
        "      for j in range(0,len(shape.text_frame.paragraphs[i].runs)):\n",
        "        #print(\"i: \", i, \" j: \", j)\n",
        "        #print(shape.text_frame.paragraphs[i].runs[j].text)\n",
        "        shape.text_frame.paragraphs[i].runs[j].text = \"\"\n",
        "\n",
        "\n",
        "  if \"7 EU Projekte\" in shape.text:\n",
        "    text001=\"7 von 158\" + \" EU Projekte im Zeitraum von \" + str(Nulla) + \" - \" + str(Nullb) + \" mit einem \"\n",
        "    text002=\"EU-Zuschuss\"\n",
        "    text003=\" von insgesamt \"\n",
        "    text004=str(ggg) + \" Mio € (\"\n",
        "    text005=str(list(set(datacb))) + \"); Letztes Projekt \" + str(gg) + \"; Keine Projektkoordination; \" + str(cou) \\\n",
        "    + \" verschiedene Konsortialpartner in \" + str(len(set(dataca))) + \" Ländern.\"\n",
        "\n",
        "\n",
        "    shape.text = \"foobar\"\n",
        "    text_frame = shape.text_frame\n",
        "    text_frame.clear()\n",
        "    p = text_frame.paragraphs[0]\n",
        "\n",
        "    p.add_run().text = text001\n",
        "    p.runs[0].font.bold = False\n",
        "    p.add_run().text = text002\n",
        "    p.runs[1].font.bold = True\n",
        "    p.add_run().text = text003\n",
        "    p.runs[2].font.bold = False\n",
        "    p.add_run().text = text004\n",
        "    p.runs[3].font.bold = True\n",
        "    p.add_run().text = text005\n",
        "    p.runs[4].font.bold = False\n",
        "\n",
        "    print(\"jj: \", shape.text)\n",
        "\n",
        "    #print(shape.text_frame.paragraphs[0].runs[0].text)\n",
        "    #print(len(shape.text_frame.paragraphs[0].runs), \"LLLL\")\n",
        "    '''\n",
        "    shape.text = shape.text.replace(\"7 EU Projekte\", \"7 von 158 EU Projekte\")\n",
        "    shape.text = shape.text.replace(\"Zeitraum von 1.4.2012 - 30.9.2023\", \"Zeitraum von \" + str(Nulla) + str(Nullb))\n",
        "    shape.text = shape.text.replace(\"insgesamt 3,5\", \"insgesamt \" + str(ggg))\n",
        "    shape.text = shape.text.replace(\"(FP7 und H2020)\", \"(\"+str(list(set(datacb)))+\")\")\n",
        "    shape.text = shape.text.replace(\"Letztes Projekt 2019\", \"Letztes Projekt \" + str(gg))\n",
        "    shape.text = shape.text.replace(\"154 v\", str(cou) + \" v\")\n",
        "    shape.text = shape.text.replace(\"16 L\", str(len(set(dataca))) + \" L\")\n",
        "    '''\n",
        "    for paragraph in shape.text_frame.paragraphs:\n",
        "      paragraph.font.name = 'Thaoma'\n",
        "      paragraph.font.size = Pt(14)\n",
        "      paragraph.font.bold = True\n",
        "\n",
        "  if \"Ersten 5 EU-Kennwörter: \" in shape.text:\n",
        "\n",
        "    #for i in range(0,5):\n",
        "      #KeyString=\"K\"+str(i+1)\n",
        "      #print(\"33333: \", shape.text_frame.paragraphs[2].runs[3].text)\n",
        "      #print(KeyString)\n",
        "      #print(shape.text_frame.paragraphs[2].runs[4+i*2].text.replace(KeyString, Keywords[i]))\n",
        "      shape.text_frame.paragraphs[2].runs[3].text = \"1) \"+Keywords[0]+\" 2) \"+Keywords[1]+\" 3) \"+Keywords[2]+\" 4) \"+Keywords[3]+\" 5) \"+Keywords[4]\n",
        "      #print(Keywords[i])\n",
        "      #print(shape.text_frame.paragraphs[2].runs[4+i*2].text)\n",
        "    \n",
        "  if \"Unternehmenskennzahl):  \" in shape.text:\n",
        "    shape.text = shape.text.replace(str(986263312), pic0)\n",
        "    for paragraph in shape.text_frame.paragraphs:\n",
        "      paragraph.font.name = 'Thaoma'\n",
        "      paragraph.font.size = Pt(12)\n",
        "      paragraph.font.bold = False\n",
        "\n",
        "    '''\n",
        "    for i in range(0,len(shape.text_frame.paragraphs)):\n",
        "      for j in range(0,len(shape.text_frame.paragraphs[i].runs)):\n",
        "        print(\"i: \", i, \" j: \", j)\n",
        "        print(shape.text_frame.paragraphs[i].runs[j].text)\n",
        "    '''\n",
        "\n",
        "#shape = slide.shapes.add_chart(style, type, Liste[1][0], Liste[1][1], Liste[1][2], Liste[1][3])\n",
        "\n",
        "#pic = slide.shapes.add_picture(\"Herunterladen.jpg\", x, y, width, height)\n",
        "pic = slide.shapes.add_picture(\"/content/logo.png\", Liste[1][0], Liste[1][1], Liste[1][2], Liste[1][3])\n",
        "\n",
        "\n",
        "\n",
        "chart = slide.shapes.add_chart(XL_CHART_TYPE.COLUMN_CLUSTERED, Liste[3][0], Liste[3][1], Liste[3][2], Liste[3][3], chart_data)\n",
        "chart2 = slide.shapes.add_chart(XL_CHART_TYPE.BAR_CLUSTERED, Liste[2][0], Liste[2][1], Liste[2][2], Liste[2][3], chart_data2)\n",
        "\n",
        "chart.chart.category_axis.tick_labels.font.size = Pt(8)#100000\n",
        "chart.chart.category_axis.tick_labels.font.name = 'Thaoma'\n",
        "chart.chart.has_title = False\n",
        "chart.chart.series[0].format.fill.solid()\n",
        "chart.chart.series[0].format.fill.fore_color.rgb = RGBColor(0,60,100)\n",
        "#chart.chart.vary_by_categories = False\n",
        "\n",
        "chart2.chart.category_axis.tick_labels.font.size = Pt(8)#100000\n",
        "chart2.chart.category_axis.tick_labels.font.name = 'Thaoma'\n",
        "chart2.chart.has_title = False\n",
        "chart2.chart.series[0].format.fill.solid()\n",
        "chart2.chart.series[0].format.fill.fore_color.rgb = RGBColor(0,60,100)\n",
        "\n",
        "#Seite 4:\n",
        "counter = 0\n",
        "counter2 = 0\n",
        "Liste1=np.empty((0,4),int)\n",
        "for shape in prs.slides[4].shapes:\n",
        "  if shape.has_text_frame:\n",
        "    #print(counter2, shape.text)\n",
        "    if \"Vaillant GmbH\" in shape.text:\n",
        "      shape.text_frame.paragraphs[0].runs[0].text = b0\n",
        "    if counter2 >= 5 and counter2 <= 11:\n",
        "      shape.text = \"foobar\"\n",
        "      text_frame = shape.text_frame\n",
        "      text_frame.clear()\n",
        "      p = text_frame.paragraphs[0]\n",
        "      \n",
        "      p.add_run().text = dataS4[counter2-5] + \"\\n\"\n",
        "      p.runs[0].font.color.rgb = RGBColor(80,95,100)#0x3F, 0x2c, 0x36)\n",
        "      p.runs[0].font.name = 'Thaoma'\n",
        "      p.runs[0].font.bold = True\n",
        "      p.runs[0].font.size = Pt(12)\n",
        "      p.add_run().text = \"Gesamtvolumen  \" + str(round(float(dataS4w[counter2-5])/1000000.0,1)) + \" Mio € | EU-Förderquote \" +\\\n",
        "      str(round(100*float(dataS4q[counter2-5])/float(dataS4w[counter2-5]),1)) + \"% | \" + str(round(dataS4e[counter2-5])) + \" Konsortialpartner\"\n",
        "      #print(\"Gesamtvolumen  \" + str(round(float(dataS4w[counter2-5])/1000000.0,1)) + \" Mio € | EU-Förderquote \" +\\\n",
        "      #str(round(100*float(dataS4q[counter2-5])/float(dataS4w[counter2-5]),1)) + \"% | \" + str(round(dataS4e[counter2-5])) + \" Konsortialpartner\")\n",
        "      p.runs[1].font.color.rgb = RGBColor(80,95,100)#0x3F, 0x2c, 0x36)\n",
        "      p.runs[1].font.bold = False\n",
        "      p.runs[1].font.size = Pt(12)\n",
        "      #print(shape.text)\n",
        "    counter2 += 1\n",
        "\n",
        "  #Namen in dataS4 gespeichert\n",
        "\n",
        "  #print(shape)\n",
        "  if not shape.has_text_frame:\n",
        "    #if counter == 1:\n",
        "    #print(\"qqq\", shape)\n",
        "    slide = prs.slides[4]\n",
        "    t=[[shape.left,shape.top,shape.width,shape.height]]\n",
        "    #print(t)\n",
        "    Liste1 = np.append(Liste1,t,axis=0)\n",
        "    pic = shape._element\n",
        "    pic.getparent().remove(pic)\n",
        "\n",
        "    counter+=1\n",
        "    continue\n",
        "\n",
        "#print(\"hhh: \", Liste1)\n",
        "pic = slide.shapes.add_picture(\"/content/wordC.png\", Liste1[1][0], Liste1[1][1], Liste1[1][2], Liste1[1][3]) #wordC.png\n",
        "\n",
        "#Seite5\n",
        "'''\n",
        "counter5=0\n",
        "slide = prs.slides[5]\n",
        "for shape in prs.slides[5].shapes:\n",
        "  if shape.shape_type == MSO_SHAPE_TYPE.GROUP:\n",
        "    for s in shape:\n",
        "      print(s.text)\n",
        "\n",
        "\n",
        "\n",
        "group_shapes = [\n",
        "  shape for shape in slide.shapes\n",
        "  if shape.shape_type == MSO_SHAPE_TYPE.GROUP\n",
        "]\n",
        "print(len(group_shapes))\n",
        "\n",
        "for group_shape in group_shapes:\n",
        "  for shape in group_shape.shapes:\n",
        "    if shape.has_text_frame:\n",
        "      print(shape.text)\n",
        "\n",
        "'''\n",
        "\n",
        "#print(group_shapes)\n",
        "#print(group_shapes.text)\n",
        "'''\n",
        "  for group_shape in group_shapes:\n",
        "        for shape in group_shape.shapes:\n",
        "            if shape.has_text_frame:\n",
        "                print(shape.text)\n",
        "'''\n",
        "#counteer=0\n",
        "bool1=True\n",
        "for shape in prs.slides[5].shapes:\n",
        "  #counter5+=1\n",
        "  #print(\"TEST: \", counter5, shape)\n",
        "  if shape.has_text_frame:\n",
        "    #print(\"TEEEST: \", counter5, shape.text)\n",
        "    print(\"RRR: \", shape.text)\n",
        "    if \"Vaillant GmbH\" in shape.text:\n",
        "      shape.text_frame.paragraphs[0].runs[0].text = b0\n",
        "\n",
        "    '''\n",
        "    if \"COMTES\" in shape.text:\n",
        "      shape.text_frame.paragraphs[0].runs[0].text = str(mT[0])+str(qyT[0])\n",
        "    if \"ene.field\" in shape.text:\n",
        "      shape.text_frame.paragraphs[0].runs[0].text = str(mT[1])+str(qyT[1])\n",
        "    if \"iNSPiRe\" in shape.text:\n",
        "      shape.text_frame.paragraphs[0].runs[0].text = str(mT[2])+str(qyT[2])\n",
        "    if \"CREATE\" in shape.text:\n",
        "      shape.text_frame.paragraphs[0].runs[0].text = str(mT[3])+str(qyT[3])\n",
        "    if \"HEATSTACK\" in shape.text:\n",
        "      shape.text_frame.paragraphs[0].runs[0].text = str(mT[4])+str(qyT[4])\n",
        "    if \"PACE\" in shape.text:\n",
        "      shape.text_frame.paragraphs[0].runs[0].text = str(mT[5])+str(qyT[5])\n",
        "    if \"InterConnect\" in shape.text:\n",
        "      shape.text_frame.paragraphs[0].runs[0].text = str(mT[6])+str(qyT[6])\n",
        "    '''\n",
        "\n",
        "    if bool1==True:\n",
        "      h = shape.text_frame.add_paragraph()\n",
        "      h.text = \"AKRO: \" + str(mT)\n",
        "      h = shape.text_frame.add_paragraph()\n",
        "      h.text = \"nonEcContribution: \" + str(mT1)\n",
        "      h = shape.text_frame.add_paragraph()\n",
        "      h.text = \"nonEcContribution: \" + str(mT2)\n",
        "      h = shape.text_frame.add_paragraph()\n",
        "      h.text = \"VON: \" + str(datesa)\n",
        "      h = shape.text_frame.add_paragraph()\n",
        "      h.text = \"BIS: \" + str(datesb)\n",
        "      hh = shape.text_frame.add_paragraph()\n",
        "      hh.text = \"ZSM: \" + str(qyT)\n",
        "      bool1=False\n",
        "      print(qyT)\n",
        "\n",
        "#Seite6\n",
        "counter = 0\n",
        "counter2 = 0\n",
        "Liste6=np.empty((0,4),int)\n",
        "dict6 = dict()\n",
        "for shape in prs.slides[6].shapes:\n",
        "  if not shape.has_text_frame and counter2 <2:\n",
        "    slide = prs.slides[6]\n",
        "    t=[[shape.left,shape.top,shape.width,shape.height]]\n",
        "    Liste6 = np.append(Liste6,t,axis=0)\n",
        "    pic = shape._element\n",
        "    pic.getparent().remove(pic)\n",
        "    print(\"REMOVE\")\n",
        "    print(type(shape))\n",
        "    counter2+=1\n",
        "    continue\n",
        "  if shape.has_text_frame:\n",
        "    #print(shape.text)\n",
        "    if \"Vaillant GmbH\" in shape.text:\n",
        "      shape.text_frame.paragraphs[0].runs[0].text = b0\n",
        "    if \"Partner in einem\" in shape.text or \"Partner in zwei\" in shape.text or \"Partner in drei\" in shape.text:\n",
        "      shape.text = \"foobar\"\n",
        "      text_frame = shape.text_frame\n",
        "      text_frame.clear()\n",
        "      #p = text_frame.paragraphs[0]\n",
        "    if \"Zusammenarbeit in 3\" in shape.text:\n",
        "      shape.text = \"foobar\"\n",
        "      text_frame = shape.text_frame\n",
        "      text_frame.clear()\n",
        "\n",
        "      for o in reversed(range(1,7)):\n",
        "        #print(o)\n",
        "        if o in d.values():\n",
        "          text_frame.add_paragraph()\n",
        "          p = text_frame.paragraphs[2*counter]#2*counter\n",
        "          p.level = 0\n",
        "          p.add_run().text = \"Zusammenarbeit in \" + str(o) + \" von 7 Projekten\" + \"\\n\"\n",
        "          p.runs[0].font.color.rgb = RGBColor(80,95,100)#0x3F, 0x2c, 0x36)\n",
        "          p.runs[0].font.name = 'Thaoma'\n",
        "          p.runs[0].font.bold = True\n",
        "          p.runs[0].font.size = Pt(14)\n",
        "          text_frame.add_paragraph()\n",
        "          p = text_frame.paragraphs[2*counter+1]\n",
        "          p.level = 1\n",
        "          p.add_run().text = str(getKeysByValue(d, o)) + \"\\n\"\n",
        "          p.runs[0].font.color.rgb = RGBColor(80,95,100)#0x3F, 0x2c, 0x36)\n",
        "          p.runs[0].font.name = 'Thaoma'\n",
        "          p.runs[0].font.bold = True\n",
        "          p.runs[0].font.size = Pt(12)\n",
        "          dict6.update({str(o): str(getKeysByValue(d, o))})\n",
        "          #Liste6b = np.append(Liste6b,t,axis=0)\n",
        "          counter += 1\n",
        "        if o==1:\n",
        "          text_frame.add_paragraph()\n",
        "          p = text_frame.paragraphs[2*counter]\n",
        "          p.level = 0\n",
        "          p.add_run().text = \"Mit den übrigen \" + str(len(PartiSet) - len(Partix)) + \" der insgesamt \"+ str(len(PartiSet)) +\" Projektpartnern wurde jeweils nur in einem Projekt zusammengearbeitet.\"\n",
        "          #\"Zusammenarbeit in \" + str(o) + \" von 7 Projekten\" + \"\\n\"\n",
        "          p.runs[0].font.color.rgb = RGBColor(80,95,100)#0x3F, 0x2c, 0x36)\n",
        "          p.runs[0].font.name = 'Thaoma'\n",
        "          p.runs[0].font.bold = True\n",
        "          p.runs[0].font.size = Pt(14)\n",
        "#print(\"aa\")\n",
        "\n",
        "print(Liste6, Liste6.shape)\n",
        "chart3 = prs.slides[6].shapes.add_chart(XL_CHART_TYPE.PIE_EXPLODED, Liste6[1][0], Liste6[1][1], Liste6[1][2]+100, Liste6[1][3]+100, chart_data3)\n",
        "#chart3.chart.category_axis.tick_labels.font.size = Pt(8)#100000\n",
        "#chart3.chart.category_axis.tick_labels.font.name = 'Thaoma'\n",
        "chart3.chart.has_title = False\n",
        "chart3.chart.series[0].format.fill.solid()\n",
        "chart3.chart.series[0].format.fill.fore_color.rgb = RGBColor(0,60,100)\n",
        "#chart.chart.vary_by_categories = False\n",
        "chart3.chart.series[0].data_labels.show_category_name = True\n",
        "chart3.chart.series[0].data_labels.position = XL_LABEL_POSITION.BEST_FIT#OUTSIDE_END\n",
        "chart3.chart.series[0].data_labels.font.color.rgb = RGBColor(80,95,100)\n",
        "#Partix\n",
        "\n",
        "#2.Teil:\n",
        "name1=\"H2020\"\n",
        "name2=\"COMTES\"\n",
        "name3=\"abgeschlossen\"\n",
        "for p in range(0,8):\n",
        "  for shape in prs.slides[9+p*2].shapes:\n",
        "    if shape.has_text_frame:\n",
        "      #print(shape.text)\n",
        "      if \"Vaillant GmbH\" in shape.text:#Vaillant GmbH: H2020-Projekt COMTES (abgeschlossen)\n",
        "        shape.text_frame.paragraphs[0].runs[0].text = b0 + qyT[p]#\": \"+name1+\"-Projekt \"+name2+\" (\"+name3+\")\"\n",
        "      if \"The COMTES project\" in shape.text:\n",
        "        shape.text_frame.paragraphs[0].runs[0].text = qy[p]\n",
        "      if \"gghh\" in shape.text:\n",
        "        z = shape.text_frame.paragraphs[0].runs[0]\n",
        "        z.text = 'link to data @ cordis'\n",
        "        hlink = z.hyperlink\n",
        "        hlink.address = 'https://cordis.europa.eu/project/id/' + str(RB_ID[p]) \n",
        "        #r = shape.text_frame.paragraphs[0].add_run()#.runs[0]\n",
        "        #r.text = \n",
        "        #r.hyperlink.adress = 'https://cordis.europa.eu/project/id/' + str(RB_ID[p])\n",
        "\n",
        "'''\n",
        "r = p.add_run()\n",
        "r.text = 'https://cordis.europa.eu/project/id/' + BllA\n",
        "hlink = r.hyperlink\n",
        "hlink.address = 'https://github.com/scanny/python-pptx'\n",
        "'''\n",
        "\n",
        "#chart.set_x_axis({'name': 'Index', 'num_font':  {'rotation': 45}})\n",
        "#{'type': 'column'}\n",
        "print(\"Position not shape.has_text_frame\", Liste)\n",
        "prs.save(\"testp.pptx\") # save changes"
      ],
      "metadata": {
        "id": "tfjpLavOQTSm"
      },
      "execution_count": null,
      "outputs": []
    },
    {
      "cell_type": "code",
      "source": [
        "#PIE Chart\n",
        "'''\n",
        "from pptx import Presentation\n",
        "from pptx.chart.data import ChartData\n",
        "from pptx.enum.chart import XL_CHART_TYPE, XL_LABEL_POSITION\n",
        "from pptx.util import Inches\n",
        "\n",
        "# create presentation with 1 slide ------\n",
        "prs = Presentation()\n",
        "slide = prs.slides.add_slide(prs.slide_layouts[5])\n",
        "\n",
        "chart_data = ChartData()\n",
        "chart_data.categories = ['West', 'East', 'North', 'South', 'Other']\n",
        "chart_data.add_series('Series 1', (0.135, 0.324, 0.180, 0.235, 0.126))\n",
        "\n",
        "x, y, cx, cy = Inches(2), Inches(2), Inches(6), Inches(4.5)\n",
        "chart = slide.shapes.add_chart(\n",
        "    XL_CHART_TYPE.PIE, x, y, cx, cy, chart_data\n",
        ").chart\n",
        "\n",
        "chart.has_legend = False\n",
        "\n",
        "# set labels to contain category and value\n",
        "for i in range(len(chart_data.categories)):\n",
        "    point = chart.series[0].points[i]\n",
        "    point.data_label.text_frame.text = \"{}: {:.0%}\".format(chart_data.categories[i].label, chart.series[0].values[i])\n",
        "    point.data_label.position = XL_LABEL_POSITION.OUTSIDE_END\n",
        "\n",
        "prs.save('chart-01.pptx')\n",
        "'''"
      ],
      "metadata": {
        "id": "RBtQ4JjrM4r8"
      },
      "execution_count": null,
      "outputs": []
    }
  ],
  "metadata": {
    "colab": {
      "collapsed_sections": [],
      "name": "Willkommen bei Colaboratory",
      "provenance": [],
      "include_colab_link": true
    },
    "kernelspec": {
      "display_name": "Python 3",
      "name": "python3"
    }
  },
  "nbformat": 4,
  "nbformat_minor": 0
}